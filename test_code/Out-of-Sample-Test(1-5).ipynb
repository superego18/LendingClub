{
 "cells": [
  {
   "cell_type": "markdown",
   "id": "12968b3d",
   "metadata": {
    "id": "12968b3d"
   },
   "source": [
    "# DecisionTree"
   ]
  },
  {
   "cell_type": "markdown",
   "id": "41cdb267",
   "metadata": {
    "id": "41cdb267"
   },
   "source": [
    "## 모듈 불러오기"
   ]
  },
  {
   "cell_type": "code",
   "execution_count": 1,
   "id": "72dc513f",
   "metadata": {
    "executionInfo": {
     "elapsed": 3007,
     "status": "ok",
     "timestamp": 1678804401653,
     "user": {
      "displayName": "찬주ing",
      "userId": "03178064690276834234"
     },
     "user_tz": -540
    },
    "id": "72dc513f"
   },
   "outputs": [],
   "source": [
    "\n",
    "from sklearn.tree import DecisionTreeClassifier\n",
    "from sklearn.model_selection import KFold, GridSearchCV, RandomizedSearchCV, cross_val_score\n",
    "from sklearn.metrics import make_scorer, confusion_matrix, roc_curve, auc, f1_score, accuracy_score, precision_score, recall_score, log_loss\n",
    "from sklearn.preprocessing import StandardScaler, Binarizer\n",
    "import matplotlib.pyplot as plt\n",
    "import numpy as np\n",
    "import pandas as pd\n",
    "import seaborn as sns"
   ]
  },
  {
   "cell_type": "markdown",
   "id": "56ee021e",
   "metadata": {
    "id": "56ee021e"
   },
   "source": [
    "## 테스트 데이터 10개로 분할"
   ]
  },
  {
   "cell_type": "code",
   "execution_count": 2,
   "id": "c6e59834",
   "metadata": {
    "colab": {
     "base_uri": "https://localhost:8080/",
     "height": 241
    },
    "executionInfo": {
     "elapsed": 9,
     "status": "error",
     "timestamp": 1678804403880,
     "user": {
      "displayName": "찬주ing",
      "userId": "03178064690276834234"
     },
     "user_tz": -540
    },
    "id": "c6e59834",
    "outputId": "32dcb13f-cea5-41d9-8e47-d53c30f38e2b"
   },
   "outputs": [
    {
     "ename": "NameError",
     "evalue": "ignored",
     "output_type": "error",
     "traceback": [
      "\u001b[0;31m---------------------------------------------------------------------------\u001b[0m",
      "\u001b[0;31mNameError\u001b[0m                                 Traceback (most recent call last)",
      "\u001b[0;32m<ipython-input-2-3b95762ad783>\u001b[0m in \u001b[0;36m<module>\u001b[0;34m\u001b[0m\n\u001b[1;32m      8\u001b[0m \u001b[0;34m\u001b[0m\u001b[0m\n\u001b[1;32m      9\u001b[0m \u001b[0;32mfor\u001b[0m \u001b[0mi\u001b[0m \u001b[0;32min\u001b[0m \u001b[0mrange\u001b[0m\u001b[0;34m(\u001b[0m\u001b[0mnum_splits\u001b[0m\u001b[0;34m)\u001b[0m\u001b[0;34m:\u001b[0m\u001b[0;34m\u001b[0m\u001b[0;34m\u001b[0m\u001b[0m\n\u001b[0;32m---> 10\u001b[0;31m     \u001b[0mX_train\u001b[0m\u001b[0;34m,\u001b[0m \u001b[0mX_test\u001b[0m\u001b[0;34m,\u001b[0m \u001b[0my_train\u001b[0m\u001b[0;34m,\u001b[0m \u001b[0my_test\u001b[0m \u001b[0;34m=\u001b[0m \u001b[0mtrain_test_split\u001b[0m\u001b[0;34m(\u001b[0m\u001b[0mX\u001b[0m\u001b[0;34m,\u001b[0m \u001b[0my\u001b[0m\u001b[0;34m,\u001b[0m \u001b[0mtest_size\u001b[0m\u001b[0;34m=\u001b[0m\u001b[0;36m0.1\u001b[0m\u001b[0;34m,\u001b[0m \u001b[0mrandom_state\u001b[0m\u001b[0;34m=\u001b[0m\u001b[0mi\u001b[0m\u001b[0;34m)\u001b[0m\u001b[0;34m\u001b[0m\u001b[0;34m\u001b[0m\u001b[0m\n\u001b[0m\u001b[1;32m     11\u001b[0m     \u001b[0mtrain_test_indices\u001b[0m\u001b[0;34m.\u001b[0m\u001b[0mappend\u001b[0m\u001b[0;34m(\u001b[0m\u001b[0;34m(\u001b[0m\u001b[0mX_train\u001b[0m\u001b[0;34m,\u001b[0m \u001b[0mX_test\u001b[0m\u001b[0;34m,\u001b[0m \u001b[0my_train\u001b[0m\u001b[0;34m,\u001b[0m \u001b[0my_test\u001b[0m\u001b[0;34m)\u001b[0m\u001b[0;34m)\u001b[0m\u001b[0;34m\u001b[0m\u001b[0;34m\u001b[0m\u001b[0m\n\u001b[1;32m     12\u001b[0m \u001b[0;34m\u001b[0m\u001b[0m\n",
      "\u001b[0;31mNameError\u001b[0m: name 'X' is not defined"
     ]
    }
   ],
   "source": [
    "from sklearn.model_selection import train_test_split\n",
    "import numpy as np\n",
    "\n",
    "\n",
    "num_splits = 10\n",
    "\n",
    "train_test_indices = []\n",
    "\n",
    "for i in range(num_splits):\n",
    "    X_train, X_test, y_train, y_test = train_test_split(X, y, test_size=0.1, random_state=i)\n",
    "    train_test_indices.append((X_train, X_test, y_train, y_test))\n",
    "\n",
    "for i, (X_train, X_test, y_train, y_test) in enumerate(train_test_indices):\n",
    "    print(\"Split \", i+1, X_train.shape,X_test.shape,y_train.shape,y_test.shape)\n",
    "    globals()['X_test_{}'.format(i)]  = pd.concat([X_train, X_test], axis = 0)\n",
    "    globals()['y_test_{}'.format(i)]  = pd.concat([y_train, y_test], axis = 0)\n",
    "\n",
    "if train_test_indices[0] == train_test_indices[1]:\n",
    "  print('o')"
   ]
  },
  {
   "cell_type": "code",
   "execution_count": null,
   "id": "4c8141cb",
   "metadata": {
    "id": "4c8141cb"
   },
   "outputs": [],
   "source": [
    "for i in range(10):\n",
    "     globals()['X_test_{}'.format(i)].to_csv('X_test_'+str(i+1)+'.csv')\n",
    "     globals()['y_test_{}'.format(i)].to_csv('y_test_'+str(i+1)+'.csv')\n"
   ]
  },
  {
   "cell_type": "markdown",
   "id": "22d0daaf",
   "metadata": {
    "id": "22d0daaf"
   },
   "source": [
    "## 데이터 불러오기"
   ]
  },
  {
   "cell_type": "code",
   "execution_count": 3,
   "id": "ef3512ef",
   "metadata": {
    "id": "ef3512ef"
   },
   "outputs": [],
   "source": [
    "test = pd.read_csv('test_179378.csv')\n",
    "train = pd.read_csv('train_538132.csv')\n",
    "validation = pd.read_csv('validation_179377.csv')\n",
    "\n",
    "train = train.drop(['Unnamed: 0'], axis=1)\n",
    "val = validation.drop(['Unnamed: 0'], axis=1)\n",
    "test = test.drop(['Unnamed: 0'], axis=1)\n",
    "\n",
    "df_train = pd.concat([pd.concat([train,val],axis = 0),test],axis=0)\n",
    "\n",
    "test = pd.read_csv('preprocessed_test.csv')\n",
    "X_test_1 = pd.read_csv('X_test_1.csv',index_col = 0)\n",
    "y_test_1 = pd.read_csv('y_test_1.csv',index_col = 0)\n",
    "\n",
    "X_test_2 = pd.read_csv('X_test_2.csv',index_col = 0)\n",
    "y_test_2 = pd.read_csv('y_test_2.csv',index_col = 0)\n",
    "\n",
    "X_test_3 = pd.read_csv('X_test_3.csv',index_col = 0)\n",
    "y_test_3 = pd.read_csv('y_test_3.csv',index_col = 0)\n",
    "\n",
    "X_test_4 = pd.read_csv('X_test_4.csv',index_col = 0)\n",
    "y_test_4 = pd.read_csv('y_test_4.csv',index_col = 0)\n",
    "\n",
    "X_test_5 = pd.read_csv('X_test_5.csv',index_col = 0)\n",
    "y_test_5 = pd.read_csv('y_test_5.csv',index_col = 0)\n",
    "\n",
    "X= test.drop(['target'],axis=1)\n",
    "y = test['target']\n"
   ]
  },
  {
   "cell_type": "markdown",
   "id": "367fa48c",
   "metadata": {
    "id": "367fa48c"
   },
   "source": [
    "## 모델 학습"
   ]
  },
  {
   "cell_type": "code",
   "execution_count": 4,
   "id": "98fa8266",
   "metadata": {
    "id": "98fa8266"
   },
   "outputs": [],
   "source": [
    "X_train = df_train.drop(['depvar'],axis=1)\n",
    "y_train = df_train['depvar']\n",
    "dt = DecisionTreeClassifier(max_depth=5, min_samples_split=20).fit(X_train,y_train)\n"
   ]
  },
  {
   "cell_type": "code",
   "execution_count": 5,
   "id": "e968f54e",
   "metadata": {
    "id": "e968f54e"
   },
   "outputs": [],
   "source": [
    "predict_1= dt.predict(X_test_1)\n",
    "predict_2= dt.predict(X_test_2)\n",
    "predict_3= dt.predict(X_test_3)\n",
    "predict_4= dt.predict(X_test_4)\n",
    "predict_5= dt.predict(X_test_5)\n"
   ]
  },
  {
   "cell_type": "code",
   "execution_count": 6,
   "id": "817221f1",
   "metadata": {
    "id": "817221f1",
    "outputId": "d9f721f7-60ab-4b26-c401-70fa099458dd"
   },
   "outputs": [
    {
     "name": "stderr",
     "output_type": "stream",
     "text": [
      "C:\\ProgramData\\Anaconda3\\lib\\site-packages\\sklearn\\metrics\\_classification.py:1318: UndefinedMetricWarning: Precision is ill-defined and being set to 0.0 due to no predicted samples. Use `zero_division` parameter to control this behavior.\n",
      "  _warn_prf(average, modifier, msg_start, len(result))\n"
     ]
    },
    {
     "name": "stdout",
     "output_type": "stream",
     "text": [
      "1번째 데이터셋 \n",
      " 정확도: 0.839130483300414, 정밀도도: 0.0, 재현율율: 0.0\n",
      "[[150394      0]\n",
      " [ 28832      0]]\n"
     ]
    },
    {
     "name": "stderr",
     "output_type": "stream",
     "text": [
      "C:\\ProgramData\\Anaconda3\\lib\\site-packages\\sklearn\\metrics\\_classification.py:1318: UndefinedMetricWarning: Precision is ill-defined and being set to 0.0 due to no predicted samples. Use `zero_division` parameter to control this behavior.\n",
      "  _warn_prf(average, modifier, msg_start, len(result))\n"
     ]
    },
    {
     "name": "stdout",
     "output_type": "stream",
     "text": [
      "2번째 데이터셋 \n",
      " 정확도: 0.839130483300414, 정밀도도: 0.0, 재현율율: 0.0\n",
      "[[150394      0]\n",
      " [ 28832      0]]\n"
     ]
    },
    {
     "name": "stderr",
     "output_type": "stream",
     "text": [
      "C:\\ProgramData\\Anaconda3\\lib\\site-packages\\sklearn\\metrics\\_classification.py:1318: UndefinedMetricWarning: Precision is ill-defined and being set to 0.0 due to no predicted samples. Use `zero_division` parameter to control this behavior.\n",
      "  _warn_prf(average, modifier, msg_start, len(result))\n"
     ]
    },
    {
     "name": "stdout",
     "output_type": "stream",
     "text": [
      "3번째 데이터셋 \n",
      " 정확도: 0.839130483300414, 정밀도도: 0.0, 재현율율: 0.0\n",
      "[[150394      0]\n",
      " [ 28832      0]]\n"
     ]
    },
    {
     "name": "stderr",
     "output_type": "stream",
     "text": [
      "C:\\ProgramData\\Anaconda3\\lib\\site-packages\\sklearn\\metrics\\_classification.py:1318: UndefinedMetricWarning: Precision is ill-defined and being set to 0.0 due to no predicted samples. Use `zero_division` parameter to control this behavior.\n",
      "  _warn_prf(average, modifier, msg_start, len(result))\n"
     ]
    },
    {
     "name": "stdout",
     "output_type": "stream",
     "text": [
      "4번째 데이터셋 \n",
      " 정확도: 0.839130483300414, 정밀도도: 0.0, 재현율율: 0.0\n",
      "[[150394      0]\n",
      " [ 28832      0]]\n"
     ]
    },
    {
     "name": "stderr",
     "output_type": "stream",
     "text": [
      "C:\\ProgramData\\Anaconda3\\lib\\site-packages\\sklearn\\metrics\\_classification.py:1318: UndefinedMetricWarning: Precision is ill-defined and being set to 0.0 due to no predicted samples. Use `zero_division` parameter to control this behavior.\n",
      "  _warn_prf(average, modifier, msg_start, len(result))\n"
     ]
    },
    {
     "name": "stdout",
     "output_type": "stream",
     "text": [
      "5번째 데이터셋 \n",
      " 정확도: 0.839130483300414, 정밀도도: 0.0, 재현율율: 0.0\n",
      "[[150394      0]\n",
      " [ 28832      0]]\n"
     ]
    }
   ],
   "source": [
    "\n",
    "for i in range(1,6):\n",
    "    \n",
    "    accuracy = accuracy_score(globals()['y_test_{}'.format(i)], globals()['predict_{}'.format(i)])\n",
    "    precision = precision_score(globals()['y_test_{}'.format(i)], globals()['predict_{}'.format(i)])\n",
    "    recall = recall_score(globals()['y_test_{}'.format(i)], globals()['predict_{}'.format(i)])\n",
    "    conf_matrix = confusion_matrix(globals()['y_test_{}'.format(i)], globals()['predict_{}'.format(i)])\n",
    "    print('{0}번째 데이터셋 \\n 정확도: {1}, 정밀도도: {2}, 재현율율: {3}'.format(i,accuracy, precision, recall))\n",
    "    print(conf_matrix)"
   ]
  },
  {
   "cell_type": "markdown",
   "id": "1c7a22b0",
   "metadata": {
    "id": "1c7a22b0"
   },
   "source": [
    "## 확률로 확인"
   ]
  },
  {
   "cell_type": "code",
   "execution_count": 7,
   "id": "88f7573c",
   "metadata": {
    "id": "88f7573c"
   },
   "outputs": [],
   "source": [
    "y_pred_proba = []\n",
    "for i in range(1,6):\n",
    "    pred_proba = dt.predict_proba(globals()['X_test_{}'.format(i)])\n",
    "    y_pred_proba.append(pred_proba)\n"
   ]
  },
  {
   "cell_type": "code",
   "execution_count": 8,
   "id": "c822b773",
   "metadata": {
    "id": "c822b773",
    "outputId": "dc2d1966-ce60-4821-b0b1-8b1f2b7953b0"
   },
   "outputs": [
    {
     "name": "stderr",
     "output_type": "stream",
     "text": [
      "No artists with labels found to put in legend.  Note that artists whose label start with an underscore are ignored when legend() is called with no argument.\n"
     ]
    },
    {
     "data": {
      "image/png": "[encoded data removed]",
      "text/plain": [
       "<Figure size 864x576 with 5 Axes>"
      ]
     },
     "metadata": {
      "needs_background": "light"
     },
     "output_type": "display_data"
    }
   ],
   "source": [
    "plt.figure(figsize=(12,8))\n",
    "for i in range(5):\n",
    "    \n",
    "    plt.subplot(2, 3, i+1)                # nrows=2, ncols=1, index=1\n",
    "    plt.hist(y_pred_proba[i][:,1], bins=100)\n",
    "    \n",
    "\n",
    "    plt.xlabel('y_pred_proba'+str(i+1))\n",
    "    plt.ylabel('Frequency')\n",
    "\n",
    "plt.legend()\n",
    "plt.tight_layout()\n",
    "#plt.savefig(\"%s_opt_threshold_%s.png\"%(model_name, datetime.datetime.now().strftime(\"%m%d%H%M%S\")), dpi=300, bbox_inches='tight')\n",
    "\n",
    "plt.show()"
   ]
  },
  {
   "cell_type": "code",
   "execution_count": null,
   "id": "5cc0f262",
   "metadata": {
    "id": "5cc0f262"
   },
   "outputs": [],
   "source": [
    "y_pred_proba[4]"
   ]
  },
  {
   "cell_type": "markdown",
   "id": "4f2f31cd",
   "metadata": {
    "id": "4f2f31cd"
   },
   "source": [
    "## Threshold 확인"
   ]
  },
  {
   "cell_type": "code",
   "execution_count": null,
   "id": "7673df4e",
   "metadata": {
    "id": "7673df4e"
   },
   "outputs": [],
   "source": []
  },
  {
   "cell_type": "code",
   "execution_count": 9,
   "id": "e7f134ae",
   "metadata": {
    "id": "e7f134ae",
    "outputId": "4f3f3cf0-dacc-40c4-ab1a-f5b3cf9f6fe8",
    "scrolled": true
   },
   "outputs": [
    {
     "name": "stderr",
     "output_type": "stream",
     "text": [
      "No artists with labels found to put in legend.  Note that artists whose label start with an underscore are ignored when legend() is called with no argument.\n"
     ]
    },
    {
     "data": {
      "image/png": "[encoded data removed]",
      "text/plain": [
       "<Figure size 864x576 with 5 Axes>"
      ]
     },
     "metadata": {
      "needs_background": "light"
     },
     "output_type": "display_data"
    }
   ],
   "source": [
    "OPT_threshold=0.12666666666666668\n",
    "\n",
    "plt.figure(figsize=(12,8))\n",
    "\n",
    "for i in range(5):\n",
    "    plt.subplot(2, 3, i+1)                # nrows=2, ncols=1, index=1\n",
    "    plt.hist(y_pred_proba[i][:,1], bins=100)\n",
    "    plt.axvline(x=OPT_threshold, color='navy', linewidth=2)\n",
    "\n",
    "    plt.xlabel('y_pred_proba'+str(i+1))\n",
    "    plt.ylabel('Frequency')\n",
    "\n",
    "\n",
    "plt.title('Optimal Threshold of DecisionTree')\n",
    "\n",
    "plt.legend()\n",
    "plt.tight_layout()\n",
    "#plt.savefig(\"%s_opt_threshold_%s.png\"%(model_name, datetime.datetime.now().strftime(\"%m%d%H%M%S\")), dpi=300, bbox_inches='tight')\n",
    "\n",
    "plt.show() # y_val_pred_proba의 분포 확인"
   ]
  },
  {
   "cell_type": "code",
   "execution_count": 10,
   "id": "9d60f193",
   "metadata": {
    "id": "9d60f193"
   },
   "outputs": [],
   "source": [
    "def test_func(y_test, y_pred_proba, opt_threshold,model_name):\n",
    "        \n",
    "    # make Binarizer(y hat)\n",
    "    binarizer = Binarizer(threshold = opt_threshold).fit(y_pred_proba[:,1].reshape(-1,1))\n",
    "    custom_predict = binarizer.transform(y_pred_proba[:,1].reshape(-1,1))\n",
    "\n",
    "    # count 0, 1 in Binarizer(y hat)\n",
    "    unique, counts = np.unique(custom_predict, return_counts=True)\n",
    "\n",
    "    for val, count in zip(unique, counts):\n",
    "        if len(unique) == 1:\n",
    "            if val == 1.0:\n",
    "                num_0_pred = count\n",
    "                num_1_pred = 0\n",
    "            elif val == 0.0:\n",
    "                num_1_pred = count\n",
    "                num_0_pred = 0\n",
    "        if val == 1.0:\n",
    "            num_0_pred = count\n",
    "        elif val == 0.0:\n",
    "            num_1_pred = count\n",
    "\n",
    "    # count 0, 1 in y hat\n",
    "    num_1_real = y_test.value_counts()[0]\n",
    "    num_0_real = y_test.value_counts()[1]\n",
    "\n",
    "    tn, fp, fn, tp = confusion_matrix(y_test, custom_predict).ravel()\n",
    "    count = [tn, fp, fn, tp]\n",
    "    tn_, fp_, fn_, tp_ = [round(x/sum(count)*100, 1) for x in count]\n",
    "\n",
    "    accuracy = round((tp+tn)/(tp+tn+fp+fn),4)\n",
    "    precision = round(tp/(tp+fp),4)\n",
    "    recall = round(tp/(tp+fn),4)\n",
    "    f1 = round(2*(precision*recall)/(precision+recall),4)\n",
    "    \n",
    "    result_df = pd.DataFrame(index=['1_real','1_pred','0_real','0_pred','tn', 'fp', 'fn', 'tp', 'tn_%', 'fp_%', 'fn_%', 'tp_%', 'Accuracy', 'Precision', 'Recall', 'F1 score'])\n",
    "\n",
    "    result_df['result'] = [num_1_real, num_1_pred, num_0_real, num_0_pred, tn, fp, fn, tp, tn_, fp_, fn_, tp_, accuracy, precision, recall, f1]\n",
    "\n",
    "    labels = ['TN','FP','FN','TP']\n",
    "\n",
    "\n",
    "    # 혼동 행렬 시각화\n",
    "    labels = ['Positive', 'Negative']\n",
    "    cm = [[tp, fn], [fp, tn]]\n",
    "\n",
    "    ax = plt.subplot()\n",
    "    sns.heatmap(cm, annot=True, ax=ax, fmt='g', cmap='Blues')\n",
    "    ax.set_xlabel('Predicted Class')\n",
    "    ax.set_ylabel('Acutual Class')\n",
    "    ax.set_xticklabels(labels)\n",
    "    ax.set_yticklabels(labels)\n",
    "    ax.set_title('%s Confusion Matrix'%(model_name))\n",
    "    \n",
    "    ax.text(0.45, 1.40, 'FP', fontsize=12, color='red')\n",
    "    ax.text(1.45, 1.40, 'TN', fontsize=12, color='red')\n",
    "    ax.text(0.45, 0.40, 'TP', fontsize=12, color='red')\n",
    "    ax.text(1.45, 0.40, 'FN', fontsize=12, color='red')\n",
    "    \n",
    "    #plt.savefig(\"%s_Confusion_Matrix_%s.png\"%(model_name, datetime.datetime.now().strftime(\"%m%d%H%M%S\")), dpi=300, bbox_inches='tight')\n",
    "    plt.show()\n",
    "    \n",
    "    result_df.T.to_csv('%s_test.csv'%(model_name), index=True)\n",
    "\n",
    "    return result_df.T"
   ]
  },
  {
   "cell_type": "code",
   "execution_count": 11,
   "id": "4eea5ddf",
   "metadata": {
    "id": "4eea5ddf",
    "outputId": "d812b917-7c32-49a7-b5b2-d01250ba5db7"
   },
   "outputs": [
    {
     "ename": "NameError",
     "evalue": "name 'y_test' is not defined",
     "output_type": "error",
     "traceback": [
      "\u001b[1;31m---------------------------------------------------------------------------\u001b[0m",
      "\u001b[1;31mNameError\u001b[0m                                 Traceback (most recent call last)",
      "Input \u001b[1;32mIn [11]\u001b[0m, in \u001b[0;36m<cell line: 1>\u001b[1;34m()\u001b[0m\n\u001b[1;32m----> 1\u001b[0m test_func(\u001b[43my_test\u001b[49m, y_pred_proba, OPT_threshold,\u001b[38;5;124m'\u001b[39m\u001b[38;5;124mDecisionTree\u001b[39m\u001b[38;5;124m'\u001b[39m)\n",
      "\u001b[1;31mNameError\u001b[0m: name 'y_test' is not defined"
     ]
    }
   ],
   "source": [
    "test_func(y_test, y_pred_proba, OPT_threshold,'DecisionTree')"
   ]
  },
  {
   "cell_type": "code",
   "execution_count": null,
   "id": "4e0a3907",
   "metadata": {
    "id": "4e0a3907",
    "outputId": "8fc92ab2-2b51-4f2b-d0f6-01e5a1433318"
   },
   "outputs": [
    {
     "data": {
      "image/png": "[encoded data removed]",
      "text/plain": [
       "<Figure size 640x480 with 1 Axes>"
      ]
     },
     "metadata": {},
     "output_type": "display_data"
    }
   ],
   "source": [
    "# Generate ROC curve and AUC score for the validation set\n",
    "fpr, tpr, thresholds = roc_curve(y_test, y_pred_proba[:,1])\n",
    "roc_auc = auc(fpr, tpr)\n",
    "\n",
    "# Plot the ROC curve\n",
    "plt.plot(fpr, tpr, lw=1, label='ROC (AUC = %0.2f)' % roc_auc)\n",
    "plt.plot([0, 1], [0, 1], '--', color='gray', lw=1, label='Random')\n",
    "plt.xlim([0, 1])\n",
    "plt.ylim([0, 1])\n",
    "plt.xlabel('False Positive Rate')\n",
    "plt.ylabel('True Positive Rate')\n",
    "plt.title('Receiver Operating Characteristic')\n",
    "plt.legend(loc='lower right')\n",
    "plt.show()"
   ]
  },
  {
   "cell_type": "markdown",
   "id": "28d3a111",
   "metadata": {
    "id": "28d3a111"
   },
   "source": [
    "## i 번째 데이터 셋 확률로 확인하기"
   ]
  },
  {
   "cell_type": "code",
   "execution_count": null,
   "id": "2ed8fca0",
   "metadata": {
    "id": "2ed8fca0",
    "outputId": "a08ad794-7191-42c1-90cb-bf02bbdf4d1c"
   },
   "outputs": [
    {
     "data": {
      "text/plain": [
       "array([[0.76179332, 0.23820668],\n",
       "       [0.82201809, 0.17798191],\n",
       "       [0.84138699, 0.15861301],\n",
       "       ...,\n",
       "       [0.76188404, 0.23811596],\n",
       "       [0.81558785, 0.18441215],\n",
       "       [0.76179332, 0.23820668]])"
      ]
     },
     "execution_count": 151,
     "metadata": {},
     "output_type": "execute_result"
    }
   ],
   "source": [
    "y_pred_proba[4]"
   ]
  },
  {
   "cell_type": "code",
   "execution_count": null,
   "id": "2ebfede3",
   "metadata": {
    "id": "2ebfede3",
    "outputId": "cb828a6e-e85f-47b7-8f41-c31e41cce152"
   },
   "outputs": [
    {
     "data": {
      "text/plain": [
       "array([[0.8425174 , 0.1574826 ],\n",
       "       [0.85219516, 0.14780484],\n",
       "       [0.92295863, 0.07704137],\n",
       "       ...,\n",
       "       [0.9225525 , 0.0774475 ],\n",
       "       [0.76179332, 0.23820668],\n",
       "       [0.9454581 , 0.0545419 ]])"
      ]
     },
     "execution_count": 148,
     "metadata": {},
     "output_type": "execute_result"
    }
   ],
   "source": [
    "y_pred_proba[3]"
   ]
  },
  {
   "cell_type": "code",
   "execution_count": 14,
   "id": "335edbdf",
   "metadata": {
    "id": "335edbdf"
   },
   "outputs": [],
   "source": [
    "for j in range(len(y_pred_proba)):\n",
    "    globals()['final_predict_{}'.format(j)]=[]\n",
    "    for i in range(len(y_pred_proba[j])):\n",
    "        if y_pred_proba[j][:,1][i]<OPT_threshold:\n",
    "            globals()['final_predict_{}'.format(j)].append(0)\n",
    "        else:\n",
    "            globals()['final_predict_{}'.format(j)].append(1)\n",
    "\n"
   ]
  },
  {
   "cell_type": "code",
   "execution_count": 17,
   "id": "6c3746cf",
   "metadata": {
    "id": "6c3746cf",
    "outputId": "32f6088a-723c-4cda-bfc0-3be2c6209a25"
   },
   "outputs": [
    {
     "name": "stdout",
     "output_type": "stream",
     "text": [
      "6번째 데이터셋 \n",
      " 정확도: 0.40003124546661756, 정밀도도: 0.18857142857142858, 재현율율: 0.8263734739178691, f1: 0.30707169645964094\n",
      "[[ 47870 102524]\n",
      " [  5006  23826]]\n",
      "7번째 데이터셋 \n",
      " 정확도: 0.40003124546661756, 정밀도도: 0.18857142857142858, 재현율율: 0.8263734739178691, f1: 0.30707169645964094\n",
      "[[ 47870 102524]\n",
      " [  5006  23826]]\n",
      "8번째 데이터셋 \n",
      " 정확도: 0.40003124546661756, 정밀도도: 0.18857142857142858, 재현율율: 0.8263734739178691, f1: 0.30707169645964094\n",
      "[[ 47870 102524]\n",
      " [  5006  23826]]\n",
      "9번째 데이터셋 \n",
      " 정확도: 0.40003124546661756, 정밀도도: 0.18857142857142858, 재현율율: 0.8263734739178691, f1: 0.30707169645964094\n",
      "[[ 47870 102524]\n",
      " [  5006  23826]]\n",
      "10번째 데이터셋 \n",
      " 정확도: 0.40003124546661756, 정밀도도: 0.18857142857142858, 재현율율: 0.8263734739178691, f1: 0.30707169645964094\n",
      "[[ 47870 102524]\n",
      " [  5006  23826]]\n"
     ]
    }
   ],
   "source": [
    "for i in range(5):\n",
    "    \n",
    "    accuracy = accuracy_score(globals()['y_test_{}'.format(i+1)], globals()['final_predict_{}'.format(i)])\n",
    "    precision = precision_score(globals()['y_test_{}'.format(i+1)], globals()['final_predict_{}'.format(i)])\n",
    "    recall = recall_score(globals()['y_test_{}'.format(i+1)], globals()['final_predict_{}'.format(i)])\n",
    "    f1 = f1_score(globals()['y_test_{}'.format(i+1)], globals()['final_predict_{}'.format(i)])\n",
    "    conf_matrix = confusion_matrix(globals()['y_test_{}'.format(i+1)], globals()['final_predict_{}'.format(i)])\n",
    "    print('{0}번째 데이터셋 \\n 정확도: {1}, 정밀도도: {2}, 재현율율: {3}, f1: {4}'.format(i+6,accuracy, precision, recall, f1))\n",
    "    print(conf_matrix)"
   ]
  },
  {
   "cell_type": "code",
   "execution_count": null,
   "id": "df8e47e6",
   "metadata": {},
   "outputs": [],
   "source": []
  }
 ],
 "metadata": {
  "colab": {
   "provenance": []
  },
  "hide_input": false,
  "kernelspec": {
   "display_name": "Python 3 (ipykernel)",
   "language": "python",
   "name": "python3"
  },
  "language_info": {
   "codemirror_mode": {
    "name": "ipython",
    "version": 3
   },
   "file_extension": ".py",
   "mimetype": "text/x-python",
   "name": "python",
   "nbconvert_exporter": "python",
   "pygments_lexer": "ipython3",
   "version": "3.9.12"
  },
  "toc": {
   "base_numbering": 1,
   "nav_menu": {},
   "number_sections": true,
   "sideBar": true,
   "skip_h1_title": false,
   "title_cell": "Table of Contents",
   "title_sidebar": "Contents",
   "toc_cell": false,
   "toc_position": {},
   "toc_section_display": true,
   "toc_window_display": false
  }
 },
 "nbformat": 4,
 "nbformat_minor": 5
}
