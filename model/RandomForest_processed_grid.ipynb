{
 "cells": [
  {
   "cell_type": "markdown",
   "metadata": {
    "id": "c913d822"
   },
   "source": [
    "# Module"
   ]
  },
  {
   "cell_type": "code",
   "execution_count": 1,
   "metadata": {
    "executionInfo": {
     "elapsed": 3574,
     "status": "ok",
     "timestamp": 1678868788505,
     "user": {
      "displayName": "황선경",
      "userId": "17888974404389374352"
     },
     "user_tz": -540
    },
    "id": "fa4a7e3c"
   },
   "outputs": [],
   "source": [
    "import pandas as pd\n",
    "import numpy as np\n",
    "import seaborn as sns\n",
    "\n",
    "#from scipy.stats import uniform\n",
    "\n",
    "# from imblearn.under_sampling import RandomUnderSampler\n",
    "\n",
    "#from sklearn.decomposition import PCA\n",
    "\n",
    "from sklearn.pipeline import Pipeline\n",
    "\n",
    "#from sklearn.model_selection import train_test_split\n",
    "\n",
    "from sklearn.preprocessing import StandardScaler, Binarizer\n",
    "\n",
    "from sklearn.feature_selection import SelectFromModel\n",
    "\n",
    "from sklearn.ensemble import RandomForestClassifier\n",
    "\n",
    "from sklearn.tree import DecisionTreeClassifier\n",
    "\n",
    "#from sklearn.linear_model import LogisticRegression, Ridge\n",
    "\n",
    "from sklearn.model_selection import KFold, GridSearchCV, RandomizedSearchCV, cross_val_score\n",
    "\n",
    "from sklearn.metrics import make_scorer, confusion_matrix, roc_curve, auc, f1_score, accuracy_score, precision_score, recall_score, log_loss\n",
    "\n",
    "import matplotlib.pyplot as plt\n",
    "\n",
    "import datetime\n",
    "\n",
    "import warnings\n",
    "\n",
    "warnings.filterwarnings('ignore')\n",
    "\n",
    "#import torch\n",
    "\n",
    "#from torch.utils.data import DataLoader, TensorDataset"
   ]
  },
  {
   "cell_type": "markdown",
   "metadata": {
    "id": "d7af9689"
   },
   "source": [
    "# Rectified Dataset split"
   ]
  },
  {
   "cell_type": "code",
   "execution_count": 2,
   "metadata": {
    "colab": {
     "base_uri": "https://localhost:8080/"
    },
    "executionInfo": {
     "elapsed": 19790,
     "status": "ok",
     "timestamp": 1678868840245,
     "user": {
      "displayName": "황선경",
      "userId": "17888974404389374352"
     },
     "user_tz": -540
    },
    "id": "dp4L52m5jbG-",
    "outputId": "3de58a6e-053e-49c4-e8d6-432a339cbc0c"
   },
   "outputs": [
    {
     "name": "stdout",
     "output_type": "stream",
     "text": [
      "Mounted at /content/drive\n"
     ]
    }
   ],
   "source": [
    "from google.colab import drive\n",
    "drive.mount('/content/drive')"
   ]
  },
  {
   "cell_type": "code",
   "execution_count": 3,
   "metadata": {
    "executionInfo": {
     "elapsed": 50940,
     "status": "ok",
     "timestamp": 1678868894381,
     "user": {
      "displayName": "황선경",
      "userId": "17888974404389374352"
     },
     "user_tz": -540
    },
    "id": "60b80511"
   },
   "outputs": [],
   "source": [
    "train = pd.read_csv('drive/MyDrive/lendingclub/train_538132.csv')\n",
    "val = pd.read_csv('drive/MyDrive/lendingclub/validation_179377.csv')\n",
    "test = pd.read_csv('drive/MyDrive/lendingclub/test_179378.csv')\n",
    "\n",
    "train = train.drop(['Unnamed: 0'], axis=1)\n",
    "val = val.drop(['Unnamed: 0'], axis=1)\n",
    "test = test.drop(['Unnamed: 0'], axis=1)\n",
    "\n",
    "pd.set_option('display.max_colwidth', 1000, 'display.max_rows', None, 'display.max_columns', None)"
   ]
  },
  {
   "cell_type": "code",
   "execution_count": 4,
   "metadata": {
    "executionInfo": {
     "elapsed": 555,
     "status": "ok",
     "timestamp": 1678868894931,
     "user": {
      "displayName": "황선경",
      "userId": "17888974404389374352"
     },
     "user_tz": -540
    },
    "id": "cf255874"
   },
   "outputs": [],
   "source": [
    "X_train = train.drop('depvar', axis=1)\n",
    "y_train = train['depvar']\n",
    "\n",
    "X_val = val.drop('depvar', axis=1)\n",
    "y_val = val['depvar']\n",
    "\n",
    "X_test = test.drop('depvar', axis=1)\n",
    "y_test = test['depvar']"
   ]
  },
  {
   "cell_type": "code",
   "execution_count": 5,
   "metadata": {
    "colab": {
     "base_uri": "https://localhost:8080/"
    },
    "executionInfo": {
     "elapsed": 10,
     "status": "ok",
     "timestamp": 1678868894932,
     "user": {
      "displayName": "황선경",
      "userId": "17888974404389374352"
     },
     "user_tz": -540
    },
    "id": "80d8d802",
    "outputId": "2b3eb2c8-bcc8-483b-c602-e4270f77e3e7"
   },
   "outputs": [
    {
     "name": "stdout",
     "output_type": "stream",
     "text": [
      "(538132, 86)\n",
      "(538132,)\n",
      "(179377, 86)\n",
      "(179377,)\n",
      "(179378, 86)\n",
      "(179378,)\n"
     ]
    }
   ],
   "source": [
    "print(X_train.shape)\n",
    "print(y_train.shape)\n",
    "print(X_val.shape)\n",
    "print(y_val.shape)\n",
    "print(X_test.shape)\n",
    "print(y_test.shape)"
   ]
  },
  {
   "cell_type": "markdown",
   "metadata": {
    "id": "7a03faed"
   },
   "source": [
    "# Training"
   ]
  },
  {
   "cell_type": "markdown",
   "metadata": {
    "id": "b08abac5"
   },
   "source": [
    "## RandomForest\n",
    "(K-fold cross validation -> K=cv)"
   ]
  },
  {
   "cell_type": "code",
   "execution_count": 7,
   "metadata": {
    "executionInfo": {
     "elapsed": 303,
     "status": "ok",
     "timestamp": 1678868997623,
     "user": {
      "displayName": "황선경",
      "userId": "17888974404389374352"
     },
     "user_tz": -540
    },
    "id": "e834c6e7"
   },
   "outputs": [],
   "source": [
    "rf_clf = RandomForestClassifier(max_depth=5, min_samples_split=20)"
   ]
  },
  {
   "cell_type": "markdown",
   "metadata": {
    "id": "8231e725"
   },
   "source": [
    "### param_grid (hyperparameter input)"
   ]
  },
  {
   "cell_type": "code",
   "execution_count": 8,
   "metadata": {
    "colab": {
     "base_uri": "https://localhost:8080/"
    },
    "executionInfo": {
     "elapsed": 534,
     "status": "ok",
     "timestamp": 1678869012975,
     "user": {
      "displayName": "황선경",
      "userId": "17888974404389374352"
     },
     "user_tz": -540
    },
    "id": "01459d79",
    "outputId": "3128f8dc-85f9-482c-993a-34dc65dffca8",
    "scrolled": false
   },
   "outputs": [
    {
     "data": {
      "text/plain": [
       "dict_keys(['bootstrap', 'ccp_alpha', 'class_weight', 'criterion', 'max_depth', 'max_features', 'max_leaf_nodes', 'max_samples', 'min_impurity_decrease', 'min_samples_leaf', 'min_samples_split', 'min_weight_fraction_leaf', 'n_estimators', 'n_jobs', 'oob_score', 'random_state', 'verbose', 'warm_start'])"
      ]
     },
     "execution_count": 8,
     "metadata": {},
     "output_type": "execute_result"
    }
   ],
   "source": [
    "# pipeline object에 대해 지정해줄 수 있는 hyperparameter를 얻을 수 있음\n",
    "rf_clf.get_params().keys()"
   ]
  },
  {
   "cell_type": "code",
   "execution_count": 9,
   "metadata": {
    "executionInfo": {
     "elapsed": 312,
     "status": "ok",
     "timestamp": 1678869017975,
     "user": {
      "displayName": "황선경",
      "userId": "17888974404389374352"
     },
     "user_tz": -540
    },
    "id": "0025d57f"
   },
   "outputs": [],
   "source": [
    "# define the hyperparameters you want to search over\n",
    "param_grid = {\n",
    "    'n_estimators':[50,100,150],\n",
    "    'max_features':['auto', 'sqrt', 'log2']\n",
    "}"
   ]
  },
  {
   "cell_type": "markdown",
   "metadata": {
    "id": "31773cdf"
   },
   "source": [
    "### Scoring Function"
   ]
  },
  {
   "cell_type": "code",
   "execution_count": 10,
   "metadata": {
    "executionInfo": {
     "elapsed": 578,
     "status": "ok",
     "timestamp": 1678869021565,
     "user": {
      "displayName": "황선경",
      "userId": "17888974404389374352"
     },
     "user_tz": -540
    },
    "id": "314244e9"
   },
   "outputs": [],
   "source": [
    "# Define the scorer to use in the grid search\n",
    "# greater_is_better=False -> since we want the negative value of log loss\n",
    "scoring = {'neg_log_loss': make_scorer(log_loss, greater_is_better=False, needs_proba=True)\n",
    "#            'accuracy': make_scorer(accuracy_score),\n",
    "#            'precision': make_scorer(precision_score),\n",
    "#            'recall': make_scorer(recall_score),\n",
    "#            'f1': make_scorer(f1_score)\n",
    "          }"
   ]
  },
  {
   "cell_type": "markdown",
   "metadata": {
    "id": "14fa9042"
   },
   "source": [
    "### Grid Search"
   ]
  },
  {
   "cell_type": "code",
   "execution_count": 11,
   "metadata": {
    "colab": {
     "base_uri": "https://localhost:8080/",
     "height": 115
    },
    "executionInfo": {
     "elapsed": 1593621,
     "status": "ok",
     "timestamp": 1678870622959,
     "user": {
      "displayName": "황선경",
      "userId": "17888974404389374352"
     },
     "user_tz": -540
    },
    "id": "477e2237",
    "outputId": "5622ba49-91cb-4512-8357-6850480993b7"
   },
   "outputs": [
    {
     "data": {
      "text/html": [
       "<style>#sk-container-id-1 {color: black;background-color: white;}#sk-container-id-1 pre{padding: 0;}#sk-container-id-1 div.sk-toggleable {background-color: white;}#sk-container-id-1 label.sk-toggleable__label {cursor: pointer;display: block;width: 100%;margin-bottom: 0;padding: 0.3em;box-sizing: border-box;text-align: center;}#sk-container-id-1 label.sk-toggleable__label-arrow:before {content: \"▸\";float: left;margin-right: 0.25em;color: #696969;}#sk-container-id-1 label.sk-toggleable__label-arrow:hover:before {color: black;}#sk-container-id-1 div.sk-estimator:hover label.sk-toggleable__label-arrow:before {color: black;}#sk-container-id-1 div.sk-toggleable__content {max-height: 0;max-width: 0;overflow: hidden;text-align: left;background-color: #f0f8ff;}#sk-container-id-1 div.sk-toggleable__content pre {margin: 0.2em;color: black;border-radius: 0.25em;background-color: #f0f8ff;}#sk-container-id-1 input.sk-toggleable__control:checked~div.sk-toggleable__content {max-height: 200px;max-width: 100%;overflow: auto;}#sk-container-id-1 input.sk-toggleable__control:checked~label.sk-toggleable__label-arrow:before {content: \"▾\";}#sk-container-id-1 div.sk-estimator input.sk-toggleable__control:checked~label.sk-toggleable__label {background-color: #d4ebff;}#sk-container-id-1 div.sk-label input.sk-toggleable__control:checked~label.sk-toggleable__label {background-color: #d4ebff;}#sk-container-id-1 input.sk-hidden--visually {border: 0;clip: rect(1px 1px 1px 1px);clip: rect(1px, 1px, 1px, 1px);height: 1px;margin: -1px;overflow: hidden;padding: 0;position: absolute;width: 1px;}#sk-container-id-1 div.sk-estimator {font-family: monospace;background-color: #f0f8ff;border: 1px dotted black;border-radius: 0.25em;box-sizing: border-box;margin-bottom: 0.5em;}#sk-container-id-1 div.sk-estimator:hover {background-color: #d4ebff;}#sk-container-id-1 div.sk-parallel-item::after {content: \"\";width: 100%;border-bottom: 1px solid gray;flex-grow: 1;}#sk-container-id-1 div.sk-label:hover label.sk-toggleable__label {background-color: #d4ebff;}#sk-container-id-1 div.sk-serial::before {content: \"\";position: absolute;border-left: 1px solid gray;box-sizing: border-box;top: 0;bottom: 0;left: 50%;z-index: 0;}#sk-container-id-1 div.sk-serial {display: flex;flex-direction: column;align-items: center;background-color: white;padding-right: 0.2em;padding-left: 0.2em;position: relative;}#sk-container-id-1 div.sk-item {position: relative;z-index: 1;}#sk-container-id-1 div.sk-parallel {display: flex;align-items: stretch;justify-content: center;background-color: white;position: relative;}#sk-container-id-1 div.sk-item::before, #sk-container-id-1 div.sk-parallel-item::before {content: \"\";position: absolute;border-left: 1px solid gray;box-sizing: border-box;top: 0;bottom: 0;left: 50%;z-index: -1;}#sk-container-id-1 div.sk-parallel-item {display: flex;flex-direction: column;z-index: 1;position: relative;background-color: white;}#sk-container-id-1 div.sk-parallel-item:first-child::after {align-self: flex-end;width: 50%;}#sk-container-id-1 div.sk-parallel-item:last-child::after {align-self: flex-start;width: 50%;}#sk-container-id-1 div.sk-parallel-item:only-child::after {width: 0;}#sk-container-id-1 div.sk-dashed-wrapped {border: 1px dashed gray;margin: 0 0.4em 0.5em 0.4em;box-sizing: border-box;padding-bottom: 0.4em;background-color: white;}#sk-container-id-1 div.sk-label label {font-family: monospace;font-weight: bold;display: inline-block;line-height: 1.2em;}#sk-container-id-1 div.sk-label-container {text-align: center;}#sk-container-id-1 div.sk-container {/* jupyter's `normalize.less` sets `[hidden] { display: none; }` but bootstrap.min.css set `[hidden] { display: none !important; }` so we also need the `!important` here to be able to override the default hidden behavior on the sphinx rendered scikit-learn.org. See: https://github.com/scikit-learn/scikit-learn/issues/21755 */display: inline-block !important;position: relative;}#sk-container-id-1 div.sk-text-repr-fallback {display: none;}</style><div id=\"sk-container-id-1\" class=\"sk-top-container\"><div class=\"sk-text-repr-fallback\"><pre>GridSearchCV(cv=5,\n",
       "             estimator=RandomForestClassifier(max_depth=5,\n",
       "                                              min_samples_split=20),\n",
       "             param_grid={&#x27;max_features&#x27;: [&#x27;auto&#x27;, &#x27;sqrt&#x27;, &#x27;log2&#x27;],\n",
       "                         &#x27;n_estimators&#x27;: [50, 100, 150]},\n",
       "             refit=&#x27;neg_log_loss&#x27;,\n",
       "             scoring={&#x27;neg_log_loss&#x27;: make_scorer(log_loss, greater_is_better=False, needs_proba=True)})</pre><b>In a Jupyter environment, please rerun this cell to show the HTML representation or trust the notebook. <br />On GitHub, the HTML representation is unable to render, please try loading this page with nbviewer.org.</b></div><div class=\"sk-container\" hidden><div class=\"sk-item sk-dashed-wrapped\"><div class=\"sk-label-container\"><div class=\"sk-label sk-toggleable\"><input class=\"sk-toggleable__control sk-hidden--visually\" id=\"sk-estimator-id-1\" type=\"checkbox\" ><label for=\"sk-estimator-id-1\" class=\"sk-toggleable__label sk-toggleable__label-arrow\">GridSearchCV</label><div class=\"sk-toggleable__content\"><pre>GridSearchCV(cv=5,\n",
       "             estimator=RandomForestClassifier(max_depth=5,\n",
       "                                              min_samples_split=20),\n",
       "             param_grid={&#x27;max_features&#x27;: [&#x27;auto&#x27;, &#x27;sqrt&#x27;, &#x27;log2&#x27;],\n",
       "                         &#x27;n_estimators&#x27;: [50, 100, 150]},\n",
       "             refit=&#x27;neg_log_loss&#x27;,\n",
       "             scoring={&#x27;neg_log_loss&#x27;: make_scorer(log_loss, greater_is_better=False, needs_proba=True)})</pre></div></div></div><div class=\"sk-parallel\"><div class=\"sk-parallel-item\"><div class=\"sk-item\"><div class=\"sk-label-container\"><div class=\"sk-label sk-toggleable\"><input class=\"sk-toggleable__control sk-hidden--visually\" id=\"sk-estimator-id-2\" type=\"checkbox\" ><label for=\"sk-estimator-id-2\" class=\"sk-toggleable__label sk-toggleable__label-arrow\">estimator: RandomForestClassifier</label><div class=\"sk-toggleable__content\"><pre>RandomForestClassifier(max_depth=5, min_samples_split=20)</pre></div></div></div><div class=\"sk-serial\"><div class=\"sk-item\"><div class=\"sk-estimator sk-toggleable\"><input class=\"sk-toggleable__control sk-hidden--visually\" id=\"sk-estimator-id-3\" type=\"checkbox\" ><label for=\"sk-estimator-id-3\" class=\"sk-toggleable__label sk-toggleable__label-arrow\">RandomForestClassifier</label><div class=\"sk-toggleable__content\"><pre>RandomForestClassifier(max_depth=5, min_samples_split=20)</pre></div></div></div></div></div></div></div></div></div></div>"
      ],
      "text/plain": [
       "GridSearchCV(cv=5,\n",
       "             estimator=RandomForestClassifier(max_depth=5,\n",
       "                                              min_samples_split=20),\n",
       "             param_grid={'max_features': ['auto', 'sqrt', 'log2'],\n",
       "                         'n_estimators': [50, 100, 150]},\n",
       "             refit='neg_log_loss',\n",
       "             scoring={'neg_log_loss': make_scorer(log_loss, greater_is_better=False, needs_proba=True)})"
      ]
     },
     "execution_count": 11,
     "metadata": {},
     "output_type": "execute_result"
    }
   ],
   "source": [
    "grid_search = GridSearchCV(rf_clf, param_grid, cv=5, scoring=scoring, refit='neg_log_loss')\n",
    "# scoring=scoring\n",
    "\n",
    "# Fit the grid search object to the data\n",
    "grid_search.fit(X_train, y_train)"
   ]
  },
  {
   "cell_type": "markdown",
   "metadata": {
    "id": "b0d6a6d5"
   },
   "source": [
    "### Hyperparameter에 따른 Estimator 비교"
   ]
  },
  {
   "cell_type": "code",
   "execution_count": 12,
   "metadata": {
    "executionInfo": {
     "elapsed": 602,
     "status": "ok",
     "timestamp": 1678870633503,
     "user": {
      "displayName": "황선경",
      "userId": "17888974404389374352"
     },
     "user_tz": -540
    },
    "id": "yq8Wm_hKD25w"
   },
   "outputs": [],
   "source": [
    "# 저장된된 파일들의 모델 이름 정해주기\n",
    "model_name = 'RandomForest_original'"
   ]
  },
  {
   "cell_type": "code",
   "execution_count": 13,
   "metadata": {
    "colab": {
     "base_uri": "https://localhost:8080/",
     "height": 851
    },
    "executionInfo": {
     "elapsed": 9,
     "status": "ok",
     "timestamp": 1678870633503,
     "user": {
      "displayName": "황선경",
      "userId": "17888974404389374352"
     },
     "user_tz": -540
    },
    "id": "7fe9995c",
    "outputId": "dbe96fa3-79cd-4af6-da1e-9ce23d5afe81"
   },
   "outputs": [
    {
     "data": {
      "text/html": [
       "\n",
       "  <div id=\"df-92bf1ab4-5b16-4d7b-b973-b6baf8a0d7e2\">\n",
       "    <div class=\"colab-df-container\">\n",
       "      <div>\n",
       "<style scoped>\n",
       "    .dataframe tbody tr th:only-of-type {\n",
       "        vertical-align: middle;\n",
       "    }\n",
       "\n",
       "    .dataframe tbody tr th {\n",
       "        vertical-align: top;\n",
       "    }\n",
       "\n",
       "    .dataframe thead th {\n",
       "        text-align: right;\n",
       "    }\n",
       "</style>\n",
       "<table border=\"1\" class=\"dataframe\">\n",
       "  <thead>\n",
       "    <tr style=\"text-align: right;\">\n",
       "      <th></th>\n",
       "      <th>mean_fit_time</th>\n",
       "      <th>std_fit_time</th>\n",
       "      <th>mean_score_time</th>\n",
       "      <th>std_score_time</th>\n",
       "      <th>param_max_features</th>\n",
       "      <th>param_n_estimators</th>\n",
       "      <th>params</th>\n",
       "      <th>split0_test_neg_log_loss</th>\n",
       "      <th>split1_test_neg_log_loss</th>\n",
       "      <th>split2_test_neg_log_loss</th>\n",
       "      <th>split3_test_neg_log_loss</th>\n",
       "      <th>split4_test_neg_log_loss</th>\n",
       "      <th>mean_test_neg_log_loss</th>\n",
       "      <th>std_test_neg_log_loss</th>\n",
       "      <th>rank_test_neg_log_loss</th>\n",
       "    </tr>\n",
       "  </thead>\n",
       "  <tbody>\n",
       "    <tr>\n",
       "      <th>0</th>\n",
       "      <td>18.808051</td>\n",
       "      <td>1.192312</td>\n",
       "      <td>0.521496</td>\n",
       "      <td>0.072632</td>\n",
       "      <td>auto</td>\n",
       "      <td>50</td>\n",
       "      <td>{'max_features': 'auto', 'n_estimators': 50}</td>\n",
       "      <td>-0.432995</td>\n",
       "      <td>-0.433658</td>\n",
       "      <td>-0.432985</td>\n",
       "      <td>-0.433190</td>\n",
       "      <td>-0.433341</td>\n",
       "      <td>-0.433234</td>\n",
       "      <td>0.000250</td>\n",
       "      <td>4</td>\n",
       "    </tr>\n",
       "    <tr>\n",
       "      <th>1</th>\n",
       "      <td>36.374292</td>\n",
       "      <td>0.993493</td>\n",
       "      <td>1.021962</td>\n",
       "      <td>0.143105</td>\n",
       "      <td>auto</td>\n",
       "      <td>100</td>\n",
       "      <td>{'max_features': 'auto', 'n_estimators': 100}</td>\n",
       "      <td>-0.433153</td>\n",
       "      <td>-0.433024</td>\n",
       "      <td>-0.433040</td>\n",
       "      <td>-0.433263</td>\n",
       "      <td>-0.433541</td>\n",
       "      <td>-0.433204</td>\n",
       "      <td>0.000189</td>\n",
       "      <td>1</td>\n",
       "    </tr>\n",
       "    <tr>\n",
       "      <th>2</th>\n",
       "      <td>56.643875</td>\n",
       "      <td>3.577508</td>\n",
       "      <td>1.528906</td>\n",
       "      <td>0.248252</td>\n",
       "      <td>auto</td>\n",
       "      <td>150</td>\n",
       "      <td>{'max_features': 'auto', 'n_estimators': 150}</td>\n",
       "      <td>-0.433463</td>\n",
       "      <td>-0.433166</td>\n",
       "      <td>-0.433218</td>\n",
       "      <td>-0.433286</td>\n",
       "      <td>-0.433018</td>\n",
       "      <td>-0.433230</td>\n",
       "      <td>0.000146</td>\n",
       "      <td>3</td>\n",
       "    </tr>\n",
       "    <tr>\n",
       "      <th>3</th>\n",
       "      <td>17.893283</td>\n",
       "      <td>0.659463</td>\n",
       "      <td>0.483625</td>\n",
       "      <td>0.016756</td>\n",
       "      <td>sqrt</td>\n",
       "      <td>50</td>\n",
       "      <td>{'max_features': 'sqrt', 'n_estimators': 50}</td>\n",
       "      <td>-0.433403</td>\n",
       "      <td>-0.433736</td>\n",
       "      <td>-0.433082</td>\n",
       "      <td>-0.433594</td>\n",
       "      <td>-0.433135</td>\n",
       "      <td>-0.433390</td>\n",
       "      <td>0.000254</td>\n",
       "      <td>6</td>\n",
       "    </tr>\n",
       "    <tr>\n",
       "      <th>4</th>\n",
       "      <td>36.602663</td>\n",
       "      <td>0.763346</td>\n",
       "      <td>0.956417</td>\n",
       "      <td>0.117169</td>\n",
       "      <td>sqrt</td>\n",
       "      <td>100</td>\n",
       "      <td>{'max_features': 'sqrt', 'n_estimators': 100}</td>\n",
       "      <td>-0.433499</td>\n",
       "      <td>-0.433176</td>\n",
       "      <td>-0.433166</td>\n",
       "      <td>-0.433226</td>\n",
       "      <td>-0.433149</td>\n",
       "      <td>-0.433243</td>\n",
       "      <td>0.000130</td>\n",
       "      <td>5</td>\n",
       "    </tr>\n",
       "    <tr>\n",
       "      <th>5</th>\n",
       "      <td>54.087323</td>\n",
       "      <td>1.497477</td>\n",
       "      <td>1.645704</td>\n",
       "      <td>0.160341</td>\n",
       "      <td>sqrt</td>\n",
       "      <td>150</td>\n",
       "      <td>{'max_features': 'sqrt', 'n_estimators': 150}</td>\n",
       "      <td>-0.433419</td>\n",
       "      <td>-0.433176</td>\n",
       "      <td>-0.433042</td>\n",
       "      <td>-0.433127</td>\n",
       "      <td>-0.433338</td>\n",
       "      <td>-0.433221</td>\n",
       "      <td>0.000139</td>\n",
       "      <td>2</td>\n",
       "    </tr>\n",
       "    <tr>\n",
       "      <th>6</th>\n",
       "      <td>13.199955</td>\n",
       "      <td>0.372014</td>\n",
       "      <td>0.595552</td>\n",
       "      <td>0.008399</td>\n",
       "      <td>log2</td>\n",
       "      <td>50</td>\n",
       "      <td>{'max_features': 'log2', 'n_estimators': 50}</td>\n",
       "      <td>-0.435429</td>\n",
       "      <td>-0.435327</td>\n",
       "      <td>-0.434773</td>\n",
       "      <td>-0.435687</td>\n",
       "      <td>-0.435368</td>\n",
       "      <td>-0.435317</td>\n",
       "      <td>0.000299</td>\n",
       "      <td>9</td>\n",
       "    </tr>\n",
       "    <tr>\n",
       "      <th>7</th>\n",
       "      <td>26.119403</td>\n",
       "      <td>0.501875</td>\n",
       "      <td>1.095603</td>\n",
       "      <td>0.049642</td>\n",
       "      <td>log2</td>\n",
       "      <td>100</td>\n",
       "      <td>{'max_features': 'log2', 'n_estimators': 100}</td>\n",
       "      <td>-0.434783</td>\n",
       "      <td>-0.434903</td>\n",
       "      <td>-0.435013</td>\n",
       "      <td>-0.435309</td>\n",
       "      <td>-0.434838</td>\n",
       "      <td>-0.434969</td>\n",
       "      <td>0.000186</td>\n",
       "      <td>7</td>\n",
       "    </tr>\n",
       "    <tr>\n",
       "      <th>8</th>\n",
       "      <td>40.058791</td>\n",
       "      <td>1.021483</td>\n",
       "      <td>1.571854</td>\n",
       "      <td>0.136718</td>\n",
       "      <td>log2</td>\n",
       "      <td>150</td>\n",
       "      <td>{'max_features': 'log2', 'n_estimators': 150}</td>\n",
       "      <td>-0.434908</td>\n",
       "      <td>-0.435187</td>\n",
       "      <td>-0.435326</td>\n",
       "      <td>-0.435189</td>\n",
       "      <td>-0.435454</td>\n",
       "      <td>-0.435213</td>\n",
       "      <td>0.000182</td>\n",
       "      <td>8</td>\n",
       "    </tr>\n",
       "  </tbody>\n",
       "</table>\n",
       "</div>\n",
       "      <button class=\"colab-df-convert\" onclick=\"convertToInteractive('df-92bf1ab4-5b16-4d7b-b973-b6baf8a0d7e2')\"\n",
       "              title=\"Convert this dataframe to an interactive table.\"\n",
       "              style=\"display:none;\">\n",
       "        \n",
       "  <svg xmlns=\"http://www.w3.org/2000/svg\" height=\"24px\"viewBox=\"0 0 24 24\"\n",
       "       width=\"24px\">\n",
       "    <path d=\"M0 0h24v24H0V0z\" fill=\"none\"/>\n",
       "    <path d=\"M18.56 5.44l.94 2.06.94-2.06 2.06-.94-2.06-.94-.94-2.06-.94 2.06-2.06.94zm-11 1L8.5 8.5l.94-2.06 2.06-.94-2.06-.94L8.5 2.5l-.94 2.06-2.06.94zm10 10l.94 2.06.94-2.06 2.06-.94-2.06-.94-.94-2.06-.94 2.06-2.06.94z\"/><path d=\"M17.41 7.96l-1.37-1.37c-.4-.4-.92-.59-1.43-.59-.52 0-1.04.2-1.43.59L10.3 9.45l-7.72 7.72c-.78.78-.78 2.05 0 2.83L4 21.41c.39.39.9.59 1.41.59.51 0 1.02-.2 1.41-.59l7.78-7.78 2.81-2.81c.8-.78.8-2.07 0-2.86zM5.41 20L4 18.59l7.72-7.72 1.47 1.35L5.41 20z\"/>\n",
       "  </svg>\n",
       "      </button>\n",
       "      \n",
       "  <style>\n",
       "    .colab-df-container {\n",
       "      display:flex;\n",
       "      flex-wrap:wrap;\n",
       "      gap: 12px;\n",
       "    }\n",
       "\n",
       "    .colab-df-convert {\n",
       "      background-color: #E8F0FE;\n",
       "      border: none;\n",
       "      border-radius: 50%;\n",
       "      cursor: pointer;\n",
       "      display: none;\n",
       "      fill: #1967D2;\n",
       "      height: 32px;\n",
       "      padding: 0 0 0 0;\n",
       "      width: 32px;\n",
       "    }\n",
       "\n",
       "    .colab-df-convert:hover {\n",
       "      background-color: #E2EBFA;\n",
       "      box-shadow: 0px 1px 2px rgba(60, 64, 67, 0.3), 0px 1px 3px 1px rgba(60, 64, 67, 0.15);\n",
       "      fill: #174EA6;\n",
       "    }\n",
       "\n",
       "    [theme=dark] .colab-df-convert {\n",
       "      background-color: #3B4455;\n",
       "      fill: #D2E3FC;\n",
       "    }\n",
       "\n",
       "    [theme=dark] .colab-df-convert:hover {\n",
       "      background-color: #434B5C;\n",
       "      box-shadow: 0px 1px 3px 1px rgba(0, 0, 0, 0.15);\n",
       "      filter: drop-shadow(0px 1px 2px rgba(0, 0, 0, 0.3));\n",
       "      fill: #FFFFFF;\n",
       "    }\n",
       "  </style>\n",
       "\n",
       "      <script>\n",
       "        const buttonEl =\n",
       "          document.querySelector('#df-92bf1ab4-5b16-4d7b-b973-b6baf8a0d7e2 button.colab-df-convert');\n",
       "        buttonEl.style.display =\n",
       "          google.colab.kernel.accessAllowed ? 'block' : 'none';\n",
       "\n",
       "        async function convertToInteractive(key) {\n",
       "          const element = document.querySelector('#df-92bf1ab4-5b16-4d7b-b973-b6baf8a0d7e2');\n",
       "          const dataTable =\n",
       "            await google.colab.kernel.invokeFunction('convertToInteractive',\n",
       "                                                     [key], {});\n",
       "          if (!dataTable) return;\n",
       "\n",
       "          const docLinkHtml = 'Like what you see? Visit the ' +\n",
       "            '<a target=\"_blank\" href=https://colab.research.google.com/notebooks/data_table.ipynb>data table notebook</a>'\n",
       "            + ' to learn more about interactive tables.';\n",
       "          element.innerHTML = '';\n",
       "          dataTable['output_type'] = 'display_data';\n",
       "          await google.colab.output.renderOutput(dataTable, element);\n",
       "          const docLink = document.createElement('div');\n",
       "          docLink.innerHTML = docLinkHtml;\n",
       "          element.appendChild(docLink);\n",
       "        }\n",
       "      </script>\n",
       "    </div>\n",
       "  </div>\n",
       "  "
      ],
      "text/plain": [
       "   mean_fit_time  std_fit_time  mean_score_time  std_score_time  \\\n",
       "0      18.808051      1.192312         0.521496        0.072632   \n",
       "1      36.374292      0.993493         1.021962        0.143105   \n",
       "2      56.643875      3.577508         1.528906        0.248252   \n",
       "3      17.893283      0.659463         0.483625        0.016756   \n",
       "4      36.602663      0.763346         0.956417        0.117169   \n",
       "5      54.087323      1.497477         1.645704        0.160341   \n",
       "6      13.199955      0.372014         0.595552        0.008399   \n",
       "7      26.119403      0.501875         1.095603        0.049642   \n",
       "8      40.058791      1.021483         1.571854        0.136718   \n",
       "\n",
       "  param_max_features param_n_estimators  \\\n",
       "0               auto                 50   \n",
       "1               auto                100   \n",
       "2               auto                150   \n",
       "3               sqrt                 50   \n",
       "4               sqrt                100   \n",
       "5               sqrt                150   \n",
       "6               log2                 50   \n",
       "7               log2                100   \n",
       "8               log2                150   \n",
       "\n",
       "                                          params  split0_test_neg_log_loss  \\\n",
       "0   {'max_features': 'auto', 'n_estimators': 50}                 -0.432995   \n",
       "1  {'max_features': 'auto', 'n_estimators': 100}                 -0.433153   \n",
       "2  {'max_features': 'auto', 'n_estimators': 150}                 -0.433463   \n",
       "3   {'max_features': 'sqrt', 'n_estimators': 50}                 -0.433403   \n",
       "4  {'max_features': 'sqrt', 'n_estimators': 100}                 -0.433499   \n",
       "5  {'max_features': 'sqrt', 'n_estimators': 150}                 -0.433419   \n",
       "6   {'max_features': 'log2', 'n_estimators': 50}                 -0.435429   \n",
       "7  {'max_features': 'log2', 'n_estimators': 100}                 -0.434783   \n",
       "8  {'max_features': 'log2', 'n_estimators': 150}                 -0.434908   \n",
       "\n",
       "   split1_test_neg_log_loss  split2_test_neg_log_loss  \\\n",
       "0                 -0.433658                 -0.432985   \n",
       "1                 -0.433024                 -0.433040   \n",
       "2                 -0.433166                 -0.433218   \n",
       "3                 -0.433736                 -0.433082   \n",
       "4                 -0.433176                 -0.433166   \n",
       "5                 -0.433176                 -0.433042   \n",
       "6                 -0.435327                 -0.434773   \n",
       "7                 -0.434903                 -0.435013   \n",
       "8                 -0.435187                 -0.435326   \n",
       "\n",
       "   split3_test_neg_log_loss  split4_test_neg_log_loss  mean_test_neg_log_loss  \\\n",
       "0                 -0.433190                 -0.433341               -0.433234   \n",
       "1                 -0.433263                 -0.433541               -0.433204   \n",
       "2                 -0.433286                 -0.433018               -0.433230   \n",
       "3                 -0.433594                 -0.433135               -0.433390   \n",
       "4                 -0.433226                 -0.433149               -0.433243   \n",
       "5                 -0.433127                 -0.433338               -0.433221   \n",
       "6                 -0.435687                 -0.435368               -0.435317   \n",
       "7                 -0.435309                 -0.434838               -0.434969   \n",
       "8                 -0.435189                 -0.435454               -0.435213   \n",
       "\n",
       "   std_test_neg_log_loss  rank_test_neg_log_loss  \n",
       "0               0.000250                       4  \n",
       "1               0.000189                       1  \n",
       "2               0.000146                       3  \n",
       "3               0.000254                       6  \n",
       "4               0.000130                       5  \n",
       "5               0.000139                       2  \n",
       "6               0.000299                       9  \n",
       "7               0.000186                       7  \n",
       "8               0.000182                       8  "
      ]
     },
     "execution_count": 13,
     "metadata": {},
     "output_type": "execute_result"
    }
   ],
   "source": [
    "# grid search 결과 df로 저장\n",
    "df_result_ = pd.DataFrame(grid_search.cv_results_)\n",
    "\n",
    "df_result_.to_csv('%s_estimator_%s.csv'%(model_name, datetime.datetime.now().strftime(\"%m%d%H%M%S\")), index=True, float_format='%.6f') # 이름 설정해줘야함\n",
    "\n",
    "df_result_"
   ]
  },
  {
   "cell_type": "markdown",
   "metadata": {
    "id": "9d336699"
   },
   "source": [
    "# Validation"
   ]
  },
  {
   "cell_type": "markdown",
   "metadata": {
    "id": "4a7df44d"
   },
   "source": [
    "### best_estimator 확인"
   ]
  },
  {
   "cell_type": "code",
   "execution_count": 14,
   "metadata": {
    "colab": {
     "base_uri": "https://localhost:8080/"
    },
    "executionInfo": {
     "elapsed": 4,
     "status": "ok",
     "timestamp": 1678870635818,
     "user": {
      "displayName": "황선경",
      "userId": "17888974404389374352"
     },
     "user_tz": -540
    },
    "id": "f34e575c",
    "outputId": "0597fc65-45b5-48ff-9c51-24a91df7624a"
   },
   "outputs": [
    {
     "name": "stdout",
     "output_type": "stream",
     "text": [
      "RandomForestClassifier(max_depth=5, max_features='auto', min_samples_split=20)\n"
     ]
    }
   ],
   "source": [
    "# Get the best estimator from the grid search\n",
    "best_estimator = grid_search.best_estimator_\n",
    "print(best_estimator)"
   ]
  },
  {
   "cell_type": "code",
   "execution_count": 17,
   "metadata": {
    "colab": {
     "base_uri": "https://localhost:8080/",
     "height": 37
    },
    "executionInfo": {
     "elapsed": 9,
     "status": "ok",
     "timestamp": 1678870763238,
     "user": {
      "displayName": "황선경",
      "userId": "17888974404389374352"
     },
     "user_tz": -540
    },
    "id": "1irZNkiKT5dL",
    "outputId": "d38b41ce-2df6-4f1a-9ebe-c179f2d76e7a"
   },
   "outputs": [
    {
     "data": {
      "application/vnd.google.colaboratory.intrinsic+json": {
       "type": "string"
      },
      "text/plain": [
       "'auto'"
      ]
     },
     "execution_count": 17,
     "metadata": {},
     "output_type": "execute_result"
    }
   ],
   "source": [
    "best_estimator.max_features"
   ]
  },
  {
   "cell_type": "markdown",
   "metadata": {
    "id": "e96909b9"
   },
   "source": [
    "### X_val에 대한 평가지표 확인"
   ]
  },
  {
   "cell_type": "code",
   "execution_count": null,
   "metadata": {
    "colab": {
     "base_uri": "https://localhost:8080/"
    },
    "executionInfo": {
     "elapsed": 2671,
     "status": "ok",
     "timestamp": 1678859411658,
     "user": {
      "displayName": "황선경",
      "userId": "17888974404389374352"
     },
     "user_tz": -540
    },
    "id": "705d5366",
    "outputId": "e7c9079e-f386-414f-eed9-a2f0cf99187d",
    "scrolled": true
   },
   "outputs": [
    {
     "name": "stdout",
     "output_type": "stream",
     "text": [
      "\n",
      " 정확도: 0.8379112149272203, 정밀도도: 0.0, 재현율율: 0.0\n",
      "[[150302      0]\n",
      " [ 29075      0]]\n"
     ]
    }
   ],
   "source": [
    "pred_val = best_estimator.predict(X_val)\n",
    "#dt = DecisionTreeClassifier()\n",
    "#dt.fit(X_train, y_train)\n",
    "#pred_val = dt.predict(X_val)\n",
    "\n",
    "\n",
    "accuracy = accuracy_score(y_val, pred_val)\n",
    "precision = precision_score(y_val, pred_val)\n",
    "recall = recall_score(y_val, pred_val)\n",
    "conf_matrix = confusion_matrix(y_val, pred_val)\n",
    "print('\\n 정확도: {0}, 정밀도도: {1}, 재현율율: {2}'.format(accuracy, precision, recall))\n",
    "print(conf_matrix)"
   ]
  },
  {
   "cell_type": "markdown",
   "metadata": {
    "id": "3318dd84"
   },
   "source": [
    "### X_val fitting"
   ]
  },
  {
   "cell_type": "code",
   "execution_count": null,
   "metadata": {
    "colab": {
     "base_uri": "https://localhost:8080/",
     "height": 296
    },
    "executionInfo": {
     "elapsed": 4682,
     "status": "ok",
     "timestamp": 1678859419404,
     "user": {
      "displayName": "황선경",
      "userId": "17888974404389374352"
     },
     "user_tz": -540
    },
    "id": "f864b23f",
    "outputId": "a9700a3d-2c74-48b2-fa82-87d43ba377fe",
    "scrolled": false
   },
   "outputs": [
    {
     "data": {
      "image/png": "[encoded data removed]",
      "text/plain": [
       "<Figure size 432x288 with 1 Axes>"
      ]
     },
     "metadata": {
      "needs_background": "light"
     },
     "output_type": "display_data"
    }
   ],
   "source": [
    "# Predict probabilities for new data\n",
    "y_val_pred_proba = best_estimator.predict_proba(X_val) # 확률로 추정된 X_val의 y_pred\n",
    "\n",
    "plt.hist(y_val_pred_proba[:,1], bins=100)\n",
    "\n",
    "plt.xlabel('y_val_pred_proba')\n",
    "plt.ylabel('Frequency')\n",
    "plt.title('Frequency of y_val_pred_proba of %s'%(model_name))\n",
    "\n",
    "plt.savefig(\"%s_val_pre_proba_%s.png\"%(model_name, datetime.datetime.now().strftime(\"%m%d%H%M%S\")), dpi=300, bbox_inches='tight')\n",
    "\n",
    "plt.show() # y_val_pred_proba의 분포 확인"
   ]
  },
  {
   "cell_type": "code",
   "execution_count": null,
   "metadata": {
    "colab": {
     "base_uri": "https://localhost:8080/"
    },
    "executionInfo": {
     "elapsed": 8,
     "status": "ok",
     "timestamp": 1678859419404,
     "user": {
      "displayName": "황선경",
      "userId": "17888974404389374352"
     },
     "user_tz": -540
    },
    "id": "80603561",
    "outputId": "6eaf03ba-fe23-4ba2-a8ab-559dbfe921b3"
   },
   "outputs": [
    {
     "data": {
      "text/plain": [
       "array([[0.77853756, 0.22146244],\n",
       "       [0.84425821, 0.15574179],\n",
       "       [0.83647061, 0.16352939],\n",
       "       ...,\n",
       "       [0.82966607, 0.17033393],\n",
       "       [0.84970965, 0.15029035],\n",
       "       [0.82026706, 0.17973294]])"
      ]
     },
     "execution_count": 17,
     "metadata": {},
     "output_type": "execute_result"
    }
   ],
   "source": [
    "y_val_pred_proba"
   ]
  },
  {
   "cell_type": "markdown",
   "metadata": {
    "id": "d8c47020"
   },
   "source": [
    "### optimal threshold 선정 (threshold에 따른 목적함수 값 비교)\n",
    "\n",
    "실제 positive = TP + FN\n",
    "\n",
    "실제 Negative = TN + FP\n",
    "\n",
    "정밀도: positive로 예측한 것 중에 진짜 positive인 것 -> 양성 예측도\n",
    "\n",
    "재현율: 실제 positive 중에 맞춘 것 -> 민감도"
   ]
  },
  {
   "cell_type": "code",
   "execution_count": null,
   "metadata": {
    "id": "XyXYPwxgE4nu"
   },
   "outputs": [],
   "source": [
    "threshold_list = np.linspace(0.10,0.20,20) # 짝수개 값 (예시 10개)"
   ]
  },
  {
   "cell_type": "markdown",
   "metadata": {
    "id": "67a298d2"
   },
   "source": [
    "Threshold에 따른 지표 비교\n",
    "\n",
    "0, 1 count / confusion_matrix / accuracy, precision, recall, f1 score "
   ]
  },
  {
   "cell_type": "code",
   "execution_count": null,
   "metadata": {
    "id": "HWVHIIWEFEm8"
   },
   "outputs": [],
   "source": [
    "def threshold_func(y_val, y_pred_proba, threshold_list):\n",
    "    \n",
    "    n = len(threshold_list)\n",
    "    \n",
    "    result_df = pd.DataFrame(index=['1_real','1_pred','0_real','0_pred','tn', 'fp', 'fn', 'tp', 'tn_%', 'fp_%', 'fn_%', 'tp_%', 'Accuracy', 'Precision', 'Recall', 'F1 score'])\n",
    "    \n",
    "    fig, axes = plt.subplots(nrows=int(n/2), ncols=2, figsize=(10, 10))\n",
    "    \n",
    "    for i in range(len(threshold_list)):\n",
    "        \n",
    "        threshold = threshold_list[i]\n",
    "        \n",
    "        # make Binarizer(y hat)\n",
    "        binarizer = Binarizer(threshold = threshold).fit(y_pred_proba[:,1].reshape(-1,1))\n",
    "        custom_predict = binarizer.transform(y_pred_proba[:,1].reshape(-1,1))\n",
    "        \n",
    "        # count 0, 1 in Binarizer(y hat)\n",
    "        unique, counts = np.unique(custom_predict, return_counts=True)\n",
    "\n",
    "        for val, count in zip(unique, counts):\n",
    "            if len(unique) == 1:\n",
    "                if val == 1.0:\n",
    "                    num_0_pred = 0\n",
    "                    num_1_pred = count\n",
    "                elif val == 0.0:\n",
    "                    num_1_pred = 0\n",
    "                    num_0_pred = count\n",
    "            if val == 1.0:\n",
    "                num_1_pred = count\n",
    "            elif val == 0.0:\n",
    "                num_0_pred = count\n",
    "\n",
    "        # count 0, 1 in y hat\n",
    "        num_0_real = y_val.value_counts()[0]\n",
    "        num_1_real = y_val.value_counts()[1]\n",
    "        \n",
    "        tn, fp, fn, tp = confusion_matrix(y_val, custom_predict).ravel()\n",
    "        count = [tn, fp, fn, tp]\n",
    "        tn_, fp_, fn_, tp_ = [round(x/sum(count)*100, 1) for x in count]\n",
    "        \n",
    "        accuracy = round((tp+tn)/(tp+tn+fp+fn),4)\n",
    "        precision = round(tp/(tp+fp),4)\n",
    "        recall = round(tp/(tp+fn),4)\n",
    "        f1 = round(2*(precision*recall)/(precision+recall),4)\n",
    "        \n",
    "        threshold_tag = round(threshold_list[i], 4)\n",
    "        \n",
    "        result_df[threshold_tag] = [num_1_real, num_1_pred, num_0_real, num_0_pred, tn, fp, fn, tp, tn_, fp_, fn_, tp_, accuracy, precision, recall, f1]\n",
    "        \n",
    "        labels = ['TN','FP','FN','TP']\n",
    "        \n",
    "        # tn, fp, fn, tp 각각의 값을 counts 리스트에 저장\n",
    "        counts = [tn, fp, fn, tp]\n",
    "\n",
    "        # 해당하는 subplot에 그래프 그리기\n",
    "        axes[i//2, i%2].bar(labels, counts)\n",
    "        axes[i//2, i%2].set_title(threshold_tag)\n",
    "        axes[i//2, i%2].set_ylabel('Count')\n",
    "\n",
    "    # 그래프 간격 조절하기\n",
    "    plt.tight_layout()\n",
    "    \n",
    "    plt.savefig(\"%s_threshold_%s.png\"%(model_name, datetime.datetime.now().strftime(\"%m%d%H%M%S\")), dpi=300, bbox_inches='tight')\n",
    "\n",
    "    # 그래프 출력하기\n",
    "    plt.show()\n",
    "    \n",
    "    result_df.to_csv('%s_threshold_%s.csv'%(model_name, datetime.datetime.now().strftime(\"%m%d%H%M%S\")), index=True)\n",
    "    \n",
    "    return result_df"
   ]
  },
  {
   "cell_type": "code",
   "execution_count": null,
   "metadata": {
    "colab": {
     "base_uri": "https://localhost:8080/",
     "height": 1000
    },
    "executionInfo": {
     "elapsed": 10093,
     "status": "ok",
     "timestamp": 1678859762633,
     "user": {
      "displayName": "황선경",
      "userId": "17888974404389374352"
     },
     "user_tz": -540
    },
    "id": "JlFq1HVoFEm-",
    "outputId": "bed6f571-b9c6-40a5-da16-800765417940",
    "scrolled": true
   },
   "outputs": [
    {
     "data": {
      "image/png": "[encoded data removed]",
      "text/plain": [
       "<Figure size 720x720 with 20 Axes>"
      ]
     },
     "metadata": {
      "needs_background": "light"
     },
     "output_type": "display_data"
    },
    {
     "data": {
      "text/html": [
       "\n",
       "  <div id=\"df-5e6497f8-a068-47ae-9773-983dd820b8de\">\n",
       "    <div class=\"colab-df-container\">\n",
       "      <div>\n",
       "<style scoped>\n",
       "    .dataframe tbody tr th:only-of-type {\n",
       "        vertical-align: middle;\n",
       "    }\n",
       "\n",
       "    .dataframe tbody tr th {\n",
       "        vertical-align: top;\n",
       "    }\n",
       "\n",
       "    .dataframe thead th {\n",
       "        text-align: right;\n",
       "    }\n",
       "</style>\n",
       "<table border=\"1\" class=\"dataframe\">\n",
       "  <thead>\n",
       "    <tr style=\"text-align: right;\">\n",
       "      <th></th>\n",
       "      <th>0.1000</th>\n",
       "      <th>0.1053</th>\n",
       "      <th>0.1105</th>\n",
       "      <th>0.1158</th>\n",
       "      <th>0.1211</th>\n",
       "      <th>0.1263</th>\n",
       "      <th>0.1316</th>\n",
       "      <th>0.1368</th>\n",
       "      <th>0.1421</th>\n",
       "      <th>0.1474</th>\n",
       "      <th>0.1526</th>\n",
       "      <th>0.1579</th>\n",
       "      <th>0.1632</th>\n",
       "      <th>0.1684</th>\n",
       "      <th>0.1737</th>\n",
       "      <th>0.1789</th>\n",
       "      <th>0.1842</th>\n",
       "      <th>0.1895</th>\n",
       "      <th>0.1947</th>\n",
       "      <th>0.2000</th>\n",
       "    </tr>\n",
       "  </thead>\n",
       "  <tbody>\n",
       "    <tr>\n",
       "      <th>1_real</th>\n",
       "      <td>29075.0000</td>\n",
       "      <td>29075.0000</td>\n",
       "      <td>29075.0000</td>\n",
       "      <td>29075.0000</td>\n",
       "      <td>29075.0000</td>\n",
       "      <td>29075.0000</td>\n",
       "      <td>29075.0000</td>\n",
       "      <td>29075.0000</td>\n",
       "      <td>29075.0000</td>\n",
       "      <td>29075.0000</td>\n",
       "      <td>29075.0000</td>\n",
       "      <td>29075.0000</td>\n",
       "      <td>29075.0000</td>\n",
       "      <td>29075.0000</td>\n",
       "      <td>29075.0000</td>\n",
       "      <td>29075.0000</td>\n",
       "      <td>29075.0000</td>\n",
       "      <td>29075.0000</td>\n",
       "      <td>29075.0000</td>\n",
       "      <td>29075.0000</td>\n",
       "    </tr>\n",
       "    <tr>\n",
       "      <th>1_pred</th>\n",
       "      <td>178516.0000</td>\n",
       "      <td>177014.0000</td>\n",
       "      <td>174695.0000</td>\n",
       "      <td>171461.0000</td>\n",
       "      <td>166795.0000</td>\n",
       "      <td>161324.0000</td>\n",
       "      <td>154487.0000</td>\n",
       "      <td>146533.0000</td>\n",
       "      <td>137583.0000</td>\n",
       "      <td>127210.0000</td>\n",
       "      <td>115708.0000</td>\n",
       "      <td>102593.0000</td>\n",
       "      <td>88372.0000</td>\n",
       "      <td>74949.0000</td>\n",
       "      <td>61957.0000</td>\n",
       "      <td>49074.0000</td>\n",
       "      <td>38147.0000</td>\n",
       "      <td>28878.0000</td>\n",
       "      <td>21440.0000</td>\n",
       "      <td>15128.0000</td>\n",
       "    </tr>\n",
       "    <tr>\n",
       "      <th>0_real</th>\n",
       "      <td>150302.0000</td>\n",
       "      <td>150302.0000</td>\n",
       "      <td>150302.0000</td>\n",
       "      <td>150302.0000</td>\n",
       "      <td>150302.0000</td>\n",
       "      <td>150302.0000</td>\n",
       "      <td>150302.0000</td>\n",
       "      <td>150302.0000</td>\n",
       "      <td>150302.0000</td>\n",
       "      <td>150302.0000</td>\n",
       "      <td>150302.0000</td>\n",
       "      <td>150302.0000</td>\n",
       "      <td>150302.0000</td>\n",
       "      <td>150302.0000</td>\n",
       "      <td>150302.0000</td>\n",
       "      <td>150302.0000</td>\n",
       "      <td>150302.0000</td>\n",
       "      <td>150302.0000</td>\n",
       "      <td>150302.0000</td>\n",
       "      <td>150302.0000</td>\n",
       "    </tr>\n",
       "    <tr>\n",
       "      <th>0_pred</th>\n",
       "      <td>861.0000</td>\n",
       "      <td>2363.0000</td>\n",
       "      <td>4682.0000</td>\n",
       "      <td>7916.0000</td>\n",
       "      <td>12582.0000</td>\n",
       "      <td>18053.0000</td>\n",
       "      <td>24890.0000</td>\n",
       "      <td>32844.0000</td>\n",
       "      <td>41794.0000</td>\n",
       "      <td>52167.0000</td>\n",
       "      <td>63669.0000</td>\n",
       "      <td>76784.0000</td>\n",
       "      <td>91005.0000</td>\n",
       "      <td>104428.0000</td>\n",
       "      <td>117420.0000</td>\n",
       "      <td>130303.0000</td>\n",
       "      <td>141230.0000</td>\n",
       "      <td>150499.0000</td>\n",
       "      <td>157937.0000</td>\n",
       "      <td>164249.0000</td>\n",
       "    </tr>\n",
       "    <tr>\n",
       "      <th>tn</th>\n",
       "      <td>842.0000</td>\n",
       "      <td>2286.0000</td>\n",
       "      <td>4485.0000</td>\n",
       "      <td>7544.0000</td>\n",
       "      <td>11903.0000</td>\n",
       "      <td>17001.0000</td>\n",
       "      <td>23285.0000</td>\n",
       "      <td>30485.0000</td>\n",
       "      <td>38453.0000</td>\n",
       "      <td>47632.0000</td>\n",
       "      <td>57708.0000</td>\n",
       "      <td>68996.0000</td>\n",
       "      <td>81016.0000</td>\n",
       "      <td>92219.0000</td>\n",
       "      <td>102860.0000</td>\n",
       "      <td>113198.0000</td>\n",
       "      <td>121835.0000</td>\n",
       "      <td>129057.0000</td>\n",
       "      <td>134713.0000</td>\n",
       "      <td>139502.0000</td>\n",
       "    </tr>\n",
       "    <tr>\n",
       "      <th>fp</th>\n",
       "      <td>149460.0000</td>\n",
       "      <td>148016.0000</td>\n",
       "      <td>145817.0000</td>\n",
       "      <td>142758.0000</td>\n",
       "      <td>138399.0000</td>\n",
       "      <td>133301.0000</td>\n",
       "      <td>127017.0000</td>\n",
       "      <td>119817.0000</td>\n",
       "      <td>111849.0000</td>\n",
       "      <td>102670.0000</td>\n",
       "      <td>92594.0000</td>\n",
       "      <td>81306.0000</td>\n",
       "      <td>69286.0000</td>\n",
       "      <td>58083.0000</td>\n",
       "      <td>47442.0000</td>\n",
       "      <td>37104.0000</td>\n",
       "      <td>28467.0000</td>\n",
       "      <td>21245.0000</td>\n",
       "      <td>15589.0000</td>\n",
       "      <td>10800.0000</td>\n",
       "    </tr>\n",
       "    <tr>\n",
       "      <th>fn</th>\n",
       "      <td>19.0000</td>\n",
       "      <td>77.0000</td>\n",
       "      <td>197.0000</td>\n",
       "      <td>372.0000</td>\n",
       "      <td>679.0000</td>\n",
       "      <td>1052.0000</td>\n",
       "      <td>1605.0000</td>\n",
       "      <td>2359.0000</td>\n",
       "      <td>3341.0000</td>\n",
       "      <td>4535.0000</td>\n",
       "      <td>5961.0000</td>\n",
       "      <td>7788.0000</td>\n",
       "      <td>9989.0000</td>\n",
       "      <td>12209.0000</td>\n",
       "      <td>14560.0000</td>\n",
       "      <td>17105.0000</td>\n",
       "      <td>19395.0000</td>\n",
       "      <td>21442.0000</td>\n",
       "      <td>23224.0000</td>\n",
       "      <td>24747.0000</td>\n",
       "    </tr>\n",
       "    <tr>\n",
       "      <th>tp</th>\n",
       "      <td>29056.0000</td>\n",
       "      <td>28998.0000</td>\n",
       "      <td>28878.0000</td>\n",
       "      <td>28703.0000</td>\n",
       "      <td>28396.0000</td>\n",
       "      <td>28023.0000</td>\n",
       "      <td>27470.0000</td>\n",
       "      <td>26716.0000</td>\n",
       "      <td>25734.0000</td>\n",
       "      <td>24540.0000</td>\n",
       "      <td>23114.0000</td>\n",
       "      <td>21287.0000</td>\n",
       "      <td>19086.0000</td>\n",
       "      <td>16866.0000</td>\n",
       "      <td>14515.0000</td>\n",
       "      <td>11970.0000</td>\n",
       "      <td>9680.0000</td>\n",
       "      <td>7633.0000</td>\n",
       "      <td>5851.0000</td>\n",
       "      <td>4328.0000</td>\n",
       "    </tr>\n",
       "    <tr>\n",
       "      <th>tn_%</th>\n",
       "      <td>0.5000</td>\n",
       "      <td>1.3000</td>\n",
       "      <td>2.5000</td>\n",
       "      <td>4.2000</td>\n",
       "      <td>6.6000</td>\n",
       "      <td>9.5000</td>\n",
       "      <td>13.0000</td>\n",
       "      <td>17.0000</td>\n",
       "      <td>21.4000</td>\n",
       "      <td>26.6000</td>\n",
       "      <td>32.2000</td>\n",
       "      <td>38.5000</td>\n",
       "      <td>45.2000</td>\n",
       "      <td>51.4000</td>\n",
       "      <td>57.3000</td>\n",
       "      <td>63.1000</td>\n",
       "      <td>67.9000</td>\n",
       "      <td>71.9000</td>\n",
       "      <td>75.1000</td>\n",
       "      <td>77.8000</td>\n",
       "    </tr>\n",
       "    <tr>\n",
       "      <th>fp_%</th>\n",
       "      <td>83.3000</td>\n",
       "      <td>82.5000</td>\n",
       "      <td>81.3000</td>\n",
       "      <td>79.6000</td>\n",
       "      <td>77.2000</td>\n",
       "      <td>74.3000</td>\n",
       "      <td>70.8000</td>\n",
       "      <td>66.8000</td>\n",
       "      <td>62.4000</td>\n",
       "      <td>57.2000</td>\n",
       "      <td>51.6000</td>\n",
       "      <td>45.3000</td>\n",
       "      <td>38.6000</td>\n",
       "      <td>32.4000</td>\n",
       "      <td>26.4000</td>\n",
       "      <td>20.7000</td>\n",
       "      <td>15.9000</td>\n",
       "      <td>11.8000</td>\n",
       "      <td>8.7000</td>\n",
       "      <td>6.0000</td>\n",
       "    </tr>\n",
       "    <tr>\n",
       "      <th>fn_%</th>\n",
       "      <td>0.0000</td>\n",
       "      <td>0.0000</td>\n",
       "      <td>0.1000</td>\n",
       "      <td>0.2000</td>\n",
       "      <td>0.4000</td>\n",
       "      <td>0.6000</td>\n",
       "      <td>0.9000</td>\n",
       "      <td>1.3000</td>\n",
       "      <td>1.9000</td>\n",
       "      <td>2.5000</td>\n",
       "      <td>3.3000</td>\n",
       "      <td>4.3000</td>\n",
       "      <td>5.6000</td>\n",
       "      <td>6.8000</td>\n",
       "      <td>8.1000</td>\n",
       "      <td>9.5000</td>\n",
       "      <td>10.8000</td>\n",
       "      <td>12.0000</td>\n",
       "      <td>12.9000</td>\n",
       "      <td>13.8000</td>\n",
       "    </tr>\n",
       "    <tr>\n",
       "      <th>tp_%</th>\n",
       "      <td>16.2000</td>\n",
       "      <td>16.2000</td>\n",
       "      <td>16.1000</td>\n",
       "      <td>16.0000</td>\n",
       "      <td>15.8000</td>\n",
       "      <td>15.6000</td>\n",
       "      <td>15.3000</td>\n",
       "      <td>14.9000</td>\n",
       "      <td>14.3000</td>\n",
       "      <td>13.7000</td>\n",
       "      <td>12.9000</td>\n",
       "      <td>11.9000</td>\n",
       "      <td>10.6000</td>\n",
       "      <td>9.4000</td>\n",
       "      <td>8.1000</td>\n",
       "      <td>6.7000</td>\n",
       "      <td>5.4000</td>\n",
       "      <td>4.3000</td>\n",
       "      <td>3.3000</td>\n",
       "      <td>2.4000</td>\n",
       "    </tr>\n",
       "    <tr>\n",
       "      <th>Accuracy</th>\n",
       "      <td>0.1667</td>\n",
       "      <td>0.1744</td>\n",
       "      <td>0.1860</td>\n",
       "      <td>0.2021</td>\n",
       "      <td>0.2247</td>\n",
       "      <td>0.2510</td>\n",
       "      <td>0.2830</td>\n",
       "      <td>0.3189</td>\n",
       "      <td>0.3578</td>\n",
       "      <td>0.4023</td>\n",
       "      <td>0.4506</td>\n",
       "      <td>0.5033</td>\n",
       "      <td>0.5581</td>\n",
       "      <td>0.6081</td>\n",
       "      <td>0.6543</td>\n",
       "      <td>0.6978</td>\n",
       "      <td>0.7332</td>\n",
       "      <td>0.7620</td>\n",
       "      <td>0.7836</td>\n",
       "      <td>0.8018</td>\n",
       "    </tr>\n",
       "    <tr>\n",
       "      <th>Precision</th>\n",
       "      <td>0.1628</td>\n",
       "      <td>0.1638</td>\n",
       "      <td>0.1653</td>\n",
       "      <td>0.1674</td>\n",
       "      <td>0.1702</td>\n",
       "      <td>0.1737</td>\n",
       "      <td>0.1778</td>\n",
       "      <td>0.1823</td>\n",
       "      <td>0.1870</td>\n",
       "      <td>0.1929</td>\n",
       "      <td>0.1998</td>\n",
       "      <td>0.2075</td>\n",
       "      <td>0.2160</td>\n",
       "      <td>0.2250</td>\n",
       "      <td>0.2343</td>\n",
       "      <td>0.2439</td>\n",
       "      <td>0.2538</td>\n",
       "      <td>0.2643</td>\n",
       "      <td>0.2729</td>\n",
       "      <td>0.2861</td>\n",
       "    </tr>\n",
       "    <tr>\n",
       "      <th>Recall</th>\n",
       "      <td>0.9993</td>\n",
       "      <td>0.9974</td>\n",
       "      <td>0.9932</td>\n",
       "      <td>0.9872</td>\n",
       "      <td>0.9766</td>\n",
       "      <td>0.9638</td>\n",
       "      <td>0.9448</td>\n",
       "      <td>0.9189</td>\n",
       "      <td>0.8851</td>\n",
       "      <td>0.8440</td>\n",
       "      <td>0.7950</td>\n",
       "      <td>0.7321</td>\n",
       "      <td>0.6564</td>\n",
       "      <td>0.5801</td>\n",
       "      <td>0.4992</td>\n",
       "      <td>0.4117</td>\n",
       "      <td>0.3329</td>\n",
       "      <td>0.2625</td>\n",
       "      <td>0.2012</td>\n",
       "      <td>0.1489</td>\n",
       "    </tr>\n",
       "    <tr>\n",
       "      <th>F1 score</th>\n",
       "      <td>0.2800</td>\n",
       "      <td>0.2814</td>\n",
       "      <td>0.2834</td>\n",
       "      <td>0.2863</td>\n",
       "      <td>0.2899</td>\n",
       "      <td>0.2944</td>\n",
       "      <td>0.2993</td>\n",
       "      <td>0.3042</td>\n",
       "      <td>0.3088</td>\n",
       "      <td>0.3140</td>\n",
       "      <td>0.3193</td>\n",
       "      <td>0.3234</td>\n",
       "      <td>0.3250</td>\n",
       "      <td>0.3242</td>\n",
       "      <td>0.3189</td>\n",
       "      <td>0.3063</td>\n",
       "      <td>0.2880</td>\n",
       "      <td>0.2634</td>\n",
       "      <td>0.2316</td>\n",
       "      <td>0.1959</td>\n",
       "    </tr>\n",
       "  </tbody>\n",
       "</table>\n",
       "</div>\n",
       "      <button class=\"colab-df-convert\" onclick=\"convertToInteractive('df-5e6497f8-a068-47ae-9773-983dd820b8de')\"\n",
       "              title=\"Convert this dataframe to an interactive table.\"\n",
       "              style=\"display:none;\">\n",
       "        \n",
       "  <svg xmlns=\"http://www.w3.org/2000/svg\" height=\"24px\"viewBox=\"0 0 24 24\"\n",
       "       width=\"24px\">\n",
       "    <path d=\"M0 0h24v24H0V0z\" fill=\"none\"/>\n",
       "    <path d=\"M18.56 5.44l.94 2.06.94-2.06 2.06-.94-2.06-.94-.94-2.06-.94 2.06-2.06.94zm-11 1L8.5 8.5l.94-2.06 2.06-.94-2.06-.94L8.5 2.5l-.94 2.06-2.06.94zm10 10l.94 2.06.94-2.06 2.06-.94-2.06-.94-.94-2.06-.94 2.06-2.06.94z\"/><path d=\"M17.41 7.96l-1.37-1.37c-.4-.4-.92-.59-1.43-.59-.52 0-1.04.2-1.43.59L10.3 9.45l-7.72 7.72c-.78.78-.78 2.05 0 2.83L4 21.41c.39.39.9.59 1.41.59.51 0 1.02-.2 1.41-.59l7.78-7.78 2.81-2.81c.8-.78.8-2.07 0-2.86zM5.41 20L4 18.59l7.72-7.72 1.47 1.35L5.41 20z\"/>\n",
       "  </svg>\n",
       "      </button>\n",
       "      \n",
       "  <style>\n",
       "    .colab-df-container {\n",
       "      display:flex;\n",
       "      flex-wrap:wrap;\n",
       "      gap: 12px;\n",
       "    }\n",
       "\n",
       "    .colab-df-convert {\n",
       "      background-color: #E8F0FE;\n",
       "      border: none;\n",
       "      border-radius: 50%;\n",
       "      cursor: pointer;\n",
       "      display: none;\n",
       "      fill: #1967D2;\n",
       "      height: 32px;\n",
       "      padding: 0 0 0 0;\n",
       "      width: 32px;\n",
       "    }\n",
       "\n",
       "    .colab-df-convert:hover {\n",
       "      background-color: #E2EBFA;\n",
       "      box-shadow: 0px 1px 2px rgba(60, 64, 67, 0.3), 0px 1px 3px 1px rgba(60, 64, 67, 0.15);\n",
       "      fill: #174EA6;\n",
       "    }\n",
       "\n",
       "    [theme=dark] .colab-df-convert {\n",
       "      background-color: #3B4455;\n",
       "      fill: #D2E3FC;\n",
       "    }\n",
       "\n",
       "    [theme=dark] .colab-df-convert:hover {\n",
       "      background-color: #434B5C;\n",
       "      box-shadow: 0px 1px 3px 1px rgba(0, 0, 0, 0.15);\n",
       "      filter: drop-shadow(0px 1px 2px rgba(0, 0, 0, 0.3));\n",
       "      fill: #FFFFFF;\n",
       "    }\n",
       "  </style>\n",
       "\n",
       "      <script>\n",
       "        const buttonEl =\n",
       "          document.querySelector('#df-5e6497f8-a068-47ae-9773-983dd820b8de button.colab-df-convert');\n",
       "        buttonEl.style.display =\n",
       "          google.colab.kernel.accessAllowed ? 'block' : 'none';\n",
       "\n",
       "        async function convertToInteractive(key) {\n",
       "          const element = document.querySelector('#df-5e6497f8-a068-47ae-9773-983dd820b8de');\n",
       "          const dataTable =\n",
       "            await google.colab.kernel.invokeFunction('convertToInteractive',\n",
       "                                                     [key], {});\n",
       "          if (!dataTable) return;\n",
       "\n",
       "          const docLinkHtml = 'Like what you see? Visit the ' +\n",
       "            '<a target=\"_blank\" href=https://colab.research.google.com/notebooks/data_table.ipynb>data table notebook</a>'\n",
       "            + ' to learn more about interactive tables.';\n",
       "          element.innerHTML = '';\n",
       "          dataTable['output_type'] = 'display_data';\n",
       "          await google.colab.output.renderOutput(dataTable, element);\n",
       "          const docLink = document.createElement('div');\n",
       "          docLink.innerHTML = docLinkHtml;\n",
       "          element.appendChild(docLink);\n",
       "        }\n",
       "      </script>\n",
       "    </div>\n",
       "  </div>\n",
       "  "
      ],
      "text/plain": [
       "                0.1000       0.1053       0.1105       0.1158       0.1211  \\\n",
       "1_real      29075.0000   29075.0000   29075.0000   29075.0000   29075.0000   \n",
       "1_pred     178516.0000  177014.0000  174695.0000  171461.0000  166795.0000   \n",
       "0_real     150302.0000  150302.0000  150302.0000  150302.0000  150302.0000   \n",
       "0_pred        861.0000    2363.0000    4682.0000    7916.0000   12582.0000   \n",
       "tn            842.0000    2286.0000    4485.0000    7544.0000   11903.0000   \n",
       "fp         149460.0000  148016.0000  145817.0000  142758.0000  138399.0000   \n",
       "fn             19.0000      77.0000     197.0000     372.0000     679.0000   \n",
       "tp          29056.0000   28998.0000   28878.0000   28703.0000   28396.0000   \n",
       "tn_%            0.5000       1.3000       2.5000       4.2000       6.6000   \n",
       "fp_%           83.3000      82.5000      81.3000      79.6000      77.2000   \n",
       "fn_%            0.0000       0.0000       0.1000       0.2000       0.4000   \n",
       "tp_%           16.2000      16.2000      16.1000      16.0000      15.8000   \n",
       "Accuracy        0.1667       0.1744       0.1860       0.2021       0.2247   \n",
       "Precision       0.1628       0.1638       0.1653       0.1674       0.1702   \n",
       "Recall          0.9993       0.9974       0.9932       0.9872       0.9766   \n",
       "F1 score        0.2800       0.2814       0.2834       0.2863       0.2899   \n",
       "\n",
       "                0.1263       0.1316       0.1368       0.1421       0.1474  \\\n",
       "1_real      29075.0000   29075.0000   29075.0000   29075.0000   29075.0000   \n",
       "1_pred     161324.0000  154487.0000  146533.0000  137583.0000  127210.0000   \n",
       "0_real     150302.0000  150302.0000  150302.0000  150302.0000  150302.0000   \n",
       "0_pred      18053.0000   24890.0000   32844.0000   41794.0000   52167.0000   \n",
       "tn          17001.0000   23285.0000   30485.0000   38453.0000   47632.0000   \n",
       "fp         133301.0000  127017.0000  119817.0000  111849.0000  102670.0000   \n",
       "fn           1052.0000    1605.0000    2359.0000    3341.0000    4535.0000   \n",
       "tp          28023.0000   27470.0000   26716.0000   25734.0000   24540.0000   \n",
       "tn_%            9.5000      13.0000      17.0000      21.4000      26.6000   \n",
       "fp_%           74.3000      70.8000      66.8000      62.4000      57.2000   \n",
       "fn_%            0.6000       0.9000       1.3000       1.9000       2.5000   \n",
       "tp_%           15.6000      15.3000      14.9000      14.3000      13.7000   \n",
       "Accuracy        0.2510       0.2830       0.3189       0.3578       0.4023   \n",
       "Precision       0.1737       0.1778       0.1823       0.1870       0.1929   \n",
       "Recall          0.9638       0.9448       0.9189       0.8851       0.8440   \n",
       "F1 score        0.2944       0.2993       0.3042       0.3088       0.3140   \n",
       "\n",
       "                0.1526       0.1579       0.1632       0.1684       0.1737  \\\n",
       "1_real      29075.0000   29075.0000   29075.0000   29075.0000   29075.0000   \n",
       "1_pred     115708.0000  102593.0000   88372.0000   74949.0000   61957.0000   \n",
       "0_real     150302.0000  150302.0000  150302.0000  150302.0000  150302.0000   \n",
       "0_pred      63669.0000   76784.0000   91005.0000  104428.0000  117420.0000   \n",
       "tn          57708.0000   68996.0000   81016.0000   92219.0000  102860.0000   \n",
       "fp          92594.0000   81306.0000   69286.0000   58083.0000   47442.0000   \n",
       "fn           5961.0000    7788.0000    9989.0000   12209.0000   14560.0000   \n",
       "tp          23114.0000   21287.0000   19086.0000   16866.0000   14515.0000   \n",
       "tn_%           32.2000      38.5000      45.2000      51.4000      57.3000   \n",
       "fp_%           51.6000      45.3000      38.6000      32.4000      26.4000   \n",
       "fn_%            3.3000       4.3000       5.6000       6.8000       8.1000   \n",
       "tp_%           12.9000      11.9000      10.6000       9.4000       8.1000   \n",
       "Accuracy        0.4506       0.5033       0.5581       0.6081       0.6543   \n",
       "Precision       0.1998       0.2075       0.2160       0.2250       0.2343   \n",
       "Recall          0.7950       0.7321       0.6564       0.5801       0.4992   \n",
       "F1 score        0.3193       0.3234       0.3250       0.3242       0.3189   \n",
       "\n",
       "                0.1789       0.1842       0.1895       0.1947       0.2000  \n",
       "1_real      29075.0000   29075.0000   29075.0000   29075.0000   29075.0000  \n",
       "1_pred      49074.0000   38147.0000   28878.0000   21440.0000   15128.0000  \n",
       "0_real     150302.0000  150302.0000  150302.0000  150302.0000  150302.0000  \n",
       "0_pred     130303.0000  141230.0000  150499.0000  157937.0000  164249.0000  \n",
       "tn         113198.0000  121835.0000  129057.0000  134713.0000  139502.0000  \n",
       "fp          37104.0000   28467.0000   21245.0000   15589.0000   10800.0000  \n",
       "fn          17105.0000   19395.0000   21442.0000   23224.0000   24747.0000  \n",
       "tp          11970.0000    9680.0000    7633.0000    5851.0000    4328.0000  \n",
       "tn_%           63.1000      67.9000      71.9000      75.1000      77.8000  \n",
       "fp_%           20.7000      15.9000      11.8000       8.7000       6.0000  \n",
       "fn_%            9.5000      10.8000      12.0000      12.9000      13.8000  \n",
       "tp_%            6.7000       5.4000       4.3000       3.3000       2.4000  \n",
       "Accuracy        0.6978       0.7332       0.7620       0.7836       0.8018  \n",
       "Precision       0.2439       0.2538       0.2643       0.2729       0.2861  \n",
       "Recall          0.4117       0.3329       0.2625       0.2012       0.1489  \n",
       "F1 score        0.3063       0.2880       0.2634       0.2316       0.1959  "
      ]
     },
     "execution_count": 37,
     "metadata": {},
     "output_type": "execute_result"
    }
   ],
   "source": [
    "threshold_func(y_val, y_val_pred_proba, threshold_list)"
   ]
  },
  {
   "cell_type": "markdown",
   "metadata": {
    "id": "7671dfe9"
   },
   "source": [
    "Threshold에 따른 목적함수 값 비교"
   ]
  },
  {
   "cell_type": "code",
   "execution_count": null,
   "metadata": {
    "id": "b11d3bf4"
   },
   "outputs": [],
   "source": [
    "OPT_threshold = None\n",
    "OPT_expected_loss = None\n",
    "\n",
    "def objective_func(y_pred_proba, threshold_list):\n",
    "    \n",
    "        result_df = pd.DataFrame(index=['1-TPR','FPR','w1_1-TPR','w2_FPR','Expected_loss'])\n",
    "        \n",
    "        expected_loss_list = []\n",
    "        \n",
    "        for i in range(len(threshold_list)):\n",
    "            \n",
    "            threshold = threshold_list[i]\n",
    "            \n",
    "            # make Binarizer(y hat)\n",
    "            binarizer = Binarizer(threshold = threshold).fit(y_pred_proba[:,1].reshape(-1,1))\n",
    "            custom_predict = binarizer.transform(y_pred_proba[:,1].reshape(-1,1))\n",
    "\n",
    "            tn, fp, fn, tp = confusion_matrix(y_val, custom_predict).ravel()\n",
    "            count = [tn, fp, fn, tp]\n",
    "            \n",
    "            tpr_1 = fn / (fn + tp)\n",
    "            fpr = fp / (fp + tn)\n",
    "            w1 = 0.55\n",
    "            w2 = 0.45\n",
    "            \n",
    "            expected_loss = w1 * tpr_1 + w2 * fpr\n",
    "            \n",
    "            expected_loss_list.append(expected_loss)\n",
    "            \n",
    "            threshold_tag = round(threshold_list[i], 4)\n",
    "        \n",
    "            result_df[threshold_tag] = [tpr_1, fpr, w1*tpr_1, w2*fpr, expected_loss]\n",
    "            \n",
    "            if i == 0:\n",
    "                opt_threshold = threshold\n",
    "                opt_expected_loss = expected_loss\n",
    "            else:\n",
    "                if opt_expected_loss > expected_loss:\n",
    "                    opt_threshold = threshold\n",
    "                    opt_expected_loss = expected_loss\n",
    "                    \n",
    "#         expected_loss_list = [round(x, 1) for x in expected_loss_list]\n",
    "\n",
    "        print(opt_threshold)\n",
    "        print(opt_expected_loss)\n",
    "        \n",
    "        plt.plot(threshold_list, expected_loss_list)\n",
    "        plt.scatter(threshold_list, expected_loss_list)\n",
    "        \n",
    "        plt.xlabel('Threshold')\n",
    "        plt.ylabel('Expected_Loss')\n",
    "        plt.title('Expected Loss of Thresholds of %s'%(model_name))\n",
    "\n",
    "        plt.savefig(\"%s_expected_loss_%s.png\"%(model_name, datetime.datetime.now().strftime(\"%m%d%H%M%S\")), dpi=300, bbox_inches='tight')\n",
    "        \n",
    "        plt.show()\n",
    "        \n",
    "        global OPT_threshold\n",
    "        OPT_threshold = opt_threshold\n",
    "        global OPT_expected_loss\n",
    "        OPT_expected_loss = opt_expected_loss\n",
    "        \n",
    "        result_df.to_csv('%s_expected_loss_%s.csv'%(model_name, datetime.datetime.now().strftime(\"%m%d%H%M%S\")), float_format='%.3f', index=True)\n",
    "        \n",
    "        return result_df"
   ]
  },
  {
   "cell_type": "code",
   "execution_count": null,
   "metadata": {
    "colab": {
     "base_uri": "https://localhost:8080/",
     "height": 580
    },
    "executionInfo": {
     "elapsed": 3640,
     "status": "ok",
     "timestamp": 1678859771463,
     "user": {
      "displayName": "황선경",
      "userId": "17888974404389374352"
     },
     "user_tz": -540
    },
    "id": "b81884da",
    "outputId": "c97c9db8-ff5b-4a51-e5ea-fe0d89d88502",
    "scrolled": false
   },
   "outputs": [
    {
     "name": "stdout",
     "output_type": "stream",
     "text": [
      "0.15263157894736842\n",
      "0.3899856788418635\n"
     ]
    },
    {
     "data": {
      "image/png": "[encoded data removed]",
      "text/plain": [
       "<Figure size 432x288 with 1 Axes>"
      ]
     },
     "metadata": {
      "needs_background": "light"
     },
     "output_type": "display_data"
    },
    {
     "data": {
      "text/html": [
       "\n",
       "  <div id=\"df-5f3999b9-5d0b-4d46-af77-338a16f983f0\">\n",
       "    <div class=\"colab-df-container\">\n",
       "      <div>\n",
       "<style scoped>\n",
       "    .dataframe tbody tr th:only-of-type {\n",
       "        vertical-align: middle;\n",
       "    }\n",
       "\n",
       "    .dataframe tbody tr th {\n",
       "        vertical-align: top;\n",
       "    }\n",
       "\n",
       "    .dataframe thead th {\n",
       "        text-align: right;\n",
       "    }\n",
       "</style>\n",
       "<table border=\"1\" class=\"dataframe\">\n",
       "  <thead>\n",
       "    <tr style=\"text-align: right;\">\n",
       "      <th></th>\n",
       "      <th>0.1000</th>\n",
       "      <th>0.1053</th>\n",
       "      <th>0.1105</th>\n",
       "      <th>0.1158</th>\n",
       "      <th>0.1211</th>\n",
       "      <th>0.1263</th>\n",
       "      <th>0.1316</th>\n",
       "      <th>0.1368</th>\n",
       "      <th>0.1421</th>\n",
       "      <th>0.1474</th>\n",
       "      <th>0.1526</th>\n",
       "      <th>0.1579</th>\n",
       "      <th>0.1632</th>\n",
       "      <th>0.1684</th>\n",
       "      <th>0.1737</th>\n",
       "      <th>0.1789</th>\n",
       "      <th>0.1842</th>\n",
       "      <th>0.1895</th>\n",
       "      <th>0.1947</th>\n",
       "      <th>0.2000</th>\n",
       "    </tr>\n",
       "  </thead>\n",
       "  <tbody>\n",
       "    <tr>\n",
       "      <th>1-TPR</th>\n",
       "      <td>0.000653</td>\n",
       "      <td>0.002648</td>\n",
       "      <td>0.006776</td>\n",
       "      <td>0.012794</td>\n",
       "      <td>0.023353</td>\n",
       "      <td>0.036182</td>\n",
       "      <td>0.055202</td>\n",
       "      <td>0.081135</td>\n",
       "      <td>0.114910</td>\n",
       "      <td>0.155976</td>\n",
       "      <td>0.205021</td>\n",
       "      <td>0.267859</td>\n",
       "      <td>0.343560</td>\n",
       "      <td>0.419914</td>\n",
       "      <td>0.500774</td>\n",
       "      <td>0.588306</td>\n",
       "      <td>0.667068</td>\n",
       "      <td>0.737472</td>\n",
       "      <td>0.798762</td>\n",
       "      <td>0.851144</td>\n",
       "    </tr>\n",
       "    <tr>\n",
       "      <th>FPR</th>\n",
       "      <td>0.994398</td>\n",
       "      <td>0.984791</td>\n",
       "      <td>0.970160</td>\n",
       "      <td>0.949808</td>\n",
       "      <td>0.920806</td>\n",
       "      <td>0.886888</td>\n",
       "      <td>0.845079</td>\n",
       "      <td>0.797175</td>\n",
       "      <td>0.744162</td>\n",
       "      <td>0.683091</td>\n",
       "      <td>0.616053</td>\n",
       "      <td>0.540951</td>\n",
       "      <td>0.460979</td>\n",
       "      <td>0.386442</td>\n",
       "      <td>0.315645</td>\n",
       "      <td>0.246863</td>\n",
       "      <td>0.189399</td>\n",
       "      <td>0.141349</td>\n",
       "      <td>0.103718</td>\n",
       "      <td>0.071855</td>\n",
       "    </tr>\n",
       "    <tr>\n",
       "      <th>w1_1-TPR</th>\n",
       "      <td>0.000359</td>\n",
       "      <td>0.001457</td>\n",
       "      <td>0.003727</td>\n",
       "      <td>0.007037</td>\n",
       "      <td>0.012844</td>\n",
       "      <td>0.019900</td>\n",
       "      <td>0.030361</td>\n",
       "      <td>0.044624</td>\n",
       "      <td>0.063200</td>\n",
       "      <td>0.085787</td>\n",
       "      <td>0.112762</td>\n",
       "      <td>0.147322</td>\n",
       "      <td>0.188958</td>\n",
       "      <td>0.230953</td>\n",
       "      <td>0.275426</td>\n",
       "      <td>0.323568</td>\n",
       "      <td>0.366887</td>\n",
       "      <td>0.405610</td>\n",
       "      <td>0.439319</td>\n",
       "      <td>0.468129</td>\n",
       "    </tr>\n",
       "    <tr>\n",
       "      <th>w2_FPR</th>\n",
       "      <td>0.447479</td>\n",
       "      <td>0.443156</td>\n",
       "      <td>0.436572</td>\n",
       "      <td>0.427413</td>\n",
       "      <td>0.414363</td>\n",
       "      <td>0.399099</td>\n",
       "      <td>0.380285</td>\n",
       "      <td>0.358729</td>\n",
       "      <td>0.334873</td>\n",
       "      <td>0.307391</td>\n",
       "      <td>0.277224</td>\n",
       "      <td>0.243428</td>\n",
       "      <td>0.207440</td>\n",
       "      <td>0.173899</td>\n",
       "      <td>0.142040</td>\n",
       "      <td>0.111088</td>\n",
       "      <td>0.085229</td>\n",
       "      <td>0.063607</td>\n",
       "      <td>0.046673</td>\n",
       "      <td>0.032335</td>\n",
       "    </tr>\n",
       "    <tr>\n",
       "      <th>Expected_loss</th>\n",
       "      <td>0.447838</td>\n",
       "      <td>0.444612</td>\n",
       "      <td>0.440299</td>\n",
       "      <td>0.434450</td>\n",
       "      <td>0.427207</td>\n",
       "      <td>0.419000</td>\n",
       "      <td>0.410646</td>\n",
       "      <td>0.403353</td>\n",
       "      <td>0.398073</td>\n",
       "      <td>0.393178</td>\n",
       "      <td>0.389986</td>\n",
       "      <td>0.390750</td>\n",
       "      <td>0.396398</td>\n",
       "      <td>0.404852</td>\n",
       "      <td>0.417466</td>\n",
       "      <td>0.434657</td>\n",
       "      <td>0.452117</td>\n",
       "      <td>0.469217</td>\n",
       "      <td>0.485992</td>\n",
       "      <td>0.500464</td>\n",
       "    </tr>\n",
       "  </tbody>\n",
       "</table>\n",
       "</div>\n",
       "      <button class=\"colab-df-convert\" onclick=\"convertToInteractive('df-5f3999b9-5d0b-4d46-af77-338a16f983f0')\"\n",
       "              title=\"Convert this dataframe to an interactive table.\"\n",
       "              style=\"display:none;\">\n",
       "        \n",
       "  <svg xmlns=\"http://www.w3.org/2000/svg\" height=\"24px\"viewBox=\"0 0 24 24\"\n",
       "       width=\"24px\">\n",
       "    <path d=\"M0 0h24v24H0V0z\" fill=\"none\"/>\n",
       "    <path d=\"M18.56 5.44l.94 2.06.94-2.06 2.06-.94-2.06-.94-.94-2.06-.94 2.06-2.06.94zm-11 1L8.5 8.5l.94-2.06 2.06-.94-2.06-.94L8.5 2.5l-.94 2.06-2.06.94zm10 10l.94 2.06.94-2.06 2.06-.94-2.06-.94-.94-2.06-.94 2.06-2.06.94z\"/><path d=\"M17.41 7.96l-1.37-1.37c-.4-.4-.92-.59-1.43-.59-.52 0-1.04.2-1.43.59L10.3 9.45l-7.72 7.72c-.78.78-.78 2.05 0 2.83L4 21.41c.39.39.9.59 1.41.59.51 0 1.02-.2 1.41-.59l7.78-7.78 2.81-2.81c.8-.78.8-2.07 0-2.86zM5.41 20L4 18.59l7.72-7.72 1.47 1.35L5.41 20z\"/>\n",
       "  </svg>\n",
       "      </button>\n",
       "      \n",
       "  <style>\n",
       "    .colab-df-container {\n",
       "      display:flex;\n",
       "      flex-wrap:wrap;\n",
       "      gap: 12px;\n",
       "    }\n",
       "\n",
       "    .colab-df-convert {\n",
       "      background-color: #E8F0FE;\n",
       "      border: none;\n",
       "      border-radius: 50%;\n",
       "      cursor: pointer;\n",
       "      display: none;\n",
       "      fill: #1967D2;\n",
       "      height: 32px;\n",
       "      padding: 0 0 0 0;\n",
       "      width: 32px;\n",
       "    }\n",
       "\n",
       "    .colab-df-convert:hover {\n",
       "      background-color: #E2EBFA;\n",
       "      box-shadow: 0px 1px 2px rgba(60, 64, 67, 0.3), 0px 1px 3px 1px rgba(60, 64, 67, 0.15);\n",
       "      fill: #174EA6;\n",
       "    }\n",
       "\n",
       "    [theme=dark] .colab-df-convert {\n",
       "      background-color: #3B4455;\n",
       "      fill: #D2E3FC;\n",
       "    }\n",
       "\n",
       "    [theme=dark] .colab-df-convert:hover {\n",
       "      background-color: #434B5C;\n",
       "      box-shadow: 0px 1px 3px 1px rgba(0, 0, 0, 0.15);\n",
       "      filter: drop-shadow(0px 1px 2px rgba(0, 0, 0, 0.3));\n",
       "      fill: #FFFFFF;\n",
       "    }\n",
       "  </style>\n",
       "\n",
       "      <script>\n",
       "        const buttonEl =\n",
       "          document.querySelector('#df-5f3999b9-5d0b-4d46-af77-338a16f983f0 button.colab-df-convert');\n",
       "        buttonEl.style.display =\n",
       "          google.colab.kernel.accessAllowed ? 'block' : 'none';\n",
       "\n",
       "        async function convertToInteractive(key) {\n",
       "          const element = document.querySelector('#df-5f3999b9-5d0b-4d46-af77-338a16f983f0');\n",
       "          const dataTable =\n",
       "            await google.colab.kernel.invokeFunction('convertToInteractive',\n",
       "                                                     [key], {});\n",
       "          if (!dataTable) return;\n",
       "\n",
       "          const docLinkHtml = 'Like what you see? Visit the ' +\n",
       "            '<a target=\"_blank\" href=https://colab.research.google.com/notebooks/data_table.ipynb>data table notebook</a>'\n",
       "            + ' to learn more about interactive tables.';\n",
       "          element.innerHTML = '';\n",
       "          dataTable['output_type'] = 'display_data';\n",
       "          await google.colab.output.renderOutput(dataTable, element);\n",
       "          const docLink = document.createElement('div');\n",
       "          docLink.innerHTML = docLinkHtml;\n",
       "          element.appendChild(docLink);\n",
       "        }\n",
       "      </script>\n",
       "    </div>\n",
       "  </div>\n",
       "  "
      ],
      "text/plain": [
       "                 0.1000    0.1053    0.1105    0.1158    0.1211    0.1263  \\\n",
       "1-TPR          0.000653  0.002648  0.006776  0.012794  0.023353  0.036182   \n",
       "FPR            0.994398  0.984791  0.970160  0.949808  0.920806  0.886888   \n",
       "w1_1-TPR       0.000359  0.001457  0.003727  0.007037  0.012844  0.019900   \n",
       "w2_FPR         0.447479  0.443156  0.436572  0.427413  0.414363  0.399099   \n",
       "Expected_loss  0.447838  0.444612  0.440299  0.434450  0.427207  0.419000   \n",
       "\n",
       "                 0.1316    0.1368    0.1421    0.1474    0.1526    0.1579  \\\n",
       "1-TPR          0.055202  0.081135  0.114910  0.155976  0.205021  0.267859   \n",
       "FPR            0.845079  0.797175  0.744162  0.683091  0.616053  0.540951   \n",
       "w1_1-TPR       0.030361  0.044624  0.063200  0.085787  0.112762  0.147322   \n",
       "w2_FPR         0.380285  0.358729  0.334873  0.307391  0.277224  0.243428   \n",
       "Expected_loss  0.410646  0.403353  0.398073  0.393178  0.389986  0.390750   \n",
       "\n",
       "                 0.1632    0.1684    0.1737    0.1789    0.1842    0.1895  \\\n",
       "1-TPR          0.343560  0.419914  0.500774  0.588306  0.667068  0.737472   \n",
       "FPR            0.460979  0.386442  0.315645  0.246863  0.189399  0.141349   \n",
       "w1_1-TPR       0.188958  0.230953  0.275426  0.323568  0.366887  0.405610   \n",
       "w2_FPR         0.207440  0.173899  0.142040  0.111088  0.085229  0.063607   \n",
       "Expected_loss  0.396398  0.404852  0.417466  0.434657  0.452117  0.469217   \n",
       "\n",
       "                 0.1947    0.2000  \n",
       "1-TPR          0.798762  0.851144  \n",
       "FPR            0.103718  0.071855  \n",
       "w1_1-TPR       0.439319  0.468129  \n",
       "w2_FPR         0.046673  0.032335  \n",
       "Expected_loss  0.485992  0.500464  "
      ]
     },
     "execution_count": 39,
     "metadata": {},
     "output_type": "execute_result"
    }
   ],
   "source": [
    "objective_func(y_val_pred_proba, threshold_list)\n",
    "\n",
    "# 더 세밀한 범위에서 optimal threshold를 잡고싶으면 한 번 더 다시 실행"
   ]
  },
  {
   "cell_type": "code",
   "execution_count": null,
   "metadata": {
    "colab": {
     "base_uri": "https://localhost:8080/"
    },
    "executionInfo": {
     "elapsed": 440,
     "status": "ok",
     "timestamp": 1678859773957,
     "user": {
      "displayName": "황선경",
      "userId": "17888974404389374352"
     },
     "user_tz": -540
    },
    "id": "6fdA_X6KMRAy",
    "outputId": "cc738fc2-f3a4-4287-914b-607aa4cb6493"
   },
   "outputs": [
    {
     "data": {
      "text/plain": [
       "0.15263157894736842"
      ]
     },
     "execution_count": 40,
     "metadata": {},
     "output_type": "execute_result"
    }
   ],
   "source": [
    "OPT_threshold"
   ]
  },
  {
   "cell_type": "markdown",
   "metadata": {
    "id": "192146f2"
   },
   "source": [
    "histogram에 optimal threshold 표시"
   ]
  },
  {
   "cell_type": "code",
   "execution_count": null,
   "metadata": {
    "colab": {
     "base_uri": "https://localhost:8080/",
     "height": 296
    },
    "executionInfo": {
     "elapsed": 2113,
     "status": "ok",
     "timestamp": 1678859779737,
     "user": {
      "displayName": "황선경",
      "userId": "17888974404389374352"
     },
     "user_tz": -540
    },
    "id": "7487f311",
    "outputId": "f6bfb4fa-fc0c-4c57-f748-d9148b64a16e"
   },
   "outputs": [
    {
     "data": {
      "image/png": "[encoded data removed]",
      "text/plain": [
       "<Figure size 432x288 with 1 Axes>"
      ]
     },
     "metadata": {
      "needs_background": "light"
     },
     "output_type": "display_data"
    }
   ],
   "source": [
    "plt.hist(y_val_pred_proba[:,1], bins=100)\n",
    "\n",
    "plt.axvline(x=OPT_threshold, color='navy', linewidth=5, label='Optimal Threshold')\n",
    "\n",
    "plt.xlabel('y_val_pred_proba')\n",
    "plt.ylabel('Frequency')\n",
    "plt.title('Optimal Threshold of %s'%(model_name))\n",
    "plt.legend()\n",
    "\n",
    "plt.savefig(\"%s_opt_threshold_%s.png\"%(model_name, datetime.datetime.now().strftime(\"%m%d%H%M%S\")), dpi=300, bbox_inches='tight')\n",
    "\n",
    "plt.show() # y_val_pred_proba의 분포 확인"
   ]
  },
  {
   "cell_type": "markdown",
   "metadata": {
    "id": "uZLiDcmKMa3F"
   },
   "source": [
    "# Test "
   ]
  },
  {
   "cell_type": "markdown",
   "metadata": {
    "id": "IHeeYKObMa3F"
   },
   "source": [
    "### X_test fitting"
   ]
  },
  {
   "cell_type": "code",
   "execution_count": null,
   "metadata": {
    "colab": {
     "base_uri": "https://localhost:8080/",
     "height": 296
    },
    "executionInfo": {
     "elapsed": 5016,
     "status": "ok",
     "timestamp": 1678859784745,
     "user": {
      "displayName": "황선경",
      "userId": "17888974404389374352"
     },
     "user_tz": -540
    },
    "id": "d-Ka2y_CMa3G",
    "outputId": "5281233b-4c72-4d2e-de54-35467967cb4a"
   },
   "outputs": [
    {
     "data": {
      "image/png": "[encoded data removed]",
      "text/plain": [
       "<Figure size 432x288 with 1 Axes>"
      ]
     },
     "metadata": {
      "needs_background": "light"
     },
     "output_type": "display_data"
    }
   ],
   "source": [
    "# Predict probabilities for new data\n",
    "y_test_pred_proba = best_estimator.predict_proba(X_test) # 확률로 추정된 X_test의 y_pred\n",
    "\n",
    "plt.hist(y_test_pred_proba[:,1], bins=100)\n",
    "\n",
    "plt.xlabel('y_test_pred_proba')\n",
    "plt.ylabel('Frequency')\n",
    "plt.title('Frequency of y_test_pred_proba of %s'%(model_name))\n",
    "\n",
    "plt.savefig(\"%s_test_pre_proba_%s.png\"%(model_name, datetime.datetime.now().strftime(\"%m%d%H%M%S\")), dpi=300, bbox_inches='tight')\n",
    "\n",
    "plt.show() # y_test_pred_proba의 분포 확인"
   ]
  },
  {
   "cell_type": "markdown",
   "metadata": {
    "id": "sY7XQYzVMa3G"
   },
   "source": [
    "### 0, 1 count / confusion_matrix / accuracy, precision, recall, f1 score "
   ]
  },
  {
   "cell_type": "code",
   "execution_count": null,
   "metadata": {
    "id": "Iv1Bzx9gMa3H"
   },
   "outputs": [],
   "source": [
    "def test_func(y_test, y_pred_proba, opt_threshold):\n",
    "        \n",
    "    # make Binarizer(y hat)\n",
    "    binarizer = Binarizer(threshold = opt_threshold).fit(y_pred_proba[:,1].reshape(-1,1))\n",
    "    custom_predict = binarizer.transform(y_pred_proba[:,1].reshape(-1,1))\n",
    "\n",
    "    # count 0, 1 in Binarizer(y hat)\n",
    "    unique, counts = np.unique(custom_predict, return_counts=True)\n",
    "\n",
    "    for val, count in zip(unique, counts):\n",
    "        if len(unique) == 1:\n",
    "            if val == 1.0:\n",
    "                num_0_pred = count\n",
    "                num_1_pred = 0\n",
    "            elif val == 0.0:\n",
    "                num_1_pred = count\n",
    "                num_0_pred = 0\n",
    "        if val == 1.0:\n",
    "            num_0_pred = count\n",
    "        elif val == 0.0:\n",
    "            num_1_pred = count\n",
    "\n",
    "    # count 0, 1 in y hat\n",
    "    num_1_real = y_test.value_counts()[0]\n",
    "    num_0_real = y_test.value_counts()[1]\n",
    "\n",
    "    tn, fp, fn, tp = confusion_matrix(y_test, custom_predict).ravel()\n",
    "    count = [tn, fp, fn, tp]\n",
    "    tn_, fp_, fn_, tp_ = [round(x/sum(count)*100, 1) for x in count]\n",
    "\n",
    "    accuracy = round((tp+tn)/(tp+tn+fp+fn),4)\n",
    "    precision = round(tp/(tp+fp),4)\n",
    "    recall = round(tp/(tp+fn),4)\n",
    "    f1 = round(2*(precision*recall)/(precision+recall),4)\n",
    "    \n",
    "    result_df = pd.DataFrame(index=['1_real','1_pred','0_real','0_pred','tn', 'fp', 'fn', 'tp', 'tn_%', 'fp_%', 'fn_%', 'tp_%', 'Accuracy', 'Precision', 'Recall', 'F1 score'])\n",
    "\n",
    "    result_df['result'] = [num_1_real, num_1_pred, num_0_real, num_0_pred, tn, fp, fn, tp, tn_, fp_, fn_, tp_, accuracy, precision, recall, f1]\n",
    "\n",
    "    labels = ['TN','FP','FN','TP']\n",
    "\n",
    "\n",
    "    # 혼동 행렬 시각화\n",
    "    labels = ['Positive', 'Negative']\n",
    "    cm = [[tp, fn], [fp, tn]]\n",
    "\n",
    "    ax = plt.subplot()\n",
    "    sns.heatmap(cm, annot=True, ax=ax, fmt='g', cmap='Blues')\n",
    "    ax.set_xlabel('Predicted Class')\n",
    "    ax.set_ylabel('Acutual Class')\n",
    "    ax.set_xticklabels(labels)\n",
    "    ax.set_yticklabels(labels)\n",
    "    ax.set_title('%s Confusion Matrix'%(model_name))\n",
    "    \n",
    "    ax.text(0.45, 1.40, 'FP', fontsize=12, color='red')\n",
    "    ax.text(1.45, 1.40, 'TN', fontsize=12, color='red')\n",
    "    ax.text(0.45, 0.40, 'TP', fontsize=12, color='red')\n",
    "    ax.text(1.45, 0.40, 'FN', fontsize=12, color='red')\n",
    "    \n",
    "    plt.savefig(\"%s_Confusion_Matrix_%s.png\"%(model_name, datetime.datetime.now().strftime(\"%m%d%H%M%S\")), dpi=300, bbox_inches='tight')\n",
    "    plt.show()\n",
    "    \n",
    "    result_df.T.to_csv('%s_test.csv'%(model_name), index=True)\n",
    "\n",
    "    return result_df.T"
   ]
  },
  {
   "cell_type": "code",
   "execution_count": null,
   "metadata": {
    "colab": {
     "base_uri": "https://localhost:8080/",
     "height": 439
    },
    "executionInfo": {
     "elapsed": 986,
     "status": "ok",
     "timestamp": 1678859785729,
     "user": {
      "displayName": "황선경",
      "userId": "17888974404389374352"
     },
     "user_tz": -540
    },
    "id": "KLv6EHjBMa3I",
    "outputId": "31be044a-aa9d-4be3-ae46-90edb4f475ea",
    "scrolled": true
   },
   "outputs": [
    {
     "data": {
      "image/png": "[encoded data removed]",
      "text/plain": [
       "<Figure size 432x288 with 2 Axes>"
      ]
     },
     "metadata": {
      "needs_background": "light"
     },
     "output_type": "display_data"
    },
    {
     "data": {
      "text/html": [
       "\n",
       "  <div id=\"df-1a1567ff-49be-4c38-b7de-d597394ad8d3\">\n",
       "    <div class=\"colab-df-container\">\n",
       "      <div>\n",
       "<style scoped>\n",
       "    .dataframe tbody tr th:only-of-type {\n",
       "        vertical-align: middle;\n",
       "    }\n",
       "\n",
       "    .dataframe tbody tr th {\n",
       "        vertical-align: top;\n",
       "    }\n",
       "\n",
       "    .dataframe thead th {\n",
       "        text-align: right;\n",
       "    }\n",
       "</style>\n",
       "<table border=\"1\" class=\"dataframe\">\n",
       "  <thead>\n",
       "    <tr style=\"text-align: right;\">\n",
       "      <th></th>\n",
       "      <th>1_real</th>\n",
       "      <th>1_pred</th>\n",
       "      <th>0_real</th>\n",
       "      <th>0_pred</th>\n",
       "      <th>tn</th>\n",
       "      <th>fp</th>\n",
       "      <th>fn</th>\n",
       "      <th>tp</th>\n",
       "      <th>tn_%</th>\n",
       "      <th>fp_%</th>\n",
       "      <th>fn_%</th>\n",
       "      <th>tp_%</th>\n",
       "      <th>Accuracy</th>\n",
       "      <th>Precision</th>\n",
       "      <th>Recall</th>\n",
       "      <th>F1 score</th>\n",
       "    </tr>\n",
       "  </thead>\n",
       "  <tbody>\n",
       "    <tr>\n",
       "      <th>result</th>\n",
       "      <td>150303.0</td>\n",
       "      <td>63883.0</td>\n",
       "      <td>29075.0</td>\n",
       "      <td>115495.0</td>\n",
       "      <td>57792.0</td>\n",
       "      <td>92511.0</td>\n",
       "      <td>6091.0</td>\n",
       "      <td>22984.0</td>\n",
       "      <td>32.2</td>\n",
       "      <td>51.6</td>\n",
       "      <td>3.4</td>\n",
       "      <td>12.8</td>\n",
       "      <td>0.4503</td>\n",
       "      <td>0.199</td>\n",
       "      <td>0.7905</td>\n",
       "      <td>0.318</td>\n",
       "    </tr>\n",
       "  </tbody>\n",
       "</table>\n",
       "</div>\n",
       "      <button class=\"colab-df-convert\" onclick=\"convertToInteractive('df-1a1567ff-49be-4c38-b7de-d597394ad8d3')\"\n",
       "              title=\"Convert this dataframe to an interactive table.\"\n",
       "              style=\"display:none;\">\n",
       "        \n",
       "  <svg xmlns=\"http://www.w3.org/2000/svg\" height=\"24px\"viewBox=\"0 0 24 24\"\n",
       "       width=\"24px\">\n",
       "    <path d=\"M0 0h24v24H0V0z\" fill=\"none\"/>\n",
       "    <path d=\"M18.56 5.44l.94 2.06.94-2.06 2.06-.94-2.06-.94-.94-2.06-.94 2.06-2.06.94zm-11 1L8.5 8.5l.94-2.06 2.06-.94-2.06-.94L8.5 2.5l-.94 2.06-2.06.94zm10 10l.94 2.06.94-2.06 2.06-.94-2.06-.94-.94-2.06-.94 2.06-2.06.94z\"/><path d=\"M17.41 7.96l-1.37-1.37c-.4-.4-.92-.59-1.43-.59-.52 0-1.04.2-1.43.59L10.3 9.45l-7.72 7.72c-.78.78-.78 2.05 0 2.83L4 21.41c.39.39.9.59 1.41.59.51 0 1.02-.2 1.41-.59l7.78-7.78 2.81-2.81c.8-.78.8-2.07 0-2.86zM5.41 20L4 18.59l7.72-7.72 1.47 1.35L5.41 20z\"/>\n",
       "  </svg>\n",
       "      </button>\n",
       "      \n",
       "  <style>\n",
       "    .colab-df-container {\n",
       "      display:flex;\n",
       "      flex-wrap:wrap;\n",
       "      gap: 12px;\n",
       "    }\n",
       "\n",
       "    .colab-df-convert {\n",
       "      background-color: #E8F0FE;\n",
       "      border: none;\n",
       "      border-radius: 50%;\n",
       "      cursor: pointer;\n",
       "      display: none;\n",
       "      fill: #1967D2;\n",
       "      height: 32px;\n",
       "      padding: 0 0 0 0;\n",
       "      width: 32px;\n",
       "    }\n",
       "\n",
       "    .colab-df-convert:hover {\n",
       "      background-color: #E2EBFA;\n",
       "      box-shadow: 0px 1px 2px rgba(60, 64, 67, 0.3), 0px 1px 3px 1px rgba(60, 64, 67, 0.15);\n",
       "      fill: #174EA6;\n",
       "    }\n",
       "\n",
       "    [theme=dark] .colab-df-convert {\n",
       "      background-color: #3B4455;\n",
       "      fill: #D2E3FC;\n",
       "    }\n",
       "\n",
       "    [theme=dark] .colab-df-convert:hover {\n",
       "      background-color: #434B5C;\n",
       "      box-shadow: 0px 1px 3px 1px rgba(0, 0, 0, 0.15);\n",
       "      filter: drop-shadow(0px 1px 2px rgba(0, 0, 0, 0.3));\n",
       "      fill: #FFFFFF;\n",
       "    }\n",
       "  </style>\n",
       "\n",
       "      <script>\n",
       "        const buttonEl =\n",
       "          document.querySelector('#df-1a1567ff-49be-4c38-b7de-d597394ad8d3 button.colab-df-convert');\n",
       "        buttonEl.style.display =\n",
       "          google.colab.kernel.accessAllowed ? 'block' : 'none';\n",
       "\n",
       "        async function convertToInteractive(key) {\n",
       "          const element = document.querySelector('#df-1a1567ff-49be-4c38-b7de-d597394ad8d3');\n",
       "          const dataTable =\n",
       "            await google.colab.kernel.invokeFunction('convertToInteractive',\n",
       "                                                     [key], {});\n",
       "          if (!dataTable) return;\n",
       "\n",
       "          const docLinkHtml = 'Like what you see? Visit the ' +\n",
       "            '<a target=\"_blank\" href=https://colab.research.google.com/notebooks/data_table.ipynb>data table notebook</a>'\n",
       "            + ' to learn more about interactive tables.';\n",
       "          element.innerHTML = '';\n",
       "          dataTable['output_type'] = 'display_data';\n",
       "          await google.colab.output.renderOutput(dataTable, element);\n",
       "          const docLink = document.createElement('div');\n",
       "          docLink.innerHTML = docLinkHtml;\n",
       "          element.appendChild(docLink);\n",
       "        }\n",
       "      </script>\n",
       "    </div>\n",
       "  </div>\n",
       "  "
      ],
      "text/plain": [
       "          1_real   1_pred   0_real    0_pred       tn       fp      fn  \\\n",
       "result  150303.0  63883.0  29075.0  115495.0  57792.0  92511.0  6091.0   \n",
       "\n",
       "             tp  tn_%  fp_%  fn_%  tp_%  Accuracy  Precision  Recall  F1 score  \n",
       "result  22984.0  32.2  51.6   3.4  12.8    0.4503      0.199  0.7905     0.318  "
      ]
     },
     "execution_count": 44,
     "metadata": {},
     "output_type": "execute_result"
    }
   ],
   "source": [
    "test_func(y_test, y_test_pred_proba, OPT_threshold)"
   ]
  },
  {
   "cell_type": "markdown",
   "metadata": {
    "id": "3a38f1e8"
   },
   "source": [
    "### Objective Function"
   ]
  },
  {
   "cell_type": "code",
   "execution_count": null,
   "metadata": {
    "id": "a083d94f"
   },
   "outputs": [],
   "source": []
  },
  {
   "cell_type": "code",
   "execution_count": null,
   "metadata": {
    "id": "d276de91"
   },
   "outputs": [],
   "source": [
    "def test_objective_func(y_test, y_pred_proba, threshold):\n",
    "    \n",
    "        result_df = pd.DataFrame(index=['1-TPR','FPR','w1_1-TPR','w2_FPR','Expected_loss'])\n",
    "            \n",
    "        # make Binarizer(y hat)\n",
    "        binarizer = Binarizer(threshold = threshold).fit(y_pred_proba[:,1].reshape(-1,1))\n",
    "        custom_predict = binarizer.transform(y_pred_proba[:,1].reshape(-1,1))\n",
    "\n",
    "        tn, fp, fn, tp = confusion_matrix(y_test, custom_predict).ravel()\n",
    "        count = [tn, fp, fn, tp]\n",
    "\n",
    "        tpr_1 = fn / (fn + tp)\n",
    "        fpr = fp / (fp + tn)\n",
    "        w1 = 0.55\n",
    "        w2 = 0.45\n",
    "\n",
    "        expected_loss = w1 * tpr_1 + w2 * fpr\n",
    "\n",
    "        result_df[threshold] = [tpr_1, fpr, w1*tpr_1, w2*fpr, expected_loss]\n",
    "\n",
    "        print(expected_loss)\n",
    "        \n",
    "        result_df.T.to_csv('%s_test_expected_loss_%s.csv'%(model_name, datetime.datetime.now().strftime(\"%m%d%H%M%S\")), float_format='%.6f', index=True)\n",
    "        \n",
    "        return result_df"
   ]
  },
  {
   "cell_type": "code",
   "execution_count": null,
   "metadata": {
    "colab": {
     "base_uri": "https://localhost:8080/",
     "height": 221
    },
    "executionInfo": {
     "elapsed": 730,
     "status": "ok",
     "timestamp": 1678859786455,
     "user": {
      "displayName": "황선경",
      "userId": "17888974404389374352"
     },
     "user_tz": -540
    },
    "id": "03b0c322",
    "outputId": "cd92f107-d52d-4501-9ef7-bab349846e38"
   },
   "outputs": [
    {
     "name": "stdout",
     "output_type": "stream",
     "text": [
      "0.3921944937262843\n"
     ]
    },
    {
     "data": {
      "text/html": [
       "\n",
       "  <div id=\"df-6ec89c17-562d-47f4-9e5f-110ab4df6deb\">\n",
       "    <div class=\"colab-df-container\">\n",
       "      <div>\n",
       "<style scoped>\n",
       "    .dataframe tbody tr th:only-of-type {\n",
       "        vertical-align: middle;\n",
       "    }\n",
       "\n",
       "    .dataframe tbody tr th {\n",
       "        vertical-align: top;\n",
       "    }\n",
       "\n",
       "    .dataframe thead th {\n",
       "        text-align: right;\n",
       "    }\n",
       "</style>\n",
       "<table border=\"1\" class=\"dataframe\">\n",
       "  <thead>\n",
       "    <tr style=\"text-align: right;\">\n",
       "      <th></th>\n",
       "      <th>0.152632</th>\n",
       "    </tr>\n",
       "  </thead>\n",
       "  <tbody>\n",
       "    <tr>\n",
       "      <th>1-TPR</th>\n",
       "      <td>0.209493</td>\n",
       "    </tr>\n",
       "    <tr>\n",
       "      <th>FPR</th>\n",
       "      <td>0.615497</td>\n",
       "    </tr>\n",
       "    <tr>\n",
       "      <th>w1_1-TPR</th>\n",
       "      <td>0.115221</td>\n",
       "    </tr>\n",
       "    <tr>\n",
       "      <th>w2_FPR</th>\n",
       "      <td>0.276974</td>\n",
       "    </tr>\n",
       "    <tr>\n",
       "      <th>Expected_loss</th>\n",
       "      <td>0.392194</td>\n",
       "    </tr>\n",
       "  </tbody>\n",
       "</table>\n",
       "</div>\n",
       "      <button class=\"colab-df-convert\" onclick=\"convertToInteractive('df-6ec89c17-562d-47f4-9e5f-110ab4df6deb')\"\n",
       "              title=\"Convert this dataframe to an interactive table.\"\n",
       "              style=\"display:none;\">\n",
       "        \n",
       "  <svg xmlns=\"http://www.w3.org/2000/svg\" height=\"24px\"viewBox=\"0 0 24 24\"\n",
       "       width=\"24px\">\n",
       "    <path d=\"M0 0h24v24H0V0z\" fill=\"none\"/>\n",
       "    <path d=\"M18.56 5.44l.94 2.06.94-2.06 2.06-.94-2.06-.94-.94-2.06-.94 2.06-2.06.94zm-11 1L8.5 8.5l.94-2.06 2.06-.94-2.06-.94L8.5 2.5l-.94 2.06-2.06.94zm10 10l.94 2.06.94-2.06 2.06-.94-2.06-.94-.94-2.06-.94 2.06-2.06.94z\"/><path d=\"M17.41 7.96l-1.37-1.37c-.4-.4-.92-.59-1.43-.59-.52 0-1.04.2-1.43.59L10.3 9.45l-7.72 7.72c-.78.78-.78 2.05 0 2.83L4 21.41c.39.39.9.59 1.41.59.51 0 1.02-.2 1.41-.59l7.78-7.78 2.81-2.81c.8-.78.8-2.07 0-2.86zM5.41 20L4 18.59l7.72-7.72 1.47 1.35L5.41 20z\"/>\n",
       "  </svg>\n",
       "      </button>\n",
       "      \n",
       "  <style>\n",
       "    .colab-df-container {\n",
       "      display:flex;\n",
       "      flex-wrap:wrap;\n",
       "      gap: 12px;\n",
       "    }\n",
       "\n",
       "    .colab-df-convert {\n",
       "      background-color: #E8F0FE;\n",
       "      border: none;\n",
       "      border-radius: 50%;\n",
       "      cursor: pointer;\n",
       "      display: none;\n",
       "      fill: #1967D2;\n",
       "      height: 32px;\n",
       "      padding: 0 0 0 0;\n",
       "      width: 32px;\n",
       "    }\n",
       "\n",
       "    .colab-df-convert:hover {\n",
       "      background-color: #E2EBFA;\n",
       "      box-shadow: 0px 1px 2px rgba(60, 64, 67, 0.3), 0px 1px 3px 1px rgba(60, 64, 67, 0.15);\n",
       "      fill: #174EA6;\n",
       "    }\n",
       "\n",
       "    [theme=dark] .colab-df-convert {\n",
       "      background-color: #3B4455;\n",
       "      fill: #D2E3FC;\n",
       "    }\n",
       "\n",
       "    [theme=dark] .colab-df-convert:hover {\n",
       "      background-color: #434B5C;\n",
       "      box-shadow: 0px 1px 3px 1px rgba(0, 0, 0, 0.15);\n",
       "      filter: drop-shadow(0px 1px 2px rgba(0, 0, 0, 0.3));\n",
       "      fill: #FFFFFF;\n",
       "    }\n",
       "  </style>\n",
       "\n",
       "      <script>\n",
       "        const buttonEl =\n",
       "          document.querySelector('#df-6ec89c17-562d-47f4-9e5f-110ab4df6deb button.colab-df-convert');\n",
       "        buttonEl.style.display =\n",
       "          google.colab.kernel.accessAllowed ? 'block' : 'none';\n",
       "\n",
       "        async function convertToInteractive(key) {\n",
       "          const element = document.querySelector('#df-6ec89c17-562d-47f4-9e5f-110ab4df6deb');\n",
       "          const dataTable =\n",
       "            await google.colab.kernel.invokeFunction('convertToInteractive',\n",
       "                                                     [key], {});\n",
       "          if (!dataTable) return;\n",
       "\n",
       "          const docLinkHtml = 'Like what you see? Visit the ' +\n",
       "            '<a target=\"_blank\" href=https://colab.research.google.com/notebooks/data_table.ipynb>data table notebook</a>'\n",
       "            + ' to learn more about interactive tables.';\n",
       "          element.innerHTML = '';\n",
       "          dataTable['output_type'] = 'display_data';\n",
       "          await google.colab.output.renderOutput(dataTable, element);\n",
       "          const docLink = document.createElement('div');\n",
       "          docLink.innerHTML = docLinkHtml;\n",
       "          element.appendChild(docLink);\n",
       "        }\n",
       "      </script>\n",
       "    </div>\n",
       "  </div>\n",
       "  "
      ],
      "text/plain": [
       "               0.152632\n",
       "1-TPR          0.209493\n",
       "FPR            0.615497\n",
       "w1_1-TPR       0.115221\n",
       "w2_FPR         0.276974\n",
       "Expected_loss  0.392194"
      ]
     },
     "execution_count": 46,
     "metadata": {},
     "output_type": "execute_result"
    }
   ],
   "source": [
    "test_objective_func(y_test, y_test_pred_proba, OPT_threshold)"
   ]
  },
  {
   "cell_type": "markdown",
   "metadata": {
    "id": "f52-5WkyMa3J"
   },
   "source": [
    "### ROC curve\n",
    "\n",
    "거짓 양성 비율(FPR, 1-TNR:1-특이도)에 대한 진짜 양성 비율(TPR, 재현율)의 곡선\n",
    "\n",
    "정밀도: positive로 예측한 것 중에 진짜 positive인 것 -> 양성 예측도\n",
    "\n",
    "재현율: 실제 positive 중에 맞춘 것 -> 민감도"
   ]
  },
  {
   "cell_type": "code",
   "execution_count": null,
   "metadata": {
    "colab": {
     "base_uri": "https://localhost:8080/",
     "height": 295
    },
    "executionInfo": {
     "elapsed": 6,
     "status": "ok",
     "timestamp": 1678859786455,
     "user": {
      "displayName": "황선경",
      "userId": "17888974404389374352"
     },
     "user_tz": -540
    },
    "id": "Dr4b8afLMa3J",
    "outputId": "2f1be72f-a83f-4f98-e20b-578048d1f200"
   },
   "outputs": [
    {
     "data": {
      "image/png": "[encoded data removed]",
      "text/plain": [
       "<Figure size 432x288 with 1 Axes>"
      ]
     },
     "metadata": {
      "needs_background": "light"
     },
     "output_type": "display_data"
    }
   ],
   "source": [
    "# Generate ROC curve and AUC score for the test set\n",
    "fpr, tpr, thresholds = roc_curve(y_test, y_test_pred_proba[:,1])\n",
    "roc_auc = auc(fpr, tpr)\n",
    "\n",
    "# Plot the ROC curve\n",
    "plt.plot(fpr, tpr, lw=1, label='ROC (AUC = %0.2f)' % roc_auc)\n",
    "plt.plot([0, 1], [0, 1], '--', color='gray', lw=1, label='Random')\n",
    "plt.xlim([0, 1])\n",
    "plt.ylim([0, 1])\n",
    "plt.xlabel('False Positive Rate')\n",
    "plt.ylabel('True Positive Rate')\n",
    "plt.title('%s_ROC_curve'%(model_name))\n",
    "plt.legend(loc='lower right')\n",
    "\n",
    "plt.savefig(\"%s_ROC_curve_%s.png\"%(model_name, datetime.datetime.now().strftime(\"%m%d%H%M%S\")), dpi=300, bbox_inches='tight')\n",
    "plt.show()"
   ]
  },
  {
   "cell_type": "code",
   "execution_count": null,
   "metadata": {
    "id": "93a14933"
   },
   "outputs": [],
   "source": []
  },
  {
   "cell_type": "markdown",
   "metadata": {
    "id": "72515814"
   },
   "source": [
    "# Test "
   ]
  },
  {
   "cell_type": "markdown",
   "metadata": {
    "id": "8dac11d1"
   },
   "source": [
    "### X_test fitting"
   ]
  },
  {
   "cell_type": "code",
   "execution_count": null,
   "metadata": {
    "colab": {
     "base_uri": "https://localhost:8080/",
     "height": 265
    },
    "executionInfo": {
     "elapsed": 2668,
     "status": "ok",
     "timestamp": 1678859441397,
     "user": {
      "displayName": "황선경",
      "userId": "17888974404389374352"
     },
     "user_tz": -540
    },
    "id": "50601421",
    "outputId": "21191a1b-0d1e-402c-c0d4-37032adfe571"
   },
   "outputs": [
    {
     "data": {
      "image/png": "[encoded data removed]",
      "text/plain": [
       "<Figure size 432x288 with 1 Axes>"
      ]
     },
     "metadata": {
      "needs_background": "light"
     },
     "output_type": "display_data"
    }
   ],
   "source": [
    "# Predict probabilities for new data\n",
    "y_test_pred_proba = best_estimator.predict_proba(X_test) # 확률로 추정된 X_test의 y_pred\n",
    "\n",
    "plt.hist(y_test_pred_proba[:,1], bins=100)\n",
    "plt.show() # y_test_pred_proba의 분포 확인"
   ]
  },
  {
   "cell_type": "markdown",
   "metadata": {
    "id": "2533ecd6"
   },
   "source": [
    "### 0, 1 count / confusion_matrix / accuracy, precision, recall, f1 score "
   ]
  },
  {
   "cell_type": "code",
   "execution_count": null,
   "metadata": {
    "id": "20437934"
   },
   "outputs": [],
   "source": [
    "def test_func(y_test, y_pred_proba, opt_threshold):\n",
    "        \n",
    "    # make Binarizer(y hat)\n",
    "    binarizer = Binarizer(threshold = opt_threshold).fit(y_pred_proba[:,1].reshape(-1,1))\n",
    "    custom_predict = binarizer.transform(y_pred_proba[:,1].reshape(-1,1))\n",
    "\n",
    "    # count 0, 1 in Binarizer(y hat)\n",
    "    unique, counts = np.unique(custom_predict, return_counts=True)\n",
    "\n",
    "    for val, count in zip(unique, counts):\n",
    "        if len(unique) == 1:\n",
    "            if val == 1.0:\n",
    "                num_0_pred = count\n",
    "                num_1_pred = 0\n",
    "            elif val == 0.0:\n",
    "                num_1_pred = count\n",
    "                num_0_pred = 0\n",
    "        if val == 1.0:\n",
    "            num_0_pred = count\n",
    "        elif val == 0.0:\n",
    "            num_1_pred = count\n",
    "\n",
    "    # count 0, 1 in y hat\n",
    "    num_1_real = y_test.value_counts()[0]\n",
    "    num_0_real = y_test.value_counts()[1]\n",
    "\n",
    "    tn, fp, fn, tp = confusion_matrix(y_test, custom_predict).ravel()\n",
    "    count = [tn, fp, fn, tp]\n",
    "    tn_, fp_, fn_, tp_ = [round(x/sum(count)*100, 1) for x in count]\n",
    "\n",
    "    accuracy = (tp + tn) / (tp + tn + fp + fn)\n",
    "    precision = tp / (tp + fp)\n",
    "    recall = tp / (tp + fn)\n",
    "    f1 = 2 * (precision * recall) / (precision + recall)\n",
    "    \n",
    "    result_df = pd.DataFrame(index=['1_real','1_pred','0_real','0_pred','tn', 'fp', 'fn', 'tp', 'tn_%', 'fp_%', 'fn_%', 'tp_%', 'Accuracy', 'Precision', 'Recall', 'F1 score'])\n",
    "\n",
    "    result_df['result'] = [num_1_real, num_1_pred, num_0_real, num_0_pred, tn, fp, fn, tp, tn_, fp_, fn_, tp_, accuracy, precision, recall, f1]\n",
    "\n",
    "#         labels = ['True Negatives', 'False Positives', 'False Negatives', 'True Positives']\n",
    "    labels = ['TN','FP','FN','TP']\n",
    "\n",
    "    # tn, fp, fn, tp 각각의 값을 counts 리스트에 저장\n",
    "    counts = [tn, fp, fn, tp]\n",
    "\n",
    "    # 그래프 그리기\n",
    "    axes.bar(labels, counts)\n",
    "    axes.set_title(threshold)\n",
    "    axes.set_ylabel('Count')\n",
    "\n",
    "    # 그래프 출력하기\n",
    "    plt.show()\n",
    "    \n",
    "    cm = confusion_matrix(y_test, custom_predict)\n",
    "    print('Confusion matrix:')\n",
    "    print(cm)\n",
    "    \n",
    "    print(result_df)"
   ]
  },
  {
   "cell_type": "code",
   "execution_count": null,
   "metadata": {
    "colab": {
     "base_uri": "https://localhost:8080/",
     "height": 198
    },
    "executionInfo": {
     "elapsed": 454,
     "status": "error",
     "timestamp": 1678859454422,
     "user": {
      "displayName": "황선경",
      "userId": "17888974404389374352"
     },
     "user_tz": -540
    },
    "id": "66ef017d",
    "outputId": "0be6ed19-6c99-4b4f-df24-51f6282c5727"
   },
   "outputs": [
    {
     "ename": "NameError",
     "evalue": "ignored",
     "output_type": "error",
     "traceback": [
      "\u001b[0;31m---------------------------------------------------------------------------\u001b[0m",
      "\u001b[0;31mNameError\u001b[0m                                 Traceback (most recent call last)",
      "\u001b[0;32m<ipython-input-33-50f2fcb055d8>\u001b[0m in \u001b[0;36m<module>\u001b[0;34m\u001b[0m\n\u001b[0;32m----> 1\u001b[0;31m \u001b[0mtest_func\u001b[0m\u001b[0;34m(\u001b[0m\u001b[0my_test\u001b[0m\u001b[0;34m,\u001b[0m \u001b[0my_test_pred_proba\u001b[0m\u001b[0;34m,\u001b[0m \u001b[0mopt_threshold\u001b[0m\u001b[0;34m)\u001b[0m\u001b[0;34m\u001b[0m\u001b[0;34m\u001b[0m\u001b[0m\n\u001b[0m",
      "\u001b[0;31mNameError\u001b[0m: name 'opt_threshold' is not defined"
     ]
    }
   ],
   "source": [
    "test_func(y_test, y_test_pred_proba, opt_threshold)"
   ]
  },
  {
   "cell_type": "markdown",
   "metadata": {
    "id": "5183b03e"
   },
   "source": [
    "### ROC curve"
   ]
  },
  {
   "cell_type": "code",
   "execution_count": null,
   "metadata": {
    "colab": {
     "base_uri": "https://localhost:8080/",
     "height": 477
    },
    "executionInfo": {
     "elapsed": 415,
     "status": "error",
     "timestamp": 1678859455591,
     "user": {
      "displayName": "황선경",
      "userId": "17888974404389374352"
     },
     "user_tz": -540
    },
    "id": "ffe859bb",
    "outputId": "1ce67325-a9a5-4abe-887f-0d192cbfd439"
   },
   "outputs": [
    {
     "ename": "ValueError",
     "evalue": "ignored",
     "output_type": "error",
     "traceback": [
      "\u001b[0;31m---------------------------------------------------------------------------\u001b[0m",
      "\u001b[0;31mValueError\u001b[0m                                Traceback (most recent call last)",
      "\u001b[0;32m<ipython-input-34-cf180eba0da2>\u001b[0m in \u001b[0;36m<module>\u001b[0;34m\u001b[0m\n\u001b[1;32m      1\u001b[0m \u001b[0;31m# Generate ROC curve and AUC score for the validation set\u001b[0m\u001b[0;34m\u001b[0m\u001b[0;34m\u001b[0m\u001b[0m\n\u001b[0;32m----> 2\u001b[0;31m \u001b[0mfpr\u001b[0m\u001b[0;34m,\u001b[0m \u001b[0mtpr\u001b[0m\u001b[0;34m,\u001b[0m \u001b[0mthresholds\u001b[0m \u001b[0;34m=\u001b[0m \u001b[0mroc_curve\u001b[0m\u001b[0;34m(\u001b[0m\u001b[0my_test\u001b[0m\u001b[0;34m,\u001b[0m \u001b[0my_test_pred_proba\u001b[0m\u001b[0;34m)\u001b[0m\u001b[0;34m\u001b[0m\u001b[0;34m\u001b[0m\u001b[0m\n\u001b[0m\u001b[1;32m      3\u001b[0m \u001b[0mroc_auc\u001b[0m \u001b[0;34m=\u001b[0m \u001b[0mauc\u001b[0m\u001b[0;34m(\u001b[0m\u001b[0mfpr\u001b[0m\u001b[0;34m,\u001b[0m \u001b[0mtpr\u001b[0m\u001b[0;34m)\u001b[0m\u001b[0;34m\u001b[0m\u001b[0;34m\u001b[0m\u001b[0m\n\u001b[1;32m      4\u001b[0m \u001b[0;34m\u001b[0m\u001b[0m\n\u001b[1;32m      5\u001b[0m \u001b[0;31m# Plot the ROC curve\u001b[0m\u001b[0;34m\u001b[0m\u001b[0;34m\u001b[0m\u001b[0m\n",
      "\u001b[0;32m/usr/local/lib/python3.9/dist-packages/sklearn/metrics/_ranking.py\u001b[0m in \u001b[0;36mroc_curve\u001b[0;34m(y_true, y_score, pos_label, sample_weight, drop_intermediate)\u001b[0m\n\u001b[1;32m    990\u001b[0m     \u001b[0marray\u001b[0m\u001b[0;34m(\u001b[0m\u001b[0;34m[\u001b[0m\u001b[0;36m1.8\u001b[0m \u001b[0;34m,\u001b[0m \u001b[0;36m0.8\u001b[0m \u001b[0;34m,\u001b[0m \u001b[0;36m0.4\u001b[0m \u001b[0;34m,\u001b[0m \u001b[0;36m0.35\u001b[0m\u001b[0;34m,\u001b[0m \u001b[0;36m0.1\u001b[0m \u001b[0;34m]\u001b[0m\u001b[0;34m)\u001b[0m\u001b[0;34m\u001b[0m\u001b[0;34m\u001b[0m\u001b[0m\n\u001b[1;32m    991\u001b[0m     \"\"\"\n\u001b[0;32m--> 992\u001b[0;31m     fps, tps, thresholds = _binary_clf_curve(\n\u001b[0m\u001b[1;32m    993\u001b[0m         \u001b[0my_true\u001b[0m\u001b[0;34m,\u001b[0m \u001b[0my_score\u001b[0m\u001b[0;34m,\u001b[0m \u001b[0mpos_label\u001b[0m\u001b[0;34m=\u001b[0m\u001b[0mpos_label\u001b[0m\u001b[0;34m,\u001b[0m \u001b[0msample_weight\u001b[0m\u001b[0;34m=\u001b[0m\u001b[0msample_weight\u001b[0m\u001b[0;34m\u001b[0m\u001b[0;34m\u001b[0m\u001b[0m\n\u001b[1;32m    994\u001b[0m     )\n",
      "\u001b[0;32m/usr/local/lib/python3.9/dist-packages/sklearn/metrics/_ranking.py\u001b[0m in \u001b[0;36m_binary_clf_curve\u001b[0;34m(y_true, y_score, pos_label, sample_weight)\u001b[0m\n\u001b[1;32m    751\u001b[0m     \u001b[0mcheck_consistent_length\u001b[0m\u001b[0;34m(\u001b[0m\u001b[0my_true\u001b[0m\u001b[0;34m,\u001b[0m \u001b[0my_score\u001b[0m\u001b[0;34m,\u001b[0m \u001b[0msample_weight\u001b[0m\u001b[0;34m)\u001b[0m\u001b[0;34m\u001b[0m\u001b[0;34m\u001b[0m\u001b[0m\n\u001b[1;32m    752\u001b[0m     \u001b[0my_true\u001b[0m \u001b[0;34m=\u001b[0m \u001b[0mcolumn_or_1d\u001b[0m\u001b[0;34m(\u001b[0m\u001b[0my_true\u001b[0m\u001b[0;34m)\u001b[0m\u001b[0;34m\u001b[0m\u001b[0;34m\u001b[0m\u001b[0m\n\u001b[0;32m--> 753\u001b[0;31m     \u001b[0my_score\u001b[0m \u001b[0;34m=\u001b[0m \u001b[0mcolumn_or_1d\u001b[0m\u001b[0;34m(\u001b[0m\u001b[0my_score\u001b[0m\u001b[0;34m)\u001b[0m\u001b[0;34m\u001b[0m\u001b[0;34m\u001b[0m\u001b[0m\n\u001b[0m\u001b[1;32m    754\u001b[0m     \u001b[0massert_all_finite\u001b[0m\u001b[0;34m(\u001b[0m\u001b[0my_true\u001b[0m\u001b[0;34m)\u001b[0m\u001b[0;34m\u001b[0m\u001b[0;34m\u001b[0m\u001b[0m\n\u001b[1;32m    755\u001b[0m     \u001b[0massert_all_finite\u001b[0m\u001b[0;34m(\u001b[0m\u001b[0my_score\u001b[0m\u001b[0;34m)\u001b[0m\u001b[0;34m\u001b[0m\u001b[0;34m\u001b[0m\u001b[0m\n",
      "\u001b[0;32m/usr/local/lib/python3.9/dist-packages/sklearn/utils/validation.py\u001b[0m in \u001b[0;36mcolumn_or_1d\u001b[0;34m(y, dtype, warn)\u001b[0m\n\u001b[1;32m   1200\u001b[0m         \u001b[0;32mreturn\u001b[0m \u001b[0m_asarray_with_order\u001b[0m\u001b[0;34m(\u001b[0m\u001b[0mxp\u001b[0m\u001b[0;34m.\u001b[0m\u001b[0mreshape\u001b[0m\u001b[0;34m(\u001b[0m\u001b[0my\u001b[0m\u001b[0;34m,\u001b[0m \u001b[0;34m-\u001b[0m\u001b[0;36m1\u001b[0m\u001b[0;34m)\u001b[0m\u001b[0;34m,\u001b[0m \u001b[0morder\u001b[0m\u001b[0;34m=\u001b[0m\u001b[0;34m\"C\"\u001b[0m\u001b[0;34m,\u001b[0m \u001b[0mxp\u001b[0m\u001b[0;34m=\u001b[0m\u001b[0mxp\u001b[0m\u001b[0;34m)\u001b[0m\u001b[0;34m\u001b[0m\u001b[0;34m\u001b[0m\u001b[0m\n\u001b[1;32m   1201\u001b[0m \u001b[0;34m\u001b[0m\u001b[0m\n\u001b[0;32m-> 1202\u001b[0;31m     raise ValueError(\n\u001b[0m\u001b[1;32m   1203\u001b[0m         \u001b[0;34m\"y should be a 1d array, got an array of shape {} instead.\"\u001b[0m\u001b[0;34m.\u001b[0m\u001b[0mformat\u001b[0m\u001b[0;34m(\u001b[0m\u001b[0mshape\u001b[0m\u001b[0;34m)\u001b[0m\u001b[0;34m\u001b[0m\u001b[0;34m\u001b[0m\u001b[0m\n\u001b[1;32m   1204\u001b[0m     )\n",
      "\u001b[0;31mValueError\u001b[0m: y should be a 1d array, got an array of shape (179378, 2) instead."
     ]
    }
   ],
   "source": [
    "# Generate ROC curve and AUC score for the validation set\n",
    "fpr, tpr, thresholds = roc_curve(y_test, y_test_pred_proba)\n",
    "roc_auc = auc(fpr, tpr)\n",
    "\n",
    "# Plot the ROC curve\n",
    "plt.plot(fpr, tpr, lw=1, label='ROC (AUC = %0.2f)' % roc_auc)\n",
    "plt.plot([0, 1], [0, 1], '--', color='gray', lw=1, label='Random')\n",
    "plt.xlim([0, 1])\n",
    "plt.ylim([0, 1])\n",
    "plt.xlabel('False Positive Rate')\n",
    "plt.ylabel('True Positive Rate')\n",
    "plt.title('Receiver Operating Characteristic')\n",
    "plt.legend(loc='lower right')\n",
    "plt.show()"
   ]
  },
  {
   "cell_type": "code",
   "execution_count": null,
   "metadata": {
    "id": "Utcan1Yc0kdF"
   },
   "outputs": [],
   "source": []
  }
 ],
 "metadata": {
  "colab": {
   "authorship_tag": "ABX9TyOe1uviKhDKfYS/eV1ca1Rg",
   "provenance": []
  },
  "kernelspec": {
   "display_name": "Python 3 (ipykernel)",
   "language": "python",
   "name": "python3"
  },
  "language_info": {
   "codemirror_mode": {
    "name": "ipython",
    "version": 3
   },
   "file_extension": ".py",
   "mimetype": "text/x-python",
   "name": "python",
   "nbconvert_exporter": "python",
   "pygments_lexer": "ipython3",
   "version": "3.11.3"
  }
 },
 "nbformat": 4,
 "nbformat_minor": 1
}
