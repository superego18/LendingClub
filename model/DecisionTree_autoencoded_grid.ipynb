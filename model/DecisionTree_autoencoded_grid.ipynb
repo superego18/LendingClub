{
 "cells": [
  {
   "cell_type": "markdown",
   "metadata": {
    "id": "c913d822"
   },
   "source": [
    "# Module"
   ]
  },
  {
   "cell_type": "code",
   "execution_count": 2,
   "metadata": {
    "executionInfo": {
     "elapsed": 680,
     "status": "ok",
     "timestamp": 1677490037012,
     "user": {
      "displayName": "황선경",
      "userId": "17888974404389374352"
     },
     "user_tz": -540
    },
    "id": "fa4a7e3c"
   },
   "outputs": [],
   "source": [
    "# 과학계산\n",
    "import pandas as pd\n",
    "pd.set_option('display.max_colwidth', 1000, 'display.max_rows', None, 'display.max_columns', None)\n",
    "import numpy as np\n",
    "\n",
    "# 시각화\n",
    "import seaborn as sns\n",
    "import matplotlib.pyplot as plt\n",
    "\n",
    "# sklearn\n",
    "from sklearn.pipeline import Pipeline\n",
    "from sklearn.preprocessing import StandardScaler, Binarizer\n",
    "from sklearn.feature_selection import SelectFromModel\n",
    "from sklearn.tree import DecisionTreeClassifier\n",
    "from sklearn.model_selection import KFold, GridSearchCV, RandomizedSearchCV, cross_val_score\n",
    "from sklearn.metrics import make_scorer, confusion_matrix, roc_curve, auc, f1_score, accuracy_score, precision_score, recall_score, log_loss\n",
    "\n",
    "# 기타\n",
    "import datetime\n",
    "import warnings\n",
    "warnings.filterwarnings('ignore')"
   ]
  },
  {
   "cell_type": "markdown",
   "metadata": {
    "id": "d7af9689"
   },
   "source": [
    "# Rectified Dataset split"
   ]
  },
  {
   "cell_type": "code",
   "execution_count": 6,
   "metadata": {
    "executionInfo": {
     "elapsed": 9592,
     "status": "ok",
     "timestamp": 1677487478330,
     "user": {
      "displayName": "황선경",
      "userId": "17888974404389374352"
     },
     "user_tz": -540
    },
    "id": "60b80511"
   },
   "outputs": [],
   "source": [
    "train = pd.read_csv('../dataset_autoencoded/train_autoencoded.csv')\n",
    "val = pd.read_csv('../dataset_autoencoded/validation_autoencoded.csv')\n",
    "test = pd.read_csv('../dataset_autoencoded/test_autoencoded.csv')"
   ]
  },
  {
   "cell_type": "code",
   "execution_count": 10,
   "metadata": {
    "executionInfo": {
     "elapsed": 437,
     "status": "ok",
     "timestamp": 1677487482827,
     "user": {
      "displayName": "황선경",
      "userId": "17888974404389374352"
     },
     "user_tz": -540
    },
    "id": "cf255874"
   },
   "outputs": [],
   "source": [
    "X_train = train.drop('depvar', axis=1)\n",
    "y_train = train['depvar']\n",
    "\n",
    "X_val = val.drop('depvar', axis=1)\n",
    "y_val = val['depvar']\n",
    "\n",
    "X_test = test.drop('depvar', axis=1)\n",
    "y_test = test['depvar']"
   ]
  },
  {
   "cell_type": "code",
   "execution_count": 11,
   "metadata": {
    "colab": {
     "base_uri": "https://localhost:8080/"
    },
    "executionInfo": {
     "elapsed": 11,
     "status": "ok",
     "timestamp": 1677487483349,
     "user": {
      "displayName": "황선경",
      "userId": "17888974404389374352"
     },
     "user_tz": -540
    },
    "id": "80d8d802",
    "outputId": "61d2dfca-b10a-4bf6-8c0e-6aec978ce8a5"
   },
   "outputs": [
    {
     "name": "stdout",
     "output_type": "stream",
     "text": [
      "(538132, 20)\n",
      "(538132,)\n",
      "(179377, 20)\n",
      "(179377,)\n",
      "(179378, 20)\n",
      "(179378,)\n"
     ]
    }
   ],
   "source": [
    "print(X_train.shape)\n",
    "print(y_train.shape)\n",
    "print(X_val.shape)\n",
    "print(y_val.shape)\n",
    "print(X_test.shape)\n",
    "print(y_test.shape)"
   ]
  },
  {
   "cell_type": "markdown",
   "metadata": {
    "id": "7a03faed"
   },
   "source": [
    "# Training"
   ]
  },
  {
   "cell_type": "markdown",
   "metadata": {
    "id": "b08abac5"
   },
   "source": [
    "## DecisionTree\n",
    "(K-fold cross validation -> K=cv)"
   ]
  },
  {
   "cell_type": "markdown",
   "metadata": {
    "id": "d5b2e3dc"
   },
   "source": [
    "### pipeline object\n",
    "\n"
   ]
  },
  {
   "cell_type": "code",
   "execution_count": 12,
   "metadata": {
    "executionInfo": {
     "elapsed": 714,
     "status": "ok",
     "timestamp": 1677487517070,
     "user": {
      "displayName": "황선경",
      "userId": "17888974404389374352"
     },
     "user_tz": -540
    },
    "id": "e834c6e7"
   },
   "outputs": [],
   "source": [
    "pipeline = Pipeline([\n",
    "    ('clf', DecisionTreeClassifier())\n",
    "])"
   ]
  },
  {
   "cell_type": "markdown",
   "metadata": {
    "id": "8231e725"
   },
   "source": [
    "### param_grid (hyperparameter input)"
   ]
  },
  {
   "cell_type": "code",
   "execution_count": 13,
   "metadata": {
    "colab": {
     "base_uri": "https://localhost:8080/"
    },
    "executionInfo": {
     "elapsed": 10,
     "status": "ok",
     "timestamp": 1677455576821,
     "user": {
      "displayName": "황선경",
      "userId": "17888974404389374352"
     },
     "user_tz": -540
    },
    "id": "01459d79",
    "outputId": "b612822c-e279-431d-c9b6-545ff468440b",
    "scrolled": false
   },
   "outputs": [
    {
     "data": {
      "text/plain": [
       "dict_keys(['memory', 'steps', 'verbose', 'clf', 'clf__ccp_alpha', 'clf__class_weight', 'clf__criterion', 'clf__max_depth', 'clf__max_features', 'clf__max_leaf_nodes', 'clf__min_impurity_decrease', 'clf__min_samples_leaf', 'clf__min_samples_split', 'clf__min_weight_fraction_leaf', 'clf__random_state', 'clf__splitter'])"
      ]
     },
     "execution_count": 13,
     "metadata": {},
     "output_type": "execute_result"
    }
   ],
   "source": [
    "# pipeline object에 대해 지정해줄 수 있는 hyperparameter를 얻을 수 있음\n",
    "pipeline.get_params().keys()"
   ]
  },
  {
   "cell_type": "code",
   "execution_count": 14,
   "metadata": {
    "executionInfo": {
     "elapsed": 336,
     "status": "ok",
     "timestamp": 1677487586997,
     "user": {
      "displayName": "황선경",
      "userId": "17888974404389374352"
     },
     "user_tz": -540
    },
    "id": "0025d57f"
   },
   "outputs": [],
   "source": [
    "# define the hyperparameters you want to search over\n",
    "param_grid = {\n",
    "    'clf__max_depth':[1,5,10,50,100],\n",
    "    #'clf__min_samples_leaf':[4,6],\n",
    "    'clf__min_samples_split':[20,30,40]\n",
    "}"
   ]
  },
  {
   "cell_type": "markdown",
   "metadata": {
    "id": "31773cdf"
   },
   "source": [
    "### Scoring Function"
   ]
  },
  {
   "cell_type": "code",
   "execution_count": 15,
   "metadata": {
    "executionInfo": {
     "elapsed": 8,
     "status": "ok",
     "timestamp": 1677487653205,
     "user": {
      "displayName": "황선경",
      "userId": "17888974404389374352"
     },
     "user_tz": -540
    },
    "id": "314244e9"
   },
   "outputs": [],
   "source": [
    "# Define the scorer to use in the grid search\n",
    "# greater_is_better=False -> since we want the negative value of log loss\n",
    "\n",
    "scoring = {'neg_log_loss': make_scorer(log_loss, greater_is_better=False, needs_proba=True)\n",
    "          }\n",
    "#            'accuracy': make_scorer(accuracy_score),\n",
    "#            'precision': make_scorer(precision_score),\n",
    "#            'recall': make_scorer(recall_score),\n",
    "#            'f1': make_scorer(f1_score)"
   ]
  },
  {
   "cell_type": "markdown",
   "metadata": {
    "id": "14fa9042"
   },
   "source": [
    "### Grid Search"
   ]
  },
  {
   "cell_type": "code",
   "execution_count": 16,
   "metadata": {
    "colab": {
     "base_uri": "https://localhost:8080/"
    },
    "executionInfo": {
     "elapsed": 1685243,
     "status": "ok",
     "timestamp": 1677489362631,
     "user": {
      "displayName": "황선경",
      "userId": "17888974404389374352"
     },
     "user_tz": -540
    },
    "id": "477e2237",
    "outputId": "5aeb9d63-e56b-43c5-b3a7-ec0232296fa8"
   },
   "outputs": [],
   "source": [
    "grid_search = GridSearchCV(pipeline, param_grid, cv=5, scoring=scoring, refit='neg_log_loss')"
   ]
  },
  {
   "cell_type": "code",
   "execution_count": 17,
   "metadata": {},
   "outputs": [
    {
     "name": "stderr",
     "output_type": "stream",
     "text": [
      "\n",
      "KeyboardInterrupt\n",
      "\n"
     ]
    }
   ],
   "source": [
    "grid_search.fit(X_train, y_train)"
   ]
  },
  {
   "cell_type": "markdown",
   "metadata": {
    "id": "b0d6a6d5"
   },
   "source": [
    "### Hyperparameter에 따른 Estimator 비교"
   ]
  },
  {
   "cell_type": "code",
   "execution_count": 10,
   "metadata": {
    "executionInfo": {
     "elapsed": 4,
     "status": "ok",
     "timestamp": 1677489403255,
     "user": {
      "displayName": "황선경",
      "userId": "17888974404389374352"
     },
     "user_tz": -540
    },
    "id": "yq8Wm_hKD25w"
   },
   "outputs": [],
   "source": [
    "# 저장된된 파일들의 모델 이름 정해주기\n",
    "model_name = 'DecisionTree_compressed'"
   ]
  },
  {
   "cell_type": "code",
   "execution_count": 13,
   "metadata": {
    "colab": {
     "base_uri": "https://localhost:8080/",
     "height": 1000
    },
    "executionInfo": {
     "elapsed": 476,
     "status": "ok",
     "timestamp": 1677489450328,
     "user": {
      "displayName": "황선경",
      "userId": "17888974404389374352"
     },
     "user_tz": -540
    },
    "id": "7fe9995c",
    "outputId": "986c83bf-a45b-4356-e837-205f22918ef5"
   },
   "outputs": [
    {
     "data": {
      "text/html": [
       "\n",
       "  <div id=\"df-058f2312-febc-4a25-a028-d976e670a544\">\n",
       "    <div class=\"colab-df-container\">\n",
       "      <div>\n",
       "<style scoped>\n",
       "    .dataframe tbody tr th:only-of-type {\n",
       "        vertical-align: middle;\n",
       "    }\n",
       "\n",
       "    .dataframe tbody tr th {\n",
       "        vertical-align: top;\n",
       "    }\n",
       "\n",
       "    .dataframe thead th {\n",
       "        text-align: right;\n",
       "    }\n",
       "</style>\n",
       "<table border=\"1\" class=\"dataframe\">\n",
       "  <thead>\n",
       "    <tr style=\"text-align: right;\">\n",
       "      <th></th>\n",
       "      <th>mean_fit_time</th>\n",
       "      <th>std_fit_time</th>\n",
       "      <th>mean_score_time</th>\n",
       "      <th>std_score_time</th>\n",
       "      <th>param_clf__max_depth</th>\n",
       "      <th>param_clf__min_samples_split</th>\n",
       "      <th>params</th>\n",
       "      <th>split0_test_neg_log_loss</th>\n",
       "      <th>split1_test_neg_log_loss</th>\n",
       "      <th>split2_test_neg_log_loss</th>\n",
       "      <th>split3_test_neg_log_loss</th>\n",
       "      <th>split4_test_neg_log_loss</th>\n",
       "      <th>mean_test_neg_log_loss</th>\n",
       "      <th>std_test_neg_log_loss</th>\n",
       "      <th>rank_test_neg_log_loss</th>\n",
       "    </tr>\n",
       "  </thead>\n",
       "  <tbody>\n",
       "    <tr>\n",
       "      <th>0</th>\n",
       "      <td>3.270487</td>\n",
       "      <td>1.028705</td>\n",
       "      <td>0.067587</td>\n",
       "      <td>0.036228</td>\n",
       "      <td>1</td>\n",
       "      <td>20</td>\n",
       "      <td>{'clf__max_depth': 1, 'clf__min_samples_split': 20}</td>\n",
       "      <td>-0.442286</td>\n",
       "      <td>-0.442301</td>\n",
       "      <td>-0.442594</td>\n",
       "      <td>-0.442383</td>\n",
       "      <td>-0.442521</td>\n",
       "      <td>-0.442417</td>\n",
       "      <td>0.000122</td>\n",
       "      <td>4</td>\n",
       "    </tr>\n",
       "    <tr>\n",
       "      <th>1</th>\n",
       "      <td>2.426100</td>\n",
       "      <td>0.319228</td>\n",
       "      <td>0.050332</td>\n",
       "      <td>0.008821</td>\n",
       "      <td>1</td>\n",
       "      <td>30</td>\n",
       "      <td>{'clf__max_depth': 1, 'clf__min_samples_split': 30}</td>\n",
       "      <td>-0.442286</td>\n",
       "      <td>-0.442301</td>\n",
       "      <td>-0.442594</td>\n",
       "      <td>-0.442383</td>\n",
       "      <td>-0.442521</td>\n",
       "      <td>-0.442417</td>\n",
       "      <td>0.000122</td>\n",
       "      <td>4</td>\n",
       "    </tr>\n",
       "    <tr>\n",
       "      <th>2</th>\n",
       "      <td>2.611606</td>\n",
       "      <td>0.221860</td>\n",
       "      <td>0.050436</td>\n",
       "      <td>0.008578</td>\n",
       "      <td>1</td>\n",
       "      <td>40</td>\n",
       "      <td>{'clf__max_depth': 1, 'clf__min_samples_split': 40}</td>\n",
       "      <td>-0.442286</td>\n",
       "      <td>-0.442301</td>\n",
       "      <td>-0.442594</td>\n",
       "      <td>-0.442383</td>\n",
       "      <td>-0.442521</td>\n",
       "      <td>-0.442417</td>\n",
       "      <td>0.000122</td>\n",
       "      <td>4</td>\n",
       "    </tr>\n",
       "    <tr>\n",
       "      <th>3</th>\n",
       "      <td>13.935988</td>\n",
       "      <td>2.903841</td>\n",
       "      <td>0.055104</td>\n",
       "      <td>0.011250</td>\n",
       "      <td>5</td>\n",
       "      <td>20</td>\n",
       "      <td>{'clf__max_depth': 5, 'clf__min_samples_split': 20}</td>\n",
       "      <td>-0.440106</td>\n",
       "      <td>-0.439685</td>\n",
       "      <td>-0.440927</td>\n",
       "      <td>-0.440485</td>\n",
       "      <td>-0.439902</td>\n",
       "      <td>-0.440221</td>\n",
       "      <td>0.000441</td>\n",
       "      <td>1</td>\n",
       "    </tr>\n",
       "    <tr>\n",
       "      <th>4</th>\n",
       "      <td>11.807306</td>\n",
       "      <td>1.211923</td>\n",
       "      <td>0.053361</td>\n",
       "      <td>0.009562</td>\n",
       "      <td>5</td>\n",
       "      <td>30</td>\n",
       "      <td>{'clf__max_depth': 5, 'clf__min_samples_split': 30}</td>\n",
       "      <td>-0.440106</td>\n",
       "      <td>-0.439685</td>\n",
       "      <td>-0.440930</td>\n",
       "      <td>-0.440485</td>\n",
       "      <td>-0.439902</td>\n",
       "      <td>-0.440222</td>\n",
       "      <td>0.000442</td>\n",
       "      <td>2</td>\n",
       "    </tr>\n",
       "    <tr>\n",
       "      <th>5</th>\n",
       "      <td>11.508116</td>\n",
       "      <td>1.035236</td>\n",
       "      <td>0.057416</td>\n",
       "      <td>0.012924</td>\n",
       "      <td>5</td>\n",
       "      <td>40</td>\n",
       "      <td>{'clf__max_depth': 5, 'clf__min_samples_split': 40}</td>\n",
       "      <td>-0.440106</td>\n",
       "      <td>-0.439685</td>\n",
       "      <td>-0.440930</td>\n",
       "      <td>-0.440485</td>\n",
       "      <td>-0.439902</td>\n",
       "      <td>-0.440222</td>\n",
       "      <td>0.000442</td>\n",
       "      <td>2</td>\n",
       "    </tr>\n",
       "    <tr>\n",
       "      <th>6</th>\n",
       "      <td>21.310969</td>\n",
       "      <td>2.244159</td>\n",
       "      <td>0.061517</td>\n",
       "      <td>0.015406</td>\n",
       "      <td>10</td>\n",
       "      <td>20</td>\n",
       "      <td>{'clf__max_depth': 10, 'clf__min_samples_split': 20}</td>\n",
       "      <td>-0.463491</td>\n",
       "      <td>-0.461544</td>\n",
       "      <td>-0.466565</td>\n",
       "      <td>-0.460668</td>\n",
       "      <td>-0.470449</td>\n",
       "      <td>-0.464543</td>\n",
       "      <td>0.003580</td>\n",
       "      <td>9</td>\n",
       "    </tr>\n",
       "    <tr>\n",
       "      <th>7</th>\n",
       "      <td>20.853854</td>\n",
       "      <td>3.330887</td>\n",
       "      <td>0.059145</td>\n",
       "      <td>0.012209</td>\n",
       "      <td>10</td>\n",
       "      <td>30</td>\n",
       "      <td>{'clf__max_depth': 10, 'clf__min_samples_split': 30}</td>\n",
       "      <td>-0.462271</td>\n",
       "      <td>-0.460582</td>\n",
       "      <td>-0.464270</td>\n",
       "      <td>-0.457978</td>\n",
       "      <td>-0.466401</td>\n",
       "      <td>-0.462300</td>\n",
       "      <td>0.002910</td>\n",
       "      <td>8</td>\n",
       "    </tr>\n",
       "    <tr>\n",
       "      <th>8</th>\n",
       "      <td>19.481444</td>\n",
       "      <td>0.707056</td>\n",
       "      <td>0.058395</td>\n",
       "      <td>0.007932</td>\n",
       "      <td>10</td>\n",
       "      <td>40</td>\n",
       "      <td>{'clf__max_depth': 10, 'clf__min_samples_split': 40}</td>\n",
       "      <td>-0.462812</td>\n",
       "      <td>-0.461436</td>\n",
       "      <td>-0.460749</td>\n",
       "      <td>-0.456720</td>\n",
       "      <td>-0.463642</td>\n",
       "      <td>-0.461072</td>\n",
       "      <td>0.002400</td>\n",
       "      <td>7</td>\n",
       "    </tr>\n",
       "    <tr>\n",
       "      <th>9</th>\n",
       "      <td>37.461209</td>\n",
       "      <td>0.946746</td>\n",
       "      <td>0.103211</td>\n",
       "      <td>0.013021</td>\n",
       "      <td>50</td>\n",
       "      <td>20</td>\n",
       "      <td>{'clf__max_depth': 50, 'clf__min_samples_split': 20}</td>\n",
       "      <td>-4.906278</td>\n",
       "      <td>-4.911303</td>\n",
       "      <td>-4.867329</td>\n",
       "      <td>-4.861090</td>\n",
       "      <td>-4.980942</td>\n",
       "      <td>-4.905389</td>\n",
       "      <td>0.042790</td>\n",
       "      <td>14</td>\n",
       "    </tr>\n",
       "    <tr>\n",
       "      <th>10</th>\n",
       "      <td>38.310012</td>\n",
       "      <td>1.201507</td>\n",
       "      <td>0.126845</td>\n",
       "      <td>0.044396</td>\n",
       "      <td>50</td>\n",
       "      <td>30</td>\n",
       "      <td>{'clf__max_depth': 50, 'clf__min_samples_split': 30}</td>\n",
       "      <td>-4.218927</td>\n",
       "      <td>-4.212239</td>\n",
       "      <td>-4.147168</td>\n",
       "      <td>-4.170133</td>\n",
       "      <td>-4.267864</td>\n",
       "      <td>-4.203266</td>\n",
       "      <td>0.041818</td>\n",
       "      <td>12</td>\n",
       "    </tr>\n",
       "    <tr>\n",
       "      <th>11</th>\n",
       "      <td>36.833366</td>\n",
       "      <td>0.527375</td>\n",
       "      <td>0.098198</td>\n",
       "      <td>0.010889</td>\n",
       "      <td>50</td>\n",
       "      <td>40</td>\n",
       "      <td>{'clf__max_depth': 50, 'clf__min_samples_split': 40}</td>\n",
       "      <td>-3.726901</td>\n",
       "      <td>-3.743350</td>\n",
       "      <td>-3.692120</td>\n",
       "      <td>-3.678807</td>\n",
       "      <td>-3.779986</td>\n",
       "      <td>-3.724233</td>\n",
       "      <td>0.036265</td>\n",
       "      <td>10</td>\n",
       "    </tr>\n",
       "    <tr>\n",
       "      <th>12</th>\n",
       "      <td>38.964647</td>\n",
       "      <td>2.019276</td>\n",
       "      <td>0.104195</td>\n",
       "      <td>0.021795</td>\n",
       "      <td>100</td>\n",
       "      <td>20</td>\n",
       "      <td>{'clf__max_depth': 100, 'clf__min_samples_split': 20}</td>\n",
       "      <td>-4.927772</td>\n",
       "      <td>-4.923010</td>\n",
       "      <td>-4.889891</td>\n",
       "      <td>-4.878975</td>\n",
       "      <td>-4.978996</td>\n",
       "      <td>-4.919729</td>\n",
       "      <td>0.035040</td>\n",
       "      <td>15</td>\n",
       "    </tr>\n",
       "    <tr>\n",
       "      <th>13</th>\n",
       "      <td>36.852961</td>\n",
       "      <td>0.634914</td>\n",
       "      <td>0.102764</td>\n",
       "      <td>0.011413</td>\n",
       "      <td>100</td>\n",
       "      <td>30</td>\n",
       "      <td>{'clf__max_depth': 100, 'clf__min_samples_split': 30}</td>\n",
       "      <td>-4.237347</td>\n",
       "      <td>-4.245916</td>\n",
       "      <td>-4.177907</td>\n",
       "      <td>-4.203022</td>\n",
       "      <td>-4.275665</td>\n",
       "      <td>-4.227971</td>\n",
       "      <td>0.034098</td>\n",
       "      <td>13</td>\n",
       "    </tr>\n",
       "    <tr>\n",
       "      <th>14</th>\n",
       "      <td>37.281408</td>\n",
       "      <td>1.347155</td>\n",
       "      <td>0.103650</td>\n",
       "      <td>0.016062</td>\n",
       "      <td>100</td>\n",
       "      <td>40</td>\n",
       "      <td>{'clf__max_depth': 100, 'clf__min_samples_split': 40}</td>\n",
       "      <td>-3.746898</td>\n",
       "      <td>-3.756605</td>\n",
       "      <td>-3.720675</td>\n",
       "      <td>-3.701060</td>\n",
       "      <td>-3.792606</td>\n",
       "      <td>-3.743569</td>\n",
       "      <td>0.031358</td>\n",
       "      <td>11</td>\n",
       "    </tr>\n",
       "  </tbody>\n",
       "</table>\n",
       "</div>\n",
       "      <button class=\"colab-df-convert\" onclick=\"convertToInteractive('df-058f2312-febc-4a25-a028-d976e670a544')\"\n",
       "              title=\"Convert this dataframe to an interactive table.\"\n",
       "              style=\"display:none;\">\n",
       "        \n",
       "  <svg xmlns=\"http://www.w3.org/2000/svg\" height=\"24px\"viewBox=\"0 0 24 24\"\n",
       "       width=\"24px\">\n",
       "    <path d=\"M0 0h24v24H0V0z\" fill=\"none\"/>\n",
       "    <path d=\"M18.56 5.44l.94 2.06.94-2.06 2.06-.94-2.06-.94-.94-2.06-.94 2.06-2.06.94zm-11 1L8.5 8.5l.94-2.06 2.06-.94-2.06-.94L8.5 2.5l-.94 2.06-2.06.94zm10 10l.94 2.06.94-2.06 2.06-.94-2.06-.94-.94-2.06-.94 2.06-2.06.94z\"/><path d=\"M17.41 7.96l-1.37-1.37c-.4-.4-.92-.59-1.43-.59-.52 0-1.04.2-1.43.59L10.3 9.45l-7.72 7.72c-.78.78-.78 2.05 0 2.83L4 21.41c.39.39.9.59 1.41.59.51 0 1.02-.2 1.41-.59l7.78-7.78 2.81-2.81c.8-.78.8-2.07 0-2.86zM5.41 20L4 18.59l7.72-7.72 1.47 1.35L5.41 20z\"/>\n",
       "  </svg>\n",
       "      </button>\n",
       "      \n",
       "  <style>\n",
       "    .colab-df-container {\n",
       "      display:flex;\n",
       "      flex-wrap:wrap;\n",
       "      gap: 12px;\n",
       "    }\n",
       "\n",
       "    .colab-df-convert {\n",
       "      background-color: #E8F0FE;\n",
       "      border: none;\n",
       "      border-radius: 50%;\n",
       "      cursor: pointer;\n",
       "      display: none;\n",
       "      fill: #1967D2;\n",
       "      height: 32px;\n",
       "      padding: 0 0 0 0;\n",
       "      width: 32px;\n",
       "    }\n",
       "\n",
       "    .colab-df-convert:hover {\n",
       "      background-color: #E2EBFA;\n",
       "      box-shadow: 0px 1px 2px rgba(60, 64, 67, 0.3), 0px 1px 3px 1px rgba(60, 64, 67, 0.15);\n",
       "      fill: #174EA6;\n",
       "    }\n",
       "\n",
       "    [theme=dark] .colab-df-convert {\n",
       "      background-color: #3B4455;\n",
       "      fill: #D2E3FC;\n",
       "    }\n",
       "\n",
       "    [theme=dark] .colab-df-convert:hover {\n",
       "      background-color: #434B5C;\n",
       "      box-shadow: 0px 1px 3px 1px rgba(0, 0, 0, 0.15);\n",
       "      filter: drop-shadow(0px 1px 2px rgba(0, 0, 0, 0.3));\n",
       "      fill: #FFFFFF;\n",
       "    }\n",
       "  </style>\n",
       "\n",
       "      <script>\n",
       "        const buttonEl =\n",
       "          document.querySelector('#df-058f2312-febc-4a25-a028-d976e670a544 button.colab-df-convert');\n",
       "        buttonEl.style.display =\n",
       "          google.colab.kernel.accessAllowed ? 'block' : 'none';\n",
       "\n",
       "        async function convertToInteractive(key) {\n",
       "          const element = document.querySelector('#df-058f2312-febc-4a25-a028-d976e670a544');\n",
       "          const dataTable =\n",
       "            await google.colab.kernel.invokeFunction('convertToInteractive',\n",
       "                                                     [key], {});\n",
       "          if (!dataTable) return;\n",
       "\n",
       "          const docLinkHtml = 'Like what you see? Visit the ' +\n",
       "            '<a target=\"_blank\" href=https://colab.research.google.com/notebooks/data_table.ipynb>data table notebook</a>'\n",
       "            + ' to learn more about interactive tables.';\n",
       "          element.innerHTML = '';\n",
       "          dataTable['output_type'] = 'display_data';\n",
       "          await google.colab.output.renderOutput(dataTable, element);\n",
       "          const docLink = document.createElement('div');\n",
       "          docLink.innerHTML = docLinkHtml;\n",
       "          element.appendChild(docLink);\n",
       "        }\n",
       "      </script>\n",
       "    </div>\n",
       "  </div>\n",
       "  "
      ],
      "text/plain": [
       "    mean_fit_time  std_fit_time  mean_score_time  std_score_time  \\\n",
       "0        3.270487      1.028705         0.067587        0.036228   \n",
       "1        2.426100      0.319228         0.050332        0.008821   \n",
       "2        2.611606      0.221860         0.050436        0.008578   \n",
       "3       13.935988      2.903841         0.055104        0.011250   \n",
       "4       11.807306      1.211923         0.053361        0.009562   \n",
       "5       11.508116      1.035236         0.057416        0.012924   \n",
       "6       21.310969      2.244159         0.061517        0.015406   \n",
       "7       20.853854      3.330887         0.059145        0.012209   \n",
       "8       19.481444      0.707056         0.058395        0.007932   \n",
       "9       37.461209      0.946746         0.103211        0.013021   \n",
       "10      38.310012      1.201507         0.126845        0.044396   \n",
       "11      36.833366      0.527375         0.098198        0.010889   \n",
       "12      38.964647      2.019276         0.104195        0.021795   \n",
       "13      36.852961      0.634914         0.102764        0.011413   \n",
       "14      37.281408      1.347155         0.103650        0.016062   \n",
       "\n",
       "   param_clf__max_depth param_clf__min_samples_split  \\\n",
       "0                     1                           20   \n",
       "1                     1                           30   \n",
       "2                     1                           40   \n",
       "3                     5                           20   \n",
       "4                     5                           30   \n",
       "5                     5                           40   \n",
       "6                    10                           20   \n",
       "7                    10                           30   \n",
       "8                    10                           40   \n",
       "9                    50                           20   \n",
       "10                   50                           30   \n",
       "11                   50                           40   \n",
       "12                  100                           20   \n",
       "13                  100                           30   \n",
       "14                  100                           40   \n",
       "\n",
       "                                                   params  \\\n",
       "0     {'clf__max_depth': 1, 'clf__min_samples_split': 20}   \n",
       "1     {'clf__max_depth': 1, 'clf__min_samples_split': 30}   \n",
       "2     {'clf__max_depth': 1, 'clf__min_samples_split': 40}   \n",
       "3     {'clf__max_depth': 5, 'clf__min_samples_split': 20}   \n",
       "4     {'clf__max_depth': 5, 'clf__min_samples_split': 30}   \n",
       "5     {'clf__max_depth': 5, 'clf__min_samples_split': 40}   \n",
       "6    {'clf__max_depth': 10, 'clf__min_samples_split': 20}   \n",
       "7    {'clf__max_depth': 10, 'clf__min_samples_split': 30}   \n",
       "8    {'clf__max_depth': 10, 'clf__min_samples_split': 40}   \n",
       "9    {'clf__max_depth': 50, 'clf__min_samples_split': 20}   \n",
       "10   {'clf__max_depth': 50, 'clf__min_samples_split': 30}   \n",
       "11   {'clf__max_depth': 50, 'clf__min_samples_split': 40}   \n",
       "12  {'clf__max_depth': 100, 'clf__min_samples_split': 20}   \n",
       "13  {'clf__max_depth': 100, 'clf__min_samples_split': 30}   \n",
       "14  {'clf__max_depth': 100, 'clf__min_samples_split': 40}   \n",
       "\n",
       "    split0_test_neg_log_loss  split1_test_neg_log_loss  \\\n",
       "0                  -0.442286                 -0.442301   \n",
       "1                  -0.442286                 -0.442301   \n",
       "2                  -0.442286                 -0.442301   \n",
       "3                  -0.440106                 -0.439685   \n",
       "4                  -0.440106                 -0.439685   \n",
       "5                  -0.440106                 -0.439685   \n",
       "6                  -0.463491                 -0.461544   \n",
       "7                  -0.462271                 -0.460582   \n",
       "8                  -0.462812                 -0.461436   \n",
       "9                  -4.906278                 -4.911303   \n",
       "10                 -4.218927                 -4.212239   \n",
       "11                 -3.726901                 -3.743350   \n",
       "12                 -4.927772                 -4.923010   \n",
       "13                 -4.237347                 -4.245916   \n",
       "14                 -3.746898                 -3.756605   \n",
       "\n",
       "    split2_test_neg_log_loss  split3_test_neg_log_loss  \\\n",
       "0                  -0.442594                 -0.442383   \n",
       "1                  -0.442594                 -0.442383   \n",
       "2                  -0.442594                 -0.442383   \n",
       "3                  -0.440927                 -0.440485   \n",
       "4                  -0.440930                 -0.440485   \n",
       "5                  -0.440930                 -0.440485   \n",
       "6                  -0.466565                 -0.460668   \n",
       "7                  -0.464270                 -0.457978   \n",
       "8                  -0.460749                 -0.456720   \n",
       "9                  -4.867329                 -4.861090   \n",
       "10                 -4.147168                 -4.170133   \n",
       "11                 -3.692120                 -3.678807   \n",
       "12                 -4.889891                 -4.878975   \n",
       "13                 -4.177907                 -4.203022   \n",
       "14                 -3.720675                 -3.701060   \n",
       "\n",
       "    split4_test_neg_log_loss  mean_test_neg_log_loss  std_test_neg_log_loss  \\\n",
       "0                  -0.442521               -0.442417               0.000122   \n",
       "1                  -0.442521               -0.442417               0.000122   \n",
       "2                  -0.442521               -0.442417               0.000122   \n",
       "3                  -0.439902               -0.440221               0.000441   \n",
       "4                  -0.439902               -0.440222               0.000442   \n",
       "5                  -0.439902               -0.440222               0.000442   \n",
       "6                  -0.470449               -0.464543               0.003580   \n",
       "7                  -0.466401               -0.462300               0.002910   \n",
       "8                  -0.463642               -0.461072               0.002400   \n",
       "9                  -4.980942               -4.905389               0.042790   \n",
       "10                 -4.267864               -4.203266               0.041818   \n",
       "11                 -3.779986               -3.724233               0.036265   \n",
       "12                 -4.978996               -4.919729               0.035040   \n",
       "13                 -4.275665               -4.227971               0.034098   \n",
       "14                 -3.792606               -3.743569               0.031358   \n",
       "\n",
       "    rank_test_neg_log_loss  \n",
       "0                        4  \n",
       "1                        4  \n",
       "2                        4  \n",
       "3                        1  \n",
       "4                        2  \n",
       "5                        2  \n",
       "6                        9  \n",
       "7                        8  \n",
       "8                        7  \n",
       "9                       14  \n",
       "10                      12  \n",
       "11                      10  \n",
       "12                      15  \n",
       "13                      13  \n",
       "14                      11  "
      ]
     },
     "execution_count": 13,
     "metadata": {},
     "output_type": "execute_result"
    }
   ],
   "source": [
    "# grid search 결과 df로 저장\n",
    "df_result_ = pd.DataFrame(grid_search.cv_results_)\n",
    "\n",
    "df_result_.to_csv('%s_estimator_%s.csv'%(model_name, datetime.datetime.now().strftime(\"%m%d%H%M%S\")), index=True, float_format='%.6f') # 이름 설정해줘야함\n",
    "\n",
    "df_result_"
   ]
  },
  {
   "cell_type": "markdown",
   "metadata": {
    "id": "9d336699"
   },
   "source": [
    "# Validation"
   ]
  },
  {
   "cell_type": "markdown",
   "metadata": {
    "id": "4a7df44d"
   },
   "source": [
    "### best_estimator 확인"
   ]
  },
  {
   "cell_type": "code",
   "execution_count": 14,
   "metadata": {
    "colab": {
     "base_uri": "https://localhost:8080/"
    },
    "executionInfo": {
     "elapsed": 9,
     "status": "ok",
     "timestamp": 1677489468074,
     "user": {
      "displayName": "황선경",
      "userId": "17888974404389374352"
     },
     "user_tz": -540
    },
    "id": "f34e575c",
    "outputId": "21412bad-29f3-4642-dc3d-c93899dfd5d7"
   },
   "outputs": [
    {
     "name": "stdout",
     "output_type": "stream",
     "text": [
      "Pipeline(steps=[('clf',\n",
      "                 DecisionTreeClassifier(max_depth=5, min_samples_split=20))])\n"
     ]
    }
   ],
   "source": [
    "# Get the best estimator from the grid search\n",
    "best_estimator = grid_search.best_estimator_\n",
    "print(best_estimator)"
   ]
  },
  {
   "cell_type": "markdown",
   "metadata": {
    "id": "e96909b9"
   },
   "source": [
    "### X_val에 대한 평가지표 확인"
   ]
  },
  {
   "cell_type": "code",
   "execution_count": 16,
   "metadata": {
    "colab": {
     "base_uri": "https://localhost:8080/"
    },
    "executionInfo": {
     "elapsed": 719,
     "status": "ok",
     "timestamp": 1677489536900,
     "user": {
      "displayName": "황선경",
      "userId": "17888974404389374352"
     },
     "user_tz": -540
    },
    "id": "705d5366",
    "outputId": "d52ebd2d-0f91-4c83-cb14-1d996641a473",
    "scrolled": true
   },
   "outputs": [
    {
     "name": "stdout",
     "output_type": "stream",
     "text": [
      "\n",
      " 정확도: 0.8379112149272203, 정밀도도: 0.0, 재현율율: 0.0\n",
      "[[150302      0]\n",
      " [ 29075      0]]\n"
     ]
    }
   ],
   "source": [
    "pred_val = best_estimator.predict(X_val)\n",
    "#dt = DecisionTreeClassifier()\n",
    "#dt.fit(X_train, y_train)\n",
    "#pred_val = dt.predict(X_val)\n",
    "\n",
    "\n",
    "accuracy = accuracy_score(y_val, pred_val)\n",
    "precision = precision_score(y_val, pred_val)\n",
    "recall = recall_score(y_val, pred_val)\n",
    "conf_matrix = confusion_matrix(y_val, pred_val)\n",
    "print('\\n 정확도: {0}, 정밀도도: {1}, 재현율율: {2}'.format(accuracy, precision, recall))\n",
    "print(conf_matrix)"
   ]
  },
  {
   "cell_type": "markdown",
   "metadata": {
    "id": "3318dd84"
   },
   "source": [
    "### X_val fitting"
   ]
  },
  {
   "cell_type": "code",
   "execution_count": 17,
   "metadata": {
    "colab": {
     "base_uri": "https://localhost:8080/",
     "height": 296
    },
    "executionInfo": {
     "elapsed": 2377,
     "status": "ok",
     "timestamp": 1677489545603,
     "user": {
      "displayName": "황선경",
      "userId": "17888974404389374352"
     },
     "user_tz": -540
    },
    "id": "f864b23f",
    "outputId": "994f8f66-741f-4167-ce92-de280c354370",
    "scrolled": false
   },
   "outputs": [
    {
     "data": {
      "image/png": "[encoded data removed]",
      "text/plain": [
       "<Figure size 432x288 with 1 Axes>"
      ]
     },
     "metadata": {
      "needs_background": "light"
     },
     "output_type": "display_data"
    }
   ],
   "source": [
    "# Predict probabilities for new data\n",
    "y_val_pred_proba = best_estimator.predict_proba(X_val) # 확률로 추정된 X_val의 y_pred\n",
    "\n",
    "plt.hist(y_val_pred_proba[:,1], bins=100)\n",
    "\n",
    "plt.xlabel('y_val_pred_proba')\n",
    "plt.ylabel('Frequency')\n",
    "plt.title('Frequency of y_val_pred_proba of %s'%(model_name))\n",
    "\n",
    "plt.savefig(\"%s_val_pre_proba_%s.png\"%(model_name, datetime.datetime.now().strftime(\"%m%d%H%M%S\")), dpi=300, bbox_inches='tight')\n",
    "\n",
    "plt.show() # y_val_pred_proba의 분포 확인"
   ]
  },
  {
   "cell_type": "code",
   "execution_count": 18,
   "metadata": {
    "colab": {
     "base_uri": "https://localhost:8080/"
    },
    "executionInfo": {
     "elapsed": 298,
     "status": "ok",
     "timestamp": 1677489567845,
     "user": {
      "displayName": "황선경",
      "userId": "17888974404389374352"
     },
     "user_tz": -540
    },
    "id": "80603561",
    "outputId": "7a2953e1-4506-4f17-bb7e-7e3bef1bd887"
   },
   "outputs": [
    {
     "data": {
      "text/plain": [
       "array([[0.83968675, 0.16031325],\n",
       "       [0.81288047, 0.18711953],\n",
       "       [0.85208703, 0.14791297],\n",
       "       ...,\n",
       "       [0.81288047, 0.18711953],\n",
       "       [0.81639497, 0.18360503],\n",
       "       [0.81288047, 0.18711953]])"
      ]
     },
     "execution_count": 18,
     "metadata": {},
     "output_type": "execute_result"
    }
   ],
   "source": [
    "y_val_pred_proba"
   ]
  },
  {
   "cell_type": "markdown",
   "metadata": {
    "id": "d8c47020"
   },
   "source": [
    "### optimal threshold 선정 (threshold에 따른 목적함수 값 비교)\n",
    "\n",
    "실제 positive = TP + FN\n",
    "\n",
    "실제 Negative = TN + FP\n",
    "\n",
    "정밀도: positive로 예측한 것 중에 진짜 positive인 것 -> 양성 예측도\n",
    "\n",
    "재현율: 실제 positive 중에 맞춘 것 -> 민감도"
   ]
  },
  {
   "cell_type": "code",
   "execution_count": 30,
   "metadata": {
    "executionInfo": {
     "elapsed": 304,
     "status": "ok",
     "timestamp": 1677489868173,
     "user": {
      "displayName": "황선경",
      "userId": "17888974404389374352"
     },
     "user_tz": -540
    },
    "id": "XyXYPwxgE4nu"
   },
   "outputs": [],
   "source": [
    "threshold_list = np.linspace(0.13,0.14,10) # 짝수개 값 (예시 10개)"
   ]
  },
  {
   "cell_type": "markdown",
   "metadata": {
    "id": "67a298d2"
   },
   "source": [
    "Threshold에 따른 지표 비교\n",
    "\n",
    "0, 1 count / confusion_matrix / accuracy, precision, recall, f1 score "
   ]
  },
  {
   "cell_type": "code",
   "execution_count": 31,
   "metadata": {
    "executionInfo": {
     "elapsed": 9,
     "status": "ok",
     "timestamp": 1677489870713,
     "user": {
      "displayName": "황선경",
      "userId": "17888974404389374352"
     },
     "user_tz": -540
    },
    "id": "HWVHIIWEFEm8"
   },
   "outputs": [],
   "source": [
    "def threshold_func(y_val, y_pred_proba, threshold_list):\n",
    "    \n",
    "    n = len(threshold_list)\n",
    "    \n",
    "    result_df = pd.DataFrame(index=['1_real','1_pred','0_real','0_pred','tn', 'fp', 'fn', 'tp', 'tn_%', 'fp_%', 'fn_%', 'tp_%', 'Accuracy', 'Precision', 'Recall', 'F1 score'])\n",
    "    \n",
    "    fig, axes = plt.subplots(nrows=int(n/2), ncols=2, figsize=(10, 10))\n",
    "    \n",
    "    for i in range(len(threshold_list)):\n",
    "        \n",
    "        threshold = threshold_list[i]\n",
    "        \n",
    "        # make Binarizer(y hat)\n",
    "        binarizer = Binarizer(threshold = threshold).fit(y_pred_proba[:,1].reshape(-1,1))\n",
    "        custom_predict = binarizer.transform(y_pred_proba[:,1].reshape(-1,1))\n",
    "        \n",
    "        # count 0, 1 in Binarizer(y hat)\n",
    "        unique, counts = np.unique(custom_predict, return_counts=True)\n",
    "\n",
    "        for val, count in zip(unique, counts):\n",
    "            if len(unique) == 1:\n",
    "                if val == 1.0:\n",
    "                    num_0_pred = 0\n",
    "                    num_1_pred = count\n",
    "                elif val == 0.0:\n",
    "                    num_1_pred = 0\n",
    "                    num_0_pred = count\n",
    "            if val == 1.0:\n",
    "                num_1_pred = count\n",
    "            elif val == 0.0:\n",
    "                num_0_pred = count\n",
    "\n",
    "        # count 0, 1 in y hat\n",
    "        num_0_real = y_val.value_counts()[0]\n",
    "        num_1_real = y_val.value_counts()[1]\n",
    "        \n",
    "        tn, fp, fn, tp = confusion_matrix(y_val, custom_predict).ravel()\n",
    "        count = [tn, fp, fn, tp]\n",
    "        tn_, fp_, fn_, tp_ = [round(x/sum(count)*100, 1) for x in count]\n",
    "        \n",
    "        accuracy = round((tp+tn)/(tp+tn+fp+fn),4)\n",
    "        precision = round(tp/(tp+fp),4)\n",
    "        recall = round(tp/(tp+fn),4)\n",
    "        f1 = round(2*(precision*recall)/(precision+recall),4)\n",
    "        \n",
    "        threshold_tag = round(threshold_list[i], 4)\n",
    "        \n",
    "        result_df[threshold_tag] = [num_1_real, num_1_pred, num_0_real, num_0_pred, tn, fp, fn, tp, tn_, fp_, fn_, tp_, accuracy, precision, recall, f1]\n",
    "        \n",
    "        labels = ['TN','FP','FN','TP']\n",
    "        \n",
    "        # tn, fp, fn, tp 각각의 값을 counts 리스트에 저장\n",
    "        counts = [tn, fp, fn, tp]\n",
    "\n",
    "        # 해당하는 subplot에 그래프 그리기\n",
    "        axes[i//2, i%2].bar(labels, counts)\n",
    "        axes[i//2, i%2].set_title(threshold_tag)\n",
    "        axes[i//2, i%2].set_ylabel('Count')\n",
    "\n",
    "    # 그래프 간격 조절하기\n",
    "    plt.tight_layout()\n",
    "    \n",
    "    plt.savefig(\"%s_threshold_%s.png\"%(model_name, datetime.datetime.now().strftime(\"%m%d%H%M%S\")), dpi=300, bbox_inches='tight')\n",
    "\n",
    "    # 그래프 출력하기\n",
    "    plt.show()\n",
    "    \n",
    "    result_df.to_csv('%s_threshold_%s.csv'%(model_name, datetime.datetime.now().strftime(\"%m%d%H%M%S\")), index=True)\n",
    "    \n",
    "    return result_df"
   ]
  },
  {
   "cell_type": "code",
   "execution_count": 32,
   "metadata": {
    "colab": {
     "base_uri": "https://localhost:8080/",
     "height": 1000
    },
    "executionInfo": {
     "elapsed": 4111,
     "status": "ok",
     "timestamp": 1677489878104,
     "user": {
      "displayName": "황선경",
      "userId": "17888974404389374352"
     },
     "user_tz": -540
    },
    "id": "JlFq1HVoFEm-",
    "outputId": "a68f06fc-9b45-4f85-b121-a5c4e2d54be1",
    "scrolled": true
   },
   "outputs": [
    {
     "data": {
      "image/png": "[encoded data removed]",
      "text/plain": [
       "<Figure size 720x720 with 10 Axes>"
      ]
     },
     "metadata": {
      "needs_background": "light"
     },
     "output_type": "display_data"
    },
    {
     "data": {
      "text/html": [
       "\n",
       "  <div id=\"df-e91661aa-730b-4e72-b340-27378e3fc32d\">\n",
       "    <div class=\"colab-df-container\">\n",
       "      <div>\n",
       "<style scoped>\n",
       "    .dataframe tbody tr th:only-of-type {\n",
       "        vertical-align: middle;\n",
       "    }\n",
       "\n",
       "    .dataframe tbody tr th {\n",
       "        vertical-align: top;\n",
       "    }\n",
       "\n",
       "    .dataframe thead th {\n",
       "        text-align: right;\n",
       "    }\n",
       "</style>\n",
       "<table border=\"1\" class=\"dataframe\">\n",
       "  <thead>\n",
       "    <tr style=\"text-align: right;\">\n",
       "      <th></th>\n",
       "      <th>0.1300</th>\n",
       "      <th>0.1311</th>\n",
       "      <th>0.1322</th>\n",
       "      <th>0.1333</th>\n",
       "      <th>0.1344</th>\n",
       "      <th>0.1356</th>\n",
       "      <th>0.1367</th>\n",
       "      <th>0.1378</th>\n",
       "      <th>0.1389</th>\n",
       "      <th>0.1400</th>\n",
       "    </tr>\n",
       "  </thead>\n",
       "  <tbody>\n",
       "    <tr>\n",
       "      <th>1_real</th>\n",
       "      <td>29075.0000</td>\n",
       "      <td>29075.0000</td>\n",
       "      <td>29075.0000</td>\n",
       "      <td>29075.0000</td>\n",
       "      <td>29075.0000</td>\n",
       "      <td>29075.0000</td>\n",
       "      <td>29075.0000</td>\n",
       "      <td>29075.0000</td>\n",
       "      <td>29075.0000</td>\n",
       "      <td>29075.0000</td>\n",
       "    </tr>\n",
       "    <tr>\n",
       "      <th>1_pred</th>\n",
       "      <td>164411.0000</td>\n",
       "      <td>161443.0000</td>\n",
       "      <td>161443.0000</td>\n",
       "      <td>160451.0000</td>\n",
       "      <td>160451.0000</td>\n",
       "      <td>145079.0000</td>\n",
       "      <td>145079.0000</td>\n",
       "      <td>145079.0000</td>\n",
       "      <td>145079.0000</td>\n",
       "      <td>145079.0000</td>\n",
       "    </tr>\n",
       "    <tr>\n",
       "      <th>0_real</th>\n",
       "      <td>150302.0000</td>\n",
       "      <td>150302.0000</td>\n",
       "      <td>150302.0000</td>\n",
       "      <td>150302.0000</td>\n",
       "      <td>150302.0000</td>\n",
       "      <td>150302.0000</td>\n",
       "      <td>150302.0000</td>\n",
       "      <td>150302.0000</td>\n",
       "      <td>150302.0000</td>\n",
       "      <td>150302.0000</td>\n",
       "    </tr>\n",
       "    <tr>\n",
       "      <th>0_pred</th>\n",
       "      <td>14966.0000</td>\n",
       "      <td>17934.0000</td>\n",
       "      <td>17934.0000</td>\n",
       "      <td>18926.0000</td>\n",
       "      <td>18926.0000</td>\n",
       "      <td>34298.0000</td>\n",
       "      <td>34298.0000</td>\n",
       "      <td>34298.0000</td>\n",
       "      <td>34298.0000</td>\n",
       "      <td>34298.0000</td>\n",
       "    </tr>\n",
       "    <tr>\n",
       "      <th>tn</th>\n",
       "      <td>13229.0000</td>\n",
       "      <td>15827.0000</td>\n",
       "      <td>15827.0000</td>\n",
       "      <td>16712.0000</td>\n",
       "      <td>16712.0000</td>\n",
       "      <td>29859.0000</td>\n",
       "      <td>29859.0000</td>\n",
       "      <td>29859.0000</td>\n",
       "      <td>29859.0000</td>\n",
       "      <td>29859.0000</td>\n",
       "    </tr>\n",
       "    <tr>\n",
       "      <th>fp</th>\n",
       "      <td>137073.0000</td>\n",
       "      <td>134475.0000</td>\n",
       "      <td>134475.0000</td>\n",
       "      <td>133590.0000</td>\n",
       "      <td>133590.0000</td>\n",
       "      <td>120443.0000</td>\n",
       "      <td>120443.0000</td>\n",
       "      <td>120443.0000</td>\n",
       "      <td>120443.0000</td>\n",
       "      <td>120443.0000</td>\n",
       "    </tr>\n",
       "    <tr>\n",
       "      <th>fn</th>\n",
       "      <td>1737.0000</td>\n",
       "      <td>2107.0000</td>\n",
       "      <td>2107.0000</td>\n",
       "      <td>2214.0000</td>\n",
       "      <td>2214.0000</td>\n",
       "      <td>4439.0000</td>\n",
       "      <td>4439.0000</td>\n",
       "      <td>4439.0000</td>\n",
       "      <td>4439.0000</td>\n",
       "      <td>4439.0000</td>\n",
       "    </tr>\n",
       "    <tr>\n",
       "      <th>tp</th>\n",
       "      <td>27338.0000</td>\n",
       "      <td>26968.0000</td>\n",
       "      <td>26968.0000</td>\n",
       "      <td>26861.0000</td>\n",
       "      <td>26861.0000</td>\n",
       "      <td>24636.0000</td>\n",
       "      <td>24636.0000</td>\n",
       "      <td>24636.0000</td>\n",
       "      <td>24636.0000</td>\n",
       "      <td>24636.0000</td>\n",
       "    </tr>\n",
       "    <tr>\n",
       "      <th>tn_%</th>\n",
       "      <td>7.4000</td>\n",
       "      <td>8.8000</td>\n",
       "      <td>8.8000</td>\n",
       "      <td>9.3000</td>\n",
       "      <td>9.3000</td>\n",
       "      <td>16.6000</td>\n",
       "      <td>16.6000</td>\n",
       "      <td>16.6000</td>\n",
       "      <td>16.6000</td>\n",
       "      <td>16.6000</td>\n",
       "    </tr>\n",
       "    <tr>\n",
       "      <th>fp_%</th>\n",
       "      <td>76.4000</td>\n",
       "      <td>75.0000</td>\n",
       "      <td>75.0000</td>\n",
       "      <td>74.5000</td>\n",
       "      <td>74.5000</td>\n",
       "      <td>67.1000</td>\n",
       "      <td>67.1000</td>\n",
       "      <td>67.1000</td>\n",
       "      <td>67.1000</td>\n",
       "      <td>67.1000</td>\n",
       "    </tr>\n",
       "    <tr>\n",
       "      <th>fn_%</th>\n",
       "      <td>1.0000</td>\n",
       "      <td>1.2000</td>\n",
       "      <td>1.2000</td>\n",
       "      <td>1.2000</td>\n",
       "      <td>1.2000</td>\n",
       "      <td>2.5000</td>\n",
       "      <td>2.5000</td>\n",
       "      <td>2.5000</td>\n",
       "      <td>2.5000</td>\n",
       "      <td>2.5000</td>\n",
       "    </tr>\n",
       "    <tr>\n",
       "      <th>tp_%</th>\n",
       "      <td>15.2000</td>\n",
       "      <td>15.0000</td>\n",
       "      <td>15.0000</td>\n",
       "      <td>15.0000</td>\n",
       "      <td>15.0000</td>\n",
       "      <td>13.7000</td>\n",
       "      <td>13.7000</td>\n",
       "      <td>13.7000</td>\n",
       "      <td>13.7000</td>\n",
       "      <td>13.7000</td>\n",
       "    </tr>\n",
       "    <tr>\n",
       "      <th>Accuracy</th>\n",
       "      <td>0.2262</td>\n",
       "      <td>0.2386</td>\n",
       "      <td>0.2386</td>\n",
       "      <td>0.2429</td>\n",
       "      <td>0.2429</td>\n",
       "      <td>0.3038</td>\n",
       "      <td>0.3038</td>\n",
       "      <td>0.3038</td>\n",
       "      <td>0.3038</td>\n",
       "      <td>0.3038</td>\n",
       "    </tr>\n",
       "    <tr>\n",
       "      <th>Precision</th>\n",
       "      <td>0.1663</td>\n",
       "      <td>0.1670</td>\n",
       "      <td>0.1670</td>\n",
       "      <td>0.1674</td>\n",
       "      <td>0.1674</td>\n",
       "      <td>0.1698</td>\n",
       "      <td>0.1698</td>\n",
       "      <td>0.1698</td>\n",
       "      <td>0.1698</td>\n",
       "      <td>0.1698</td>\n",
       "    </tr>\n",
       "    <tr>\n",
       "      <th>Recall</th>\n",
       "      <td>0.9403</td>\n",
       "      <td>0.9275</td>\n",
       "      <td>0.9275</td>\n",
       "      <td>0.9239</td>\n",
       "      <td>0.9239</td>\n",
       "      <td>0.8473</td>\n",
       "      <td>0.8473</td>\n",
       "      <td>0.8473</td>\n",
       "      <td>0.8473</td>\n",
       "      <td>0.8473</td>\n",
       "    </tr>\n",
       "    <tr>\n",
       "      <th>F1 score</th>\n",
       "      <td>0.2826</td>\n",
       "      <td>0.2830</td>\n",
       "      <td>0.2830</td>\n",
       "      <td>0.2834</td>\n",
       "      <td>0.2834</td>\n",
       "      <td>0.2829</td>\n",
       "      <td>0.2829</td>\n",
       "      <td>0.2829</td>\n",
       "      <td>0.2829</td>\n",
       "      <td>0.2829</td>\n",
       "    </tr>\n",
       "  </tbody>\n",
       "</table>\n",
       "</div>\n",
       "      <button class=\"colab-df-convert\" onclick=\"convertToInteractive('df-e91661aa-730b-4e72-b340-27378e3fc32d')\"\n",
       "              title=\"Convert this dataframe to an interactive table.\"\n",
       "              style=\"display:none;\">\n",
       "        \n",
       "  <svg xmlns=\"http://www.w3.org/2000/svg\" height=\"24px\"viewBox=\"0 0 24 24\"\n",
       "       width=\"24px\">\n",
       "    <path d=\"M0 0h24v24H0V0z\" fill=\"none\"/>\n",
       "    <path d=\"M18.56 5.44l.94 2.06.94-2.06 2.06-.94-2.06-.94-.94-2.06-.94 2.06-2.06.94zm-11 1L8.5 8.5l.94-2.06 2.06-.94-2.06-.94L8.5 2.5l-.94 2.06-2.06.94zm10 10l.94 2.06.94-2.06 2.06-.94-2.06-.94-.94-2.06-.94 2.06-2.06.94z\"/><path d=\"M17.41 7.96l-1.37-1.37c-.4-.4-.92-.59-1.43-.59-.52 0-1.04.2-1.43.59L10.3 9.45l-7.72 7.72c-.78.78-.78 2.05 0 2.83L4 21.41c.39.39.9.59 1.41.59.51 0 1.02-.2 1.41-.59l7.78-7.78 2.81-2.81c.8-.78.8-2.07 0-2.86zM5.41 20L4 18.59l7.72-7.72 1.47 1.35L5.41 20z\"/>\n",
       "  </svg>\n",
       "      </button>\n",
       "      \n",
       "  <style>\n",
       "    .colab-df-container {\n",
       "      display:flex;\n",
       "      flex-wrap:wrap;\n",
       "      gap: 12px;\n",
       "    }\n",
       "\n",
       "    .colab-df-convert {\n",
       "      background-color: #E8F0FE;\n",
       "      border: none;\n",
       "      border-radius: 50%;\n",
       "      cursor: pointer;\n",
       "      display: none;\n",
       "      fill: #1967D2;\n",
       "      height: 32px;\n",
       "      padding: 0 0 0 0;\n",
       "      width: 32px;\n",
       "    }\n",
       "\n",
       "    .colab-df-convert:hover {\n",
       "      background-color: #E2EBFA;\n",
       "      box-shadow: 0px 1px 2px rgba(60, 64, 67, 0.3), 0px 1px 3px 1px rgba(60, 64, 67, 0.15);\n",
       "      fill: #174EA6;\n",
       "    }\n",
       "\n",
       "    [theme=dark] .colab-df-convert {\n",
       "      background-color: #3B4455;\n",
       "      fill: #D2E3FC;\n",
       "    }\n",
       "\n",
       "    [theme=dark] .colab-df-convert:hover {\n",
       "      background-color: #434B5C;\n",
       "      box-shadow: 0px 1px 3px 1px rgba(0, 0, 0, 0.15);\n",
       "      filter: drop-shadow(0px 1px 2px rgba(0, 0, 0, 0.3));\n",
       "      fill: #FFFFFF;\n",
       "    }\n",
       "  </style>\n",
       "\n",
       "      <script>\n",
       "        const buttonEl =\n",
       "          document.querySelector('#df-e91661aa-730b-4e72-b340-27378e3fc32d button.colab-df-convert');\n",
       "        buttonEl.style.display =\n",
       "          google.colab.kernel.accessAllowed ? 'block' : 'none';\n",
       "\n",
       "        async function convertToInteractive(key) {\n",
       "          const element = document.querySelector('#df-e91661aa-730b-4e72-b340-27378e3fc32d');\n",
       "          const dataTable =\n",
       "            await google.colab.kernel.invokeFunction('convertToInteractive',\n",
       "                                                     [key], {});\n",
       "          if (!dataTable) return;\n",
       "\n",
       "          const docLinkHtml = 'Like what you see? Visit the ' +\n",
       "            '<a target=\"_blank\" href=https://colab.research.google.com/notebooks/data_table.ipynb>data table notebook</a>'\n",
       "            + ' to learn more about interactive tables.';\n",
       "          element.innerHTML = '';\n",
       "          dataTable['output_type'] = 'display_data';\n",
       "          await google.colab.output.renderOutput(dataTable, element);\n",
       "          const docLink = document.createElement('div');\n",
       "          docLink.innerHTML = docLinkHtml;\n",
       "          element.appendChild(docLink);\n",
       "        }\n",
       "      </script>\n",
       "    </div>\n",
       "  </div>\n",
       "  "
      ],
      "text/plain": [
       "                0.1300       0.1311       0.1322       0.1333       0.1344  \\\n",
       "1_real      29075.0000   29075.0000   29075.0000   29075.0000   29075.0000   \n",
       "1_pred     164411.0000  161443.0000  161443.0000  160451.0000  160451.0000   \n",
       "0_real     150302.0000  150302.0000  150302.0000  150302.0000  150302.0000   \n",
       "0_pred      14966.0000   17934.0000   17934.0000   18926.0000   18926.0000   \n",
       "tn          13229.0000   15827.0000   15827.0000   16712.0000   16712.0000   \n",
       "fp         137073.0000  134475.0000  134475.0000  133590.0000  133590.0000   \n",
       "fn           1737.0000    2107.0000    2107.0000    2214.0000    2214.0000   \n",
       "tp          27338.0000   26968.0000   26968.0000   26861.0000   26861.0000   \n",
       "tn_%            7.4000       8.8000       8.8000       9.3000       9.3000   \n",
       "fp_%           76.4000      75.0000      75.0000      74.5000      74.5000   \n",
       "fn_%            1.0000       1.2000       1.2000       1.2000       1.2000   \n",
       "tp_%           15.2000      15.0000      15.0000      15.0000      15.0000   \n",
       "Accuracy        0.2262       0.2386       0.2386       0.2429       0.2429   \n",
       "Precision       0.1663       0.1670       0.1670       0.1674       0.1674   \n",
       "Recall          0.9403       0.9275       0.9275       0.9239       0.9239   \n",
       "F1 score        0.2826       0.2830       0.2830       0.2834       0.2834   \n",
       "\n",
       "                0.1356       0.1367       0.1378       0.1389       0.1400  \n",
       "1_real      29075.0000   29075.0000   29075.0000   29075.0000   29075.0000  \n",
       "1_pred     145079.0000  145079.0000  145079.0000  145079.0000  145079.0000  \n",
       "0_real     150302.0000  150302.0000  150302.0000  150302.0000  150302.0000  \n",
       "0_pred      34298.0000   34298.0000   34298.0000   34298.0000   34298.0000  \n",
       "tn          29859.0000   29859.0000   29859.0000   29859.0000   29859.0000  \n",
       "fp         120443.0000  120443.0000  120443.0000  120443.0000  120443.0000  \n",
       "fn           4439.0000    4439.0000    4439.0000    4439.0000    4439.0000  \n",
       "tp          24636.0000   24636.0000   24636.0000   24636.0000   24636.0000  \n",
       "tn_%           16.6000      16.6000      16.6000      16.6000      16.6000  \n",
       "fp_%           67.1000      67.1000      67.1000      67.1000      67.1000  \n",
       "fn_%            2.5000       2.5000       2.5000       2.5000       2.5000  \n",
       "tp_%           13.7000      13.7000      13.7000      13.7000      13.7000  \n",
       "Accuracy        0.3038       0.3038       0.3038       0.3038       0.3038  \n",
       "Precision       0.1698       0.1698       0.1698       0.1698       0.1698  \n",
       "Recall          0.8473       0.8473       0.8473       0.8473       0.8473  \n",
       "F1 score        0.2829       0.2829       0.2829       0.2829       0.2829  "
      ]
     },
     "execution_count": 32,
     "metadata": {},
     "output_type": "execute_result"
    }
   ],
   "source": [
    "threshold_func(y_val, y_val_pred_proba, threshold_list)"
   ]
  },
  {
   "cell_type": "markdown",
   "metadata": {
    "id": "7671dfe9"
   },
   "source": [
    "Threshold에 따른 목적함수 값 비교"
   ]
  },
  {
   "cell_type": "code",
   "execution_count": 33,
   "metadata": {
    "executionInfo": {
     "elapsed": 12,
     "status": "ok",
     "timestamp": 1677489905371,
     "user": {
      "displayName": "황선경",
      "userId": "17888974404389374352"
     },
     "user_tz": -540
    },
    "id": "b11d3bf4"
   },
   "outputs": [],
   "source": [
    "OPT_threshold = None\n",
    "OPT_expected_loss = None\n",
    "\n",
    "def objective_func(y_pred_proba, threshold_list):\n",
    "    \n",
    "        result_df = pd.DataFrame(index=['1-TPR','FPR','w1_1-TPR','w2_FPR','Expected_loss'])\n",
    "        \n",
    "        expected_loss_list = []\n",
    "        \n",
    "        for i in range(len(threshold_list)):\n",
    "            \n",
    "            threshold = threshold_list[i]\n",
    "            \n",
    "            # make Binarizer(y hat)\n",
    "            binarizer = Binarizer(threshold = threshold).fit(y_pred_proba[:,1].reshape(-1,1))\n",
    "            custom_predict = binarizer.transform(y_pred_proba[:,1].reshape(-1,1))\n",
    "\n",
    "            tn, fp, fn, tp = confusion_matrix(y_val, custom_predict).ravel()\n",
    "            count = [tn, fp, fn, tp]\n",
    "            \n",
    "            tpr_1 = fn / (fn + tp)\n",
    "            fpr = fp / (fp + tn)\n",
    "            w1 = 0.55\n",
    "            w2 = 0.45\n",
    "            \n",
    "            expected_loss = w1 * tpr_1 + w2 * fpr\n",
    "            \n",
    "            expected_loss_list.append(expected_loss)\n",
    "            \n",
    "            threshold_tag = round(threshold_list[i], 4)\n",
    "        \n",
    "            result_df[threshold_tag] = [tpr_1, fpr, w1*tpr_1, w2*fpr, expected_loss]\n",
    "            \n",
    "            if i == 0:\n",
    "                opt_threshold = threshold\n",
    "                opt_expected_loss = expected_loss\n",
    "            else:\n",
    "                if opt_expected_loss > expected_loss:\n",
    "                    opt_threshold = threshold\n",
    "                    opt_expected_loss = expected_loss\n",
    "                    \n",
    "#         expected_loss_list = [round(x, 1) for x in expected_loss_list]\n",
    "\n",
    "        print(opt_threshold)\n",
    "        print(opt_expected_loss)\n",
    "        \n",
    "        plt.plot(threshold_list, expected_loss_list)\n",
    "        plt.scatter(threshold_list, expected_loss_list)\n",
    "        \n",
    "        plt.xlabel('Threshold')\n",
    "        plt.ylabel('Expected_Loss')\n",
    "        plt.title('Expected Loss of Thresholds of %s'%(model_name))\n",
    "\n",
    "        plt.savefig(\"%s_expected_loss_%s.png\"%(model_name, datetime.datetime.now().strftime(\"%m%d%H%M%S\")), dpi=300, bbox_inches='tight')\n",
    "        \n",
    "        plt.show()\n",
    "        \n",
    "        global OPT_threshold\n",
    "        OPT_threshold = opt_threshold\n",
    "        global OPT_expected_loss\n",
    "        OPT_expected_loss = opt_expected_loss\n",
    "        \n",
    "        result_df.to_csv('%s_expected_loss_%s.csv'%(model_name, datetime.datetime.now().strftime(\"%m%d%H%M%S\")), float_format='%.3f', index=True)\n",
    "        \n",
    "        return result_df"
   ]
  },
  {
   "cell_type": "code",
   "execution_count": 34,
   "metadata": {
    "colab": {
     "base_uri": "https://localhost:8080/",
     "height": 580
    },
    "executionInfo": {
     "elapsed": 3052,
     "status": "ok",
     "timestamp": 1677489912398,
     "user": {
      "displayName": "황선경",
      "userId": "17888974404389374352"
     },
     "user_tz": -540
    },
    "id": "b81884da",
    "outputId": "f443e723-49ce-492b-ac6b-8c642aa53cd5",
    "scrolled": false
   },
   "outputs": [
    {
     "name": "stdout",
     "output_type": "stream",
     "text": [
      "0.13333333333333333\n",
      "0.4418460790200637\n"
     ]
    },
    {
     "data": {
      "image/png": "[encoded data removed]",
      "text/plain": [
       "<Figure size 432x288 with 1 Axes>"
      ]
     },
     "metadata": {
      "needs_background": "light"
     },
     "output_type": "display_data"
    },
    {
     "data": {
      "text/html": [
       "\n",
       "  <div id=\"df-82667c25-2959-4243-aa1e-a31985601dc9\">\n",
       "    <div class=\"colab-df-container\">\n",
       "      <div>\n",
       "<style scoped>\n",
       "    .dataframe tbody tr th:only-of-type {\n",
       "        vertical-align: middle;\n",
       "    }\n",
       "\n",
       "    .dataframe tbody tr th {\n",
       "        vertical-align: top;\n",
       "    }\n",
       "\n",
       "    .dataframe thead th {\n",
       "        text-align: right;\n",
       "    }\n",
       "</style>\n",
       "<table border=\"1\" class=\"dataframe\">\n",
       "  <thead>\n",
       "    <tr style=\"text-align: right;\">\n",
       "      <th></th>\n",
       "      <th>0.1300</th>\n",
       "      <th>0.1311</th>\n",
       "      <th>0.1322</th>\n",
       "      <th>0.1333</th>\n",
       "      <th>0.1344</th>\n",
       "      <th>0.1356</th>\n",
       "      <th>0.1367</th>\n",
       "      <th>0.1378</th>\n",
       "      <th>0.1389</th>\n",
       "      <th>0.1400</th>\n",
       "    </tr>\n",
       "  </thead>\n",
       "  <tbody>\n",
       "    <tr>\n",
       "      <th>1-TPR</th>\n",
       "      <td>0.059742</td>\n",
       "      <td>0.072468</td>\n",
       "      <td>0.072468</td>\n",
       "      <td>0.076148</td>\n",
       "      <td>0.076148</td>\n",
       "      <td>0.152674</td>\n",
       "      <td>0.152674</td>\n",
       "      <td>0.152674</td>\n",
       "      <td>0.152674</td>\n",
       "      <td>0.152674</td>\n",
       "    </tr>\n",
       "    <tr>\n",
       "      <th>FPR</th>\n",
       "      <td>0.911984</td>\n",
       "      <td>0.894699</td>\n",
       "      <td>0.894699</td>\n",
       "      <td>0.888811</td>\n",
       "      <td>0.888811</td>\n",
       "      <td>0.801340</td>\n",
       "      <td>0.801340</td>\n",
       "      <td>0.801340</td>\n",
       "      <td>0.801340</td>\n",
       "      <td>0.801340</td>\n",
       "    </tr>\n",
       "    <tr>\n",
       "      <th>w1_1-TPR</th>\n",
       "      <td>0.032858</td>\n",
       "      <td>0.039857</td>\n",
       "      <td>0.039857</td>\n",
       "      <td>0.041881</td>\n",
       "      <td>0.041881</td>\n",
       "      <td>0.083971</td>\n",
       "      <td>0.083971</td>\n",
       "      <td>0.083971</td>\n",
       "      <td>0.083971</td>\n",
       "      <td>0.083971</td>\n",
       "    </tr>\n",
       "    <tr>\n",
       "      <th>w2_FPR</th>\n",
       "      <td>0.410393</td>\n",
       "      <td>0.402614</td>\n",
       "      <td>0.402614</td>\n",
       "      <td>0.399965</td>\n",
       "      <td>0.399965</td>\n",
       "      <td>0.360603</td>\n",
       "      <td>0.360603</td>\n",
       "      <td>0.360603</td>\n",
       "      <td>0.360603</td>\n",
       "      <td>0.360603</td>\n",
       "    </tr>\n",
       "    <tr>\n",
       "      <th>Expected_loss</th>\n",
       "      <td>0.443251</td>\n",
       "      <td>0.442472</td>\n",
       "      <td>0.442472</td>\n",
       "      <td>0.441846</td>\n",
       "      <td>0.441846</td>\n",
       "      <td>0.444574</td>\n",
       "      <td>0.444574</td>\n",
       "      <td>0.444574</td>\n",
       "      <td>0.444574</td>\n",
       "      <td>0.444574</td>\n",
       "    </tr>\n",
       "  </tbody>\n",
       "</table>\n",
       "</div>\n",
       "      <button class=\"colab-df-convert\" onclick=\"convertToInteractive('df-82667c25-2959-4243-aa1e-a31985601dc9')\"\n",
       "              title=\"Convert this dataframe to an interactive table.\"\n",
       "              style=\"display:none;\">\n",
       "        \n",
       "  <svg xmlns=\"http://www.w3.org/2000/svg\" height=\"24px\"viewBox=\"0 0 24 24\"\n",
       "       width=\"24px\">\n",
       "    <path d=\"M0 0h24v24H0V0z\" fill=\"none\"/>\n",
       "    <path d=\"M18.56 5.44l.94 2.06.94-2.06 2.06-.94-2.06-.94-.94-2.06-.94 2.06-2.06.94zm-11 1L8.5 8.5l.94-2.06 2.06-.94-2.06-.94L8.5 2.5l-.94 2.06-2.06.94zm10 10l.94 2.06.94-2.06 2.06-.94-2.06-.94-.94-2.06-.94 2.06-2.06.94z\"/><path d=\"M17.41 7.96l-1.37-1.37c-.4-.4-.92-.59-1.43-.59-.52 0-1.04.2-1.43.59L10.3 9.45l-7.72 7.72c-.78.78-.78 2.05 0 2.83L4 21.41c.39.39.9.59 1.41.59.51 0 1.02-.2 1.41-.59l7.78-7.78 2.81-2.81c.8-.78.8-2.07 0-2.86zM5.41 20L4 18.59l7.72-7.72 1.47 1.35L5.41 20z\"/>\n",
       "  </svg>\n",
       "      </button>\n",
       "      \n",
       "  <style>\n",
       "    .colab-df-container {\n",
       "      display:flex;\n",
       "      flex-wrap:wrap;\n",
       "      gap: 12px;\n",
       "    }\n",
       "\n",
       "    .colab-df-convert {\n",
       "      background-color: #E8F0FE;\n",
       "      border: none;\n",
       "      border-radius: 50%;\n",
       "      cursor: pointer;\n",
       "      display: none;\n",
       "      fill: #1967D2;\n",
       "      height: 32px;\n",
       "      padding: 0 0 0 0;\n",
       "      width: 32px;\n",
       "    }\n",
       "\n",
       "    .colab-df-convert:hover {\n",
       "      background-color: #E2EBFA;\n",
       "      box-shadow: 0px 1px 2px rgba(60, 64, 67, 0.3), 0px 1px 3px 1px rgba(60, 64, 67, 0.15);\n",
       "      fill: #174EA6;\n",
       "    }\n",
       "\n",
       "    [theme=dark] .colab-df-convert {\n",
       "      background-color: #3B4455;\n",
       "      fill: #D2E3FC;\n",
       "    }\n",
       "\n",
       "    [theme=dark] .colab-df-convert:hover {\n",
       "      background-color: #434B5C;\n",
       "      box-shadow: 0px 1px 3px 1px rgba(0, 0, 0, 0.15);\n",
       "      filter: drop-shadow(0px 1px 2px rgba(0, 0, 0, 0.3));\n",
       "      fill: #FFFFFF;\n",
       "    }\n",
       "  </style>\n",
       "\n",
       "      <script>\n",
       "        const buttonEl =\n",
       "          document.querySelector('#df-82667c25-2959-4243-aa1e-a31985601dc9 button.colab-df-convert');\n",
       "        buttonEl.style.display =\n",
       "          google.colab.kernel.accessAllowed ? 'block' : 'none';\n",
       "\n",
       "        async function convertToInteractive(key) {\n",
       "          const element = document.querySelector('#df-82667c25-2959-4243-aa1e-a31985601dc9');\n",
       "          const dataTable =\n",
       "            await google.colab.kernel.invokeFunction('convertToInteractive',\n",
       "                                                     [key], {});\n",
       "          if (!dataTable) return;\n",
       "\n",
       "          const docLinkHtml = 'Like what you see? Visit the ' +\n",
       "            '<a target=\"_blank\" href=https://colab.research.google.com/notebooks/data_table.ipynb>data table notebook</a>'\n",
       "            + ' to learn more about interactive tables.';\n",
       "          element.innerHTML = '';\n",
       "          dataTable['output_type'] = 'display_data';\n",
       "          await google.colab.output.renderOutput(dataTable, element);\n",
       "          const docLink = document.createElement('div');\n",
       "          docLink.innerHTML = docLinkHtml;\n",
       "          element.appendChild(docLink);\n",
       "        }\n",
       "      </script>\n",
       "    </div>\n",
       "  </div>\n",
       "  "
      ],
      "text/plain": [
       "                 0.1300    0.1311    0.1322    0.1333    0.1344    0.1356  \\\n",
       "1-TPR          0.059742  0.072468  0.072468  0.076148  0.076148  0.152674   \n",
       "FPR            0.911984  0.894699  0.894699  0.888811  0.888811  0.801340   \n",
       "w1_1-TPR       0.032858  0.039857  0.039857  0.041881  0.041881  0.083971   \n",
       "w2_FPR         0.410393  0.402614  0.402614  0.399965  0.399965  0.360603   \n",
       "Expected_loss  0.443251  0.442472  0.442472  0.441846  0.441846  0.444574   \n",
       "\n",
       "                 0.1367    0.1378    0.1389    0.1400  \n",
       "1-TPR          0.152674  0.152674  0.152674  0.152674  \n",
       "FPR            0.801340  0.801340  0.801340  0.801340  \n",
       "w1_1-TPR       0.083971  0.083971  0.083971  0.083971  \n",
       "w2_FPR         0.360603  0.360603  0.360603  0.360603  \n",
       "Expected_loss  0.444574  0.444574  0.444574  0.444574  "
      ]
     },
     "execution_count": 34,
     "metadata": {},
     "output_type": "execute_result"
    }
   ],
   "source": [
    "objective_func(y_val_pred_proba, threshold_list)\n",
    "\n",
    "# 더 세밀한 범위에서 optimal threshold를 잡고싶으면 한 번 더 다시 실행"
   ]
  },
  {
   "cell_type": "code",
   "execution_count": 35,
   "metadata": {
    "colab": {
     "base_uri": "https://localhost:8080/"
    },
    "executionInfo": {
     "elapsed": 307,
     "status": "ok",
     "timestamp": 1677489937887,
     "user": {
      "displayName": "황선경",
      "userId": "17888974404389374352"
     },
     "user_tz": -540
    },
    "id": "6fdA_X6KMRAy",
    "outputId": "d7b7ec5c-ff77-4c09-ca29-8a27cdfbe797"
   },
   "outputs": [
    {
     "data": {
      "text/plain": [
       "0.13333333333333333"
      ]
     },
     "execution_count": 35,
     "metadata": {},
     "output_type": "execute_result"
    }
   ],
   "source": [
    "OPT_threshold"
   ]
  },
  {
   "cell_type": "markdown",
   "metadata": {
    "id": "192146f2"
   },
   "source": [
    "histogram에 optimal threshold 표시"
   ]
  },
  {
   "cell_type": "code",
   "execution_count": 36,
   "metadata": {
    "colab": {
     "base_uri": "https://localhost:8080/",
     "height": 296
    },
    "executionInfo": {
     "elapsed": 1425,
     "status": "ok",
     "timestamp": 1677489991899,
     "user": {
      "displayName": "황선경",
      "userId": "17888974404389374352"
     },
     "user_tz": -540
    },
    "id": "7487f311",
    "outputId": "de6f095b-e8db-4d03-849e-480f1d5957bd"
   },
   "outputs": [
    {
     "data": {
      "image/png": "[encoded data removed]",
      "text/plain": [
       "<Figure size 432x288 with 1 Axes>"
      ]
     },
     "metadata": {
      "needs_background": "light"
     },
     "output_type": "display_data"
    }
   ],
   "source": [
    "plt.hist(y_val_pred_proba[:,1], bins=100)\n",
    "\n",
    "plt.axvline(x=OPT_threshold, color='navy', linewidth=5, label='Optimal Threshold')\n",
    "\n",
    "plt.xlabel('y_val_pred_proba')\n",
    "plt.ylabel('Frequency')\n",
    "plt.title('Optimal Threshold of %s'%(model_name))\n",
    "plt.legend()\n",
    "\n",
    "plt.savefig(\"%s_opt_threshold_%s.png\"%(model_name, datetime.datetime.now().strftime(\"%m%d%H%M%S\")), dpi=300, bbox_inches='tight')\n",
    "\n",
    "plt.show() # y_val_pred_proba의 분포 확인"
   ]
  },
  {
   "cell_type": "markdown",
   "metadata": {
    "id": "uZLiDcmKMa3F"
   },
   "source": [
    "# Test "
   ]
  },
  {
   "cell_type": "markdown",
   "metadata": {
    "id": "IHeeYKObMa3F"
   },
   "source": [
    "### X_test fitting"
   ]
  },
  {
   "cell_type": "code",
   "execution_count": 37,
   "metadata": {
    "colab": {
     "base_uri": "https://localhost:8080/",
     "height": 296
    },
    "executionInfo": {
     "elapsed": 697,
     "status": "ok",
     "timestamp": 1677490006368,
     "user": {
      "displayName": "황선경",
      "userId": "17888974404389374352"
     },
     "user_tz": -540
    },
    "id": "d-Ka2y_CMa3G",
    "outputId": "0c915cf3-2ffc-4e90-f177-5e4aff519b49"
   },
   "outputs": [
    {
     "data": {
      "image/png": "[encoded data removed]",
      "text/plain": [
       "<Figure size 432x288 with 1 Axes>"
      ]
     },
     "metadata": {
      "needs_background": "light"
     },
     "output_type": "display_data"
    }
   ],
   "source": [
    "# Predict probabilities for new data\n",
    "y_test_pred_proba = best_estimator.predict_proba(X_test) # 확률로 추정된 X_test의 y_pred\n",
    "\n",
    "plt.hist(y_test_pred_proba[:,1], bins=100)\n",
    "\n",
    "plt.xlabel('y_test_pred_proba')\n",
    "plt.ylabel('Frequency')\n",
    "plt.title('Frequency of y_test_pred_proba of %s'%(model_name))\n",
    "\n",
    "plt.savefig(\"%s_test_pre_proba_%s.png\"%(model_name, datetime.datetime.now().strftime(\"%m%d%H%M%S\")), dpi=300, bbox_inches='tight')\n",
    "\n",
    "plt.show() # y_test_pred_proba의 분포 확인"
   ]
  },
  {
   "cell_type": "markdown",
   "metadata": {
    "id": "sY7XQYzVMa3G"
   },
   "source": [
    "### 0, 1 count / confusion_matrix / accuracy, precision, recall, f1 score "
   ]
  },
  {
   "cell_type": "code",
   "execution_count": 41,
   "metadata": {
    "executionInfo": {
     "elapsed": 557,
     "status": "ok",
     "timestamp": 1677490045966,
     "user": {
      "displayName": "황선경",
      "userId": "17888974404389374352"
     },
     "user_tz": -540
    },
    "id": "Iv1Bzx9gMa3H"
   },
   "outputs": [],
   "source": [
    "def test_func(y_test, y_pred_proba, opt_threshold):\n",
    "        \n",
    "    # make Binarizer(y hat)\n",
    "    binarizer = Binarizer(threshold = opt_threshold).fit(y_pred_proba[:,1].reshape(-1,1))\n",
    "    custom_predict = binarizer.transform(y_pred_proba[:,1].reshape(-1,1))\n",
    "\n",
    "    # count 0, 1 in Binarizer(y hat)\n",
    "    unique, counts = np.unique(custom_predict, return_counts=True)\n",
    "\n",
    "    for val, count in zip(unique, counts):\n",
    "        if len(unique) == 1:\n",
    "            if val == 1.0:\n",
    "                num_0_pred = count\n",
    "                num_1_pred = 0\n",
    "            elif val == 0.0:\n",
    "                num_1_pred = count\n",
    "                num_0_pred = 0\n",
    "        if val == 1.0:\n",
    "            num_0_pred = count\n",
    "        elif val == 0.0:\n",
    "            num_1_pred = count\n",
    "\n",
    "    # count 0, 1 in y hat\n",
    "    num_1_real = y_test.value_counts()[0]\n",
    "    num_0_real = y_test.value_counts()[1]\n",
    "\n",
    "    tn, fp, fn, tp = confusion_matrix(y_test, custom_predict).ravel()\n",
    "    count = [tn, fp, fn, tp]\n",
    "    tn_, fp_, fn_, tp_ = [round(x/sum(count)*100, 1) for x in count]\n",
    "\n",
    "    accuracy = round((tp+tn)/(tp+tn+fp+fn),4)\n",
    "    precision = round(tp/(tp+fp),4)\n",
    "    recall = round(tp/(tp+fn),4)\n",
    "    f1 = round(2*(precision*recall)/(precision+recall),4)\n",
    "    \n",
    "    result_df = pd.DataFrame(index=['1_real','1_pred','0_real','0_pred','tn', 'fp', 'fn', 'tp', 'tn_%', 'fp_%', 'fn_%', 'tp_%', 'Accuracy', 'Precision', 'Recall', 'F1 score'])\n",
    "\n",
    "    result_df['result'] = [num_1_real, num_1_pred, num_0_real, num_0_pred, tn, fp, fn, tp, tn_, fp_, fn_, tp_, accuracy, precision, recall, f1]\n",
    "\n",
    "    labels = ['TN','FP','FN','TP']\n",
    "\n",
    "\n",
    "    # 혼동 행렬 시각화\n",
    "    labels = ['Positive', 'Negative']\n",
    "    cm = [[tp, fn], [fp, tn]]\n",
    "\n",
    "    ax = plt.subplot()\n",
    "    sns.heatmap(cm, annot=True, ax=ax, fmt='g', cmap='Blues')\n",
    "    ax.set_xlabel('Predicted Class')\n",
    "    ax.set_ylabel('Acutual Class')\n",
    "    ax.set_xticklabels(labels)\n",
    "    ax.set_yticklabels(labels)\n",
    "    ax.set_title('%s Confusion Matrix'%(model_name))\n",
    "    \n",
    "    ax.text(0.45, 1.40, 'FP', fontsize=12, color='red')\n",
    "    ax.text(1.45, 1.40, 'TN', fontsize=12, color='red')\n",
    "    ax.text(0.45, 0.40, 'TP', fontsize=12, color='red')\n",
    "    ax.text(1.45, 0.40, 'FN', fontsize=12, color='red')\n",
    "    \n",
    "    plt.savefig(\"%s_Confusion_Matrix_%s.png\"%(model_name, datetime.datetime.now().strftime(\"%m%d%H%M%S\")), dpi=300, bbox_inches='tight')\n",
    "    plt.show()\n",
    "    \n",
    "    result_df.T.to_csv('%s_test.csv'%(model_name), index=True)\n",
    "\n",
    "    return result_df.T"
   ]
  },
  {
   "cell_type": "code",
   "execution_count": 42,
   "metadata": {
    "colab": {
     "base_uri": "https://localhost:8080/",
     "height": 439
    },
    "executionInfo": {
     "elapsed": 1525,
     "status": "ok",
     "timestamp": 1677490050335,
     "user": {
      "displayName": "황선경",
      "userId": "17888974404389374352"
     },
     "user_tz": -540
    },
    "id": "KLv6EHjBMa3I",
    "outputId": "e19c1d5e-0ad8-4271-a956-646981e12063",
    "scrolled": true
   },
   "outputs": [
    {
     "data": {
      "image/png": "[encoded data removed]",
      "text/plain": [
       "<Figure size 432x288 with 2 Axes>"
      ]
     },
     "metadata": {
      "needs_background": "light"
     },
     "output_type": "display_data"
    },
    {
     "data": {
      "text/html": [
       "\n",
       "  <div id=\"df-9330ded1-29b1-43f4-8ff3-a09dfc342ec4\">\n",
       "    <div class=\"colab-df-container\">\n",
       "      <div>\n",
       "<style scoped>\n",
       "    .dataframe tbody tr th:only-of-type {\n",
       "        vertical-align: middle;\n",
       "    }\n",
       "\n",
       "    .dataframe tbody tr th {\n",
       "        vertical-align: top;\n",
       "    }\n",
       "\n",
       "    .dataframe thead th {\n",
       "        text-align: right;\n",
       "    }\n",
       "</style>\n",
       "<table border=\"1\" class=\"dataframe\">\n",
       "  <thead>\n",
       "    <tr style=\"text-align: right;\">\n",
       "      <th></th>\n",
       "      <th>1_real</th>\n",
       "      <th>1_pred</th>\n",
       "      <th>0_real</th>\n",
       "      <th>0_pred</th>\n",
       "      <th>tn</th>\n",
       "      <th>fp</th>\n",
       "      <th>fn</th>\n",
       "      <th>tp</th>\n",
       "      <th>tn_%</th>\n",
       "      <th>fp_%</th>\n",
       "      <th>fn_%</th>\n",
       "      <th>tp_%</th>\n",
       "      <th>Accuracy</th>\n",
       "      <th>Precision</th>\n",
       "      <th>Recall</th>\n",
       "      <th>F1 score</th>\n",
       "    </tr>\n",
       "  </thead>\n",
       "  <tbody>\n",
       "    <tr>\n",
       "      <th>result</th>\n",
       "      <td>150303.0</td>\n",
       "      <td>17502.0</td>\n",
       "      <td>29075.0</td>\n",
       "      <td>161876.0</td>\n",
       "      <td>15326.0</td>\n",
       "      <td>134977.0</td>\n",
       "      <td>2176.0</td>\n",
       "      <td>26899.0</td>\n",
       "      <td>8.5</td>\n",
       "      <td>75.2</td>\n",
       "      <td>1.2</td>\n",
       "      <td>15.0</td>\n",
       "      <td>0.2354</td>\n",
       "      <td>0.1662</td>\n",
       "      <td>0.9252</td>\n",
       "      <td>0.2818</td>\n",
       "    </tr>\n",
       "  </tbody>\n",
       "</table>\n",
       "</div>\n",
       "      <button class=\"colab-df-convert\" onclick=\"convertToInteractive('df-9330ded1-29b1-43f4-8ff3-a09dfc342ec4')\"\n",
       "              title=\"Convert this dataframe to an interactive table.\"\n",
       "              style=\"display:none;\">\n",
       "        \n",
       "  <svg xmlns=\"http://www.w3.org/2000/svg\" height=\"24px\"viewBox=\"0 0 24 24\"\n",
       "       width=\"24px\">\n",
       "    <path d=\"M0 0h24v24H0V0z\" fill=\"none\"/>\n",
       "    <path d=\"M18.56 5.44l.94 2.06.94-2.06 2.06-.94-2.06-.94-.94-2.06-.94 2.06-2.06.94zm-11 1L8.5 8.5l.94-2.06 2.06-.94-2.06-.94L8.5 2.5l-.94 2.06-2.06.94zm10 10l.94 2.06.94-2.06 2.06-.94-2.06-.94-.94-2.06-.94 2.06-2.06.94z\"/><path d=\"M17.41 7.96l-1.37-1.37c-.4-.4-.92-.59-1.43-.59-.52 0-1.04.2-1.43.59L10.3 9.45l-7.72 7.72c-.78.78-.78 2.05 0 2.83L4 21.41c.39.39.9.59 1.41.59.51 0 1.02-.2 1.41-.59l7.78-7.78 2.81-2.81c.8-.78.8-2.07 0-2.86zM5.41 20L4 18.59l7.72-7.72 1.47 1.35L5.41 20z\"/>\n",
       "  </svg>\n",
       "      </button>\n",
       "      \n",
       "  <style>\n",
       "    .colab-df-container {\n",
       "      display:flex;\n",
       "      flex-wrap:wrap;\n",
       "      gap: 12px;\n",
       "    }\n",
       "\n",
       "    .colab-df-convert {\n",
       "      background-color: #E8F0FE;\n",
       "      border: none;\n",
       "      border-radius: 50%;\n",
       "      cursor: pointer;\n",
       "      display: none;\n",
       "      fill: #1967D2;\n",
       "      height: 32px;\n",
       "      padding: 0 0 0 0;\n",
       "      width: 32px;\n",
       "    }\n",
       "\n",
       "    .colab-df-convert:hover {\n",
       "      background-color: #E2EBFA;\n",
       "      box-shadow: 0px 1px 2px rgba(60, 64, 67, 0.3), 0px 1px 3px 1px rgba(60, 64, 67, 0.15);\n",
       "      fill: #174EA6;\n",
       "    }\n",
       "\n",
       "    [theme=dark] .colab-df-convert {\n",
       "      background-color: #3B4455;\n",
       "      fill: #D2E3FC;\n",
       "    }\n",
       "\n",
       "    [theme=dark] .colab-df-convert:hover {\n",
       "      background-color: #434B5C;\n",
       "      box-shadow: 0px 1px 3px 1px rgba(0, 0, 0, 0.15);\n",
       "      filter: drop-shadow(0px 1px 2px rgba(0, 0, 0, 0.3));\n",
       "      fill: #FFFFFF;\n",
       "    }\n",
       "  </style>\n",
       "\n",
       "      <script>\n",
       "        const buttonEl =\n",
       "          document.querySelector('#df-9330ded1-29b1-43f4-8ff3-a09dfc342ec4 button.colab-df-convert');\n",
       "        buttonEl.style.display =\n",
       "          google.colab.kernel.accessAllowed ? 'block' : 'none';\n",
       "\n",
       "        async function convertToInteractive(key) {\n",
       "          const element = document.querySelector('#df-9330ded1-29b1-43f4-8ff3-a09dfc342ec4');\n",
       "          const dataTable =\n",
       "            await google.colab.kernel.invokeFunction('convertToInteractive',\n",
       "                                                     [key], {});\n",
       "          if (!dataTable) return;\n",
       "\n",
       "          const docLinkHtml = 'Like what you see? Visit the ' +\n",
       "            '<a target=\"_blank\" href=https://colab.research.google.com/notebooks/data_table.ipynb>data table notebook</a>'\n",
       "            + ' to learn more about interactive tables.';\n",
       "          element.innerHTML = '';\n",
       "          dataTable['output_type'] = 'display_data';\n",
       "          await google.colab.output.renderOutput(dataTable, element);\n",
       "          const docLink = document.createElement('div');\n",
       "          docLink.innerHTML = docLinkHtml;\n",
       "          element.appendChild(docLink);\n",
       "        }\n",
       "      </script>\n",
       "    </div>\n",
       "  </div>\n",
       "  "
      ],
      "text/plain": [
       "          1_real   1_pred   0_real    0_pred       tn        fp      fn  \\\n",
       "result  150303.0  17502.0  29075.0  161876.0  15326.0  134977.0  2176.0   \n",
       "\n",
       "             tp  tn_%  fp_%  fn_%  tp_%  Accuracy  Precision  Recall  F1 score  \n",
       "result  26899.0   8.5  75.2   1.2  15.0    0.2354     0.1662  0.9252    0.2818  "
      ]
     },
     "execution_count": 42,
     "metadata": {},
     "output_type": "execute_result"
    }
   ],
   "source": [
    "test_func(y_test, y_test_pred_proba, OPT_threshold)"
   ]
  },
  {
   "cell_type": "markdown",
   "metadata": {
    "id": "3a38f1e8"
   },
   "source": [
    "### Objective Function"
   ]
  },
  {
   "cell_type": "code",
   "execution_count": null,
   "metadata": {
    "id": "a083d94f"
   },
   "outputs": [],
   "source": []
  },
  {
   "cell_type": "code",
   "execution_count": 43,
   "metadata": {
    "executionInfo": {
     "elapsed": 9,
     "status": "ok",
     "timestamp": 1677490065123,
     "user": {
      "displayName": "황선경",
      "userId": "17888974404389374352"
     },
     "user_tz": -540
    },
    "id": "d276de91"
   },
   "outputs": [],
   "source": [
    "def test_objective_func(y_test, y_pred_proba, threshold):\n",
    "    \n",
    "        result_df = pd.DataFrame(index=['1-TPR','FPR','w1_1-TPR','w2_FPR','Expected_loss'])\n",
    "            \n",
    "        # make Binarizer(y hat)\n",
    "        binarizer = Binarizer(threshold = threshold).fit(y_pred_proba[:,1].reshape(-1,1))\n",
    "        custom_predict = binarizer.transform(y_pred_proba[:,1].reshape(-1,1))\n",
    "\n",
    "        tn, fp, fn, tp = confusion_matrix(y_test, custom_predict).ravel()\n",
    "        count = [tn, fp, fn, tp]\n",
    "\n",
    "        tpr_1 = fn / (fn + tp)\n",
    "        fpr = fp / (fp + tn)\n",
    "        w1 = 0.55\n",
    "        w2 = 0.45\n",
    "\n",
    "        expected_loss = w1 * tpr_1 + w2 * fpr\n",
    "\n",
    "        result_df[threshold] = [tpr_1, fpr, w1*tpr_1, w2*fpr, expected_loss]\n",
    "\n",
    "        print(expected_loss)\n",
    "        \n",
    "        result_df.T.to_csv('%s_test_expected_loss_%s.csv'%(model_name, datetime.datetime.now().strftime(\"%m%d%H%M%S\")), float_format='%.6f', index=True)\n",
    "        \n",
    "        return result_df"
   ]
  },
  {
   "cell_type": "code",
   "execution_count": 44,
   "metadata": {
    "colab": {
     "base_uri": "https://localhost:8080/",
     "height": 221
    },
    "executionInfo": {
     "elapsed": 448,
     "status": "ok",
     "timestamp": 1677490069286,
     "user": {
      "displayName": "황선경",
      "userId": "17888974404389374352"
     },
     "user_tz": -540
    },
    "id": "03b0c322",
    "outputId": "9dc20ac0-42d4-4869-8787-c37665b61fc4"
   },
   "outputs": [
    {
     "name": "stdout",
     "output_type": "stream",
     "text": [
      "0.44527719907763963\n"
     ]
    },
    {
     "data": {
      "text/html": [
       "\n",
       "  <div id=\"df-86b7c23b-2d3a-4c84-afe3-65e08f60acd3\">\n",
       "    <div class=\"colab-df-container\">\n",
       "      <div>\n",
       "<style scoped>\n",
       "    .dataframe tbody tr th:only-of-type {\n",
       "        vertical-align: middle;\n",
       "    }\n",
       "\n",
       "    .dataframe tbody tr th {\n",
       "        vertical-align: top;\n",
       "    }\n",
       "\n",
       "    .dataframe thead th {\n",
       "        text-align: right;\n",
       "    }\n",
       "</style>\n",
       "<table border=\"1\" class=\"dataframe\">\n",
       "  <thead>\n",
       "    <tr style=\"text-align: right;\">\n",
       "      <th></th>\n",
       "      <th>0.133333</th>\n",
       "    </tr>\n",
       "  </thead>\n",
       "  <tbody>\n",
       "    <tr>\n",
       "      <th>1-TPR</th>\n",
       "      <td>0.074841</td>\n",
       "    </tr>\n",
       "    <tr>\n",
       "      <th>FPR</th>\n",
       "      <td>0.898033</td>\n",
       "    </tr>\n",
       "    <tr>\n",
       "      <th>w1_1-TPR</th>\n",
       "      <td>0.041163</td>\n",
       "    </tr>\n",
       "    <tr>\n",
       "      <th>w2_FPR</th>\n",
       "      <td>0.404115</td>\n",
       "    </tr>\n",
       "    <tr>\n",
       "      <th>Expected_loss</th>\n",
       "      <td>0.445277</td>\n",
       "    </tr>\n",
       "  </tbody>\n",
       "</table>\n",
       "</div>\n",
       "      <button class=\"colab-df-convert\" onclick=\"convertToInteractive('df-86b7c23b-2d3a-4c84-afe3-65e08f60acd3')\"\n",
       "              title=\"Convert this dataframe to an interactive table.\"\n",
       "              style=\"display:none;\">\n",
       "        \n",
       "  <svg xmlns=\"http://www.w3.org/2000/svg\" height=\"24px\"viewBox=\"0 0 24 24\"\n",
       "       width=\"24px\">\n",
       "    <path d=\"M0 0h24v24H0V0z\" fill=\"none\"/>\n",
       "    <path d=\"M18.56 5.44l.94 2.06.94-2.06 2.06-.94-2.06-.94-.94-2.06-.94 2.06-2.06.94zm-11 1L8.5 8.5l.94-2.06 2.06-.94-2.06-.94L8.5 2.5l-.94 2.06-2.06.94zm10 10l.94 2.06.94-2.06 2.06-.94-2.06-.94-.94-2.06-.94 2.06-2.06.94z\"/><path d=\"M17.41 7.96l-1.37-1.37c-.4-.4-.92-.59-1.43-.59-.52 0-1.04.2-1.43.59L10.3 9.45l-7.72 7.72c-.78.78-.78 2.05 0 2.83L4 21.41c.39.39.9.59 1.41.59.51 0 1.02-.2 1.41-.59l7.78-7.78 2.81-2.81c.8-.78.8-2.07 0-2.86zM5.41 20L4 18.59l7.72-7.72 1.47 1.35L5.41 20z\"/>\n",
       "  </svg>\n",
       "      </button>\n",
       "      \n",
       "  <style>\n",
       "    .colab-df-container {\n",
       "      display:flex;\n",
       "      flex-wrap:wrap;\n",
       "      gap: 12px;\n",
       "    }\n",
       "\n",
       "    .colab-df-convert {\n",
       "      background-color: #E8F0FE;\n",
       "      border: none;\n",
       "      border-radius: 50%;\n",
       "      cursor: pointer;\n",
       "      display: none;\n",
       "      fill: #1967D2;\n",
       "      height: 32px;\n",
       "      padding: 0 0 0 0;\n",
       "      width: 32px;\n",
       "    }\n",
       "\n",
       "    .colab-df-convert:hover {\n",
       "      background-color: #E2EBFA;\n",
       "      box-shadow: 0px 1px 2px rgba(60, 64, 67, 0.3), 0px 1px 3px 1px rgba(60, 64, 67, 0.15);\n",
       "      fill: #174EA6;\n",
       "    }\n",
       "\n",
       "    [theme=dark] .colab-df-convert {\n",
       "      background-color: #3B4455;\n",
       "      fill: #D2E3FC;\n",
       "    }\n",
       "\n",
       "    [theme=dark] .colab-df-convert:hover {\n",
       "      background-color: #434B5C;\n",
       "      box-shadow: 0px 1px 3px 1px rgba(0, 0, 0, 0.15);\n",
       "      filter: drop-shadow(0px 1px 2px rgba(0, 0, 0, 0.3));\n",
       "      fill: #FFFFFF;\n",
       "    }\n",
       "  </style>\n",
       "\n",
       "      <script>\n",
       "        const buttonEl =\n",
       "          document.querySelector('#df-86b7c23b-2d3a-4c84-afe3-65e08f60acd3 button.colab-df-convert');\n",
       "        buttonEl.style.display =\n",
       "          google.colab.kernel.accessAllowed ? 'block' : 'none';\n",
       "\n",
       "        async function convertToInteractive(key) {\n",
       "          const element = document.querySelector('#df-86b7c23b-2d3a-4c84-afe3-65e08f60acd3');\n",
       "          const dataTable =\n",
       "            await google.colab.kernel.invokeFunction('convertToInteractive',\n",
       "                                                     [key], {});\n",
       "          if (!dataTable) return;\n",
       "\n",
       "          const docLinkHtml = 'Like what you see? Visit the ' +\n",
       "            '<a target=\"_blank\" href=https://colab.research.google.com/notebooks/data_table.ipynb>data table notebook</a>'\n",
       "            + ' to learn more about interactive tables.';\n",
       "          element.innerHTML = '';\n",
       "          dataTable['output_type'] = 'display_data';\n",
       "          await google.colab.output.renderOutput(dataTable, element);\n",
       "          const docLink = document.createElement('div');\n",
       "          docLink.innerHTML = docLinkHtml;\n",
       "          element.appendChild(docLink);\n",
       "        }\n",
       "      </script>\n",
       "    </div>\n",
       "  </div>\n",
       "  "
      ],
      "text/plain": [
       "               0.133333\n",
       "1-TPR          0.074841\n",
       "FPR            0.898033\n",
       "w1_1-TPR       0.041163\n",
       "w2_FPR         0.404115\n",
       "Expected_loss  0.445277"
      ]
     },
     "execution_count": 44,
     "metadata": {},
     "output_type": "execute_result"
    }
   ],
   "source": [
    "test_objective_func(y_test, y_test_pred_proba, OPT_threshold)"
   ]
  },
  {
   "cell_type": "markdown",
   "metadata": {
    "id": "f52-5WkyMa3J"
   },
   "source": [
    "### ROC curve\n",
    "\n",
    "거짓 양성 비율(FPR, 1-TNR:1-특이도)에 대한 진짜 양성 비율(TPR, 재현율)의 곡선\n",
    "\n",
    "정밀도: positive로 예측한 것 중에 진짜 positive인 것 -> 양성 예측도\n",
    "\n",
    "재현율: 실제 positive 중에 맞춘 것 -> 민감도"
   ]
  },
  {
   "cell_type": "code",
   "execution_count": 45,
   "metadata": {
    "colab": {
     "base_uri": "https://localhost:8080/",
     "height": 295
    },
    "executionInfo": {
     "elapsed": 1005,
     "status": "ok",
     "timestamp": 1677490111312,
     "user": {
      "displayName": "황선경",
      "userId": "17888974404389374352"
     },
     "user_tz": -540
    },
    "id": "Dr4b8afLMa3J",
    "outputId": "09a888a5-7629-4c6b-b558-1446f8a6d6f2"
   },
   "outputs": [
    {
     "data": {
      "image/png": "[encoded data removed]",
      "text/plain": [
       "<Figure size 432x288 with 1 Axes>"
      ]
     },
     "metadata": {
      "needs_background": "light"
     },
     "output_type": "display_data"
    }
   ],
   "source": [
    "# Generate ROC curve and AUC score for the test set\n",
    "fpr, tpr, thresholds = roc_curve(y_test, y_test_pred_proba[:,1])\n",
    "roc_auc = auc(fpr, tpr)\n",
    "\n",
    "# Plot the ROC curve\n",
    "plt.plot(fpr, tpr, lw=1, label='ROC (AUC = %0.2f)' % roc_auc)\n",
    "plt.plot([0, 1], [0, 1], '--', color='gray', lw=1, label='Random')\n",
    "plt.xlim([0, 1])\n",
    "plt.ylim([0, 1])\n",
    "plt.xlabel('False Positive Rate')\n",
    "plt.ylabel('True Positive Rate')\n",
    "plt.title('%s_ROC_curve'%(model_name))\n",
    "plt.legend(loc='lower right')\n",
    "\n",
    "plt.savefig(\"%s_ROC_curve_%s.png\"%(model_name, datetime.datetime.now().strftime(\"%m%d%H%M%S\")), dpi=300, bbox_inches='tight')\n",
    "plt.show()"
   ]
  },
  {
   "cell_type": "code",
   "execution_count": null,
   "metadata": {
    "id": "93a14933"
   },
   "outputs": [],
   "source": []
  },
  {
   "cell_type": "markdown",
   "metadata": {
    "id": "72515814"
   },
   "source": [
    "# Test "
   ]
  },
  {
   "cell_type": "markdown",
   "metadata": {
    "id": "8dac11d1"
   },
   "source": [
    "### X_test fitting"
   ]
  },
  {
   "cell_type": "code",
   "execution_count": 46,
   "metadata": {
    "colab": {
     "base_uri": "https://localhost:8080/",
     "height": 265
    },
    "executionInfo": {
     "elapsed": 1086,
     "status": "ok",
     "timestamp": 1677490118177,
     "user": {
      "displayName": "황선경",
      "userId": "17888974404389374352"
     },
     "user_tz": -540
    },
    "id": "50601421",
    "outputId": "6a285389-5c02-4c4a-9034-eb35403e2b95"
   },
   "outputs": [
    {
     "data": {
      "image/png": "[encoded data removed]",
      "text/plain": [
       "<Figure size 432x288 with 1 Axes>"
      ]
     },
     "metadata": {
      "needs_background": "light"
     },
     "output_type": "display_data"
    }
   ],
   "source": [
    "# Predict probabilities for new data\n",
    "y_test_pred_proba = best_estimator.predict_proba(X_test) # 확률로 추정된 X_test의 y_pred\n",
    "\n",
    "plt.hist(y_test_pred_proba[:,1], bins=100)\n",
    "plt.show() # y_test_pred_proba의 분포 확인"
   ]
  },
  {
   "cell_type": "markdown",
   "metadata": {
    "id": "2533ecd6"
   },
   "source": [
    "### 0, 1 count / confusion_matrix / accuracy, precision, recall, f1 score "
   ]
  },
  {
   "cell_type": "code",
   "execution_count": null,
   "metadata": {
    "id": "20437934"
   },
   "outputs": [],
   "source": [
    "def test_func(y_test, y_pred_proba, opt_threshold):\n",
    "        \n",
    "    # make Binarizer(y hat)\n",
    "    binarizer = Binarizer(threshold = opt_threshold).fit(y_pred_proba[:,1].reshape(-1,1))\n",
    "    custom_predict = binarizer.transform(y_pred_proba[:,1].reshape(-1,1))\n",
    "\n",
    "    # count 0, 1 in Binarizer(y hat)\n",
    "    unique, counts = np.unique(custom_predict, return_counts=True)\n",
    "\n",
    "    for val, count in zip(unique, counts):\n",
    "        if len(unique) == 1:\n",
    "            if val == 1.0:\n",
    "                num_0_pred = count\n",
    "                num_1_pred = 0\n",
    "            elif val == 0.0:\n",
    "                num_1_pred = count\n",
    "                num_0_pred = 0\n",
    "        if val == 1.0:\n",
    "            num_0_pred = count\n",
    "        elif val == 0.0:\n",
    "            num_1_pred = count\n",
    "\n",
    "    # count 0, 1 in y hat\n",
    "    num_1_real = y_test.value_counts()[0]\n",
    "    num_0_real = y_test.value_counts()[1]\n",
    "\n",
    "    tn, fp, fn, tp = confusion_matrix(y_test, custom_predict).ravel()\n",
    "    count = [tn, fp, fn, tp]\n",
    "    tn_, fp_, fn_, tp_ = [round(x/sum(count)*100, 1) for x in count]\n",
    "\n",
    "    accuracy = (tp + tn) / (tp + tn + fp + fn)\n",
    "    precision = tp / (tp + fp)\n",
    "    recall = tp / (tp + fn)\n",
    "    f1 = 2 * (precision * recall) / (precision + recall)\n",
    "    \n",
    "    result_df = pd.DataFrame(index=['1_real','1_pred','0_real','0_pred','tn', 'fp', 'fn', 'tp', 'tn_%', 'fp_%', 'fn_%', 'tp_%', 'Accuracy', 'Precision', 'Recall', 'F1 score'])\n",
    "\n",
    "    result_df['result'] = [num_1_real, num_1_pred, num_0_real, num_0_pred, tn, fp, fn, tp, tn_, fp_, fn_, tp_, accuracy, precision, recall, f1]\n",
    "\n",
    "#         labels = ['True Negatives', 'False Positives', 'False Negatives', 'True Positives']\n",
    "    labels = ['TN','FP','FN','TP']\n",
    "\n",
    "    # tn, fp, fn, tp 각각의 값을 counts 리스트에 저장\n",
    "    counts = [tn, fp, fn, tp]\n",
    "\n",
    "    # 그래프 그리기\n",
    "    axes.bar(labels, counts)\n",
    "    axes.set_title(threshold)\n",
    "    axes.set_ylabel('Count')\n",
    "\n",
    "    # 그래프 출력하기\n",
    "    plt.show()\n",
    "    \n",
    "    cm = confusion_matrix(y_test, custom_predict)\n",
    "    print('Confusion matrix:')\n",
    "    print(cm)\n",
    "    \n",
    "    print(result_df)"
   ]
  },
  {
   "cell_type": "code",
   "execution_count": null,
   "metadata": {
    "id": "66ef017d"
   },
   "outputs": [],
   "source": [
    "test_func(y_test, y_test_pred_proba, opt_threshold)"
   ]
  },
  {
   "cell_type": "markdown",
   "metadata": {
    "id": "5183b03e"
   },
   "source": [
    "### ROC curve"
   ]
  },
  {
   "cell_type": "code",
   "execution_count": null,
   "metadata": {
    "id": "ffe859bb",
    "outputId": "1f6071e5-8ce4-492d-b643-2f8f9467e7a9"
   },
   "outputs": [
    {
     "data": {
      "image/png": "[encoded data removed]",
      "text/plain": [
       "<Figure size 640x480 with 1 Axes>"
      ]
     },
     "metadata": {},
     "output_type": "display_data"
    }
   ],
   "source": [
    "# Generate ROC curve and AUC score for the validation set\n",
    "fpr, tpr, thresholds = roc_curve(y_test, y_test_pred_proba)\n",
    "roc_auc = auc(fpr, tpr)\n",
    "\n",
    "# Plot the ROC curve\n",
    "plt.plot(fpr, tpr, lw=1, label='ROC (AUC = %0.2f)' % roc_auc)\n",
    "plt.plot([0, 1], [0, 1], '--', color='gray', lw=1, label='Random')\n",
    "plt.xlim([0, 1])\n",
    "plt.ylim([0, 1])\n",
    "plt.xlabel('False Positive Rate')\n",
    "plt.ylabel('True Positive Rate')\n",
    "plt.title('Receiver Operating Characteristic')\n",
    "plt.legend(loc='lower right')\n",
    "plt.show()"
   ]
  }
 ],
 "metadata": {
  "colab": {
   "authorship_tag": "ABX9TyOcgsvXOcMJQwXC0v63kPlu",
   "provenance": []
  },
  "kernelspec": {
   "display_name": "Python 3 (ipykernel)",
   "language": "python",
   "name": "python3"
  },
  "language_info": {
   "codemirror_mode": {
    "name": "ipython",
    "version": 3
   },
   "file_extension": ".py",
   "mimetype": "text/x-python",
   "name": "python",
   "nbconvert_exporter": "python",
   "pygments_lexer": "ipython3",
   "version": "3.11.3"
  }
 },
 "nbformat": 4,
 "nbformat_minor": 1
}
