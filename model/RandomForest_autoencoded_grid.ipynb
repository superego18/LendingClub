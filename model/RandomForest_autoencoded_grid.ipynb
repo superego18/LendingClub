{
 "cells": [
  {
   "cell_type": "markdown",
   "metadata": {
    "id": "c913d822"
   },
   "source": [
    "# Module"
   ]
  },
  {
   "cell_type": "code",
   "execution_count": null,
   "metadata": {
    "id": "fa4a7e3c"
   },
   "outputs": [],
   "source": [
    "import pandas as pd\n",
    "import numpy as np\n",
    "import seaborn as sns\n",
    "\n",
    "#from scipy.stats import uniform\n",
    "\n",
    "# from imblearn.under_sampling import RandomUnderSampler\n",
    "\n",
    "#from sklearn.decomposition import PCA\n",
    "\n",
    "from sklearn.pipeline import Pipeline\n",
    "\n",
    "#from sklearn.model_selection import train_test_split\n",
    "\n",
    "from sklearn.preprocessing import StandardScaler, Binarizer\n",
    "\n",
    "from sklearn.feature_selection import SelectFromModel\n",
    "\n",
    "from sklearn.ensemble import RandomForestClassifier\n",
    "\n",
    "#from sklearn.linear_model import LogisticRegression, Ridge\n",
    "\n",
    "from sklearn.model_selection import KFold, GridSearchCV, RandomizedSearchCV, cross_val_score\n",
    "\n",
    "from sklearn.metrics import make_scorer, confusion_matrix, roc_curve, auc, f1_score, accuracy_score, precision_score, recall_score, log_loss\n",
    "\n",
    "import matplotlib.pyplot as plt\n",
    "\n",
    "import datetime\n",
    "\n",
    "import warnings\n",
    "\n",
    "warnings.filterwarnings('ignore')\n",
    "\n",
    "#import torch\n",
    "\n",
    "#from torch.utils.data import DataLoader, TensorDataset"
   ]
  },
  {
   "cell_type": "markdown",
   "metadata": {
    "id": "d7af9689"
   },
   "source": [
    "# Rectified Dataset split"
   ]
  },
  {
   "cell_type": "code",
   "execution_count": null,
   "metadata": {
    "id": "60b80511"
   },
   "outputs": [],
   "source": [
    "train = pd.read_csv('train_compressed.csv')\n",
    "val = pd.read_csv('validation_compressed.csv')\n",
    "test = pd.read_csv('test_compressed.csv')\n",
    "\n",
    "train = train.drop(['Unnamed: 0'], axis=1)\n",
    "val = val.drop(['Unnamed: 0'], axis=1)\n",
    "test = test.drop(['Unnamed: 0'], axis=1)\n",
    "\n",
    "pd.set_option('display.max_colwidth', 1000, 'display.max_rows', None, 'display.max_columns', None)"
   ]
  },
  {
   "cell_type": "code",
   "execution_count": null,
   "metadata": {
    "id": "cf255874"
   },
   "outputs": [],
   "source": [
    "X_train = train.drop('depvar', axis=1)\n",
    "y_train = train['depvar']\n",
    "\n",
    "X_val = val.drop('depvar', axis=1)\n",
    "y_val = val['depvar']\n",
    "\n",
    "X_test = test.drop('depvar', axis=1)\n",
    "y_test = test['depvar']"
   ]
  },
  {
   "cell_type": "code",
   "execution_count": null,
   "metadata": {
    "colab": {
     "base_uri": "https://localhost:8080/"
    },
    "id": "80d8d802",
    "outputId": "71aebd0d-ae8c-42a9-e657-7f65ab32be9c"
   },
   "outputs": [
    {
     "name": "stdout",
     "output_type": "stream",
     "text": [
      "(538132, 20)\n",
      "(538132,)\n",
      "(179377, 20)\n",
      "(179377,)\n",
      "(179378, 20)\n",
      "(179378,)\n"
     ]
    }
   ],
   "source": [
    "print(X_train.shape)\n",
    "print(y_train.shape)\n",
    "print(X_val.shape)\n",
    "print(y_val.shape)\n",
    "print(X_test.shape)\n",
    "print(y_test.shape)"
   ]
  },
  {
   "cell_type": "markdown",
   "metadata": {
    "id": "7a03faed"
   },
   "source": [
    "# Training"
   ]
  },
  {
   "cell_type": "markdown",
   "metadata": {
    "id": "b08abac5"
   },
   "source": [
    "## RandomForest\n",
    "(K-fold cross validation -> K=cv)"
   ]
  },
  {
   "cell_type": "markdown",
   "metadata": {
    "id": "d5b2e3dc"
   },
   "source": [
    "### pipeline object\n",
    "\n"
   ]
  },
  {
   "cell_type": "code",
   "execution_count": null,
   "metadata": {
    "id": "e834c6e7"
   },
   "outputs": [],
   "source": [
    "# Define the pipeline\n",
    "rf_clf = RandomForestClassifier(max_depth=5, min_samples_split=20)"
   ]
  },
  {
   "cell_type": "markdown",
   "metadata": {
    "id": "8231e725"
   },
   "source": [
    "### param_grid (hyperparameter input)"
   ]
  },
  {
   "cell_type": "code",
   "execution_count": null,
   "metadata": {
    "colab": {
     "base_uri": "https://localhost:8080/"
    },
    "id": "01459d79",
    "outputId": "9bd2670d-5b6c-4431-8c38-bd2a61aa12ef",
    "scrolled": false
   },
   "outputs": [
    {
     "data": {
      "text/plain": [
       "dict_keys(['bootstrap', 'ccp_alpha', 'class_weight', 'criterion', 'max_depth', 'max_features', 'max_leaf_nodes', 'max_samples', 'min_impurity_decrease', 'min_samples_leaf', 'min_samples_split', 'min_weight_fraction_leaf', 'n_estimators', 'n_jobs', 'oob_score', 'random_state', 'verbose', 'warm_start'])"
      ]
     },
     "execution_count": 6,
     "metadata": {},
     "output_type": "execute_result"
    }
   ],
   "source": [
    "# pipeline object에 대해 지정해줄 수 있는 hyperparameter를 얻을 수 있음\n",
    "rf_clf.get_params().keys()"
   ]
  },
  {
   "cell_type": "code",
   "execution_count": null,
   "metadata": {
    "id": "0025d57f"
   },
   "outputs": [],
   "source": [
    "# define the hyperparameters you want to search over\n",
    "param_grid = {\n",
    "    'n_estimators':[50,100,150],\n",
    "    'max_features':['auto', 'sqrt', 'log2']\n",
    "}"
   ]
  },
  {
   "cell_type": "markdown",
   "metadata": {
    "id": "31773cdf"
   },
   "source": [
    "### Scoring Function"
   ]
  },
  {
   "cell_type": "code",
   "execution_count": null,
   "metadata": {
    "id": "314244e9"
   },
   "outputs": [],
   "source": [
    "# Define the scorer to use in the grid search\n",
    "# greater_is_better=False -> since we want the negative value of log loss\n",
    "scoring = {'neg_log_loss': make_scorer(log_loss, greater_is_better=False, needs_proba=True)\n",
    "#            'accuracy': make_scorer(accuracy_score),\n",
    "#            'precision': make_scorer(precision_score),\n",
    "#            'recall': make_scorer(recall_score),\n",
    "#            'f1': make_scorer(f1_score)\n",
    "          }"
   ]
  },
  {
   "cell_type": "markdown",
   "metadata": {
    "id": "14fa9042"
   },
   "source": [
    "### Grid Search"
   ]
  },
  {
   "cell_type": "code",
   "execution_count": null,
   "metadata": {
    "id": "477e2237",
    "outputId": "37026503-86f0-4449-eb7e-6f0e88723dc9"
   },
   "outputs": [
    {
     "data": {
      "text/html": [
       "<style>#sk-container-id-1 {color: black;background-color: white;}#sk-container-id-1 pre{padding: 0;}#sk-container-id-1 div.sk-toggleable {background-color: white;}#sk-container-id-1 label.sk-toggleable__label {cursor: pointer;display: block;width: 100%;margin-bottom: 0;padding: 0.3em;box-sizing: border-box;text-align: center;}#sk-container-id-1 label.sk-toggleable__label-arrow:before {content: \"▸\";float: left;margin-right: 0.25em;color: #696969;}#sk-container-id-1 label.sk-toggleable__label-arrow:hover:before {color: black;}#sk-container-id-1 div.sk-estimator:hover label.sk-toggleable__label-arrow:before {color: black;}#sk-container-id-1 div.sk-toggleable__content {max-height: 0;max-width: 0;overflow: hidden;text-align: left;background-color: #f0f8ff;}#sk-container-id-1 div.sk-toggleable__content pre {margin: 0.2em;color: black;border-radius: 0.25em;background-color: #f0f8ff;}#sk-container-id-1 input.sk-toggleable__control:checked~div.sk-toggleable__content {max-height: 200px;max-width: 100%;overflow: auto;}#sk-container-id-1 input.sk-toggleable__control:checked~label.sk-toggleable__label-arrow:before {content: \"▾\";}#sk-container-id-1 div.sk-estimator input.sk-toggleable__control:checked~label.sk-toggleable__label {background-color: #d4ebff;}#sk-container-id-1 div.sk-label input.sk-toggleable__control:checked~label.sk-toggleable__label {background-color: #d4ebff;}#sk-container-id-1 input.sk-hidden--visually {border: 0;clip: rect(1px 1px 1px 1px);clip: rect(1px, 1px, 1px, 1px);height: 1px;margin: -1px;overflow: hidden;padding: 0;position: absolute;width: 1px;}#sk-container-id-1 div.sk-estimator {font-family: monospace;background-color: #f0f8ff;border: 1px dotted black;border-radius: 0.25em;box-sizing: border-box;margin-bottom: 0.5em;}#sk-container-id-1 div.sk-estimator:hover {background-color: #d4ebff;}#sk-container-id-1 div.sk-parallel-item::after {content: \"\";width: 100%;border-bottom: 1px solid gray;flex-grow: 1;}#sk-container-id-1 div.sk-label:hover label.sk-toggleable__label {background-color: #d4ebff;}#sk-container-id-1 div.sk-serial::before {content: \"\";position: absolute;border-left: 1px solid gray;box-sizing: border-box;top: 0;bottom: 0;left: 50%;z-index: 0;}#sk-container-id-1 div.sk-serial {display: flex;flex-direction: column;align-items: center;background-color: white;padding-right: 0.2em;padding-left: 0.2em;position: relative;}#sk-container-id-1 div.sk-item {position: relative;z-index: 1;}#sk-container-id-1 div.sk-parallel {display: flex;align-items: stretch;justify-content: center;background-color: white;position: relative;}#sk-container-id-1 div.sk-item::before, #sk-container-id-1 div.sk-parallel-item::before {content: \"\";position: absolute;border-left: 1px solid gray;box-sizing: border-box;top: 0;bottom: 0;left: 50%;z-index: -1;}#sk-container-id-1 div.sk-parallel-item {display: flex;flex-direction: column;z-index: 1;position: relative;background-color: white;}#sk-container-id-1 div.sk-parallel-item:first-child::after {align-self: flex-end;width: 50%;}#sk-container-id-1 div.sk-parallel-item:last-child::after {align-self: flex-start;width: 50%;}#sk-container-id-1 div.sk-parallel-item:only-child::after {width: 0;}#sk-container-id-1 div.sk-dashed-wrapped {border: 1px dashed gray;margin: 0 0.4em 0.5em 0.4em;box-sizing: border-box;padding-bottom: 0.4em;background-color: white;}#sk-container-id-1 div.sk-label label {font-family: monospace;font-weight: bold;display: inline-block;line-height: 1.2em;}#sk-container-id-1 div.sk-label-container {text-align: center;}#sk-container-id-1 div.sk-container {/* jupyter's `normalize.less` sets `[hidden] { display: none; }` but bootstrap.min.css set `[hidden] { display: none !important; }` so we also need the `!important` here to be able to override the default hidden behavior on the sphinx rendered scikit-learn.org. See: https://github.com/scikit-learn/scikit-learn/issues/21755 */display: inline-block !important;position: relative;}#sk-container-id-1 div.sk-text-repr-fallback {display: none;}</style><div id=\"sk-container-id-1\" class=\"sk-top-container\"><div class=\"sk-text-repr-fallback\"><pre>GridSearchCV(cv=5,\n",
       "             estimator=RandomForestClassifier(max_depth=5,\n",
       "                                              min_samples_split=20),\n",
       "             param_grid={&#x27;max_features&#x27;: [&#x27;auto&#x27;, &#x27;sqrt&#x27;, &#x27;log2&#x27;],\n",
       "                         &#x27;n_estimators&#x27;: [50, 100, 150]},\n",
       "             refit=&#x27;neg_log_loss&#x27;,\n",
       "             scoring={&#x27;neg_log_loss&#x27;: make_scorer(log_loss, greater_is_better=False, needs_proba=True)})</pre><b>In a Jupyter environment, please rerun this cell to show the HTML representation or trust the notebook. <br />On GitHub, the HTML representation is unable to render, please try loading this page with nbviewer.org.</b></div><div class=\"sk-container\" hidden><div class=\"sk-item sk-dashed-wrapped\"><div class=\"sk-label-container\"><div class=\"sk-label sk-toggleable\"><input class=\"sk-toggleable__control sk-hidden--visually\" id=\"sk-estimator-id-1\" type=\"checkbox\" ><label for=\"sk-estimator-id-1\" class=\"sk-toggleable__label sk-toggleable__label-arrow\">GridSearchCV</label><div class=\"sk-toggleable__content\"><pre>GridSearchCV(cv=5,\n",
       "             estimator=RandomForestClassifier(max_depth=5,\n",
       "                                              min_samples_split=20),\n",
       "             param_grid={&#x27;max_features&#x27;: [&#x27;auto&#x27;, &#x27;sqrt&#x27;, &#x27;log2&#x27;],\n",
       "                         &#x27;n_estimators&#x27;: [50, 100, 150]},\n",
       "             refit=&#x27;neg_log_loss&#x27;,\n",
       "             scoring={&#x27;neg_log_loss&#x27;: make_scorer(log_loss, greater_is_better=False, needs_proba=True)})</pre></div></div></div><div class=\"sk-parallel\"><div class=\"sk-parallel-item\"><div class=\"sk-item\"><div class=\"sk-label-container\"><div class=\"sk-label sk-toggleable\"><input class=\"sk-toggleable__control sk-hidden--visually\" id=\"sk-estimator-id-2\" type=\"checkbox\" ><label for=\"sk-estimator-id-2\" class=\"sk-toggleable__label sk-toggleable__label-arrow\">estimator: RandomForestClassifier</label><div class=\"sk-toggleable__content\"><pre>RandomForestClassifier(max_depth=5, min_samples_split=20)</pre></div></div></div><div class=\"sk-serial\"><div class=\"sk-item\"><div class=\"sk-estimator sk-toggleable\"><input class=\"sk-toggleable__control sk-hidden--visually\" id=\"sk-estimator-id-3\" type=\"checkbox\" ><label for=\"sk-estimator-id-3\" class=\"sk-toggleable__label sk-toggleable__label-arrow\">RandomForestClassifier</label><div class=\"sk-toggleable__content\"><pre>RandomForestClassifier(max_depth=5, min_samples_split=20)</pre></div></div></div></div></div></div></div></div></div></div>"
      ],
      "text/plain": [
       "GridSearchCV(cv=5,\n",
       "             estimator=RandomForestClassifier(max_depth=5,\n",
       "                                              min_samples_split=20),\n",
       "             param_grid={'max_features': ['auto', 'sqrt', 'log2'],\n",
       "                         'n_estimators': [50, 100, 150]},\n",
       "             refit='neg_log_loss',\n",
       "             scoring={'neg_log_loss': make_scorer(log_loss, greater_is_better=False, needs_proba=True)})"
      ]
     },
     "execution_count": 9,
     "metadata": {},
     "output_type": "execute_result"
    }
   ],
   "source": [
    "grid_search = GridSearchCV(rf_clf, param_grid, cv=5, scoring=scoring, refit='neg_log_loss')\n",
    "# scoring=scoring\n",
    "\n",
    "# Fit the grid search object to the data\n",
    "grid_search.fit(X_train, y_train)"
   ]
  },
  {
   "cell_type": "markdown",
   "metadata": {
    "id": "b0d6a6d5"
   },
   "source": [
    "### Hyperparameter에 따른 Estimator 비교"
   ]
  },
  {
   "cell_type": "code",
   "execution_count": null,
   "metadata": {
    "id": "yq8Wm_hKD25w"
   },
   "outputs": [],
   "source": [
    "# 저장된된 파일들의 모델 이름 정해주기\n",
    "model_name = 'RandomForest_compressed'"
   ]
  },
  {
   "cell_type": "code",
   "execution_count": null,
   "metadata": {
    "colab": {
     "base_uri": "https://localhost:8080/",
     "height": 266
    },
    "id": "7fe9995c",
    "outputId": "95d8568c-c79a-4671-d7e7-da08609ae405"
   },
   "outputs": [
    {
     "data": {
      "text/html": [
       "<div>\n",
       "<style scoped>\n",
       "    .dataframe tbody tr th:only-of-type {\n",
       "        vertical-align: middle;\n",
       "    }\n",
       "\n",
       "    .dataframe tbody tr th {\n",
       "        vertical-align: top;\n",
       "    }\n",
       "\n",
       "    .dataframe thead th {\n",
       "        text-align: right;\n",
       "    }\n",
       "</style>\n",
       "<table border=\"1\" class=\"dataframe\">\n",
       "  <thead>\n",
       "    <tr style=\"text-align: right;\">\n",
       "      <th></th>\n",
       "      <th>mean_fit_time</th>\n",
       "      <th>std_fit_time</th>\n",
       "      <th>mean_score_time</th>\n",
       "      <th>std_score_time</th>\n",
       "      <th>param_max_features</th>\n",
       "      <th>param_n_estimators</th>\n",
       "      <th>params</th>\n",
       "      <th>split0_test_neg_log_loss</th>\n",
       "      <th>split1_test_neg_log_loss</th>\n",
       "      <th>split2_test_neg_log_loss</th>\n",
       "      <th>split3_test_neg_log_loss</th>\n",
       "      <th>split4_test_neg_log_loss</th>\n",
       "      <th>mean_test_neg_log_loss</th>\n",
       "      <th>std_test_neg_log_loss</th>\n",
       "      <th>rank_test_neg_log_loss</th>\n",
       "    </tr>\n",
       "  </thead>\n",
       "  <tbody>\n",
       "    <tr>\n",
       "      <th>0</th>\n",
       "      <td>35.562479</td>\n",
       "      <td>0.571955</td>\n",
       "      <td>0.273191</td>\n",
       "      <td>0.004303</td>\n",
       "      <td>auto</td>\n",
       "      <td>50</td>\n",
       "      <td>{'max_features': 'auto', 'n_estimators': 50}</td>\n",
       "      <td>-0.439068</td>\n",
       "      <td>-0.438622</td>\n",
       "      <td>-0.439225</td>\n",
       "      <td>-0.439188</td>\n",
       "      <td>-0.439068</td>\n",
       "      <td>-0.439034</td>\n",
       "      <td>0.000216</td>\n",
       "      <td>6</td>\n",
       "    </tr>\n",
       "    <tr>\n",
       "      <th>1</th>\n",
       "      <td>74.555919</td>\n",
       "      <td>0.505376</td>\n",
       "      <td>0.519118</td>\n",
       "      <td>0.004390</td>\n",
       "      <td>auto</td>\n",
       "      <td>100</td>\n",
       "      <td>{'max_features': 'auto', 'n_estimators': 100}</td>\n",
       "      <td>-0.439004</td>\n",
       "      <td>-0.438835</td>\n",
       "      <td>-0.439218</td>\n",
       "      <td>-0.439073</td>\n",
       "      <td>-0.439025</td>\n",
       "      <td>-0.439031</td>\n",
       "      <td>0.000123</td>\n",
       "      <td>5</td>\n",
       "    </tr>\n",
       "    <tr>\n",
       "      <th>2</th>\n",
       "      <td>112.622148</td>\n",
       "      <td>3.080240</td>\n",
       "      <td>0.761551</td>\n",
       "      <td>0.012190</td>\n",
       "      <td>auto</td>\n",
       "      <td>150</td>\n",
       "      <td>{'max_features': 'auto', 'n_estimators': 150}</td>\n",
       "      <td>-0.439012</td>\n",
       "      <td>-0.438796</td>\n",
       "      <td>-0.439184</td>\n",
       "      <td>-0.439075</td>\n",
       "      <td>-0.439067</td>\n",
       "      <td>-0.439027</td>\n",
       "      <td>0.000128</td>\n",
       "      <td>4</td>\n",
       "    </tr>\n",
       "    <tr>\n",
       "      <th>3</th>\n",
       "      <td>37.265911</td>\n",
       "      <td>2.973823</td>\n",
       "      <td>0.285610</td>\n",
       "      <td>0.019402</td>\n",
       "      <td>sqrt</td>\n",
       "      <td>50</td>\n",
       "      <td>{'max_features': 'sqrt', 'n_estimators': 50}</td>\n",
       "      <td>-0.439003</td>\n",
       "      <td>-0.438746</td>\n",
       "      <td>-0.439203</td>\n",
       "      <td>-0.438982</td>\n",
       "      <td>-0.439132</td>\n",
       "      <td>-0.439013</td>\n",
       "      <td>0.000157</td>\n",
       "      <td>3</td>\n",
       "    </tr>\n",
       "    <tr>\n",
       "      <th>4</th>\n",
       "      <td>76.466847</td>\n",
       "      <td>1.147657</td>\n",
       "      <td>0.531410</td>\n",
       "      <td>0.019267</td>\n",
       "      <td>sqrt</td>\n",
       "      <td>100</td>\n",
       "      <td>{'max_features': 'sqrt', 'n_estimators': 100}</td>\n",
       "      <td>-0.439016</td>\n",
       "      <td>-0.438786</td>\n",
       "      <td>-0.439171</td>\n",
       "      <td>-0.438967</td>\n",
       "      <td>-0.438991</td>\n",
       "      <td>-0.438986</td>\n",
       "      <td>0.000123</td>\n",
       "      <td>1</td>\n",
       "    </tr>\n",
       "    <tr>\n",
       "      <th>5</th>\n",
       "      <td>111.542186</td>\n",
       "      <td>3.183172</td>\n",
       "      <td>0.773452</td>\n",
       "      <td>0.011451</td>\n",
       "      <td>sqrt</td>\n",
       "      <td>150</td>\n",
       "      <td>{'max_features': 'sqrt', 'n_estimators': 150}</td>\n",
       "      <td>-0.438950</td>\n",
       "      <td>-0.438714</td>\n",
       "      <td>-0.439193</td>\n",
       "      <td>-0.439083</td>\n",
       "      <td>-0.439016</td>\n",
       "      <td>-0.438991</td>\n",
       "      <td>0.000160</td>\n",
       "      <td>2</td>\n",
       "    </tr>\n",
       "    <tr>\n",
       "      <th>6</th>\n",
       "      <td>36.182849</td>\n",
       "      <td>0.555649</td>\n",
       "      <td>0.267077</td>\n",
       "      <td>0.004163</td>\n",
       "      <td>log2</td>\n",
       "      <td>50</td>\n",
       "      <td>{'max_features': 'log2', 'n_estimators': 50}</td>\n",
       "      <td>-0.439009</td>\n",
       "      <td>-0.438728</td>\n",
       "      <td>-0.439221</td>\n",
       "      <td>-0.439198</td>\n",
       "      <td>-0.439078</td>\n",
       "      <td>-0.439047</td>\n",
       "      <td>0.000177</td>\n",
       "      <td>9</td>\n",
       "    </tr>\n",
       "    <tr>\n",
       "      <th>7</th>\n",
       "      <td>72.058465</td>\n",
       "      <td>0.639481</td>\n",
       "      <td>0.505788</td>\n",
       "      <td>0.008336</td>\n",
       "      <td>log2</td>\n",
       "      <td>100</td>\n",
       "      <td>{'max_features': 'log2', 'n_estimators': 100}</td>\n",
       "      <td>-0.439066</td>\n",
       "      <td>-0.438805</td>\n",
       "      <td>-0.439236</td>\n",
       "      <td>-0.439029</td>\n",
       "      <td>-0.439084</td>\n",
       "      <td>-0.439044</td>\n",
       "      <td>0.000139</td>\n",
       "      <td>8</td>\n",
       "    </tr>\n",
       "    <tr>\n",
       "      <th>8</th>\n",
       "      <td>114.597382</td>\n",
       "      <td>3.707066</td>\n",
       "      <td>0.771307</td>\n",
       "      <td>0.017437</td>\n",
       "      <td>log2</td>\n",
       "      <td>150</td>\n",
       "      <td>{'max_features': 'log2', 'n_estimators': 150}</td>\n",
       "      <td>-0.439009</td>\n",
       "      <td>-0.438781</td>\n",
       "      <td>-0.439196</td>\n",
       "      <td>-0.439116</td>\n",
       "      <td>-0.439073</td>\n",
       "      <td>-0.439035</td>\n",
       "      <td>0.000141</td>\n",
       "      <td>7</td>\n",
       "    </tr>\n",
       "  </tbody>\n",
       "</table>\n",
       "</div>"
      ],
      "text/plain": [
       "   mean_fit_time  std_fit_time  mean_score_time  std_score_time  \\\n",
       "0      35.562479      0.571955         0.273191        0.004303   \n",
       "1      74.555919      0.505376         0.519118        0.004390   \n",
       "2     112.622148      3.080240         0.761551        0.012190   \n",
       "3      37.265911      2.973823         0.285610        0.019402   \n",
       "4      76.466847      1.147657         0.531410        0.019267   \n",
       "5     111.542186      3.183172         0.773452        0.011451   \n",
       "6      36.182849      0.555649         0.267077        0.004163   \n",
       "7      72.058465      0.639481         0.505788        0.008336   \n",
       "8     114.597382      3.707066         0.771307        0.017437   \n",
       "\n",
       "  param_max_features param_n_estimators  \\\n",
       "0               auto                 50   \n",
       "1               auto                100   \n",
       "2               auto                150   \n",
       "3               sqrt                 50   \n",
       "4               sqrt                100   \n",
       "5               sqrt                150   \n",
       "6               log2                 50   \n",
       "7               log2                100   \n",
       "8               log2                150   \n",
       "\n",
       "                                          params  split0_test_neg_log_loss  \\\n",
       "0   {'max_features': 'auto', 'n_estimators': 50}                 -0.439068   \n",
       "1  {'max_features': 'auto', 'n_estimators': 100}                 -0.439004   \n",
       "2  {'max_features': 'auto', 'n_estimators': 150}                 -0.439012   \n",
       "3   {'max_features': 'sqrt', 'n_estimators': 50}                 -0.439003   \n",
       "4  {'max_features': 'sqrt', 'n_estimators': 100}                 -0.439016   \n",
       "5  {'max_features': 'sqrt', 'n_estimators': 150}                 -0.438950   \n",
       "6   {'max_features': 'log2', 'n_estimators': 50}                 -0.439009   \n",
       "7  {'max_features': 'log2', 'n_estimators': 100}                 -0.439066   \n",
       "8  {'max_features': 'log2', 'n_estimators': 150}                 -0.439009   \n",
       "\n",
       "   split1_test_neg_log_loss  split2_test_neg_log_loss  \\\n",
       "0                 -0.438622                 -0.439225   \n",
       "1                 -0.438835                 -0.439218   \n",
       "2                 -0.438796                 -0.439184   \n",
       "3                 -0.438746                 -0.439203   \n",
       "4                 -0.438786                 -0.439171   \n",
       "5                 -0.438714                 -0.439193   \n",
       "6                 -0.438728                 -0.439221   \n",
       "7                 -0.438805                 -0.439236   \n",
       "8                 -0.438781                 -0.439196   \n",
       "\n",
       "   split3_test_neg_log_loss  split4_test_neg_log_loss  mean_test_neg_log_loss  \\\n",
       "0                 -0.439188                 -0.439068               -0.439034   \n",
       "1                 -0.439073                 -0.439025               -0.439031   \n",
       "2                 -0.439075                 -0.439067               -0.439027   \n",
       "3                 -0.438982                 -0.439132               -0.439013   \n",
       "4                 -0.438967                 -0.438991               -0.438986   \n",
       "5                 -0.439083                 -0.439016               -0.438991   \n",
       "6                 -0.439198                 -0.439078               -0.439047   \n",
       "7                 -0.439029                 -0.439084               -0.439044   \n",
       "8                 -0.439116                 -0.439073               -0.439035   \n",
       "\n",
       "   std_test_neg_log_loss  rank_test_neg_log_loss  \n",
       "0               0.000216                       6  \n",
       "1               0.000123                       5  \n",
       "2               0.000128                       4  \n",
       "3               0.000157                       3  \n",
       "4               0.000123                       1  \n",
       "5               0.000160                       2  \n",
       "6               0.000177                       9  \n",
       "7               0.000139                       8  \n",
       "8               0.000141                       7  "
      ]
     },
     "execution_count": 52,
     "metadata": {},
     "output_type": "execute_result"
    }
   ],
   "source": [
    "# grid search 결과 df로 저장\n",
    "df_result_ = pd.DataFrame(grid_search.cv_results_)\n",
    "\n",
    "df_result_.to_csv('%s_estimator_%s.csv'%(model_name, datetime.datetime.now().strftime(\"%m%d%H%M%S\")), index=True, float_format='%.6f') # 이름 설정해줘야함\n",
    "\n",
    "df_result_"
   ]
  },
  {
   "cell_type": "markdown",
   "metadata": {
    "id": "9d336699"
   },
   "source": [
    "# Validation"
   ]
  },
  {
   "cell_type": "markdown",
   "metadata": {
    "id": "4a7df44d"
   },
   "source": [
    "### best_estimator 확인"
   ]
  },
  {
   "cell_type": "code",
   "execution_count": null,
   "metadata": {
    "colab": {
     "base_uri": "https://localhost:8080/"
    },
    "id": "f34e575c",
    "outputId": "21412bad-29f3-4642-dc3d-c93899dfd5d7"
   },
   "outputs": [
    {
     "name": "stdout",
     "output_type": "stream",
     "text": [
      "RandomForestClassifier(max_depth=5, min_samples_split=20)\n"
     ]
    }
   ],
   "source": [
    "# Get the best estimator from the grid search\n",
    "best_estimator = grid_search.best_estimator_\n",
    "print(best_estimator)"
   ]
  },
  {
   "cell_type": "markdown",
   "metadata": {
    "id": "e96909b9"
   },
   "source": [
    "### X_val에 대한 평가지표 확인"
   ]
  },
  {
   "cell_type": "code",
   "execution_count": null,
   "metadata": {
    "colab": {
     "base_uri": "https://localhost:8080/"
    },
    "id": "705d5366",
    "outputId": "d52ebd2d-0f91-4c83-cb14-1d996641a473",
    "scrolled": true
   },
   "outputs": [
    {
     "name": "stdout",
     "output_type": "stream",
     "text": [
      "\n",
      " 정확도: 0.8379112149272203, 정밀도도: 0.0, 재현율율: 0.0\n",
      "[[150302      0]\n",
      " [ 29075      0]]\n"
     ]
    }
   ],
   "source": [
    "pred_val = best_estimator.predict(X_val)\n",
    "#dt = DecisionTreeClassifier()\n",
    "#dt.fit(X_train, y_train)\n",
    "#pred_val = dt.predict(X_val)\n",
    "\n",
    "\n",
    "accuracy = accuracy_score(y_val, pred_val)\n",
    "precision = precision_score(y_val, pred_val)\n",
    "recall = recall_score(y_val, pred_val)\n",
    "conf_matrix = confusion_matrix(y_val, pred_val)\n",
    "print('\\n 정확도: {0}, 정밀도도: {1}, 재현율율: {2}'.format(accuracy, precision, recall))\n",
    "print(conf_matrix)"
   ]
  },
  {
   "cell_type": "markdown",
   "metadata": {
    "id": "3318dd84"
   },
   "source": [
    "### X_val fitting"
   ]
  },
  {
   "cell_type": "code",
   "execution_count": null,
   "metadata": {
    "colab": {
     "base_uri": "https://localhost:8080/",
     "height": 296
    },
    "id": "f864b23f",
    "outputId": "994f8f66-741f-4167-ce92-de280c354370",
    "scrolled": false
   },
   "outputs": [
    {
     "data": {
      "image/png": "[encoded data removed]",
      "text/plain": [
       "<Figure size 432x288 with 1 Axes>"
      ]
     },
     "metadata": {
      "needs_background": "light"
     },
     "output_type": "display_data"
    }
   ],
   "source": [
    "# Predict probabilities for new data\n",
    "y_val_pred_proba = best_estimator.predict_proba(X_val) # 확률로 추정된 X_val의 y_pred\n",
    "\n",
    "plt.hist(y_val_pred_proba[:,1], bins=100)\n",
    "\n",
    "plt.xlabel('y_val_pred_proba')\n",
    "plt.ylabel('Frequency')\n",
    "plt.title('Frequency of y_val_pred_proba of %s'%(model_name))\n",
    "\n",
    "plt.savefig(\"%s_val_pre_proba_%s.png\"%(model_name, datetime.datetime.now().strftime(\"%m%d%H%M%S\")), dpi=300, bbox_inches='tight')\n",
    "\n",
    "plt.show() # y_val_pred_proba의 분포 확인"
   ]
  },
  {
   "cell_type": "code",
   "execution_count": null,
   "metadata": {
    "colab": {
     "base_uri": "https://localhost:8080/"
    },
    "id": "80603561",
    "outputId": "7a2953e1-4506-4f17-bb7e-7e3bef1bd887"
   },
   "outputs": [
    {
     "data": {
      "text/plain": [
       "array([[0.81380798, 0.18619202],\n",
       "       [0.84598928, 0.15401072],\n",
       "       [0.83970688, 0.16029312],\n",
       "       ...,\n",
       "       [0.83054255, 0.16945745],\n",
       "       [0.83870444, 0.16129556],\n",
       "       [0.82007207, 0.17992793]])"
      ]
     },
     "execution_count": 15,
     "metadata": {},
     "output_type": "execute_result"
    }
   ],
   "source": [
    "y_val_pred_proba"
   ]
  },
  {
   "cell_type": "markdown",
   "metadata": {
    "id": "d8c47020"
   },
   "source": [
    "### optimal threshold 선정 (threshold에 따른 목적함수 값 비교)\n",
    "\n",
    "실제 positive = TP + FN\n",
    "\n",
    "실제 Negative = TN + FP\n",
    "\n",
    "정밀도: positive로 예측한 것 중에 진짜 positive인 것 -> 양성 예측도\n",
    "\n",
    "재현율: 실제 positive 중에 맞춘 것 -> 민감도"
   ]
  },
  {
   "cell_type": "code",
   "execution_count": null,
   "metadata": {
    "id": "XyXYPwxgE4nu"
   },
   "outputs": [],
   "source": [
    "threshold_list = np.linspace(0,0.2,10) # 짝수개 값 (예시 10개)"
   ]
  },
  {
   "cell_type": "markdown",
   "metadata": {
    "id": "67a298d2"
   },
   "source": [
    "Threshold에 따른 지표 비교\n",
    "\n",
    "0, 1 count / confusion_matrix / accuracy, precision, recall, f1 score "
   ]
  },
  {
   "cell_type": "code",
   "execution_count": null,
   "metadata": {
    "id": "HWVHIIWEFEm8"
   },
   "outputs": [],
   "source": [
    "def threshold_func(y_val, y_pred_proba, threshold_list):\n",
    "    \n",
    "    n = len(threshold_list)\n",
    "    \n",
    "    result_df = pd.DataFrame(index=['1_real','1_pred','0_real','0_pred','tn', 'fp', 'fn', 'tp', 'tn_%', 'fp_%', 'fn_%', 'tp_%', 'Accuracy', 'Precision', 'Recall', 'F1 score'])\n",
    "    \n",
    "    fig, axes = plt.subplots(nrows=int(n/2), ncols=2, figsize=(10, 10))\n",
    "    \n",
    "    for i in range(len(threshold_list)):\n",
    "        \n",
    "        threshold = threshold_list[i]\n",
    "        \n",
    "        # make Binarizer(y hat)\n",
    "        binarizer = Binarizer(threshold = threshold).fit(y_pred_proba[:,1].reshape(-1,1))\n",
    "        custom_predict = binarizer.transform(y_pred_proba[:,1].reshape(-1,1))\n",
    "        \n",
    "        # count 0, 1 in Binarizer(y hat)\n",
    "        unique, counts = np.unique(custom_predict, return_counts=True)\n",
    "\n",
    "        for val, count in zip(unique, counts):\n",
    "            if len(unique) == 1:\n",
    "                if val == 1.0:\n",
    "                    num_0_pred = 0\n",
    "                    num_1_pred = count\n",
    "                elif val == 0.0:\n",
    "                    num_1_pred = 0\n",
    "                    num_0_pred = count\n",
    "            if val == 1.0:\n",
    "                num_1_pred = count\n",
    "            elif val == 0.0:\n",
    "                num_0_pred = count\n",
    "\n",
    "        # count 0, 1 in y hat\n",
    "        num_0_real = y_val.value_counts()[0]\n",
    "        num_1_real = y_val.value_counts()[1]\n",
    "        \n",
    "        tn, fp, fn, tp = confusion_matrix(y_val, custom_predict).ravel()\n",
    "        count = [tn, fp, fn, tp]\n",
    "        tn_, fp_, fn_, tp_ = [round(x/sum(count)*100, 1) for x in count]\n",
    "        \n",
    "        accuracy = round((tp+tn)/(tp+tn+fp+fn),4)\n",
    "        precision = round(tp/(tp+fp),4)\n",
    "        recall = round(tp/(tp+fn),4)\n",
    "        f1 = round(2*(precision*recall)/(precision+recall),4)\n",
    "        \n",
    "        threshold_tag = round(threshold_list[i], 4)\n",
    "        \n",
    "        result_df[threshold_tag] = [num_1_real, num_1_pred, num_0_real, num_0_pred, tn, fp, fn, tp, tn_, fp_, fn_, tp_, accuracy, precision, recall, f1]\n",
    "        \n",
    "        labels = ['TN','FP','FN','TP']\n",
    "        \n",
    "        # tn, fp, fn, tp 각각의 값을 counts 리스트에 저장\n",
    "        counts = [tn, fp, fn, tp]\n",
    "\n",
    "        # 해당하는 subplot에 그래프 그리기\n",
    "        axes[i//2, i%2].bar(labels, counts)\n",
    "        axes[i//2, i%2].set_title(threshold_tag)\n",
    "        axes[i//2, i%2].set_ylabel('Count')\n",
    "\n",
    "    # 그래프 간격 조절하기\n",
    "    plt.tight_layout()\n",
    "    \n",
    "    plt.savefig(\"%s_threshold_%s.png\"%(model_name, datetime.datetime.now().strftime(\"%m%d%H%M%S\")), dpi=300, bbox_inches='tight')\n",
    "\n",
    "    # 그래프 출력하기\n",
    "    plt.show()\n",
    "    \n",
    "    result_df.to_csv('%s_threshold_%s.csv'%(model_name, datetime.datetime.now().strftime(\"%m%d%H%M%S\")), index=True)\n",
    "    \n",
    "    return result_df"
   ]
  },
  {
   "cell_type": "code",
   "execution_count": null,
   "metadata": {
    "colab": {
     "base_uri": "https://localhost:8080/",
     "height": 1000
    },
    "id": "JlFq1HVoFEm-",
    "outputId": "a68f06fc-9b45-4f85-b121-a5c4e2d54be1",
    "scrolled": true
   },
   "outputs": [
    {
     "data": {
      "image/png": "[encoded data removed]",
      "text/plain": [
       "<Figure size 720x720 with 10 Axes>"
      ]
     },
     "metadata": {
      "needs_background": "light"
     },
     "output_type": "display_data"
    },
    {
     "data": {
      "text/html": [
       "<div>\n",
       "<style scoped>\n",
       "    .dataframe tbody tr th:only-of-type {\n",
       "        vertical-align: middle;\n",
       "    }\n",
       "\n",
       "    .dataframe tbody tr th {\n",
       "        vertical-align: top;\n",
       "    }\n",
       "\n",
       "    .dataframe thead th {\n",
       "        text-align: right;\n",
       "    }\n",
       "</style>\n",
       "<table border=\"1\" class=\"dataframe\">\n",
       "  <thead>\n",
       "    <tr style=\"text-align: right;\">\n",
       "      <th></th>\n",
       "      <th>0.0000</th>\n",
       "      <th>0.0222</th>\n",
       "      <th>0.0444</th>\n",
       "      <th>0.0667</th>\n",
       "      <th>0.0889</th>\n",
       "      <th>0.1111</th>\n",
       "      <th>0.1333</th>\n",
       "      <th>0.1556</th>\n",
       "      <th>0.1778</th>\n",
       "      <th>0.2000</th>\n",
       "    </tr>\n",
       "  </thead>\n",
       "  <tbody>\n",
       "    <tr>\n",
       "      <th>1_real</th>\n",
       "      <td>29075.0000</td>\n",
       "      <td>29075.0000</td>\n",
       "      <td>29075.0000</td>\n",
       "      <td>29075.0000</td>\n",
       "      <td>29075.0000</td>\n",
       "      <td>29075.0000</td>\n",
       "      <td>29075.0000</td>\n",
       "      <td>29075.0000</td>\n",
       "      <td>29075.0000</td>\n",
       "      <td>29075.0000</td>\n",
       "    </tr>\n",
       "    <tr>\n",
       "      <th>1_pred</th>\n",
       "      <td>179377.0000</td>\n",
       "      <td>179377.0000</td>\n",
       "      <td>179377.0000</td>\n",
       "      <td>179377.0000</td>\n",
       "      <td>179377.0000</td>\n",
       "      <td>179339.0000</td>\n",
       "      <td>175628.0000</td>\n",
       "      <td>137863.0000</td>\n",
       "      <td>31164.0000</td>\n",
       "      <td>68.0000</td>\n",
       "    </tr>\n",
       "    <tr>\n",
       "      <th>0_real</th>\n",
       "      <td>150302.0000</td>\n",
       "      <td>150302.0000</td>\n",
       "      <td>150302.0000</td>\n",
       "      <td>150302.0000</td>\n",
       "      <td>150302.0000</td>\n",
       "      <td>150302.0000</td>\n",
       "      <td>150302.0000</td>\n",
       "      <td>150302.0000</td>\n",
       "      <td>150302.0000</td>\n",
       "      <td>150302.0000</td>\n",
       "    </tr>\n",
       "    <tr>\n",
       "      <th>0_pred</th>\n",
       "      <td>0.0000</td>\n",
       "      <td>0.0000</td>\n",
       "      <td>0.0000</td>\n",
       "      <td>0.0000</td>\n",
       "      <td>0.0000</td>\n",
       "      <td>38.0000</td>\n",
       "      <td>3749.0000</td>\n",
       "      <td>41514.0000</td>\n",
       "      <td>148213.0000</td>\n",
       "      <td>179309.0000</td>\n",
       "    </tr>\n",
       "    <tr>\n",
       "      <th>tn</th>\n",
       "      <td>0.0000</td>\n",
       "      <td>0.0000</td>\n",
       "      <td>0.0000</td>\n",
       "      <td>0.0000</td>\n",
       "      <td>0.0000</td>\n",
       "      <td>36.0000</td>\n",
       "      <td>3444.0000</td>\n",
       "      <td>36770.0000</td>\n",
       "      <td>125768.0000</td>\n",
       "      <td>150246.0000</td>\n",
       "    </tr>\n",
       "    <tr>\n",
       "      <th>fp</th>\n",
       "      <td>150302.0000</td>\n",
       "      <td>150302.0000</td>\n",
       "      <td>150302.0000</td>\n",
       "      <td>150302.0000</td>\n",
       "      <td>150302.0000</td>\n",
       "      <td>150266.0000</td>\n",
       "      <td>146858.0000</td>\n",
       "      <td>113532.0000</td>\n",
       "      <td>24534.0000</td>\n",
       "      <td>56.0000</td>\n",
       "    </tr>\n",
       "    <tr>\n",
       "      <th>fn</th>\n",
       "      <td>0.0000</td>\n",
       "      <td>0.0000</td>\n",
       "      <td>0.0000</td>\n",
       "      <td>0.0000</td>\n",
       "      <td>0.0000</td>\n",
       "      <td>2.0000</td>\n",
       "      <td>305.0000</td>\n",
       "      <td>4744.0000</td>\n",
       "      <td>22445.0000</td>\n",
       "      <td>29063.0000</td>\n",
       "    </tr>\n",
       "    <tr>\n",
       "      <th>tp</th>\n",
       "      <td>29075.0000</td>\n",
       "      <td>29075.0000</td>\n",
       "      <td>29075.0000</td>\n",
       "      <td>29075.0000</td>\n",
       "      <td>29075.0000</td>\n",
       "      <td>29073.0000</td>\n",
       "      <td>28770.0000</td>\n",
       "      <td>24331.0000</td>\n",
       "      <td>6630.0000</td>\n",
       "      <td>12.0000</td>\n",
       "    </tr>\n",
       "    <tr>\n",
       "      <th>tn_%</th>\n",
       "      <td>0.0000</td>\n",
       "      <td>0.0000</td>\n",
       "      <td>0.0000</td>\n",
       "      <td>0.0000</td>\n",
       "      <td>0.0000</td>\n",
       "      <td>0.0000</td>\n",
       "      <td>1.9000</td>\n",
       "      <td>20.5000</td>\n",
       "      <td>70.1000</td>\n",
       "      <td>83.8000</td>\n",
       "    </tr>\n",
       "    <tr>\n",
       "      <th>fp_%</th>\n",
       "      <td>83.8000</td>\n",
       "      <td>83.8000</td>\n",
       "      <td>83.8000</td>\n",
       "      <td>83.8000</td>\n",
       "      <td>83.8000</td>\n",
       "      <td>83.8000</td>\n",
       "      <td>81.9000</td>\n",
       "      <td>63.3000</td>\n",
       "      <td>13.7000</td>\n",
       "      <td>0.0000</td>\n",
       "    </tr>\n",
       "    <tr>\n",
       "      <th>fn_%</th>\n",
       "      <td>0.0000</td>\n",
       "      <td>0.0000</td>\n",
       "      <td>0.0000</td>\n",
       "      <td>0.0000</td>\n",
       "      <td>0.0000</td>\n",
       "      <td>0.0000</td>\n",
       "      <td>0.2000</td>\n",
       "      <td>2.6000</td>\n",
       "      <td>12.5000</td>\n",
       "      <td>16.2000</td>\n",
       "    </tr>\n",
       "    <tr>\n",
       "      <th>tp_%</th>\n",
       "      <td>16.2000</td>\n",
       "      <td>16.2000</td>\n",
       "      <td>16.2000</td>\n",
       "      <td>16.2000</td>\n",
       "      <td>16.2000</td>\n",
       "      <td>16.2000</td>\n",
       "      <td>16.0000</td>\n",
       "      <td>13.6000</td>\n",
       "      <td>3.7000</td>\n",
       "      <td>0.0000</td>\n",
       "    </tr>\n",
       "    <tr>\n",
       "      <th>Accuracy</th>\n",
       "      <td>0.1621</td>\n",
       "      <td>0.1621</td>\n",
       "      <td>0.1621</td>\n",
       "      <td>0.1621</td>\n",
       "      <td>0.1621</td>\n",
       "      <td>0.1623</td>\n",
       "      <td>0.1796</td>\n",
       "      <td>0.3406</td>\n",
       "      <td>0.7381</td>\n",
       "      <td>0.8377</td>\n",
       "    </tr>\n",
       "    <tr>\n",
       "      <th>Precision</th>\n",
       "      <td>0.1621</td>\n",
       "      <td>0.1621</td>\n",
       "      <td>0.1621</td>\n",
       "      <td>0.1621</td>\n",
       "      <td>0.1621</td>\n",
       "      <td>0.1621</td>\n",
       "      <td>0.1638</td>\n",
       "      <td>0.1765</td>\n",
       "      <td>0.2127</td>\n",
       "      <td>0.1765</td>\n",
       "    </tr>\n",
       "    <tr>\n",
       "      <th>Recall</th>\n",
       "      <td>1.0000</td>\n",
       "      <td>1.0000</td>\n",
       "      <td>1.0000</td>\n",
       "      <td>1.0000</td>\n",
       "      <td>1.0000</td>\n",
       "      <td>0.9999</td>\n",
       "      <td>0.9895</td>\n",
       "      <td>0.8368</td>\n",
       "      <td>0.2280</td>\n",
       "      <td>0.0004</td>\n",
       "    </tr>\n",
       "    <tr>\n",
       "      <th>F1 score</th>\n",
       "      <td>0.2790</td>\n",
       "      <td>0.2790</td>\n",
       "      <td>0.2790</td>\n",
       "      <td>0.2790</td>\n",
       "      <td>0.2790</td>\n",
       "      <td>0.2790</td>\n",
       "      <td>0.2811</td>\n",
       "      <td>0.2915</td>\n",
       "      <td>0.2201</td>\n",
       "      <td>0.0008</td>\n",
       "    </tr>\n",
       "  </tbody>\n",
       "</table>\n",
       "</div>"
      ],
      "text/plain": [
       "                0.0000       0.0222       0.0444       0.0667       0.0889  \\\n",
       "1_real      29075.0000   29075.0000   29075.0000   29075.0000   29075.0000   \n",
       "1_pred     179377.0000  179377.0000  179377.0000  179377.0000  179377.0000   \n",
       "0_real     150302.0000  150302.0000  150302.0000  150302.0000  150302.0000   \n",
       "0_pred          0.0000       0.0000       0.0000       0.0000       0.0000   \n",
       "tn              0.0000       0.0000       0.0000       0.0000       0.0000   \n",
       "fp         150302.0000  150302.0000  150302.0000  150302.0000  150302.0000   \n",
       "fn              0.0000       0.0000       0.0000       0.0000       0.0000   \n",
       "tp          29075.0000   29075.0000   29075.0000   29075.0000   29075.0000   \n",
       "tn_%            0.0000       0.0000       0.0000       0.0000       0.0000   \n",
       "fp_%           83.8000      83.8000      83.8000      83.8000      83.8000   \n",
       "fn_%            0.0000       0.0000       0.0000       0.0000       0.0000   \n",
       "tp_%           16.2000      16.2000      16.2000      16.2000      16.2000   \n",
       "Accuracy        0.1621       0.1621       0.1621       0.1621       0.1621   \n",
       "Precision       0.1621       0.1621       0.1621       0.1621       0.1621   \n",
       "Recall          1.0000       1.0000       1.0000       1.0000       1.0000   \n",
       "F1 score        0.2790       0.2790       0.2790       0.2790       0.2790   \n",
       "\n",
       "                0.1111       0.1333       0.1556       0.1778       0.2000  \n",
       "1_real      29075.0000   29075.0000   29075.0000   29075.0000   29075.0000  \n",
       "1_pred     179339.0000  175628.0000  137863.0000   31164.0000      68.0000  \n",
       "0_real     150302.0000  150302.0000  150302.0000  150302.0000  150302.0000  \n",
       "0_pred         38.0000    3749.0000   41514.0000  148213.0000  179309.0000  \n",
       "tn             36.0000    3444.0000   36770.0000  125768.0000  150246.0000  \n",
       "fp         150266.0000  146858.0000  113532.0000   24534.0000      56.0000  \n",
       "fn              2.0000     305.0000    4744.0000   22445.0000   29063.0000  \n",
       "tp          29073.0000   28770.0000   24331.0000    6630.0000      12.0000  \n",
       "tn_%            0.0000       1.9000      20.5000      70.1000      83.8000  \n",
       "fp_%           83.8000      81.9000      63.3000      13.7000       0.0000  \n",
       "fn_%            0.0000       0.2000       2.6000      12.5000      16.2000  \n",
       "tp_%           16.2000      16.0000      13.6000       3.7000       0.0000  \n",
       "Accuracy        0.1623       0.1796       0.3406       0.7381       0.8377  \n",
       "Precision       0.1621       0.1638       0.1765       0.2127       0.1765  \n",
       "Recall          0.9999       0.9895       0.8368       0.2280       0.0004  \n",
       "F1 score        0.2790       0.2811       0.2915       0.2201       0.0008  "
      ]
     },
     "execution_count": 51,
     "metadata": {},
     "output_type": "execute_result"
    }
   ],
   "source": [
    "threshold_func(y_val, y_val_pred_proba, threshold_list)"
   ]
  },
  {
   "cell_type": "markdown",
   "metadata": {
    "id": "7671dfe9"
   },
   "source": [
    "Threshold에 따른 목적함수 값 비교"
   ]
  },
  {
   "cell_type": "code",
   "execution_count": null,
   "metadata": {
    "id": "b11d3bf4"
   },
   "outputs": [],
   "source": [
    "OPT_threshold = None\n",
    "OPT_expected_loss = None\n",
    "\n",
    "def objective_func(y_pred_proba, threshold_list):\n",
    "    \n",
    "        result_df = pd.DataFrame(index=['1-TPR','FPR','w1_1-TPR','w2_FPR','Expected_loss'])\n",
    "        \n",
    "        expected_loss_list = []\n",
    "        \n",
    "        for i in range(len(threshold_list)):\n",
    "            \n",
    "            threshold = threshold_list[i]\n",
    "            \n",
    "            # make Binarizer(y hat)\n",
    "            binarizer = Binarizer(threshold = threshold).fit(y_pred_proba[:,1].reshape(-1,1))\n",
    "            custom_predict = binarizer.transform(y_pred_proba[:,1].reshape(-1,1))\n",
    "\n",
    "            tn, fp, fn, tp = confusion_matrix(y_val, custom_predict).ravel()\n",
    "            count = [tn, fp, fn, tp]\n",
    "            \n",
    "            tpr_1 = fn / (fn + tp)\n",
    "            fpr = fp / (fp + tn)\n",
    "            w1 = 0.55\n",
    "            w2 = 0.45\n",
    "            \n",
    "            expected_loss = w1 * tpr_1 + w2 * fpr\n",
    "            \n",
    "            expected_loss_list.append(expected_loss)\n",
    "            \n",
    "            threshold_tag = round(threshold_list[i], 4)\n",
    "        \n",
    "            result_df[threshold_tag] = [tpr_1, fpr, w1*tpr_1, w2*fpr, expected_loss]\n",
    "            \n",
    "            if i == 0:\n",
    "                opt_threshold = threshold\n",
    "                opt_expected_loss = expected_loss\n",
    "            else:\n",
    "                if opt_expected_loss > expected_loss:\n",
    "                    opt_threshold = threshold\n",
    "                    opt_expected_loss = expected_loss\n",
    "                    \n",
    "#         expected_loss_list = [round(x, 1) for x in expected_loss_list]\n",
    "\n",
    "        print(opt_threshold)\n",
    "        print(opt_expected_loss)\n",
    "        \n",
    "        plt.plot(threshold_list, expected_loss_list)\n",
    "        plt.scatter(threshold_list, expected_loss_list)\n",
    "        \n",
    "        plt.xlabel('Threshold')\n",
    "        plt.ylabel('Expected_Loss')\n",
    "        plt.title('Expected Loss of Thresholds of %s'%(model_name))\n",
    "\n",
    "        plt.savefig(\"%s_expected_loss_%s.png\"%(model_name, datetime.datetime.now().strftime(\"%m%d%H%M%S\")), dpi=300, bbox_inches='tight')\n",
    "        \n",
    "        plt.show()\n",
    "        \n",
    "        global OPT_threshold\n",
    "        OPT_threshold = opt_threshold\n",
    "        global OPT_expected_loss\n",
    "        OPT_expected_loss = opt_expected_loss\n",
    "        \n",
    "        result_df.to_csv('%s_expected_loss_%s.csv'%(model_name, datetime.datetime.now().strftime(\"%m%d%H%M%S\")), float_format='%.3f', index=True)\n",
    "        \n",
    "        return result_df"
   ]
  },
  {
   "cell_type": "code",
   "execution_count": null,
   "metadata": {
    "colab": {
     "base_uri": "https://localhost:8080/",
     "height": 580
    },
    "id": "b81884da",
    "outputId": "f443e723-49ce-492b-ac6b-8c642aa53cd5",
    "scrolled": false
   },
   "outputs": [
    {
     "name": "stdout",
     "output_type": "stream",
     "text": [
      "0.15555555555555556\n",
      "0.4296519712968146\n"
     ]
    },
    {
     "data": {
      "image/png": "[encoded data removed]",
      "text/plain": [
       "<Figure size 432x288 with 1 Axes>"
      ]
     },
     "metadata": {
      "needs_background": "light"
     },
     "output_type": "display_data"
    },
    {
     "data": {
      "text/html": [
       "<div>\n",
       "<style scoped>\n",
       "    .dataframe tbody tr th:only-of-type {\n",
       "        vertical-align: middle;\n",
       "    }\n",
       "\n",
       "    .dataframe tbody tr th {\n",
       "        vertical-align: top;\n",
       "    }\n",
       "\n",
       "    .dataframe thead th {\n",
       "        text-align: right;\n",
       "    }\n",
       "</style>\n",
       "<table border=\"1\" class=\"dataframe\">\n",
       "  <thead>\n",
       "    <tr style=\"text-align: right;\">\n",
       "      <th></th>\n",
       "      <th>0.0000</th>\n",
       "      <th>0.0222</th>\n",
       "      <th>0.0444</th>\n",
       "      <th>0.0667</th>\n",
       "      <th>0.0889</th>\n",
       "      <th>0.1111</th>\n",
       "      <th>0.1333</th>\n",
       "      <th>0.1556</th>\n",
       "      <th>0.1778</th>\n",
       "      <th>0.2000</th>\n",
       "    </tr>\n",
       "  </thead>\n",
       "  <tbody>\n",
       "    <tr>\n",
       "      <th>1-TPR</th>\n",
       "      <td>0.00</td>\n",
       "      <td>0.00</td>\n",
       "      <td>0.00</td>\n",
       "      <td>0.00</td>\n",
       "      <td>0.00</td>\n",
       "      <td>0.000069</td>\n",
       "      <td>0.010490</td>\n",
       "      <td>0.163164</td>\n",
       "      <td>0.771969</td>\n",
       "      <td>0.999587</td>\n",
       "    </tr>\n",
       "    <tr>\n",
       "      <th>FPR</th>\n",
       "      <td>1.00</td>\n",
       "      <td>1.00</td>\n",
       "      <td>1.00</td>\n",
       "      <td>1.00</td>\n",
       "      <td>1.00</td>\n",
       "      <td>0.999760</td>\n",
       "      <td>0.977086</td>\n",
       "      <td>0.755359</td>\n",
       "      <td>0.163231</td>\n",
       "      <td>0.000373</td>\n",
       "    </tr>\n",
       "    <tr>\n",
       "      <th>w1_1-TPR</th>\n",
       "      <td>0.00</td>\n",
       "      <td>0.00</td>\n",
       "      <td>0.00</td>\n",
       "      <td>0.00</td>\n",
       "      <td>0.00</td>\n",
       "      <td>0.000038</td>\n",
       "      <td>0.005770</td>\n",
       "      <td>0.089740</td>\n",
       "      <td>0.424583</td>\n",
       "      <td>0.549773</td>\n",
       "    </tr>\n",
       "    <tr>\n",
       "      <th>w2_FPR</th>\n",
       "      <td>0.45</td>\n",
       "      <td>0.45</td>\n",
       "      <td>0.45</td>\n",
       "      <td>0.45</td>\n",
       "      <td>0.45</td>\n",
       "      <td>0.449892</td>\n",
       "      <td>0.439689</td>\n",
       "      <td>0.339912</td>\n",
       "      <td>0.073454</td>\n",
       "      <td>0.000168</td>\n",
       "    </tr>\n",
       "    <tr>\n",
       "      <th>Expected_loss</th>\n",
       "      <td>0.45</td>\n",
       "      <td>0.45</td>\n",
       "      <td>0.45</td>\n",
       "      <td>0.45</td>\n",
       "      <td>0.45</td>\n",
       "      <td>0.449930</td>\n",
       "      <td>0.445458</td>\n",
       "      <td>0.429652</td>\n",
       "      <td>0.498037</td>\n",
       "      <td>0.549941</td>\n",
       "    </tr>\n",
       "  </tbody>\n",
       "</table>\n",
       "</div>"
      ],
      "text/plain": [
       "               0.0000  0.0222  0.0444  0.0667  0.0889    0.1111    0.1333  \\\n",
       "1-TPR            0.00    0.00    0.00    0.00    0.00  0.000069  0.010490   \n",
       "FPR              1.00    1.00    1.00    1.00    1.00  0.999760  0.977086   \n",
       "w1_1-TPR         0.00    0.00    0.00    0.00    0.00  0.000038  0.005770   \n",
       "w2_FPR           0.45    0.45    0.45    0.45    0.45  0.449892  0.439689   \n",
       "Expected_loss    0.45    0.45    0.45    0.45    0.45  0.449930  0.445458   \n",
       "\n",
       "                 0.1556    0.1778    0.2000  \n",
       "1-TPR          0.163164  0.771969  0.999587  \n",
       "FPR            0.755359  0.163231  0.000373  \n",
       "w1_1-TPR       0.089740  0.424583  0.549773  \n",
       "w2_FPR         0.339912  0.073454  0.000168  \n",
       "Expected_loss  0.429652  0.498037  0.549941  "
      ]
     },
     "execution_count": 36,
     "metadata": {},
     "output_type": "execute_result"
    }
   ],
   "source": [
    "objective_func(y_val_pred_proba, threshold_list)\n",
    "\n",
    "# 더 세밀한 범위에서 optimal threshold를 잡고싶으면 한 번 더 다시 실행"
   ]
  },
  {
   "cell_type": "code",
   "execution_count": null,
   "metadata": {
    "colab": {
     "base_uri": "https://localhost:8080/"
    },
    "id": "6fdA_X6KMRAy",
    "outputId": "d7b7ec5c-ff77-4c09-ca29-8a27cdfbe797"
   },
   "outputs": [
    {
     "data": {
      "text/plain": [
       "0.15555555555555556"
      ]
     },
     "execution_count": 37,
     "metadata": {},
     "output_type": "execute_result"
    }
   ],
   "source": [
    "OPT_threshold"
   ]
  },
  {
   "cell_type": "markdown",
   "metadata": {
    "id": "192146f2"
   },
   "source": [
    "histogram에 optimal threshold 표시"
   ]
  },
  {
   "cell_type": "code",
   "execution_count": null,
   "metadata": {
    "colab": {
     "base_uri": "https://localhost:8080/",
     "height": 296
    },
    "id": "7487f311",
    "outputId": "de6f095b-e8db-4d03-849e-480f1d5957bd"
   },
   "outputs": [
    {
     "data": {
      "image/png": "[encoded data removed]",
      "text/plain": [
       "<Figure size 432x288 with 1 Axes>"
      ]
     },
     "metadata": {
      "needs_background": "light"
     },
     "output_type": "display_data"
    }
   ],
   "source": [
    "plt.hist(y_val_pred_proba[:,1], bins=100)\n",
    "\n",
    "plt.axvline(x=OPT_threshold, color='navy', linewidth=5, label='Optimal Threshold')\n",
    "\n",
    "plt.xlabel('y_val_pred_proba')\n",
    "plt.ylabel('Frequency')\n",
    "plt.title('Optimal Threshold of %s'%(model_name))\n",
    "plt.legend()\n",
    "\n",
    "plt.savefig(\"%s_opt_threshold_%s.png\"%(model_name, datetime.datetime.now().strftime(\"%m%d%H%M%S\")), dpi=300, bbox_inches='tight')\n",
    "\n",
    "plt.show() # y_val_pred_proba의 분포 확인"
   ]
  },
  {
   "cell_type": "markdown",
   "metadata": {
    "id": "uZLiDcmKMa3F"
   },
   "source": [
    "# Test "
   ]
  },
  {
   "cell_type": "markdown",
   "metadata": {
    "id": "IHeeYKObMa3F"
   },
   "source": [
    "### X_test fitting"
   ]
  },
  {
   "cell_type": "code",
   "execution_count": null,
   "metadata": {
    "colab": {
     "base_uri": "https://localhost:8080/",
     "height": 296
    },
    "id": "d-Ka2y_CMa3G",
    "outputId": "0c915cf3-2ffc-4e90-f177-5e4aff519b49"
   },
   "outputs": [
    {
     "data": {
      "image/png": "[encoded data removed]",
      "text/plain": [
       "<Figure size 432x288 with 1 Axes>"
      ]
     },
     "metadata": {
      "needs_background": "light"
     },
     "output_type": "display_data"
    }
   ],
   "source": [
    "# Predict probabilities for new data\n",
    "y_test_pred_proba = best_estimator.predict_proba(X_test) # 확률로 추정된 X_test의 y_pred\n",
    "\n",
    "plt.hist(y_test_pred_proba[:,1], bins=100)\n",
    "\n",
    "plt.xlabel('y_test_pred_proba')\n",
    "plt.ylabel('Frequency')\n",
    "plt.title('Frequency of y_test_pred_proba of %s'%(model_name))\n",
    "\n",
    "plt.savefig(\"%s_test_pre_proba_%s.png\"%(model_name, datetime.datetime.now().strftime(\"%m%d%H%M%S\")), dpi=300, bbox_inches='tight')\n",
    "\n",
    "plt.show() # y_test_pred_proba의 분포 확인"
   ]
  },
  {
   "cell_type": "markdown",
   "metadata": {
    "id": "sY7XQYzVMa3G"
   },
   "source": [
    "### 0, 1 count / confusion_matrix / accuracy, precision, recall, f1 score "
   ]
  },
  {
   "cell_type": "code",
   "execution_count": null,
   "metadata": {
    "id": "Iv1Bzx9gMa3H"
   },
   "outputs": [],
   "source": [
    "def test_func(y_test, y_pred_proba, opt_threshold):\n",
    "        \n",
    "    # make Binarizer(y hat)\n",
    "    binarizer = Binarizer(threshold = opt_threshold).fit(y_pred_proba[:,1].reshape(-1,1))\n",
    "    custom_predict = binarizer.transform(y_pred_proba[:,1].reshape(-1,1))\n",
    "\n",
    "    # count 0, 1 in Binarizer(y hat)\n",
    "    unique, counts = np.unique(custom_predict, return_counts=True)\n",
    "\n",
    "    for val, count in zip(unique, counts):\n",
    "        if len(unique) == 1:\n",
    "            if val == 1.0:\n",
    "                num_0_pred = count\n",
    "                num_1_pred = 0\n",
    "            elif val == 0.0:\n",
    "                num_1_pred = count\n",
    "                num_0_pred = 0\n",
    "        if val == 1.0:\n",
    "            num_0_pred = count\n",
    "        elif val == 0.0:\n",
    "            num_1_pred = count\n",
    "\n",
    "    # count 0, 1 in y hat\n",
    "    num_1_real = y_test.value_counts()[0]\n",
    "    num_0_real = y_test.value_counts()[1]\n",
    "\n",
    "    tn, fp, fn, tp = confusion_matrix(y_test, custom_predict).ravel()\n",
    "    count = [tn, fp, fn, tp]\n",
    "    tn_, fp_, fn_, tp_ = [round(x/sum(count)*100, 1) for x in count]\n",
    "\n",
    "    accuracy = round((tp+tn)/(tp+tn+fp+fn),4)\n",
    "    precision = round(tp/(tp+fp),4)\n",
    "    recall = round(tp/(tp+fn),4)\n",
    "    f1 = round(2*(precision*recall)/(precision+recall),4)\n",
    "    \n",
    "    result_df = pd.DataFrame(index=['1_real','1_pred','0_real','0_pred','tn', 'fp', 'fn', 'tp', 'tn_%', 'fp_%', 'fn_%', 'tp_%', 'Accuracy', 'Precision', 'Recall', 'F1 score'])\n",
    "\n",
    "    result_df['result'] = [num_1_real, num_1_pred, num_0_real, num_0_pred, tn, fp, fn, tp, tn_, fp_, fn_, tp_, accuracy, precision, recall, f1]\n",
    "\n",
    "    labels = ['TN','FP','FN','TP']\n",
    "\n",
    "\n",
    "    # 혼동 행렬 시각화\n",
    "    labels = ['Positive', 'Negative']\n",
    "    cm = [[tp, fn], [fp, tn]]\n",
    "\n",
    "    ax = plt.subplot()\n",
    "    sns.heatmap(cm, annot=True, ax=ax, fmt='g', cmap='Blues')\n",
    "    ax.set_xlabel('Predicted Class')\n",
    "    ax.set_ylabel('Acutual Class')\n",
    "    ax.set_xticklabels(labels)\n",
    "    ax.set_yticklabels(labels)\n",
    "    ax.set_title('%s Confusion Matrix'%(model_name))\n",
    "    \n",
    "    ax.text(0.45, 1.40, 'FP', fontsize=12, color='red')\n",
    "    ax.text(1.45, 1.40, 'TN', fontsize=12, color='red')\n",
    "    ax.text(0.45, 0.40, 'TP', fontsize=12, color='red')\n",
    "    ax.text(1.45, 0.40, 'FN', fontsize=12, color='red')\n",
    "    \n",
    "    plt.savefig(\"%s_Confusion_Matrix_%s.png\"%(model_name, datetime.datetime.now().strftime(\"%m%d%H%M%S\")), dpi=300, bbox_inches='tight')\n",
    "    plt.show()\n",
    "    \n",
    "    result_df.T.to_csv('%s_test.csv'%(model_name), index=True)\n",
    "\n",
    "    return result_df.T"
   ]
  },
  {
   "cell_type": "code",
   "execution_count": null,
   "metadata": {
    "colab": {
     "base_uri": "https://localhost:8080/",
     "height": 439
    },
    "id": "KLv6EHjBMa3I",
    "outputId": "e19c1d5e-0ad8-4271-a956-646981e12063",
    "scrolled": true
   },
   "outputs": [
    {
     "data": {
      "image/png": "[encoded data removed]",
      "text/plain": [
       "<Figure size 432x288 with 2 Axes>"
      ]
     },
     "metadata": {
      "needs_background": "light"
     },
     "output_type": "display_data"
    },
    {
     "data": {
      "text/html": [
       "<div>\n",
       "<style scoped>\n",
       "    .dataframe tbody tr th:only-of-type {\n",
       "        vertical-align: middle;\n",
       "    }\n",
       "\n",
       "    .dataframe tbody tr th {\n",
       "        vertical-align: top;\n",
       "    }\n",
       "\n",
       "    .dataframe thead th {\n",
       "        text-align: right;\n",
       "    }\n",
       "</style>\n",
       "<table border=\"1\" class=\"dataframe\">\n",
       "  <thead>\n",
       "    <tr style=\"text-align: right;\">\n",
       "      <th></th>\n",
       "      <th>1_real</th>\n",
       "      <th>1_pred</th>\n",
       "      <th>0_real</th>\n",
       "      <th>0_pred</th>\n",
       "      <th>tn</th>\n",
       "      <th>fp</th>\n",
       "      <th>fn</th>\n",
       "      <th>tp</th>\n",
       "      <th>tn_%</th>\n",
       "      <th>fp_%</th>\n",
       "      <th>fn_%</th>\n",
       "      <th>tp_%</th>\n",
       "      <th>Accuracy</th>\n",
       "      <th>Precision</th>\n",
       "      <th>Recall</th>\n",
       "      <th>F1 score</th>\n",
       "    </tr>\n",
       "  </thead>\n",
       "  <tbody>\n",
       "    <tr>\n",
       "      <th>result</th>\n",
       "      <td>150303.0</td>\n",
       "      <td>38962.0</td>\n",
       "      <td>29075.0</td>\n",
       "      <td>140416.0</td>\n",
       "      <td>34277.0</td>\n",
       "      <td>116026.0</td>\n",
       "      <td>4685.0</td>\n",
       "      <td>24390.0</td>\n",
       "      <td>19.1</td>\n",
       "      <td>64.7</td>\n",
       "      <td>2.6</td>\n",
       "      <td>13.6</td>\n",
       "      <td>0.3271</td>\n",
       "      <td>0.1737</td>\n",
       "      <td>0.8389</td>\n",
       "      <td>0.2878</td>\n",
       "    </tr>\n",
       "  </tbody>\n",
       "</table>\n",
       "</div>"
      ],
      "text/plain": [
       "          1_real   1_pred   0_real    0_pred       tn        fp      fn  \\\n",
       "result  150303.0  38962.0  29075.0  140416.0  34277.0  116026.0  4685.0   \n",
       "\n",
       "             tp  tn_%  fp_%  fn_%  tp_%  Accuracy  Precision  Recall  F1 score  \n",
       "result  24390.0  19.1  64.7   2.6  13.6    0.3271     0.1737  0.8389    0.2878  "
      ]
     },
     "execution_count": 41,
     "metadata": {},
     "output_type": "execute_result"
    }
   ],
   "source": [
    "test_func(y_test, y_test_pred_proba, OPT_threshold)"
   ]
  },
  {
   "cell_type": "markdown",
   "metadata": {
    "id": "3a38f1e8"
   },
   "source": [
    "### Objective Function"
   ]
  },
  {
   "cell_type": "code",
   "execution_count": null,
   "metadata": {
    "id": "a083d94f"
   },
   "outputs": [],
   "source": []
  },
  {
   "cell_type": "code",
   "execution_count": null,
   "metadata": {
    "id": "d276de91"
   },
   "outputs": [],
   "source": [
    "def test_objective_func(y_test, y_pred_proba, threshold):\n",
    "    \n",
    "        result_df = pd.DataFrame(index=['1-TPR','FPR','w1_1-TPR','w2_FPR','Expected_loss'])\n",
    "            \n",
    "        # make Binarizer(y hat)\n",
    "        binarizer = Binarizer(threshold = threshold).fit(y_pred_proba[:,1].reshape(-1,1))\n",
    "        custom_predict = binarizer.transform(y_pred_proba[:,1].reshape(-1,1))\n",
    "\n",
    "        tn, fp, fn, tp = confusion_matrix(y_test, custom_predict).ravel()\n",
    "        count = [tn, fp, fn, tp]\n",
    "\n",
    "        tpr_1 = fn / (fn + tp)\n",
    "        fpr = fp / (fp + tn)\n",
    "        w1 = 0.55\n",
    "        w2 = 0.45\n",
    "\n",
    "        expected_loss = w1 * tpr_1 + w2 * fpr\n",
    "\n",
    "        result_df[threshold] = [tpr_1, fpr, w1*tpr_1, w2*fpr, expected_loss]\n",
    "\n",
    "        print(expected_loss)\n",
    "        \n",
    "        result_df.T.to_csv('%s_test_expected_loss_%s.csv'%(model_name, datetime.datetime.now().strftime(\"%m%d%H%M%S\")), float_format='%.6f', index=True)\n",
    "        \n",
    "        return result_df"
   ]
  },
  {
   "cell_type": "code",
   "execution_count": null,
   "metadata": {
    "colab": {
     "base_uri": "https://localhost:8080/",
     "height": 221
    },
    "id": "03b0c322",
    "outputId": "9dc20ac0-42d4-4869-8787-c37665b61fc4"
   },
   "outputs": [
    {
     "name": "stdout",
     "output_type": "stream",
     "text": [
      "0.4360005475096797\n"
     ]
    },
    {
     "data": {
      "text/html": [
       "<div>\n",
       "<style scoped>\n",
       "    .dataframe tbody tr th:only-of-type {\n",
       "        vertical-align: middle;\n",
       "    }\n",
       "\n",
       "    .dataframe tbody tr th {\n",
       "        vertical-align: top;\n",
       "    }\n",
       "\n",
       "    .dataframe thead th {\n",
       "        text-align: right;\n",
       "    }\n",
       "</style>\n",
       "<table border=\"1\" class=\"dataframe\">\n",
       "  <thead>\n",
       "    <tr style=\"text-align: right;\">\n",
       "      <th></th>\n",
       "      <th>0.155556</th>\n",
       "    </tr>\n",
       "  </thead>\n",
       "  <tbody>\n",
       "    <tr>\n",
       "      <th>1-TPR</th>\n",
       "      <td>0.161135</td>\n",
       "    </tr>\n",
       "    <tr>\n",
       "      <th>FPR</th>\n",
       "      <td>0.771947</td>\n",
       "    </tr>\n",
       "    <tr>\n",
       "      <th>w1_1-TPR</th>\n",
       "      <td>0.088624</td>\n",
       "    </tr>\n",
       "    <tr>\n",
       "      <th>w2_FPR</th>\n",
       "      <td>0.347376</td>\n",
       "    </tr>\n",
       "    <tr>\n",
       "      <th>Expected_loss</th>\n",
       "      <td>0.436001</td>\n",
       "    </tr>\n",
       "  </tbody>\n",
       "</table>\n",
       "</div>"
      ],
      "text/plain": [
       "               0.155556\n",
       "1-TPR          0.161135\n",
       "FPR            0.771947\n",
       "w1_1-TPR       0.088624\n",
       "w2_FPR         0.347376\n",
       "Expected_loss  0.436001"
      ]
     },
     "execution_count": 43,
     "metadata": {},
     "output_type": "execute_result"
    }
   ],
   "source": [
    "test_objective_func(y_test, y_test_pred_proba, OPT_threshold)"
   ]
  },
  {
   "cell_type": "markdown",
   "metadata": {
    "id": "f52-5WkyMa3J"
   },
   "source": [
    "### ROC curve\n",
    "\n",
    "거짓 양성 비율(FPR, 1-TNR:1-특이도)에 대한 진짜 양성 비율(TPR, 재현율)의 곡선\n",
    "\n",
    "정밀도: positive로 예측한 것 중에 진짜 positive인 것 -> 양성 예측도\n",
    "\n",
    "재현율: 실제 positive 중에 맞춘 것 -> 민감도"
   ]
  },
  {
   "cell_type": "code",
   "execution_count": null,
   "metadata": {
    "colab": {
     "base_uri": "https://localhost:8080/",
     "height": 295
    },
    "id": "Dr4b8afLMa3J",
    "outputId": "09a888a5-7629-4c6b-b558-1446f8a6d6f2"
   },
   "outputs": [
    {
     "data": {
      "image/png": "[encoded data removed]",
      "text/plain": [
       "<Figure size 432x288 with 1 Axes>"
      ]
     },
     "metadata": {
      "needs_background": "light"
     },
     "output_type": "display_data"
    }
   ],
   "source": [
    "# Generate ROC curve and AUC score for the test set\n",
    "fpr, tpr, thresholds = roc_curve(y_test, y_test_pred_proba[:,1])\n",
    "roc_auc = auc(fpr, tpr)\n",
    "\n",
    "# Plot the ROC curve\n",
    "plt.plot(fpr, tpr, lw=1, label='ROC (AUC = %0.2f)' % roc_auc)\n",
    "plt.plot([0, 1], [0, 1], '--', color='gray', lw=1, label='Random')\n",
    "plt.xlim([0, 1])\n",
    "plt.ylim([0, 1])\n",
    "plt.xlabel('False Positive Rate')\n",
    "plt.ylabel('True Positive Rate')\n",
    "plt.title('%s_ROC_curve'%(model_name))\n",
    "plt.legend(loc='lower right')\n",
    "\n",
    "plt.savefig(\"%s_ROC_curve_%s.png\"%(model_name, datetime.datetime.now().strftime(\"%m%d%H%M%S\")), dpi=300, bbox_inches='tight')\n",
    "plt.show()"
   ]
  },
  {
   "cell_type": "code",
   "execution_count": null,
   "metadata": {
    "id": "93a14933"
   },
   "outputs": [],
   "source": []
  },
  {
   "cell_type": "code",
   "execution_count": null,
   "metadata": {
    "id": "hH2gs8B-WdOJ"
   },
   "outputs": [],
   "source": []
  }
 ],
 "metadata": {
  "colab": {
   "provenance": []
  },
  "kernelspec": {
   "display_name": "Python 3 (ipykernel)",
   "language": "python",
   "name": "python3"
  },
  "language_info": {
   "codemirror_mode": {
    "name": "ipython",
    "version": 3
   },
   "file_extension": ".py",
   "mimetype": "text/x-python",
   "name": "python",
   "nbconvert_exporter": "python",
   "pygments_lexer": "ipython3",
   "version": "3.11.3"
  }
 },
 "nbformat": 4,
 "nbformat_minor": 1
}
