{
 "cells": [
  {
   "cell_type": "markdown",
   "id": "a358035a",
   "metadata": {
    "id": "a358035a"
   },
   "source": [
    "# LinearRegression\n"
   ]
  },
  {
   "cell_type": "markdown",
   "id": "d79dbb6f",
   "metadata": {
    "id": "d79dbb6f"
   },
   "source": [
    "## Module import"
   ]
  },
  {
   "cell_type": "code",
   "execution_count": 1,
   "id": "96ee6df0",
   "metadata": {
    "executionInfo": {
     "elapsed": 319,
     "status": "ok",
     "timestamp": 1678970511803,
     "user": {
      "displayName": "조민정",
      "userId": "09786996135651143212"
     },
     "user_tz": -540
    },
    "id": "96ee6df0"
   },
   "outputs": [],
   "source": [
    "from sklearn.linear_model import LinearRegression\n",
    "from sklearn.model_selection import train_test_split,KFold\n",
    "from sklearn.preprocessing import StandardScaler\n",
    "from sklearn.metrics import make_scorer, confusion_matrix, roc_curve, auc, f1_score, accuracy_score, precision_score, recall_score, log_loss\n",
    "from sklearn.preprocessing import StandardScaler, Binarizer\n",
    "import matplotlib.pyplot as plt\n",
    "import numpy as np\n",
    "import pandas as pd\n",
    "import seaborn as sns"
   ]
  },
  {
   "cell_type": "code",
   "execution_count": 10,
   "id": "11fa6e40",
   "metadata": {
    "executionInfo": {
     "elapsed": 32817,
     "status": "ok",
     "timestamp": 1677526358239,
     "user": {
      "displayName": "황선경",
      "userId": "17888974404389374352"
     },
     "user_tz": -540
    },
    "id": "60b80511"
   },
   "outputs": [],
   "source": [
    "train = pd.read_csv('../dataset_processed/train_538132.csv')\n",
    "val = pd.read_csv('../dataset_processed/validation_179377.csv')\n",
    "test = pd.read_csv('../dataset_processed/test_179378.csv')"
   ]
  },
  {
   "cell_type": "code",
   "execution_count": null,
   "id": "ee948f76",
   "metadata": {},
   "outputs": [],
   "source": [
    "X_train = train.drop('depvar', axis=1)\n",
    "y_train = train['depvar']\n",
    "\n",
    "X_val = val.drop('depvar', axis=1)\n",
    "y_val = val['depvar']\n",
    "\n",
    "X_test = test.drop('depvar', axis=1)\n",
    "y_test = test['depvar']"
   ]
  },
  {
   "cell_type": "code",
   "execution_count": 5,
   "id": "c6a234bc",
   "metadata": {
    "colab": {
     "base_uri": "https://localhost:8080/"
    },
    "executionInfo": {
     "elapsed": 2,
     "status": "ok",
     "timestamp": 1678970304287,
     "user": {
      "displayName": "조민정",
      "userId": "09786996135651143212"
     },
     "user_tz": -540
    },
    "id": "c6a234bc",
    "outputId": "d212007c-856d-4053-be5b-d9ef0a205eaf"
   },
   "outputs": [
    {
     "name": "stdout",
     "output_type": "stream",
     "text": [
      "(538132, 87) (179378, 87) (179377, 87)\n",
      "(538132,) (179378,) (179377,)\n"
     ]
    }
   ],
   "source": [
    "print(X_train.shape,X_test.shape,X_valid.shape)\n",
    "print(y_train.shape,y_test.shape,y_valid.shape)"
   ]
  },
  {
   "cell_type": "markdown",
   "id": "66ef7437",
   "metadata": {
    "id": "66ef7437"
   },
   "source": [
    "## Model"
   ]
  },
  {
   "cell_type": "code",
   "execution_count": 6,
   "id": "28fb1f05",
   "metadata": {
    "colab": {
     "base_uri": "https://localhost:8080/",
     "height": 75
    },
    "executionInfo": {
     "elapsed": 8423,
     "status": "ok",
     "timestamp": 1678970314608,
     "user": {
      "displayName": "조민정",
      "userId": "09786996135651143212"
     },
     "user_tz": -540
    },
    "id": "28fb1f05",
    "outputId": "380084e4-3f6d-4c8b-e4a4-236a25aea8b5"
   },
   "outputs": [
    {
     "data": {
      "text/html": [
       "<style>#sk-container-id-1 {color: black;background-color: white;}#sk-container-id-1 pre{padding: 0;}#sk-container-id-1 div.sk-toggleable {background-color: white;}#sk-container-id-1 label.sk-toggleable__label {cursor: pointer;display: block;width: 100%;margin-bottom: 0;padding: 0.3em;box-sizing: border-box;text-align: center;}#sk-container-id-1 label.sk-toggleable__label-arrow:before {content: \"▸\";float: left;margin-right: 0.25em;color: #696969;}#sk-container-id-1 label.sk-toggleable__label-arrow:hover:before {color: black;}#sk-container-id-1 div.sk-estimator:hover label.sk-toggleable__label-arrow:before {color: black;}#sk-container-id-1 div.sk-toggleable__content {max-height: 0;max-width: 0;overflow: hidden;text-align: left;background-color: #f0f8ff;}#sk-container-id-1 div.sk-toggleable__content pre {margin: 0.2em;color: black;border-radius: 0.25em;background-color: #f0f8ff;}#sk-container-id-1 input.sk-toggleable__control:checked~div.sk-toggleable__content {max-height: 200px;max-width: 100%;overflow: auto;}#sk-container-id-1 input.sk-toggleable__control:checked~label.sk-toggleable__label-arrow:before {content: \"▾\";}#sk-container-id-1 div.sk-estimator input.sk-toggleable__control:checked~label.sk-toggleable__label {background-color: #d4ebff;}#sk-container-id-1 div.sk-label input.sk-toggleable__control:checked~label.sk-toggleable__label {background-color: #d4ebff;}#sk-container-id-1 input.sk-hidden--visually {border: 0;clip: rect(1px 1px 1px 1px);clip: rect(1px, 1px, 1px, 1px);height: 1px;margin: -1px;overflow: hidden;padding: 0;position: absolute;width: 1px;}#sk-container-id-1 div.sk-estimator {font-family: monospace;background-color: #f0f8ff;border: 1px dotted black;border-radius: 0.25em;box-sizing: border-box;margin-bottom: 0.5em;}#sk-container-id-1 div.sk-estimator:hover {background-color: #d4ebff;}#sk-container-id-1 div.sk-parallel-item::after {content: \"\";width: 100%;border-bottom: 1px solid gray;flex-grow: 1;}#sk-container-id-1 div.sk-label:hover label.sk-toggleable__label {background-color: #d4ebff;}#sk-container-id-1 div.sk-serial::before {content: \"\";position: absolute;border-left: 1px solid gray;box-sizing: border-box;top: 0;bottom: 0;left: 50%;z-index: 0;}#sk-container-id-1 div.sk-serial {display: flex;flex-direction: column;align-items: center;background-color: white;padding-right: 0.2em;padding-left: 0.2em;position: relative;}#sk-container-id-1 div.sk-item {position: relative;z-index: 1;}#sk-container-id-1 div.sk-parallel {display: flex;align-items: stretch;justify-content: center;background-color: white;position: relative;}#sk-container-id-1 div.sk-item::before, #sk-container-id-1 div.sk-parallel-item::before {content: \"\";position: absolute;border-left: 1px solid gray;box-sizing: border-box;top: 0;bottom: 0;left: 50%;z-index: -1;}#sk-container-id-1 div.sk-parallel-item {display: flex;flex-direction: column;z-index: 1;position: relative;background-color: white;}#sk-container-id-1 div.sk-parallel-item:first-child::after {align-self: flex-end;width: 50%;}#sk-container-id-1 div.sk-parallel-item:last-child::after {align-self: flex-start;width: 50%;}#sk-container-id-1 div.sk-parallel-item:only-child::after {width: 0;}#sk-container-id-1 div.sk-dashed-wrapped {border: 1px dashed gray;margin: 0 0.4em 0.5em 0.4em;box-sizing: border-box;padding-bottom: 0.4em;background-color: white;}#sk-container-id-1 div.sk-label label {font-family: monospace;font-weight: bold;display: inline-block;line-height: 1.2em;}#sk-container-id-1 div.sk-label-container {text-align: center;}#sk-container-id-1 div.sk-container {/* jupyter's `normalize.less` sets `[hidden] { display: none; }` but bootstrap.min.css set `[hidden] { display: none !important; }` so we also need the `!important` here to be able to override the default hidden behavior on the sphinx rendered scikit-learn.org. See: https://github.com/scikit-learn/scikit-learn/issues/21755 */display: inline-block !important;position: relative;}#sk-container-id-1 div.sk-text-repr-fallback {display: none;}</style><div id=\"sk-container-id-1\" class=\"sk-top-container\"><div class=\"sk-text-repr-fallback\"><pre>LinearRegression()</pre><b>In a Jupyter environment, please rerun this cell to show the HTML representation or trust the notebook. <br />On GitHub, the HTML representation is unable to render, please try loading this page with nbviewer.org.</b></div><div class=\"sk-container\" hidden><div class=\"sk-item\"><div class=\"sk-estimator sk-toggleable\"><input class=\"sk-toggleable__control sk-hidden--visually\" id=\"sk-estimator-id-1\" type=\"checkbox\" checked><label for=\"sk-estimator-id-1\" class=\"sk-toggleable__label sk-toggleable__label-arrow\">LinearRegression</label><div class=\"sk-toggleable__content\"><pre>LinearRegression()</pre></div></div></div></div></div>"
      ],
      "text/plain": [
       "LinearRegression()"
      ]
     },
     "execution_count": 6,
     "metadata": {},
     "output_type": "execute_result"
    }
   ],
   "source": [
    "ln_reg = LinearRegression()\n",
    "ln_reg.fit(X_train,y_train)"
   ]
  },
  {
   "cell_type": "code",
   "execution_count": 7,
   "id": "52996b5e",
   "metadata": {
    "executionInfo": {
     "elapsed": 3,
     "status": "ok",
     "timestamp": 1678970316428,
     "user": {
      "displayName": "조민정",
      "userId": "09786996135651143212"
     },
     "user_tz": -540
    },
    "id": "52996b5e"
   },
   "outputs": [],
   "source": [
    "X_columns = ['home_ownership1', 'home_ownership2', 'home_ownership3',\n",
    "       'home_ownership4', 'home_ownership5', 'verification_status1',\n",
    "       'verification_status2', 'addr_state1', 'addr_state2', 'addr_state3',\n",
    "       'addr_state4', 'addr_state5', 'addr_state6', 'addr_state7',\n",
    "       'addr_state8', 'addr_state9', 'addr_state10', 'addr_state11',\n",
    "       'addr_state12', 'addr_state13', 'addr_state14', 'addr_state15',\n",
    "       'addr_state16', 'addr_state17', 'addr_state18', 'addr_state19',\n",
    "       'addr_state20', 'addr_state21', 'addr_state22', 'addr_state23',\n",
    "       'addr_state24', 'addr_state25', 'addr_state26', 'addr_state27',\n",
    "       'addr_state28', 'addr_state29', 'addr_state30', 'addr_state31',\n",
    "       'addr_state32', 'addr_state33', 'addr_state34', 'addr_state35',\n",
    "       'addr_state36', 'addr_state37', 'addr_state38', 'addr_state39',\n",
    "       'addr_state40', 'addr_state41', 'addr_state42', 'addr_state43',\n",
    "       'addr_state44', 'addr_state45', 'addr_state46', 'addr_state47',\n",
    "       'addr_state48', 'addr_state49', 'addr_state50', 'emp_length1',\n",
    "       'emp_length2', 'emp_length3', 'emp_length4', 'emp_length5',\n",
    "       'emp_length6', 'emp_length7', 'emp_length8', 'emp_length9',\n",
    "       'emp_length10', 'emp_length11', 'inq_last_6mths', 'open_acc', 'pub_rec',\n",
    "       'pub_rec_bankruptcies', 'tax_liens', 'loan_amnt_log', 'annual_inc_log',\n",
    "       'dti_log', 'delinq_2yrs_log', 'fico_average_log', 'revol_bal_log',\n",
    "       'revol_util_log', 'total_acc_log', 'collections_12_mths_ex_med_log',\n",
    "       'tot_coll_amt_log', 'purpose_group1', 'purpose_group2',\n",
    "       'purpose_group4']"
   ]
  },
  {
   "cell_type": "code",
   "execution_count": 8,
   "id": "46137802",
   "metadata": {
    "executionInfo": {
     "elapsed": 545,
     "status": "ok",
     "timestamp": 1678970323035,
     "user": {
      "displayName": "조민정",
      "userId": "09786996135651143212"
     },
     "user_tz": -540
    },
    "id": "46137802"
   },
   "outputs": [],
   "source": [
    "column_names = list(X_columns)\n"
   ]
  },
  {
   "cell_type": "code",
   "execution_count": 9,
   "id": "a01c7850",
   "metadata": {
    "colab": {
     "base_uri": "https://localhost:8080/",
     "height": 424
    },
    "executionInfo": {
     "elapsed": 2,
     "status": "ok",
     "timestamp": 1678970325196,
     "user": {
      "displayName": "조민정",
      "userId": "09786996135651143212"
     },
     "user_tz": -540
    },
    "id": "a01c7850",
    "outputId": "d0c541dc-98e1-47fe-d495-80ecb7c34974"
   },
   "outputs": [
    {
     "data": {
      "text/html": [
       "\n",
       "  <div id=\"df-9a232518-ccbd-4e18-bf65-62140fbcd157\">\n",
       "    <div class=\"colab-df-container\">\n",
       "      <div>\n",
       "<style scoped>\n",
       "    .dataframe tbody tr th:only-of-type {\n",
       "        vertical-align: middle;\n",
       "    }\n",
       "\n",
       "    .dataframe tbody tr th {\n",
       "        vertical-align: top;\n",
       "    }\n",
       "\n",
       "    .dataframe thead th {\n",
       "        text-align: right;\n",
       "    }\n",
       "</style>\n",
       "<table border=\"1\" class=\"dataframe\">\n",
       "  <thead>\n",
       "    <tr style=\"text-align: right;\">\n",
       "      <th></th>\n",
       "      <th>Feature</th>\n",
       "      <th>Coefficient</th>\n",
       "    </tr>\n",
       "  </thead>\n",
       "  <tbody>\n",
       "    <tr>\n",
       "      <th>0</th>\n",
       "      <td>home_ownership1</td>\n",
       "      <td>-0.000356</td>\n",
       "    </tr>\n",
       "    <tr>\n",
       "      <th>1</th>\n",
       "      <td>home_ownership2</td>\n",
       "      <td>-0.015475</td>\n",
       "    </tr>\n",
       "    <tr>\n",
       "      <th>2</th>\n",
       "      <td>home_ownership3</td>\n",
       "      <td>0.000260</td>\n",
       "    </tr>\n",
       "    <tr>\n",
       "      <th>3</th>\n",
       "      <td>home_ownership4</td>\n",
       "      <td>-0.000217</td>\n",
       "    </tr>\n",
       "    <tr>\n",
       "      <th>4</th>\n",
       "      <td>home_ownership5</td>\n",
       "      <td>-0.006837</td>\n",
       "    </tr>\n",
       "    <tr>\n",
       "      <th>...</th>\n",
       "      <td>...</td>\n",
       "      <td>...</td>\n",
       "    </tr>\n",
       "    <tr>\n",
       "      <th>81</th>\n",
       "      <td>collections_12_mths_ex_med_log</td>\n",
       "      <td>0.002121</td>\n",
       "    </tr>\n",
       "    <tr>\n",
       "      <th>82</th>\n",
       "      <td>tot_coll_amt_log</td>\n",
       "      <td>-0.004084</td>\n",
       "    </tr>\n",
       "    <tr>\n",
       "      <th>83</th>\n",
       "      <td>purpose_group1</td>\n",
       "      <td>-0.002364</td>\n",
       "    </tr>\n",
       "    <tr>\n",
       "      <th>84</th>\n",
       "      <td>purpose_group2</td>\n",
       "      <td>-0.012666</td>\n",
       "    </tr>\n",
       "    <tr>\n",
       "      <th>85</th>\n",
       "      <td>purpose_group4</td>\n",
       "      <td>0.001804</td>\n",
       "    </tr>\n",
       "  </tbody>\n",
       "</table>\n",
       "<p>86 rows × 2 columns</p>\n",
       "</div>\n",
       "      <button class=\"colab-df-convert\" onclick=\"convertToInteractive('df-9a232518-ccbd-4e18-bf65-62140fbcd157')\"\n",
       "              title=\"Convert this dataframe to an interactive table.\"\n",
       "              style=\"display:none;\">\n",
       "        \n",
       "  <svg xmlns=\"http://www.w3.org/2000/svg\" height=\"24px\"viewBox=\"0 0 24 24\"\n",
       "       width=\"24px\">\n",
       "    <path d=\"M0 0h24v24H0V0z\" fill=\"none\"/>\n",
       "    <path d=\"M18.56 5.44l.94 2.06.94-2.06 2.06-.94-2.06-.94-.94-2.06-.94 2.06-2.06.94zm-11 1L8.5 8.5l.94-2.06 2.06-.94-2.06-.94L8.5 2.5l-.94 2.06-2.06.94zm10 10l.94 2.06.94-2.06 2.06-.94-2.06-.94-.94-2.06-.94 2.06-2.06.94z\"/><path d=\"M17.41 7.96l-1.37-1.37c-.4-.4-.92-.59-1.43-.59-.52 0-1.04.2-1.43.59L10.3 9.45l-7.72 7.72c-.78.78-.78 2.05 0 2.83L4 21.41c.39.39.9.59 1.41.59.51 0 1.02-.2 1.41-.59l7.78-7.78 2.81-2.81c.8-.78.8-2.07 0-2.86zM5.41 20L4 18.59l7.72-7.72 1.47 1.35L5.41 20z\"/>\n",
       "  </svg>\n",
       "      </button>\n",
       "      \n",
       "  <style>\n",
       "    .colab-df-container {\n",
       "      display:flex;\n",
       "      flex-wrap:wrap;\n",
       "      gap: 12px;\n",
       "    }\n",
       "\n",
       "    .colab-df-convert {\n",
       "      background-color: #E8F0FE;\n",
       "      border: none;\n",
       "      border-radius: 50%;\n",
       "      cursor: pointer;\n",
       "      display: none;\n",
       "      fill: #1967D2;\n",
       "      height: 32px;\n",
       "      padding: 0 0 0 0;\n",
       "      width: 32px;\n",
       "    }\n",
       "\n",
       "    .colab-df-convert:hover {\n",
       "      background-color: #E2EBFA;\n",
       "      box-shadow: 0px 1px 2px rgba(60, 64, 67, 0.3), 0px 1px 3px 1px rgba(60, 64, 67, 0.15);\n",
       "      fill: #174EA6;\n",
       "    }\n",
       "\n",
       "    [theme=dark] .colab-df-convert {\n",
       "      background-color: #3B4455;\n",
       "      fill: #D2E3FC;\n",
       "    }\n",
       "\n",
       "    [theme=dark] .colab-df-convert:hover {\n",
       "      background-color: #434B5C;\n",
       "      box-shadow: 0px 1px 3px 1px rgba(0, 0, 0, 0.15);\n",
       "      filter: drop-shadow(0px 1px 2px rgba(0, 0, 0, 0.3));\n",
       "      fill: #FFFFFF;\n",
       "    }\n",
       "  </style>\n",
       "\n",
       "      <script>\n",
       "        const buttonEl =\n",
       "          document.querySelector('#df-9a232518-ccbd-4e18-bf65-62140fbcd157 button.colab-df-convert');\n",
       "        buttonEl.style.display =\n",
       "          google.colab.kernel.accessAllowed ? 'block' : 'none';\n",
       "\n",
       "        async function convertToInteractive(key) {\n",
       "          const element = document.querySelector('#df-9a232518-ccbd-4e18-bf65-62140fbcd157');\n",
       "          const dataTable =\n",
       "            await google.colab.kernel.invokeFunction('convertToInteractive',\n",
       "                                                     [key], {});\n",
       "          if (!dataTable) return;\n",
       "\n",
       "          const docLinkHtml = 'Like what you see? Visit the ' +\n",
       "            '<a target=\"_blank\" href=https://colab.research.google.com/notebooks/data_table.ipynb>data table notebook</a>'\n",
       "            + ' to learn more about interactive tables.';\n",
       "          element.innerHTML = '';\n",
       "          dataTable['output_type'] = 'display_data';\n",
       "          await google.colab.output.renderOutput(dataTable, element);\n",
       "          const docLink = document.createElement('div');\n",
       "          docLink.innerHTML = docLinkHtml;\n",
       "          element.appendChild(docLink);\n",
       "        }\n",
       "      </script>\n",
       "    </div>\n",
       "  </div>\n",
       "  "
      ],
      "text/plain": [
       "                           Feature  Coefficient\n",
       "0                  home_ownership1    -0.000356\n",
       "1                  home_ownership2    -0.015475\n",
       "2                  home_ownership3     0.000260\n",
       "3                  home_ownership4    -0.000217\n",
       "4                  home_ownership5    -0.006837\n",
       "..                             ...          ...\n",
       "81  collections_12_mths_ex_med_log     0.002121\n",
       "82                tot_coll_amt_log    -0.004084\n",
       "83                  purpose_group1    -0.002364\n",
       "84                  purpose_group2    -0.012666\n",
       "85                  purpose_group4     0.001804\n",
       "\n",
       "[86 rows x 2 columns]"
      ]
     },
     "execution_count": 9,
     "metadata": {},
     "output_type": "execute_result"
    }
   ],
   "source": [
    "coef_ = ln_reg.coef_\n",
    "\n",
    "column_names = list(X_columns)\n",
    "coef_values =ln_reg.coef_[1:]\n",
    "\n",
    "df_coef = pd.DataFrame({'Feature': column_names, 'Coefficient': coef_values})\n",
    "df_coef"
   ]
  },
  {
   "cell_type": "code",
   "execution_count": 11,
   "id": "d97cd68e",
   "metadata": {
    "colab": {
     "base_uri": "https://localhost:8080/"
    },
    "executionInfo": {
     "elapsed": 764,
     "status": "ok",
     "timestamp": 1678970356231,
     "user": {
      "displayName": "조민정",
      "userId": "09786996135651143212"
     },
     "user_tz": -540
    },
    "id": "d97cd68e",
    "outputId": "968c0359-cc93-4e9f-d91d-383323f88d76"
   },
   "outputs": [
    {
     "name": "stdout",
     "output_type": "stream",
     "text": [
      "가중치(계수, 기울기 파라미터) [ 2.68338131e-09 -3.55960919e-04 -1.54751936e-02  2.59769496e-04\n",
      " -2.17048753e-04 -6.83663827e-03 -1.49288471e-02 -4.14575805e-03\n",
      "  8.18265444e-04  4.61203812e-03  2.90665571e-03  1.94300121e-03\n",
      "  5.92451848e-03 -1.79575896e-03 -3.66292462e-04 -1.02504216e-03\n",
      "  8.09712877e-04  6.35437297e-03 -1.75337610e-04  1.07750939e-03\n",
      "  1.24111382e-03 -2.13802903e-04 -4.56159164e-04  2.30494600e-03\n",
      " -1.18608787e-03  1.65594700e-03  5.20086394e-03  1.73629128e-03\n",
      "  4.82016687e-03 -2.04677593e-03  2.34865006e-03  2.59636269e-03\n",
      "  2.71928803e-03  2.77096902e-03 -4.23151436e-04  3.93072933e-03\n",
      " -1.48465693e-04  1.59342209e-03 -1.78361961e-03  4.80444406e-03\n",
      "  2.38256312e-03  3.33619912e-03  8.61316136e-03  2.41923734e-03\n",
      "  4.18485323e-03 -2.48548722e-03  3.35474336e-03 -6.82447190e-05\n",
      " -1.39539806e-03  2.49143503e-04  3.23973172e-03  4.42940097e-03\n",
      "  9.22356105e-04  4.05096541e-03 -2.10324489e-03 -2.17506132e-03\n",
      " -7.71327091e-04 -1.05588761e-03 -1.14490493e-02 -2.03439916e-02\n",
      " -1.38923616e-02 -1.30322031e-02 -1.10501522e-02 -1.10864851e-02\n",
      " -9.22628212e-03 -8.43959798e-03 -8.97011176e-03 -7.93375915e-03\n",
      " -1.20535667e-02  1.89595971e-02  1.83168821e-02 -1.23695096e-04\n",
      " -3.37594123e-04  3.03627142e-06  3.72881269e-02 -2.29234725e-02\n",
      "  2.45864248e-02 -2.30527532e-03 -3.41902481e-02 -2.43335563e-02\n",
      "  9.60172044e-03 -1.11821324e-02  2.12124132e-03 -4.08359651e-03\n",
      " -2.36438050e-03 -1.26658467e-02  1.80358590e-03]\n",
      "편향(절편 파라미터 b) 0.16136647853195227\n",
      "훈련세트 점수: 0.04\n"
     ]
    }
   ],
   "source": [
    "print(\"가중치(계수, 기울기 파라미터)\",ln_reg.coef_)\n",
    "print(\"편향(절편 파라미터 b)\",ln_reg.intercept_)\n",
    "\n",
    "print(\"훈련세트 점수: {:.2f}\".format(ln_reg.score(X_train,y_train)))\n"
   ]
  },
  {
   "cell_type": "markdown",
   "id": "1806dff9",
   "metadata": {
    "id": "1806dff9"
   },
   "source": [
    "### 결정계수 / 모델 성능 평가"
   ]
  },
  {
   "cell_type": "code",
   "execution_count": 13,
   "id": "35f8da58",
   "metadata": {
    "colab": {
     "base_uri": "https://localhost:8080/"
    },
    "executionInfo": {
     "elapsed": 386,
     "status": "ok",
     "timestamp": 1678970394656,
     "user": {
      "displayName": "조민정",
      "userId": "09786996135651143212"
     },
     "user_tz": -540
    },
    "id": "35f8da58",
    "outputId": "f628a8b7-fbc7-4633-da7b-6a99d87fd806"
   },
   "outputs": [
    {
     "data": {
      "text/plain": [
       "0.039811969247054435"
      ]
     },
     "execution_count": 13,
     "metadata": {},
     "output_type": "execute_result"
    }
   ],
   "source": [
    "ln_reg.score(X_valid,y_valid)"
   ]
  },
  {
   "cell_type": "code",
   "execution_count": 14,
   "id": "898a61a6",
   "metadata": {
    "executionInfo": {
     "elapsed": 2,
     "status": "ok",
     "timestamp": 1678970396553,
     "user": {
      "displayName": "조민정",
      "userId": "09786996135651143212"
     },
     "user_tz": -540
    },
    "id": "898a61a6"
   },
   "outputs": [],
   "source": [
    "predict = ln_reg.predict(X_valid)"
   ]
  },
  {
   "cell_type": "code",
   "execution_count": 15,
   "id": "f1a04bcf",
   "metadata": {
    "colab": {
     "base_uri": "https://localhost:8080/"
    },
    "executionInfo": {
     "elapsed": 2,
     "status": "ok",
     "timestamp": 1678970398513,
     "user": {
      "displayName": "조민정",
      "userId": "09786996135651143212"
     },
     "user_tz": -540
    },
    "id": "f1a04bcf",
    "outputId": "8658a4ee-04a8-43a6-b7fa-fe688bb7691c"
   },
   "outputs": [
    {
     "data": {
      "text/plain": [
       "array([0.2956727 , 0.13820568, 0.18331835, ..., 0.16631782, 0.12233693,\n",
       "       0.22092625])"
      ]
     },
     "execution_count": 15,
     "metadata": {},
     "output_type": "execute_result"
    }
   ],
   "source": [
    "predict"
   ]
  },
  {
   "cell_type": "code",
   "execution_count": 16,
   "id": "fd4e71a9",
   "metadata": {
    "executionInfo": {
     "elapsed": 1008,
     "status": "ok",
     "timestamp": 1678970400949,
     "user": {
      "displayName": "조민정",
      "userId": "09786996135651143212"
     },
     "user_tz": -540
    },
    "id": "fd4e71a9"
   },
   "outputs": [],
   "source": [
    "#0 밑 값은 0으로 1 위 값은 1으로 \n",
    "renew_predict = []\n",
    "for i in predict:\n",
    "    if i<0 :\n",
    "        renew_predict.append(0)\n",
    "    elif i>1:\n",
    "        renew_predict.append(1)\n",
    "    else :\n",
    "        renew_predict.append(i)\n",
    "        "
   ]
  },
  {
   "cell_type": "code",
   "execution_count": 21,
   "id": "0f4afb11",
   "metadata": {
    "colab": {
     "base_uri": "https://localhost:8080/",
     "height": 296
    },
    "executionInfo": {
     "elapsed": 740,
     "status": "ok",
     "timestamp": 1678970519444,
     "user": {
      "displayName": "조민정",
      "userId": "09786996135651143212"
     },
     "user_tz": -540
    },
    "id": "0f4afb11",
    "outputId": "f4f8a6f9-e88c-4121-9c9b-9f3b37e6ca73"
   },
   "outputs": [
    {
     "data": {
      "image/png": "[encoded data removed]",
      "text/plain": [
       "<Figure size 432x288 with 1 Axes>"
      ]
     },
     "metadata": {
      "needs_background": "light"
     },
     "output_type": "display_data"
    }
   ],
   "source": [
    "# Predict probabilities for new data\n",
    "\n",
    "plt.hist(predict, bins=100)\n",
    "\n",
    "plt.xlabel('renew_predict')\n",
    "plt.ylabel('Frequency')\n",
    "plt.title('Frequency of renew_predict')\n",
    "\n",
    "#plt.savefig(\"image.png\", dpi=300, bbox_inches='tight')\n",
    "\n",
    "plt.show() # y_val_pred_proba의 분포 확인"
   ]
  },
  {
   "cell_type": "code",
   "execution_count": null,
   "id": "176112a5",
   "metadata": {
    "id": "176112a5"
   },
   "outputs": [],
   "source": []
  },
  {
   "cell_type": "markdown",
   "id": "f1871b9d",
   "metadata": {
    "id": "f1871b9d"
   },
   "source": [
    "## 목적 함수"
   ]
  },
  {
   "cell_type": "markdown",
   "id": "d8c47020",
   "metadata": {
    "id": "d8c47020"
   },
   "source": [
    "### optimal threshold 선정 (threshold에 따른 목적함수 값 비교)\n",
    "\n",
    "실제 positive = TP + FN\n",
    "\n",
    "실제 Negative = TN + FP\n",
    "\n",
    "정밀도: positive로 예측한 것 중에 진짜 positive인 것 -> 양성 예측도\n",
    "\n",
    "재현율: 실제 positive 중에 맞춘 것 -> 민감도\n",
    "\n",
    "FPR(False Positive Rate): 실제 Negative(FP + TN) 중 positive(FP)로 잘못 예측한 비율 => FP / FP+TN\n",
    "\n",
    "TPR(True Positive Rate): 실제 Positive(TP + FN) 중 positive(TP)로 예측한 비율 => recall 재현율\n",
    "\n",
    "1-TPR = 1 - 재현율 = 실제 Positive(TP + FN) 중 negative(FN)로 잘못 예측한 비율 => FN / TP+FN"
   ]
  },
  {
   "cell_type": "code",
   "execution_count": 74,
   "id": "c65fe739",
   "metadata": {
    "executionInfo": {
     "elapsed": 657,
     "status": "ok",
     "timestamp": 1678971369388,
     "user": {
      "displayName": "조민정",
      "userId": "09786996135651143212"
     },
     "user_tz": -540
    },
    "id": "c65fe739"
   },
   "outputs": [],
   "source": [
    "#threshold_list = np.linspace(0.15835,0.15875,10) # 짝수개 값 (예시 10개)\n",
    "threshold_list = np.linspace(0,1,10) # 짝수개 값 (예시 10개)"
   ]
  },
  {
   "cell_type": "code",
   "execution_count": 61,
   "id": "6eedda4a",
   "metadata": {
    "executionInfo": {
     "elapsed": 371,
     "status": "ok",
     "timestamp": 1678971137430,
     "user": {
      "displayName": "조민정",
      "userId": "09786996135651143212"
     },
     "user_tz": -540
    },
    "id": "6eedda4a"
   },
   "outputs": [],
   "source": [
    "OPT_threshold = None\n",
    "OPT_expected_loss = None\n",
    "result_df = pd.DataFrame(index=['1-TPR','FPR','w1_1-TPR','w2_FPR','Expected_loss'])\n",
    "\n",
    "def objective_func(y_pred_proba, threshold_list):\n",
    "    \n",
    "        \n",
    "        expected_loss_list = []\n",
    "        \n",
    "        for i in range(len(threshold_list)):\n",
    "            \n",
    "            threshold = threshold_list[i]\n",
    "            \n",
    "            # make Binarizer(y hat)\n",
    "            binarizer = Binarizer(threshold = threshold).fit(np.array(y_pred_proba).reshape(-1,1))\n",
    "            custom_predict = binarizer.transform(np.array(y_pred_proba).reshape(-1,1))\n",
    "\n",
    "            tn, fp, fn, tp = confusion_matrix(y_valid, custom_predict).ravel()\n",
    "            count = [tn, fp, fn, tp]\n",
    "            \n",
    "            tpr_1 = fn / (fn + tp)\n",
    "            fpr = fp / (fp + tn)\n",
    "            w1 = 0.55\n",
    "            w2 = 0.45\n",
    "            print(np.round(threshold,2), 'fp',fp)\n",
    "            print('threshold',np.round(threshold,2),' 일 때',tn,fp,fn,tp)\n",
    "            expected_loss = w1 * tpr_1 + w2 * fpr\n",
    "            \n",
    "            expected_loss_list.append(expected_loss)\n",
    "            \n",
    "            threshold_tag = round(threshold_list[i], 4)\n",
    "        \n",
    "            result_df[threshold_tag] = [tpr_1, fpr, w1*tpr_1, w2*fpr, expected_loss]\n",
    "            \n",
    "            if i == 0:\n",
    "                opt_threshold = threshold\n",
    "                opt_expected_loss = expected_loss\n",
    "            else:\n",
    "                if opt_expected_loss > expected_loss:\n",
    "                    opt_threshold = threshold\n",
    "                    opt_expected_loss = expected_loss\n",
    "                    \n",
    "#         expected_loss_list = [round(x, 1) for x in expected_loss_list]\n",
    "\n",
    "        print(opt_threshold)\n",
    "        print(opt_expected_loss)\n",
    "        \n",
    "        plt.plot(threshold_list, expected_loss_list)\n",
    "        plt.scatter(threshold_list, expected_loss_list)\n",
    "        \n",
    "        plt.xlabel('Threshold')\n",
    "        plt.ylabel('Expected_Loss')\n",
    "        plt.title('Expected Loss of Thresholds of LinearRegression')\n",
    "\n",
    "        plt.savefig(\"LinearRegression_expected_loss_.png\", dpi=300, bbox_inches='tight')\n",
    "        \n",
    "        plt.show()\n",
    "        \n",
    "        global OPT_threshold\n",
    "        OPT_threshold = opt_threshold\n",
    "        global OPT_expected_loss\n",
    "        OPT_expected_loss = opt_expected_loss\n",
    "        \n",
    "        #result_df.to_csv('LinearRegression_expected_loss_.csv', index=True)\n",
    "        \n",
    "        return result_df"
   ]
  },
  {
   "cell_type": "code",
   "execution_count": 75,
   "id": "2ab88097",
   "metadata": {
    "colab": {
     "base_uri": "https://localhost:8080/",
     "height": 941
    },
    "executionInfo": {
     "elapsed": 3004,
     "status": "ok",
     "timestamp": 1678971374637,
     "user": {
      "displayName": "조민정",
      "userId": "09786996135651143212"
     },
     "user_tz": -540
    },
    "id": "2ab88097",
    "outputId": "e95482d0-700b-4569-dc67-4895f73e0fbc"
   },
   "outputs": [
    {
     "name": "stdout",
     "output_type": "stream",
     "text": [
      "0.0 fp 147209\n",
      "threshold 0.0  일 때 3093 147209 103 28972\n",
      "0.11 fp 111153\n",
      "threshold 0.11  일 때 39149 111153 3062 26013\n",
      "0.22 fp 26770\n",
      "threshold 0.22  일 때 123532 26770 18969 10106\n",
      "0.33 fp 510\n",
      "threshold 0.33  일 때 149792 510 28756 319\n",
      "0.44 fp 1\n",
      "threshold 0.44  일 때 150301 1 29075 0\n",
      "0.56 fp 1\n",
      "threshold 0.56  일 때 150301 1 29075 0\n",
      "0.67 fp 1\n",
      "threshold 0.67  일 때 150301 1 29075 0\n",
      "0.78 fp 1\n",
      "threshold 0.78  일 때 150301 1 29075 0\n",
      "0.89 fp 1\n",
      "threshold 0.89  일 때 150301 1 29075 0\n",
      "1.0 fp 1\n",
      "threshold 1.0  일 때 150301 1 29075 0\n",
      "0.1111111111111111\n",
      "0.39071159877334044\n"
     ]
    },
    {
     "data": {
      "image/png": "[encoded data removed]",
      "text/plain": [
       "<Figure size 432x288 with 1 Axes>"
      ]
     },
     "metadata": {
      "needs_background": "light"
     },
     "output_type": "display_data"
    },
    {
     "data": {
      "text/html": [
       "\n",
       "  <div id=\"df-d6ff4a71-d194-430a-b72f-a06b4647ac81\">\n",
       "    <div class=\"colab-df-container\">\n",
       "      <div>\n",
       "<style scoped>\n",
       "    .dataframe tbody tr th:only-of-type {\n",
       "        vertical-align: middle;\n",
       "    }\n",
       "\n",
       "    .dataframe tbody tr th {\n",
       "        vertical-align: top;\n",
       "    }\n",
       "\n",
       "    .dataframe thead th {\n",
       "        text-align: right;\n",
       "    }\n",
       "</style>\n",
       "<table border=\"1\" class=\"dataframe\">\n",
       "  <thead>\n",
       "    <tr style=\"text-align: right;\">\n",
       "      <th></th>\n",
       "      <th>0.0000</th>\n",
       "      <th>0.0067</th>\n",
       "      <th>0.0133</th>\n",
       "      <th>0.0200</th>\n",
       "      <th>0.0267</th>\n",
       "      <th>0.0333</th>\n",
       "      <th>0.0400</th>\n",
       "      <th>0.0467</th>\n",
       "      <th>0.0533</th>\n",
       "      <th>0.0600</th>\n",
       "      <th>0.1111</th>\n",
       "      <th>0.2222</th>\n",
       "      <th>0.3333</th>\n",
       "      <th>0.4444</th>\n",
       "      <th>0.5556</th>\n",
       "      <th>0.6667</th>\n",
       "      <th>0.7778</th>\n",
       "      <th>0.8889</th>\n",
       "      <th>1.0000</th>\n",
       "    </tr>\n",
       "  </thead>\n",
       "  <tbody>\n",
       "    <tr>\n",
       "      <th>1-TPR</th>\n",
       "      <td>0.003543</td>\n",
       "      <td>0.004334</td>\n",
       "      <td>0.005469</td>\n",
       "      <td>0.007016</td>\n",
       "      <td>0.009252</td>\n",
       "      <td>0.011694</td>\n",
       "      <td>0.013895</td>\n",
       "      <td>0.017610</td>\n",
       "      <td>0.021634</td>\n",
       "      <td>0.026552</td>\n",
       "      <td>0.105314</td>\n",
       "      <td>0.652416</td>\n",
       "      <td>0.989028</td>\n",
       "      <td>1.000000</td>\n",
       "      <td>1.000000</td>\n",
       "      <td>1.000000</td>\n",
       "      <td>1.000000</td>\n",
       "      <td>1.000000</td>\n",
       "      <td>1.000000</td>\n",
       "    </tr>\n",
       "    <tr>\n",
       "      <th>FPR</th>\n",
       "      <td>0.979421</td>\n",
       "      <td>0.974950</td>\n",
       "      <td>0.969834</td>\n",
       "      <td>0.963700</td>\n",
       "      <td>0.956774</td>\n",
       "      <td>0.948477</td>\n",
       "      <td>0.939429</td>\n",
       "      <td>0.928258</td>\n",
       "      <td>0.916814</td>\n",
       "      <td>0.903049</td>\n",
       "      <td>0.739531</td>\n",
       "      <td>0.178108</td>\n",
       "      <td>0.003393</td>\n",
       "      <td>0.000007</td>\n",
       "      <td>0.000007</td>\n",
       "      <td>0.000007</td>\n",
       "      <td>0.000007</td>\n",
       "      <td>0.000007</td>\n",
       "      <td>0.000007</td>\n",
       "    </tr>\n",
       "    <tr>\n",
       "      <th>w1_1-TPR</th>\n",
       "      <td>0.001948</td>\n",
       "      <td>0.002383</td>\n",
       "      <td>0.003008</td>\n",
       "      <td>0.003859</td>\n",
       "      <td>0.005089</td>\n",
       "      <td>0.006432</td>\n",
       "      <td>0.007642</td>\n",
       "      <td>0.009685</td>\n",
       "      <td>0.011899</td>\n",
       "      <td>0.014604</td>\n",
       "      <td>0.057923</td>\n",
       "      <td>0.358829</td>\n",
       "      <td>0.543966</td>\n",
       "      <td>0.550000</td>\n",
       "      <td>0.550000</td>\n",
       "      <td>0.550000</td>\n",
       "      <td>0.550000</td>\n",
       "      <td>0.550000</td>\n",
       "      <td>0.550000</td>\n",
       "    </tr>\n",
       "    <tr>\n",
       "      <th>w2_FPR</th>\n",
       "      <td>0.440740</td>\n",
       "      <td>0.438728</td>\n",
       "      <td>0.436425</td>\n",
       "      <td>0.433665</td>\n",
       "      <td>0.430548</td>\n",
       "      <td>0.426815</td>\n",
       "      <td>0.422743</td>\n",
       "      <td>0.417716</td>\n",
       "      <td>0.412566</td>\n",
       "      <td>0.406372</td>\n",
       "      <td>0.332789</td>\n",
       "      <td>0.080149</td>\n",
       "      <td>0.001527</td>\n",
       "      <td>0.000003</td>\n",
       "      <td>0.000003</td>\n",
       "      <td>0.000003</td>\n",
       "      <td>0.000003</td>\n",
       "      <td>0.000003</td>\n",
       "      <td>0.000003</td>\n",
       "    </tr>\n",
       "    <tr>\n",
       "      <th>Expected_loss</th>\n",
       "      <td>0.442688</td>\n",
       "      <td>0.441111</td>\n",
       "      <td>0.439433</td>\n",
       "      <td>0.437524</td>\n",
       "      <td>0.435637</td>\n",
       "      <td>0.433246</td>\n",
       "      <td>0.430385</td>\n",
       "      <td>0.427401</td>\n",
       "      <td>0.424465</td>\n",
       "      <td>0.420975</td>\n",
       "      <td>0.390712</td>\n",
       "      <td>0.438978</td>\n",
       "      <td>0.545493</td>\n",
       "      <td>0.550003</td>\n",
       "      <td>0.550003</td>\n",
       "      <td>0.550003</td>\n",
       "      <td>0.550003</td>\n",
       "      <td>0.550003</td>\n",
       "      <td>0.550003</td>\n",
       "    </tr>\n",
       "  </tbody>\n",
       "</table>\n",
       "</div>\n",
       "      <button class=\"colab-df-convert\" onclick=\"convertToInteractive('df-d6ff4a71-d194-430a-b72f-a06b4647ac81')\"\n",
       "              title=\"Convert this dataframe to an interactive table.\"\n",
       "              style=\"display:none;\">\n",
       "        \n",
       "  <svg xmlns=\"http://www.w3.org/2000/svg\" height=\"24px\"viewBox=\"0 0 24 24\"\n",
       "       width=\"24px\">\n",
       "    <path d=\"M0 0h24v24H0V0z\" fill=\"none\"/>\n",
       "    <path d=\"M18.56 5.44l.94 2.06.94-2.06 2.06-.94-2.06-.94-.94-2.06-.94 2.06-2.06.94zm-11 1L8.5 8.5l.94-2.06 2.06-.94-2.06-.94L8.5 2.5l-.94 2.06-2.06.94zm10 10l.94 2.06.94-2.06 2.06-.94-2.06-.94-.94-2.06-.94 2.06-2.06.94z\"/><path d=\"M17.41 7.96l-1.37-1.37c-.4-.4-.92-.59-1.43-.59-.52 0-1.04.2-1.43.59L10.3 9.45l-7.72 7.72c-.78.78-.78 2.05 0 2.83L4 21.41c.39.39.9.59 1.41.59.51 0 1.02-.2 1.41-.59l7.78-7.78 2.81-2.81c.8-.78.8-2.07 0-2.86zM5.41 20L4 18.59l7.72-7.72 1.47 1.35L5.41 20z\"/>\n",
       "  </svg>\n",
       "      </button>\n",
       "      \n",
       "  <style>\n",
       "    .colab-df-container {\n",
       "      display:flex;\n",
       "      flex-wrap:wrap;\n",
       "      gap: 12px;\n",
       "    }\n",
       "\n",
       "    .colab-df-convert {\n",
       "      background-color: #E8F0FE;\n",
       "      border: none;\n",
       "      border-radius: 50%;\n",
       "      cursor: pointer;\n",
       "      display: none;\n",
       "      fill: #1967D2;\n",
       "      height: 32px;\n",
       "      padding: 0 0 0 0;\n",
       "      width: 32px;\n",
       "    }\n",
       "\n",
       "    .colab-df-convert:hover {\n",
       "      background-color: #E2EBFA;\n",
       "      box-shadow: 0px 1px 2px rgba(60, 64, 67, 0.3), 0px 1px 3px 1px rgba(60, 64, 67, 0.15);\n",
       "      fill: #174EA6;\n",
       "    }\n",
       "\n",
       "    [theme=dark] .colab-df-convert {\n",
       "      background-color: #3B4455;\n",
       "      fill: #D2E3FC;\n",
       "    }\n",
       "\n",
       "    [theme=dark] .colab-df-convert:hover {\n",
       "      background-color: #434B5C;\n",
       "      box-shadow: 0px 1px 3px 1px rgba(0, 0, 0, 0.15);\n",
       "      filter: drop-shadow(0px 1px 2px rgba(0, 0, 0, 0.3));\n",
       "      fill: #FFFFFF;\n",
       "    }\n",
       "  </style>\n",
       "\n",
       "      <script>\n",
       "        const buttonEl =\n",
       "          document.querySelector('#df-d6ff4a71-d194-430a-b72f-a06b4647ac81 button.colab-df-convert');\n",
       "        buttonEl.style.display =\n",
       "          google.colab.kernel.accessAllowed ? 'block' : 'none';\n",
       "\n",
       "        async function convertToInteractive(key) {\n",
       "          const element = document.querySelector('#df-d6ff4a71-d194-430a-b72f-a06b4647ac81');\n",
       "          const dataTable =\n",
       "            await google.colab.kernel.invokeFunction('convertToInteractive',\n",
       "                                                     [key], {});\n",
       "          if (!dataTable) return;\n",
       "\n",
       "          const docLinkHtml = 'Like what you see? Visit the ' +\n",
       "            '<a target=\"_blank\" href=https://colab.research.google.com/notebooks/data_table.ipynb>data table notebook</a>'\n",
       "            + ' to learn more about interactive tables.';\n",
       "          element.innerHTML = '';\n",
       "          dataTable['output_type'] = 'display_data';\n",
       "          await google.colab.output.renderOutput(dataTable, element);\n",
       "          const docLink = document.createElement('div');\n",
       "          docLink.innerHTML = docLinkHtml;\n",
       "          element.appendChild(docLink);\n",
       "        }\n",
       "      </script>\n",
       "    </div>\n",
       "  </div>\n",
       "  "
      ],
      "text/plain": [
       "                 0.0000    0.0067    0.0133    0.0200    0.0267    0.0333  \\\n",
       "1-TPR          0.003543  0.004334  0.005469  0.007016  0.009252  0.011694   \n",
       "FPR            0.979421  0.974950  0.969834  0.963700  0.956774  0.948477   \n",
       "w1_1-TPR       0.001948  0.002383  0.003008  0.003859  0.005089  0.006432   \n",
       "w2_FPR         0.440740  0.438728  0.436425  0.433665  0.430548  0.426815   \n",
       "Expected_loss  0.442688  0.441111  0.439433  0.437524  0.435637  0.433246   \n",
       "\n",
       "                 0.0400    0.0467    0.0533    0.0600    0.1111    0.2222  \\\n",
       "1-TPR          0.013895  0.017610  0.021634  0.026552  0.105314  0.652416   \n",
       "FPR            0.939429  0.928258  0.916814  0.903049  0.739531  0.178108   \n",
       "w1_1-TPR       0.007642  0.009685  0.011899  0.014604  0.057923  0.358829   \n",
       "w2_FPR         0.422743  0.417716  0.412566  0.406372  0.332789  0.080149   \n",
       "Expected_loss  0.430385  0.427401  0.424465  0.420975  0.390712  0.438978   \n",
       "\n",
       "                 0.3333    0.4444    0.5556    0.6667    0.7778    0.8889  \\\n",
       "1-TPR          0.989028  1.000000  1.000000  1.000000  1.000000  1.000000   \n",
       "FPR            0.003393  0.000007  0.000007  0.000007  0.000007  0.000007   \n",
       "w1_1-TPR       0.543966  0.550000  0.550000  0.550000  0.550000  0.550000   \n",
       "w2_FPR         0.001527  0.000003  0.000003  0.000003  0.000003  0.000003   \n",
       "Expected_loss  0.545493  0.550003  0.550003  0.550003  0.550003  0.550003   \n",
       "\n",
       "                 1.0000  \n",
       "1-TPR          1.000000  \n",
       "FPR            0.000007  \n",
       "w1_1-TPR       0.550000  \n",
       "w2_FPR         0.000003  \n",
       "Expected_loss  0.550003  "
      ]
     },
     "execution_count": 75,
     "metadata": {},
     "output_type": "execute_result"
    }
   ],
   "source": [
    "objective_func(predict,threshold_list)"
   ]
  },
  {
   "cell_type": "code",
   "execution_count": 76,
   "id": "cbafc45f",
   "metadata": {
    "colab": {
     "base_uri": "https://localhost:8080/",
     "height": 296
    },
    "executionInfo": {
     "elapsed": 1862,
     "status": "ok",
     "timestamp": 1678971381459,
     "user": {
      "displayName": "조민정",
      "userId": "09786996135651143212"
     },
     "user_tz": -540
    },
    "id": "cbafc45f",
    "outputId": "3e644d8f-2eb6-46b8-ca5c-34cbc3c60c77"
   },
   "outputs": [
    {
     "data": {
      "image/png": "[encoded data removed]",
      "text/plain": [
       "<Figure size 432x288 with 1 Axes>"
      ]
     },
     "metadata": {
      "needs_background": "light"
     },
     "output_type": "display_data"
    }
   ],
   "source": [
    "# Predict probabilities for new data\n",
    "\n",
    "plt.hist(renew_predict, bins=100)\n",
    "plt.axvline(x=OPT_threshold, color='navy', linewidth=5, label='Optimal Threshold')\n",
    "\n",
    "plt.xlabel('renew_predict')\n",
    "plt.ylabel('Frequency')\n",
    "plt.title('Frequency of renew_predict')\n",
    "\n",
    "plt.savefig(\"image.png\", dpi=300, bbox_inches='tight')\n",
    "\n",
    "plt.show() # y_val_pred_proba의 분포 확인"
   ]
  },
  {
   "cell_type": "markdown",
   "id": "b609dc38",
   "metadata": {
    "id": "b609dc38"
   },
   "source": [
    "## Test 데이터에 대해 성능 평가"
   ]
  },
  {
   "cell_type": "code",
   "execution_count": 68,
   "id": "bj64Nivye52s",
   "metadata": {
    "executionInfo": {
     "elapsed": 872,
     "status": "ok",
     "timestamp": 1678971258823,
     "user": {
      "displayName": "조민정",
      "userId": "09786996135651143212"
     },
     "user_tz": -540
    },
    "id": "bj64Nivye52s"
   },
   "outputs": [],
   "source": [
    "def test_func(y_test, y_pred_proba, opt_threshold):\n",
    "        \n",
    "    # make Binarizer(y hat)\n",
    "    binarizer = Binarizer(threshold = opt_threshold).fit(y_pred_proba.reshape(-1,1))\n",
    "    custom_predict = binarizer.transform(y_pred_proba.reshape(-1,1))\n",
    "\n",
    "    # count 0, 1 in Binarizer(y hat)\n",
    "    unique, counts = np.unique(custom_predict, return_counts=True)\n",
    "\n",
    "    for val, count in zip(unique, counts):\n",
    "        if len(unique) == 1:\n",
    "            if val == 1.0:\n",
    "                num_0_pred = count\n",
    "                num_1_pred = 0\n",
    "            elif val == 0.0:\n",
    "                num_1_pred = count\n",
    "                num_0_pred = 0\n",
    "        if val == 1.0:\n",
    "            num_0_pred = count\n",
    "        elif val == 0.0:\n",
    "            num_1_pred = count\n",
    "\n",
    "    # count 0, 1 in y hat\n",
    "    num_1_real = y_test.value_counts()[0]\n",
    "    num_0_real = y_test.value_counts()[1]\n",
    "\n",
    "    tn, fp, fn, tp = confusion_matrix(y_test, custom_predict).ravel()\n",
    "    count = [tn, fp, fn, tp]\n",
    "    tn_, fp_, fn_, tp_ = [round(x/sum(count)*100, 1) for x in count]\n",
    "\n",
    "    accuracy = round((tp+tn)/(tp+tn+fp+fn),4)\n",
    "    precision = round(tp/(tp+fp),4)\n",
    "    recall = round(tp/(tp+fn),4)\n",
    "    f1 = round(2*(precision*recall)/(precision+recall),4)\n",
    "    \n",
    "    result_df = pd.DataFrame(index=['1_real','1_pred','0_real','0_pred','tn', 'fp', 'fn', 'tp', 'tn_%', 'fp_%', 'fn_%', 'tp_%', 'Accuracy', 'Precision', 'Recall', 'F1 score'])\n",
    "\n",
    "    result_df['result'] = [num_1_real, num_1_pred, num_0_real, num_0_pred, tn, fp, fn, tp, tn_, fp_, fn_, tp_, accuracy, precision, recall, f1]\n",
    "\n",
    "    labels = ['TN','FP','FN','TP']\n",
    "\n",
    "\n",
    "    # 혼동 행렬 시각화\n",
    "    labels = ['Positive', 'Negative']\n",
    "    cm = [[tp, fn], [fp, tn]]\n",
    "\n",
    "    ax = plt.subplot()\n",
    "    sns.heatmap(cm, annot=True, ax=ax, fmt='g', cmap='Blues')\n",
    "    ax.set_xlabel('Predicted Class')\n",
    "    ax.set_ylabel('Acutual Class')\n",
    "    ax.set_xticklabels(labels)\n",
    "    ax.set_yticklabels(labels)\n",
    "    ax.set_title('%s Confusion Matrix'%(model_name))\n",
    "    \n",
    "    ax.text(0.45, 1.40, 'FP', fontsize=12, color='red')\n",
    "    ax.text(1.45, 1.40, 'TN', fontsize=12, color='red')\n",
    "    ax.text(0.45, 0.40, 'TP', fontsize=12, color='red')\n",
    "    ax.text(1.45, 0.40, 'FN', fontsize=12, color='red')\n",
    "    \n",
    "    #plt.savefig(\"%s_Confusion_Matrix_%s.png\"%(model_name, datetime.datetime.now().strftime(\"%m%d%H%M%S\")), dpi=300, bbox_inches='tight')\n",
    "    plt.show()\n",
    "    \n",
    "    #result_df.T.to_csv('%s_test.csv'%(model_name), index=True)\n",
    "\n",
    "    return result_df.T"
   ]
  },
  {
   "cell_type": "code",
   "execution_count": 72,
   "id": "zKoJnDkWeP4N",
   "metadata": {
    "executionInfo": {
     "elapsed": 1106,
     "status": "ok",
     "timestamp": 1678971316569,
     "user": {
      "displayName": "조민정",
      "userId": "09786996135651143212"
     },
     "user_tz": -540
    },
    "id": "zKoJnDkWeP4N"
   },
   "outputs": [],
   "source": [
    "def test_objective_func(y_test, y_pred_proba, threshold):\n",
    "    \n",
    "        result_df = pd.DataFrame(index=['1-TPR','FPR','w1_1-TPR','w2_FPR','Expected_loss'])\n",
    "            \n",
    "        # make Binarizer(y hat)\n",
    "        binarizer = Binarizer(threshold = threshold).fit(y_pred_proba.reshape(-1,1))\n",
    "        custom_predict = binarizer.transform(y_pred_proba.reshape(-1,1))\n",
    "\n",
    "        tn, fp, fn, tp = confusion_matrix(y_test, custom_predict).ravel()\n",
    "        count = [tn, fp, fn, tp]\n",
    "\n",
    "        tpr_1 = fn / (fn + tp)\n",
    "        fpr = fp / (fp + tn)\n",
    "        w1 = 0.55\n",
    "        w2 = 0.45\n",
    "\n",
    "        expected_loss = w1 * tpr_1 + w2 * fpr\n",
    "\n",
    "        result_df[threshold] = [tpr_1, fpr, w1*tpr_1, w2*fpr, expected_loss]\n",
    "\n",
    "        print(expected_loss)\n",
    "        \n",
    "        #result_df.T.to_csv('%s_test_expected_loss_%s.csv'%(model_name, datetime.datetime.now().strftime(\"%m%d%H%M%S\")), float_format='%.6f', index=True)\n",
    "        \n",
    "        return result_df"
   ]
  },
  {
   "cell_type": "code",
   "execution_count": 32,
   "id": "e7552bc1",
   "metadata": {
    "executionInfo": {
     "elapsed": 519,
     "status": "ok",
     "timestamp": 1678970687561,
     "user": {
      "displayName": "조민정",
      "userId": "09786996135651143212"
     },
     "user_tz": -540
    },
    "id": "e7552bc1"
   },
   "outputs": [],
   "source": [
    "predict_test = ln_reg.predict(X_test)"
   ]
  },
  {
   "cell_type": "code",
   "execution_count": 77,
   "id": "62a266b8",
   "metadata": {
    "executionInfo": {
     "elapsed": 311,
     "status": "ok",
     "timestamp": 1678971389830,
     "user": {
      "displayName": "조민정",
      "userId": "09786996135651143212"
     },
     "user_tz": -540
    },
    "id": "62a266b8"
   },
   "outputs": [],
   "source": [
    "renew_ = []\n",
    "for i in predict_test :\n",
    "    if i<=0:\n",
    "        renew_.append(0)\n",
    "    else:\n",
    "        renew_.append(i)"
   ]
  },
  {
   "cell_type": "code",
   "execution_count": 78,
   "id": "9qJlKsv1fFjM",
   "metadata": {
    "colab": {
     "base_uri": "https://localhost:8080/",
     "height": 440
    },
    "executionInfo": {
     "elapsed": 5,
     "status": "ok",
     "timestamp": 1678971392270,
     "user": {
      "displayName": "조민정",
      "userId": "09786996135651143212"
     },
     "user_tz": -540
    },
    "id": "9qJlKsv1fFjM",
    "outputId": "1a002052-fcc3-45b3-c5c1-fc6a980eaf28"
   },
   "outputs": [
    {
     "data": {
      "image/png": "[encoded data removed]",
      "text/plain": [
       "<Figure size 432x288 with 2 Axes>"
      ]
     },
     "metadata": {
      "needs_background": "light"
     },
     "output_type": "display_data"
    },
    {
     "data": {
      "text/html": [
       "\n",
       "  <div id=\"df-f649f055-b815-4f98-bd8c-bb0af827fc0a\">\n",
       "    <div class=\"colab-df-container\">\n",
       "      <div>\n",
       "<style scoped>\n",
       "    .dataframe tbody tr th:only-of-type {\n",
       "        vertical-align: middle;\n",
       "    }\n",
       "\n",
       "    .dataframe tbody tr th {\n",
       "        vertical-align: top;\n",
       "    }\n",
       "\n",
       "    .dataframe thead th {\n",
       "        text-align: right;\n",
       "    }\n",
       "</style>\n",
       "<table border=\"1\" class=\"dataframe\">\n",
       "  <thead>\n",
       "    <tr style=\"text-align: right;\">\n",
       "      <th></th>\n",
       "      <th>1_real</th>\n",
       "      <th>1_pred</th>\n",
       "      <th>0_real</th>\n",
       "      <th>0_pred</th>\n",
       "      <th>tn</th>\n",
       "      <th>fp</th>\n",
       "      <th>fn</th>\n",
       "      <th>tp</th>\n",
       "      <th>tn_%</th>\n",
       "      <th>fp_%</th>\n",
       "      <th>fn_%</th>\n",
       "      <th>tp_%</th>\n",
       "      <th>Accuracy</th>\n",
       "      <th>Precision</th>\n",
       "      <th>Recall</th>\n",
       "      <th>F1 score</th>\n",
       "    </tr>\n",
       "  </thead>\n",
       "  <tbody>\n",
       "    <tr>\n",
       "      <th>result</th>\n",
       "      <td>45232.0</td>\n",
       "      <td>12562.0</td>\n",
       "      <td>8582.0</td>\n",
       "      <td>41252.0</td>\n",
       "      <td>11642.0</td>\n",
       "      <td>33590.0</td>\n",
       "      <td>920.0</td>\n",
       "      <td>7662.0</td>\n",
       "      <td>21.6</td>\n",
       "      <td>62.4</td>\n",
       "      <td>1.7</td>\n",
       "      <td>14.2</td>\n",
       "      <td>0.3587</td>\n",
       "      <td>0.1857</td>\n",
       "      <td>0.8928</td>\n",
       "      <td>0.3075</td>\n",
       "    </tr>\n",
       "  </tbody>\n",
       "</table>\n",
       "</div>\n",
       "      <button class=\"colab-df-convert\" onclick=\"convertToInteractive('df-f649f055-b815-4f98-bd8c-bb0af827fc0a')\"\n",
       "              title=\"Convert this dataframe to an interactive table.\"\n",
       "              style=\"display:none;\">\n",
       "        \n",
       "  <svg xmlns=\"http://www.w3.org/2000/svg\" height=\"24px\"viewBox=\"0 0 24 24\"\n",
       "       width=\"24px\">\n",
       "    <path d=\"M0 0h24v24H0V0z\" fill=\"none\"/>\n",
       "    <path d=\"M18.56 5.44l.94 2.06.94-2.06 2.06-.94-2.06-.94-.94-2.06-.94 2.06-2.06.94zm-11 1L8.5 8.5l.94-2.06 2.06-.94-2.06-.94L8.5 2.5l-.94 2.06-2.06.94zm10 10l.94 2.06.94-2.06 2.06-.94-2.06-.94-.94-2.06-.94 2.06-2.06.94z\"/><path d=\"M17.41 7.96l-1.37-1.37c-.4-.4-.92-.59-1.43-.59-.52 0-1.04.2-1.43.59L10.3 9.45l-7.72 7.72c-.78.78-.78 2.05 0 2.83L4 21.41c.39.39.9.59 1.41.59.51 0 1.02-.2 1.41-.59l7.78-7.78 2.81-2.81c.8-.78.8-2.07 0-2.86zM5.41 20L4 18.59l7.72-7.72 1.47 1.35L5.41 20z\"/>\n",
       "  </svg>\n",
       "      </button>\n",
       "      \n",
       "  <style>\n",
       "    .colab-df-container {\n",
       "      display:flex;\n",
       "      flex-wrap:wrap;\n",
       "      gap: 12px;\n",
       "    }\n",
       "\n",
       "    .colab-df-convert {\n",
       "      background-color: #E8F0FE;\n",
       "      border: none;\n",
       "      border-radius: 50%;\n",
       "      cursor: pointer;\n",
       "      display: none;\n",
       "      fill: #1967D2;\n",
       "      height: 32px;\n",
       "      padding: 0 0 0 0;\n",
       "      width: 32px;\n",
       "    }\n",
       "\n",
       "    .colab-df-convert:hover {\n",
       "      background-color: #E2EBFA;\n",
       "      box-shadow: 0px 1px 2px rgba(60, 64, 67, 0.3), 0px 1px 3px 1px rgba(60, 64, 67, 0.15);\n",
       "      fill: #174EA6;\n",
       "    }\n",
       "\n",
       "    [theme=dark] .colab-df-convert {\n",
       "      background-color: #3B4455;\n",
       "      fill: #D2E3FC;\n",
       "    }\n",
       "\n",
       "    [theme=dark] .colab-df-convert:hover {\n",
       "      background-color: #434B5C;\n",
       "      box-shadow: 0px 1px 3px 1px rgba(0, 0, 0, 0.15);\n",
       "      filter: drop-shadow(0px 1px 2px rgba(0, 0, 0, 0.3));\n",
       "      fill: #FFFFFF;\n",
       "    }\n",
       "  </style>\n",
       "\n",
       "      <script>\n",
       "        const buttonEl =\n",
       "          document.querySelector('#df-f649f055-b815-4f98-bd8c-bb0af827fc0a button.colab-df-convert');\n",
       "        buttonEl.style.display =\n",
       "          google.colab.kernel.accessAllowed ? 'block' : 'none';\n",
       "\n",
       "        async function convertToInteractive(key) {\n",
       "          const element = document.querySelector('#df-f649f055-b815-4f98-bd8c-bb0af827fc0a');\n",
       "          const dataTable =\n",
       "            await google.colab.kernel.invokeFunction('convertToInteractive',\n",
       "                                                     [key], {});\n",
       "          if (!dataTable) return;\n",
       "\n",
       "          const docLinkHtml = 'Like what you see? Visit the ' +\n",
       "            '<a target=\"_blank\" href=https://colab.research.google.com/notebooks/data_table.ipynb>data table notebook</a>'\n",
       "            + ' to learn more about interactive tables.';\n",
       "          element.innerHTML = '';\n",
       "          dataTable['output_type'] = 'display_data';\n",
       "          await google.colab.output.renderOutput(dataTable, element);\n",
       "          const docLink = document.createElement('div');\n",
       "          docLink.innerHTML = docLinkHtml;\n",
       "          element.appendChild(docLink);\n",
       "        }\n",
       "      </script>\n",
       "    </div>\n",
       "  </div>\n",
       "  "
      ],
      "text/plain": [
       "         1_real   1_pred  0_real   0_pred       tn       fp     fn      tp  \\\n",
       "result  45232.0  12562.0  8582.0  41252.0  11642.0  33590.0  920.0  7662.0   \n",
       "\n",
       "        tn_%  fp_%  fn_%  tp_%  Accuracy  Precision  Recall  F1 score  \n",
       "result  21.6  62.4   1.7  14.2    0.3587     0.1857  0.8928    0.3075  "
      ]
     },
     "execution_count": 78,
     "metadata": {},
     "output_type": "execute_result"
    }
   ],
   "source": [
    "test_func(y_test, predict_test, OPT_threshold)"
   ]
  },
  {
   "cell_type": "code",
   "execution_count": 79,
   "id": "lg3w2i8XeR-4",
   "metadata": {
    "colab": {
     "base_uri": "https://localhost:8080/",
     "height": 224
    },
    "executionInfo": {
     "elapsed": 871,
     "status": "ok",
     "timestamp": 1678971401286,
     "user": {
      "displayName": "조민정",
      "userId": "09786996135651143212"
     },
     "user_tz": -540
    },
    "id": "lg3w2i8XeR-4",
    "outputId": "3b5c5960-8005-4eaa-d500-a784f05384ea"
   },
   "outputs": [
    {
     "name": "stdout",
     "output_type": "stream",
     "text": [
      "0.39313774647572675\n"
     ]
    },
    {
     "data": {
      "text/html": [
       "\n",
       "  <div id=\"df-9b8671d4-8896-4f0d-add9-3352ebf1a373\">\n",
       "    <div class=\"colab-df-container\">\n",
       "      <div>\n",
       "<style scoped>\n",
       "    .dataframe tbody tr th:only-of-type {\n",
       "        vertical-align: middle;\n",
       "    }\n",
       "\n",
       "    .dataframe tbody tr th {\n",
       "        vertical-align: top;\n",
       "    }\n",
       "\n",
       "    .dataframe thead th {\n",
       "        text-align: right;\n",
       "    }\n",
       "</style>\n",
       "<table border=\"1\" class=\"dataframe\">\n",
       "  <thead>\n",
       "    <tr style=\"text-align: right;\">\n",
       "      <th></th>\n",
       "      <th>0.111111</th>\n",
       "    </tr>\n",
       "  </thead>\n",
       "  <tbody>\n",
       "    <tr>\n",
       "      <th>1-TPR</th>\n",
       "      <td>0.107201</td>\n",
       "    </tr>\n",
       "    <tr>\n",
       "      <th>FPR</th>\n",
       "      <td>0.742616</td>\n",
       "    </tr>\n",
       "    <tr>\n",
       "      <th>w1_1-TPR</th>\n",
       "      <td>0.058961</td>\n",
       "    </tr>\n",
       "    <tr>\n",
       "      <th>w2_FPR</th>\n",
       "      <td>0.334177</td>\n",
       "    </tr>\n",
       "    <tr>\n",
       "      <th>Expected_loss</th>\n",
       "      <td>0.393138</td>\n",
       "    </tr>\n",
       "  </tbody>\n",
       "</table>\n",
       "</div>\n",
       "      <button class=\"colab-df-convert\" onclick=\"convertToInteractive('df-9b8671d4-8896-4f0d-add9-3352ebf1a373')\"\n",
       "              title=\"Convert this dataframe to an interactive table.\"\n",
       "              style=\"display:none;\">\n",
       "        \n",
       "  <svg xmlns=\"http://www.w3.org/2000/svg\" height=\"24px\"viewBox=\"0 0 24 24\"\n",
       "       width=\"24px\">\n",
       "    <path d=\"M0 0h24v24H0V0z\" fill=\"none\"/>\n",
       "    <path d=\"M18.56 5.44l.94 2.06.94-2.06 2.06-.94-2.06-.94-.94-2.06-.94 2.06-2.06.94zm-11 1L8.5 8.5l.94-2.06 2.06-.94-2.06-.94L8.5 2.5l-.94 2.06-2.06.94zm10 10l.94 2.06.94-2.06 2.06-.94-2.06-.94-.94-2.06-.94 2.06-2.06.94z\"/><path d=\"M17.41 7.96l-1.37-1.37c-.4-.4-.92-.59-1.43-.59-.52 0-1.04.2-1.43.59L10.3 9.45l-7.72 7.72c-.78.78-.78 2.05 0 2.83L4 21.41c.39.39.9.59 1.41.59.51 0 1.02-.2 1.41-.59l7.78-7.78 2.81-2.81c.8-.78.8-2.07 0-2.86zM5.41 20L4 18.59l7.72-7.72 1.47 1.35L5.41 20z\"/>\n",
       "  </svg>\n",
       "      </button>\n",
       "      \n",
       "  <style>\n",
       "    .colab-df-container {\n",
       "      display:flex;\n",
       "      flex-wrap:wrap;\n",
       "      gap: 12px;\n",
       "    }\n",
       "\n",
       "    .colab-df-convert {\n",
       "      background-color: #E8F0FE;\n",
       "      border: none;\n",
       "      border-radius: 50%;\n",
       "      cursor: pointer;\n",
       "      display: none;\n",
       "      fill: #1967D2;\n",
       "      height: 32px;\n",
       "      padding: 0 0 0 0;\n",
       "      width: 32px;\n",
       "    }\n",
       "\n",
       "    .colab-df-convert:hover {\n",
       "      background-color: #E2EBFA;\n",
       "      box-shadow: 0px 1px 2px rgba(60, 64, 67, 0.3), 0px 1px 3px 1px rgba(60, 64, 67, 0.15);\n",
       "      fill: #174EA6;\n",
       "    }\n",
       "\n",
       "    [theme=dark] .colab-df-convert {\n",
       "      background-color: #3B4455;\n",
       "      fill: #D2E3FC;\n",
       "    }\n",
       "\n",
       "    [theme=dark] .colab-df-convert:hover {\n",
       "      background-color: #434B5C;\n",
       "      box-shadow: 0px 1px 3px 1px rgba(0, 0, 0, 0.15);\n",
       "      filter: drop-shadow(0px 1px 2px rgba(0, 0, 0, 0.3));\n",
       "      fill: #FFFFFF;\n",
       "    }\n",
       "  </style>\n",
       "\n",
       "      <script>\n",
       "        const buttonEl =\n",
       "          document.querySelector('#df-9b8671d4-8896-4f0d-add9-3352ebf1a373 button.colab-df-convert');\n",
       "        buttonEl.style.display =\n",
       "          google.colab.kernel.accessAllowed ? 'block' : 'none';\n",
       "\n",
       "        async function convertToInteractive(key) {\n",
       "          const element = document.querySelector('#df-9b8671d4-8896-4f0d-add9-3352ebf1a373');\n",
       "          const dataTable =\n",
       "            await google.colab.kernel.invokeFunction('convertToInteractive',\n",
       "                                                     [key], {});\n",
       "          if (!dataTable) return;\n",
       "\n",
       "          const docLinkHtml = 'Like what you see? Visit the ' +\n",
       "            '<a target=\"_blank\" href=https://colab.research.google.com/notebooks/data_table.ipynb>data table notebook</a>'\n",
       "            + ' to learn more about interactive tables.';\n",
       "          element.innerHTML = '';\n",
       "          dataTable['output_type'] = 'display_data';\n",
       "          await google.colab.output.renderOutput(dataTable, element);\n",
       "          const docLink = document.createElement('div');\n",
       "          docLink.innerHTML = docLinkHtml;\n",
       "          element.appendChild(docLink);\n",
       "        }\n",
       "      </script>\n",
       "    </div>\n",
       "  </div>\n",
       "  "
      ],
      "text/plain": [
       "               0.111111\n",
       "1-TPR          0.107201\n",
       "FPR            0.742616\n",
       "w1_1-TPR       0.058961\n",
       "w2_FPR         0.334177\n",
       "Expected_loss  0.393138"
      ]
     },
     "execution_count": 79,
     "metadata": {},
     "output_type": "execute_result"
    }
   ],
   "source": [
    "test_objective_func(y_test, predict_test, OPT_threshold)"
   ]
  },
  {
   "cell_type": "code",
   "execution_count": 80,
   "id": "ced66427",
   "metadata": {
    "colab": {
     "base_uri": "https://localhost:8080/",
     "height": 295
    },
    "executionInfo": {
     "elapsed": 619,
     "status": "ok",
     "timestamp": 1678971406708,
     "user": {
      "displayName": "조민정",
      "userId": "09786996135651143212"
     },
     "user_tz": -540
    },
    "id": "ced66427",
    "outputId": "7427737f-44a7-46a4-cc50-fd932362b15f"
   },
   "outputs": [
    {
     "data": {
      "image/png": "[encoded data removed]",
      "text/plain": [
       "<Figure size 432x288 with 1 Axes>"
      ]
     },
     "metadata": {
      "needs_background": "light"
     },
     "output_type": "display_data"
    }
   ],
   "source": [
    "# Generate ROC curve and AUC score for the test set\n",
    "from sklearn.metrics import roc_curve,auc\n",
    "fpr, tpr, thresholds = roc_curve(y_test, predict_test)\n",
    "roc_auc = auc(fpr, tpr)\n",
    "model_name = 'Linear Regression'\n",
    "# Plot the ROC curve\n",
    "plt.plot(fpr, tpr, lw=1, label='ROC (AUC = %0.2f)' % roc_auc)\n",
    "plt.plot([0, 1], [0, 1], '--', color='gray', lw=1, label='Random')\n",
    "plt.xlim([0, 1])\n",
    "plt.ylim([0, 1])\n",
    "plt.xlabel('False Positive Rate')\n",
    "plt.ylabel('True Positive Rate')\n",
    "plt.title('%s_ROC_curve'%(model_name))\n",
    "plt.legend(loc='lower right')\n",
    "\n",
    "\n",
    "#plt.savefig(\"%s_ROC_curve_%s.png\"), dpi=300, bbox_inches='tight')\n",
    "plt.show()"
   ]
  },
  {
   "cell_type": "markdown",
   "id": "1aa90b2e",
   "metadata": {
    "id": "1aa90b2e"
   },
   "source": [
    "## 차원 축소 데이터로 진행\n",
    "\n",
    "## 데이터 불러오기"
   ]
  },
  {
   "cell_type": "code",
   "execution_count": 37,
   "id": "8583775a",
   "metadata": {
    "executionInfo": {
     "elapsed": 6768,
     "status": "ok",
     "timestamp": 1678970775910,
     "user": {
      "displayName": "조민정",
      "userId": "09786996135651143212"
     },
     "user_tz": -540
    },
    "id": "8583775a"
   },
   "outputs": [],
   "source": [
    "compressed_train= pd.read_csv('/content/drive/MyDrive/Bigdatafintech/data/train_compressed.csv')\n",
    "compressed_test = pd.read_csv('/content/drive/MyDrive/Bigdatafintech/data/test_compressed.csv')\n",
    "compressed_valid = pd.read_csv('/content/drive/MyDrive/Bigdatafintech/data/validation_compressed.csv')\n"
   ]
  },
  {
   "cell_type": "code",
   "execution_count": 38,
   "id": "7a780787",
   "metadata": {
    "colab": {
     "base_uri": "https://localhost:8080/"
    },
    "executionInfo": {
     "elapsed": 379,
     "status": "ok",
     "timestamp": 1678970777494,
     "user": {
      "displayName": "조민정",
      "userId": "09786996135651143212"
     },
     "user_tz": -540
    },
    "id": "7a780787",
    "outputId": "86405efa-c4c1-49ad-9af6-450c9695fed6"
   },
   "outputs": [
    {
     "name": "stdout",
     "output_type": "stream",
     "text": [
      "(538132, 22)\n"
     ]
    }
   ],
   "source": [
    "print(compressed_train.shape)"
   ]
  },
  {
   "cell_type": "code",
   "execution_count": 39,
   "id": "ef9f6bca",
   "metadata": {
    "executionInfo": {
     "elapsed": 1,
     "status": "ok",
     "timestamp": 1678970777494,
     "user": {
      "displayName": "조민정",
      "userId": "09786996135651143212"
     },
     "user_tz": -540
    },
    "id": "ef9f6bca"
   },
   "outputs": [],
   "source": [
    "compressed_train.drop(['Unnamed: 0'],axis = 1,inplace =True)\n",
    "compressed_test.drop(['Unnamed: 0'],axis = 1,inplace =True)\n",
    "compressed_valid.drop(['Unnamed: 0'],axis = 1,inplace =True)"
   ]
  },
  {
   "cell_type": "code",
   "execution_count": 40,
   "id": "047bd010",
   "metadata": {
    "executionInfo": {
     "elapsed": 1,
     "status": "ok",
     "timestamp": 1678970777494,
     "user": {
      "displayName": "조민정",
      "userId": "09786996135651143212"
     },
     "user_tz": -540
    },
    "id": "047bd010"
   },
   "outputs": [],
   "source": [
    "X_train_compressed ,y_train_compressed  = compressed_train.drop(['depvar'],axis=1),compressed_train['depvar']\n",
    "X_test_compressed ,y_test_compressed  = compressed_test.drop(['depvar'],axis=1),compressed_test['depvar']\n",
    "X_valid_compressed ,y_valid_compressed  = compressed_valid.drop(['depvar'],axis=1),compressed_valid['depvar']"
   ]
  },
  {
   "cell_type": "code",
   "execution_count": 85,
   "id": "0af90725",
   "metadata": {
    "colab": {
     "base_uri": "https://localhost:8080/"
    },
    "executionInfo": {
     "elapsed": 357,
     "status": "ok",
     "timestamp": 1678971539250,
     "user": {
      "displayName": "조민정",
      "userId": "09786996135651143212"
     },
     "user_tz": -540
    },
    "id": "0af90725",
    "outputId": "20cff51e-df9c-4e93-dc48-681694e163bd"
   },
   "outputs": [
    {
     "name": "stdout",
     "output_type": "stream",
     "text": [
      "(538132, 20) (538132,)\n",
      "(179378, 20) (179378,)\n",
      "(179377, 20) (179377,)\n"
     ]
    }
   ],
   "source": [
    "print(X_train_compressed.shape,y_train_compressed.shape)\n",
    "print(X_test_compressed.shape,y_test_compressed.shape)\n",
    "print(X_valid_compressed.shape,y_valid_compressed.shape)"
   ]
  },
  {
   "cell_type": "markdown",
   "id": "DzxJ4hx5gtlO",
   "metadata": {
    "id": "DzxJ4hx5gtlO"
   },
   "source": [
    "## 차원 축소 데이터로 Train"
   ]
  },
  {
   "cell_type": "code",
   "execution_count": 42,
   "id": "61d88fea",
   "metadata": {
    "colab": {
     "base_uri": "https://localhost:8080/",
     "height": 75
    },
    "executionInfo": {
     "elapsed": 1933,
     "status": "ok",
     "timestamp": 1678970782595,
     "user": {
      "displayName": "조민정",
      "userId": "09786996135651143212"
     },
     "user_tz": -540
    },
    "id": "61d88fea",
    "outputId": "92f49f7c-3576-4cbb-e0a4-3de64386834a"
   },
   "outputs": [
    {
     "data": {
      "text/html": [
       "<style>#sk-container-id-2 {color: black;background-color: white;}#sk-container-id-2 pre{padding: 0;}#sk-container-id-2 div.sk-toggleable {background-color: white;}#sk-container-id-2 label.sk-toggleable__label {cursor: pointer;display: block;width: 100%;margin-bottom: 0;padding: 0.3em;box-sizing: border-box;text-align: center;}#sk-container-id-2 label.sk-toggleable__label-arrow:before {content: \"▸\";float: left;margin-right: 0.25em;color: #696969;}#sk-container-id-2 label.sk-toggleable__label-arrow:hover:before {color: black;}#sk-container-id-2 div.sk-estimator:hover label.sk-toggleable__label-arrow:before {color: black;}#sk-container-id-2 div.sk-toggleable__content {max-height: 0;max-width: 0;overflow: hidden;text-align: left;background-color: #f0f8ff;}#sk-container-id-2 div.sk-toggleable__content pre {margin: 0.2em;color: black;border-radius: 0.25em;background-color: #f0f8ff;}#sk-container-id-2 input.sk-toggleable__control:checked~div.sk-toggleable__content {max-height: 200px;max-width: 100%;overflow: auto;}#sk-container-id-2 input.sk-toggleable__control:checked~label.sk-toggleable__label-arrow:before {content: \"▾\";}#sk-container-id-2 div.sk-estimator input.sk-toggleable__control:checked~label.sk-toggleable__label {background-color: #d4ebff;}#sk-container-id-2 div.sk-label input.sk-toggleable__control:checked~label.sk-toggleable__label {background-color: #d4ebff;}#sk-container-id-2 input.sk-hidden--visually {border: 0;clip: rect(1px 1px 1px 1px);clip: rect(1px, 1px, 1px, 1px);height: 1px;margin: -1px;overflow: hidden;padding: 0;position: absolute;width: 1px;}#sk-container-id-2 div.sk-estimator {font-family: monospace;background-color: #f0f8ff;border: 1px dotted black;border-radius: 0.25em;box-sizing: border-box;margin-bottom: 0.5em;}#sk-container-id-2 div.sk-estimator:hover {background-color: #d4ebff;}#sk-container-id-2 div.sk-parallel-item::after {content: \"\";width: 100%;border-bottom: 1px solid gray;flex-grow: 1;}#sk-container-id-2 div.sk-label:hover label.sk-toggleable__label {background-color: #d4ebff;}#sk-container-id-2 div.sk-serial::before {content: \"\";position: absolute;border-left: 1px solid gray;box-sizing: border-box;top: 0;bottom: 0;left: 50%;z-index: 0;}#sk-container-id-2 div.sk-serial {display: flex;flex-direction: column;align-items: center;background-color: white;padding-right: 0.2em;padding-left: 0.2em;position: relative;}#sk-container-id-2 div.sk-item {position: relative;z-index: 1;}#sk-container-id-2 div.sk-parallel {display: flex;align-items: stretch;justify-content: center;background-color: white;position: relative;}#sk-container-id-2 div.sk-item::before, #sk-container-id-2 div.sk-parallel-item::before {content: \"\";position: absolute;border-left: 1px solid gray;box-sizing: border-box;top: 0;bottom: 0;left: 50%;z-index: -1;}#sk-container-id-2 div.sk-parallel-item {display: flex;flex-direction: column;z-index: 1;position: relative;background-color: white;}#sk-container-id-2 div.sk-parallel-item:first-child::after {align-self: flex-end;width: 50%;}#sk-container-id-2 div.sk-parallel-item:last-child::after {align-self: flex-start;width: 50%;}#sk-container-id-2 div.sk-parallel-item:only-child::after {width: 0;}#sk-container-id-2 div.sk-dashed-wrapped {border: 1px dashed gray;margin: 0 0.4em 0.5em 0.4em;box-sizing: border-box;padding-bottom: 0.4em;background-color: white;}#sk-container-id-2 div.sk-label label {font-family: monospace;font-weight: bold;display: inline-block;line-height: 1.2em;}#sk-container-id-2 div.sk-label-container {text-align: center;}#sk-container-id-2 div.sk-container {/* jupyter's `normalize.less` sets `[hidden] { display: none; }` but bootstrap.min.css set `[hidden] { display: none !important; }` so we also need the `!important` here to be able to override the default hidden behavior on the sphinx rendered scikit-learn.org. See: https://github.com/scikit-learn/scikit-learn/issues/21755 */display: inline-block !important;position: relative;}#sk-container-id-2 div.sk-text-repr-fallback {display: none;}</style><div id=\"sk-container-id-2\" class=\"sk-top-container\"><div class=\"sk-text-repr-fallback\"><pre>LinearRegression()</pre><b>In a Jupyter environment, please rerun this cell to show the HTML representation or trust the notebook. <br />On GitHub, the HTML representation is unable to render, please try loading this page with nbviewer.org.</b></div><div class=\"sk-container\" hidden><div class=\"sk-item\"><div class=\"sk-estimator sk-toggleable\"><input class=\"sk-toggleable__control sk-hidden--visually\" id=\"sk-estimator-id-2\" type=\"checkbox\" checked><label for=\"sk-estimator-id-2\" class=\"sk-toggleable__label sk-toggleable__label-arrow\">LinearRegression</label><div class=\"sk-toggleable__content\"><pre>LinearRegression()</pre></div></div></div></div></div>"
      ],
      "text/plain": [
       "LinearRegression()"
      ]
     },
     "execution_count": 42,
     "metadata": {},
     "output_type": "execute_result"
    }
   ],
   "source": [
    "ln_compress_reg = LinearRegression()\n",
    "ln_compress_reg.fit(X_train_compressed,y_train_compressed)"
   ]
  },
  {
   "cell_type": "code",
   "execution_count": 43,
   "id": "eea80d28",
   "metadata": {
    "colab": {
     "base_uri": "https://localhost:8080/"
    },
    "executionInfo": {
     "elapsed": 865,
     "status": "ok",
     "timestamp": 1678970798981,
     "user": {
      "displayName": "조민정",
      "userId": "09786996135651143212"
     },
     "user_tz": -540
    },
    "id": "eea80d28",
    "outputId": "6e6e610d-4fe7-4488-d195-70c74a5baeb2"
   },
   "outputs": [
    {
     "data": {
      "text/plain": [
       "0.004197720595549903"
      ]
     },
     "execution_count": 43,
     "metadata": {},
     "output_type": "execute_result"
    }
   ],
   "source": [
    "ln_compress_reg.score(X_train_compressed,y_train_compressed)"
   ]
  },
  {
   "cell_type": "code",
   "execution_count": 44,
   "id": "eb85f9a5",
   "metadata": {
    "colab": {
     "base_uri": "https://localhost:8080/"
    },
    "executionInfo": {
     "elapsed": 3,
     "status": "ok",
     "timestamp": 1678970801082,
     "user": {
      "displayName": "조민정",
      "userId": "09786996135651143212"
     },
     "user_tz": -540
    },
    "id": "eb85f9a5",
    "outputId": "65d68e94-526b-4ea0-99b0-310c50985ac3"
   },
   "outputs": [
    {
     "data": {
      "text/plain": [
       "0.004229177908607329"
      ]
     },
     "execution_count": 44,
     "metadata": {},
     "output_type": "execute_result"
    }
   ],
   "source": [
    "ln_compress_reg.score(X_valid_compressed,y_valid_compressed)"
   ]
  },
  {
   "cell_type": "code",
   "execution_count": 45,
   "id": "9d841ab1",
   "metadata": {
    "colab": {
     "base_uri": "https://localhost:8080/"
    },
    "executionInfo": {
     "elapsed": 2,
     "status": "ok",
     "timestamp": 1678970803442,
     "user": {
      "displayName": "조민정",
      "userId": "09786996135651143212"
     },
     "user_tz": -540
    },
    "id": "9d841ab1",
    "outputId": "7961fed1-3065-4937-bc68-273bdc1f7f1c"
   },
   "outputs": [
    {
     "data": {
      "text/plain": [
       "array([ 0.00401876,  0.00047104,  0.00301023,  0.00068327,  0.00065005,\n",
       "       -0.00493787, -0.00212831,  0.00440386,  0.01816939, -0.00125884,\n",
       "       -0.00252324,  0.00368601, -0.0109936 ,  0.00389476, -0.00998543,\n",
       "       -0.01434571,  0.01228585, -0.00414513, -0.00871777,  0.01551318])"
      ]
     },
     "execution_count": 45,
     "metadata": {},
     "output_type": "execute_result"
    }
   ],
   "source": [
    "ln_compress_reg.coef_"
   ]
  },
  {
   "cell_type": "code",
   "execution_count": 86,
   "id": "60d16eec",
   "metadata": {
    "executionInfo": {
     "elapsed": 571,
     "status": "ok",
     "timestamp": 1678971556597,
     "user": {
      "displayName": "조민정",
      "userId": "09786996135651143212"
     },
     "user_tz": -540
    },
    "id": "60d16eec"
   },
   "outputs": [],
   "source": [
    "predict_compress = ln_compress_reg.predict(X_valid_compressed)"
   ]
  },
  {
   "cell_type": "code",
   "execution_count": 87,
   "id": "387bc1b2",
   "metadata": {
    "colab": {
     "base_uri": "https://localhost:8080/"
    },
    "executionInfo": {
     "elapsed": 2,
     "status": "ok",
     "timestamp": 1678971557470,
     "user": {
      "displayName": "조민정",
      "userId": "09786996135651143212"
     },
     "user_tz": -540
    },
    "id": "387bc1b2",
    "outputId": "8e2728a0-5922-473c-e0d8-7158e902d051"
   },
   "outputs": [
    {
     "data": {
      "text/plain": [
       "array([0.18154057, 0.17018782, 0.17936705, ..., 0.15838887, 0.147259  ,\n",
       "       0.16214397])"
      ]
     },
     "execution_count": 87,
     "metadata": {},
     "output_type": "execute_result"
    }
   ],
   "source": [
    "predict_compress"
   ]
  },
  {
   "cell_type": "code",
   "execution_count": 88,
   "id": "c15c752c",
   "metadata": {
    "colab": {
     "base_uri": "https://localhost:8080/",
     "height": 941
    },
    "executionInfo": {
     "elapsed": 2103,
     "status": "ok",
     "timestamp": 1678971560225,
     "user": {
      "displayName": "조민정",
      "userId": "09786996135651143212"
     },
     "user_tz": -540
    },
    "id": "c15c752c",
    "outputId": "42302bac-323c-4d2c-c00b-459e5378d0f7"
   },
   "outputs": [
    {
     "name": "stdout",
     "output_type": "stream",
     "text": [
      "0.0 fp 150302\n",
      "threshold 0.0  일 때 0 150302 0 29075\n",
      "0.11 fp 147644\n",
      "threshold 0.11  일 때 2658 147644 400 28675\n",
      "0.22 fp 1142\n",
      "threshold 0.22  일 때 149160 1142 28813 262\n",
      "0.33 fp 152\n",
      "threshold 0.33  일 때 150150 152 29048 27\n",
      "0.44 fp 36\n",
      "threshold 0.44  일 때 150266 36 29072 3\n",
      "0.56 fp 0\n",
      "threshold 0.56  일 때 150302 0 29075 0\n",
      "0.67 fp 0\n",
      "threshold 0.67  일 때 150302 0 29075 0\n",
      "0.78 fp 0\n",
      "threshold 0.78  일 때 150302 0 29075 0\n",
      "0.89 fp 0\n",
      "threshold 0.89  일 때 150302 0 29075 0\n",
      "1.0 fp 0\n",
      "threshold 1.0  일 때 150302 0 29075 0\n",
      "0.1111111111111111\n",
      "0.4496086600674071\n"
     ]
    },
    {
     "data": {
      "image/png": "[encoded data removed]",
      "text/plain": [
       "<Figure size 432x288 with 1 Axes>"
      ]
     },
     "metadata": {
      "needs_background": "light"
     },
     "output_type": "display_data"
    },
    {
     "data": {
      "text/html": [
       "\n",
       "  <div id=\"df-35ef3409-6433-4e4b-bad9-380d5cc4b3bf\">\n",
       "    <div class=\"colab-df-container\">\n",
       "      <div>\n",
       "<style scoped>\n",
       "    .dataframe tbody tr th:only-of-type {\n",
       "        vertical-align: middle;\n",
       "    }\n",
       "\n",
       "    .dataframe tbody tr th {\n",
       "        vertical-align: top;\n",
       "    }\n",
       "\n",
       "    .dataframe thead th {\n",
       "        text-align: right;\n",
       "    }\n",
       "</style>\n",
       "<table border=\"1\" class=\"dataframe\">\n",
       "  <thead>\n",
       "    <tr style=\"text-align: right;\">\n",
       "      <th></th>\n",
       "      <th>0.0000</th>\n",
       "      <th>0.0067</th>\n",
       "      <th>0.0133</th>\n",
       "      <th>0.0200</th>\n",
       "      <th>0.0267</th>\n",
       "      <th>0.0333</th>\n",
       "      <th>0.0400</th>\n",
       "      <th>0.0467</th>\n",
       "      <th>0.0533</th>\n",
       "      <th>0.0600</th>\n",
       "      <th>0.1111</th>\n",
       "      <th>0.2222</th>\n",
       "      <th>0.3333</th>\n",
       "      <th>0.4444</th>\n",
       "      <th>0.5556</th>\n",
       "      <th>0.6667</th>\n",
       "      <th>0.7778</th>\n",
       "      <th>0.8889</th>\n",
       "      <th>1.0000</th>\n",
       "    </tr>\n",
       "  </thead>\n",
       "  <tbody>\n",
       "    <tr>\n",
       "      <th>1-TPR</th>\n",
       "      <td>0.00</td>\n",
       "      <td>0.004334</td>\n",
       "      <td>0.005469</td>\n",
       "      <td>0.007016</td>\n",
       "      <td>0.009252</td>\n",
       "      <td>0.011694</td>\n",
       "      <td>0.013895</td>\n",
       "      <td>0.017610</td>\n",
       "      <td>0.021634</td>\n",
       "      <td>0.026552</td>\n",
       "      <td>0.013758</td>\n",
       "      <td>0.990989</td>\n",
       "      <td>0.999071</td>\n",
       "      <td>0.999897</td>\n",
       "      <td>1.00</td>\n",
       "      <td>1.00</td>\n",
       "      <td>1.00</td>\n",
       "      <td>1.00</td>\n",
       "      <td>1.00</td>\n",
       "    </tr>\n",
       "    <tr>\n",
       "      <th>FPR</th>\n",
       "      <td>1.00</td>\n",
       "      <td>0.974950</td>\n",
       "      <td>0.969834</td>\n",
       "      <td>0.963700</td>\n",
       "      <td>0.956774</td>\n",
       "      <td>0.948477</td>\n",
       "      <td>0.939429</td>\n",
       "      <td>0.928258</td>\n",
       "      <td>0.916814</td>\n",
       "      <td>0.903049</td>\n",
       "      <td>0.982316</td>\n",
       "      <td>0.007598</td>\n",
       "      <td>0.001011</td>\n",
       "      <td>0.000240</td>\n",
       "      <td>0.00</td>\n",
       "      <td>0.00</td>\n",
       "      <td>0.00</td>\n",
       "      <td>0.00</td>\n",
       "      <td>0.00</td>\n",
       "    </tr>\n",
       "    <tr>\n",
       "      <th>w1_1-TPR</th>\n",
       "      <td>0.00</td>\n",
       "      <td>0.002383</td>\n",
       "      <td>0.003008</td>\n",
       "      <td>0.003859</td>\n",
       "      <td>0.005089</td>\n",
       "      <td>0.006432</td>\n",
       "      <td>0.007642</td>\n",
       "      <td>0.009685</td>\n",
       "      <td>0.011899</td>\n",
       "      <td>0.014604</td>\n",
       "      <td>0.007567</td>\n",
       "      <td>0.545044</td>\n",
       "      <td>0.549489</td>\n",
       "      <td>0.549943</td>\n",
       "      <td>0.55</td>\n",
       "      <td>0.55</td>\n",
       "      <td>0.55</td>\n",
       "      <td>0.55</td>\n",
       "      <td>0.55</td>\n",
       "    </tr>\n",
       "    <tr>\n",
       "      <th>w2_FPR</th>\n",
       "      <td>0.45</td>\n",
       "      <td>0.438728</td>\n",
       "      <td>0.436425</td>\n",
       "      <td>0.433665</td>\n",
       "      <td>0.430548</td>\n",
       "      <td>0.426815</td>\n",
       "      <td>0.422743</td>\n",
       "      <td>0.417716</td>\n",
       "      <td>0.412566</td>\n",
       "      <td>0.406372</td>\n",
       "      <td>0.442042</td>\n",
       "      <td>0.003419</td>\n",
       "      <td>0.000455</td>\n",
       "      <td>0.000108</td>\n",
       "      <td>0.00</td>\n",
       "      <td>0.00</td>\n",
       "      <td>0.00</td>\n",
       "      <td>0.00</td>\n",
       "      <td>0.00</td>\n",
       "    </tr>\n",
       "    <tr>\n",
       "      <th>Expected_loss</th>\n",
       "      <td>0.45</td>\n",
       "      <td>0.441111</td>\n",
       "      <td>0.439433</td>\n",
       "      <td>0.437524</td>\n",
       "      <td>0.435637</td>\n",
       "      <td>0.433246</td>\n",
       "      <td>0.430385</td>\n",
       "      <td>0.427401</td>\n",
       "      <td>0.424465</td>\n",
       "      <td>0.420975</td>\n",
       "      <td>0.449609</td>\n",
       "      <td>0.548463</td>\n",
       "      <td>0.549944</td>\n",
       "      <td>0.550051</td>\n",
       "      <td>0.55</td>\n",
       "      <td>0.55</td>\n",
       "      <td>0.55</td>\n",
       "      <td>0.55</td>\n",
       "      <td>0.55</td>\n",
       "    </tr>\n",
       "  </tbody>\n",
       "</table>\n",
       "</div>\n",
       "      <button class=\"colab-df-convert\" onclick=\"convertToInteractive('df-35ef3409-6433-4e4b-bad9-380d5cc4b3bf')\"\n",
       "              title=\"Convert this dataframe to an interactive table.\"\n",
       "              style=\"display:none;\">\n",
       "        \n",
       "  <svg xmlns=\"http://www.w3.org/2000/svg\" height=\"24px\"viewBox=\"0 0 24 24\"\n",
       "       width=\"24px\">\n",
       "    <path d=\"M0 0h24v24H0V0z\" fill=\"none\"/>\n",
       "    <path d=\"M18.56 5.44l.94 2.06.94-2.06 2.06-.94-2.06-.94-.94-2.06-.94 2.06-2.06.94zm-11 1L8.5 8.5l.94-2.06 2.06-.94-2.06-.94L8.5 2.5l-.94 2.06-2.06.94zm10 10l.94 2.06.94-2.06 2.06-.94-2.06-.94-.94-2.06-.94 2.06-2.06.94z\"/><path d=\"M17.41 7.96l-1.37-1.37c-.4-.4-.92-.59-1.43-.59-.52 0-1.04.2-1.43.59L10.3 9.45l-7.72 7.72c-.78.78-.78 2.05 0 2.83L4 21.41c.39.39.9.59 1.41.59.51 0 1.02-.2 1.41-.59l7.78-7.78 2.81-2.81c.8-.78.8-2.07 0-2.86zM5.41 20L4 18.59l7.72-7.72 1.47 1.35L5.41 20z\"/>\n",
       "  </svg>\n",
       "      </button>\n",
       "      \n",
       "  <style>\n",
       "    .colab-df-container {\n",
       "      display:flex;\n",
       "      flex-wrap:wrap;\n",
       "      gap: 12px;\n",
       "    }\n",
       "\n",
       "    .colab-df-convert {\n",
       "      background-color: #E8F0FE;\n",
       "      border: none;\n",
       "      border-radius: 50%;\n",
       "      cursor: pointer;\n",
       "      display: none;\n",
       "      fill: #1967D2;\n",
       "      height: 32px;\n",
       "      padding: 0 0 0 0;\n",
       "      width: 32px;\n",
       "    }\n",
       "\n",
       "    .colab-df-convert:hover {\n",
       "      background-color: #E2EBFA;\n",
       "      box-shadow: 0px 1px 2px rgba(60, 64, 67, 0.3), 0px 1px 3px 1px rgba(60, 64, 67, 0.15);\n",
       "      fill: #174EA6;\n",
       "    }\n",
       "\n",
       "    [theme=dark] .colab-df-convert {\n",
       "      background-color: #3B4455;\n",
       "      fill: #D2E3FC;\n",
       "    }\n",
       "\n",
       "    [theme=dark] .colab-df-convert:hover {\n",
       "      background-color: #434B5C;\n",
       "      box-shadow: 0px 1px 3px 1px rgba(0, 0, 0, 0.15);\n",
       "      filter: drop-shadow(0px 1px 2px rgba(0, 0, 0, 0.3));\n",
       "      fill: #FFFFFF;\n",
       "    }\n",
       "  </style>\n",
       "\n",
       "      <script>\n",
       "        const buttonEl =\n",
       "          document.querySelector('#df-35ef3409-6433-4e4b-bad9-380d5cc4b3bf button.colab-df-convert');\n",
       "        buttonEl.style.display =\n",
       "          google.colab.kernel.accessAllowed ? 'block' : 'none';\n",
       "\n",
       "        async function convertToInteractive(key) {\n",
       "          const element = document.querySelector('#df-35ef3409-6433-4e4b-bad9-380d5cc4b3bf');\n",
       "          const dataTable =\n",
       "            await google.colab.kernel.invokeFunction('convertToInteractive',\n",
       "                                                     [key], {});\n",
       "          if (!dataTable) return;\n",
       "\n",
       "          const docLinkHtml = 'Like what you see? Visit the ' +\n",
       "            '<a target=\"_blank\" href=https://colab.research.google.com/notebooks/data_table.ipynb>data table notebook</a>'\n",
       "            + ' to learn more about interactive tables.';\n",
       "          element.innerHTML = '';\n",
       "          dataTable['output_type'] = 'display_data';\n",
       "          await google.colab.output.renderOutput(dataTable, element);\n",
       "          const docLink = document.createElement('div');\n",
       "          docLink.innerHTML = docLinkHtml;\n",
       "          element.appendChild(docLink);\n",
       "        }\n",
       "      </script>\n",
       "    </div>\n",
       "  </div>\n",
       "  "
      ],
      "text/plain": [
       "               0.0000    0.0067    0.0133    0.0200    0.0267    0.0333  \\\n",
       "1-TPR            0.00  0.004334  0.005469  0.007016  0.009252  0.011694   \n",
       "FPR              1.00  0.974950  0.969834  0.963700  0.956774  0.948477   \n",
       "w1_1-TPR         0.00  0.002383  0.003008  0.003859  0.005089  0.006432   \n",
       "w2_FPR           0.45  0.438728  0.436425  0.433665  0.430548  0.426815   \n",
       "Expected_loss    0.45  0.441111  0.439433  0.437524  0.435637  0.433246   \n",
       "\n",
       "                 0.0400    0.0467    0.0533    0.0600    0.1111    0.2222  \\\n",
       "1-TPR          0.013895  0.017610  0.021634  0.026552  0.013758  0.990989   \n",
       "FPR            0.939429  0.928258  0.916814  0.903049  0.982316  0.007598   \n",
       "w1_1-TPR       0.007642  0.009685  0.011899  0.014604  0.007567  0.545044   \n",
       "w2_FPR         0.422743  0.417716  0.412566  0.406372  0.442042  0.003419   \n",
       "Expected_loss  0.430385  0.427401  0.424465  0.420975  0.449609  0.548463   \n",
       "\n",
       "                 0.3333    0.4444  0.5556  0.6667  0.7778  0.8889  1.0000  \n",
       "1-TPR          0.999071  0.999897    1.00    1.00    1.00    1.00    1.00  \n",
       "FPR            0.001011  0.000240    0.00    0.00    0.00    0.00    0.00  \n",
       "w1_1-TPR       0.549489  0.549943    0.55    0.55    0.55    0.55    0.55  \n",
       "w2_FPR         0.000455  0.000108    0.00    0.00    0.00    0.00    0.00  \n",
       "Expected_loss  0.549944  0.550051    0.55    0.55    0.55    0.55    0.55  "
      ]
     },
     "execution_count": 88,
     "metadata": {},
     "output_type": "execute_result"
    }
   ],
   "source": [
    "threshold_list = np.linspace(0,1,10) \n",
    "objective_func(predict_compress,threshold_list)"
   ]
  },
  {
   "cell_type": "code",
   "execution_count": 89,
   "id": "adee31ba",
   "metadata": {
    "colab": {
     "base_uri": "https://localhost:8080/",
     "height": 296
    },
    "executionInfo": {
     "elapsed": 1061,
     "status": "ok",
     "timestamp": 1678971561733,
     "user": {
      "displayName": "조민정",
      "userId": "09786996135651143212"
     },
     "user_tz": -540
    },
    "id": "adee31ba",
    "outputId": "68c152ff-ec8d-4e3a-9d1b-89ba3e309fe4"
   },
   "outputs": [
    {
     "data": {
      "image/png": "[encoded data removed]",
      "text/plain": [
       "<Figure size 432x288 with 1 Axes>"
      ]
     },
     "metadata": {
      "needs_background": "light"
     },
     "output_type": "display_data"
    }
   ],
   "source": [
    "# Predict probabilities for new data\n",
    "\n",
    "plt.hist(predict_compress, bins=100)\n",
    "\n",
    "plt.xlabel('predict_compress')\n",
    "plt.ylabel('Frequency')\n",
    "plt.title('Frequency of predict_compress')\n",
    "plt.axvline(x=OPT_threshold, color='navy', linewidth=5, label='Optimal Threshold')\n",
    "\n",
    "plt.savefig(\"image.png\", dpi=300, bbox_inches='tight')\n",
    "\n",
    "plt.show() # y_val_pred_proba의 분포 확인"
   ]
  },
  {
   "cell_type": "code",
   "execution_count": 52,
   "id": "1420a65c",
   "metadata": {
    "executionInfo": {
     "elapsed": 505,
     "status": "ok",
     "timestamp": 1678970933912,
     "user": {
      "displayName": "조민정",
      "userId": "09786996135651143212"
     },
     "user_tz": -540
    },
    "id": "1420a65c"
   },
   "outputs": [],
   "source": [
    "renew_compress = []\n",
    "for i in predict_compress :\n",
    "    if i<OPT_threshold:\n",
    "        renew_compress.append(0)\n",
    "    else:\n",
    "        renew_compress.append(1)"
   ]
  },
  {
   "cell_type": "markdown",
   "id": "cfbed8e6",
   "metadata": {
    "id": "cfbed8e6"
   },
   "source": [
    "## 차원 축소 Test 데이터에 대하여 성능 평가\n"
   ]
  },
  {
   "cell_type": "markdown",
   "id": "sGaXjeiJg4-8",
   "metadata": {
    "id": "sGaXjeiJg4-8"
   },
   "source": [
    "## test 데이터로 예측 진행"
   ]
  },
  {
   "cell_type": "code",
   "execution_count": 91,
   "id": "diA0aMTBgPkX",
   "metadata": {
    "executionInfo": {
     "elapsed": 491,
     "status": "ok",
     "timestamp": 1678971596364,
     "user": {
      "displayName": "조민정",
      "userId": "09786996135651143212"
     },
     "user_tz": -540
    },
    "id": "diA0aMTBgPkX"
   },
   "outputs": [],
   "source": [
    "predict_test_compress = ln_compress_reg.predict(X_test_compressed)"
   ]
  },
  {
   "cell_type": "code",
   "execution_count": 95,
   "id": "cM7D0oOlg2Gh",
   "metadata": {
    "colab": {
     "base_uri": "https://localhost:8080/",
     "height": 296
    },
    "executionInfo": {
     "elapsed": 923,
     "status": "ok",
     "timestamp": 1678971730477,
     "user": {
      "displayName": "조민정",
      "userId": "09786996135651143212"
     },
     "user_tz": -540
    },
    "id": "cM7D0oOlg2Gh",
    "outputId": "86c767c4-0f93-43fe-a867-a320ff3627c5"
   },
   "outputs": [
    {
     "data": {
      "image/png": "[encoded data removed]",
      "text/plain": [
       "<Figure size 432x288 with 1 Axes>"
      ]
     },
     "metadata": {
      "needs_background": "light"
     },
     "output_type": "display_data"
    }
   ],
   "source": [
    "# Predict probabilities for new data\n",
    "\n",
    "plt.hist(predict_test_compress, bins=100)\n",
    "\n",
    "plt.xlabel('predict_compress')\n",
    "plt.ylabel('Frequency')\n",
    "plt.title('Frequency of predict_compress')\n",
    "plt.axvline(x=OPT_threshold, color='navy', linewidth=5, label='Optimal Threshold')\n",
    "\n",
    "plt.savefig(\"image.png\", dpi=300, bbox_inches='tight')\n",
    "\n",
    "plt.show() # y_val_pred_proba의 분포 확인"
   ]
  },
  {
   "cell_type": "code",
   "execution_count": 92,
   "id": "z7U2kERGf3p5",
   "metadata": {
    "colab": {
     "base_uri": "https://localhost:8080/",
     "height": 440
    },
    "executionInfo": {
     "elapsed": 597,
     "status": "ok",
     "timestamp": 1678971602758,
     "user": {
      "displayName": "조민정",
      "userId": "09786996135651143212"
     },
     "user_tz": -540
    },
    "id": "z7U2kERGf3p5",
    "outputId": "ee45dc2b-abd0-45c9-87e8-86e08ffdedaa"
   },
   "outputs": [
    {
     "data": {
      "image/png": "[encoded data removed]",
      "text/plain": [
       "<Figure size 432x288 with 2 Axes>"
      ]
     },
     "metadata": {
      "needs_background": "light"
     },
     "output_type": "display_data"
    },
    {
     "data": {
      "text/html": [
       "\n",
       "  <div id=\"df-f105963e-b351-4d99-b8ca-cb89778bbee7\">\n",
       "    <div class=\"colab-df-container\">\n",
       "      <div>\n",
       "<style scoped>\n",
       "    .dataframe tbody tr th:only-of-type {\n",
       "        vertical-align: middle;\n",
       "    }\n",
       "\n",
       "    .dataframe tbody tr th {\n",
       "        vertical-align: top;\n",
       "    }\n",
       "\n",
       "    .dataframe thead th {\n",
       "        text-align: right;\n",
       "    }\n",
       "</style>\n",
       "<table border=\"1\" class=\"dataframe\">\n",
       "  <thead>\n",
       "    <tr style=\"text-align: right;\">\n",
       "      <th></th>\n",
       "      <th>1_real</th>\n",
       "      <th>1_pred</th>\n",
       "      <th>0_real</th>\n",
       "      <th>0_pred</th>\n",
       "      <th>tn</th>\n",
       "      <th>fp</th>\n",
       "      <th>fn</th>\n",
       "      <th>tp</th>\n",
       "      <th>tn_%</th>\n",
       "      <th>fp_%</th>\n",
       "      <th>fn_%</th>\n",
       "      <th>tp_%</th>\n",
       "      <th>Accuracy</th>\n",
       "      <th>Precision</th>\n",
       "      <th>Recall</th>\n",
       "      <th>F1 score</th>\n",
       "    </tr>\n",
       "  </thead>\n",
       "  <tbody>\n",
       "    <tr>\n",
       "      <th>result</th>\n",
       "      <td>150303.0</td>\n",
       "      <td>3487.0</td>\n",
       "      <td>29075.0</td>\n",
       "      <td>175891.0</td>\n",
       "      <td>3020.0</td>\n",
       "      <td>147283.0</td>\n",
       "      <td>467.0</td>\n",
       "      <td>28608.0</td>\n",
       "      <td>1.7</td>\n",
       "      <td>82.1</td>\n",
       "      <td>0.3</td>\n",
       "      <td>15.9</td>\n",
       "      <td>0.1763</td>\n",
       "      <td>0.1626</td>\n",
       "      <td>0.9839</td>\n",
       "      <td>0.2791</td>\n",
       "    </tr>\n",
       "  </tbody>\n",
       "</table>\n",
       "</div>\n",
       "      <button class=\"colab-df-convert\" onclick=\"convertToInteractive('df-f105963e-b351-4d99-b8ca-cb89778bbee7')\"\n",
       "              title=\"Convert this dataframe to an interactive table.\"\n",
       "              style=\"display:none;\">\n",
       "        \n",
       "  <svg xmlns=\"http://www.w3.org/2000/svg\" height=\"24px\"viewBox=\"0 0 24 24\"\n",
       "       width=\"24px\">\n",
       "    <path d=\"M0 0h24v24H0V0z\" fill=\"none\"/>\n",
       "    <path d=\"M18.56 5.44l.94 2.06.94-2.06 2.06-.94-2.06-.94-.94-2.06-.94 2.06-2.06.94zm-11 1L8.5 8.5l.94-2.06 2.06-.94-2.06-.94L8.5 2.5l-.94 2.06-2.06.94zm10 10l.94 2.06.94-2.06 2.06-.94-2.06-.94-.94-2.06-.94 2.06-2.06.94z\"/><path d=\"M17.41 7.96l-1.37-1.37c-.4-.4-.92-.59-1.43-.59-.52 0-1.04.2-1.43.59L10.3 9.45l-7.72 7.72c-.78.78-.78 2.05 0 2.83L4 21.41c.39.39.9.59 1.41.59.51 0 1.02-.2 1.41-.59l7.78-7.78 2.81-2.81c.8-.78.8-2.07 0-2.86zM5.41 20L4 18.59l7.72-7.72 1.47 1.35L5.41 20z\"/>\n",
       "  </svg>\n",
       "      </button>\n",
       "      \n",
       "  <style>\n",
       "    .colab-df-container {\n",
       "      display:flex;\n",
       "      flex-wrap:wrap;\n",
       "      gap: 12px;\n",
       "    }\n",
       "\n",
       "    .colab-df-convert {\n",
       "      background-color: #E8F0FE;\n",
       "      border: none;\n",
       "      border-radius: 50%;\n",
       "      cursor: pointer;\n",
       "      display: none;\n",
       "      fill: #1967D2;\n",
       "      height: 32px;\n",
       "      padding: 0 0 0 0;\n",
       "      width: 32px;\n",
       "    }\n",
       "\n",
       "    .colab-df-convert:hover {\n",
       "      background-color: #E2EBFA;\n",
       "      box-shadow: 0px 1px 2px rgba(60, 64, 67, 0.3), 0px 1px 3px 1px rgba(60, 64, 67, 0.15);\n",
       "      fill: #174EA6;\n",
       "    }\n",
       "\n",
       "    [theme=dark] .colab-df-convert {\n",
       "      background-color: #3B4455;\n",
       "      fill: #D2E3FC;\n",
       "    }\n",
       "\n",
       "    [theme=dark] .colab-df-convert:hover {\n",
       "      background-color: #434B5C;\n",
       "      box-shadow: 0px 1px 3px 1px rgba(0, 0, 0, 0.15);\n",
       "      filter: drop-shadow(0px 1px 2px rgba(0, 0, 0, 0.3));\n",
       "      fill: #FFFFFF;\n",
       "    }\n",
       "  </style>\n",
       "\n",
       "      <script>\n",
       "        const buttonEl =\n",
       "          document.querySelector('#df-f105963e-b351-4d99-b8ca-cb89778bbee7 button.colab-df-convert');\n",
       "        buttonEl.style.display =\n",
       "          google.colab.kernel.accessAllowed ? 'block' : 'none';\n",
       "\n",
       "        async function convertToInteractive(key) {\n",
       "          const element = document.querySelector('#df-f105963e-b351-4d99-b8ca-cb89778bbee7');\n",
       "          const dataTable =\n",
       "            await google.colab.kernel.invokeFunction('convertToInteractive',\n",
       "                                                     [key], {});\n",
       "          if (!dataTable) return;\n",
       "\n",
       "          const docLinkHtml = 'Like what you see? Visit the ' +\n",
       "            '<a target=\"_blank\" href=https://colab.research.google.com/notebooks/data_table.ipynb>data table notebook</a>'\n",
       "            + ' to learn more about interactive tables.';\n",
       "          element.innerHTML = '';\n",
       "          dataTable['output_type'] = 'display_data';\n",
       "          await google.colab.output.renderOutput(dataTable, element);\n",
       "          const docLink = document.createElement('div');\n",
       "          docLink.innerHTML = docLinkHtml;\n",
       "          element.appendChild(docLink);\n",
       "        }\n",
       "      </script>\n",
       "    </div>\n",
       "  </div>\n",
       "  "
      ],
      "text/plain": [
       "          1_real  1_pred   0_real    0_pred      tn        fp     fn       tp  \\\n",
       "result  150303.0  3487.0  29075.0  175891.0  3020.0  147283.0  467.0  28608.0   \n",
       "\n",
       "        tn_%  fp_%  fn_%  tp_%  Accuracy  Precision  Recall  F1 score  \n",
       "result   1.7  82.1   0.3  15.9    0.1763     0.1626  0.9839    0.2791  "
      ]
     },
     "execution_count": 92,
     "metadata": {},
     "output_type": "execute_result"
    }
   ],
   "source": [
    "test_func(y_test_compressed, predict_test_compress, OPT_threshold)"
   ]
  },
  {
   "cell_type": "code",
   "execution_count": 93,
   "id": "byDasxzcgdp9",
   "metadata": {
    "colab": {
     "base_uri": "https://localhost:8080/",
     "height": 224
    },
    "executionInfo": {
     "elapsed": 901,
     "status": "ok",
     "timestamp": 1678971646264,
     "user": {
      "displayName": "조민정",
      "userId": "09786996135651143212"
     },
     "user_tz": -540
    },
    "id": "byDasxzcgdp9",
    "outputId": "e0733d7c-e8bd-4037-ffff-fde95191d5a5"
   },
   "outputs": [
    {
     "name": "stdout",
     "output_type": "stream",
     "text": [
      "0.4497923141771249\n"
     ]
    },
    {
     "data": {
      "text/html": [
       "\n",
       "  <div id=\"df-238a7a8f-c114-43db-bfea-b6f7725bc2b4\">\n",
       "    <div class=\"colab-df-container\">\n",
       "      <div>\n",
       "<style scoped>\n",
       "    .dataframe tbody tr th:only-of-type {\n",
       "        vertical-align: middle;\n",
       "    }\n",
       "\n",
       "    .dataframe tbody tr th {\n",
       "        vertical-align: top;\n",
       "    }\n",
       "\n",
       "    .dataframe thead th {\n",
       "        text-align: right;\n",
       "    }\n",
       "</style>\n",
       "<table border=\"1\" class=\"dataframe\">\n",
       "  <thead>\n",
       "    <tr style=\"text-align: right;\">\n",
       "      <th></th>\n",
       "      <th>0.111111</th>\n",
       "    </tr>\n",
       "  </thead>\n",
       "  <tbody>\n",
       "    <tr>\n",
       "      <th>1-TPR</th>\n",
       "      <td>0.016062</td>\n",
       "    </tr>\n",
       "    <tr>\n",
       "      <th>FPR</th>\n",
       "      <td>0.979907</td>\n",
       "    </tr>\n",
       "    <tr>\n",
       "      <th>w1_1-TPR</th>\n",
       "      <td>0.008834</td>\n",
       "    </tr>\n",
       "    <tr>\n",
       "      <th>w2_FPR</th>\n",
       "      <td>0.440958</td>\n",
       "    </tr>\n",
       "    <tr>\n",
       "      <th>Expected_loss</th>\n",
       "      <td>0.449792</td>\n",
       "    </tr>\n",
       "  </tbody>\n",
       "</table>\n",
       "</div>\n",
       "      <button class=\"colab-df-convert\" onclick=\"convertToInteractive('df-238a7a8f-c114-43db-bfea-b6f7725bc2b4')\"\n",
       "              title=\"Convert this dataframe to an interactive table.\"\n",
       "              style=\"display:none;\">\n",
       "        \n",
       "  <svg xmlns=\"http://www.w3.org/2000/svg\" height=\"24px\"viewBox=\"0 0 24 24\"\n",
       "       width=\"24px\">\n",
       "    <path d=\"M0 0h24v24H0V0z\" fill=\"none\"/>\n",
       "    <path d=\"M18.56 5.44l.94 2.06.94-2.06 2.06-.94-2.06-.94-.94-2.06-.94 2.06-2.06.94zm-11 1L8.5 8.5l.94-2.06 2.06-.94-2.06-.94L8.5 2.5l-.94 2.06-2.06.94zm10 10l.94 2.06.94-2.06 2.06-.94-2.06-.94-.94-2.06-.94 2.06-2.06.94z\"/><path d=\"M17.41 7.96l-1.37-1.37c-.4-.4-.92-.59-1.43-.59-.52 0-1.04.2-1.43.59L10.3 9.45l-7.72 7.72c-.78.78-.78 2.05 0 2.83L4 21.41c.39.39.9.59 1.41.59.51 0 1.02-.2 1.41-.59l7.78-7.78 2.81-2.81c.8-.78.8-2.07 0-2.86zM5.41 20L4 18.59l7.72-7.72 1.47 1.35L5.41 20z\"/>\n",
       "  </svg>\n",
       "      </button>\n",
       "      \n",
       "  <style>\n",
       "    .colab-df-container {\n",
       "      display:flex;\n",
       "      flex-wrap:wrap;\n",
       "      gap: 12px;\n",
       "    }\n",
       "\n",
       "    .colab-df-convert {\n",
       "      background-color: #E8F0FE;\n",
       "      border: none;\n",
       "      border-radius: 50%;\n",
       "      cursor: pointer;\n",
       "      display: none;\n",
       "      fill: #1967D2;\n",
       "      height: 32px;\n",
       "      padding: 0 0 0 0;\n",
       "      width: 32px;\n",
       "    }\n",
       "\n",
       "    .colab-df-convert:hover {\n",
       "      background-color: #E2EBFA;\n",
       "      box-shadow: 0px 1px 2px rgba(60, 64, 67, 0.3), 0px 1px 3px 1px rgba(60, 64, 67, 0.15);\n",
       "      fill: #174EA6;\n",
       "    }\n",
       "\n",
       "    [theme=dark] .colab-df-convert {\n",
       "      background-color: #3B4455;\n",
       "      fill: #D2E3FC;\n",
       "    }\n",
       "\n",
       "    [theme=dark] .colab-df-convert:hover {\n",
       "      background-color: #434B5C;\n",
       "      box-shadow: 0px 1px 3px 1px rgba(0, 0, 0, 0.15);\n",
       "      filter: drop-shadow(0px 1px 2px rgba(0, 0, 0, 0.3));\n",
       "      fill: #FFFFFF;\n",
       "    }\n",
       "  </style>\n",
       "\n",
       "      <script>\n",
       "        const buttonEl =\n",
       "          document.querySelector('#df-238a7a8f-c114-43db-bfea-b6f7725bc2b4 button.colab-df-convert');\n",
       "        buttonEl.style.display =\n",
       "          google.colab.kernel.accessAllowed ? 'block' : 'none';\n",
       "\n",
       "        async function convertToInteractive(key) {\n",
       "          const element = document.querySelector('#df-238a7a8f-c114-43db-bfea-b6f7725bc2b4');\n",
       "          const dataTable =\n",
       "            await google.colab.kernel.invokeFunction('convertToInteractive',\n",
       "                                                     [key], {});\n",
       "          if (!dataTable) return;\n",
       "\n",
       "          const docLinkHtml = 'Like what you see? Visit the ' +\n",
       "            '<a target=\"_blank\" href=https://colab.research.google.com/notebooks/data_table.ipynb>data table notebook</a>'\n",
       "            + ' to learn more about interactive tables.';\n",
       "          element.innerHTML = '';\n",
       "          dataTable['output_type'] = 'display_data';\n",
       "          await google.colab.output.renderOutput(dataTable, element);\n",
       "          const docLink = document.createElement('div');\n",
       "          docLink.innerHTML = docLinkHtml;\n",
       "          element.appendChild(docLink);\n",
       "        }\n",
       "      </script>\n",
       "    </div>\n",
       "  </div>\n",
       "  "
      ],
      "text/plain": [
       "               0.111111\n",
       "1-TPR          0.016062\n",
       "FPR            0.979907\n",
       "w1_1-TPR       0.008834\n",
       "w2_FPR         0.440958\n",
       "Expected_loss  0.449792"
      ]
     },
     "execution_count": 93,
     "metadata": {},
     "output_type": "execute_result"
    }
   ],
   "source": [
    "test_objective_func(y_test_compressed, predict_test_compress, OPT_threshold)"
   ]
  },
  {
   "cell_type": "code",
   "execution_count": 94,
   "id": "26aaa9a2",
   "metadata": {
    "colab": {
     "base_uri": "https://localhost:8080/",
     "height": 295
    },
    "executionInfo": {
     "elapsed": 621,
     "status": "ok",
     "timestamp": 1678971666780,
     "user": {
      "displayName": "조민정",
      "userId": "09786996135651143212"
     },
     "user_tz": -540
    },
    "id": "26aaa9a2",
    "outputId": "be5b8156-e410-4c2e-f791-829ee22cb94c"
   },
   "outputs": [
    {
     "data": {
      "image/png": "[encoded data removed]",
      "text/plain": [
       "<Figure size 432x288 with 1 Axes>"
      ]
     },
     "metadata": {
      "needs_background": "light"
     },
     "output_type": "display_data"
    }
   ],
   "source": [
    "# Generate ROC curve and AUC score for the test set\n",
    "from sklearn.metrics import roc_curve,auc\n",
    "fpr, tpr, thresholds = roc_curve(y_test_compressed, predict_test_compress)\n",
    "roc_auc = auc(fpr, tpr)\n",
    "model_name = 'Linear Regression - Compressed Data'\n",
    "# Plot the ROC curve\n",
    "plt.plot(fpr, tpr, lw=1, label='ROC (AUC = %0.2f)' % roc_auc)\n",
    "plt.plot([0, 1], [0, 1], '--', color='gray', lw=1, label='Random')\n",
    "plt.xlim([0, 1])\n",
    "plt.ylim([0, 1])\n",
    "plt.xlabel('False Positive Rate')\n",
    "plt.ylabel('True Positive Rate')\n",
    "plt.title('%s_ROC_curve'%(model_name))\n",
    "plt.legend(loc='lower right')\n",
    "\n",
    "#plt.savefig(\"%s_ROC_curve_%s.png\"%(model_name, datetime.datetime.now().strftime(\"%m%d%H%M%S\")), dpi=300, bbox_inches='tight')\n",
    "plt.show()"
   ]
  },
  {
   "cell_type": "code",
   "execution_count": null,
   "id": "9253a2d7",
   "metadata": {
    "id": "9253a2d7"
   },
   "outputs": [],
   "source": []
  }
 ],
 "metadata": {
  "colab": {
   "provenance": []
  },
  "kernelspec": {
   "display_name": "Python 3 (ipykernel)",
   "language": "python",
   "name": "python3"
  },
  "language_info": {
   "codemirror_mode": {
    "name": "ipython",
    "version": 3
   },
   "file_extension": ".py",
   "mimetype": "text/x-python",
   "name": "python",
   "nbconvert_exporter": "python",
   "pygments_lexer": "ipython3",
   "version": "3.11.3"
  }
 },
 "nbformat": 4,
 "nbformat_minor": 5
}
