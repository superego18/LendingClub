{
 "cells": [
  {
   "cell_type": "markdown",
   "metadata": {
    "id": "c913d822"
   },
   "source": [
    "# Module"
   ]
  },
  {
   "cell_type": "code",
   "execution_count": null,
   "metadata": {
    "id": "fa4a7e3c"
   },
   "outputs": [],
   "source": [
    "# 과학계산\n",
    "import pandas as pd\n",
    "pd.set_option('display.max_colwidth', 1000, 'display.max_rows', None, 'display.max_columns', None)\n",
    "import numpy as np\n",
    "\n",
    "# 시각화\n",
    "import seaborn as sns\n",
    "import matplotlib.pyplot as plt\n",
    "\n",
    "# sklearn\n",
    "from sklearn.pipeline import Pipeline\n",
    "from sklearn.preprocessing import StandardScaler, Binarizer\n",
    "from sklearn.feature_selection import SelectFromModel\n",
    "from sklearn.tree import DecisionTreeClassifier\n",
    "from sklearn.model_selection import KFold, GridSearchCV, RandomizedSearchCV, cross_val_score\n",
    "from sklearn.metrics import make_scorer, confusion_matrix, roc_curve, auc, f1_score, accuracy_score, precision_score, recall_score, log_loss\n",
    "\n",
    "# 기타\n",
    "import datetime\n",
    "import warnings\n",
    "warnings.filterwarnings('ignore')"
   ]
  },
  {
   "cell_type": "markdown",
   "metadata": {
    "id": "d7af9689"
   },
   "source": [
    "# Rectified Dataset split"
   ]
  },
  {
   "cell_type": "code",
   "execution_count": null,
   "metadata": {
    "id": "60b80511"
   },
   "outputs": [],
   "source": [
    "train = pd.read_csv('../dataset_processed/train_538132.csv')\n",
    "val = pd.read_csv('../dataset_processed/validation_179377.csv')\n",
    "test = pd.read_csv('../dataset_processed/test_179378.csv')"
   ]
  },
  {
   "cell_type": "code",
   "execution_count": null,
   "metadata": {
    "colab": {
     "base_uri": "https://localhost:8080/"
    },
    "executionInfo": {
     "elapsed": 7,
     "status": "ok",
     "timestamp": 1677493425903,
     "user": {
      "displayName": "황선경",
      "userId": "17888974404389374352"
     },
     "user_tz": -540
    },
    "id": "80d8d802",
    "outputId": "464f7d4e-c2c8-41c0-95ce-b91b70ca8a45"
   },
   "outputs": [
    {
     "name": "stdout",
     "output_type": "stream",
     "text": [
      "(538132, 86)\n",
      "(538132,)\n",
      "(179377, 86)\n",
      "(179377,)\n",
      "(179378, 86)\n",
      "(179378,)\n"
     ]
    }
   ],
   "source": [
    "print(X_train.shape)\n",
    "print(y_train.shape)\n",
    "print(X_val.shape)\n",
    "print(y_val.shape)\n",
    "print(X_test.shape)\n",
    "print(y_test.shape)"
   ]
  },
  {
   "cell_type": "markdown",
   "metadata": {
    "id": "7a03faed"
   },
   "source": [
    "# Training"
   ]
  },
  {
   "cell_type": "markdown",
   "metadata": {
    "id": "b08abac5"
   },
   "source": [
    "## DecisionTree\n",
    "(K-fold cross validation -> K=cv)"
   ]
  },
  {
   "cell_type": "markdown",
   "metadata": {
    "id": "d5b2e3dc"
   },
   "source": [
    "### pipeline object\n",
    "\n"
   ]
  },
  {
   "cell_type": "code",
   "execution_count": null,
   "metadata": {
    "id": "e834c6e7"
   },
   "outputs": [],
   "source": [
    "# Define the pipeline\n",
    "pipeline = Pipeline([\n",
    "    ('clf', DecisionTreeClassifier())\n",
    "])"
   ]
  },
  {
   "cell_type": "markdown",
   "metadata": {
    "id": "8231e725"
   },
   "source": [
    "### param_grid (hyperparameter input)"
   ]
  },
  {
   "cell_type": "code",
   "execution_count": null,
   "metadata": {
    "colab": {
     "base_uri": "https://localhost:8080/"
    },
    "executionInfo": {
     "elapsed": 750,
     "status": "ok",
     "timestamp": 1677493450626,
     "user": {
      "displayName": "황선경",
      "userId": "17888974404389374352"
     },
     "user_tz": -540
    },
    "id": "01459d79",
    "outputId": "ed65f994-6ae6-4503-d810-ccb72c66d300",
    "scrolled": false
   },
   "outputs": [
    {
     "data": {
      "text/plain": [
       "dict_keys(['memory', 'steps', 'verbose', 'clf', 'clf__ccp_alpha', 'clf__class_weight', 'clf__criterion', 'clf__max_depth', 'clf__max_features', 'clf__max_leaf_nodes', 'clf__min_impurity_decrease', 'clf__min_samples_leaf', 'clf__min_samples_split', 'clf__min_weight_fraction_leaf', 'clf__random_state', 'clf__splitter'])"
      ]
     },
     "execution_count": 7,
     "metadata": {},
     "output_type": "execute_result"
    }
   ],
   "source": [
    "# pipeline object에 대해 지정해줄 수 있는 hyperparameter를 얻을 수 있음\n",
    "pipeline.get_params().keys()"
   ]
  },
  {
   "cell_type": "code",
   "execution_count": null,
   "metadata": {
    "id": "0025d57f"
   },
   "outputs": [],
   "source": [
    "# define the hyperparameters you want to search over\n",
    "param_grid = {\n",
    "    'clf__max_depth':[1,5,10,50,100],\n",
    "    #'clf__min_samples_leaf':[4,6],\n",
    "    'clf__min_samples_split':[20,30,40]\n",
    "}"
   ]
  },
  {
   "cell_type": "markdown",
   "metadata": {
    "id": "31773cdf"
   },
   "source": [
    "### Scoring Function"
   ]
  },
  {
   "cell_type": "code",
   "execution_count": null,
   "metadata": {
    "id": "314244e9"
   },
   "outputs": [],
   "source": [
    "# Define the scorer to use in the grid search\n",
    "# greater_is_better=False -> since we want the negative value of log loss\n",
    "scoring = {'neg_log_loss': make_scorer(log_loss, greater_is_better=False, needs_proba=True)\n",
    "#            'accuracy': make_scorer(accuracy_score),\n",
    "#            'precision': make_scorer(precision_score),\n",
    "#            'recall': make_scorer(recall_score),\n",
    "#            'f1': make_scorer(f1_score)\n",
    "          }"
   ]
  },
  {
   "cell_type": "markdown",
   "metadata": {
    "id": "14fa9042"
   },
   "source": [
    "### Grid Search"
   ]
  },
  {
   "cell_type": "code",
   "execution_count": null,
   "metadata": {
    "colab": {
     "base_uri": "https://localhost:8080/"
    },
    "executionInfo": {
     "elapsed": 684347,
     "status": "ok",
     "timestamp": 1677494854556,
     "user": {
      "displayName": "황선경",
      "userId": "17888974404389374352"
     },
     "user_tz": -540
    },
    "id": "477e2237",
    "outputId": "0afe4558-8372-454e-dcd0-1abce87c92c2"
   },
   "outputs": [
    {
     "data": {
      "text/plain": [
       "GridSearchCV(cv=5,\n",
       "             estimator=Pipeline(steps=[('clf', DecisionTreeClassifier())]),\n",
       "             param_grid={'clf__max_depth': [1, 5, 10, 50, 100],\n",
       "                         'clf__min_samples_split': [20, 30, 40]},\n",
       "             refit='neg_log_loss',\n",
       "             scoring={'neg_log_loss': make_scorer(log_loss, greater_is_better=False, needs_proba=True)})"
      ]
     },
     "execution_count": 11,
     "metadata": {},
     "output_type": "execute_result"
    }
   ],
   "source": [
    "grid_search = GridSearchCV(pipeline, param_grid, cv=5, scoring=scoring, refit='neg_log_loss')\n",
    "# scoring=scoring\n",
    "\n",
    "# Fit the grid search object to the data\n",
    "grid_search.fit(X_train, y_train)"
   ]
  },
  {
   "cell_type": "markdown",
   "metadata": {
    "id": "b0d6a6d5"
   },
   "source": [
    "### Hyperparameter에 따른 Estimator 비교"
   ]
  },
  {
   "cell_type": "code",
   "execution_count": null,
   "metadata": {
    "id": "yq8Wm_hKD25w"
   },
   "outputs": [],
   "source": [
    "# 저장된된 파일들의 모델 이름 정해주기\n",
    "model_name = 'DecisionTree_original'"
   ]
  },
  {
   "cell_type": "code",
   "execution_count": null,
   "metadata": {
    "colab": {
     "base_uri": "https://localhost:8080/",
     "height": 1000
    },
    "executionInfo": {
     "elapsed": 845,
     "status": "ok",
     "timestamp": 1677495084721,
     "user": {
      "displayName": "황선경",
      "userId": "17888974404389374352"
     },
     "user_tz": -540
    },
    "id": "7fe9995c",
    "outputId": "e5c09b81-d713-483a-9fd3-d6d89c417c31"
   },
   "outputs": [
    {
     "data": {
      "text/html": [
       "\n",
       "  <div id=\"df-b8c778d3-b2ad-42ad-806d-b2d8d65707d1\">\n",
       "    <div class=\"colab-df-container\">\n",
       "      <div>\n",
       "<style scoped>\n",
       "    .dataframe tbody tr th:only-of-type {\n",
       "        vertical-align: middle;\n",
       "    }\n",
       "\n",
       "    .dataframe tbody tr th {\n",
       "        vertical-align: top;\n",
       "    }\n",
       "\n",
       "    .dataframe thead th {\n",
       "        text-align: right;\n",
       "    }\n",
       "</style>\n",
       "<table border=\"1\" class=\"dataframe\">\n",
       "  <thead>\n",
       "    <tr style=\"text-align: right;\">\n",
       "      <th></th>\n",
       "      <th>mean_fit_time</th>\n",
       "      <th>std_fit_time</th>\n",
       "      <th>mean_score_time</th>\n",
       "      <th>std_score_time</th>\n",
       "      <th>param_clf__max_depth</th>\n",
       "      <th>param_clf__min_samples_split</th>\n",
       "      <th>params</th>\n",
       "      <th>split0_test_neg_log_loss</th>\n",
       "      <th>split1_test_neg_log_loss</th>\n",
       "      <th>split2_test_neg_log_loss</th>\n",
       "      <th>split3_test_neg_log_loss</th>\n",
       "      <th>split4_test_neg_log_loss</th>\n",
       "      <th>mean_test_neg_log_loss</th>\n",
       "      <th>std_test_neg_log_loss</th>\n",
       "      <th>rank_test_neg_log_loss</th>\n",
       "    </tr>\n",
       "  </thead>\n",
       "  <tbody>\n",
       "    <tr>\n",
       "      <th>0</th>\n",
       "      <td>0.843632</td>\n",
       "      <td>0.032019</td>\n",
       "      <td>0.061105</td>\n",
       "      <td>0.012270</td>\n",
       "      <td>1</td>\n",
       "      <td>20</td>\n",
       "      <td>{'clf__max_depth': 1, 'clf__min_samples_split': 20}</td>\n",
       "      <td>-0.438589</td>\n",
       "      <td>-0.438334</td>\n",
       "      <td>-0.438376</td>\n",
       "      <td>-0.438635</td>\n",
       "      <td>-0.438447</td>\n",
       "      <td>-0.438476</td>\n",
       "      <td>0.000118</td>\n",
       "      <td>4</td>\n",
       "    </tr>\n",
       "    <tr>\n",
       "      <th>1</th>\n",
       "      <td>1.520955</td>\n",
       "      <td>0.847998</td>\n",
       "      <td>0.123032</td>\n",
       "      <td>0.075030</td>\n",
       "      <td>1</td>\n",
       "      <td>30</td>\n",
       "      <td>{'clf__max_depth': 1, 'clf__min_samples_split': 30}</td>\n",
       "      <td>-0.438589</td>\n",
       "      <td>-0.438334</td>\n",
       "      <td>-0.438376</td>\n",
       "      <td>-0.438635</td>\n",
       "      <td>-0.438447</td>\n",
       "      <td>-0.438476</td>\n",
       "      <td>0.000118</td>\n",
       "      <td>4</td>\n",
       "    </tr>\n",
       "    <tr>\n",
       "      <th>2</th>\n",
       "      <td>1.843435</td>\n",
       "      <td>0.644767</td>\n",
       "      <td>0.115739</td>\n",
       "      <td>0.042633</td>\n",
       "      <td>1</td>\n",
       "      <td>40</td>\n",
       "      <td>{'clf__max_depth': 1, 'clf__min_samples_split': 40}</td>\n",
       "      <td>-0.438589</td>\n",
       "      <td>-0.438334</td>\n",
       "      <td>-0.438376</td>\n",
       "      <td>-0.438635</td>\n",
       "      <td>-0.438447</td>\n",
       "      <td>-0.438476</td>\n",
       "      <td>0.000118</td>\n",
       "      <td>4</td>\n",
       "    </tr>\n",
       "    <tr>\n",
       "      <th>3</th>\n",
       "      <td>7.073084</td>\n",
       "      <td>1.984380</td>\n",
       "      <td>0.104209</td>\n",
       "      <td>0.042871</td>\n",
       "      <td>5</td>\n",
       "      <td>20</td>\n",
       "      <td>{'clf__max_depth': 5, 'clf__min_samples_split': 20}</td>\n",
       "      <td>-0.431733</td>\n",
       "      <td>-0.431462</td>\n",
       "      <td>-0.431321</td>\n",
       "      <td>-0.431466</td>\n",
       "      <td>-0.431757</td>\n",
       "      <td>-0.431548</td>\n",
       "      <td>0.000169</td>\n",
       "      <td>1</td>\n",
       "    </tr>\n",
       "    <tr>\n",
       "      <th>4</th>\n",
       "      <td>3.478073</td>\n",
       "      <td>0.420110</td>\n",
       "      <td>0.064872</td>\n",
       "      <td>0.007854</td>\n",
       "      <td>5</td>\n",
       "      <td>30</td>\n",
       "      <td>{'clf__max_depth': 5, 'clf__min_samples_split': 30}</td>\n",
       "      <td>-0.431733</td>\n",
       "      <td>-0.431462</td>\n",
       "      <td>-0.431321</td>\n",
       "      <td>-0.431466</td>\n",
       "      <td>-0.431757</td>\n",
       "      <td>-0.431548</td>\n",
       "      <td>0.000169</td>\n",
       "      <td>1</td>\n",
       "    </tr>\n",
       "    <tr>\n",
       "      <th>5</th>\n",
       "      <td>3.479723</td>\n",
       "      <td>0.312437</td>\n",
       "      <td>0.065671</td>\n",
       "      <td>0.010045</td>\n",
       "      <td>5</td>\n",
       "      <td>40</td>\n",
       "      <td>{'clf__max_depth': 5, 'clf__min_samples_split': 40}</td>\n",
       "      <td>-0.431733</td>\n",
       "      <td>-0.431462</td>\n",
       "      <td>-0.431321</td>\n",
       "      <td>-0.431466</td>\n",
       "      <td>-0.431757</td>\n",
       "      <td>-0.431548</td>\n",
       "      <td>0.000169</td>\n",
       "      <td>1</td>\n",
       "    </tr>\n",
       "    <tr>\n",
       "      <th>6</th>\n",
       "      <td>7.527657</td>\n",
       "      <td>0.442590</td>\n",
       "      <td>0.078885</td>\n",
       "      <td>0.012626</td>\n",
       "      <td>10</td>\n",
       "      <td>20</td>\n",
       "      <td>{'clf__max_depth': 10, 'clf__min_samples_split': 20}</td>\n",
       "      <td>-0.454080</td>\n",
       "      <td>-0.452744</td>\n",
       "      <td>-0.462657</td>\n",
       "      <td>-0.456628</td>\n",
       "      <td>-0.454475</td>\n",
       "      <td>-0.456117</td>\n",
       "      <td>0.003500</td>\n",
       "      <td>9</td>\n",
       "    </tr>\n",
       "    <tr>\n",
       "      <th>7</th>\n",
       "      <td>7.791223</td>\n",
       "      <td>1.104651</td>\n",
       "      <td>0.078638</td>\n",
       "      <td>0.010586</td>\n",
       "      <td>10</td>\n",
       "      <td>30</td>\n",
       "      <td>{'clf__max_depth': 10, 'clf__min_samples_split': 30}</td>\n",
       "      <td>-0.452158</td>\n",
       "      <td>-0.451498</td>\n",
       "      <td>-0.459444</td>\n",
       "      <td>-0.458172</td>\n",
       "      <td>-0.453885</td>\n",
       "      <td>-0.455031</td>\n",
       "      <td>0.003206</td>\n",
       "      <td>8</td>\n",
       "    </tr>\n",
       "    <tr>\n",
       "      <th>8</th>\n",
       "      <td>7.326181</td>\n",
       "      <td>0.319338</td>\n",
       "      <td>0.088561</td>\n",
       "      <td>0.013352</td>\n",
       "      <td>10</td>\n",
       "      <td>40</td>\n",
       "      <td>{'clf__max_depth': 10, 'clf__min_samples_split': 40}</td>\n",
       "      <td>-0.448717</td>\n",
       "      <td>-0.451185</td>\n",
       "      <td>-0.456239</td>\n",
       "      <td>-0.453799</td>\n",
       "      <td>-0.454521</td>\n",
       "      <td>-0.452892</td>\n",
       "      <td>0.002647</td>\n",
       "      <td>7</td>\n",
       "    </tr>\n",
       "    <tr>\n",
       "      <th>9</th>\n",
       "      <td>15.648821</td>\n",
       "      <td>0.458597</td>\n",
       "      <td>0.109179</td>\n",
       "      <td>0.000699</td>\n",
       "      <td>50</td>\n",
       "      <td>20</td>\n",
       "      <td>{'clf__max_depth': 50, 'clf__min_samples_split': 20}</td>\n",
       "      <td>-4.620598</td>\n",
       "      <td>-4.571491</td>\n",
       "      <td>-4.623999</td>\n",
       "      <td>-4.617217</td>\n",
       "      <td>-4.621722</td>\n",
       "      <td>-4.611006</td>\n",
       "      <td>0.019878</td>\n",
       "      <td>15</td>\n",
       "    </tr>\n",
       "    <tr>\n",
       "      <th>10</th>\n",
       "      <td>15.453493</td>\n",
       "      <td>0.403784</td>\n",
       "      <td>0.112322</td>\n",
       "      <td>0.013258</td>\n",
       "      <td>50</td>\n",
       "      <td>30</td>\n",
       "      <td>{'clf__max_depth': 50, 'clf__min_samples_split': 30}</td>\n",
       "      <td>-3.922207</td>\n",
       "      <td>-3.889425</td>\n",
       "      <td>-3.935189</td>\n",
       "      <td>-3.920954</td>\n",
       "      <td>-3.903694</td>\n",
       "      <td>-3.914294</td>\n",
       "      <td>0.015965</td>\n",
       "      <td>12</td>\n",
       "    </tr>\n",
       "    <tr>\n",
       "      <th>11</th>\n",
       "      <td>15.397324</td>\n",
       "      <td>0.178304</td>\n",
       "      <td>0.117903</td>\n",
       "      <td>0.011244</td>\n",
       "      <td>50</td>\n",
       "      <td>40</td>\n",
       "      <td>{'clf__max_depth': 50, 'clf__min_samples_split': 40}</td>\n",
       "      <td>-3.405355</td>\n",
       "      <td>-3.391684</td>\n",
       "      <td>-3.439327</td>\n",
       "      <td>-3.413380</td>\n",
       "      <td>-3.422691</td>\n",
       "      <td>-3.414488</td>\n",
       "      <td>0.016056</td>\n",
       "      <td>10</td>\n",
       "    </tr>\n",
       "    <tr>\n",
       "      <th>12</th>\n",
       "      <td>15.608698</td>\n",
       "      <td>0.221177</td>\n",
       "      <td>0.114549</td>\n",
       "      <td>0.013783</td>\n",
       "      <td>100</td>\n",
       "      <td>20</td>\n",
       "      <td>{'clf__max_depth': 100, 'clf__min_samples_split': 20}</td>\n",
       "      <td>-4.605296</td>\n",
       "      <td>-4.557388</td>\n",
       "      <td>-4.638125</td>\n",
       "      <td>-4.623705</td>\n",
       "      <td>-4.611404</td>\n",
       "      <td>-4.607184</td>\n",
       "      <td>0.027318</td>\n",
       "      <td>14</td>\n",
       "    </tr>\n",
       "    <tr>\n",
       "      <th>13</th>\n",
       "      <td>15.812619</td>\n",
       "      <td>0.606500</td>\n",
       "      <td>0.113159</td>\n",
       "      <td>0.014555</td>\n",
       "      <td>100</td>\n",
       "      <td>30</td>\n",
       "      <td>{'clf__max_depth': 100, 'clf__min_samples_split': 30}</td>\n",
       "      <td>-3.908751</td>\n",
       "      <td>-3.904554</td>\n",
       "      <td>-3.937585</td>\n",
       "      <td>-3.931530</td>\n",
       "      <td>-3.897209</td>\n",
       "      <td>-3.915926</td>\n",
       "      <td>0.015772</td>\n",
       "      <td>13</td>\n",
       "    </tr>\n",
       "    <tr>\n",
       "      <th>14</th>\n",
       "      <td>15.611545</td>\n",
       "      <td>0.253061</td>\n",
       "      <td>0.121759</td>\n",
       "      <td>0.017521</td>\n",
       "      <td>100</td>\n",
       "      <td>40</td>\n",
       "      <td>{'clf__max_depth': 100, 'clf__min_samples_split': 40}</td>\n",
       "      <td>-3.402003</td>\n",
       "      <td>-3.396843</td>\n",
       "      <td>-3.450802</td>\n",
       "      <td>-3.413121</td>\n",
       "      <td>-3.454129</td>\n",
       "      <td>-3.423379</td>\n",
       "      <td>0.024347</td>\n",
       "      <td>11</td>\n",
       "    </tr>\n",
       "  </tbody>\n",
       "</table>\n",
       "</div>\n",
       "      <button class=\"colab-df-convert\" onclick=\"convertToInteractive('df-b8c778d3-b2ad-42ad-806d-b2d8d65707d1')\"\n",
       "              title=\"Convert this dataframe to an interactive table.\"\n",
       "              style=\"display:none;\">\n",
       "        \n",
       "  <svg xmlns=\"http://www.w3.org/2000/svg\" height=\"24px\"viewBox=\"0 0 24 24\"\n",
       "       width=\"24px\">\n",
       "    <path d=\"M0 0h24v24H0V0z\" fill=\"none\"/>\n",
       "    <path d=\"M18.56 5.44l.94 2.06.94-2.06 2.06-.94-2.06-.94-.94-2.06-.94 2.06-2.06.94zm-11 1L8.5 8.5l.94-2.06 2.06-.94-2.06-.94L8.5 2.5l-.94 2.06-2.06.94zm10 10l.94 2.06.94-2.06 2.06-.94-2.06-.94-.94-2.06-.94 2.06-2.06.94z\"/><path d=\"M17.41 7.96l-1.37-1.37c-.4-.4-.92-.59-1.43-.59-.52 0-1.04.2-1.43.59L10.3 9.45l-7.72 7.72c-.78.78-.78 2.05 0 2.83L4 21.41c.39.39.9.59 1.41.59.51 0 1.02-.2 1.41-.59l7.78-7.78 2.81-2.81c.8-.78.8-2.07 0-2.86zM5.41 20L4 18.59l7.72-7.72 1.47 1.35L5.41 20z\"/>\n",
       "  </svg>\n",
       "      </button>\n",
       "      \n",
       "  <style>\n",
       "    .colab-df-container {\n",
       "      display:flex;\n",
       "      flex-wrap:wrap;\n",
       "      gap: 12px;\n",
       "    }\n",
       "\n",
       "    .colab-df-convert {\n",
       "      background-color: #E8F0FE;\n",
       "      border: none;\n",
       "      border-radius: 50%;\n",
       "      cursor: pointer;\n",
       "      display: none;\n",
       "      fill: #1967D2;\n",
       "      height: 32px;\n",
       "      padding: 0 0 0 0;\n",
       "      width: 32px;\n",
       "    }\n",
       "\n",
       "    .colab-df-convert:hover {\n",
       "      background-color: #E2EBFA;\n",
       "      box-shadow: 0px 1px 2px rgba(60, 64, 67, 0.3), 0px 1px 3px 1px rgba(60, 64, 67, 0.15);\n",
       "      fill: #174EA6;\n",
       "    }\n",
       "\n",
       "    [theme=dark] .colab-df-convert {\n",
       "      background-color: #3B4455;\n",
       "      fill: #D2E3FC;\n",
       "    }\n",
       "\n",
       "    [theme=dark] .colab-df-convert:hover {\n",
       "      background-color: #434B5C;\n",
       "      box-shadow: 0px 1px 3px 1px rgba(0, 0, 0, 0.15);\n",
       "      filter: drop-shadow(0px 1px 2px rgba(0, 0, 0, 0.3));\n",
       "      fill: #FFFFFF;\n",
       "    }\n",
       "  </style>\n",
       "\n",
       "      <script>\n",
       "        const buttonEl =\n",
       "          document.querySelector('#df-b8c778d3-b2ad-42ad-806d-b2d8d65707d1 button.colab-df-convert');\n",
       "        buttonEl.style.display =\n",
       "          google.colab.kernel.accessAllowed ? 'block' : 'none';\n",
       "\n",
       "        async function convertToInteractive(key) {\n",
       "          const element = document.querySelector('#df-b8c778d3-b2ad-42ad-806d-b2d8d65707d1');\n",
       "          const dataTable =\n",
       "            await google.colab.kernel.invokeFunction('convertToInteractive',\n",
       "                                                     [key], {});\n",
       "          if (!dataTable) return;\n",
       "\n",
       "          const docLinkHtml = 'Like what you see? Visit the ' +\n",
       "            '<a target=\"_blank\" href=https://colab.research.google.com/notebooks/data_table.ipynb>data table notebook</a>'\n",
       "            + ' to learn more about interactive tables.';\n",
       "          element.innerHTML = '';\n",
       "          dataTable['output_type'] = 'display_data';\n",
       "          await google.colab.output.renderOutput(dataTable, element);\n",
       "          const docLink = document.createElement('div');\n",
       "          docLink.innerHTML = docLinkHtml;\n",
       "          element.appendChild(docLink);\n",
       "        }\n",
       "      </script>\n",
       "    </div>\n",
       "  </div>\n",
       "  "
      ],
      "text/plain": [
       "    mean_fit_time  std_fit_time  mean_score_time  std_score_time  \\\n",
       "0        0.843632      0.032019         0.061105        0.012270   \n",
       "1        1.520955      0.847998         0.123032        0.075030   \n",
       "2        1.843435      0.644767         0.115739        0.042633   \n",
       "3        7.073084      1.984380         0.104209        0.042871   \n",
       "4        3.478073      0.420110         0.064872        0.007854   \n",
       "5        3.479723      0.312437         0.065671        0.010045   \n",
       "6        7.527657      0.442590         0.078885        0.012626   \n",
       "7        7.791223      1.104651         0.078638        0.010586   \n",
       "8        7.326181      0.319338         0.088561        0.013352   \n",
       "9       15.648821      0.458597         0.109179        0.000699   \n",
       "10      15.453493      0.403784         0.112322        0.013258   \n",
       "11      15.397324      0.178304         0.117903        0.011244   \n",
       "12      15.608698      0.221177         0.114549        0.013783   \n",
       "13      15.812619      0.606500         0.113159        0.014555   \n",
       "14      15.611545      0.253061         0.121759        0.017521   \n",
       "\n",
       "   param_clf__max_depth param_clf__min_samples_split  \\\n",
       "0                     1                           20   \n",
       "1                     1                           30   \n",
       "2                     1                           40   \n",
       "3                     5                           20   \n",
       "4                     5                           30   \n",
       "5                     5                           40   \n",
       "6                    10                           20   \n",
       "7                    10                           30   \n",
       "8                    10                           40   \n",
       "9                    50                           20   \n",
       "10                   50                           30   \n",
       "11                   50                           40   \n",
       "12                  100                           20   \n",
       "13                  100                           30   \n",
       "14                  100                           40   \n",
       "\n",
       "                                                   params  \\\n",
       "0     {'clf__max_depth': 1, 'clf__min_samples_split': 20}   \n",
       "1     {'clf__max_depth': 1, 'clf__min_samples_split': 30}   \n",
       "2     {'clf__max_depth': 1, 'clf__min_samples_split': 40}   \n",
       "3     {'clf__max_depth': 5, 'clf__min_samples_split': 20}   \n",
       "4     {'clf__max_depth': 5, 'clf__min_samples_split': 30}   \n",
       "5     {'clf__max_depth': 5, 'clf__min_samples_split': 40}   \n",
       "6    {'clf__max_depth': 10, 'clf__min_samples_split': 20}   \n",
       "7    {'clf__max_depth': 10, 'clf__min_samples_split': 30}   \n",
       "8    {'clf__max_depth': 10, 'clf__min_samples_split': 40}   \n",
       "9    {'clf__max_depth': 50, 'clf__min_samples_split': 20}   \n",
       "10   {'clf__max_depth': 50, 'clf__min_samples_split': 30}   \n",
       "11   {'clf__max_depth': 50, 'clf__min_samples_split': 40}   \n",
       "12  {'clf__max_depth': 100, 'clf__min_samples_split': 20}   \n",
       "13  {'clf__max_depth': 100, 'clf__min_samples_split': 30}   \n",
       "14  {'clf__max_depth': 100, 'clf__min_samples_split': 40}   \n",
       "\n",
       "    split0_test_neg_log_loss  split1_test_neg_log_loss  \\\n",
       "0                  -0.438589                 -0.438334   \n",
       "1                  -0.438589                 -0.438334   \n",
       "2                  -0.438589                 -0.438334   \n",
       "3                  -0.431733                 -0.431462   \n",
       "4                  -0.431733                 -0.431462   \n",
       "5                  -0.431733                 -0.431462   \n",
       "6                  -0.454080                 -0.452744   \n",
       "7                  -0.452158                 -0.451498   \n",
       "8                  -0.448717                 -0.451185   \n",
       "9                  -4.620598                 -4.571491   \n",
       "10                 -3.922207                 -3.889425   \n",
       "11                 -3.405355                 -3.391684   \n",
       "12                 -4.605296                 -4.557388   \n",
       "13                 -3.908751                 -3.904554   \n",
       "14                 -3.402003                 -3.396843   \n",
       "\n",
       "    split2_test_neg_log_loss  split3_test_neg_log_loss  \\\n",
       "0                  -0.438376                 -0.438635   \n",
       "1                  -0.438376                 -0.438635   \n",
       "2                  -0.438376                 -0.438635   \n",
       "3                  -0.431321                 -0.431466   \n",
       "4                  -0.431321                 -0.431466   \n",
       "5                  -0.431321                 -0.431466   \n",
       "6                  -0.462657                 -0.456628   \n",
       "7                  -0.459444                 -0.458172   \n",
       "8                  -0.456239                 -0.453799   \n",
       "9                  -4.623999                 -4.617217   \n",
       "10                 -3.935189                 -3.920954   \n",
       "11                 -3.439327                 -3.413380   \n",
       "12                 -4.638125                 -4.623705   \n",
       "13                 -3.937585                 -3.931530   \n",
       "14                 -3.450802                 -3.413121   \n",
       "\n",
       "    split4_test_neg_log_loss  mean_test_neg_log_loss  std_test_neg_log_loss  \\\n",
       "0                  -0.438447               -0.438476               0.000118   \n",
       "1                  -0.438447               -0.438476               0.000118   \n",
       "2                  -0.438447               -0.438476               0.000118   \n",
       "3                  -0.431757               -0.431548               0.000169   \n",
       "4                  -0.431757               -0.431548               0.000169   \n",
       "5                  -0.431757               -0.431548               0.000169   \n",
       "6                  -0.454475               -0.456117               0.003500   \n",
       "7                  -0.453885               -0.455031               0.003206   \n",
       "8                  -0.454521               -0.452892               0.002647   \n",
       "9                  -4.621722               -4.611006               0.019878   \n",
       "10                 -3.903694               -3.914294               0.015965   \n",
       "11                 -3.422691               -3.414488               0.016056   \n",
       "12                 -4.611404               -4.607184               0.027318   \n",
       "13                 -3.897209               -3.915926               0.015772   \n",
       "14                 -3.454129               -3.423379               0.024347   \n",
       "\n",
       "    rank_test_neg_log_loss  \n",
       "0                        4  \n",
       "1                        4  \n",
       "2                        4  \n",
       "3                        1  \n",
       "4                        1  \n",
       "5                        1  \n",
       "6                        9  \n",
       "7                        8  \n",
       "8                        7  \n",
       "9                       15  \n",
       "10                      12  \n",
       "11                      10  \n",
       "12                      14  \n",
       "13                      13  \n",
       "14                      11  "
      ]
     },
     "execution_count": 13,
     "metadata": {},
     "output_type": "execute_result"
    }
   ],
   "source": [
    "# grid search 결과 df로 저장\n",
    "df_result_ = pd.DataFrame(grid_search.cv_results_)\n",
    "\n",
    "df_result_.to_csv('%s_estimator_%s.csv'%(model_name, datetime.datetime.now().strftime(\"%m%d%H%M%S\")), index=True, float_format='%.6f') # 이름 설정해줘야함\n",
    "\n",
    "df_result_"
   ]
  },
  {
   "cell_type": "markdown",
   "metadata": {
    "id": "9d336699"
   },
   "source": [
    "# Validation"
   ]
  },
  {
   "cell_type": "markdown",
   "metadata": {
    "id": "4a7df44d"
   },
   "source": [
    "### best_estimator 확인"
   ]
  },
  {
   "cell_type": "code",
   "execution_count": null,
   "metadata": {
    "colab": {
     "base_uri": "https://localhost:8080/"
    },
    "executionInfo": {
     "elapsed": 408,
     "status": "ok",
     "timestamp": 1677495102141,
     "user": {
      "displayName": "황선경",
      "userId": "17888974404389374352"
     },
     "user_tz": -540
    },
    "id": "f34e575c",
    "outputId": "1786b736-3723-44ab-ead8-65ad5b61a408"
   },
   "outputs": [
    {
     "name": "stdout",
     "output_type": "stream",
     "text": [
      "Pipeline(steps=[('clf',\n",
      "                 DecisionTreeClassifier(max_depth=5, min_samples_split=20))])\n"
     ]
    }
   ],
   "source": [
    "# Get the best estimator from the grid search\n",
    "best_estimator = grid_search.best_estimator_\n",
    "print(best_estimator)"
   ]
  },
  {
   "cell_type": "markdown",
   "metadata": {
    "id": "e96909b9"
   },
   "source": [
    "### X_val에 대한 평가지표 확인"
   ]
  },
  {
   "cell_type": "code",
   "execution_count": null,
   "metadata": {
    "colab": {
     "base_uri": "https://localhost:8080/"
    },
    "executionInfo": {
     "elapsed": 816,
     "status": "ok",
     "timestamp": 1677495168605,
     "user": {
      "displayName": "황선경",
      "userId": "17888974404389374352"
     },
     "user_tz": -540
    },
    "id": "705d5366",
    "outputId": "bdd0cc12-87c8-4f0f-a718-3656dd36ed3f",
    "scrolled": true
   },
   "outputs": [
    {
     "name": "stdout",
     "output_type": "stream",
     "text": [
      "\n",
      " 정확도: 0.8379112149272203, 정밀도도: 0.0, 재현율율: 0.0\n",
      "[[150302      0]\n",
      " [ 29075      0]]\n"
     ]
    }
   ],
   "source": [
    "pred_val = best_estimator.predict(X_val)\n",
    "#dt = DecisionTreeClassifier()\n",
    "#dt.fit(X_train, y_train)\n",
    "#pred_val = dt.predict(X_val)\n",
    "\n",
    "\n",
    "accuracy = accuracy_score(y_val, pred_val)\n",
    "precision = precision_score(y_val, pred_val)\n",
    "recall = recall_score(y_val, pred_val)\n",
    "conf_matrix = confusion_matrix(y_val, pred_val)\n",
    "print('\\n 정확도: {0}, 정밀도도: {1}, 재현율율: {2}'.format(accuracy, precision, recall))\n",
    "print(conf_matrix)"
   ]
  },
  {
   "cell_type": "markdown",
   "metadata": {
    "id": "3318dd84"
   },
   "source": [
    "### X_val fitting"
   ]
  },
  {
   "cell_type": "code",
   "execution_count": null,
   "metadata": {
    "colab": {
     "base_uri": "https://localhost:8080/",
     "height": 296
    },
    "executionInfo": {
     "elapsed": 1791,
     "status": "ok",
     "timestamp": 1677495182365,
     "user": {
      "displayName": "황선경",
      "userId": "17888974404389374352"
     },
     "user_tz": -540
    },
    "id": "f864b23f",
    "outputId": "c238b137-7683-4c4f-eaba-17d5ecb945c8",
    "scrolled": false
   },
   "outputs": [
    {
     "data": {
      "image/png": "[encoded data removed]",
      "text/plain": [
       "<Figure size 432x288 with 1 Axes>"
      ]
     },
     "metadata": {
      "needs_background": "light"
     },
     "output_type": "display_data"
    }
   ],
   "source": [
    "# Predict probabilities for new data\n",
    "y_val_pred_proba = best_estimator.predict_proba(X_val) # 확률로 추정된 X_val의 y_pred\n",
    "\n",
    "plt.hist(y_val_pred_proba[:,1], bins=100)\n",
    "\n",
    "plt.xlabel('y_val_pred_proba')\n",
    "plt.ylabel('Frequency')\n",
    "plt.title('Frequency of y_val_pred_proba of %s'%(model_name))\n",
    "\n",
    "plt.savefig(\"%s_val_pre_proba_%s.png\"%(model_name, datetime.datetime.now().strftime(\"%m%d%H%M%S\")), dpi=300, bbox_inches='tight')\n",
    "\n",
    "plt.show() # y_val_pred_proba의 분포 확인"
   ]
  },
  {
   "cell_type": "code",
   "execution_count": null,
   "metadata": {
    "colab": {
     "base_uri": "https://localhost:8080/"
    },
    "executionInfo": {
     "elapsed": 364,
     "status": "ok",
     "timestamp": 1677495193683,
     "user": {
      "displayName": "황선경",
      "userId": "17888974404389374352"
     },
     "user_tz": -540
    },
    "id": "80603561",
    "outputId": "ef77e87e-b66e-4f65-8b5a-e928e9620ad5"
   },
   "outputs": [
    {
     "data": {
      "text/plain": [
       "array([[0.74896124, 0.25103876],\n",
       "       [0.91715432, 0.08284568],\n",
       "       [0.81203708, 0.18796292],\n",
       "       ...,\n",
       "       [0.82484643, 0.17515357],\n",
       "       [0.86106494, 0.13893506],\n",
       "       [0.82484643, 0.17515357]])"
      ]
     },
     "execution_count": 18,
     "metadata": {},
     "output_type": "execute_result"
    }
   ],
   "source": [
    "y_val_pred_proba"
   ]
  },
  {
   "cell_type": "markdown",
   "metadata": {
    "id": "d8c47020"
   },
   "source": [
    "### optimal threshold 선정 (threshold에 따른 목적함수 값 비교)\n",
    "\n",
    "실제 positive = TP + FN\n",
    "\n",
    "실제 Negative = TN + FP\n",
    "\n",
    "정밀도: positive로 예측한 것 중에 진짜 positive인 것 -> 양성 예측도\n",
    "\n",
    "재현율: 실제 positive 중에 맞춘 것 -> 민감도"
   ]
  },
  {
   "cell_type": "code",
   "execution_count": null,
   "metadata": {
    "id": "XyXYPwxgE4nu"
   },
   "outputs": [],
   "source": [
    "threshold_list = np.linspace(0.11,0.14,10) # 짝수개 값 (예시 10개)"
   ]
  },
  {
   "cell_type": "markdown",
   "metadata": {
    "id": "67a298d2"
   },
   "source": [
    "Threshold에 따른 지표 비교\n",
    "\n",
    "0, 1 count / confusion_matrix / accuracy, precision, recall, f1 score "
   ]
  },
  {
   "cell_type": "code",
   "execution_count": null,
   "metadata": {
    "id": "HWVHIIWEFEm8"
   },
   "outputs": [],
   "source": [
    "def threshold_func(y_val, y_pred_proba, threshold_list):\n",
    "    \n",
    "    n = len(threshold_list)\n",
    "    \n",
    "    result_df = pd.DataFrame(index=['1_real','1_pred','0_real','0_pred','tn', 'fp', 'fn', 'tp', 'tn_%', 'fp_%', 'fn_%', 'tp_%', 'Accuracy', 'Precision', 'Recall', 'F1 score'])\n",
    "    \n",
    "    fig, axes = plt.subplots(nrows=int(n/2), ncols=2, figsize=(10, 10))\n",
    "    \n",
    "    for i in range(len(threshold_list)):\n",
    "        \n",
    "        threshold = threshold_list[i]\n",
    "        \n",
    "        # make Binarizer(y hat)\n",
    "        binarizer = Binarizer(threshold = threshold).fit(y_pred_proba[:,1].reshape(-1,1))\n",
    "        custom_predict = binarizer.transform(y_pred_proba[:,1].reshape(-1,1))\n",
    "        \n",
    "        # count 0, 1 in Binarizer(y hat)\n",
    "        unique, counts = np.unique(custom_predict, return_counts=True)\n",
    "\n",
    "        for val, count in zip(unique, counts):\n",
    "            if len(unique) == 1:\n",
    "                if val == 1.0:\n",
    "                    num_0_pred = 0\n",
    "                    num_1_pred = count\n",
    "                elif val == 0.0:\n",
    "                    num_1_pred = 0\n",
    "                    num_0_pred = count\n",
    "            if val == 1.0:\n",
    "                num_1_pred = count\n",
    "            elif val == 0.0:\n",
    "                num_0_pred = count\n",
    "\n",
    "        # count 0, 1 in y hat\n",
    "        num_0_real = y_val.value_counts()[0]\n",
    "        num_1_real = y_val.value_counts()[1]\n",
    "        \n",
    "        tn, fp, fn, tp = confusion_matrix(y_val, custom_predict).ravel()\n",
    "        count = [tn, fp, fn, tp]\n",
    "        tn_, fp_, fn_, tp_ = [round(x/sum(count)*100, 1) for x in count]\n",
    "        \n",
    "        accuracy = round((tp+tn)/(tp+tn+fp+fn),4)\n",
    "        precision = round(tp/(tp+fp),4)\n",
    "        recall = round(tp/(tp+fn),4)\n",
    "        f1 = round(2*(precision*recall)/(precision+recall),4)\n",
    "        \n",
    "        threshold_tag = round(threshold_list[i], 4)\n",
    "        \n",
    "        result_df[threshold_tag] = [num_1_real, num_1_pred, num_0_real, num_0_pred, tn, fp, fn, tp, tn_, fp_, fn_, tp_, accuracy, precision, recall, f1]\n",
    "        \n",
    "        labels = ['TN','FP','FN','TP']\n",
    "        \n",
    "        # tn, fp, fn, tp 각각의 값을 counts 리스트에 저장\n",
    "        counts = [tn, fp, fn, tp]\n",
    "\n",
    "        # 해당하는 subplot에 그래프 그리기\n",
    "        axes[i//2, i%2].bar(labels, counts)\n",
    "        axes[i//2, i%2].set_title(threshold_tag)\n",
    "        axes[i//2, i%2].set_ylabel('Count')\n",
    "\n",
    "    # 그래프 간격 조절하기\n",
    "    plt.tight_layout()\n",
    "    \n",
    "    plt.savefig(\"%s_threshold_%s.png\"%(model_name, datetime.datetime.now().strftime(\"%m%d%H%M%S\")), dpi=300, bbox_inches='tight')\n",
    "\n",
    "    # 그래프 출력하기\n",
    "    plt.show()\n",
    "    \n",
    "    result_df.to_csv('%s_threshold_%s.csv'%(model_name, datetime.datetime.now().strftime(\"%m%d%H%M%S\")), index=True)\n",
    "    \n",
    "    return result_df"
   ]
  },
  {
   "cell_type": "code",
   "execution_count": null,
   "metadata": {
    "colab": {
     "base_uri": "https://localhost:8080/",
     "height": 1000
    },
    "executionInfo": {
     "elapsed": 4653,
     "status": "ok",
     "timestamp": 1677495265842,
     "user": {
      "displayName": "황선경",
      "userId": "17888974404389374352"
     },
     "user_tz": -540
    },
    "id": "JlFq1HVoFEm-",
    "outputId": "ce3dcdbd-2ba6-462d-96b5-a0c624d541a1",
    "scrolled": true
   },
   "outputs": [
    {
     "data": {
      "image/png": "[encoded data removed]",
      "text/plain": [
       "<Figure size 720x720 with 10 Axes>"
      ]
     },
     "metadata": {
      "needs_background": "light"
     },
     "output_type": "display_data"
    },
    {
     "data": {
      "text/html": [
       "\n",
       "  <div id=\"df-b703a70b-e848-4def-91f4-47e2847e0080\">\n",
       "    <div class=\"colab-df-container\">\n",
       "      <div>\n",
       "<style scoped>\n",
       "    .dataframe tbody tr th:only-of-type {\n",
       "        vertical-align: middle;\n",
       "    }\n",
       "\n",
       "    .dataframe tbody tr th {\n",
       "        vertical-align: top;\n",
       "    }\n",
       "\n",
       "    .dataframe thead th {\n",
       "        text-align: right;\n",
       "    }\n",
       "</style>\n",
       "<table border=\"1\" class=\"dataframe\">\n",
       "  <thead>\n",
       "    <tr style=\"text-align: right;\">\n",
       "      <th></th>\n",
       "      <th>0.1100</th>\n",
       "      <th>0.1133</th>\n",
       "      <th>0.1167</th>\n",
       "      <th>0.1200</th>\n",
       "      <th>0.1233</th>\n",
       "      <th>0.1267</th>\n",
       "      <th>0.1300</th>\n",
       "      <th>0.1333</th>\n",
       "      <th>0.1367</th>\n",
       "      <th>0.1400</th>\n",
       "    </tr>\n",
       "  </thead>\n",
       "  <tbody>\n",
       "    <tr>\n",
       "      <th>1_real</th>\n",
       "      <td>29075.0000</td>\n",
       "      <td>29075.0000</td>\n",
       "      <td>29075.0000</td>\n",
       "      <td>29075.0000</td>\n",
       "      <td>29075.0000</td>\n",
       "      <td>29075.0000</td>\n",
       "      <td>29075.0000</td>\n",
       "      <td>29075.0000</td>\n",
       "      <td>29075.0000</td>\n",
       "      <td>29075.0000</td>\n",
       "    </tr>\n",
       "    <tr>\n",
       "      <th>1_pred</th>\n",
       "      <td>146872.0000</td>\n",
       "      <td>146872.0000</td>\n",
       "      <td>146872.0000</td>\n",
       "      <td>126641.0000</td>\n",
       "      <td>126641.0000</td>\n",
       "      <td>122929.0000</td>\n",
       "      <td>122929.0000</td>\n",
       "      <td>122929.0000</td>\n",
       "      <td>122929.0000</td>\n",
       "      <td>112036.0000</td>\n",
       "    </tr>\n",
       "    <tr>\n",
       "      <th>0_real</th>\n",
       "      <td>150302.0000</td>\n",
       "      <td>150302.0000</td>\n",
       "      <td>150302.0000</td>\n",
       "      <td>150302.0000</td>\n",
       "      <td>150302.0000</td>\n",
       "      <td>150302.0000</td>\n",
       "      <td>150302.0000</td>\n",
       "      <td>150302.0000</td>\n",
       "      <td>150302.0000</td>\n",
       "      <td>150302.0000</td>\n",
       "    </tr>\n",
       "    <tr>\n",
       "      <th>0_pred</th>\n",
       "      <td>32505.0000</td>\n",
       "      <td>32505.0000</td>\n",
       "      <td>32505.0000</td>\n",
       "      <td>52736.0000</td>\n",
       "      <td>52736.0000</td>\n",
       "      <td>56448.0000</td>\n",
       "      <td>56448.0000</td>\n",
       "      <td>56448.0000</td>\n",
       "      <td>56448.0000</td>\n",
       "      <td>67341.0000</td>\n",
       "    </tr>\n",
       "    <tr>\n",
       "      <th>tn</th>\n",
       "      <td>29781.0000</td>\n",
       "      <td>29781.0000</td>\n",
       "      <td>29781.0000</td>\n",
       "      <td>47716.0000</td>\n",
       "      <td>47716.0000</td>\n",
       "      <td>50941.0000</td>\n",
       "      <td>50941.0000</td>\n",
       "      <td>50941.0000</td>\n",
       "      <td>50941.0000</td>\n",
       "      <td>60290.0000</td>\n",
       "    </tr>\n",
       "    <tr>\n",
       "      <th>fp</th>\n",
       "      <td>120521.0000</td>\n",
       "      <td>120521.0000</td>\n",
       "      <td>120521.0000</td>\n",
       "      <td>102586.0000</td>\n",
       "      <td>102586.0000</td>\n",
       "      <td>99361.0000</td>\n",
       "      <td>99361.0000</td>\n",
       "      <td>99361.0000</td>\n",
       "      <td>99361.0000</td>\n",
       "      <td>90012.0000</td>\n",
       "    </tr>\n",
       "    <tr>\n",
       "      <th>fn</th>\n",
       "      <td>2724.0000</td>\n",
       "      <td>2724.0000</td>\n",
       "      <td>2724.0000</td>\n",
       "      <td>5020.0000</td>\n",
       "      <td>5020.0000</td>\n",
       "      <td>5507.0000</td>\n",
       "      <td>5507.0000</td>\n",
       "      <td>5507.0000</td>\n",
       "      <td>5507.0000</td>\n",
       "      <td>7051.0000</td>\n",
       "    </tr>\n",
       "    <tr>\n",
       "      <th>tp</th>\n",
       "      <td>26351.0000</td>\n",
       "      <td>26351.0000</td>\n",
       "      <td>26351.0000</td>\n",
       "      <td>24055.0000</td>\n",
       "      <td>24055.0000</td>\n",
       "      <td>23568.0000</td>\n",
       "      <td>23568.0000</td>\n",
       "      <td>23568.0000</td>\n",
       "      <td>23568.0000</td>\n",
       "      <td>22024.0000</td>\n",
       "    </tr>\n",
       "    <tr>\n",
       "      <th>tn_%</th>\n",
       "      <td>16.6000</td>\n",
       "      <td>16.6000</td>\n",
       "      <td>16.6000</td>\n",
       "      <td>26.6000</td>\n",
       "      <td>26.6000</td>\n",
       "      <td>28.4000</td>\n",
       "      <td>28.4000</td>\n",
       "      <td>28.4000</td>\n",
       "      <td>28.4000</td>\n",
       "      <td>33.6000</td>\n",
       "    </tr>\n",
       "    <tr>\n",
       "      <th>fp_%</th>\n",
       "      <td>67.2000</td>\n",
       "      <td>67.2000</td>\n",
       "      <td>67.2000</td>\n",
       "      <td>57.2000</td>\n",
       "      <td>57.2000</td>\n",
       "      <td>55.4000</td>\n",
       "      <td>55.4000</td>\n",
       "      <td>55.4000</td>\n",
       "      <td>55.4000</td>\n",
       "      <td>50.2000</td>\n",
       "    </tr>\n",
       "    <tr>\n",
       "      <th>fn_%</th>\n",
       "      <td>1.5000</td>\n",
       "      <td>1.5000</td>\n",
       "      <td>1.5000</td>\n",
       "      <td>2.8000</td>\n",
       "      <td>2.8000</td>\n",
       "      <td>3.1000</td>\n",
       "      <td>3.1000</td>\n",
       "      <td>3.1000</td>\n",
       "      <td>3.1000</td>\n",
       "      <td>3.9000</td>\n",
       "    </tr>\n",
       "    <tr>\n",
       "      <th>tp_%</th>\n",
       "      <td>14.7000</td>\n",
       "      <td>14.7000</td>\n",
       "      <td>14.7000</td>\n",
       "      <td>13.4000</td>\n",
       "      <td>13.4000</td>\n",
       "      <td>13.1000</td>\n",
       "      <td>13.1000</td>\n",
       "      <td>13.1000</td>\n",
       "      <td>13.1000</td>\n",
       "      <td>12.3000</td>\n",
       "    </tr>\n",
       "    <tr>\n",
       "      <th>Accuracy</th>\n",
       "      <td>0.3129</td>\n",
       "      <td>0.3129</td>\n",
       "      <td>0.3129</td>\n",
       "      <td>0.4001</td>\n",
       "      <td>0.4001</td>\n",
       "      <td>0.4154</td>\n",
       "      <td>0.4154</td>\n",
       "      <td>0.4154</td>\n",
       "      <td>0.4154</td>\n",
       "      <td>0.4589</td>\n",
       "    </tr>\n",
       "    <tr>\n",
       "      <th>Precision</th>\n",
       "      <td>0.1794</td>\n",
       "      <td>0.1794</td>\n",
       "      <td>0.1794</td>\n",
       "      <td>0.1899</td>\n",
       "      <td>0.1899</td>\n",
       "      <td>0.1917</td>\n",
       "      <td>0.1917</td>\n",
       "      <td>0.1917</td>\n",
       "      <td>0.1917</td>\n",
       "      <td>0.1966</td>\n",
       "    </tr>\n",
       "    <tr>\n",
       "      <th>Recall</th>\n",
       "      <td>0.9063</td>\n",
       "      <td>0.9063</td>\n",
       "      <td>0.9063</td>\n",
       "      <td>0.8273</td>\n",
       "      <td>0.8273</td>\n",
       "      <td>0.8106</td>\n",
       "      <td>0.8106</td>\n",
       "      <td>0.8106</td>\n",
       "      <td>0.8106</td>\n",
       "      <td>0.7575</td>\n",
       "    </tr>\n",
       "    <tr>\n",
       "      <th>F1 score</th>\n",
       "      <td>0.2995</td>\n",
       "      <td>0.2995</td>\n",
       "      <td>0.2995</td>\n",
       "      <td>0.3089</td>\n",
       "      <td>0.3089</td>\n",
       "      <td>0.3101</td>\n",
       "      <td>0.3101</td>\n",
       "      <td>0.3101</td>\n",
       "      <td>0.3101</td>\n",
       "      <td>0.3122</td>\n",
       "    </tr>\n",
       "  </tbody>\n",
       "</table>\n",
       "</div>\n",
       "      <button class=\"colab-df-convert\" onclick=\"convertToInteractive('df-b703a70b-e848-4def-91f4-47e2847e0080')\"\n",
       "              title=\"Convert this dataframe to an interactive table.\"\n",
       "              style=\"display:none;\">\n",
       "        \n",
       "  <svg xmlns=\"http://www.w3.org/2000/svg\" height=\"24px\"viewBox=\"0 0 24 24\"\n",
       "       width=\"24px\">\n",
       "    <path d=\"M0 0h24v24H0V0z\" fill=\"none\"/>\n",
       "    <path d=\"M18.56 5.44l.94 2.06.94-2.06 2.06-.94-2.06-.94-.94-2.06-.94 2.06-2.06.94zm-11 1L8.5 8.5l.94-2.06 2.06-.94-2.06-.94L8.5 2.5l-.94 2.06-2.06.94zm10 10l.94 2.06.94-2.06 2.06-.94-2.06-.94-.94-2.06-.94 2.06-2.06.94z\"/><path d=\"M17.41 7.96l-1.37-1.37c-.4-.4-.92-.59-1.43-.59-.52 0-1.04.2-1.43.59L10.3 9.45l-7.72 7.72c-.78.78-.78 2.05 0 2.83L4 21.41c.39.39.9.59 1.41.59.51 0 1.02-.2 1.41-.59l7.78-7.78 2.81-2.81c.8-.78.8-2.07 0-2.86zM5.41 20L4 18.59l7.72-7.72 1.47 1.35L5.41 20z\"/>\n",
       "  </svg>\n",
       "      </button>\n",
       "      \n",
       "  <style>\n",
       "    .colab-df-container {\n",
       "      display:flex;\n",
       "      flex-wrap:wrap;\n",
       "      gap: 12px;\n",
       "    }\n",
       "\n",
       "    .colab-df-convert {\n",
       "      background-color: #E8F0FE;\n",
       "      border: none;\n",
       "      border-radius: 50%;\n",
       "      cursor: pointer;\n",
       "      display: none;\n",
       "      fill: #1967D2;\n",
       "      height: 32px;\n",
       "      padding: 0 0 0 0;\n",
       "      width: 32px;\n",
       "    }\n",
       "\n",
       "    .colab-df-convert:hover {\n",
       "      background-color: #E2EBFA;\n",
       "      box-shadow: 0px 1px 2px rgba(60, 64, 67, 0.3), 0px 1px 3px 1px rgba(60, 64, 67, 0.15);\n",
       "      fill: #174EA6;\n",
       "    }\n",
       "\n",
       "    [theme=dark] .colab-df-convert {\n",
       "      background-color: #3B4455;\n",
       "      fill: #D2E3FC;\n",
       "    }\n",
       "\n",
       "    [theme=dark] .colab-df-convert:hover {\n",
       "      background-color: #434B5C;\n",
       "      box-shadow: 0px 1px 3px 1px rgba(0, 0, 0, 0.15);\n",
       "      filter: drop-shadow(0px 1px 2px rgba(0, 0, 0, 0.3));\n",
       "      fill: #FFFFFF;\n",
       "    }\n",
       "  </style>\n",
       "\n",
       "      <script>\n",
       "        const buttonEl =\n",
       "          document.querySelector('#df-b703a70b-e848-4def-91f4-47e2847e0080 button.colab-df-convert');\n",
       "        buttonEl.style.display =\n",
       "          google.colab.kernel.accessAllowed ? 'block' : 'none';\n",
       "\n",
       "        async function convertToInteractive(key) {\n",
       "          const element = document.querySelector('#df-b703a70b-e848-4def-91f4-47e2847e0080');\n",
       "          const dataTable =\n",
       "            await google.colab.kernel.invokeFunction('convertToInteractive',\n",
       "                                                     [key], {});\n",
       "          if (!dataTable) return;\n",
       "\n",
       "          const docLinkHtml = 'Like what you see? Visit the ' +\n",
       "            '<a target=\"_blank\" href=https://colab.research.google.com/notebooks/data_table.ipynb>data table notebook</a>'\n",
       "            + ' to learn more about interactive tables.';\n",
       "          element.innerHTML = '';\n",
       "          dataTable['output_type'] = 'display_data';\n",
       "          await google.colab.output.renderOutput(dataTable, element);\n",
       "          const docLink = document.createElement('div');\n",
       "          docLink.innerHTML = docLinkHtml;\n",
       "          element.appendChild(docLink);\n",
       "        }\n",
       "      </script>\n",
       "    </div>\n",
       "  </div>\n",
       "  "
      ],
      "text/plain": [
       "                0.1100       0.1133       0.1167       0.1200       0.1233  \\\n",
       "1_real      29075.0000   29075.0000   29075.0000   29075.0000   29075.0000   \n",
       "1_pred     146872.0000  146872.0000  146872.0000  126641.0000  126641.0000   \n",
       "0_real     150302.0000  150302.0000  150302.0000  150302.0000  150302.0000   \n",
       "0_pred      32505.0000   32505.0000   32505.0000   52736.0000   52736.0000   \n",
       "tn          29781.0000   29781.0000   29781.0000   47716.0000   47716.0000   \n",
       "fp         120521.0000  120521.0000  120521.0000  102586.0000  102586.0000   \n",
       "fn           2724.0000    2724.0000    2724.0000    5020.0000    5020.0000   \n",
       "tp          26351.0000   26351.0000   26351.0000   24055.0000   24055.0000   \n",
       "tn_%           16.6000      16.6000      16.6000      26.6000      26.6000   \n",
       "fp_%           67.2000      67.2000      67.2000      57.2000      57.2000   \n",
       "fn_%            1.5000       1.5000       1.5000       2.8000       2.8000   \n",
       "tp_%           14.7000      14.7000      14.7000      13.4000      13.4000   \n",
       "Accuracy        0.3129       0.3129       0.3129       0.4001       0.4001   \n",
       "Precision       0.1794       0.1794       0.1794       0.1899       0.1899   \n",
       "Recall          0.9063       0.9063       0.9063       0.8273       0.8273   \n",
       "F1 score        0.2995       0.2995       0.2995       0.3089       0.3089   \n",
       "\n",
       "                0.1267       0.1300       0.1333       0.1367       0.1400  \n",
       "1_real      29075.0000   29075.0000   29075.0000   29075.0000   29075.0000  \n",
       "1_pred     122929.0000  122929.0000  122929.0000  122929.0000  112036.0000  \n",
       "0_real     150302.0000  150302.0000  150302.0000  150302.0000  150302.0000  \n",
       "0_pred      56448.0000   56448.0000   56448.0000   56448.0000   67341.0000  \n",
       "tn          50941.0000   50941.0000   50941.0000   50941.0000   60290.0000  \n",
       "fp          99361.0000   99361.0000   99361.0000   99361.0000   90012.0000  \n",
       "fn           5507.0000    5507.0000    5507.0000    5507.0000    7051.0000  \n",
       "tp          23568.0000   23568.0000   23568.0000   23568.0000   22024.0000  \n",
       "tn_%           28.4000      28.4000      28.4000      28.4000      33.6000  \n",
       "fp_%           55.4000      55.4000      55.4000      55.4000      50.2000  \n",
       "fn_%            3.1000       3.1000       3.1000       3.1000       3.9000  \n",
       "tp_%           13.1000      13.1000      13.1000      13.1000      12.3000  \n",
       "Accuracy        0.4154       0.4154       0.4154       0.4154       0.4589  \n",
       "Precision       0.1917       0.1917       0.1917       0.1917       0.1966  \n",
       "Recall          0.8106       0.8106       0.8106       0.8106       0.7575  \n",
       "F1 score        0.3101       0.3101       0.3101       0.3101       0.3122  "
      ]
     },
     "execution_count": 25,
     "metadata": {},
     "output_type": "execute_result"
    }
   ],
   "source": [
    "threshold_func(y_val, y_val_pred_proba, threshold_list)"
   ]
  },
  {
   "cell_type": "markdown",
   "metadata": {
    "id": "7671dfe9"
   },
   "source": [
    "Threshold에 따른 목적함수 값 비교"
   ]
  },
  {
   "cell_type": "code",
   "execution_count": null,
   "metadata": {
    "id": "b11d3bf4"
   },
   "outputs": [],
   "source": [
    "OPT_threshold = None\n",
    "OPT_expected_loss = None\n",
    "\n",
    "def objective_func(y_pred_proba, threshold_list):\n",
    "    \n",
    "        result_df = pd.DataFrame(index=['1-TPR','FPR','w1_1-TPR','w2_FPR','Expected_loss'])\n",
    "        \n",
    "        expected_loss_list = []\n",
    "        \n",
    "        for i in range(len(threshold_list)):\n",
    "            \n",
    "            threshold = threshold_list[i]\n",
    "            \n",
    "            # make Binarizer(y hat)\n",
    "            binarizer = Binarizer(threshold = threshold).fit(y_pred_proba[:,1].reshape(-1,1))\n",
    "            custom_predict = binarizer.transform(y_pred_proba[:,1].reshape(-1,1))\n",
    "\n",
    "            tn, fp, fn, tp = confusion_matrix(y_val, custom_predict).ravel()\n",
    "            count = [tn, fp, fn, tp]\n",
    "            \n",
    "            tpr_1 = fn / (fn + tp)\n",
    "            fpr = fp / (fp + tn)\n",
    "            w1 = 0.55\n",
    "            w2 = 0.45\n",
    "            \n",
    "            expected_loss = w1 * tpr_1 + w2 * fpr\n",
    "            \n",
    "            expected_loss_list.append(expected_loss)\n",
    "            \n",
    "            threshold_tag = round(threshold_list[i], 4)\n",
    "        \n",
    "            result_df[threshold_tag] = [tpr_1, fpr, w1*tpr_1, w2*fpr, expected_loss]\n",
    "            \n",
    "            if i == 0:\n",
    "                opt_threshold = threshold\n",
    "                opt_expected_loss = expected_loss\n",
    "            else:\n",
    "                if opt_expected_loss > expected_loss:\n",
    "                    opt_threshold = threshold\n",
    "                    opt_expected_loss = expected_loss\n",
    "                    \n",
    "#         expected_loss_list = [round(x, 1) for x in expected_loss_list]\n",
    "\n",
    "        print(opt_threshold)\n",
    "        print(opt_expected_loss)\n",
    "        \n",
    "        plt.plot(threshold_list, expected_loss_list)\n",
    "        plt.scatter(threshold_list, expected_loss_list)\n",
    "        \n",
    "        plt.xlabel('Threshold')\n",
    "        plt.ylabel('Expected_Loss')\n",
    "        plt.title('Expected Loss of Thresholds of %s'%(model_name))\n",
    "\n",
    "        plt.savefig(\"%s_expected_loss_%s.png\"%(model_name, datetime.datetime.now().strftime(\"%m%d%H%M%S\")), dpi=300, bbox_inches='tight')\n",
    "        \n",
    "        plt.show()\n",
    "        \n",
    "        global OPT_threshold\n",
    "        OPT_threshold = opt_threshold\n",
    "        global OPT_expected_loss\n",
    "        OPT_expected_loss = opt_expected_loss\n",
    "        \n",
    "        result_df.to_csv('%s_expected_loss_%s.csv'%(model_name, datetime.datetime.now().strftime(\"%m%d%H%M%S\")), float_format='%.3f', index=True)\n",
    "        \n",
    "        return result_df"
   ]
  },
  {
   "cell_type": "code",
   "execution_count": null,
   "metadata": {
    "colab": {
     "base_uri": "https://localhost:8080/",
     "height": 580
    },
    "executionInfo": {
     "elapsed": 5767,
     "status": "ok",
     "timestamp": 1677495278321,
     "user": {
      "displayName": "황선경",
      "userId": "17888974404389374352"
     },
     "user_tz": -540
    },
    "id": "b81884da",
    "outputId": "6391b97a-d66d-4cd8-d28b-6b5b806e861c",
    "scrolled": false
   },
   "outputs": [
    {
     "name": "stdout",
     "output_type": "stream",
     "text": [
      "0.12666666666666668\n",
      "0.40165775415099203\n"
     ]
    },
    {
     "data": {
      "image/png": "[encoded data removed]",
      "text/plain": [
       "<Figure size 432x288 with 1 Axes>"
      ]
     },
     "metadata": {
      "needs_background": "light"
     },
     "output_type": "display_data"
    },
    {
     "data": {
      "text/html": [
       "\n",
       "  <div id=\"df-b043075b-a31b-419d-9356-f03cc1171475\">\n",
       "    <div class=\"colab-df-container\">\n",
       "      <div>\n",
       "<style scoped>\n",
       "    .dataframe tbody tr th:only-of-type {\n",
       "        vertical-align: middle;\n",
       "    }\n",
       "\n",
       "    .dataframe tbody tr th {\n",
       "        vertical-align: top;\n",
       "    }\n",
       "\n",
       "    .dataframe thead th {\n",
       "        text-align: right;\n",
       "    }\n",
       "</style>\n",
       "<table border=\"1\" class=\"dataframe\">\n",
       "  <thead>\n",
       "    <tr style=\"text-align: right;\">\n",
       "      <th></th>\n",
       "      <th>0.1100</th>\n",
       "      <th>0.1133</th>\n",
       "      <th>0.1167</th>\n",
       "      <th>0.1200</th>\n",
       "      <th>0.1233</th>\n",
       "      <th>0.1267</th>\n",
       "      <th>0.1300</th>\n",
       "      <th>0.1333</th>\n",
       "      <th>0.1367</th>\n",
       "      <th>0.1400</th>\n",
       "    </tr>\n",
       "  </thead>\n",
       "  <tbody>\n",
       "    <tr>\n",
       "      <th>1-TPR</th>\n",
       "      <td>0.093689</td>\n",
       "      <td>0.093689</td>\n",
       "      <td>0.093689</td>\n",
       "      <td>0.172657</td>\n",
       "      <td>0.172657</td>\n",
       "      <td>0.189407</td>\n",
       "      <td>0.189407</td>\n",
       "      <td>0.189407</td>\n",
       "      <td>0.189407</td>\n",
       "      <td>0.242511</td>\n",
       "    </tr>\n",
       "    <tr>\n",
       "      <th>FPR</th>\n",
       "      <td>0.801859</td>\n",
       "      <td>0.801859</td>\n",
       "      <td>0.801859</td>\n",
       "      <td>0.682533</td>\n",
       "      <td>0.682533</td>\n",
       "      <td>0.661076</td>\n",
       "      <td>0.661076</td>\n",
       "      <td>0.661076</td>\n",
       "      <td>0.661076</td>\n",
       "      <td>0.598874</td>\n",
       "    </tr>\n",
       "    <tr>\n",
       "      <th>w1_1-TPR</th>\n",
       "      <td>0.051529</td>\n",
       "      <td>0.051529</td>\n",
       "      <td>0.051529</td>\n",
       "      <td>0.094961</td>\n",
       "      <td>0.094961</td>\n",
       "      <td>0.104174</td>\n",
       "      <td>0.104174</td>\n",
       "      <td>0.104174</td>\n",
       "      <td>0.104174</td>\n",
       "      <td>0.133381</td>\n",
       "    </tr>\n",
       "    <tr>\n",
       "      <th>w2_FPR</th>\n",
       "      <td>0.360837</td>\n",
       "      <td>0.360837</td>\n",
       "      <td>0.360837</td>\n",
       "      <td>0.307140</td>\n",
       "      <td>0.307140</td>\n",
       "      <td>0.297484</td>\n",
       "      <td>0.297484</td>\n",
       "      <td>0.297484</td>\n",
       "      <td>0.297484</td>\n",
       "      <td>0.269493</td>\n",
       "    </tr>\n",
       "    <tr>\n",
       "      <th>Expected_loss</th>\n",
       "      <td>0.412365</td>\n",
       "      <td>0.412365</td>\n",
       "      <td>0.412365</td>\n",
       "      <td>0.402101</td>\n",
       "      <td>0.402101</td>\n",
       "      <td>0.401658</td>\n",
       "      <td>0.401658</td>\n",
       "      <td>0.401658</td>\n",
       "      <td>0.401658</td>\n",
       "      <td>0.402874</td>\n",
       "    </tr>\n",
       "  </tbody>\n",
       "</table>\n",
       "</div>\n",
       "      <button class=\"colab-df-convert\" onclick=\"convertToInteractive('df-b043075b-a31b-419d-9356-f03cc1171475')\"\n",
       "              title=\"Convert this dataframe to an interactive table.\"\n",
       "              style=\"display:none;\">\n",
       "        \n",
       "  <svg xmlns=\"http://www.w3.org/2000/svg\" height=\"24px\"viewBox=\"0 0 24 24\"\n",
       "       width=\"24px\">\n",
       "    <path d=\"M0 0h24v24H0V0z\" fill=\"none\"/>\n",
       "    <path d=\"M18.56 5.44l.94 2.06.94-2.06 2.06-.94-2.06-.94-.94-2.06-.94 2.06-2.06.94zm-11 1L8.5 8.5l.94-2.06 2.06-.94-2.06-.94L8.5 2.5l-.94 2.06-2.06.94zm10 10l.94 2.06.94-2.06 2.06-.94-2.06-.94-.94-2.06-.94 2.06-2.06.94z\"/><path d=\"M17.41 7.96l-1.37-1.37c-.4-.4-.92-.59-1.43-.59-.52 0-1.04.2-1.43.59L10.3 9.45l-7.72 7.72c-.78.78-.78 2.05 0 2.83L4 21.41c.39.39.9.59 1.41.59.51 0 1.02-.2 1.41-.59l7.78-7.78 2.81-2.81c.8-.78.8-2.07 0-2.86zM5.41 20L4 18.59l7.72-7.72 1.47 1.35L5.41 20z\"/>\n",
       "  </svg>\n",
       "      </button>\n",
       "      \n",
       "  <style>\n",
       "    .colab-df-container {\n",
       "      display:flex;\n",
       "      flex-wrap:wrap;\n",
       "      gap: 12px;\n",
       "    }\n",
       "\n",
       "    .colab-df-convert {\n",
       "      background-color: #E8F0FE;\n",
       "      border: none;\n",
       "      border-radius: 50%;\n",
       "      cursor: pointer;\n",
       "      display: none;\n",
       "      fill: #1967D2;\n",
       "      height: 32px;\n",
       "      padding: 0 0 0 0;\n",
       "      width: 32px;\n",
       "    }\n",
       "\n",
       "    .colab-df-convert:hover {\n",
       "      background-color: #E2EBFA;\n",
       "      box-shadow: 0px 1px 2px rgba(60, 64, 67, 0.3), 0px 1px 3px 1px rgba(60, 64, 67, 0.15);\n",
       "      fill: #174EA6;\n",
       "    }\n",
       "\n",
       "    [theme=dark] .colab-df-convert {\n",
       "      background-color: #3B4455;\n",
       "      fill: #D2E3FC;\n",
       "    }\n",
       "\n",
       "    [theme=dark] .colab-df-convert:hover {\n",
       "      background-color: #434B5C;\n",
       "      box-shadow: 0px 1px 3px 1px rgba(0, 0, 0, 0.15);\n",
       "      filter: drop-shadow(0px 1px 2px rgba(0, 0, 0, 0.3));\n",
       "      fill: #FFFFFF;\n",
       "    }\n",
       "  </style>\n",
       "\n",
       "      <script>\n",
       "        const buttonEl =\n",
       "          document.querySelector('#df-b043075b-a31b-419d-9356-f03cc1171475 button.colab-df-convert');\n",
       "        buttonEl.style.display =\n",
       "          google.colab.kernel.accessAllowed ? 'block' : 'none';\n",
       "\n",
       "        async function convertToInteractive(key) {\n",
       "          const element = document.querySelector('#df-b043075b-a31b-419d-9356-f03cc1171475');\n",
       "          const dataTable =\n",
       "            await google.colab.kernel.invokeFunction('convertToInteractive',\n",
       "                                                     [key], {});\n",
       "          if (!dataTable) return;\n",
       "\n",
       "          const docLinkHtml = 'Like what you see? Visit the ' +\n",
       "            '<a target=\"_blank\" href=https://colab.research.google.com/notebooks/data_table.ipynb>data table notebook</a>'\n",
       "            + ' to learn more about interactive tables.';\n",
       "          element.innerHTML = '';\n",
       "          dataTable['output_type'] = 'display_data';\n",
       "          await google.colab.output.renderOutput(dataTable, element);\n",
       "          const docLink = document.createElement('div');\n",
       "          docLink.innerHTML = docLinkHtml;\n",
       "          element.appendChild(docLink);\n",
       "        }\n",
       "      </script>\n",
       "    </div>\n",
       "  </div>\n",
       "  "
      ],
      "text/plain": [
       "                 0.1100    0.1133    0.1167    0.1200    0.1233    0.1267  \\\n",
       "1-TPR          0.093689  0.093689  0.093689  0.172657  0.172657  0.189407   \n",
       "FPR            0.801859  0.801859  0.801859  0.682533  0.682533  0.661076   \n",
       "w1_1-TPR       0.051529  0.051529  0.051529  0.094961  0.094961  0.104174   \n",
       "w2_FPR         0.360837  0.360837  0.360837  0.307140  0.307140  0.297484   \n",
       "Expected_loss  0.412365  0.412365  0.412365  0.402101  0.402101  0.401658   \n",
       "\n",
       "                 0.1300    0.1333    0.1367    0.1400  \n",
       "1-TPR          0.189407  0.189407  0.189407  0.242511  \n",
       "FPR            0.661076  0.661076  0.661076  0.598874  \n",
       "w1_1-TPR       0.104174  0.104174  0.104174  0.133381  \n",
       "w2_FPR         0.297484  0.297484  0.297484  0.269493  \n",
       "Expected_loss  0.401658  0.401658  0.401658  0.402874  "
      ]
     },
     "execution_count": 27,
     "metadata": {},
     "output_type": "execute_result"
    }
   ],
   "source": [
    "objective_func(y_val_pred_proba, threshold_list)\n",
    "\n",
    "# 더 세밀한 범위에서 optimal threshold를 잡고싶으면 한 번 더 다시 실행"
   ]
  },
  {
   "cell_type": "code",
   "execution_count": null,
   "metadata": {
    "colab": {
     "base_uri": "https://localhost:8080/"
    },
    "executionInfo": {
     "elapsed": 406,
     "status": "ok",
     "timestamp": 1677495287080,
     "user": {
      "displayName": "황선경",
      "userId": "17888974404389374352"
     },
     "user_tz": -540
    },
    "id": "6fdA_X6KMRAy",
    "outputId": "4b98832f-3aa1-4ac4-f321-2082947195ba"
   },
   "outputs": [
    {
     "data": {
      "text/plain": [
       "0.12666666666666668"
      ]
     },
     "execution_count": 28,
     "metadata": {},
     "output_type": "execute_result"
    }
   ],
   "source": [
    "OPT_threshold"
   ]
  },
  {
   "cell_type": "markdown",
   "metadata": {
    "id": "192146f2"
   },
   "source": [
    "histogram에 optimal threshold 표시"
   ]
  },
  {
   "cell_type": "code",
   "execution_count": null,
   "metadata": {
    "colab": {
     "base_uri": "https://localhost:8080/",
     "height": 296
    },
    "executionInfo": {
     "elapsed": 2682,
     "status": "ok",
     "timestamp": 1677495298595,
     "user": {
      "displayName": "황선경",
      "userId": "17888974404389374352"
     },
     "user_tz": -540
    },
    "id": "7487f311",
    "outputId": "b30947f5-062e-45cb-cf2b-918172e0390e"
   },
   "outputs": [
    {
     "data": {
      "image/png": "[encoded data removed]",
      "text/plain": [
       "<Figure size 432x288 with 1 Axes>"
      ]
     },
     "metadata": {
      "needs_background": "light"
     },
     "output_type": "display_data"
    }
   ],
   "source": [
    "plt.hist(y_val_pred_proba[:,1], bins=100)\n",
    "\n",
    "plt.axvline(x=OPT_threshold, color='navy', linewidth=5, label='Optimal Threshold')\n",
    "\n",
    "plt.xlabel('y_val_pred_proba')\n",
    "plt.ylabel('Frequency')\n",
    "plt.title('Optimal Threshold of %s'%(model_name))\n",
    "plt.legend()\n",
    "\n",
    "plt.savefig(\"%s_opt_threshold_%s.png\"%(model_name, datetime.datetime.now().strftime(\"%m%d%H%M%S\")), dpi=300, bbox_inches='tight')\n",
    "\n",
    "plt.show() # y_val_pred_proba의 분포 확인"
   ]
  },
  {
   "cell_type": "markdown",
   "metadata": {
    "id": "uZLiDcmKMa3F"
   },
   "source": [
    "# Test "
   ]
  },
  {
   "cell_type": "markdown",
   "metadata": {
    "id": "IHeeYKObMa3F"
   },
   "source": [
    "### X_test fitting"
   ]
  },
  {
   "cell_type": "code",
   "execution_count": null,
   "metadata": {
    "colab": {
     "base_uri": "https://localhost:8080/",
     "height": 296
    },
    "executionInfo": {
     "elapsed": 2346,
     "status": "ok",
     "timestamp": 1677495308999,
     "user": {
      "displayName": "황선경",
      "userId": "17888974404389374352"
     },
     "user_tz": -540
    },
    "id": "d-Ka2y_CMa3G",
    "outputId": "9d281d94-bdff-4214-ea8e-df948926324f"
   },
   "outputs": [
    {
     "data": {
      "image/png": "[encoded data removed]",
      "text/plain": [
       "<Figure size 432x288 with 1 Axes>"
      ]
     },
     "metadata": {
      "needs_background": "light"
     },
     "output_type": "display_data"
    }
   ],
   "source": [
    "# Predict probabilities for new data\n",
    "y_test_pred_proba = best_estimator.predict_proba(X_test) # 확률로 추정된 X_test의 y_pred\n",
    "\n",
    "plt.hist(y_test_pred_proba[:,1], bins=100)\n",
    "\n",
    "plt.xlabel('y_test_pred_proba')\n",
    "plt.ylabel('Frequency')\n",
    "plt.title('Frequency of y_test_pred_proba of %s'%(model_name))\n",
    "\n",
    "plt.savefig(\"%s_test_pre_proba_%s.png\"%(model_name, datetime.datetime.now().strftime(\"%m%d%H%M%S\")), dpi=300, bbox_inches='tight')\n",
    "\n",
    "plt.show() # y_test_pred_proba의 분포 확인"
   ]
  },
  {
   "cell_type": "markdown",
   "metadata": {
    "id": "sY7XQYzVMa3G"
   },
   "source": [
    "### 0, 1 count / confusion_matrix / accuracy, precision, recall, f1 score "
   ]
  },
  {
   "cell_type": "code",
   "execution_count": null,
   "metadata": {
    "id": "Iv1Bzx9gMa3H"
   },
   "outputs": [],
   "source": [
    "def test_func(y_test, y_pred_proba, opt_threshold):\n",
    "        \n",
    "    # make Binarizer(y hat)\n",
    "    binarizer = Binarizer(threshold = opt_threshold).fit(y_pred_proba[:,1].reshape(-1,1))\n",
    "    custom_predict = binarizer.transform(y_pred_proba[:,1].reshape(-1,1))\n",
    "\n",
    "    # count 0, 1 in Binarizer(y hat)\n",
    "    unique, counts = np.unique(custom_predict, return_counts=True)\n",
    "\n",
    "    for val, count in zip(unique, counts):\n",
    "        if len(unique) == 1:\n",
    "            if val == 1.0:\n",
    "                num_0_pred = count\n",
    "                num_1_pred = 0\n",
    "            elif val == 0.0:\n",
    "                num_1_pred = count\n",
    "                num_0_pred = 0\n",
    "        if val == 1.0:\n",
    "            num_0_pred = count\n",
    "        elif val == 0.0:\n",
    "            num_1_pred = count\n",
    "\n",
    "    # count 0, 1 in y hat\n",
    "    num_1_real = y_test.value_counts()[0]\n",
    "    num_0_real = y_test.value_counts()[1]\n",
    "\n",
    "    tn, fp, fn, tp = confusion_matrix(y_test, custom_predict).ravel()\n",
    "    count = [tn, fp, fn, tp]\n",
    "    tn_, fp_, fn_, tp_ = [round(x/sum(count)*100, 1) for x in count]\n",
    "\n",
    "    accuracy = round((tp+tn)/(tp+tn+fp+fn),4)\n",
    "    precision = round(tp/(tp+fp),4)\n",
    "    recall = round(tp/(tp+fn),4)\n",
    "    f1 = round(2*(precision*recall)/(precision+recall),4)\n",
    "    \n",
    "    result_df = pd.DataFrame(index=['1_real','1_pred','0_real','0_pred','tn', 'fp', 'fn', 'tp', 'tn_%', 'fp_%', 'fn_%', 'tp_%', 'Accuracy', 'Precision', 'Recall', 'F1 score'])\n",
    "\n",
    "    result_df['result'] = [num_1_real, num_1_pred, num_0_real, num_0_pred, tn, fp, fn, tp, tn_, fp_, fn_, tp_, accuracy, precision, recall, f1]\n",
    "\n",
    "    labels = ['TN','FP','FN','TP']\n",
    "\n",
    "\n",
    "    # 혼동 행렬 시각화\n",
    "    labels = ['Positive', 'Negative']\n",
    "    cm = [[tp, fn], [fp, tn]]\n",
    "\n",
    "    ax = plt.subplot()\n",
    "    sns.heatmap(cm, annot=True, ax=ax, fmt='g', cmap='Blues')\n",
    "    ax.set_xlabel('Predicted Class')\n",
    "    ax.set_ylabel('Acutual Class')\n",
    "    ax.set_xticklabels(labels)\n",
    "    ax.set_yticklabels(labels)\n",
    "    ax.set_title('%s Confusion Matrix'%(model_name))\n",
    "    \n",
    "    ax.text(0.45, 1.40, 'FP', fontsize=12, color='red')\n",
    "    ax.text(1.45, 1.40, 'TN', fontsize=12, color='red')\n",
    "    ax.text(0.45, 0.40, 'TP', fontsize=12, color='red')\n",
    "    ax.text(1.45, 0.40, 'FN', fontsize=12, color='red')\n",
    "    \n",
    "    plt.savefig(\"%s_Confusion_Matrix_%s.png\"%(model_name, datetime.datetime.now().strftime(\"%m%d%H%M%S\")), dpi=300, bbox_inches='tight')\n",
    "    plt.show()\n",
    "    \n",
    "    result_df.T.to_csv('%s_test.csv'%(model_name), index=True)\n",
    "\n",
    "    return result_df.T"
   ]
  },
  {
   "cell_type": "code",
   "execution_count": null,
   "metadata": {
    "colab": {
     "base_uri": "https://localhost:8080/",
     "height": 439
    },
    "executionInfo": {
     "elapsed": 909,
     "status": "ok",
     "timestamp": 1677495332812,
     "user": {
      "displayName": "황선경",
      "userId": "17888974404389374352"
     },
     "user_tz": -540
    },
    "id": "KLv6EHjBMa3I",
    "outputId": "32e683a5-99f8-49d3-ae55-9aa8d2228468",
    "scrolled": true
   },
   "outputs": [
    {
     "data": {
      "image/png": "[encoded data removed]",
      "text/plain": [
       "<Figure size 432x288 with 2 Axes>"
      ]
     },
     "metadata": {
      "needs_background": "light"
     },
     "output_type": "display_data"
    },
    {
     "data": {
      "text/html": [
       "\n",
       "  <div id=\"df-20c337e7-ef38-4ee2-968f-01e9528feb2f\">\n",
       "    <div class=\"colab-df-container\">\n",
       "      <div>\n",
       "<style scoped>\n",
       "    .dataframe tbody tr th:only-of-type {\n",
       "        vertical-align: middle;\n",
       "    }\n",
       "\n",
       "    .dataframe tbody tr th {\n",
       "        vertical-align: top;\n",
       "    }\n",
       "\n",
       "    .dataframe thead th {\n",
       "        text-align: right;\n",
       "    }\n",
       "</style>\n",
       "<table border=\"1\" class=\"dataframe\">\n",
       "  <thead>\n",
       "    <tr style=\"text-align: right;\">\n",
       "      <th></th>\n",
       "      <th>1_real</th>\n",
       "      <th>1_pred</th>\n",
       "      <th>0_real</th>\n",
       "      <th>0_pred</th>\n",
       "      <th>tn</th>\n",
       "      <th>fp</th>\n",
       "      <th>fn</th>\n",
       "      <th>tp</th>\n",
       "      <th>tn_%</th>\n",
       "      <th>fp_%</th>\n",
       "      <th>fn_%</th>\n",
       "      <th>tp_%</th>\n",
       "      <th>Accuracy</th>\n",
       "      <th>Precision</th>\n",
       "      <th>Recall</th>\n",
       "      <th>F1 score</th>\n",
       "    </tr>\n",
       "  </thead>\n",
       "  <tbody>\n",
       "    <tr>\n",
       "      <th>result</th>\n",
       "      <td>150303.0</td>\n",
       "      <td>56495.0</td>\n",
       "      <td>29075.0</td>\n",
       "      <td>122883.0</td>\n",
       "      <td>50938.0</td>\n",
       "      <td>99365.0</td>\n",
       "      <td>5557.0</td>\n",
       "      <td>23518.0</td>\n",
       "      <td>28.4</td>\n",
       "      <td>55.4</td>\n",
       "      <td>3.1</td>\n",
       "      <td>13.1</td>\n",
       "      <td>0.4151</td>\n",
       "      <td>0.1914</td>\n",
       "      <td>0.8089</td>\n",
       "      <td>0.3096</td>\n",
       "    </tr>\n",
       "  </tbody>\n",
       "</table>\n",
       "</div>\n",
       "      <button class=\"colab-df-convert\" onclick=\"convertToInteractive('df-20c337e7-ef38-4ee2-968f-01e9528feb2f')\"\n",
       "              title=\"Convert this dataframe to an interactive table.\"\n",
       "              style=\"display:none;\">\n",
       "        \n",
       "  <svg xmlns=\"http://www.w3.org/2000/svg\" height=\"24px\"viewBox=\"0 0 24 24\"\n",
       "       width=\"24px\">\n",
       "    <path d=\"M0 0h24v24H0V0z\" fill=\"none\"/>\n",
       "    <path d=\"M18.56 5.44l.94 2.06.94-2.06 2.06-.94-2.06-.94-.94-2.06-.94 2.06-2.06.94zm-11 1L8.5 8.5l.94-2.06 2.06-.94-2.06-.94L8.5 2.5l-.94 2.06-2.06.94zm10 10l.94 2.06.94-2.06 2.06-.94-2.06-.94-.94-2.06-.94 2.06-2.06.94z\"/><path d=\"M17.41 7.96l-1.37-1.37c-.4-.4-.92-.59-1.43-.59-.52 0-1.04.2-1.43.59L10.3 9.45l-7.72 7.72c-.78.78-.78 2.05 0 2.83L4 21.41c.39.39.9.59 1.41.59.51 0 1.02-.2 1.41-.59l7.78-7.78 2.81-2.81c.8-.78.8-2.07 0-2.86zM5.41 20L4 18.59l7.72-7.72 1.47 1.35L5.41 20z\"/>\n",
       "  </svg>\n",
       "      </button>\n",
       "      \n",
       "  <style>\n",
       "    .colab-df-container {\n",
       "      display:flex;\n",
       "      flex-wrap:wrap;\n",
       "      gap: 12px;\n",
       "    }\n",
       "\n",
       "    .colab-df-convert {\n",
       "      background-color: #E8F0FE;\n",
       "      border: none;\n",
       "      border-radius: 50%;\n",
       "      cursor: pointer;\n",
       "      display: none;\n",
       "      fill: #1967D2;\n",
       "      height: 32px;\n",
       "      padding: 0 0 0 0;\n",
       "      width: 32px;\n",
       "    }\n",
       "\n",
       "    .colab-df-convert:hover {\n",
       "      background-color: #E2EBFA;\n",
       "      box-shadow: 0px 1px 2px rgba(60, 64, 67, 0.3), 0px 1px 3px 1px rgba(60, 64, 67, 0.15);\n",
       "      fill: #174EA6;\n",
       "    }\n",
       "\n",
       "    [theme=dark] .colab-df-convert {\n",
       "      background-color: #3B4455;\n",
       "      fill: #D2E3FC;\n",
       "    }\n",
       "\n",
       "    [theme=dark] .colab-df-convert:hover {\n",
       "      background-color: #434B5C;\n",
       "      box-shadow: 0px 1px 3px 1px rgba(0, 0, 0, 0.15);\n",
       "      filter: drop-shadow(0px 1px 2px rgba(0, 0, 0, 0.3));\n",
       "      fill: #FFFFFF;\n",
       "    }\n",
       "  </style>\n",
       "\n",
       "      <script>\n",
       "        const buttonEl =\n",
       "          document.querySelector('#df-20c337e7-ef38-4ee2-968f-01e9528feb2f button.colab-df-convert');\n",
       "        buttonEl.style.display =\n",
       "          google.colab.kernel.accessAllowed ? 'block' : 'none';\n",
       "\n",
       "        async function convertToInteractive(key) {\n",
       "          const element = document.querySelector('#df-20c337e7-ef38-4ee2-968f-01e9528feb2f');\n",
       "          const dataTable =\n",
       "            await google.colab.kernel.invokeFunction('convertToInteractive',\n",
       "                                                     [key], {});\n",
       "          if (!dataTable) return;\n",
       "\n",
       "          const docLinkHtml = 'Like what you see? Visit the ' +\n",
       "            '<a target=\"_blank\" href=https://colab.research.google.com/notebooks/data_table.ipynb>data table notebook</a>'\n",
       "            + ' to learn more about interactive tables.';\n",
       "          element.innerHTML = '';\n",
       "          dataTable['output_type'] = 'display_data';\n",
       "          await google.colab.output.renderOutput(dataTable, element);\n",
       "          const docLink = document.createElement('div');\n",
       "          docLink.innerHTML = docLinkHtml;\n",
       "          element.appendChild(docLink);\n",
       "        }\n",
       "      </script>\n",
       "    </div>\n",
       "  </div>\n",
       "  "
      ],
      "text/plain": [
       "          1_real   1_pred   0_real    0_pred       tn       fp      fn  \\\n",
       "result  150303.0  56495.0  29075.0  122883.0  50938.0  99365.0  5557.0   \n",
       "\n",
       "             tp  tn_%  fp_%  fn_%  tp_%  Accuracy  Precision  Recall  F1 score  \n",
       "result  23518.0  28.4  55.4   3.1  13.1    0.4151     0.1914  0.8089    0.3096  "
      ]
     },
     "execution_count": 32,
     "metadata": {},
     "output_type": "execute_result"
    }
   ],
   "source": [
    "test_func(y_test, y_test_pred_proba, OPT_threshold)"
   ]
  },
  {
   "cell_type": "markdown",
   "metadata": {
    "id": "3a38f1e8"
   },
   "source": [
    "### Objective Function"
   ]
  },
  {
   "cell_type": "code",
   "execution_count": null,
   "metadata": {
    "id": "a083d94f"
   },
   "outputs": [],
   "source": []
  },
  {
   "cell_type": "code",
   "execution_count": null,
   "metadata": {
    "id": "d276de91"
   },
   "outputs": [],
   "source": [
    "def test_objective_func(y_test, y_pred_proba, threshold):\n",
    "    \n",
    "        result_df = pd.DataFrame(index=['1-TPR','FPR','w1_1-TPR','w2_FPR','Expected_loss'])\n",
    "            \n",
    "        # make Binarizer(y hat)\n",
    "        binarizer = Binarizer(threshold = threshold).fit(y_pred_proba[:,1].reshape(-1,1))\n",
    "        custom_predict = binarizer.transform(y_pred_proba[:,1].reshape(-1,1))\n",
    "\n",
    "        tn, fp, fn, tp = confusion_matrix(y_test, custom_predict).ravel()\n",
    "        count = [tn, fp, fn, tp]\n",
    "\n",
    "        tpr_1 = fn / (fn + tp)\n",
    "        fpr = fp / (fp + tn)\n",
    "        w1 = 0.55\n",
    "        w2 = 0.45\n",
    "\n",
    "        expected_loss = w1 * tpr_1 + w2 * fpr\n",
    "\n",
    "        result_df[threshold] = [tpr_1, fpr, w1*tpr_1, w2*fpr, expected_loss]\n",
    "\n",
    "        print(expected_loss)\n",
    "        \n",
    "        result_df.T.to_csv('%s_test_expected_loss_%s.csv'%(model_name, datetime.datetime.now().strftime(\"%m%d%H%M%S\")), float_format='%.6f', index=True)\n",
    "        \n",
    "        return result_df"
   ]
  },
  {
   "cell_type": "code",
   "execution_count": null,
   "metadata": {
    "colab": {
     "base_uri": "https://localhost:8080/",
     "height": 221
    },
    "executionInfo": {
     "elapsed": 398,
     "status": "ok",
     "timestamp": 1677495346347,
     "user": {
      "displayName": "황선경",
      "userId": "17888974404389374352"
     },
     "user_tz": -540
    },
    "id": "03b0c322",
    "outputId": "3096f398-15af-4d11-99cc-a2eb84f58a57"
   },
   "outputs": [
    {
     "name": "stdout",
     "output_type": "stream",
     "text": [
      "0.402613580481443\n"
     ]
    },
    {
     "data": {
      "text/html": [
       "\n",
       "  <div id=\"df-39da3b8e-f00a-4fe4-8608-29db461c18d7\">\n",
       "    <div class=\"colab-df-container\">\n",
       "      <div>\n",
       "<style scoped>\n",
       "    .dataframe tbody tr th:only-of-type {\n",
       "        vertical-align: middle;\n",
       "    }\n",
       "\n",
       "    .dataframe tbody tr th {\n",
       "        vertical-align: top;\n",
       "    }\n",
       "\n",
       "    .dataframe thead th {\n",
       "        text-align: right;\n",
       "    }\n",
       "</style>\n",
       "<table border=\"1\" class=\"dataframe\">\n",
       "  <thead>\n",
       "    <tr style=\"text-align: right;\">\n",
       "      <th></th>\n",
       "      <th>0.126667</th>\n",
       "    </tr>\n",
       "  </thead>\n",
       "  <tbody>\n",
       "    <tr>\n",
       "      <th>1-TPR</th>\n",
       "      <td>0.191126</td>\n",
       "    </tr>\n",
       "    <tr>\n",
       "      <th>FPR</th>\n",
       "      <td>0.661098</td>\n",
       "    </tr>\n",
       "    <tr>\n",
       "      <th>w1_1-TPR</th>\n",
       "      <td>0.105120</td>\n",
       "    </tr>\n",
       "    <tr>\n",
       "      <th>w2_FPR</th>\n",
       "      <td>0.297494</td>\n",
       "    </tr>\n",
       "    <tr>\n",
       "      <th>Expected_loss</th>\n",
       "      <td>0.402614</td>\n",
       "    </tr>\n",
       "  </tbody>\n",
       "</table>\n",
       "</div>\n",
       "      <button class=\"colab-df-convert\" onclick=\"convertToInteractive('df-39da3b8e-f00a-4fe4-8608-29db461c18d7')\"\n",
       "              title=\"Convert this dataframe to an interactive table.\"\n",
       "              style=\"display:none;\">\n",
       "        \n",
       "  <svg xmlns=\"http://www.w3.org/2000/svg\" height=\"24px\"viewBox=\"0 0 24 24\"\n",
       "       width=\"24px\">\n",
       "    <path d=\"M0 0h24v24H0V0z\" fill=\"none\"/>\n",
       "    <path d=\"M18.56 5.44l.94 2.06.94-2.06 2.06-.94-2.06-.94-.94-2.06-.94 2.06-2.06.94zm-11 1L8.5 8.5l.94-2.06 2.06-.94-2.06-.94L8.5 2.5l-.94 2.06-2.06.94zm10 10l.94 2.06.94-2.06 2.06-.94-2.06-.94-.94-2.06-.94 2.06-2.06.94z\"/><path d=\"M17.41 7.96l-1.37-1.37c-.4-.4-.92-.59-1.43-.59-.52 0-1.04.2-1.43.59L10.3 9.45l-7.72 7.72c-.78.78-.78 2.05 0 2.83L4 21.41c.39.39.9.59 1.41.59.51 0 1.02-.2 1.41-.59l7.78-7.78 2.81-2.81c.8-.78.8-2.07 0-2.86zM5.41 20L4 18.59l7.72-7.72 1.47 1.35L5.41 20z\"/>\n",
       "  </svg>\n",
       "      </button>\n",
       "      \n",
       "  <style>\n",
       "    .colab-df-container {\n",
       "      display:flex;\n",
       "      flex-wrap:wrap;\n",
       "      gap: 12px;\n",
       "    }\n",
       "\n",
       "    .colab-df-convert {\n",
       "      background-color: #E8F0FE;\n",
       "      border: none;\n",
       "      border-radius: 50%;\n",
       "      cursor: pointer;\n",
       "      display: none;\n",
       "      fill: #1967D2;\n",
       "      height: 32px;\n",
       "      padding: 0 0 0 0;\n",
       "      width: 32px;\n",
       "    }\n",
       "\n",
       "    .colab-df-convert:hover {\n",
       "      background-color: #E2EBFA;\n",
       "      box-shadow: 0px 1px 2px rgba(60, 64, 67, 0.3), 0px 1px 3px 1px rgba(60, 64, 67, 0.15);\n",
       "      fill: #174EA6;\n",
       "    }\n",
       "\n",
       "    [theme=dark] .colab-df-convert {\n",
       "      background-color: #3B4455;\n",
       "      fill: #D2E3FC;\n",
       "    }\n",
       "\n",
       "    [theme=dark] .colab-df-convert:hover {\n",
       "      background-color: #434B5C;\n",
       "      box-shadow: 0px 1px 3px 1px rgba(0, 0, 0, 0.15);\n",
       "      filter: drop-shadow(0px 1px 2px rgba(0, 0, 0, 0.3));\n",
       "      fill: #FFFFFF;\n",
       "    }\n",
       "  </style>\n",
       "\n",
       "      <script>\n",
       "        const buttonEl =\n",
       "          document.querySelector('#df-39da3b8e-f00a-4fe4-8608-29db461c18d7 button.colab-df-convert');\n",
       "        buttonEl.style.display =\n",
       "          google.colab.kernel.accessAllowed ? 'block' : 'none';\n",
       "\n",
       "        async function convertToInteractive(key) {\n",
       "          const element = document.querySelector('#df-39da3b8e-f00a-4fe4-8608-29db461c18d7');\n",
       "          const dataTable =\n",
       "            await google.colab.kernel.invokeFunction('convertToInteractive',\n",
       "                                                     [key], {});\n",
       "          if (!dataTable) return;\n",
       "\n",
       "          const docLinkHtml = 'Like what you see? Visit the ' +\n",
       "            '<a target=\"_blank\" href=https://colab.research.google.com/notebooks/data_table.ipynb>data table notebook</a>'\n",
       "            + ' to learn more about interactive tables.';\n",
       "          element.innerHTML = '';\n",
       "          dataTable['output_type'] = 'display_data';\n",
       "          await google.colab.output.renderOutput(dataTable, element);\n",
       "          const docLink = document.createElement('div');\n",
       "          docLink.innerHTML = docLinkHtml;\n",
       "          element.appendChild(docLink);\n",
       "        }\n",
       "      </script>\n",
       "    </div>\n",
       "  </div>\n",
       "  "
      ],
      "text/plain": [
       "               0.126667\n",
       "1-TPR          0.191126\n",
       "FPR            0.661098\n",
       "w1_1-TPR       0.105120\n",
       "w2_FPR         0.297494\n",
       "Expected_loss  0.402614"
      ]
     },
     "execution_count": 34,
     "metadata": {},
     "output_type": "execute_result"
    }
   ],
   "source": [
    "test_objective_func(y_test, y_test_pred_proba, OPT_threshold)"
   ]
  },
  {
   "cell_type": "markdown",
   "metadata": {
    "id": "f52-5WkyMa3J"
   },
   "source": [
    "### ROC curve\n",
    "\n",
    "거짓 양성 비율(FPR, 1-TNR:1-특이도)에 대한 진짜 양성 비율(TPR, 재현율)의 곡선\n",
    "\n",
    "정밀도: positive로 예측한 것 중에 진짜 positive인 것 -> 양성 예측도\n",
    "\n",
    "재현율: 실제 positive 중에 맞춘 것 -> 민감도"
   ]
  },
  {
   "cell_type": "code",
   "execution_count": null,
   "metadata": {
    "colab": {
     "base_uri": "https://localhost:8080/",
     "height": 295
    },
    "executionInfo": {
     "elapsed": 2584,
     "status": "ok",
     "timestamp": 1677495353269,
     "user": {
      "displayName": "황선경",
      "userId": "17888974404389374352"
     },
     "user_tz": -540
    },
    "id": "Dr4b8afLMa3J",
    "outputId": "b9359a0c-947d-4bc2-b166-7385e39c2d6f"
   },
   "outputs": [
    {
     "data": {
      "image/png": "[encoded data removed]",
      "text/plain": [
       "<Figure size 432x288 with 1 Axes>"
      ]
     },
     "metadata": {
      "needs_background": "light"
     },
     "output_type": "display_data"
    }
   ],
   "source": [
    "# Generate ROC curve and AUC score for the test set\n",
    "fpr, tpr, thresholds = roc_curve(y_test, y_test_pred_proba[:,1])\n",
    "roc_auc = auc(fpr, tpr)\n",
    "\n",
    "# Plot the ROC curve\n",
    "plt.plot(fpr, tpr, lw=1, label='ROC (AUC = %0.2f)' % roc_auc)\n",
    "plt.plot([0, 1], [0, 1], '--', color='gray', lw=1, label='Random')\n",
    "plt.xlim([0, 1])\n",
    "plt.ylim([0, 1])\n",
    "plt.xlabel('False Positive Rate')\n",
    "plt.ylabel('True Positive Rate')\n",
    "plt.title('%s_ROC_curve'%(model_name))\n",
    "plt.legend(loc='lower right')\n",
    "\n",
    "plt.savefig(\"%s_ROC_curve_%s.png\"%(model_name, datetime.datetime.now().strftime(\"%m%d%H%M%S\")), dpi=300, bbox_inches='tight')\n",
    "plt.show()"
   ]
  },
  {
   "cell_type": "code",
   "execution_count": null,
   "metadata": {
    "id": "93a14933"
   },
   "outputs": [],
   "source": []
  },
  {
   "cell_type": "markdown",
   "metadata": {
    "id": "72515814"
   },
   "source": [
    "# Test "
   ]
  },
  {
   "cell_type": "markdown",
   "metadata": {
    "id": "8dac11d1"
   },
   "source": [
    "### X_test fitting"
   ]
  },
  {
   "cell_type": "code",
   "execution_count": 1,
   "metadata": {
    "colab": {
     "base_uri": "https://localhost:8080/",
     "height": 263
    },
    "executionInfo": {
     "elapsed": 1381,
     "status": "error",
     "timestamp": 1677504985691,
     "user": {
      "displayName": "황선경",
      "userId": "17888974404389374352"
     },
     "user_tz": -540
    },
    "id": "50601421",
    "outputId": "61e4853c-e88f-4962-a73b-7e2dad62a9f5"
   },
   "outputs": [
    {
     "ename": "NameError",
     "evalue": "ignored",
     "output_type": "error",
     "traceback": [
      "\u001b[0;31m---------------------------------------------------------------------------\u001b[0m",
      "\u001b[0;31mNameError\u001b[0m                                 Traceback (most recent call last)",
      "\u001b[0;32m<ipython-input-1-bd034f79bd51>\u001b[0m in \u001b[0;36m<module>\u001b[0;34m\u001b[0m\n\u001b[1;32m      1\u001b[0m \u001b[0;31m# Predict probabilities for new data\u001b[0m\u001b[0;34m\u001b[0m\u001b[0;34m\u001b[0m\u001b[0;34m\u001b[0m\u001b[0m\n\u001b[0;32m----> 2\u001b[0;31m \u001b[0my_test_pred_proba\u001b[0m \u001b[0;34m=\u001b[0m \u001b[0mbest_estimator\u001b[0m\u001b[0;34m.\u001b[0m\u001b[0mpredict_proba\u001b[0m\u001b[0;34m(\u001b[0m\u001b[0mX_test\u001b[0m\u001b[0;34m)\u001b[0m \u001b[0;31m# 확률로 추정된 X_test의 y_pred\u001b[0m\u001b[0;34m\u001b[0m\u001b[0;34m\u001b[0m\u001b[0m\n\u001b[0m\u001b[1;32m      3\u001b[0m \u001b[0;34m\u001b[0m\u001b[0m\n\u001b[1;32m      4\u001b[0m \u001b[0mplt\u001b[0m\u001b[0;34m.\u001b[0m\u001b[0mhist\u001b[0m\u001b[0;34m(\u001b[0m\u001b[0my_test_pred_proba\u001b[0m\u001b[0;34m[\u001b[0m\u001b[0;34m:\u001b[0m\u001b[0;34m,\u001b[0m\u001b[0;36m1\u001b[0m\u001b[0;34m]\u001b[0m\u001b[0;34m,\u001b[0m \u001b[0mbins\u001b[0m\u001b[0;34m=\u001b[0m\u001b[0;36m100\u001b[0m\u001b[0;34m)\u001b[0m\u001b[0;34m\u001b[0m\u001b[0;34m\u001b[0m\u001b[0m\n\u001b[1;32m      5\u001b[0m \u001b[0mplt\u001b[0m\u001b[0;34m.\u001b[0m\u001b[0mshow\u001b[0m\u001b[0;34m(\u001b[0m\u001b[0;34m)\u001b[0m \u001b[0;31m# y_test_pred_proba의 분포 확인\u001b[0m\u001b[0;34m\u001b[0m\u001b[0;34m\u001b[0m\u001b[0m\n",
      "\u001b[0;31mNameError\u001b[0m: name 'best_estimator' is not defined"
     ]
    }
   ],
   "source": [
    "# Predict probabilities for new data\n",
    "y_test_pred_proba = best_estimator.predict_proba(X_test) # 확률로 추정된 X_test의 y_pred\n",
    "\n",
    "plt.hist(y_test_pred_proba[:,1], bins=100)\n",
    "plt.show() # y_test_pred_proba의 분포 확인"
   ]
  },
  {
   "cell_type": "markdown",
   "metadata": {
    "id": "2533ecd6"
   },
   "source": [
    "### 0, 1 count / confusion_matrix / accuracy, precision, recall, f1 score "
   ]
  },
  {
   "cell_type": "code",
   "execution_count": null,
   "metadata": {
    "id": "20437934"
   },
   "outputs": [],
   "source": [
    "def test_func(y_test, y_pred_proba, opt_threshold):\n",
    "        \n",
    "    # make Binarizer(y hat)\n",
    "    binarizer = Binarizer(threshold = opt_threshold).fit(y_pred_proba[:,1].reshape(-1,1))\n",
    "    custom_predict = binarizer.transform(y_pred_proba[:,1].reshape(-1,1))\n",
    "\n",
    "    # count 0, 1 in Binarizer(y hat)\n",
    "    unique, counts = np.unique(custom_predict, return_counts=True)\n",
    "\n",
    "    for val, count in zip(unique, counts):\n",
    "        if len(unique) == 1:\n",
    "            if val == 1.0:\n",
    "                num_0_pred = count\n",
    "                num_1_pred = 0\n",
    "            elif val == 0.0:\n",
    "                num_1_pred = count\n",
    "                num_0_pred = 0\n",
    "        if val == 1.0:\n",
    "            num_0_pred = count\n",
    "        elif val == 0.0:\n",
    "            num_1_pred = count\n",
    "\n",
    "    # count 0, 1 in y hat\n",
    "    num_1_real = y_test.value_counts()[0]\n",
    "    num_0_real = y_test.value_counts()[1]\n",
    "\n",
    "    tn, fp, fn, tp = confusion_matrix(y_test, custom_predict).ravel()\n",
    "    count = [tn, fp, fn, tp]\n",
    "    tn_, fp_, fn_, tp_ = [round(x/sum(count)*100, 1) for x in count]\n",
    "\n",
    "    accuracy = (tp + tn) / (tp + tn + fp + fn)\n",
    "    precision = tp / (tp + fp)\n",
    "    recall = tp / (tp + fn)\n",
    "    f1 = 2 * (precision * recall) / (precision + recall)\n",
    "    \n",
    "    result_df = pd.DataFrame(index=['1_real','1_pred','0_real','0_pred','tn', 'fp', 'fn', 'tp', 'tn_%', 'fp_%', 'fn_%', 'tp_%', 'Accuracy', 'Precision', 'Recall', 'F1 score'])\n",
    "\n",
    "    result_df['result'] = [num_1_real, num_1_pred, num_0_real, num_0_pred, tn, fp, fn, tp, tn_, fp_, fn_, tp_, accuracy, precision, recall, f1]\n",
    "\n",
    "#         labels = ['True Negatives', 'False Positives', 'False Negatives', 'True Positives']\n",
    "    labels = ['TN','FP','FN','TP']\n",
    "\n",
    "    # tn, fp, fn, tp 각각의 값을 counts 리스트에 저장\n",
    "    counts = [tn, fp, fn, tp]\n",
    "\n",
    "    # 그래프 그리기\n",
    "    axes.bar(labels, counts)\n",
    "    axes.set_title(threshold)\n",
    "    axes.set_ylabel('Count')\n",
    "\n",
    "    # 그래프 출력하기\n",
    "    plt.show()\n",
    "    \n",
    "    cm = confusion_matrix(y_test, custom_predict)\n",
    "    print('Confusion matrix:')\n",
    "    print(cm)\n",
    "    \n",
    "    print(result_df)"
   ]
  },
  {
   "cell_type": "code",
   "execution_count": null,
   "metadata": {
    "id": "66ef017d"
   },
   "outputs": [],
   "source": [
    "test_func(y_test, y_test_pred_proba, opt_threshold)"
   ]
  },
  {
   "cell_type": "markdown",
   "metadata": {
    "id": "5183b03e"
   },
   "source": [
    "### ROC curve"
   ]
  },
  {
   "cell_type": "code",
   "execution_count": null,
   "metadata": {
    "id": "ffe859bb",
    "outputId": "1f6071e5-8ce4-492d-b643-2f8f9467e7a9"
   },
   "outputs": [
    {
     "data": {
      "image/png": "[encoded data removed]",
      "text/plain": [
       "<Figure size 640x480 with 1 Axes>"
      ]
     },
     "metadata": {},
     "output_type": "display_data"
    }
   ],
   "source": [
    "# Generate ROC curve and AUC score for the validation set\n",
    "fpr, tpr, thresholds = roc_curve(y_test, y_test_pred_proba)\n",
    "roc_auc = auc(fpr, tpr)\n",
    "\n",
    "# Plot the ROC curve\n",
    "plt.plot(fpr, tpr, lw=1, label='ROC (AUC = %0.2f)' % roc_auc)\n",
    "plt.plot([0, 1], [0, 1], '--', color='gray', lw=1, label='Random')\n",
    "plt.xlim([0, 1])\n",
    "plt.ylim([0, 1])\n",
    "plt.xlabel('False Positive Rate')\n",
    "plt.ylabel('True Positive Rate')\n",
    "plt.title('Receiver Operating Characteristic')\n",
    "plt.legend(loc='lower right')\n",
    "plt.show()"
   ]
  }
 ],
 "metadata": {
  "colab": {
   "authorship_tag": "ABX9TyMZ9jw/7Zb4QYVeQ4T+5a0t",
   "provenance": []
  },
  "kernelspec": {
   "display_name": "Python 3 (ipykernel)",
   "language": "python",
   "name": "python3"
  },
  "language_info": {
   "codemirror_mode": {
    "name": "ipython",
    "version": 3
   },
   "file_extension": ".py",
   "mimetype": "text/x-python",
   "name": "python",
   "nbconvert_exporter": "python",
   "pygments_lexer": "ipython3",
   "version": "3.11.3"
  }
 },
 "nbformat": 4,
 "nbformat_minor": 1
}
