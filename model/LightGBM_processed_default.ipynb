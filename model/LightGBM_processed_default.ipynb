{
 "cells": [
  {
   "cell_type": "code",
   "execution_count": null,
   "metadata": {
    "colab": {
     "base_uri": "https://localhost:8080/"
    },
    "executionInfo": {
     "elapsed": 4104,
     "status": "ok",
     "timestamp": 1678857987759,
     "user": {
      "displayName": "조민정",
      "userId": "09786996135651143212"
     },
     "user_tz": -540
    },
    "id": "knN2o3LXu7fF",
    "outputId": "dc46e49d-1e1d-4141-98eb-7e60b230c0d0",
    "scrolled": true
   },
   "outputs": [
    {
     "name": "stdout",
     "output_type": "stream",
     "text": [
      "Looking in indexes: https://pypi.org/simple, https://us-python.pkg.dev/colab-wheels/public/simple/\n",
      "Requirement already satisfied: lightgbm in /usr/local/lib/python3.9/dist-packages (2.2.3)\n",
      "Requirement already satisfied: scikit-learn in /usr/local/lib/python3.9/dist-packages (from lightgbm) (1.2.2)\n",
      "Requirement already satisfied: scipy in /usr/local/lib/python3.9/dist-packages (from lightgbm) (1.10.1)\n",
      "Requirement already satisfied: numpy in /usr/local/lib/python3.9/dist-packages (from lightgbm) (1.22.4)\n",
      "Requirement already satisfied: joblib>=1.1.1 in /usr/local/lib/python3.9/dist-packages (from scikit-learn->lightgbm) (1.1.1)\n",
      "Requirement already satisfied: threadpoolctl>=2.0.0 in /usr/local/lib/python3.9/dist-packages (from scikit-learn->lightgbm) (3.1.0)\n"
     ]
    }
   ],
   "source": [
    "!pip install lightgbm"
   ]
  },
  {
   "cell_type": "code",
   "execution_count": null,
   "metadata": {
    "id": "OiDofxWFuKdB"
   },
   "outputs": [],
   "source": [
    "import pandas as pd\n",
    "import numpy as np\n",
    "import seaborn as sns\n",
    "\n",
    "#from scipy.stats import uniform\n",
    "\n",
    "# from imblearn.under_sampling import RandomUnderSampler\n",
    "\n",
    "#from sklearn.decomposition import PCA\n",
    "\n",
    "from sklearn.pipeline import Pipeline\n",
    "\n",
    "#from sklearn.model_selection import train_test_split\n",
    "\n",
    "from sklearn.preprocessing import StandardScaler, Binarizer\n",
    "\n",
    "from sklearn.feature_selection import SelectFromModel\n",
    "\n",
    "from sklearn.tree import DecisionTreeClassifier\n",
    "\n",
    "#from sklearn.linear_model import LogisticRegression, Ridge\n",
    "\n",
    "from sklearn.model_selection import KFold, GridSearchCV, RandomizedSearchCV, cross_val_score\n",
    "\n",
    "from sklearn.metrics import make_scorer, confusion_matrix, roc_curve, auc, f1_score, accuracy_score, precision_score, recall_score, log_loss\n",
    "\n",
    "import matplotlib.pyplot as plt\n",
    "\n",
    "import datetime\n",
    "\n",
    "import warnings\n",
    "\n",
    "warnings.filterwarnings('ignore')\n",
    "\n",
    "#import torch\n",
    "\n",
    "#from torch.utils.data import DataLoader, TensorDataset"
   ]
  },
  {
   "cell_type": "code",
   "execution_count": 10,
   "metadata": {
    "executionInfo": {
     "elapsed": 32817,
     "status": "ok",
     "timestamp": 1677526358239,
     "user": {
      "displayName": "황선경",
      "userId": "17888974404389374352"
     },
     "user_tz": -540
    },
    "id": "60b80511"
   },
   "outputs": [],
   "source": [
    "train = pd.read_csv('../dataset_processed/train_538132.csv')\n",
    "val = pd.read_csv('../dataset_processed/validation_179377.csv')\n",
    "test = pd.read_csv('../dataset_processed/test_179378.csv')"
   ]
  },
  {
   "cell_type": "code",
   "execution_count": null,
   "metadata": {},
   "outputs": [],
   "source": [
    "X_train = train.drop('depvar', axis=1)\n",
    "y_train = train['depvar']\n",
    "\n",
    "X_val = val.drop('depvar', axis=1)\n",
    "y_val = val['depvar']\n",
    "\n",
    "X_test = test.drop('depvar', axis=1)\n",
    "y_test = test['depvar']"
   ]
  },
  {
   "cell_type": "code",
   "execution_count": null,
   "metadata": {
    "colab": {
     "base_uri": "https://localhost:8080/"
    },
    "executionInfo": {
     "elapsed": 312,
     "status": "ok",
     "timestamp": 1678857952866,
     "user": {
      "displayName": "조민정",
      "userId": "09786996135651143212"
     },
     "user_tz": -540
    },
    "id": "I7YXHfc5u0Yr",
    "outputId": "994f2d90-0bd7-41d9-b29f-821c1eda793c"
   },
   "outputs": [
    {
     "name": "stdout",
     "output_type": "stream",
     "text": [
      "(538132, 86)\n",
      "(538132,)\n",
      "(179377, 86)\n",
      "(179377,)\n",
      "(179378, 86)\n",
      "(179378,)\n"
     ]
    }
   ],
   "source": [
    "print(X_train.shape)\n",
    "print(y_train.shape)\n",
    "print(X_val.shape)\n",
    "print(y_val.shape)\n",
    "print(X_test.shape)\n",
    "print(y_test.shape)"
   ]
  },
  {
   "cell_type": "code",
   "execution_count": null,
   "metadata": {
    "colab": {
     "base_uri": "https://localhost:8080/",
     "height": 1000
    },
    "executionInfo": {
     "elapsed": 66791,
     "status": "ok",
     "timestamp": 1678858060694,
     "user": {
      "displayName": "조민정",
      "userId": "09786996135651143212"
     },
     "user_tz": -540
    },
    "id": "L0EIJx9xu1sk",
    "outputId": "f6e3d3a5-8771-4ed0-bcdb-fb92ae185f0c"
   },
   "outputs": [
    {
     "name": "stdout",
     "output_type": "stream",
     "text": [
      "[1]\tvalid_0's binary_logloss: 0.44081\tvalid_0's binary_logloss: 0.44081\n",
      "Training until validation scores don't improve for 100 rounds.\n",
      "[2]\tvalid_0's binary_logloss: 0.438857\tvalid_0's binary_logloss: 0.438857\n",
      "[3]\tvalid_0's binary_logloss: 0.437193\tvalid_0's binary_logloss: 0.437193\n",
      "[4]\tvalid_0's binary_logloss: 0.435737\tvalid_0's binary_logloss: 0.435737\n",
      "[5]\tvalid_0's binary_logloss: 0.4345\tvalid_0's binary_logloss: 0.4345\n",
      "[6]\tvalid_0's binary_logloss: 0.433395\tvalid_0's binary_logloss: 0.433395\n",
      "[7]\tvalid_0's binary_logloss: 0.432427\tvalid_0's binary_logloss: 0.432427\n",
      "[8]\tvalid_0's binary_logloss: 0.431609\tvalid_0's binary_logloss: 0.431609\n",
      "[9]\tvalid_0's binary_logloss: 0.430866\tvalid_0's binary_logloss: 0.430866\n",
      "[10]\tvalid_0's binary_logloss: 0.43018\tvalid_0's binary_logloss: 0.43018\n",
      "[11]\tvalid_0's binary_logloss: 0.429501\tvalid_0's binary_logloss: 0.429501\n",
      "[12]\tvalid_0's binary_logloss: 0.42889\tvalid_0's binary_logloss: 0.42889\n",
      "[13]\tvalid_0's binary_logloss: 0.428377\tvalid_0's binary_logloss: 0.428377\n",
      "[14]\tvalid_0's binary_logloss: 0.427917\tvalid_0's binary_logloss: 0.427917\n",
      "[15]\tvalid_0's binary_logloss: 0.427428\tvalid_0's binary_logloss: 0.427428\n",
      "[16]\tvalid_0's binary_logloss: 0.427068\tvalid_0's binary_logloss: 0.427068\n",
      "[17]\tvalid_0's binary_logloss: 0.426728\tvalid_0's binary_logloss: 0.426728\n",
      "[18]\tvalid_0's binary_logloss: 0.426397\tvalid_0's binary_logloss: 0.426397\n",
      "[19]\tvalid_0's binary_logloss: 0.426093\tvalid_0's binary_logloss: 0.426093\n",
      "[20]\tvalid_0's binary_logloss: 0.425789\tvalid_0's binary_logloss: 0.425789\n",
      "[21]\tvalid_0's binary_logloss: 0.425516\tvalid_0's binary_logloss: 0.425516\n",
      "[22]\tvalid_0's binary_logloss: 0.425261\tvalid_0's binary_logloss: 0.425261\n",
      "[23]\tvalid_0's binary_logloss: 0.425038\tvalid_0's binary_logloss: 0.425038\n",
      "[24]\tvalid_0's binary_logloss: 0.424809\tvalid_0's binary_logloss: 0.424809\n",
      "[25]\tvalid_0's binary_logloss: 0.424593\tvalid_0's binary_logloss: 0.424593\n",
      "[26]\tvalid_0's binary_logloss: 0.424389\tvalid_0's binary_logloss: 0.424389\n",
      "[27]\tvalid_0's binary_logloss: 0.424203\tvalid_0's binary_logloss: 0.424203\n",
      "[28]\tvalid_0's binary_logloss: 0.423994\tvalid_0's binary_logloss: 0.423994\n",
      "[29]\tvalid_0's binary_logloss: 0.423832\tvalid_0's binary_logloss: 0.423832\n",
      "[30]\tvalid_0's binary_logloss: 0.423673\tvalid_0's binary_logloss: 0.423673\n",
      "[31]\tvalid_0's binary_logloss: 0.423497\tvalid_0's binary_logloss: 0.423497\n",
      "[32]\tvalid_0's binary_logloss: 0.42335\tvalid_0's binary_logloss: 0.42335\n",
      "[33]\tvalid_0's binary_logloss: 0.423229\tvalid_0's binary_logloss: 0.423229\n",
      "[34]\tvalid_0's binary_logloss: 0.423076\tvalid_0's binary_logloss: 0.423076\n",
      "[35]\tvalid_0's binary_logloss: 0.422926\tvalid_0's binary_logloss: 0.422926\n",
      "[36]\tvalid_0's binary_logloss: 0.422799\tvalid_0's binary_logloss: 0.422799\n",
      "[37]\tvalid_0's binary_logloss: 0.422705\tvalid_0's binary_logloss: 0.422705\n",
      "[38]\tvalid_0's binary_logloss: 0.422574\tvalid_0's binary_logloss: 0.422574\n",
      "[39]\tvalid_0's binary_logloss: 0.422462\tvalid_0's binary_logloss: 0.422462\n",
      "[40]\tvalid_0's binary_logloss: 0.422348\tvalid_0's binary_logloss: 0.422348\n",
      "[41]\tvalid_0's binary_logloss: 0.422226\tvalid_0's binary_logloss: 0.422226\n",
      "[42]\tvalid_0's binary_logloss: 0.422124\tvalid_0's binary_logloss: 0.422124\n",
      "[43]\tvalid_0's binary_logloss: 0.422046\tvalid_0's binary_logloss: 0.422046\n",
      "[44]\tvalid_0's binary_logloss: 0.421946\tvalid_0's binary_logloss: 0.421946\n",
      "[45]\tvalid_0's binary_logloss: 0.421852\tvalid_0's binary_logloss: 0.421852\n",
      "[46]\tvalid_0's binary_logloss: 0.421771\tvalid_0's binary_logloss: 0.421771\n",
      "[47]\tvalid_0's binary_logloss: 0.421685\tvalid_0's binary_logloss: 0.421685\n",
      "[48]\tvalid_0's binary_logloss: 0.42158\tvalid_0's binary_logloss: 0.42158\n",
      "[49]\tvalid_0's binary_logloss: 0.421501\tvalid_0's binary_logloss: 0.421501\n",
      "[50]\tvalid_0's binary_logloss: 0.421423\tvalid_0's binary_logloss: 0.421423\n",
      "[51]\tvalid_0's binary_logloss: 0.421348\tvalid_0's binary_logloss: 0.421348\n",
      "[52]\tvalid_0's binary_logloss: 0.421259\tvalid_0's binary_logloss: 0.421259\n",
      "[53]\tvalid_0's binary_logloss: 0.421209\tvalid_0's binary_logloss: 0.421209\n",
      "[54]\tvalid_0's binary_logloss: 0.421132\tvalid_0's binary_logloss: 0.421132\n",
      "[55]\tvalid_0's binary_logloss: 0.421077\tvalid_0's binary_logloss: 0.421077\n",
      "[56]\tvalid_0's binary_logloss: 0.421001\tvalid_0's binary_logloss: 0.421001\n",
      "[57]\tvalid_0's binary_logloss: 0.420934\tvalid_0's binary_logloss: 0.420934\n",
      "[58]\tvalid_0's binary_logloss: 0.420873\tvalid_0's binary_logloss: 0.420873\n",
      "[59]\tvalid_0's binary_logloss: 0.42081\tvalid_0's binary_logloss: 0.42081\n",
      "[60]\tvalid_0's binary_logloss: 0.420759\tvalid_0's binary_logloss: 0.420759\n",
      "[61]\tvalid_0's binary_logloss: 0.420697\tvalid_0's binary_logloss: 0.420697\n",
      "[62]\tvalid_0's binary_logloss: 0.420649\tvalid_0's binary_logloss: 0.420649\n",
      "[63]\tvalid_0's binary_logloss: 0.420618\tvalid_0's binary_logloss: 0.420618\n",
      "[64]\tvalid_0's binary_logloss: 0.420585\tvalid_0's binary_logloss: 0.420585\n",
      "[65]\tvalid_0's binary_logloss: 0.42055\tvalid_0's binary_logloss: 0.42055\n",
      "[66]\tvalid_0's binary_logloss: 0.420521\tvalid_0's binary_logloss: 0.420521\n",
      "[67]\tvalid_0's binary_logloss: 0.420486\tvalid_0's binary_logloss: 0.420486\n",
      "[68]\tvalid_0's binary_logloss: 0.420453\tvalid_0's binary_logloss: 0.420453\n",
      "[69]\tvalid_0's binary_logloss: 0.420419\tvalid_0's binary_logloss: 0.420419\n",
      "[70]\tvalid_0's binary_logloss: 0.420386\tvalid_0's binary_logloss: 0.420386\n",
      "[71]\tvalid_0's binary_logloss: 0.42034\tvalid_0's binary_logloss: 0.42034\n",
      "[72]\tvalid_0's binary_logloss: 0.420315\tvalid_0's binary_logloss: 0.420315\n",
      "[73]\tvalid_0's binary_logloss: 0.420283\tvalid_0's binary_logloss: 0.420283\n",
      "[74]\tvalid_0's binary_logloss: 0.420251\tvalid_0's binary_logloss: 0.420251\n",
      "[75]\tvalid_0's binary_logloss: 0.420214\tvalid_0's binary_logloss: 0.420214\n",
      "[76]\tvalid_0's binary_logloss: 0.420182\tvalid_0's binary_logloss: 0.420182\n",
      "[77]\tvalid_0's binary_logloss: 0.420159\tvalid_0's binary_logloss: 0.420159\n",
      "[78]\tvalid_0's binary_logloss: 0.420134\tvalid_0's binary_logloss: 0.420134\n",
      "[79]\tvalid_0's binary_logloss: 0.420122\tvalid_0's binary_logloss: 0.420122\n",
      "[80]\tvalid_0's binary_logloss: 0.4201\tvalid_0's binary_logloss: 0.4201\n",
      "[81]\tvalid_0's binary_logloss: 0.420055\tvalid_0's binary_logloss: 0.420055\n",
      "[82]\tvalid_0's binary_logloss: 0.420035\tvalid_0's binary_logloss: 0.420035\n",
      "[83]\tvalid_0's binary_logloss: 0.420024\tvalid_0's binary_logloss: 0.420024\n",
      "[84]\tvalid_0's binary_logloss: 0.420009\tvalid_0's binary_logloss: 0.420009\n",
      "[85]\tvalid_0's binary_logloss: 0.420013\tvalid_0's binary_logloss: 0.420013\n",
      "[86]\tvalid_0's binary_logloss: 0.419992\tvalid_0's binary_logloss: 0.419992\n",
      "[87]\tvalid_0's binary_logloss: 0.41996\tvalid_0's binary_logloss: 0.41996\n",
      "[88]\tvalid_0's binary_logloss: 0.419964\tvalid_0's binary_logloss: 0.419964\n",
      "[89]\tvalid_0's binary_logloss: 0.419955\tvalid_0's binary_logloss: 0.419955\n",
      "[90]\tvalid_0's binary_logloss: 0.419932\tvalid_0's binary_logloss: 0.419932\n",
      "[91]\tvalid_0's binary_logloss: 0.41992\tvalid_0's binary_logloss: 0.41992\n",
      "[92]\tvalid_0's binary_logloss: 0.419906\tvalid_0's binary_logloss: 0.419906\n",
      "[93]\tvalid_0's binary_logloss: 0.419898\tvalid_0's binary_logloss: 0.419898\n",
      "[94]\tvalid_0's binary_logloss: 0.419893\tvalid_0's binary_logloss: 0.419893\n",
      "[95]\tvalid_0's binary_logloss: 0.419881\tvalid_0's binary_logloss: 0.419881\n",
      "[96]\tvalid_0's binary_logloss: 0.41986\tvalid_0's binary_logloss: 0.41986\n",
      "[97]\tvalid_0's binary_logloss: 0.419858\tvalid_0's binary_logloss: 0.419858\n",
      "[98]\tvalid_0's binary_logloss: 0.419835\tvalid_0's binary_logloss: 0.419835\n",
      "[99]\tvalid_0's binary_logloss: 0.419817\tvalid_0's binary_logloss: 0.419817\n",
      "[100]\tvalid_0's binary_logloss: 0.419806\tvalid_0's binary_logloss: 0.419806\n",
      "[101]\tvalid_0's binary_logloss: 0.419801\tvalid_0's binary_logloss: 0.419801\n",
      "[102]\tvalid_0's binary_logloss: 0.419793\tvalid_0's binary_logloss: 0.419793\n",
      "[103]\tvalid_0's binary_logloss: 0.419791\tvalid_0's binary_logloss: 0.419791\n",
      "[104]\tvalid_0's binary_logloss: 0.419792\tvalid_0's binary_logloss: 0.419792\n",
      "[105]\tvalid_0's binary_logloss: 0.419786\tvalid_0's binary_logloss: 0.419786\n",
      "[106]\tvalid_0's binary_logloss: 0.419779\tvalid_0's binary_logloss: 0.419779\n",
      "[107]\tvalid_0's binary_logloss: 0.419786\tvalid_0's binary_logloss: 0.419786\n",
      "[108]\tvalid_0's binary_logloss: 0.419795\tvalid_0's binary_logloss: 0.419795\n",
      "[109]\tvalid_0's binary_logloss: 0.419789\tvalid_0's binary_logloss: 0.419789\n",
      "[110]\tvalid_0's binary_logloss: 0.419794\tvalid_0's binary_logloss: 0.419794\n",
      "[111]\tvalid_0's binary_logloss: 0.419788\tvalid_0's binary_logloss: 0.419788\n",
      "[112]\tvalid_0's binary_logloss: 0.41979\tvalid_0's binary_logloss: 0.41979\n",
      "[113]\tvalid_0's binary_logloss: 0.419786\tvalid_0's binary_logloss: 0.419786\n",
      "[114]\tvalid_0's binary_logloss: 0.419769\tvalid_0's binary_logloss: 0.419769\n",
      "[115]\tvalid_0's binary_logloss: 0.419754\tvalid_0's binary_logloss: 0.419754\n",
      "[116]\tvalid_0's binary_logloss: 0.41976\tvalid_0's binary_logloss: 0.41976\n",
      "[117]\tvalid_0's binary_logloss: 0.419753\tvalid_0's binary_logloss: 0.419753\n",
      "[118]\tvalid_0's binary_logloss: 0.419748\tvalid_0's binary_logloss: 0.419748\n",
      "[119]\tvalid_0's binary_logloss: 0.419742\tvalid_0's binary_logloss: 0.419742\n",
      "[120]\tvalid_0's binary_logloss: 0.419741\tvalid_0's binary_logloss: 0.419741\n",
      "[121]\tvalid_0's binary_logloss: 0.41975\tvalid_0's binary_logloss: 0.41975\n",
      "[122]\tvalid_0's binary_logloss: 0.419751\tvalid_0's binary_logloss: 0.419751\n",
      "[123]\tvalid_0's binary_logloss: 0.419754\tvalid_0's binary_logloss: 0.419754\n",
      "[124]\tvalid_0's binary_logloss: 0.419764\tvalid_0's binary_logloss: 0.419764\n",
      "[125]\tvalid_0's binary_logloss: 0.419746\tvalid_0's binary_logloss: 0.419746\n",
      "[126]\tvalid_0's binary_logloss: 0.419753\tvalid_0's binary_logloss: 0.419753\n",
      "[127]\tvalid_0's binary_logloss: 0.419757\tvalid_0's binary_logloss: 0.419757\n",
      "[128]\tvalid_0's binary_logloss: 0.41976\tvalid_0's binary_logloss: 0.41976\n",
      "[129]\tvalid_0's binary_logloss: 0.419759\tvalid_0's binary_logloss: 0.419759\n",
      "[130]\tvalid_0's binary_logloss: 0.419765\tvalid_0's binary_logloss: 0.419765\n",
      "[131]\tvalid_0's binary_logloss: 0.419762\tvalid_0's binary_logloss: 0.419762\n",
      "[132]\tvalid_0's binary_logloss: 0.419773\tvalid_0's binary_logloss: 0.419773\n",
      "[133]\tvalid_0's binary_logloss: 0.419769\tvalid_0's binary_logloss: 0.419769\n",
      "[134]\tvalid_0's binary_logloss: 0.419777\tvalid_0's binary_logloss: 0.419777\n",
      "[135]\tvalid_0's binary_logloss: 0.419785\tvalid_0's binary_logloss: 0.419785\n",
      "[136]\tvalid_0's binary_logloss: 0.419792\tvalid_0's binary_logloss: 0.419792\n",
      "[137]\tvalid_0's binary_logloss: 0.419792\tvalid_0's binary_logloss: 0.419792\n",
      "[138]\tvalid_0's binary_logloss: 0.419794\tvalid_0's binary_logloss: 0.419794\n",
      "[139]\tvalid_0's binary_logloss: 0.419793\tvalid_0's binary_logloss: 0.419793\n",
      "[140]\tvalid_0's binary_logloss: 0.419793\tvalid_0's binary_logloss: 0.419793\n",
      "[141]\tvalid_0's binary_logloss: 0.419794\tvalid_0's binary_logloss: 0.419794\n",
      "[142]\tvalid_0's binary_logloss: 0.419783\tvalid_0's binary_logloss: 0.419783\n",
      "[143]\tvalid_0's binary_logloss: 0.419777\tvalid_0's binary_logloss: 0.419777\n",
      "[144]\tvalid_0's binary_logloss: 0.419778\tvalid_0's binary_logloss: 0.419778\n",
      "[145]\tvalid_0's binary_logloss: 0.419775\tvalid_0's binary_logloss: 0.419775\n",
      "[146]\tvalid_0's binary_logloss: 0.41978\tvalid_0's binary_logloss: 0.41978\n",
      "[147]\tvalid_0's binary_logloss: 0.419778\tvalid_0's binary_logloss: 0.419778\n",
      "[148]\tvalid_0's binary_logloss: 0.419767\tvalid_0's binary_logloss: 0.419767\n",
      "[149]\tvalid_0's binary_logloss: 0.419766\tvalid_0's binary_logloss: 0.419766\n",
      "[150]\tvalid_0's binary_logloss: 0.419765\tvalid_0's binary_logloss: 0.419765\n",
      "Did not meet early stopping. Best iteration is:\n",
      "[120]\tvalid_0's binary_logloss: 0.419741\tvalid_0's binary_logloss: 0.419741\n"
     ]
    },
    {
     "data": {
      "text/html": [
       "<style>#sk-container-id-1 {color: black;background-color: white;}#sk-container-id-1 pre{padding: 0;}#sk-container-id-1 div.sk-toggleable {background-color: white;}#sk-container-id-1 label.sk-toggleable__label {cursor: pointer;display: block;width: 100%;margin-bottom: 0;padding: 0.3em;box-sizing: border-box;text-align: center;}#sk-container-id-1 label.sk-toggleable__label-arrow:before {content: \"▸\";float: left;margin-right: 0.25em;color: #696969;}#sk-container-id-1 label.sk-toggleable__label-arrow:hover:before {color: black;}#sk-container-id-1 div.sk-estimator:hover label.sk-toggleable__label-arrow:before {color: black;}#sk-container-id-1 div.sk-toggleable__content {max-height: 0;max-width: 0;overflow: hidden;text-align: left;background-color: #f0f8ff;}#sk-container-id-1 div.sk-toggleable__content pre {margin: 0.2em;color: black;border-radius: 0.25em;background-color: #f0f8ff;}#sk-container-id-1 input.sk-toggleable__control:checked~div.sk-toggleable__content {max-height: 200px;max-width: 100%;overflow: auto;}#sk-container-id-1 input.sk-toggleable__control:checked~label.sk-toggleable__label-arrow:before {content: \"▾\";}#sk-container-id-1 div.sk-estimator input.sk-toggleable__control:checked~label.sk-toggleable__label {background-color: #d4ebff;}#sk-container-id-1 div.sk-label input.sk-toggleable__control:checked~label.sk-toggleable__label {background-color: #d4ebff;}#sk-container-id-1 input.sk-hidden--visually {border: 0;clip: rect(1px 1px 1px 1px);clip: rect(1px, 1px, 1px, 1px);height: 1px;margin: -1px;overflow: hidden;padding: 0;position: absolute;width: 1px;}#sk-container-id-1 div.sk-estimator {font-family: monospace;background-color: #f0f8ff;border: 1px dotted black;border-radius: 0.25em;box-sizing: border-box;margin-bottom: 0.5em;}#sk-container-id-1 div.sk-estimator:hover {background-color: #d4ebff;}#sk-container-id-1 div.sk-parallel-item::after {content: \"\";width: 100%;border-bottom: 1px solid gray;flex-grow: 1;}#sk-container-id-1 div.sk-label:hover label.sk-toggleable__label {background-color: #d4ebff;}#sk-container-id-1 div.sk-serial::before {content: \"\";position: absolute;border-left: 1px solid gray;box-sizing: border-box;top: 0;bottom: 0;left: 50%;z-index: 0;}#sk-container-id-1 div.sk-serial {display: flex;flex-direction: column;align-items: center;background-color: white;padding-right: 0.2em;padding-left: 0.2em;position: relative;}#sk-container-id-1 div.sk-item {position: relative;z-index: 1;}#sk-container-id-1 div.sk-parallel {display: flex;align-items: stretch;justify-content: center;background-color: white;position: relative;}#sk-container-id-1 div.sk-item::before, #sk-container-id-1 div.sk-parallel-item::before {content: \"\";position: absolute;border-left: 1px solid gray;box-sizing: border-box;top: 0;bottom: 0;left: 50%;z-index: -1;}#sk-container-id-1 div.sk-parallel-item {display: flex;flex-direction: column;z-index: 1;position: relative;background-color: white;}#sk-container-id-1 div.sk-parallel-item:first-child::after {align-self: flex-end;width: 50%;}#sk-container-id-1 div.sk-parallel-item:last-child::after {align-self: flex-start;width: 50%;}#sk-container-id-1 div.sk-parallel-item:only-child::after {width: 0;}#sk-container-id-1 div.sk-dashed-wrapped {border: 1px dashed gray;margin: 0 0.4em 0.5em 0.4em;box-sizing: border-box;padding-bottom: 0.4em;background-color: white;}#sk-container-id-1 div.sk-label label {font-family: monospace;font-weight: bold;display: inline-block;line-height: 1.2em;}#sk-container-id-1 div.sk-label-container {text-align: center;}#sk-container-id-1 div.sk-container {/* jupyter's `normalize.less` sets `[hidden] { display: none; }` but bootstrap.min.css set `[hidden] { display: none !important; }` so we also need the `!important` here to be able to override the default hidden behavior on the sphinx rendered scikit-learn.org. See: https://github.com/scikit-learn/scikit-learn/issues/21755 */display: inline-block !important;position: relative;}#sk-container-id-1 div.sk-text-repr-fallback {display: none;}</style><div id=\"sk-container-id-1\" class=\"sk-top-container\"><div class=\"sk-text-repr-fallback\"><pre>LGBMClassifier(n_estimators=150)</pre><b>In a Jupyter environment, please rerun this cell to show the HTML representation or trust the notebook. <br />On GitHub, the HTML representation is unable to render, please try loading this page with nbviewer.org.</b></div><div class=\"sk-container\" hidden><div class=\"sk-item\"><div class=\"sk-estimator sk-toggleable\"><input class=\"sk-toggleable__control sk-hidden--visually\" id=\"sk-estimator-id-1\" type=\"checkbox\" checked><label for=\"sk-estimator-id-1\" class=\"sk-toggleable__label sk-toggleable__label-arrow\">LGBMClassifier</label><div class=\"sk-toggleable__content\"><pre>LGBMClassifier(n_estimators=150)</pre></div></div></div></div></div>"
      ],
      "text/plain": [
       "LGBMClassifier(n_estimators=150)"
      ]
     },
     "execution_count": 7,
     "metadata": {},
     "output_type": "execute_result"
    }
   ],
   "source": [
    "# Define the pipeline\n",
    "from lightgbm import LGBMClassifier\n",
    "\n",
    "lgbm = LGBMClassifier(n_estimators = 150)\n",
    "\n",
    "evals = [(X_val,y_val)]\n",
    "lgbm.fit(X_train,y_train, early_stopping_rounds = 100, eval_set = evals,eval_metric = 'logloss',verbose = True)\n",
    "# pipeline = Pipeline([\n",
    "#     ('clf', RandomForestClassifier())\n",
    "# ])"
   ]
  },
  {
   "cell_type": "code",
   "execution_count": null,
   "metadata": {
    "id": "d94zmqtTu_su"
   },
   "outputs": [],
   "source": [
    "preds_proba = lgbm.predict_proba(X_val)"
   ]
  },
  {
   "cell_type": "code",
   "execution_count": null,
   "metadata": {
    "colab": {
     "base_uri": "https://localhost:8080/"
    },
    "executionInfo": {
     "elapsed": 1,
     "status": "ok",
     "timestamp": 1678858227500,
     "user": {
      "displayName": "조민정",
      "userId": "09786996135651143212"
     },
     "user_tz": -540
    },
    "id": "GgF3JwkRv1F7",
    "outputId": "2f8d1410-c8ee-4300-c9ac-d11f443e858b"
   },
   "outputs": [
    {
     "data": {
      "text/plain": [
       "array([0.30738465, 0.14072509, 0.21546285, ..., 0.13183326, 0.19943453,\n",
       "       0.18453668])"
      ]
     },
     "execution_count": 9,
     "metadata": {},
     "output_type": "execute_result"
    }
   ],
   "source": [
    "preds_proba[:,1]"
   ]
  },
  {
   "cell_type": "code",
   "execution_count": null,
   "metadata": {
    "colab": {
     "base_uri": "https://localhost:8080/",
     "height": 296
    },
    "executionInfo": {
     "elapsed": 1127,
     "status": "ok",
     "timestamp": 1678858299102,
     "user": {
      "displayName": "조민정",
      "userId": "09786996135651143212"
     },
     "user_tz": -540
    },
    "id": "_EXI_0lhv4q6",
    "outputId": "44fa14d8-1152-4d28-cd3e-7bba36631c94"
   },
   "outputs": [
    {
     "data": {
      "image/png": "[encoded data removed]",
      "text/plain": [
       "<Figure size 432x288 with 1 Axes>"
      ]
     },
     "metadata": {
      "needs_background": "light"
     },
     "output_type": "display_data"
    }
   ],
   "source": [
    "# Predict probabilities for new data\n",
    " # 확률로 추정된 X_val의 y_pred\n",
    "\n",
    "plt.hist(preds_proba[:,1], bins=100)\n",
    "\n",
    "plt.xlabel('y_val_pred_proba')\n",
    "plt.ylabel('Frequency')\n",
    "plt.title('Frequency of y_val_pred_proba of lightGBM')\n",
    "\n",
    "#plt.savefig(\"%s_val_pre_proba_%s.png\"%(model_name, datetime.datetime.now().strftime(\"%m%d%H%M%S\")), dpi=300, bbox_inches='tight')\n",
    "\n",
    "plt.show() # y_val_pred_proba의 분포 확인"
   ]
  },
  {
   "cell_type": "markdown",
   "metadata": {
    "id": "dEaczm90wOuq"
   },
   "source": [
    "### optimal threshold 선정 (threshold에 따른 목적함수 값 비교)\n",
    "\n",
    "실제 positive = TP + FN\n",
    "\n",
    "실제 Negative = TN + FP\n",
    "\n",
    "정밀도: positive로 예측한 것 중에 진짜 positive인 것 -> 양성 예측도\n",
    "\n",
    "재현율: 실제 positive 중에 맞춘 것 -> 민감도"
   ]
  },
  {
   "cell_type": "code",
   "execution_count": null,
   "metadata": {
    "id": "I3_81CRLwB_Q"
   },
   "outputs": [],
   "source": [
    "threshold_list = np.linspace(0.1,0.18,10) # 짝수개 값 (예시 10개)"
   ]
  },
  {
   "cell_type": "code",
   "execution_count": null,
   "metadata": {
    "id": "nUmqh3qNwR6K"
   },
   "outputs": [],
   "source": [
    "def threshold_func(y_val, y_pred_proba, threshold_list):\n",
    "    \n",
    "    n = len(threshold_list)\n",
    "    \n",
    "    result_df = pd.DataFrame(index=['1_real','1_pred','0_real','0_pred','tn', 'fp', 'fn', 'tp', 'tn_%', 'fp_%', 'fn_%', 'tp_%', 'Accuracy', 'Precision', 'Recall', 'F1 score'])\n",
    "    \n",
    "    fig, axes = plt.subplots(nrows=int(n/2), ncols=2, figsize=(10, 10))\n",
    "    \n",
    "    for i in range(len(threshold_list)):\n",
    "        \n",
    "        threshold = threshold_list[i]\n",
    "        \n",
    "        # make Binarizer(y hat)\n",
    "        binarizer = Binarizer(threshold = threshold).fit(y_pred_proba[:,1].reshape(-1,1))\n",
    "        custom_predict = binarizer.transform(y_pred_proba[:,1].reshape(-1,1))\n",
    "        \n",
    "        # count 0, 1 in Binarizer(y hat)\n",
    "        unique, counts = np.unique(custom_predict, return_counts=True)\n",
    "\n",
    "        for val, count in zip(unique, counts):\n",
    "            if len(unique) == 1:\n",
    "                if val == 1.0:\n",
    "                    num_0_pred = 0\n",
    "                    num_1_pred = count\n",
    "                elif val == 0.0:\n",
    "                    num_1_pred = 0\n",
    "                    num_0_pred = count\n",
    "            if val == 1.0:\n",
    "                num_1_pred = count\n",
    "            elif val == 0.0:\n",
    "                num_0_pred = count\n",
    "\n",
    "        # count 0, 1 in y hat\n",
    "        num_0_real = y_val.value_counts()[0]\n",
    "        num_1_real = y_val.value_counts()[1]\n",
    "        \n",
    "        tn, fp, fn, tp = confusion_matrix(y_val, custom_predict).ravel()\n",
    "        count = [tn, fp, fn, tp]\n",
    "        tn_, fp_, fn_, tp_ = [round(x/sum(count)*100, 1) for x in count]\n",
    "        \n",
    "        accuracy = round((tp+tn)/(tp+tn+fp+fn),4)\n",
    "        precision = round(tp/(tp+fp),4)\n",
    "        recall = round(tp/(tp+fn),4)\n",
    "        f1 = round(2*(precision*recall)/(precision+recall),4)\n",
    "        \n",
    "        threshold_tag = round(threshold_list[i], 4)\n",
    "        \n",
    "        result_df[threshold_tag] = [num_1_real, num_1_pred, num_0_real, num_0_pred, tn, fp, fn, tp, tn_, fp_, fn_, tp_, accuracy, precision, recall, f1]\n",
    "        \n",
    "        labels = ['TN','FP','FN','TP']\n",
    "        \n",
    "        # tn, fp, fn, tp 각각의 값을 counts 리스트에 저장\n",
    "        counts = [tn, fp, fn, tp]\n",
    "\n",
    "        # 해당하는 subplot에 그래프 그리기\n",
    "        axes[i//2, i%2].bar(labels, counts)\n",
    "        axes[i//2, i%2].set_title(threshold_tag)\n",
    "        axes[i//2, i%2].set_ylabel('Count')\n",
    "\n",
    "    # 그래프 간격 조절하기\n",
    "    plt.tight_layout()\n",
    "    \n",
    "    #plt.savefig(\"%s_threshold_%s.png\"%(model_name, datetime.datetime.now().strftime(\"%m%d%H%M%S\")), dpi=300, bbox_inches='tight')\n",
    "\n",
    "    # 그래프 출력하기\n",
    "    plt.show()\n",
    "    \n",
    "    #result_df.to_csv('%s_threshold_%s.csv'%(model_name, datetime.datetime.now().strftime(\"%m%d%H%M%S\")), index=True)\n",
    "    \n",
    "    return result_df"
   ]
  },
  {
   "cell_type": "code",
   "execution_count": null,
   "metadata": {
    "colab": {
     "base_uri": "https://localhost:8080/",
     "height": 1000
    },
    "executionInfo": {
     "elapsed": 3019,
     "status": "ok",
     "timestamp": 1678858521256,
     "user": {
      "displayName": "조민정",
      "userId": "09786996135651143212"
     },
     "user_tz": -540
    },
    "id": "bNZScCsFwVoE",
    "outputId": "e3e49e30-cd41-4475-873e-15d939c482ed"
   },
   "outputs": [
    {
     "data": {
      "image/png": "[encoded data removed]",
      "text/plain": [
       "<Figure size 720x720 with 10 Axes>"
      ]
     },
     "metadata": {
      "needs_background": "light"
     },
     "output_type": "display_data"
    },
    {
     "data": {
      "text/html": [
       "\n",
       "  <div id=\"df-6aa3d401-2e2c-4078-a45d-c5e84a43a0dd\">\n",
       "    <div class=\"colab-df-container\">\n",
       "      <div>\n",
       "<style scoped>\n",
       "    .dataframe tbody tr th:only-of-type {\n",
       "        vertical-align: middle;\n",
       "    }\n",
       "\n",
       "    .dataframe tbody tr th {\n",
       "        vertical-align: top;\n",
       "    }\n",
       "\n",
       "    .dataframe thead th {\n",
       "        text-align: right;\n",
       "    }\n",
       "</style>\n",
       "<table border=\"1\" class=\"dataframe\">\n",
       "  <thead>\n",
       "    <tr style=\"text-align: right;\">\n",
       "      <th></th>\n",
       "      <th>0.1000</th>\n",
       "      <th>0.1089</th>\n",
       "      <th>0.1178</th>\n",
       "      <th>0.1267</th>\n",
       "      <th>0.1356</th>\n",
       "      <th>0.1444</th>\n",
       "      <th>0.1533</th>\n",
       "      <th>0.1622</th>\n",
       "      <th>0.1711</th>\n",
       "      <th>0.1800</th>\n",
       "    </tr>\n",
       "  </thead>\n",
       "  <tbody>\n",
       "    <tr>\n",
       "      <th>1_real</th>\n",
       "      <td>29075.0000</td>\n",
       "      <td>29075.0000</td>\n",
       "      <td>29075.0000</td>\n",
       "      <td>29075.0000</td>\n",
       "      <td>29075.0000</td>\n",
       "      <td>29075.0000</td>\n",
       "      <td>29075.0000</td>\n",
       "      <td>29075.0000</td>\n",
       "      <td>29075.0000</td>\n",
       "      <td>29075.0000</td>\n",
       "    </tr>\n",
       "    <tr>\n",
       "      <th>1_pred</th>\n",
       "      <td>139116.0000</td>\n",
       "      <td>130718.0000</td>\n",
       "      <td>122264.0000</td>\n",
       "      <td>113852.0000</td>\n",
       "      <td>105204.0000</td>\n",
       "      <td>96874.0000</td>\n",
       "      <td>88544.0000</td>\n",
       "      <td>80630.0000</td>\n",
       "      <td>72959.0000</td>\n",
       "      <td>65574.0000</td>\n",
       "    </tr>\n",
       "    <tr>\n",
       "      <th>0_real</th>\n",
       "      <td>150302.0000</td>\n",
       "      <td>150302.0000</td>\n",
       "      <td>150302.0000</td>\n",
       "      <td>150302.0000</td>\n",
       "      <td>150302.0000</td>\n",
       "      <td>150302.0000</td>\n",
       "      <td>150302.0000</td>\n",
       "      <td>150302.0000</td>\n",
       "      <td>150302.0000</td>\n",
       "      <td>150302.0000</td>\n",
       "    </tr>\n",
       "    <tr>\n",
       "      <th>0_pred</th>\n",
       "      <td>40261.0000</td>\n",
       "      <td>48659.0000</td>\n",
       "      <td>57113.0000</td>\n",
       "      <td>65525.0000</td>\n",
       "      <td>74173.0000</td>\n",
       "      <td>82503.0000</td>\n",
       "      <td>90833.0000</td>\n",
       "      <td>98747.0000</td>\n",
       "      <td>106418.0000</td>\n",
       "      <td>113803.0000</td>\n",
       "    </tr>\n",
       "    <tr>\n",
       "      <th>tn</th>\n",
       "      <td>37552.0000</td>\n",
       "      <td>45102.0000</td>\n",
       "      <td>52619.0000</td>\n",
       "      <td>60007.0000</td>\n",
       "      <td>67567.0000</td>\n",
       "      <td>74809.0000</td>\n",
       "      <td>81895.0000</td>\n",
       "      <td>88591.0000</td>\n",
       "      <td>94967.0000</td>\n",
       "      <td>101025.0000</td>\n",
       "    </tr>\n",
       "    <tr>\n",
       "      <th>fp</th>\n",
       "      <td>112750.0000</td>\n",
       "      <td>105200.0000</td>\n",
       "      <td>97683.0000</td>\n",
       "      <td>90295.0000</td>\n",
       "      <td>82735.0000</td>\n",
       "      <td>75493.0000</td>\n",
       "      <td>68407.0000</td>\n",
       "      <td>61711.0000</td>\n",
       "      <td>55335.0000</td>\n",
       "      <td>49277.0000</td>\n",
       "    </tr>\n",
       "    <tr>\n",
       "      <th>fn</th>\n",
       "      <td>2709.0000</td>\n",
       "      <td>3557.0000</td>\n",
       "      <td>4494.0000</td>\n",
       "      <td>5518.0000</td>\n",
       "      <td>6606.0000</td>\n",
       "      <td>7694.0000</td>\n",
       "      <td>8938.0000</td>\n",
       "      <td>10156.0000</td>\n",
       "      <td>11451.0000</td>\n",
       "      <td>12778.0000</td>\n",
       "    </tr>\n",
       "    <tr>\n",
       "      <th>tp</th>\n",
       "      <td>26366.0000</td>\n",
       "      <td>25518.0000</td>\n",
       "      <td>24581.0000</td>\n",
       "      <td>23557.0000</td>\n",
       "      <td>22469.0000</td>\n",
       "      <td>21381.0000</td>\n",
       "      <td>20137.0000</td>\n",
       "      <td>18919.0000</td>\n",
       "      <td>17624.0000</td>\n",
       "      <td>16297.0000</td>\n",
       "    </tr>\n",
       "    <tr>\n",
       "      <th>tn_%</th>\n",
       "      <td>20.9000</td>\n",
       "      <td>25.1000</td>\n",
       "      <td>29.3000</td>\n",
       "      <td>33.5000</td>\n",
       "      <td>37.7000</td>\n",
       "      <td>41.7000</td>\n",
       "      <td>45.7000</td>\n",
       "      <td>49.4000</td>\n",
       "      <td>52.9000</td>\n",
       "      <td>56.3000</td>\n",
       "    </tr>\n",
       "    <tr>\n",
       "      <th>fp_%</th>\n",
       "      <td>62.9000</td>\n",
       "      <td>58.6000</td>\n",
       "      <td>54.5000</td>\n",
       "      <td>50.3000</td>\n",
       "      <td>46.1000</td>\n",
       "      <td>42.1000</td>\n",
       "      <td>38.1000</td>\n",
       "      <td>34.4000</td>\n",
       "      <td>30.8000</td>\n",
       "      <td>27.5000</td>\n",
       "    </tr>\n",
       "    <tr>\n",
       "      <th>fn_%</th>\n",
       "      <td>1.5000</td>\n",
       "      <td>2.0000</td>\n",
       "      <td>2.5000</td>\n",
       "      <td>3.1000</td>\n",
       "      <td>3.7000</td>\n",
       "      <td>4.3000</td>\n",
       "      <td>5.0000</td>\n",
       "      <td>5.7000</td>\n",
       "      <td>6.4000</td>\n",
       "      <td>7.1000</td>\n",
       "    </tr>\n",
       "    <tr>\n",
       "      <th>tp_%</th>\n",
       "      <td>14.7000</td>\n",
       "      <td>14.2000</td>\n",
       "      <td>13.7000</td>\n",
       "      <td>13.1000</td>\n",
       "      <td>12.5000</td>\n",
       "      <td>11.9000</td>\n",
       "      <td>11.2000</td>\n",
       "      <td>10.5000</td>\n",
       "      <td>9.8000</td>\n",
       "      <td>9.1000</td>\n",
       "    </tr>\n",
       "    <tr>\n",
       "      <th>Accuracy</th>\n",
       "      <td>0.3563</td>\n",
       "      <td>0.3937</td>\n",
       "      <td>0.4304</td>\n",
       "      <td>0.4659</td>\n",
       "      <td>0.5019</td>\n",
       "      <td>0.5362</td>\n",
       "      <td>0.5688</td>\n",
       "      <td>0.5994</td>\n",
       "      <td>0.6277</td>\n",
       "      <td>0.6541</td>\n",
       "    </tr>\n",
       "    <tr>\n",
       "      <th>Precision</th>\n",
       "      <td>0.1895</td>\n",
       "      <td>0.1952</td>\n",
       "      <td>0.2010</td>\n",
       "      <td>0.2069</td>\n",
       "      <td>0.2136</td>\n",
       "      <td>0.2207</td>\n",
       "      <td>0.2274</td>\n",
       "      <td>0.2346</td>\n",
       "      <td>0.2416</td>\n",
       "      <td>0.2485</td>\n",
       "    </tr>\n",
       "    <tr>\n",
       "      <th>Recall</th>\n",
       "      <td>0.9068</td>\n",
       "      <td>0.8777</td>\n",
       "      <td>0.8454</td>\n",
       "      <td>0.8102</td>\n",
       "      <td>0.7728</td>\n",
       "      <td>0.7354</td>\n",
       "      <td>0.6926</td>\n",
       "      <td>0.6507</td>\n",
       "      <td>0.6062</td>\n",
       "      <td>0.5605</td>\n",
       "    </tr>\n",
       "    <tr>\n",
       "      <th>F1 score</th>\n",
       "      <td>0.3135</td>\n",
       "      <td>0.3194</td>\n",
       "      <td>0.3248</td>\n",
       "      <td>0.3296</td>\n",
       "      <td>0.3347</td>\n",
       "      <td>0.3395</td>\n",
       "      <td>0.3424</td>\n",
       "      <td>0.3449</td>\n",
       "      <td>0.3455</td>\n",
       "      <td>0.3443</td>\n",
       "    </tr>\n",
       "  </tbody>\n",
       "</table>\n",
       "</div>\n",
       "      <button class=\"colab-df-convert\" onclick=\"convertToInteractive('df-6aa3d401-2e2c-4078-a45d-c5e84a43a0dd')\"\n",
       "              title=\"Convert this dataframe to an interactive table.\"\n",
       "              style=\"display:none;\">\n",
       "        \n",
       "  <svg xmlns=\"http://www.w3.org/2000/svg\" height=\"24px\"viewBox=\"0 0 24 24\"\n",
       "       width=\"24px\">\n",
       "    <path d=\"M0 0h24v24H0V0z\" fill=\"none\"/>\n",
       "    <path d=\"M18.56 5.44l.94 2.06.94-2.06 2.06-.94-2.06-.94-.94-2.06-.94 2.06-2.06.94zm-11 1L8.5 8.5l.94-2.06 2.06-.94-2.06-.94L8.5 2.5l-.94 2.06-2.06.94zm10 10l.94 2.06.94-2.06 2.06-.94-2.06-.94-.94-2.06-.94 2.06-2.06.94z\"/><path d=\"M17.41 7.96l-1.37-1.37c-.4-.4-.92-.59-1.43-.59-.52 0-1.04.2-1.43.59L10.3 9.45l-7.72 7.72c-.78.78-.78 2.05 0 2.83L4 21.41c.39.39.9.59 1.41.59.51 0 1.02-.2 1.41-.59l7.78-7.78 2.81-2.81c.8-.78.8-2.07 0-2.86zM5.41 20L4 18.59l7.72-7.72 1.47 1.35L5.41 20z\"/>\n",
       "  </svg>\n",
       "      </button>\n",
       "      \n",
       "  <style>\n",
       "    .colab-df-container {\n",
       "      display:flex;\n",
       "      flex-wrap:wrap;\n",
       "      gap: 12px;\n",
       "    }\n",
       "\n",
       "    .colab-df-convert {\n",
       "      background-color: #E8F0FE;\n",
       "      border: none;\n",
       "      border-radius: 50%;\n",
       "      cursor: pointer;\n",
       "      display: none;\n",
       "      fill: #1967D2;\n",
       "      height: 32px;\n",
       "      padding: 0 0 0 0;\n",
       "      width: 32px;\n",
       "    }\n",
       "\n",
       "    .colab-df-convert:hover {\n",
       "      background-color: #E2EBFA;\n",
       "      box-shadow: 0px 1px 2px rgba(60, 64, 67, 0.3), 0px 1px 3px 1px rgba(60, 64, 67, 0.15);\n",
       "      fill: #174EA6;\n",
       "    }\n",
       "\n",
       "    [theme=dark] .colab-df-convert {\n",
       "      background-color: #3B4455;\n",
       "      fill: #D2E3FC;\n",
       "    }\n",
       "\n",
       "    [theme=dark] .colab-df-convert:hover {\n",
       "      background-color: #434B5C;\n",
       "      box-shadow: 0px 1px 3px 1px rgba(0, 0, 0, 0.15);\n",
       "      filter: drop-shadow(0px 1px 2px rgba(0, 0, 0, 0.3));\n",
       "      fill: #FFFFFF;\n",
       "    }\n",
       "  </style>\n",
       "\n",
       "      <script>\n",
       "        const buttonEl =\n",
       "          document.querySelector('#df-6aa3d401-2e2c-4078-a45d-c5e84a43a0dd button.colab-df-convert');\n",
       "        buttonEl.style.display =\n",
       "          google.colab.kernel.accessAllowed ? 'block' : 'none';\n",
       "\n",
       "        async function convertToInteractive(key) {\n",
       "          const element = document.querySelector('#df-6aa3d401-2e2c-4078-a45d-c5e84a43a0dd');\n",
       "          const dataTable =\n",
       "            await google.colab.kernel.invokeFunction('convertToInteractive',\n",
       "                                                     [key], {});\n",
       "          if (!dataTable) return;\n",
       "\n",
       "          const docLinkHtml = 'Like what you see? Visit the ' +\n",
       "            '<a target=\"_blank\" href=https://colab.research.google.com/notebooks/data_table.ipynb>data table notebook</a>'\n",
       "            + ' to learn more about interactive tables.';\n",
       "          element.innerHTML = '';\n",
       "          dataTable['output_type'] = 'display_data';\n",
       "          await google.colab.output.renderOutput(dataTable, element);\n",
       "          const docLink = document.createElement('div');\n",
       "          docLink.innerHTML = docLinkHtml;\n",
       "          element.appendChild(docLink);\n",
       "        }\n",
       "      </script>\n",
       "    </div>\n",
       "  </div>\n",
       "  "
      ],
      "text/plain": [
       "                0.1000       0.1089       0.1178       0.1267       0.1356  \\\n",
       "1_real      29075.0000   29075.0000   29075.0000   29075.0000   29075.0000   \n",
       "1_pred     139116.0000  130718.0000  122264.0000  113852.0000  105204.0000   \n",
       "0_real     150302.0000  150302.0000  150302.0000  150302.0000  150302.0000   \n",
       "0_pred      40261.0000   48659.0000   57113.0000   65525.0000   74173.0000   \n",
       "tn          37552.0000   45102.0000   52619.0000   60007.0000   67567.0000   \n",
       "fp         112750.0000  105200.0000   97683.0000   90295.0000   82735.0000   \n",
       "fn           2709.0000    3557.0000    4494.0000    5518.0000    6606.0000   \n",
       "tp          26366.0000   25518.0000   24581.0000   23557.0000   22469.0000   \n",
       "tn_%           20.9000      25.1000      29.3000      33.5000      37.7000   \n",
       "fp_%           62.9000      58.6000      54.5000      50.3000      46.1000   \n",
       "fn_%            1.5000       2.0000       2.5000       3.1000       3.7000   \n",
       "tp_%           14.7000      14.2000      13.7000      13.1000      12.5000   \n",
       "Accuracy        0.3563       0.3937       0.4304       0.4659       0.5019   \n",
       "Precision       0.1895       0.1952       0.2010       0.2069       0.2136   \n",
       "Recall          0.9068       0.8777       0.8454       0.8102       0.7728   \n",
       "F1 score        0.3135       0.3194       0.3248       0.3296       0.3347   \n",
       "\n",
       "                0.1444       0.1533       0.1622       0.1711       0.1800  \n",
       "1_real      29075.0000   29075.0000   29075.0000   29075.0000   29075.0000  \n",
       "1_pred      96874.0000   88544.0000   80630.0000   72959.0000   65574.0000  \n",
       "0_real     150302.0000  150302.0000  150302.0000  150302.0000  150302.0000  \n",
       "0_pred      82503.0000   90833.0000   98747.0000  106418.0000  113803.0000  \n",
       "tn          74809.0000   81895.0000   88591.0000   94967.0000  101025.0000  \n",
       "fp          75493.0000   68407.0000   61711.0000   55335.0000   49277.0000  \n",
       "fn           7694.0000    8938.0000   10156.0000   11451.0000   12778.0000  \n",
       "tp          21381.0000   20137.0000   18919.0000   17624.0000   16297.0000  \n",
       "tn_%           41.7000      45.7000      49.4000      52.9000      56.3000  \n",
       "fp_%           42.1000      38.1000      34.4000      30.8000      27.5000  \n",
       "fn_%            4.3000       5.0000       5.7000       6.4000       7.1000  \n",
       "tp_%           11.9000      11.2000      10.5000       9.8000       9.1000  \n",
       "Accuracy        0.5362       0.5688       0.5994       0.6277       0.6541  \n",
       "Precision       0.2207       0.2274       0.2346       0.2416       0.2485  \n",
       "Recall          0.7354       0.6926       0.6507       0.6062       0.5605  \n",
       "F1 score        0.3395       0.3424       0.3449       0.3455       0.3443  "
      ]
     },
     "execution_count": 26,
     "metadata": {},
     "output_type": "execute_result"
    }
   ],
   "source": [
    "threshold_func(y_val, preds_proba, threshold_list)"
   ]
  },
  {
   "cell_type": "markdown",
   "metadata": {
    "id": "YHxMdkWNwsXi"
   },
   "source": [
    "### Threshold에 따른 목적함수 값 비교"
   ]
  },
  {
   "cell_type": "code",
   "execution_count": null,
   "metadata": {
    "id": "0MHac_lhwb09"
   },
   "outputs": [],
   "source": [
    "OPT_threshold = None\n",
    "OPT_expected_loss = None\n",
    "model_name = 'LightGBM'\n",
    "def objective_func(y_pred_proba, threshold_list):\n",
    "    \n",
    "        result_df = pd.DataFrame(index=['1-TPR','FPR','w1_1-TPR','w2_FPR','Expected_loss'])\n",
    "        \n",
    "        expected_loss_list = []\n",
    "        \n",
    "        for i in range(len(threshold_list)):\n",
    "            \n",
    "            threshold = threshold_list[i]\n",
    "            \n",
    "            # make Binarizer(y hat)\n",
    "            binarizer = Binarizer(threshold = threshold).fit(y_pred_proba[:,1].reshape(-1,1))\n",
    "            custom_predict = binarizer.transform(y_pred_proba[:,1].reshape(-1,1))\n",
    "\n",
    "            tn, fp, fn, tp = confusion_matrix(y_val, custom_predict).ravel()\n",
    "            count = [tn, fp, fn, tp]\n",
    "            \n",
    "            tpr_1 = fn / (fn + tp)\n",
    "            fpr = fp / (fp + tn)\n",
    "            w1 = 0.55\n",
    "            w2 = 0.45\n",
    "            \n",
    "            expected_loss = w1 * tpr_1 + w2 * fpr\n",
    "            \n",
    "            expected_loss_list.append(expected_loss)\n",
    "            \n",
    "            threshold_tag = round(threshold_list[i], 4)\n",
    "        \n",
    "            result_df[threshold_tag] = [tpr_1, fpr, w1*tpr_1, w2*fpr, expected_loss]\n",
    "            \n",
    "            if i == 0:\n",
    "                opt_threshold = threshold\n",
    "                opt_expected_loss = expected_loss\n",
    "            else:\n",
    "                if opt_expected_loss > expected_loss:\n",
    "                    opt_threshold = threshold\n",
    "                    opt_expected_loss = expected_loss\n",
    "                    \n",
    "#         expected_loss_list = [round(x, 1) for x in expected_loss_list]\n",
    "\n",
    "        print(opt_threshold)\n",
    "        print(opt_expected_loss)\n",
    "        \n",
    "        plt.plot(threshold_list, expected_loss_list)\n",
    "        plt.scatter(threshold_list, expected_loss_list)\n",
    "        \n",
    "        plt.xlabel('Threshold')\n",
    "        plt.ylabel('Expected_Loss')\n",
    "        plt.title('Expected Loss of Thresholds of %s'%(model_name))\n",
    "\n",
    "        #plt.savefig(\"%s_expected_loss_%s.png\"%(model_name, datetime.datetime.now().strftime(\"%m%d%H%M%S\")), dpi=300, bbox_inches='tight')\n",
    "        \n",
    "        plt.show()\n",
    "        \n",
    "        global OPT_threshold\n",
    "        OPT_threshold = opt_threshold\n",
    "        global OPT_expected_loss\n",
    "        OPT_expected_loss = opt_expected_loss\n",
    "        \n",
    "        #result_df.to_csv('%s_expected_loss_%s.csv'%(model_name, datetime.datetime.now().strftime(\"%m%d%H%M%S\")), float_format='%.3f', index=True)\n",
    "        \n",
    "        return result_df"
   ]
  },
  {
   "cell_type": "code",
   "execution_count": null,
   "metadata": {
    "colab": {
     "base_uri": "https://localhost:8080/",
     "height": 564
    },
    "executionInfo": {
     "elapsed": 1401,
     "status": "ok",
     "timestamp": 1678858523327,
     "user": {
      "displayName": "조민정",
      "userId": "09786996135651143212"
     },
     "user_tz": -540
    },
    "id": "Cq-1bA--wp0A",
    "outputId": "0b7b625e-8608-4730-cf1b-312c8ebefdec"
   },
   "outputs": [
    {
     "name": "stdout",
     "output_type": "stream",
     "text": [
      "0.14444444444444443\n",
      "0.3715682204997808\n"
     ]
    },
    {
     "data": {
      "image/png": "[encoded data removed]",
      "text/plain": [
       "<Figure size 432x288 with 1 Axes>"
      ]
     },
     "metadata": {
      "needs_background": "light"
     },
     "output_type": "display_data"
    },
    {
     "data": {
      "text/html": [
       "\n",
       "  <div id=\"df-1ce87d04-dcea-4f32-b189-aa845548f8e2\">\n",
       "    <div class=\"colab-df-container\">\n",
       "      <div>\n",
       "<style scoped>\n",
       "    .dataframe tbody tr th:only-of-type {\n",
       "        vertical-align: middle;\n",
       "    }\n",
       "\n",
       "    .dataframe tbody tr th {\n",
       "        vertical-align: top;\n",
       "    }\n",
       "\n",
       "    .dataframe thead th {\n",
       "        text-align: right;\n",
       "    }\n",
       "</style>\n",
       "<table border=\"1\" class=\"dataframe\">\n",
       "  <thead>\n",
       "    <tr style=\"text-align: right;\">\n",
       "      <th></th>\n",
       "      <th>0.1000</th>\n",
       "      <th>0.1089</th>\n",
       "      <th>0.1178</th>\n",
       "      <th>0.1267</th>\n",
       "      <th>0.1356</th>\n",
       "      <th>0.1444</th>\n",
       "      <th>0.1533</th>\n",
       "      <th>0.1622</th>\n",
       "      <th>0.1711</th>\n",
       "      <th>0.1800</th>\n",
       "    </tr>\n",
       "  </thead>\n",
       "  <tbody>\n",
       "    <tr>\n",
       "      <th>1-TPR</th>\n",
       "      <td>0.093173</td>\n",
       "      <td>0.122339</td>\n",
       "      <td>0.154566</td>\n",
       "      <td>0.189785</td>\n",
       "      <td>0.227206</td>\n",
       "      <td>0.264626</td>\n",
       "      <td>0.307412</td>\n",
       "      <td>0.349304</td>\n",
       "      <td>0.393844</td>\n",
       "      <td>0.439484</td>\n",
       "    </tr>\n",
       "    <tr>\n",
       "      <th>FPR</th>\n",
       "      <td>0.750156</td>\n",
       "      <td>0.699924</td>\n",
       "      <td>0.649912</td>\n",
       "      <td>0.600757</td>\n",
       "      <td>0.550458</td>\n",
       "      <td>0.502275</td>\n",
       "      <td>0.455130</td>\n",
       "      <td>0.410580</td>\n",
       "      <td>0.368159</td>\n",
       "      <td>0.327853</td>\n",
       "    </tr>\n",
       "    <tr>\n",
       "      <th>w1_1-TPR</th>\n",
       "      <td>0.051245</td>\n",
       "      <td>0.067286</td>\n",
       "      <td>0.085011</td>\n",
       "      <td>0.104382</td>\n",
       "      <td>0.124963</td>\n",
       "      <td>0.145544</td>\n",
       "      <td>0.169077</td>\n",
       "      <td>0.192117</td>\n",
       "      <td>0.216614</td>\n",
       "      <td>0.241716</td>\n",
       "    </tr>\n",
       "    <tr>\n",
       "      <th>w2_FPR</th>\n",
       "      <td>0.337570</td>\n",
       "      <td>0.314966</td>\n",
       "      <td>0.292460</td>\n",
       "      <td>0.270341</td>\n",
       "      <td>0.247706</td>\n",
       "      <td>0.226024</td>\n",
       "      <td>0.204809</td>\n",
       "      <td>0.184761</td>\n",
       "      <td>0.165671</td>\n",
       "      <td>0.147534</td>\n",
       "    </tr>\n",
       "    <tr>\n",
       "      <th>Expected_loss</th>\n",
       "      <td>0.388815</td>\n",
       "      <td>0.382252</td>\n",
       "      <td>0.377471</td>\n",
       "      <td>0.374722</td>\n",
       "      <td>0.372669</td>\n",
       "      <td>0.371568</td>\n",
       "      <td>0.373885</td>\n",
       "      <td>0.376878</td>\n",
       "      <td>0.382285</td>\n",
       "      <td>0.389250</td>\n",
       "    </tr>\n",
       "  </tbody>\n",
       "</table>\n",
       "</div>\n",
       "      <button class=\"colab-df-convert\" onclick=\"convertToInteractive('df-1ce87d04-dcea-4f32-b189-aa845548f8e2')\"\n",
       "              title=\"Convert this dataframe to an interactive table.\"\n",
       "              style=\"display:none;\">\n",
       "        \n",
       "  <svg xmlns=\"http://www.w3.org/2000/svg\" height=\"24px\"viewBox=\"0 0 24 24\"\n",
       "       width=\"24px\">\n",
       "    <path d=\"M0 0h24v24H0V0z\" fill=\"none\"/>\n",
       "    <path d=\"M18.56 5.44l.94 2.06.94-2.06 2.06-.94-2.06-.94-.94-2.06-.94 2.06-2.06.94zm-11 1L8.5 8.5l.94-2.06 2.06-.94-2.06-.94L8.5 2.5l-.94 2.06-2.06.94zm10 10l.94 2.06.94-2.06 2.06-.94-2.06-.94-.94-2.06-.94 2.06-2.06.94z\"/><path d=\"M17.41 7.96l-1.37-1.37c-.4-.4-.92-.59-1.43-.59-.52 0-1.04.2-1.43.59L10.3 9.45l-7.72 7.72c-.78.78-.78 2.05 0 2.83L4 21.41c.39.39.9.59 1.41.59.51 0 1.02-.2 1.41-.59l7.78-7.78 2.81-2.81c.8-.78.8-2.07 0-2.86zM5.41 20L4 18.59l7.72-7.72 1.47 1.35L5.41 20z\"/>\n",
       "  </svg>\n",
       "      </button>\n",
       "      \n",
       "  <style>\n",
       "    .colab-df-container {\n",
       "      display:flex;\n",
       "      flex-wrap:wrap;\n",
       "      gap: 12px;\n",
       "    }\n",
       "\n",
       "    .colab-df-convert {\n",
       "      background-color: #E8F0FE;\n",
       "      border: none;\n",
       "      border-radius: 50%;\n",
       "      cursor: pointer;\n",
       "      display: none;\n",
       "      fill: #1967D2;\n",
       "      height: 32px;\n",
       "      padding: 0 0 0 0;\n",
       "      width: 32px;\n",
       "    }\n",
       "\n",
       "    .colab-df-convert:hover {\n",
       "      background-color: #E2EBFA;\n",
       "      box-shadow: 0px 1px 2px rgba(60, 64, 67, 0.3), 0px 1px 3px 1px rgba(60, 64, 67, 0.15);\n",
       "      fill: #174EA6;\n",
       "    }\n",
       "\n",
       "    [theme=dark] .colab-df-convert {\n",
       "      background-color: #3B4455;\n",
       "      fill: #D2E3FC;\n",
       "    }\n",
       "\n",
       "    [theme=dark] .colab-df-convert:hover {\n",
       "      background-color: #434B5C;\n",
       "      box-shadow: 0px 1px 3px 1px rgba(0, 0, 0, 0.15);\n",
       "      filter: drop-shadow(0px 1px 2px rgba(0, 0, 0, 0.3));\n",
       "      fill: #FFFFFF;\n",
       "    }\n",
       "  </style>\n",
       "\n",
       "      <script>\n",
       "        const buttonEl =\n",
       "          document.querySelector('#df-1ce87d04-dcea-4f32-b189-aa845548f8e2 button.colab-df-convert');\n",
       "        buttonEl.style.display =\n",
       "          google.colab.kernel.accessAllowed ? 'block' : 'none';\n",
       "\n",
       "        async function convertToInteractive(key) {\n",
       "          const element = document.querySelector('#df-1ce87d04-dcea-4f32-b189-aa845548f8e2');\n",
       "          const dataTable =\n",
       "            await google.colab.kernel.invokeFunction('convertToInteractive',\n",
       "                                                     [key], {});\n",
       "          if (!dataTable) return;\n",
       "\n",
       "          const docLinkHtml = 'Like what you see? Visit the ' +\n",
       "            '<a target=\"_blank\" href=https://colab.research.google.com/notebooks/data_table.ipynb>data table notebook</a>'\n",
       "            + ' to learn more about interactive tables.';\n",
       "          element.innerHTML = '';\n",
       "          dataTable['output_type'] = 'display_data';\n",
       "          await google.colab.output.renderOutput(dataTable, element);\n",
       "          const docLink = document.createElement('div');\n",
       "          docLink.innerHTML = docLinkHtml;\n",
       "          element.appendChild(docLink);\n",
       "        }\n",
       "      </script>\n",
       "    </div>\n",
       "  </div>\n",
       "  "
      ],
      "text/plain": [
       "                 0.1000    0.1089    0.1178    0.1267    0.1356    0.1444  \\\n",
       "1-TPR          0.093173  0.122339  0.154566  0.189785  0.227206  0.264626   \n",
       "FPR            0.750156  0.699924  0.649912  0.600757  0.550458  0.502275   \n",
       "w1_1-TPR       0.051245  0.067286  0.085011  0.104382  0.124963  0.145544   \n",
       "w2_FPR         0.337570  0.314966  0.292460  0.270341  0.247706  0.226024   \n",
       "Expected_loss  0.388815  0.382252  0.377471  0.374722  0.372669  0.371568   \n",
       "\n",
       "                 0.1533    0.1622    0.1711    0.1800  \n",
       "1-TPR          0.307412  0.349304  0.393844  0.439484  \n",
       "FPR            0.455130  0.410580  0.368159  0.327853  \n",
       "w1_1-TPR       0.169077  0.192117  0.216614  0.241716  \n",
       "w2_FPR         0.204809  0.184761  0.165671  0.147534  \n",
       "Expected_loss  0.373885  0.376878  0.382285  0.389250  "
      ]
     },
     "execution_count": 28,
     "metadata": {},
     "output_type": "execute_result"
    }
   ],
   "source": [
    "objective_func(preds_proba, threshold_list)\n"
   ]
  },
  {
   "cell_type": "code",
   "execution_count": null,
   "metadata": {
    "colab": {
     "base_uri": "https://localhost:8080/"
    },
    "executionInfo": {
     "elapsed": 3,
     "status": "ok",
     "timestamp": 1678858538509,
     "user": {
      "displayName": "조민정",
      "userId": "09786996135651143212"
     },
     "user_tz": -540
    },
    "id": "dZobOz1bwwHt",
    "outputId": "fec66a20-188c-4d6f-8003-f9dfa2ffe6bb"
   },
   "outputs": [
    {
     "data": {
      "text/plain": [
       "0.14444444444444443"
      ]
     },
     "execution_count": 29,
     "metadata": {},
     "output_type": "execute_result"
    }
   ],
   "source": [
    "OPT_threshold"
   ]
  },
  {
   "cell_type": "markdown",
   "metadata": {
    "id": "L5AOlbLrxHVr"
   },
   "source": [
    "### histogram에 optimal threshold 표시\n"
   ]
  },
  {
   "cell_type": "code",
   "execution_count": null,
   "metadata": {
    "colab": {
     "base_uri": "https://localhost:8080/",
     "height": 296
    },
    "executionInfo": {
     "elapsed": 1272,
     "status": "ok",
     "timestamp": 1678858574909,
     "user": {
      "displayName": "조민정",
      "userId": "09786996135651143212"
     },
     "user_tz": -540
    },
    "id": "iLPRl8P3xEkd",
    "outputId": "d7ec1161-3747-475a-dcba-a2f8f0bd24c3"
   },
   "outputs": [
    {
     "data": {
      "image/png": "[encoded data removed]",
      "text/plain": [
       "<Figure size 432x288 with 1 Axes>"
      ]
     },
     "metadata": {
      "needs_background": "light"
     },
     "output_type": "display_data"
    }
   ],
   "source": [
    "plt.hist(preds_proba[:,1], bins=100)\n",
    "\n",
    "plt.axvline(x=OPT_threshold, color='navy', linewidth=5, label='Optimal Threshold')\n",
    "\n",
    "plt.xlabel('y_val_pred_proba')\n",
    "plt.ylabel('Frequency')\n",
    "plt.title('Optimal Threshold of %s'%(model_name))\n",
    "plt.legend()\n",
    "\n",
    "#plt.savefig(\"%s_opt_threshold_%s.png\"%(model_name, datetime.datetime.now().strftime(\"%m%d%H%M%S\")), dpi=300, bbox_inches='tight')\n",
    "\n",
    "plt.show() # y_val_pred_proba의 분포 확인"
   ]
  },
  {
   "cell_type": "markdown",
   "metadata": {
    "id": "qhIb464Tx4YB"
   },
   "source": [
    "### test 데이터로 lightGBM 돌려보기"
   ]
  },
  {
   "cell_type": "code",
   "execution_count": null,
   "metadata": {
    "colab": {
     "base_uri": "https://localhost:8080/",
     "height": 296
    },
    "executionInfo": {
     "elapsed": 3798,
     "status": "ok",
     "timestamp": 1678858746282,
     "user": {
      "displayName": "조민정",
      "userId": "09786996135651143212"
     },
     "user_tz": -540
    },
    "id": "c9VCG24gxR1g",
    "outputId": "cc033815-f7aa-46d2-aed2-5a5956bf1fc2"
   },
   "outputs": [
    {
     "data": {
      "image/png": "[encoded data removed]",
      "text/plain": [
       "<Figure size 432x288 with 1 Axes>"
      ]
     },
     "metadata": {
      "needs_background": "light"
     },
     "output_type": "display_data"
    }
   ],
   "source": [
    "# Predict probabilities for new data\n",
    "y_test_pred_proba = lgbm.predict_proba(X_test) # 확률로 추정된 X_test의 y_pred\n",
    "\n",
    "plt.hist(y_test_pred_proba[:,1], bins=100)\n",
    "\n",
    "plt.xlabel('y_test_pred_proba')\n",
    "plt.ylabel('Frequency')\n",
    "plt.title('Frequency of y_test_pred_proba of %s'%(model_name))\n",
    "\n",
    "#plt.savefig(\"%s_test_pre_proba_%s.png\"%(model_name, datetime.datetime.now().strftime(\"%m%d%H%M%S\")), dpi=300, bbox_inches='tight')\n",
    "\n",
    "plt.show() # y_test_pred_proba의 분포 확인"
   ]
  },
  {
   "cell_type": "markdown",
   "metadata": {
    "id": "Wtnb3jUJxScL"
   },
   "source": []
  },
  {
   "cell_type": "code",
   "execution_count": null,
   "metadata": {
    "id": "gPJLOiHqxNUR"
   },
   "outputs": [],
   "source": [
    "def test_func(y_test, y_pred_proba, opt_threshold):\n",
    "        \n",
    "    # make Binarizer(y hat)\n",
    "    binarizer = Binarizer(threshold = opt_threshold).fit(y_pred_proba[:,1].reshape(-1,1))\n",
    "    custom_predict = binarizer.transform(y_pred_proba[:,1].reshape(-1,1))\n",
    "\n",
    "    # count 0, 1 in Binarizer(y hat)\n",
    "    unique, counts = np.unique(custom_predict, return_counts=True)\n",
    "\n",
    "    for val, count in zip(unique, counts):\n",
    "        if len(unique) == 1:\n",
    "            if val == 1.0:\n",
    "                num_0_pred = count\n",
    "                num_1_pred = 0\n",
    "            elif val == 0.0:\n",
    "                num_1_pred = count\n",
    "                num_0_pred = 0\n",
    "        if val == 1.0:\n",
    "            num_0_pred = count\n",
    "        elif val == 0.0:\n",
    "            num_1_pred = count\n",
    "\n",
    "    # count 0, 1 in y hat\n",
    "    num_1_real = y_test.value_counts()[0]\n",
    "    num_0_real = y_test.value_counts()[1]\n",
    "\n",
    "    tn, fp, fn, tp = confusion_matrix(y_test, custom_predict).ravel()\n",
    "    count = [tn, fp, fn, tp]\n",
    "    tn_, fp_, fn_, tp_ = [round(x/sum(count)*100, 1) for x in count]\n",
    "\n",
    "    accuracy = round((tp+tn)/(tp+tn+fp+fn),4)\n",
    "    precision = round(tp/(tp+fp),4)\n",
    "    recall = round(tp/(tp+fn),4)\n",
    "    f1 = round(2*(precision*recall)/(precision+recall),4)\n",
    "    \n",
    "    result_df = pd.DataFrame(index=['1_real','1_pred','0_real','0_pred','tn', 'fp', 'fn', 'tp', 'tn_%', 'fp_%', 'fn_%', 'tp_%', 'Accuracy', 'Precision', 'Recall', 'F1 score'])\n",
    "\n",
    "    result_df['result'] = [num_1_real, num_1_pred, num_0_real, num_0_pred, tn, fp, fn, tp, tn_, fp_, fn_, tp_, accuracy, precision, recall, f1]\n",
    "\n",
    "    labels = ['TN','FP','FN','TP']\n",
    "\n",
    "\n",
    "    # 혼동 행렬 시각화\n",
    "    labels = ['Positive', 'Negative']\n",
    "    cm = [[tp, fn], [fp, tn]]\n",
    "\n",
    "    ax = plt.subplot()\n",
    "    sns.heatmap(cm, annot=True, ax=ax, fmt='g', cmap='Blues')\n",
    "    ax.set_xlabel('Predicted Class')\n",
    "    ax.set_ylabel('Acutual Class')\n",
    "    ax.set_xticklabels(labels)\n",
    "    ax.set_yticklabels(labels)\n",
    "    ax.set_title('%s Confusion Matrix'%(model_name))\n",
    "    \n",
    "    ax.text(0.45, 1.40, 'FP', fontsize=12, color='red')\n",
    "    ax.text(1.45, 1.40, 'TN', fontsize=12, color='red')\n",
    "    ax.text(0.45, 0.40, 'TP', fontsize=12, color='red')\n",
    "    ax.text(1.45, 0.40, 'FN', fontsize=12, color='red')\n",
    "    \n",
    "    #plt.savefig(\"%s_Confusion_Matrix_%s.png\"%(model_name, datetime.datetime.now().strftime(\"%m%d%H%M%S\")), dpi=300, bbox_inches='tight')\n",
    "    plt.show()\n",
    "    \n",
    "    #result_df.T.to_csv('%s_test.csv'%(model_name), index=True)\n",
    "\n",
    "    return result_df.T"
   ]
  },
  {
   "cell_type": "code",
   "execution_count": null,
   "metadata": {
    "colab": {
     "base_uri": "https://localhost:8080/",
     "height": 440
    },
    "executionInfo": {
     "elapsed": 564,
     "status": "ok",
     "timestamp": 1678858782777,
     "user": {
      "displayName": "조민정",
      "userId": "09786996135651143212"
     },
     "user_tz": -540
    },
    "id": "QevPAIytx8Lb",
    "outputId": "f2af8137-a0e4-4a56-ee3d-7e68bd9f5bac"
   },
   "outputs": [
    {
     "data": {
      "image/png": "[encoded data removed]",
      "text/plain": [
       "<Figure size 432x288 with 2 Axes>"
      ]
     },
     "metadata": {
      "needs_background": "light"
     },
     "output_type": "display_data"
    },
    {
     "data": {
      "text/html": [
       "\n",
       "  <div id=\"df-567f8140-0019-4317-8975-574486efa2cb\">\n",
       "    <div class=\"colab-df-container\">\n",
       "      <div>\n",
       "<style scoped>\n",
       "    .dataframe tbody tr th:only-of-type {\n",
       "        vertical-align: middle;\n",
       "    }\n",
       "\n",
       "    .dataframe tbody tr th {\n",
       "        vertical-align: top;\n",
       "    }\n",
       "\n",
       "    .dataframe thead th {\n",
       "        text-align: right;\n",
       "    }\n",
       "</style>\n",
       "<table border=\"1\" class=\"dataframe\">\n",
       "  <thead>\n",
       "    <tr style=\"text-align: right;\">\n",
       "      <th></th>\n",
       "      <th>1_real</th>\n",
       "      <th>1_pred</th>\n",
       "      <th>0_real</th>\n",
       "      <th>0_pred</th>\n",
       "      <th>tn</th>\n",
       "      <th>fp</th>\n",
       "      <th>fn</th>\n",
       "      <th>tp</th>\n",
       "      <th>tn_%</th>\n",
       "      <th>fp_%</th>\n",
       "      <th>fn_%</th>\n",
       "      <th>tp_%</th>\n",
       "      <th>Accuracy</th>\n",
       "      <th>Precision</th>\n",
       "      <th>Recall</th>\n",
       "      <th>F1 score</th>\n",
       "    </tr>\n",
       "  </thead>\n",
       "  <tbody>\n",
       "    <tr>\n",
       "      <th>result</th>\n",
       "      <td>150303.0</td>\n",
       "      <td>82957.0</td>\n",
       "      <td>29075.0</td>\n",
       "      <td>96421.0</td>\n",
       "      <td>75026.0</td>\n",
       "      <td>75277.0</td>\n",
       "      <td>7931.0</td>\n",
       "      <td>21144.0</td>\n",
       "      <td>41.8</td>\n",
       "      <td>42.0</td>\n",
       "      <td>4.4</td>\n",
       "      <td>11.8</td>\n",
       "      <td>0.5361</td>\n",
       "      <td>0.2193</td>\n",
       "      <td>0.7272</td>\n",
       "      <td>0.337</td>\n",
       "    </tr>\n",
       "  </tbody>\n",
       "</table>\n",
       "</div>\n",
       "      <button class=\"colab-df-convert\" onclick=\"convertToInteractive('df-567f8140-0019-4317-8975-574486efa2cb')\"\n",
       "              title=\"Convert this dataframe to an interactive table.\"\n",
       "              style=\"display:none;\">\n",
       "        \n",
       "  <svg xmlns=\"http://www.w3.org/2000/svg\" height=\"24px\"viewBox=\"0 0 24 24\"\n",
       "       width=\"24px\">\n",
       "    <path d=\"M0 0h24v24H0V0z\" fill=\"none\"/>\n",
       "    <path d=\"M18.56 5.44l.94 2.06.94-2.06 2.06-.94-2.06-.94-.94-2.06-.94 2.06-2.06.94zm-11 1L8.5 8.5l.94-2.06 2.06-.94-2.06-.94L8.5 2.5l-.94 2.06-2.06.94zm10 10l.94 2.06.94-2.06 2.06-.94-2.06-.94-.94-2.06-.94 2.06-2.06.94z\"/><path d=\"M17.41 7.96l-1.37-1.37c-.4-.4-.92-.59-1.43-.59-.52 0-1.04.2-1.43.59L10.3 9.45l-7.72 7.72c-.78.78-.78 2.05 0 2.83L4 21.41c.39.39.9.59 1.41.59.51 0 1.02-.2 1.41-.59l7.78-7.78 2.81-2.81c.8-.78.8-2.07 0-2.86zM5.41 20L4 18.59l7.72-7.72 1.47 1.35L5.41 20z\"/>\n",
       "  </svg>\n",
       "      </button>\n",
       "      \n",
       "  <style>\n",
       "    .colab-df-container {\n",
       "      display:flex;\n",
       "      flex-wrap:wrap;\n",
       "      gap: 12px;\n",
       "    }\n",
       "\n",
       "    .colab-df-convert {\n",
       "      background-color: #E8F0FE;\n",
       "      border: none;\n",
       "      border-radius: 50%;\n",
       "      cursor: pointer;\n",
       "      display: none;\n",
       "      fill: #1967D2;\n",
       "      height: 32px;\n",
       "      padding: 0 0 0 0;\n",
       "      width: 32px;\n",
       "    }\n",
       "\n",
       "    .colab-df-convert:hover {\n",
       "      background-color: #E2EBFA;\n",
       "      box-shadow: 0px 1px 2px rgba(60, 64, 67, 0.3), 0px 1px 3px 1px rgba(60, 64, 67, 0.15);\n",
       "      fill: #174EA6;\n",
       "    }\n",
       "\n",
       "    [theme=dark] .colab-df-convert {\n",
       "      background-color: #3B4455;\n",
       "      fill: #D2E3FC;\n",
       "    }\n",
       "\n",
       "    [theme=dark] .colab-df-convert:hover {\n",
       "      background-color: #434B5C;\n",
       "      box-shadow: 0px 1px 3px 1px rgba(0, 0, 0, 0.15);\n",
       "      filter: drop-shadow(0px 1px 2px rgba(0, 0, 0, 0.3));\n",
       "      fill: #FFFFFF;\n",
       "    }\n",
       "  </style>\n",
       "\n",
       "      <script>\n",
       "        const buttonEl =\n",
       "          document.querySelector('#df-567f8140-0019-4317-8975-574486efa2cb button.colab-df-convert');\n",
       "        buttonEl.style.display =\n",
       "          google.colab.kernel.accessAllowed ? 'block' : 'none';\n",
       "\n",
       "        async function convertToInteractive(key) {\n",
       "          const element = document.querySelector('#df-567f8140-0019-4317-8975-574486efa2cb');\n",
       "          const dataTable =\n",
       "            await google.colab.kernel.invokeFunction('convertToInteractive',\n",
       "                                                     [key], {});\n",
       "          if (!dataTable) return;\n",
       "\n",
       "          const docLinkHtml = 'Like what you see? Visit the ' +\n",
       "            '<a target=\"_blank\" href=https://colab.research.google.com/notebooks/data_table.ipynb>data table notebook</a>'\n",
       "            + ' to learn more about interactive tables.';\n",
       "          element.innerHTML = '';\n",
       "          dataTable['output_type'] = 'display_data';\n",
       "          await google.colab.output.renderOutput(dataTable, element);\n",
       "          const docLink = document.createElement('div');\n",
       "          docLink.innerHTML = docLinkHtml;\n",
       "          element.appendChild(docLink);\n",
       "        }\n",
       "      </script>\n",
       "    </div>\n",
       "  </div>\n",
       "  "
      ],
      "text/plain": [
       "          1_real   1_pred   0_real   0_pred       tn       fp      fn  \\\n",
       "result  150303.0  82957.0  29075.0  96421.0  75026.0  75277.0  7931.0   \n",
       "\n",
       "             tp  tn_%  fp_%  fn_%  tp_%  Accuracy  Precision  Recall  F1 score  \n",
       "result  21144.0  41.8  42.0   4.4  11.8    0.5361     0.2193  0.7272     0.337  "
      ]
     },
     "execution_count": 34,
     "metadata": {},
     "output_type": "execute_result"
    }
   ],
   "source": [
    "test_func(y_test, y_test_pred_proba, OPT_threshold)"
   ]
  },
  {
   "cell_type": "code",
   "execution_count": null,
   "metadata": {
    "id": "ckouqsEqyALw"
   },
   "outputs": [],
   "source": [
    "def test_objective_func(y_test, y_pred_proba, threshold):\n",
    "    \n",
    "        result_df = pd.DataFrame(index=['1-TPR','FPR','w1_1-TPR','w2_FPR','Expected_loss'])\n",
    "            \n",
    "        # make Binarizer(y hat)\n",
    "        binarizer = Binarizer(threshold = threshold).fit(y_pred_proba[:,1].reshape(-1,1))\n",
    "        custom_predict = binarizer.transform(y_pred_proba[:,1].reshape(-1,1))\n",
    "\n",
    "        tn, fp, fn, tp = confusion_matrix(y_test, custom_predict).ravel()\n",
    "        count = [tn, fp, fn, tp]\n",
    "\n",
    "        tpr_1 = fn / (fn + tp)\n",
    "        fpr = fp / (fp + tn)\n",
    "        w1 = 0.55\n",
    "        w2 = 0.45\n",
    "\n",
    "        expected_loss = w1 * tpr_1 + w2 * fpr\n",
    "\n",
    "        result_df[threshold] = [tpr_1, fpr, w1*tpr_1, w2*fpr, expected_loss]\n",
    "\n",
    "        print(expected_loss)\n",
    "        \n",
    "        result_df.T.to_csv('%s_test_expected_loss_%s.csv'%(model_name, datetime.datetime.now().strftime(\"%m%d%H%M%S\")), float_format='%.6f', index=True)\n",
    "        \n",
    "        return result_df"
   ]
  },
  {
   "cell_type": "code",
   "execution_count": null,
   "metadata": {
    "colab": {
     "base_uri": "https://localhost:8080/",
     "height": 224
    },
    "executionInfo": {
     "elapsed": 621,
     "status": "ok",
     "timestamp": 1678858821945,
     "user": {
      "displayName": "조민정",
      "userId": "09786996135651143212"
     },
     "user_tz": -540
    },
    "id": "3nBpiijCyHsf",
    "outputId": "8f3ab348-cd30-4dce-a33b-86be740c1897"
   },
   "outputs": [
    {
     "name": "stdout",
     "output_type": "stream",
     "text": [
      "0.3754032560504651\n"
     ]
    },
    {
     "data": {
      "text/html": [
       "\n",
       "  <div id=\"df-7bd063f2-2102-4dfa-9dce-368c7e0094fa\">\n",
       "    <div class=\"colab-df-container\">\n",
       "      <div>\n",
       "<style scoped>\n",
       "    .dataframe tbody tr th:only-of-type {\n",
       "        vertical-align: middle;\n",
       "    }\n",
       "\n",
       "    .dataframe tbody tr th {\n",
       "        vertical-align: top;\n",
       "    }\n",
       "\n",
       "    .dataframe thead th {\n",
       "        text-align: right;\n",
       "    }\n",
       "</style>\n",
       "<table border=\"1\" class=\"dataframe\">\n",
       "  <thead>\n",
       "    <tr style=\"text-align: right;\">\n",
       "      <th></th>\n",
       "      <th>0.144444</th>\n",
       "    </tr>\n",
       "  </thead>\n",
       "  <tbody>\n",
       "    <tr>\n",
       "      <th>1-TPR</th>\n",
       "      <td>0.272777</td>\n",
       "    </tr>\n",
       "    <tr>\n",
       "      <th>FPR</th>\n",
       "      <td>0.500835</td>\n",
       "    </tr>\n",
       "    <tr>\n",
       "      <th>w1_1-TPR</th>\n",
       "      <td>0.150028</td>\n",
       "    </tr>\n",
       "    <tr>\n",
       "      <th>w2_FPR</th>\n",
       "      <td>0.225376</td>\n",
       "    </tr>\n",
       "    <tr>\n",
       "      <th>Expected_loss</th>\n",
       "      <td>0.375403</td>\n",
       "    </tr>\n",
       "  </tbody>\n",
       "</table>\n",
       "</div>\n",
       "      <button class=\"colab-df-convert\" onclick=\"convertToInteractive('df-7bd063f2-2102-4dfa-9dce-368c7e0094fa')\"\n",
       "              title=\"Convert this dataframe to an interactive table.\"\n",
       "              style=\"display:none;\">\n",
       "        \n",
       "  <svg xmlns=\"http://www.w3.org/2000/svg\" height=\"24px\"viewBox=\"0 0 24 24\"\n",
       "       width=\"24px\">\n",
       "    <path d=\"M0 0h24v24H0V0z\" fill=\"none\"/>\n",
       "    <path d=\"M18.56 5.44l.94 2.06.94-2.06 2.06-.94-2.06-.94-.94-2.06-.94 2.06-2.06.94zm-11 1L8.5 8.5l.94-2.06 2.06-.94-2.06-.94L8.5 2.5l-.94 2.06-2.06.94zm10 10l.94 2.06.94-2.06 2.06-.94-2.06-.94-.94-2.06-.94 2.06-2.06.94z\"/><path d=\"M17.41 7.96l-1.37-1.37c-.4-.4-.92-.59-1.43-.59-.52 0-1.04.2-1.43.59L10.3 9.45l-7.72 7.72c-.78.78-.78 2.05 0 2.83L4 21.41c.39.39.9.59 1.41.59.51 0 1.02-.2 1.41-.59l7.78-7.78 2.81-2.81c.8-.78.8-2.07 0-2.86zM5.41 20L4 18.59l7.72-7.72 1.47 1.35L5.41 20z\"/>\n",
       "  </svg>\n",
       "      </button>\n",
       "      \n",
       "  <style>\n",
       "    .colab-df-container {\n",
       "      display:flex;\n",
       "      flex-wrap:wrap;\n",
       "      gap: 12px;\n",
       "    }\n",
       "\n",
       "    .colab-df-convert {\n",
       "      background-color: #E8F0FE;\n",
       "      border: none;\n",
       "      border-radius: 50%;\n",
       "      cursor: pointer;\n",
       "      display: none;\n",
       "      fill: #1967D2;\n",
       "      height: 32px;\n",
       "      padding: 0 0 0 0;\n",
       "      width: 32px;\n",
       "    }\n",
       "\n",
       "    .colab-df-convert:hover {\n",
       "      background-color: #E2EBFA;\n",
       "      box-shadow: 0px 1px 2px rgba(60, 64, 67, 0.3), 0px 1px 3px 1px rgba(60, 64, 67, 0.15);\n",
       "      fill: #174EA6;\n",
       "    }\n",
       "\n",
       "    [theme=dark] .colab-df-convert {\n",
       "      background-color: #3B4455;\n",
       "      fill: #D2E3FC;\n",
       "    }\n",
       "\n",
       "    [theme=dark] .colab-df-convert:hover {\n",
       "      background-color: #434B5C;\n",
       "      box-shadow: 0px 1px 3px 1px rgba(0, 0, 0, 0.15);\n",
       "      filter: drop-shadow(0px 1px 2px rgba(0, 0, 0, 0.3));\n",
       "      fill: #FFFFFF;\n",
       "    }\n",
       "  </style>\n",
       "\n",
       "      <script>\n",
       "        const buttonEl =\n",
       "          document.querySelector('#df-7bd063f2-2102-4dfa-9dce-368c7e0094fa button.colab-df-convert');\n",
       "        buttonEl.style.display =\n",
       "          google.colab.kernel.accessAllowed ? 'block' : 'none';\n",
       "\n",
       "        async function convertToInteractive(key) {\n",
       "          const element = document.querySelector('#df-7bd063f2-2102-4dfa-9dce-368c7e0094fa');\n",
       "          const dataTable =\n",
       "            await google.colab.kernel.invokeFunction('convertToInteractive',\n",
       "                                                     [key], {});\n",
       "          if (!dataTable) return;\n",
       "\n",
       "          const docLinkHtml = 'Like what you see? Visit the ' +\n",
       "            '<a target=\"_blank\" href=https://colab.research.google.com/notebooks/data_table.ipynb>data table notebook</a>'\n",
       "            + ' to learn more about interactive tables.';\n",
       "          element.innerHTML = '';\n",
       "          dataTable['output_type'] = 'display_data';\n",
       "          await google.colab.output.renderOutput(dataTable, element);\n",
       "          const docLink = document.createElement('div');\n",
       "          docLink.innerHTML = docLinkHtml;\n",
       "          element.appendChild(docLink);\n",
       "        }\n",
       "      </script>\n",
       "    </div>\n",
       "  </div>\n",
       "  "
      ],
      "text/plain": [
       "               0.144444\n",
       "1-TPR          0.272777\n",
       "FPR            0.500835\n",
       "w1_1-TPR       0.150028\n",
       "w2_FPR         0.225376\n",
       "Expected_loss  0.375403"
      ]
     },
     "execution_count": 36,
     "metadata": {},
     "output_type": "execute_result"
    }
   ],
   "source": [
    "test_objective_func(y_test, y_test_pred_proba, OPT_threshold)"
   ]
  },
  {
   "cell_type": "code",
   "execution_count": null,
   "metadata": {
    "colab": {
     "base_uri": "https://localhost:8080/",
     "height": 295
    },
    "executionInfo": {
     "elapsed": 2031,
     "status": "ok",
     "timestamp": 1678858829203,
     "user": {
      "displayName": "조민정",
      "userId": "09786996135651143212"
     },
     "user_tz": -540
    },
    "id": "m3S8N9BhyJye",
    "outputId": "fc4d8296-9564-4b09-9080-73655e9e85a2"
   },
   "outputs": [
    {
     "data": {
      "image/png": "[encoded data removed]",
      "text/plain": [
       "<Figure size 432x288 with 1 Axes>"
      ]
     },
     "metadata": {
      "needs_background": "light"
     },
     "output_type": "display_data"
    }
   ],
   "source": [
    "# Generate ROC curve and AUC score for the test set\n",
    "fpr, tpr, thresholds = roc_curve(y_test, y_test_pred_proba[:,1])\n",
    "roc_auc = auc(fpr, tpr)\n",
    "\n",
    "# Plot the ROC curve\n",
    "plt.plot(fpr, tpr, lw=1, label='ROC (AUC = %0.2f)' % roc_auc)\n",
    "plt.plot([0, 1], [0, 1], '--', color='gray', lw=1, label='Random')\n",
    "plt.xlim([0, 1])\n",
    "plt.ylim([0, 1])\n",
    "plt.xlabel('False Positive Rate')\n",
    "plt.ylabel('True Positive Rate')\n",
    "plt.title('%s_ROC_curve'%(model_name))\n",
    "plt.legend(loc='lower right')\n",
    "\n",
    "plt.savefig(\"%s_ROC_curve_%s.png\"%(model_name, datetime.datetime.now().strftime(\"%m%d%H%M%S\")), dpi=300, bbox_inches='tight')\n",
    "plt.show()"
   ]
  },
  {
   "cell_type": "code",
   "execution_count": null,
   "metadata": {
    "id": "3q1-U-XZyLGl"
   },
   "outputs": [],
   "source": []
  }
 ],
 "metadata": {
  "colab": {
   "authorship_tag": "ABX9TyOPoMP2r+lqoM7GpmlXo30J",
   "provenance": []
  },
  "kernelspec": {
   "display_name": "Python 3 (ipykernel)",
   "language": "python",
   "name": "python3"
  },
  "language_info": {
   "codemirror_mode": {
    "name": "ipython",
    "version": 3
   },
   "file_extension": ".py",
   "mimetype": "text/x-python",
   "name": "python",
   "nbconvert_exporter": "python",
   "pygments_lexer": "ipython3",
   "version": "3.11.3"
  }
 },
 "nbformat": 4,
 "nbformat_minor": 1
}
