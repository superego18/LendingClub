{
 "cells": [
  {
   "cell_type": "markdown",
   "metadata": {
    "id": "c913d822"
   },
   "source": [
    "# Module"
   ]
  },
  {
   "cell_type": "code",
   "execution_count": 2,
   "metadata": {
    "executionInfo": {
     "elapsed": 553,
     "status": "ok",
     "timestamp": 1677526312215,
     "user": {
      "displayName": "황선경",
      "userId": "17888974404389374352"
     },
     "user_tz": -540
    },
    "id": "fa4a7e3c"
   },
   "outputs": [],
   "source": [
    "# 과학계산\n",
    "import pandas as pd\n",
    "pd.set_option('display.max_colwidth', 1000, 'display.max_rows', None, 'display.max_columns', None)\n",
    "import numpy as np\n",
    "\n",
    "# 시각화\n",
    "import seaborn as sns\n",
    "import matplotlib.pyplot as plt\n",
    "\n",
    "# sklearn\n",
    "from sklearn.pipeline import Pipeline\n",
    "from sklearn.preprocessing import StandardScaler, Binarizer\n",
    "from sklearn.feature_selection import SelectFromModel\n",
    "from sklearn.tree import DecisionTreeClassifier\n",
    "from sklearn.model_selection import KFold, GridSearchCV, RandomizedSearchCV, cross_val_score\n",
    "from sklearn.metrics import make_scorer, confusion_matrix, roc_curve, auc, f1_score, accuracy_score, precision_score, recall_score, log_loss\n",
    "\n",
    "# 기타\n",
    "import datetime\n",
    "import warnings\n",
    "warnings.filterwarnings('ignore')"
   ]
  },
  {
   "cell_type": "code",
   "execution_count": 6,
   "metadata": {},
   "outputs": [],
   "source": [
    "pd.set_option('display.max_colwidth', 1000, 'display.max_rows', 10, 'display.max_columns', 10)"
   ]
  },
  {
   "cell_type": "markdown",
   "metadata": {
    "id": "d7af9689"
   },
   "source": [
    "# Rectified Dataset split"
   ]
  },
  {
   "cell_type": "code",
   "execution_count": 10,
   "metadata": {
    "executionInfo": {
     "elapsed": 32817,
     "status": "ok",
     "timestamp": 1677526358239,
     "user": {
      "displayName": "황선경",
      "userId": "17888974404389374352"
     },
     "user_tz": -540
    },
    "id": "60b80511"
   },
   "outputs": [],
   "source": [
    "train = pd.read_csv('../dataset_processed/train_538132.csv')\n",
    "val = pd.read_csv('../dataset_processed/validation_179377.csv')\n",
    "test = pd.read_csv('../dataset_processed/test_179378.csv')"
   ]
  },
  {
   "cell_type": "code",
   "execution_count": null,
   "metadata": {},
   "outputs": [],
   "source": [
    "X_train = train.drop('depvar', axis=1)\n",
    "y_train = train['depvar']\n",
    "\n",
    "X_val = val.drop('depvar', axis=1)\n",
    "y_val = val['depvar']\n",
    "\n",
    "X_test = test.drop('depvar', axis=1)\n",
    "y_test = test['depvar']"
   ]
  },
  {
   "cell_type": "code",
   "execution_count": 12,
   "metadata": {
    "colab": {
     "base_uri": "https://localhost:8080/"
    },
    "executionInfo": {
     "elapsed": 12,
     "status": "ok",
     "timestamp": 1677526364891,
     "user": {
      "displayName": "황선경",
      "userId": "17888974404389374352"
     },
     "user_tz": -540
    },
    "id": "80d8d802",
    "outputId": "9f300782-fcb8-4337-8ab3-2a9a44961e14"
   },
   "outputs": [
    {
     "ename": "NameError",
     "evalue": "name 'X_train' is not defined",
     "output_type": "error",
     "traceback": [
      "\u001b[1;31m---------------------------------------------------------------------------\u001b[0m",
      "\u001b[1;31mNameError\u001b[0m                                 Traceback (most recent call last)",
      "Cell \u001b[1;32mIn[12], line 1\u001b[0m\n\u001b[1;32m----> 1\u001b[0m \u001b[38;5;28mprint\u001b[39m(X_train\u001b[38;5;241m.\u001b[39mshape)\n\u001b[0;32m      2\u001b[0m \u001b[38;5;28mprint\u001b[39m(y_train\u001b[38;5;241m.\u001b[39mshape)\n\u001b[0;32m      3\u001b[0m \u001b[38;5;28mprint\u001b[39m(X_val\u001b[38;5;241m.\u001b[39mshape)\n",
      "\u001b[1;31mNameError\u001b[0m: name 'X_train' is not defined"
     ]
    }
   ],
   "source": [
    "print(X_train.shape)\n",
    "print(y_train.shape)\n",
    "print(X_val.shape)\n",
    "print(y_val.shape)\n",
    "print(X_test.shape)\n",
    "print(y_test.shape)"
   ]
  },
  {
   "cell_type": "markdown",
   "metadata": {
    "id": "7a03faed"
   },
   "source": [
    "# Training"
   ]
  },
  {
   "cell_type": "code",
   "execution_count": 7,
   "metadata": {
    "colab": {
     "base_uri": "https://localhost:8080/"
    },
    "executionInfo": {
     "elapsed": 24117,
     "status": "ok",
     "timestamp": 1677526395689,
     "user": {
      "displayName": "황선경",
      "userId": "17888974404389374352"
     },
     "user_tz": -540
    },
    "id": "vvlnqqe9iUs_",
    "outputId": "faf14c4e-9ff1-45d4-918a-c815d32789a8"
   },
   "outputs": [
    {
     "data": {
      "text/plain": [
       "DecisionTreeClassifier()"
      ]
     },
     "execution_count": 7,
     "metadata": {},
     "output_type": "execute_result"
    }
   ],
   "source": [
    "dt_clf = DecisionTreeClassifier()\n",
    "dt_clf.fit(X_train, y_train)"
   ]
  },
  {
   "cell_type": "code",
   "execution_count": 8,
   "metadata": {
    "colab": {
     "base_uri": "https://localhost:8080/"
    },
    "executionInfo": {
     "elapsed": 3,
     "status": "ok",
     "timestamp": 1677526413998,
     "user": {
      "displayName": "황선경",
      "userId": "17888974404389374352"
     },
     "user_tz": -540
    },
    "id": "szNrGA1JilRK",
    "outputId": "119acfb7-f931-478c-f48b-1ae8da691cfe"
   },
   "outputs": [
    {
     "data": {
      "text/plain": [
       "61"
      ]
     },
     "execution_count": 8,
     "metadata": {},
     "output_type": "execute_result"
    }
   ],
   "source": [
    "dt_clf.tree_.max_depth"
   ]
  },
  {
   "cell_type": "markdown",
   "metadata": {
    "id": "9d336699"
   },
   "source": [
    "# Validation"
   ]
  },
  {
   "cell_type": "markdown",
   "metadata": {
    "id": "e96909b9"
   },
   "source": [
    "### X_val에 대한 평가지표 확인"
   ]
  },
  {
   "cell_type": "code",
   "execution_count": 9,
   "metadata": {
    "colab": {
     "base_uri": "https://localhost:8080/"
    },
    "executionInfo": {
     "elapsed": 1004,
     "status": "ok",
     "timestamp": 1677526421250,
     "user": {
      "displayName": "황선경",
      "userId": "17888974404389374352"
     },
     "user_tz": -540
    },
    "id": "705d5366",
    "outputId": "71a0c516-fcf1-4d5c-fce2-7686c5dcde4b",
    "scrolled": true
   },
   "outputs": [
    {
     "name": "stdout",
     "output_type": "stream",
     "text": [
      "\n",
      " 정확도: 0.7320169252468265, 정밀도도: 0.19550511365457984, 재현율율: 0.20973344797936372\n",
      "[[125209  25093]\n",
      " [ 22977   6098]]\n"
     ]
    }
   ],
   "source": [
    "pred_val = dt_clf.predict(X_val)\n",
    "\n",
    "accuracy = accuracy_score(y_val, pred_val)\n",
    "precision = precision_score(y_val, pred_val)\n",
    "recall = recall_score(y_val, pred_val)\n",
    "conf_matrix = confusion_matrix(y_val, pred_val)\n",
    "print('\\n 정확도: {0}, 정밀도도: {1}, 재현율율: {2}'.format(accuracy, precision, recall))\n",
    "print(conf_matrix)"
   ]
  },
  {
   "cell_type": "markdown",
   "metadata": {
    "id": "3318dd84"
   },
   "source": [
    "### X_val fitting"
   ]
  },
  {
   "cell_type": "code",
   "execution_count": 10,
   "metadata": {
    "colab": {
     "base_uri": "https://localhost:8080/",
     "height": 296
    },
    "executionInfo": {
     "elapsed": 1215,
     "status": "ok",
     "timestamp": 1677526426463,
     "user": {
      "displayName": "황선경",
      "userId": "17888974404389374352"
     },
     "user_tz": -540
    },
    "id": "f864b23f",
    "outputId": "839f63bc-1400-4d66-ec8f-62a5a7b9fa96",
    "scrolled": false
   },
   "outputs": [
    {
     "data": {
      "image/png": "[encoded data removed]",
      "text/plain": [
       "<Figure size 432x288 with 1 Axes>"
      ]
     },
     "metadata": {
      "needs_background": "light"
     },
     "output_type": "display_data"
    }
   ],
   "source": [
    "# Predict probabilities for new data\n",
    "\n",
    "model_name = 'DecisionTree'\n",
    "\n",
    "y_val_pred_proba = dt_clf.predict_proba(X_val) # 확률로 추정된 X_val의 y_pred\n",
    "\n",
    "plt.hist(y_val_pred_proba[:,1], bins=100)\n",
    "\n",
    "plt.xlabel('y_val_pred_proba')\n",
    "plt.ylabel('Frequency')\n",
    "plt.title('Frequency of y_val_pred_proba of %s'%(model_name))\n",
    "\n",
    "plt.savefig(\"%s_val_pre_proba_%s.png\"%(model_name, datetime.datetime.now().strftime(\"%m%d%H%M%S\")), dpi=300, bbox_inches='tight')\n",
    "\n",
    "plt.show() # y_val_pred_proba의 분포 확인"
   ]
  },
  {
   "cell_type": "code",
   "execution_count": 11,
   "metadata": {
    "colab": {
     "base_uri": "https://localhost:8080/"
    },
    "executionInfo": {
     "elapsed": 2,
     "status": "ok",
     "timestamp": 1677526429919,
     "user": {
      "displayName": "황선경",
      "userId": "17888974404389374352"
     },
     "user_tz": -540
    },
    "id": "80603561",
    "outputId": "0beda5b1-1188-45b9-ce6b-d4b82087c98f"
   },
   "outputs": [
    {
     "data": {
      "text/plain": [
       "array([[1., 0.],\n",
       "       [1., 0.],\n",
       "       [1., 0.],\n",
       "       ...,\n",
       "       [1., 0.],\n",
       "       [1., 0.],\n",
       "       [0., 1.]])"
      ]
     },
     "execution_count": 11,
     "metadata": {},
     "output_type": "execute_result"
    }
   ],
   "source": [
    "y_val_pred_proba"
   ]
  },
  {
   "cell_type": "markdown",
   "metadata": {
    "id": "d8c47020"
   },
   "source": [
    "### optimal threshold 선정 (threshold에 따른 목적함수 값 비교)\n",
    "\n",
    "실제 positive = TP + FN\n",
    "\n",
    "실제 Negative = TN + FP\n",
    "\n",
    "정밀도: positive로 예측한 것 중에 진짜 positive인 것 -> 양성 예측도\n",
    "\n",
    "재현율: 실제 positive 중에 맞춘 것 -> 민감도"
   ]
  },
  {
   "cell_type": "code",
   "execution_count": 12,
   "metadata": {
    "executionInfo": {
     "elapsed": 2,
     "status": "ok",
     "timestamp": 1677526434195,
     "user": {
      "displayName": "황선경",
      "userId": "17888974404389374352"
     },
     "user_tz": -540
    },
    "id": "XyXYPwxgE4nu"
   },
   "outputs": [],
   "source": [
    "threshold_list = np.linspace(0.11,0.14,10) # 짝수개 값 (예시 10개)"
   ]
  },
  {
   "cell_type": "markdown",
   "metadata": {
    "id": "67a298d2"
   },
   "source": [
    "Threshold에 따른 지표 비교\n",
    "\n",
    "0, 1 count / confusion_matrix / accuracy, precision, recall, f1 score "
   ]
  },
  {
   "cell_type": "code",
   "execution_count": 13,
   "metadata": {
    "executionInfo": {
     "elapsed": 5,
     "status": "ok",
     "timestamp": 1677526437554,
     "user": {
      "displayName": "황선경",
      "userId": "17888974404389374352"
     },
     "user_tz": -540
    },
    "id": "HWVHIIWEFEm8"
   },
   "outputs": [],
   "source": [
    "def threshold_func(y_val, y_pred_proba, threshold_list):\n",
    "    \n",
    "    n = len(threshold_list)\n",
    "    \n",
    "    result_df = pd.DataFrame(index=['1_real','1_pred','0_real','0_pred','tn', 'fp', 'fn', 'tp', 'tn_%', 'fp_%', 'fn_%', 'tp_%', 'Accuracy', 'Precision', 'Recall', 'F1 score'])\n",
    "    \n",
    "    fig, axes = plt.subplots(nrows=int(n/2), ncols=2, figsize=(10, 10))\n",
    "    \n",
    "    for i in range(len(threshold_list)):\n",
    "        \n",
    "        threshold = threshold_list[i]\n",
    "        \n",
    "        # make Binarizer(y hat)\n",
    "        binarizer = Binarizer(threshold = threshold).fit(y_pred_proba[:,1].reshape(-1,1))\n",
    "        custom_predict = binarizer.transform(y_pred_proba[:,1].reshape(-1,1))\n",
    "        \n",
    "        # count 0, 1 in Binarizer(y hat)\n",
    "        unique, counts = np.unique(custom_predict, return_counts=True)\n",
    "\n",
    "        for val, count in zip(unique, counts):\n",
    "            if len(unique) == 1:\n",
    "                if val == 1.0:\n",
    "                    num_0_pred = 0\n",
    "                    num_1_pred = count\n",
    "                elif val == 0.0:\n",
    "                    num_1_pred = 0\n",
    "                    num_0_pred = count\n",
    "            if val == 1.0:\n",
    "                num_1_pred = count\n",
    "            elif val == 0.0:\n",
    "                num_0_pred = count\n",
    "\n",
    "        # count 0, 1 in y hat\n",
    "        num_0_real = y_val.value_counts()[0]\n",
    "        num_1_real = y_val.value_counts()[1]\n",
    "        \n",
    "        tn, fp, fn, tp = confusion_matrix(y_val, custom_predict).ravel()\n",
    "        count = [tn, fp, fn, tp]\n",
    "        tn_, fp_, fn_, tp_ = [round(x/sum(count)*100, 1) for x in count]\n",
    "        \n",
    "        accuracy = round((tp+tn)/(tp+tn+fp+fn),4)\n",
    "        precision = round(tp/(tp+fp),4)\n",
    "        recall = round(tp/(tp+fn),4)\n",
    "        f1 = round(2*(precision*recall)/(precision+recall),4)\n",
    "        \n",
    "        threshold_tag = round(threshold_list[i], 4)\n",
    "        \n",
    "        result_df[threshold_tag] = [num_1_real, num_1_pred, num_0_real, num_0_pred, tn, fp, fn, tp, tn_, fp_, fn_, tp_, accuracy, precision, recall, f1]\n",
    "        \n",
    "        labels = ['TN','FP','FN','TP']\n",
    "        \n",
    "        # tn, fp, fn, tp 각각의 값을 counts 리스트에 저장\n",
    "        counts = [tn, fp, fn, tp]\n",
    "\n",
    "        # 해당하는 subplot에 그래프 그리기\n",
    "        axes[i//2, i%2].bar(labels, counts)\n",
    "        axes[i//2, i%2].set_title(threshold_tag)\n",
    "        axes[i//2, i%2].set_ylabel('Count')\n",
    "\n",
    "    # 그래프 간격 조절하기\n",
    "    plt.tight_layout()\n",
    "    \n",
    "    plt.savefig(\"%s_threshold_%s.png\"%(model_name, datetime.datetime.now().strftime(\"%m%d%H%M%S\")), dpi=300, bbox_inches='tight')\n",
    "\n",
    "    # 그래프 출력하기\n",
    "    plt.show()\n",
    "    \n",
    "    result_df.to_csv('%s_threshold_%s.csv'%(model_name, datetime.datetime.now().strftime(\"%m%d%H%M%S\")), index=True)\n",
    "    \n",
    "    return result_df"
   ]
  },
  {
   "cell_type": "code",
   "execution_count": 14,
   "metadata": {
    "colab": {
     "base_uri": "https://localhost:8080/",
     "height": 1000
    },
    "executionInfo": {
     "elapsed": 3667,
     "status": "ok",
     "timestamp": 1677526447771,
     "user": {
      "displayName": "황선경",
      "userId": "17888974404389374352"
     },
     "user_tz": -540
    },
    "id": "JlFq1HVoFEm-",
    "outputId": "9ff0bf8b-952c-4127-a360-11cdaac13194",
    "scrolled": true
   },
   "outputs": [
    {
     "data": {
      "image/png": "[encoded data removed]",
      "text/plain": [
       "<Figure size 720x720 with 10 Axes>"
      ]
     },
     "metadata": {
      "needs_background": "light"
     },
     "output_type": "display_data"
    },
    {
     "data": {
      "text/html": [
       "\n",
       "  <div id=\"df-f7c8b0f7-9e5d-44eb-a5a3-70bc8f4df695\">\n",
       "    <div class=\"colab-df-container\">\n",
       "      <div>\n",
       "<style scoped>\n",
       "    .dataframe tbody tr th:only-of-type {\n",
       "        vertical-align: middle;\n",
       "    }\n",
       "\n",
       "    .dataframe tbody tr th {\n",
       "        vertical-align: top;\n",
       "    }\n",
       "\n",
       "    .dataframe thead th {\n",
       "        text-align: right;\n",
       "    }\n",
       "</style>\n",
       "<table border=\"1\" class=\"dataframe\">\n",
       "  <thead>\n",
       "    <tr style=\"text-align: right;\">\n",
       "      <th></th>\n",
       "      <th>0.1100</th>\n",
       "      <th>0.1133</th>\n",
       "      <th>0.1167</th>\n",
       "      <th>0.1200</th>\n",
       "      <th>0.1233</th>\n",
       "      <th>0.1267</th>\n",
       "      <th>0.1300</th>\n",
       "      <th>0.1333</th>\n",
       "      <th>0.1367</th>\n",
       "      <th>0.1400</th>\n",
       "    </tr>\n",
       "  </thead>\n",
       "  <tbody>\n",
       "    <tr>\n",
       "      <th>1_real</th>\n",
       "      <td>29075.0000</td>\n",
       "      <td>29075.0000</td>\n",
       "      <td>29075.0000</td>\n",
       "      <td>29075.0000</td>\n",
       "      <td>29075.0000</td>\n",
       "      <td>29075.0000</td>\n",
       "      <td>29075.0000</td>\n",
       "      <td>29075.0000</td>\n",
       "      <td>29075.0000</td>\n",
       "      <td>29075.0000</td>\n",
       "    </tr>\n",
       "    <tr>\n",
       "      <th>1_pred</th>\n",
       "      <td>31191.0000</td>\n",
       "      <td>31191.0000</td>\n",
       "      <td>31191.0000</td>\n",
       "      <td>31191.0000</td>\n",
       "      <td>31191.0000</td>\n",
       "      <td>31191.0000</td>\n",
       "      <td>31191.0000</td>\n",
       "      <td>31191.0000</td>\n",
       "      <td>31191.0000</td>\n",
       "      <td>31191.0000</td>\n",
       "    </tr>\n",
       "    <tr>\n",
       "      <th>0_real</th>\n",
       "      <td>150302.0000</td>\n",
       "      <td>150302.0000</td>\n",
       "      <td>150302.0000</td>\n",
       "      <td>150302.0000</td>\n",
       "      <td>150302.0000</td>\n",
       "      <td>150302.0000</td>\n",
       "      <td>150302.0000</td>\n",
       "      <td>150302.0000</td>\n",
       "      <td>150302.0000</td>\n",
       "      <td>150302.0000</td>\n",
       "    </tr>\n",
       "    <tr>\n",
       "      <th>0_pred</th>\n",
       "      <td>148186.0000</td>\n",
       "      <td>148186.0000</td>\n",
       "      <td>148186.0000</td>\n",
       "      <td>148186.0000</td>\n",
       "      <td>148186.0000</td>\n",
       "      <td>148186.0000</td>\n",
       "      <td>148186.0000</td>\n",
       "      <td>148186.0000</td>\n",
       "      <td>148186.0000</td>\n",
       "      <td>148186.0000</td>\n",
       "    </tr>\n",
       "    <tr>\n",
       "      <th>tn</th>\n",
       "      <td>125209.0000</td>\n",
       "      <td>125209.0000</td>\n",
       "      <td>125209.0000</td>\n",
       "      <td>125209.0000</td>\n",
       "      <td>125209.0000</td>\n",
       "      <td>125209.0000</td>\n",
       "      <td>125209.0000</td>\n",
       "      <td>125209.0000</td>\n",
       "      <td>125209.0000</td>\n",
       "      <td>125209.0000</td>\n",
       "    </tr>\n",
       "    <tr>\n",
       "      <th>fp</th>\n",
       "      <td>25093.0000</td>\n",
       "      <td>25093.0000</td>\n",
       "      <td>25093.0000</td>\n",
       "      <td>25093.0000</td>\n",
       "      <td>25093.0000</td>\n",
       "      <td>25093.0000</td>\n",
       "      <td>25093.0000</td>\n",
       "      <td>25093.0000</td>\n",
       "      <td>25093.0000</td>\n",
       "      <td>25093.0000</td>\n",
       "    </tr>\n",
       "    <tr>\n",
       "      <th>fn</th>\n",
       "      <td>22977.0000</td>\n",
       "      <td>22977.0000</td>\n",
       "      <td>22977.0000</td>\n",
       "      <td>22977.0000</td>\n",
       "      <td>22977.0000</td>\n",
       "      <td>22977.0000</td>\n",
       "      <td>22977.0000</td>\n",
       "      <td>22977.0000</td>\n",
       "      <td>22977.0000</td>\n",
       "      <td>22977.0000</td>\n",
       "    </tr>\n",
       "    <tr>\n",
       "      <th>tp</th>\n",
       "      <td>6098.0000</td>\n",
       "      <td>6098.0000</td>\n",
       "      <td>6098.0000</td>\n",
       "      <td>6098.0000</td>\n",
       "      <td>6098.0000</td>\n",
       "      <td>6098.0000</td>\n",
       "      <td>6098.0000</td>\n",
       "      <td>6098.0000</td>\n",
       "      <td>6098.0000</td>\n",
       "      <td>6098.0000</td>\n",
       "    </tr>\n",
       "    <tr>\n",
       "      <th>tn_%</th>\n",
       "      <td>69.8000</td>\n",
       "      <td>69.8000</td>\n",
       "      <td>69.8000</td>\n",
       "      <td>69.8000</td>\n",
       "      <td>69.8000</td>\n",
       "      <td>69.8000</td>\n",
       "      <td>69.8000</td>\n",
       "      <td>69.8000</td>\n",
       "      <td>69.8000</td>\n",
       "      <td>69.8000</td>\n",
       "    </tr>\n",
       "    <tr>\n",
       "      <th>fp_%</th>\n",
       "      <td>14.0000</td>\n",
       "      <td>14.0000</td>\n",
       "      <td>14.0000</td>\n",
       "      <td>14.0000</td>\n",
       "      <td>14.0000</td>\n",
       "      <td>14.0000</td>\n",
       "      <td>14.0000</td>\n",
       "      <td>14.0000</td>\n",
       "      <td>14.0000</td>\n",
       "      <td>14.0000</td>\n",
       "    </tr>\n",
       "    <tr>\n",
       "      <th>fn_%</th>\n",
       "      <td>12.8000</td>\n",
       "      <td>12.8000</td>\n",
       "      <td>12.8000</td>\n",
       "      <td>12.8000</td>\n",
       "      <td>12.8000</td>\n",
       "      <td>12.8000</td>\n",
       "      <td>12.8000</td>\n",
       "      <td>12.8000</td>\n",
       "      <td>12.8000</td>\n",
       "      <td>12.8000</td>\n",
       "    </tr>\n",
       "    <tr>\n",
       "      <th>tp_%</th>\n",
       "      <td>3.4000</td>\n",
       "      <td>3.4000</td>\n",
       "      <td>3.4000</td>\n",
       "      <td>3.4000</td>\n",
       "      <td>3.4000</td>\n",
       "      <td>3.4000</td>\n",
       "      <td>3.4000</td>\n",
       "      <td>3.4000</td>\n",
       "      <td>3.4000</td>\n",
       "      <td>3.4000</td>\n",
       "    </tr>\n",
       "    <tr>\n",
       "      <th>Accuracy</th>\n",
       "      <td>0.7320</td>\n",
       "      <td>0.7320</td>\n",
       "      <td>0.7320</td>\n",
       "      <td>0.7320</td>\n",
       "      <td>0.7320</td>\n",
       "      <td>0.7320</td>\n",
       "      <td>0.7320</td>\n",
       "      <td>0.7320</td>\n",
       "      <td>0.7320</td>\n",
       "      <td>0.7320</td>\n",
       "    </tr>\n",
       "    <tr>\n",
       "      <th>Precision</th>\n",
       "      <td>0.1955</td>\n",
       "      <td>0.1955</td>\n",
       "      <td>0.1955</td>\n",
       "      <td>0.1955</td>\n",
       "      <td>0.1955</td>\n",
       "      <td>0.1955</td>\n",
       "      <td>0.1955</td>\n",
       "      <td>0.1955</td>\n",
       "      <td>0.1955</td>\n",
       "      <td>0.1955</td>\n",
       "    </tr>\n",
       "    <tr>\n",
       "      <th>Recall</th>\n",
       "      <td>0.2097</td>\n",
       "      <td>0.2097</td>\n",
       "      <td>0.2097</td>\n",
       "      <td>0.2097</td>\n",
       "      <td>0.2097</td>\n",
       "      <td>0.2097</td>\n",
       "      <td>0.2097</td>\n",
       "      <td>0.2097</td>\n",
       "      <td>0.2097</td>\n",
       "      <td>0.2097</td>\n",
       "    </tr>\n",
       "    <tr>\n",
       "      <th>F1 score</th>\n",
       "      <td>0.2024</td>\n",
       "      <td>0.2024</td>\n",
       "      <td>0.2024</td>\n",
       "      <td>0.2024</td>\n",
       "      <td>0.2024</td>\n",
       "      <td>0.2024</td>\n",
       "      <td>0.2024</td>\n",
       "      <td>0.2024</td>\n",
       "      <td>0.2024</td>\n",
       "      <td>0.2024</td>\n",
       "    </tr>\n",
       "  </tbody>\n",
       "</table>\n",
       "</div>\n",
       "      <button class=\"colab-df-convert\" onclick=\"convertToInteractive('df-f7c8b0f7-9e5d-44eb-a5a3-70bc8f4df695')\"\n",
       "              title=\"Convert this dataframe to an interactive table.\"\n",
       "              style=\"display:none;\">\n",
       "        \n",
       "  <svg xmlns=\"http://www.w3.org/2000/svg\" height=\"24px\"viewBox=\"0 0 24 24\"\n",
       "       width=\"24px\">\n",
       "    <path d=\"M0 0h24v24H0V0z\" fill=\"none\"/>\n",
       "    <path d=\"M18.56 5.44l.94 2.06.94-2.06 2.06-.94-2.06-.94-.94-2.06-.94 2.06-2.06.94zm-11 1L8.5 8.5l.94-2.06 2.06-.94-2.06-.94L8.5 2.5l-.94 2.06-2.06.94zm10 10l.94 2.06.94-2.06 2.06-.94-2.06-.94-.94-2.06-.94 2.06-2.06.94z\"/><path d=\"M17.41 7.96l-1.37-1.37c-.4-.4-.92-.59-1.43-.59-.52 0-1.04.2-1.43.59L10.3 9.45l-7.72 7.72c-.78.78-.78 2.05 0 2.83L4 21.41c.39.39.9.59 1.41.59.51 0 1.02-.2 1.41-.59l7.78-7.78 2.81-2.81c.8-.78.8-2.07 0-2.86zM5.41 20L4 18.59l7.72-7.72 1.47 1.35L5.41 20z\"/>\n",
       "  </svg>\n",
       "      </button>\n",
       "      \n",
       "  <style>\n",
       "    .colab-df-container {\n",
       "      display:flex;\n",
       "      flex-wrap:wrap;\n",
       "      gap: 12px;\n",
       "    }\n",
       "\n",
       "    .colab-df-convert {\n",
       "      background-color: #E8F0FE;\n",
       "      border: none;\n",
       "      border-radius: 50%;\n",
       "      cursor: pointer;\n",
       "      display: none;\n",
       "      fill: #1967D2;\n",
       "      height: 32px;\n",
       "      padding: 0 0 0 0;\n",
       "      width: 32px;\n",
       "    }\n",
       "\n",
       "    .colab-df-convert:hover {\n",
       "      background-color: #E2EBFA;\n",
       "      box-shadow: 0px 1px 2px rgba(60, 64, 67, 0.3), 0px 1px 3px 1px rgba(60, 64, 67, 0.15);\n",
       "      fill: #174EA6;\n",
       "    }\n",
       "\n",
       "    [theme=dark] .colab-df-convert {\n",
       "      background-color: #3B4455;\n",
       "      fill: #D2E3FC;\n",
       "    }\n",
       "\n",
       "    [theme=dark] .colab-df-convert:hover {\n",
       "      background-color: #434B5C;\n",
       "      box-shadow: 0px 1px 3px 1px rgba(0, 0, 0, 0.15);\n",
       "      filter: drop-shadow(0px 1px 2px rgba(0, 0, 0, 0.3));\n",
       "      fill: #FFFFFF;\n",
       "    }\n",
       "  </style>\n",
       "\n",
       "      <script>\n",
       "        const buttonEl =\n",
       "          document.querySelector('#df-f7c8b0f7-9e5d-44eb-a5a3-70bc8f4df695 button.colab-df-convert');\n",
       "        buttonEl.style.display =\n",
       "          google.colab.kernel.accessAllowed ? 'block' : 'none';\n",
       "\n",
       "        async function convertToInteractive(key) {\n",
       "          const element = document.querySelector('#df-f7c8b0f7-9e5d-44eb-a5a3-70bc8f4df695');\n",
       "          const dataTable =\n",
       "            await google.colab.kernel.invokeFunction('convertToInteractive',\n",
       "                                                     [key], {});\n",
       "          if (!dataTable) return;\n",
       "\n",
       "          const docLinkHtml = 'Like what you see? Visit the ' +\n",
       "            '<a target=\"_blank\" href=https://colab.research.google.com/notebooks/data_table.ipynb>data table notebook</a>'\n",
       "            + ' to learn more about interactive tables.';\n",
       "          element.innerHTML = '';\n",
       "          dataTable['output_type'] = 'display_data';\n",
       "          await google.colab.output.renderOutput(dataTable, element);\n",
       "          const docLink = document.createElement('div');\n",
       "          docLink.innerHTML = docLinkHtml;\n",
       "          element.appendChild(docLink);\n",
       "        }\n",
       "      </script>\n",
       "    </div>\n",
       "  </div>\n",
       "  "
      ],
      "text/plain": [
       "                0.1100       0.1133       0.1167       0.1200       0.1233  \\\n",
       "1_real      29075.0000   29075.0000   29075.0000   29075.0000   29075.0000   \n",
       "1_pred      31191.0000   31191.0000   31191.0000   31191.0000   31191.0000   \n",
       "0_real     150302.0000  150302.0000  150302.0000  150302.0000  150302.0000   \n",
       "0_pred     148186.0000  148186.0000  148186.0000  148186.0000  148186.0000   \n",
       "tn         125209.0000  125209.0000  125209.0000  125209.0000  125209.0000   \n",
       "fp          25093.0000   25093.0000   25093.0000   25093.0000   25093.0000   \n",
       "fn          22977.0000   22977.0000   22977.0000   22977.0000   22977.0000   \n",
       "tp           6098.0000    6098.0000    6098.0000    6098.0000    6098.0000   \n",
       "tn_%           69.8000      69.8000      69.8000      69.8000      69.8000   \n",
       "fp_%           14.0000      14.0000      14.0000      14.0000      14.0000   \n",
       "fn_%           12.8000      12.8000      12.8000      12.8000      12.8000   \n",
       "tp_%            3.4000       3.4000       3.4000       3.4000       3.4000   \n",
       "Accuracy        0.7320       0.7320       0.7320       0.7320       0.7320   \n",
       "Precision       0.1955       0.1955       0.1955       0.1955       0.1955   \n",
       "Recall          0.2097       0.2097       0.2097       0.2097       0.2097   \n",
       "F1 score        0.2024       0.2024       0.2024       0.2024       0.2024   \n",
       "\n",
       "                0.1267       0.1300       0.1333       0.1367       0.1400  \n",
       "1_real      29075.0000   29075.0000   29075.0000   29075.0000   29075.0000  \n",
       "1_pred      31191.0000   31191.0000   31191.0000   31191.0000   31191.0000  \n",
       "0_real     150302.0000  150302.0000  150302.0000  150302.0000  150302.0000  \n",
       "0_pred     148186.0000  148186.0000  148186.0000  148186.0000  148186.0000  \n",
       "tn         125209.0000  125209.0000  125209.0000  125209.0000  125209.0000  \n",
       "fp          25093.0000   25093.0000   25093.0000   25093.0000   25093.0000  \n",
       "fn          22977.0000   22977.0000   22977.0000   22977.0000   22977.0000  \n",
       "tp           6098.0000    6098.0000    6098.0000    6098.0000    6098.0000  \n",
       "tn_%           69.8000      69.8000      69.8000      69.8000      69.8000  \n",
       "fp_%           14.0000      14.0000      14.0000      14.0000      14.0000  \n",
       "fn_%           12.8000      12.8000      12.8000      12.8000      12.8000  \n",
       "tp_%            3.4000       3.4000       3.4000       3.4000       3.4000  \n",
       "Accuracy        0.7320       0.7320       0.7320       0.7320       0.7320  \n",
       "Precision       0.1955       0.1955       0.1955       0.1955       0.1955  \n",
       "Recall          0.2097       0.2097       0.2097       0.2097       0.2097  \n",
       "F1 score        0.2024       0.2024       0.2024       0.2024       0.2024  "
      ]
     },
     "execution_count": 14,
     "metadata": {},
     "output_type": "execute_result"
    }
   ],
   "source": [
    "threshold_func(y_val, y_val_pred_proba, threshold_list)"
   ]
  },
  {
   "cell_type": "markdown",
   "metadata": {
    "id": "7671dfe9"
   },
   "source": [
    "Threshold에 따른 목적함수 값 비교"
   ]
  },
  {
   "cell_type": "code",
   "execution_count": 15,
   "metadata": {
    "executionInfo": {
     "elapsed": 2,
     "status": "ok",
     "timestamp": 1677526453937,
     "user": {
      "displayName": "황선경",
      "userId": "17888974404389374352"
     },
     "user_tz": -540
    },
    "id": "b11d3bf4"
   },
   "outputs": [],
   "source": [
    "OPT_threshold = None\n",
    "OPT_expected_loss = None\n",
    "\n",
    "def objective_func(y_pred_proba, threshold_list):\n",
    "    \n",
    "        result_df = pd.DataFrame(index=['1-TPR','FPR','w1_1-TPR','w2_FPR','Expected_loss'])\n",
    "        \n",
    "        expected_loss_list = []\n",
    "        \n",
    "        for i in range(len(threshold_list)):\n",
    "            \n",
    "            threshold = threshold_list[i]\n",
    "            \n",
    "            # make Binarizer(y hat)\n",
    "            binarizer = Binarizer(threshold = threshold).fit(y_pred_proba[:,1].reshape(-1,1))\n",
    "            custom_predict = binarizer.transform(y_pred_proba[:,1].reshape(-1,1))\n",
    "\n",
    "            tn, fp, fn, tp = confusion_matrix(y_val, custom_predict).ravel()\n",
    "            count = [tn, fp, fn, tp]\n",
    "            \n",
    "            tpr_1 = fn / (fn + tp)\n",
    "            fpr = fp / (fp + tn)\n",
    "            w1 = 0.55\n",
    "            w2 = 0.45\n",
    "            \n",
    "            expected_loss = w1 * tpr_1 + w2 * fpr\n",
    "            \n",
    "            expected_loss_list.append(expected_loss)\n",
    "            \n",
    "            threshold_tag = round(threshold_list[i], 4)\n",
    "        \n",
    "            result_df[threshold_tag] = [tpr_1, fpr, w1*tpr_1, w2*fpr, expected_loss]\n",
    "            \n",
    "            if i == 0:\n",
    "                opt_threshold = threshold\n",
    "                opt_expected_loss = expected_loss\n",
    "            else:\n",
    "                if opt_expected_loss > expected_loss:\n",
    "                    opt_threshold = threshold\n",
    "                    opt_expected_loss = expected_loss\n",
    "                    \n",
    "#         expected_loss_list = [round(x, 1) for x in expected_loss_list]\n",
    "\n",
    "        print(opt_threshold)\n",
    "        print(opt_expected_loss)\n",
    "        \n",
    "        plt.plot(threshold_list, expected_loss_list)\n",
    "        plt.scatter(threshold_list, expected_loss_list)\n",
    "        \n",
    "        plt.xlabel('Threshold')\n",
    "        plt.ylabel('Expected_Loss')\n",
    "        plt.title('Expected Loss of Thresholds of %s'%(model_name))\n",
    "\n",
    "        plt.savefig(\"%s_expected_loss_%s.png\"%(model_name, datetime.datetime.now().strftime(\"%m%d%H%M%S\")), dpi=300, bbox_inches='tight')\n",
    "        \n",
    "        plt.show()\n",
    "        \n",
    "        global OPT_threshold\n",
    "        OPT_threshold = opt_threshold\n",
    "        global OPT_expected_loss\n",
    "        OPT_expected_loss = opt_expected_loss\n",
    "        \n",
    "        result_df.to_csv('%s_expected_loss_%s.csv'%(model_name, datetime.datetime.now().strftime(\"%m%d%H%M%S\")), float_format='%.3f', index=True)\n",
    "        \n",
    "        return result_df"
   ]
  },
  {
   "cell_type": "code",
   "execution_count": 16,
   "metadata": {
    "colab": {
     "base_uri": "https://localhost:8080/",
     "height": 516
    },
    "executionInfo": {
     "elapsed": 4798,
     "status": "ok",
     "timestamp": 1677526463443,
     "user": {
      "displayName": "황선경",
      "userId": "17888974404389374352"
     },
     "user_tz": -540
    },
    "id": "b81884da",
    "outputId": "f7b8a92f-6c0e-4bc7-a51d-8570576c8eea",
    "scrolled": false
   },
   "outputs": [
    {
     "name": "stdout",
     "output_type": "stream",
     "text": [
      "0.11\n",
      "0.5097743464224903\n"
     ]
    },
    {
     "data": {
      "image/png": "[encoded data removed]",
      "text/plain": [
       "<Figure size 432x288 with 1 Axes>"
      ]
     },
     "metadata": {
      "needs_background": "light"
     },
     "output_type": "display_data"
    },
    {
     "data": {
      "text/html": [
       "\n",
       "  <div id=\"df-8c0cf3bd-c517-4a79-ab80-21ab43977ec1\">\n",
       "    <div class=\"colab-df-container\">\n",
       "      <div>\n",
       "<style scoped>\n",
       "    .dataframe tbody tr th:only-of-type {\n",
       "        vertical-align: middle;\n",
       "    }\n",
       "\n",
       "    .dataframe tbody tr th {\n",
       "        vertical-align: top;\n",
       "    }\n",
       "\n",
       "    .dataframe thead th {\n",
       "        text-align: right;\n",
       "    }\n",
       "</style>\n",
       "<table border=\"1\" class=\"dataframe\">\n",
       "  <thead>\n",
       "    <tr style=\"text-align: right;\">\n",
       "      <th></th>\n",
       "      <th>0.1100</th>\n",
       "      <th>0.1133</th>\n",
       "      <th>0.1167</th>\n",
       "      <th>0.1200</th>\n",
       "      <th>0.1233</th>\n",
       "      <th>0.1267</th>\n",
       "      <th>0.1300</th>\n",
       "      <th>0.1333</th>\n",
       "      <th>0.1367</th>\n",
       "      <th>0.1400</th>\n",
       "    </tr>\n",
       "  </thead>\n",
       "  <tbody>\n",
       "    <tr>\n",
       "      <th>1-TPR</th>\n",
       "      <td>0.790267</td>\n",
       "      <td>0.790267</td>\n",
       "      <td>0.790267</td>\n",
       "      <td>0.790267</td>\n",
       "      <td>0.790267</td>\n",
       "      <td>0.790267</td>\n",
       "      <td>0.790267</td>\n",
       "      <td>0.790267</td>\n",
       "      <td>0.790267</td>\n",
       "      <td>0.790267</td>\n",
       "    </tr>\n",
       "    <tr>\n",
       "      <th>FPR</th>\n",
       "      <td>0.166951</td>\n",
       "      <td>0.166951</td>\n",
       "      <td>0.166951</td>\n",
       "      <td>0.166951</td>\n",
       "      <td>0.166951</td>\n",
       "      <td>0.166951</td>\n",
       "      <td>0.166951</td>\n",
       "      <td>0.166951</td>\n",
       "      <td>0.166951</td>\n",
       "      <td>0.166951</td>\n",
       "    </tr>\n",
       "    <tr>\n",
       "      <th>w1_1-TPR</th>\n",
       "      <td>0.434647</td>\n",
       "      <td>0.434647</td>\n",
       "      <td>0.434647</td>\n",
       "      <td>0.434647</td>\n",
       "      <td>0.434647</td>\n",
       "      <td>0.434647</td>\n",
       "      <td>0.434647</td>\n",
       "      <td>0.434647</td>\n",
       "      <td>0.434647</td>\n",
       "      <td>0.434647</td>\n",
       "    </tr>\n",
       "    <tr>\n",
       "      <th>w2_FPR</th>\n",
       "      <td>0.075128</td>\n",
       "      <td>0.075128</td>\n",
       "      <td>0.075128</td>\n",
       "      <td>0.075128</td>\n",
       "      <td>0.075128</td>\n",
       "      <td>0.075128</td>\n",
       "      <td>0.075128</td>\n",
       "      <td>0.075128</td>\n",
       "      <td>0.075128</td>\n",
       "      <td>0.075128</td>\n",
       "    </tr>\n",
       "    <tr>\n",
       "      <th>Expected_loss</th>\n",
       "      <td>0.509774</td>\n",
       "      <td>0.509774</td>\n",
       "      <td>0.509774</td>\n",
       "      <td>0.509774</td>\n",
       "      <td>0.509774</td>\n",
       "      <td>0.509774</td>\n",
       "      <td>0.509774</td>\n",
       "      <td>0.509774</td>\n",
       "      <td>0.509774</td>\n",
       "      <td>0.509774</td>\n",
       "    </tr>\n",
       "  </tbody>\n",
       "</table>\n",
       "</div>\n",
       "      <button class=\"colab-df-convert\" onclick=\"convertToInteractive('df-8c0cf3bd-c517-4a79-ab80-21ab43977ec1')\"\n",
       "              title=\"Convert this dataframe to an interactive table.\"\n",
       "              style=\"display:none;\">\n",
       "        \n",
       "  <svg xmlns=\"http://www.w3.org/2000/svg\" height=\"24px\"viewBox=\"0 0 24 24\"\n",
       "       width=\"24px\">\n",
       "    <path d=\"M0 0h24v24H0V0z\" fill=\"none\"/>\n",
       "    <path d=\"M18.56 5.44l.94 2.06.94-2.06 2.06-.94-2.06-.94-.94-2.06-.94 2.06-2.06.94zm-11 1L8.5 8.5l.94-2.06 2.06-.94-2.06-.94L8.5 2.5l-.94 2.06-2.06.94zm10 10l.94 2.06.94-2.06 2.06-.94-2.06-.94-.94-2.06-.94 2.06-2.06.94z\"/><path d=\"M17.41 7.96l-1.37-1.37c-.4-.4-.92-.59-1.43-.59-.52 0-1.04.2-1.43.59L10.3 9.45l-7.72 7.72c-.78.78-.78 2.05 0 2.83L4 21.41c.39.39.9.59 1.41.59.51 0 1.02-.2 1.41-.59l7.78-7.78 2.81-2.81c.8-.78.8-2.07 0-2.86zM5.41 20L4 18.59l7.72-7.72 1.47 1.35L5.41 20z\"/>\n",
       "  </svg>\n",
       "      </button>\n",
       "      \n",
       "  <style>\n",
       "    .colab-df-container {\n",
       "      display:flex;\n",
       "      flex-wrap:wrap;\n",
       "      gap: 12px;\n",
       "    }\n",
       "\n",
       "    .colab-df-convert {\n",
       "      background-color: #E8F0FE;\n",
       "      border: none;\n",
       "      border-radius: 50%;\n",
       "      cursor: pointer;\n",
       "      display: none;\n",
       "      fill: #1967D2;\n",
       "      height: 32px;\n",
       "      padding: 0 0 0 0;\n",
       "      width: 32px;\n",
       "    }\n",
       "\n",
       "    .colab-df-convert:hover {\n",
       "      background-color: #E2EBFA;\n",
       "      box-shadow: 0px 1px 2px rgba(60, 64, 67, 0.3), 0px 1px 3px 1px rgba(60, 64, 67, 0.15);\n",
       "      fill: #174EA6;\n",
       "    }\n",
       "\n",
       "    [theme=dark] .colab-df-convert {\n",
       "      background-color: #3B4455;\n",
       "      fill: #D2E3FC;\n",
       "    }\n",
       "\n",
       "    [theme=dark] .colab-df-convert:hover {\n",
       "      background-color: #434B5C;\n",
       "      box-shadow: 0px 1px 3px 1px rgba(0, 0, 0, 0.15);\n",
       "      filter: drop-shadow(0px 1px 2px rgba(0, 0, 0, 0.3));\n",
       "      fill: #FFFFFF;\n",
       "    }\n",
       "  </style>\n",
       "\n",
       "      <script>\n",
       "        const buttonEl =\n",
       "          document.querySelector('#df-8c0cf3bd-c517-4a79-ab80-21ab43977ec1 button.colab-df-convert');\n",
       "        buttonEl.style.display =\n",
       "          google.colab.kernel.accessAllowed ? 'block' : 'none';\n",
       "\n",
       "        async function convertToInteractive(key) {\n",
       "          const element = document.querySelector('#df-8c0cf3bd-c517-4a79-ab80-21ab43977ec1');\n",
       "          const dataTable =\n",
       "            await google.colab.kernel.invokeFunction('convertToInteractive',\n",
       "                                                     [key], {});\n",
       "          if (!dataTable) return;\n",
       "\n",
       "          const docLinkHtml = 'Like what you see? Visit the ' +\n",
       "            '<a target=\"_blank\" href=https://colab.research.google.com/notebooks/data_table.ipynb>data table notebook</a>'\n",
       "            + ' to learn more about interactive tables.';\n",
       "          element.innerHTML = '';\n",
       "          dataTable['output_type'] = 'display_data';\n",
       "          await google.colab.output.renderOutput(dataTable, element);\n",
       "          const docLink = document.createElement('div');\n",
       "          docLink.innerHTML = docLinkHtml;\n",
       "          element.appendChild(docLink);\n",
       "        }\n",
       "      </script>\n",
       "    </div>\n",
       "  </div>\n",
       "  "
      ],
      "text/plain": [
       "                 0.1100    0.1133    0.1167    0.1200    0.1233    0.1267  \\\n",
       "1-TPR          0.790267  0.790267  0.790267  0.790267  0.790267  0.790267   \n",
       "FPR            0.166951  0.166951  0.166951  0.166951  0.166951  0.166951   \n",
       "w1_1-TPR       0.434647  0.434647  0.434647  0.434647  0.434647  0.434647   \n",
       "w2_FPR         0.075128  0.075128  0.075128  0.075128  0.075128  0.075128   \n",
       "Expected_loss  0.509774  0.509774  0.509774  0.509774  0.509774  0.509774   \n",
       "\n",
       "                 0.1300    0.1333    0.1367    0.1400  \n",
       "1-TPR          0.790267  0.790267  0.790267  0.790267  \n",
       "FPR            0.166951  0.166951  0.166951  0.166951  \n",
       "w1_1-TPR       0.434647  0.434647  0.434647  0.434647  \n",
       "w2_FPR         0.075128  0.075128  0.075128  0.075128  \n",
       "Expected_loss  0.509774  0.509774  0.509774  0.509774  "
      ]
     },
     "execution_count": 16,
     "metadata": {},
     "output_type": "execute_result"
    }
   ],
   "source": [
    "objective_func(y_val_pred_proba, threshold_list)\n",
    "\n",
    "# 더 세밀한 범위에서 optimal threshold를 잡고싶으면 한 번 더 다시 실행"
   ]
  },
  {
   "cell_type": "code",
   "execution_count": 17,
   "metadata": {
    "colab": {
     "base_uri": "https://localhost:8080/"
    },
    "executionInfo": {
     "elapsed": 5,
     "status": "ok",
     "timestamp": 1677526463443,
     "user": {
      "displayName": "황선경",
      "userId": "17888974404389374352"
     },
     "user_tz": -540
    },
    "id": "6fdA_X6KMRAy",
    "outputId": "1a50de68-66d1-4dd1-b917-f9237ba81db5"
   },
   "outputs": [
    {
     "data": {
      "text/plain": [
       "0.11"
      ]
     },
     "execution_count": 17,
     "metadata": {},
     "output_type": "execute_result"
    }
   ],
   "source": [
    "OPT_threshold"
   ]
  },
  {
   "cell_type": "markdown",
   "metadata": {
    "id": "192146f2"
   },
   "source": [
    "histogram에 optimal threshold 표시"
   ]
  },
  {
   "cell_type": "code",
   "execution_count": 18,
   "metadata": {
    "colab": {
     "base_uri": "https://localhost:8080/",
     "height": 296
    },
    "executionInfo": {
     "elapsed": 1029,
     "status": "ok",
     "timestamp": 1677526468277,
     "user": {
      "displayName": "황선경",
      "userId": "17888974404389374352"
     },
     "user_tz": -540
    },
    "id": "7487f311",
    "outputId": "c047fbc8-717e-48e7-c0d4-7d5572146fae"
   },
   "outputs": [
    {
     "data": {
      "image/png": "[encoded data removed]",
      "text/plain": [
       "<Figure size 432x288 with 1 Axes>"
      ]
     },
     "metadata": {
      "needs_background": "light"
     },
     "output_type": "display_data"
    }
   ],
   "source": [
    "plt.hist(y_val_pred_proba[:,1], bins=100)\n",
    "\n",
    "plt.axvline(x=OPT_threshold, color='navy', linewidth=5, label='Optimal Threshold')\n",
    "\n",
    "plt.xlabel('y_val_pred_proba')\n",
    "plt.ylabel('Frequency')\n",
    "plt.title('Optimal Threshold of %s'%(model_name))\n",
    "plt.legend()\n",
    "\n",
    "plt.savefig(\"%s_opt_threshold_%s.png\"%(model_name, datetime.datetime.now().strftime(\"%m%d%H%M%S\")), dpi=300, bbox_inches='tight')\n",
    "\n",
    "plt.show() # y_val_pred_proba의 분포 확인"
   ]
  },
  {
   "cell_type": "markdown",
   "metadata": {
    "id": "uZLiDcmKMa3F"
   },
   "source": [
    "# Test "
   ]
  },
  {
   "cell_type": "markdown",
   "metadata": {
    "id": "IHeeYKObMa3F"
   },
   "source": [
    "### X_test fitting"
   ]
  },
  {
   "cell_type": "code",
   "execution_count": null,
   "metadata": {
    "colab": {
     "base_uri": "https://localhost:8080/",
     "height": 579
    },
    "executionInfo": {
     "elapsed": 790,
     "status": "error",
     "timestamp": 1677524694733,
     "user": {
      "displayName": "황선경",
      "userId": "17888974404389374352"
     },
     "user_tz": -540
    },
    "id": "d-Ka2y_CMa3G",
    "outputId": "3d84c032-932d-4448-d039-190b01d9a1ef"
   },
   "outputs": [
    {
     "ename": "NameError",
     "evalue": "ignored",
     "output_type": "error",
     "traceback": [
      "\u001b[0;31m---------------------------------------------------------------------------\u001b[0m",
      "\u001b[0;31mNameError\u001b[0m                                 Traceback (most recent call last)",
      "\u001b[0;32m<ipython-input-22-ba348b2fd9f8>\u001b[0m in \u001b[0;36m<module>\u001b[0;34m\u001b[0m\n\u001b[1;32m      7\u001b[0m \u001b[0mplt\u001b[0m\u001b[0;34m.\u001b[0m\u001b[0mylabel\u001b[0m\u001b[0;34m(\u001b[0m\u001b[0;34m'Frequency'\u001b[0m\u001b[0;34m)\u001b[0m\u001b[0;34m\u001b[0m\u001b[0;34m\u001b[0m\u001b[0m\n\u001b[1;32m      8\u001b[0m \u001b[0mplt\u001b[0m\u001b[0;34m.\u001b[0m\u001b[0mtitle\u001b[0m\u001b[0;34m(\u001b[0m\u001b[0;34m'Frequency of y_test_pred_proba of %s'\u001b[0m\u001b[0;34m%\u001b[0m\u001b[0;34m(\u001b[0m\u001b[0mmodel_name\u001b[0m\u001b[0;34m)\u001b[0m\u001b[0;34m)\u001b[0m\u001b[0;34m\u001b[0m\u001b[0;34m\u001b[0m\u001b[0m\n\u001b[0;32m----> 9\u001b[0;31m \u001b[0mD\u001b[0m\u001b[0;34m\u001b[0m\u001b[0;34m\u001b[0m\u001b[0m\n\u001b[0m\u001b[1;32m     10\u001b[0m \u001b[0mplt\u001b[0m\u001b[0;34m.\u001b[0m\u001b[0msavefig\u001b[0m\u001b[0;34m(\u001b[0m\u001b[0;34m\"%s_test_pre_proba_%s.png\"\u001b[0m\u001b[0;34m%\u001b[0m\u001b[0;34m(\u001b[0m\u001b[0mmodel_name\u001b[0m\u001b[0;34m,\u001b[0m \u001b[0mdatetime\u001b[0m\u001b[0;34m.\u001b[0m\u001b[0mdatetime\u001b[0m\u001b[0;34m.\u001b[0m\u001b[0mnow\u001b[0m\u001b[0;34m(\u001b[0m\u001b[0;34m)\u001b[0m\u001b[0;34m.\u001b[0m\u001b[0mstrftime\u001b[0m\u001b[0;34m(\u001b[0m\u001b[0;34m\"%m%d%H%M%S\"\u001b[0m\u001b[0;34m)\u001b[0m\u001b[0;34m)\u001b[0m\u001b[0;34m,\u001b[0m \u001b[0mdpi\u001b[0m\u001b[0;34m=\u001b[0m\u001b[0;36m300\u001b[0m\u001b[0;34m,\u001b[0m \u001b[0mbbox_inches\u001b[0m\u001b[0;34m=\u001b[0m\u001b[0;34m'tight'\u001b[0m\u001b[0;34m)\u001b[0m\u001b[0;34m\u001b[0m\u001b[0;34m\u001b[0m\u001b[0m\n\u001b[1;32m     11\u001b[0m \u001b[0;34m\u001b[0m\u001b[0m\n",
      "\u001b[0;31mNameError\u001b[0m: name 'D' is not defined"
     ]
    },
    {
     "data": {
      "image/png": "[encoded data removed]",
      "text/plain": [
       "<Figure size 432x288 with 1 Axes>"
      ]
     },
     "metadata": {},
     "output_type": "display_data"
    }
   ],
   "source": [
    "# Predict probabilities for new data\n",
    "y_test_pred_proba = dt_clf.predict_proba(X_test) # 확률로 추정된 X_test의 y_pred\n",
    "\n",
    "plt.hist(y_test_pred_proba[:,1], bins=100)\n",
    "\n",
    "plt.xlabel('y_test_pred_proba')\n",
    "plt.ylabel('Frequency')\n",
    "plt.title('Frequency of y_test_pred_proba of %s'%(model_name))\n",
    "D\n",
    "plt.savefig(\"%s_test_pre_proba_%s.png\"%(model_name, datetime.datetime.now().strftime(\"%m%d%H%M%S\")), dpi=300, bbox_inches='tight')\n",
    "\n",
    "plt.show() # y_test_pred_proba의 분포 확인"
   ]
  },
  {
   "cell_type": "markdown",
   "metadata": {
    "id": "sY7XQYzVMa3G"
   },
   "source": [
    "### 0, 1 count / confusion_matrix / accuracy, precision, recall, f1 score "
   ]
  },
  {
   "cell_type": "code",
   "execution_count": null,
   "metadata": {
    "id": "Iv1Bzx9gMa3H"
   },
   "outputs": [],
   "source": [
    "def test_func(y_test, y_pred_proba, opt_threshold):\n",
    "        \n",
    "    # make Binarizer(y hat)\n",
    "    binarizer = Binarizer(threshold = opt_threshold).fit(y_pred_proba[:,1].reshape(-1,1))\n",
    "    custom_predict = binarizer.transform(y_pred_proba[:,1].reshape(-1,1))\n",
    "\n",
    "    # count 0, 1 in Binarizer(y hat)\n",
    "    unique, counts = np.unique(custom_predict, return_counts=True)\n",
    "\n",
    "    for val, count in zip(unique, counts):\n",
    "        if len(unique) == 1:\n",
    "            if val == 1.0:\n",
    "                num_0_pred = count\n",
    "                num_1_pred = 0\n",
    "            elif val == 0.0:\n",
    "                num_1_pred = count\n",
    "                num_0_pred = 0\n",
    "        if val == 1.0:\n",
    "            num_0_pred = count\n",
    "        elif val == 0.0:\n",
    "            num_1_pred = count\n",
    "\n",
    "    # count 0, 1 in y hat\n",
    "    num_1_real = y_test.value_counts()[0]\n",
    "    num_0_real = y_test.value_counts()[1]\n",
    "\n",
    "    tn, fp, fn, tp = confusion_matrix(y_test, custom_predict).ravel()\n",
    "    count = [tn, fp, fn, tp]\n",
    "    tn_, fp_, fn_, tp_ = [round(x/sum(count)*100, 1) for x in count]\n",
    "\n",
    "    accuracy = round((tp+tn)/(tp+tn+fp+fn),4)\n",
    "    precision = round(tp/(tp+fp),4)\n",
    "    recall = round(tp/(tp+fn),4)\n",
    "    f1 = round(2*(precision*recall)/(precision+recall),4)\n",
    "    \n",
    "    result_df = pd.DataFrame(index=['1_real','1_pred','0_real','0_pred','tn', 'fp', 'fn', 'tp', 'tn_%', 'fp_%', 'fn_%', 'tp_%', 'Accuracy', 'Precision', 'Recall', 'F1 score'])\n",
    "\n",
    "    result_df['result'] = [num_1_real, num_1_pred, num_0_real, num_0_pred, tn, fp, fn, tp, tn_, fp_, fn_, tp_, accuracy, precision, recall, f1]\n",
    "\n",
    "    labels = ['TN','FP','FN','TP']\n",
    "\n",
    "\n",
    "    # 혼동 행렬 시각화\n",
    "    labels = ['Positive', 'Negative']\n",
    "    cm = [[tp, fn], [fp, tn]]\n",
    "\n",
    "    ax = plt.subplot()\n",
    "    sns.heatmap(cm, annot=True, ax=ax, fmt='g', cmap='Blues')\n",
    "    ax.set_xlabel('Predicted Class')\n",
    "    ax.set_ylabel('Acutual Class')\n",
    "    ax.set_xticklabels(labels)\n",
    "    ax.set_yticklabels(labels)\n",
    "    ax.set_title('%s Confusion Matrix'%(model_name))\n",
    "    \n",
    "    ax.text(0.45, 1.40, 'FP', fontsize=12, color='red')\n",
    "    ax.text(1.45, 1.40, 'TN', fontsize=12, color='red')\n",
    "    ax.text(0.45, 0.40, 'TP', fontsize=12, color='red')\n",
    "    ax.text(1.45, 0.40, 'FN', fontsize=12, color='red')\n",
    "    \n",
    "    plt.savefig(\"%s_Confusion_Matrix_%s.png\"%(model_name, datetime.datetime.now().strftime(\"%m%d%H%M%S\")), dpi=300, bbox_inches='tight')\n",
    "    plt.show()\n",
    "    \n",
    "    result_df.T.to_csv('%s_test.csv'%(model_name), index=True)\n",
    "\n",
    "    return result_df.T"
   ]
  },
  {
   "cell_type": "code",
   "execution_count": null,
   "metadata": {
    "colab": {
     "base_uri": "https://localhost:8080/",
     "height": 439
    },
    "executionInfo": {
     "elapsed": 1812,
     "status": "ok",
     "timestamp": 1677524706170,
     "user": {
      "displayName": "황선경",
      "userId": "17888974404389374352"
     },
     "user_tz": -540
    },
    "id": "KLv6EHjBMa3I",
    "outputId": "c252b2bf-3442-4c25-bb72-0d74cea605d4",
    "scrolled": true
   },
   "outputs": [
    {
     "data": {
      "image/png": "[encoded data removed]",
      "text/plain": [
       "<Figure size 432x288 with 2 Axes>"
      ]
     },
     "metadata": {},
     "output_type": "display_data"
    },
    {
     "data": {
      "text/html": [
       "\n",
       "  <div id=\"df-4260a16f-725f-46c6-8e08-93fd5266a984\">\n",
       "    <div class=\"colab-df-container\">\n",
       "      <div>\n",
       "<style scoped>\n",
       "    .dataframe tbody tr th:only-of-type {\n",
       "        vertical-align: middle;\n",
       "    }\n",
       "\n",
       "    .dataframe tbody tr th {\n",
       "        vertical-align: top;\n",
       "    }\n",
       "\n",
       "    .dataframe thead th {\n",
       "        text-align: right;\n",
       "    }\n",
       "</style>\n",
       "<table border=\"1\" class=\"dataframe\">\n",
       "  <thead>\n",
       "    <tr style=\"text-align: right;\">\n",
       "      <th></th>\n",
       "      <th>1_real</th>\n",
       "      <th>1_pred</th>\n",
       "      <th>0_real</th>\n",
       "      <th>0_pred</th>\n",
       "      <th>tn</th>\n",
       "      <th>fp</th>\n",
       "      <th>fn</th>\n",
       "      <th>tp</th>\n",
       "      <th>tn_%</th>\n",
       "      <th>fp_%</th>\n",
       "      <th>fn_%</th>\n",
       "      <th>tp_%</th>\n",
       "      <th>Accuracy</th>\n",
       "      <th>Precision</th>\n",
       "      <th>Recall</th>\n",
       "      <th>F1 score</th>\n",
       "    </tr>\n",
       "  </thead>\n",
       "  <tbody>\n",
       "    <tr>\n",
       "      <th>result</th>\n",
       "      <td>150303.0</td>\n",
       "      <td>148181.0</td>\n",
       "      <td>29075.0</td>\n",
       "      <td>31197.0</td>\n",
       "      <td>125204.0</td>\n",
       "      <td>25099.0</td>\n",
       "      <td>22977.0</td>\n",
       "      <td>6098.0</td>\n",
       "      <td>69.8</td>\n",
       "      <td>14.0</td>\n",
       "      <td>12.8</td>\n",
       "      <td>3.4</td>\n",
       "      <td>0.732</td>\n",
       "      <td>0.1955</td>\n",
       "      <td>0.2097</td>\n",
       "      <td>0.2024</td>\n",
       "    </tr>\n",
       "  </tbody>\n",
       "</table>\n",
       "</div>\n",
       "      <button class=\"colab-df-convert\" onclick=\"convertToInteractive('df-4260a16f-725f-46c6-8e08-93fd5266a984')\"\n",
       "              title=\"Convert this dataframe to an interactive table.\"\n",
       "              style=\"display:none;\">\n",
       "        \n",
       "  <svg xmlns=\"http://www.w3.org/2000/svg\" height=\"24px\"viewBox=\"0 0 24 24\"\n",
       "       width=\"24px\">\n",
       "    <path d=\"M0 0h24v24H0V0z\" fill=\"none\"/>\n",
       "    <path d=\"M18.56 5.44l.94 2.06.94-2.06 2.06-.94-2.06-.94-.94-2.06-.94 2.06-2.06.94zm-11 1L8.5 8.5l.94-2.06 2.06-.94-2.06-.94L8.5 2.5l-.94 2.06-2.06.94zm10 10l.94 2.06.94-2.06 2.06-.94-2.06-.94-.94-2.06-.94 2.06-2.06.94z\"/><path d=\"M17.41 7.96l-1.37-1.37c-.4-.4-.92-.59-1.43-.59-.52 0-1.04.2-1.43.59L10.3 9.45l-7.72 7.72c-.78.78-.78 2.05 0 2.83L4 21.41c.39.39.9.59 1.41.59.51 0 1.02-.2 1.41-.59l7.78-7.78 2.81-2.81c.8-.78.8-2.07 0-2.86zM5.41 20L4 18.59l7.72-7.72 1.47 1.35L5.41 20z\"/>\n",
       "  </svg>\n",
       "      </button>\n",
       "      \n",
       "  <style>\n",
       "    .colab-df-container {\n",
       "      display:flex;\n",
       "      flex-wrap:wrap;\n",
       "      gap: 12px;\n",
       "    }\n",
       "\n",
       "    .colab-df-convert {\n",
       "      background-color: #E8F0FE;\n",
       "      border: none;\n",
       "      border-radius: 50%;\n",
       "      cursor: pointer;\n",
       "      display: none;\n",
       "      fill: #1967D2;\n",
       "      height: 32px;\n",
       "      padding: 0 0 0 0;\n",
       "      width: 32px;\n",
       "    }\n",
       "\n",
       "    .colab-df-convert:hover {\n",
       "      background-color: #E2EBFA;\n",
       "      box-shadow: 0px 1px 2px rgba(60, 64, 67, 0.3), 0px 1px 3px 1px rgba(60, 64, 67, 0.15);\n",
       "      fill: #174EA6;\n",
       "    }\n",
       "\n",
       "    [theme=dark] .colab-df-convert {\n",
       "      background-color: #3B4455;\n",
       "      fill: #D2E3FC;\n",
       "    }\n",
       "\n",
       "    [theme=dark] .colab-df-convert:hover {\n",
       "      background-color: #434B5C;\n",
       "      box-shadow: 0px 1px 3px 1px rgba(0, 0, 0, 0.15);\n",
       "      filter: drop-shadow(0px 1px 2px rgba(0, 0, 0, 0.3));\n",
       "      fill: #FFFFFF;\n",
       "    }\n",
       "  </style>\n",
       "\n",
       "      <script>\n",
       "        const buttonEl =\n",
       "          document.querySelector('#df-4260a16f-725f-46c6-8e08-93fd5266a984 button.colab-df-convert');\n",
       "        buttonEl.style.display =\n",
       "          google.colab.kernel.accessAllowed ? 'block' : 'none';\n",
       "\n",
       "        async function convertToInteractive(key) {\n",
       "          const element = document.querySelector('#df-4260a16f-725f-46c6-8e08-93fd5266a984');\n",
       "          const dataTable =\n",
       "            await google.colab.kernel.invokeFunction('convertToInteractive',\n",
       "                                                     [key], {});\n",
       "          if (!dataTable) return;\n",
       "\n",
       "          const docLinkHtml = 'Like what you see? Visit the ' +\n",
       "            '<a target=\"_blank\" href=https://colab.research.google.com/notebooks/data_table.ipynb>data table notebook</a>'\n",
       "            + ' to learn more about interactive tables.';\n",
       "          element.innerHTML = '';\n",
       "          dataTable['output_type'] = 'display_data';\n",
       "          await google.colab.output.renderOutput(dataTable, element);\n",
       "          const docLink = document.createElement('div');\n",
       "          docLink.innerHTML = docLinkHtml;\n",
       "          element.appendChild(docLink);\n",
       "        }\n",
       "      </script>\n",
       "    </div>\n",
       "  </div>\n",
       "  "
      ],
      "text/plain": [
       "          1_real    1_pred   0_real   0_pred        tn       fp       fn  \\\n",
       "result  150303.0  148181.0  29075.0  31197.0  125204.0  25099.0  22977.0   \n",
       "\n",
       "            tp  tn_%  fp_%  fn_%  tp_%  Accuracy  Precision  Recall  F1 score  \n",
       "result  6098.0  69.8  14.0  12.8   3.4     0.732     0.1955  0.2097    0.2024  "
      ]
     },
     "execution_count": 24,
     "metadata": {},
     "output_type": "execute_result"
    }
   ],
   "source": [
    "test_func(y_test, y_test_pred_proba, OPT_threshold)"
   ]
  },
  {
   "cell_type": "markdown",
   "metadata": {
    "id": "3a38f1e8"
   },
   "source": [
    "### Objective Function"
   ]
  },
  {
   "cell_type": "code",
   "execution_count": null,
   "metadata": {
    "id": "d276de91"
   },
   "outputs": [],
   "source": [
    "def test_objective_func(y_test, y_pred_proba, threshold):\n",
    "    \n",
    "        result_df = pd.DataFrame(index=['1-TPR','FPR','w1_1-TPR','w2_FPR','Expected_loss'])\n",
    "            \n",
    "        # make Binarizer(y hat)\n",
    "        binarizer = Binarizer(threshold = threshold).fit(y_pred_proba[:,1].reshape(-1,1))\n",
    "        custom_predict = binarizer.transform(y_pred_proba[:,1].reshape(-1,1))\n",
    "\n",
    "        tn, fp, fn, tp = confusion_matrix(y_test, custom_predict).ravel()\n",
    "        count = [tn, fp, fn, tp]\n",
    "\n",
    "        tpr_1 = fn / (fn + tp)\n",
    "        fpr = fp / (fp + tn)\n",
    "        w1 = 0.55\n",
    "        w2 = 0.45\n",
    "\n",
    "        expected_loss = w1 * tpr_1 + w2 * fpr\n",
    "\n",
    "        result_df[threshold] = [tpr_1, fpr, w1*tpr_1, w2*fpr, expected_loss]\n",
    "\n",
    "        print(expected_loss)\n",
    "        \n",
    "        result_df.T.to_csv('%s_test_expected_loss_%s.csv'%(model_name, datetime.datetime.now().strftime(\"%m%d%H%M%S\")), float_format='%.6f', index=True)\n",
    "        \n",
    "        return result_df"
   ]
  },
  {
   "cell_type": "code",
   "execution_count": null,
   "metadata": {
    "colab": {
     "base_uri": "https://localhost:8080/",
     "height": 221
    },
    "executionInfo": {
     "elapsed": 13,
     "status": "ok",
     "timestamp": 1677524716999,
     "user": {
      "displayName": "황선경",
      "userId": "17888974404389374352"
     },
     "user_tz": -540
    },
    "id": "03b0c322",
    "outputId": "c728bb44-b377-4311-cdec-65dce077a51d"
   },
   "outputs": [
    {
     "name": "stdout",
     "output_type": "stream",
     "text": [
      "0.5097918102938515\n"
     ]
    },
    {
     "data": {
      "text/html": [
       "\n",
       "  <div id=\"df-9b0f2e28-db93-4e0e-8da3-2f6883fee444\">\n",
       "    <div class=\"colab-df-container\">\n",
       "      <div>\n",
       "<style scoped>\n",
       "    .dataframe tbody tr th:only-of-type {\n",
       "        vertical-align: middle;\n",
       "    }\n",
       "\n",
       "    .dataframe tbody tr th {\n",
       "        vertical-align: top;\n",
       "    }\n",
       "\n",
       "    .dataframe thead th {\n",
       "        text-align: right;\n",
       "    }\n",
       "</style>\n",
       "<table border=\"1\" class=\"dataframe\">\n",
       "  <thead>\n",
       "    <tr style=\"text-align: right;\">\n",
       "      <th></th>\n",
       "      <th>0.11</th>\n",
       "    </tr>\n",
       "  </thead>\n",
       "  <tbody>\n",
       "    <tr>\n",
       "      <th>1-TPR</th>\n",
       "      <td>0.790267</td>\n",
       "    </tr>\n",
       "    <tr>\n",
       "      <th>FPR</th>\n",
       "      <td>0.166989</td>\n",
       "    </tr>\n",
       "    <tr>\n",
       "      <th>w1_1-TPR</th>\n",
       "      <td>0.434647</td>\n",
       "    </tr>\n",
       "    <tr>\n",
       "      <th>w2_FPR</th>\n",
       "      <td>0.075145</td>\n",
       "    </tr>\n",
       "    <tr>\n",
       "      <th>Expected_loss</th>\n",
       "      <td>0.509792</td>\n",
       "    </tr>\n",
       "  </tbody>\n",
       "</table>\n",
       "</div>\n",
       "      <button class=\"colab-df-convert\" onclick=\"convertToInteractive('df-9b0f2e28-db93-4e0e-8da3-2f6883fee444')\"\n",
       "              title=\"Convert this dataframe to an interactive table.\"\n",
       "              style=\"display:none;\">\n",
       "        \n",
       "  <svg xmlns=\"http://www.w3.org/2000/svg\" height=\"24px\"viewBox=\"0 0 24 24\"\n",
       "       width=\"24px\">\n",
       "    <path d=\"M0 0h24v24H0V0z\" fill=\"none\"/>\n",
       "    <path d=\"M18.56 5.44l.94 2.06.94-2.06 2.06-.94-2.06-.94-.94-2.06-.94 2.06-2.06.94zm-11 1L8.5 8.5l.94-2.06 2.06-.94-2.06-.94L8.5 2.5l-.94 2.06-2.06.94zm10 10l.94 2.06.94-2.06 2.06-.94-2.06-.94-.94-2.06-.94 2.06-2.06.94z\"/><path d=\"M17.41 7.96l-1.37-1.37c-.4-.4-.92-.59-1.43-.59-.52 0-1.04.2-1.43.59L10.3 9.45l-7.72 7.72c-.78.78-.78 2.05 0 2.83L4 21.41c.39.39.9.59 1.41.59.51 0 1.02-.2 1.41-.59l7.78-7.78 2.81-2.81c.8-.78.8-2.07 0-2.86zM5.41 20L4 18.59l7.72-7.72 1.47 1.35L5.41 20z\"/>\n",
       "  </svg>\n",
       "      </button>\n",
       "      \n",
       "  <style>\n",
       "    .colab-df-container {\n",
       "      display:flex;\n",
       "      flex-wrap:wrap;\n",
       "      gap: 12px;\n",
       "    }\n",
       "\n",
       "    .colab-df-convert {\n",
       "      background-color: #E8F0FE;\n",
       "      border: none;\n",
       "      border-radius: 50%;\n",
       "      cursor: pointer;\n",
       "      display: none;\n",
       "      fill: #1967D2;\n",
       "      height: 32px;\n",
       "      padding: 0 0 0 0;\n",
       "      width: 32px;\n",
       "    }\n",
       "\n",
       "    .colab-df-convert:hover {\n",
       "      background-color: #E2EBFA;\n",
       "      box-shadow: 0px 1px 2px rgba(60, 64, 67, 0.3), 0px 1px 3px 1px rgba(60, 64, 67, 0.15);\n",
       "      fill: #174EA6;\n",
       "    }\n",
       "\n",
       "    [theme=dark] .colab-df-convert {\n",
       "      background-color: #3B4455;\n",
       "      fill: #D2E3FC;\n",
       "    }\n",
       "\n",
       "    [theme=dark] .colab-df-convert:hover {\n",
       "      background-color: #434B5C;\n",
       "      box-shadow: 0px 1px 3px 1px rgba(0, 0, 0, 0.15);\n",
       "      filter: drop-shadow(0px 1px 2px rgba(0, 0, 0, 0.3));\n",
       "      fill: #FFFFFF;\n",
       "    }\n",
       "  </style>\n",
       "\n",
       "      <script>\n",
       "        const buttonEl =\n",
       "          document.querySelector('#df-9b0f2e28-db93-4e0e-8da3-2f6883fee444 button.colab-df-convert');\n",
       "        buttonEl.style.display =\n",
       "          google.colab.kernel.accessAllowed ? 'block' : 'none';\n",
       "\n",
       "        async function convertToInteractive(key) {\n",
       "          const element = document.querySelector('#df-9b0f2e28-db93-4e0e-8da3-2f6883fee444');\n",
       "          const dataTable =\n",
       "            await google.colab.kernel.invokeFunction('convertToInteractive',\n",
       "                                                     [key], {});\n",
       "          if (!dataTable) return;\n",
       "\n",
       "          const docLinkHtml = 'Like what you see? Visit the ' +\n",
       "            '<a target=\"_blank\" href=https://colab.research.google.com/notebooks/data_table.ipynb>data table notebook</a>'\n",
       "            + ' to learn more about interactive tables.';\n",
       "          element.innerHTML = '';\n",
       "          dataTable['output_type'] = 'display_data';\n",
       "          await google.colab.output.renderOutput(dataTable, element);\n",
       "          const docLink = document.createElement('div');\n",
       "          docLink.innerHTML = docLinkHtml;\n",
       "          element.appendChild(docLink);\n",
       "        }\n",
       "      </script>\n",
       "    </div>\n",
       "  </div>\n",
       "  "
      ],
      "text/plain": [
       "                   0.11\n",
       "1-TPR          0.790267\n",
       "FPR            0.166989\n",
       "w1_1-TPR       0.434647\n",
       "w2_FPR         0.075145\n",
       "Expected_loss  0.509792"
      ]
     },
     "execution_count": 26,
     "metadata": {},
     "output_type": "execute_result"
    }
   ],
   "source": [
    "test_objective_func(y_test, y_test_pred_proba, OPT_threshold)"
   ]
  },
  {
   "cell_type": "markdown",
   "metadata": {
    "id": "f52-5WkyMa3J"
   },
   "source": [
    "### ROC curve\n",
    "\n",
    "거짓 양성 비율(FPR, 1-TNR:1-특이도)에 대한 진짜 양성 비율(TPR, 재현율)의 곡선\n",
    "\n",
    "정밀도: positive로 예측한 것 중에 진짜 positive인 것 -> 양성 예측도\n",
    "\n",
    "재현율: 실제 positive 중에 맞춘 것 -> 민감도"
   ]
  },
  {
   "cell_type": "code",
   "execution_count": null,
   "metadata": {
    "colab": {
     "base_uri": "https://localhost:8080/",
     "height": 295
    },
    "executionInfo": {
     "elapsed": 747,
     "status": "ok",
     "timestamp": 1677524726071,
     "user": {
      "displayName": "황선경",
      "userId": "17888974404389374352"
     },
     "user_tz": -540
    },
    "id": "Dr4b8afLMa3J",
    "outputId": "f3d60927-7b38-4450-b41a-a3fa4e9f7069"
   },
   "outputs": [
    {
     "data": {
      "image/png": "[encoded data removed]",
      "text/plain": [
       "<Figure size 432x288 with 1 Axes>"
      ]
     },
     "metadata": {},
     "output_type": "display_data"
    }
   ],
   "source": [
    "# Generate ROC curve and AUC score for the test set\n",
    "fpr, tpr, thresholds = roc_curve(y_test, y_test_pred_proba[:,1])\n",
    "roc_auc = auc(fpr, tpr)\n",
    "\n",
    "# Plot the ROC curve\n",
    "plt.plot(fpr, tpr, lw=1, label='ROC (AUC = %0.2f)' % roc_auc)\n",
    "plt.plot([0, 1], [0, 1], '--', color='gray', lw=1, label='Random')\n",
    "plt.xlim([0, 1])\n",
    "plt.ylim([0, 1])\n",
    "plt.xlabel('False Positive Rate')\n",
    "plt.ylabel('True Positive Rate')\n",
    "plt.title('%s_ROC_curve'%(model_name))\n",
    "plt.legend(loc='lower right')\n",
    "\n",
    "plt.savefig(\"%s_ROC_curve_%s.png\"%(model_name, datetime.datetime.now().strftime(\"%m%d%H%M%S\")), dpi=300, bbox_inches='tight')\n",
    "plt.show()"
   ]
  },
  {
   "cell_type": "code",
   "execution_count": null,
   "metadata": {
    "id": "93a14933"
   },
   "outputs": [],
   "source": []
  },
  {
   "cell_type": "code",
   "execution_count": 19,
   "metadata": {
    "executionInfo": {
     "elapsed": 26702,
     "status": "ok",
     "timestamp": 1677526510697,
     "user": {
      "displayName": "황선경",
      "userId": "17888974404389374352"
     },
     "user_tz": -540
    },
    "id": "hQAulXSy6by8"
   },
   "outputs": [],
   "source": [
    "from sklearn.tree import export_graphviz\n",
    "\n",
    "export_graphviz(dt_clf, out_file=\"tree.dot\", class_names=['0','1'], feature_names=X_train.columns, impurity=True, filled=True)"
   ]
  },
  {
   "cell_type": "code",
   "execution_count": null,
   "metadata": {
    "id": "5juZSdK68Nra"
   },
   "outputs": [],
   "source": [
    "import graphviz\n",
    "with open(\"tree.dot\") as f:\n",
    "  dot_graph = f.read()\n",
    "graphviz.Source(dot_graph)"
   ]
  },
  {
   "cell_type": "code",
   "execution_count": null,
   "metadata": {
    "id": "ZqWYBgm6TmRL"
   },
   "outputs": [],
   "source": [
    "graph = graphviz.Source(dot_graph)\n",
    "graph.render(filename='under', directory='./', format='png')"
   ]
  },
  {
   "cell_type": "markdown",
   "metadata": {
    "id": "72515814"
   },
   "source": [
    "# Test "
   ]
  },
  {
   "cell_type": "markdown",
   "metadata": {
    "id": "8dac11d1"
   },
   "source": [
    "### X_test fitting"
   ]
  },
  {
   "cell_type": "code",
   "execution_count": null,
   "metadata": {
    "colab": {
     "base_uri": "https://localhost:8080/",
     "height": 265
    },
    "executionInfo": {
     "elapsed": 1086,
     "status": "ok",
     "timestamp": 1677490118177,
     "user": {
      "displayName": "황선경",
      "userId": "17888974404389374352"
     },
     "user_tz": -540
    },
    "id": "50601421",
    "outputId": "6a285389-5c02-4c4a-9034-eb35403e2b95"
   },
   "outputs": [
    {
     "data": {
      "image/png": "[encoded data removed]",
      "text/plain": [
       "<Figure size 432x288 with 1 Axes>"
      ]
     },
     "metadata": {},
     "output_type": "display_data"
    }
   ],
   "source": [
    "# Predict probabilities for new data\n",
    "y_test_pred_proba = best_estimator.predict_proba(X_test) # 확률로 추정된 X_test의 y_pred\n",
    "\n",
    "plt.hist(y_test_pred_proba[:,1], bins=100)\n",
    "plt.show() # y_test_pred_proba의 분포 확인"
   ]
  },
  {
   "cell_type": "markdown",
   "metadata": {
    "id": "2533ecd6"
   },
   "source": [
    "### 0, 1 count / confusion_matrix / accuracy, precision, recall, f1 score "
   ]
  },
  {
   "cell_type": "code",
   "execution_count": null,
   "metadata": {
    "id": "20437934"
   },
   "outputs": [],
   "source": [
    "def test_func(y_test, y_pred_proba, opt_threshold):\n",
    "        \n",
    "    # make Binarizer(y hat)\n",
    "    binarizer = Binarizer(threshold = opt_threshold).fit(y_pred_proba[:,1].reshape(-1,1))\n",
    "    custom_predict = binarizer.transform(y_pred_proba[:,1].reshape(-1,1))\n",
    "\n",
    "    # count 0, 1 in Binarizer(y hat)\n",
    "    unique, counts = np.unique(custom_predict, return_counts=True)\n",
    "\n",
    "    for val, count in zip(unique, counts):\n",
    "        if len(unique) == 1:\n",
    "            if val == 1.0:\n",
    "                num_0_pred = count\n",
    "                num_1_pred = 0\n",
    "            elif val == 0.0:\n",
    "                num_1_pred = count\n",
    "                num_0_pred = 0\n",
    "        if val == 1.0:\n",
    "            num_0_pred = count\n",
    "        elif val == 0.0:\n",
    "            num_1_pred = count\n",
    "\n",
    "    # count 0, 1 in y hat\n",
    "    num_1_real = y_test.value_counts()[0]\n",
    "    num_0_real = y_test.value_counts()[1]\n",
    "\n",
    "    tn, fp, fn, tp = confusion_matrix(y_test, custom_predict).ravel()\n",
    "    count = [tn, fp, fn, tp]\n",
    "    tn_, fp_, fn_, tp_ = [round(x/sum(count)*100, 1) for x in count]\n",
    "\n",
    "    accuracy = (tp + tn) / (tp + tn + fp + fn)\n",
    "    precision = tp / (tp + fp)\n",
    "    recall = tp / (tp + fn)\n",
    "    f1 = 2 * (precision * recall) / (precision + recall)\n",
    "    \n",
    "    result_df = pd.DataFrame(index=['1_real','1_pred','0_real','0_pred','tn', 'fp', 'fn', 'tp', 'tn_%', 'fp_%', 'fn_%', 'tp_%', 'Accuracy', 'Precision', 'Recall', 'F1 score'])\n",
    "\n",
    "    result_df['result'] = [num_1_real, num_1_pred, num_0_real, num_0_pred, tn, fp, fn, tp, tn_, fp_, fn_, tp_, accuracy, precision, recall, f1]\n",
    "\n",
    "#         labels = ['True Negatives', 'False Positives', 'False Negatives', 'True Positives']\n",
    "    labels = ['TN','FP','FN','TP']\n",
    "\n",
    "    # tn, fp, fn, tp 각각의 값을 counts 리스트에 저장\n",
    "    counts = [tn, fp, fn, tp]\n",
    "\n",
    "    # 그래프 그리기\n",
    "    axes.bar(labels, counts)\n",
    "    axes.set_title(threshold)\n",
    "    axes.set_ylabel('Count')\n",
    "\n",
    "    # 그래프 출력하기\n",
    "    plt.show()\n",
    "    \n",
    "    cm = confusion_matrix(y_test, custom_predict)\n",
    "    print('Confusion matrix:')\n",
    "    print(cm)\n",
    "    \n",
    "    print(result_df)"
   ]
  },
  {
   "cell_type": "code",
   "execution_count": null,
   "metadata": {
    "id": "66ef017d"
   },
   "outputs": [],
   "source": [
    "test_func(y_test, y_test_pred_proba, opt_threshold)"
   ]
  },
  {
   "cell_type": "markdown",
   "metadata": {
    "id": "5183b03e"
   },
   "source": [
    "### ROC curve"
   ]
  },
  {
   "cell_type": "code",
   "execution_count": null,
   "metadata": {
    "id": "ffe859bb",
    "outputId": "1f6071e5-8ce4-492d-b643-2f8f9467e7a9"
   },
   "outputs": [
    {
     "data": {
      "image/png": "[encoded data removed]",
      "text/plain": [
       "<Figure size 640x480 with 1 Axes>"
      ]
     },
     "metadata": {},
     "output_type": "display_data"
    }
   ],
   "source": [
    "# Generate ROC curve and AUC score for the validation set\n",
    "fpr, tpr, thresholds = roc_curve(y_test, y_test_pred_proba)\n",
    "roc_auc = auc(fpr, tpr)\n",
    "\n",
    "# Plot the ROC curve\n",
    "plt.plot(fpr, tpr, lw=1, label='ROC (AUC = %0.2f)' % roc_auc)\n",
    "plt.plot([0, 1], [0, 1], '--', color='gray', lw=1, label='Random')\n",
    "plt.xlim([0, 1])\n",
    "plt.ylim([0, 1])\n",
    "plt.xlabel('False Positive Rate')\n",
    "plt.ylabel('True Positive Rate')\n",
    "plt.title('Receiver Operating Characteristic')\n",
    "plt.legend(loc='lower right')\n",
    "plt.show()"
   ]
  }
 ],
 "metadata": {
  "colab": {
   "authorship_tag": "ABX9TyMuHUYD5RT77307NOMliG2A",
   "provenance": []
  },
  "kernelspec": {
   "display_name": "Python 3 (ipykernel)",
   "language": "python",
   "name": "python3"
  },
  "language_info": {
   "codemirror_mode": {
    "name": "ipython",
    "version": 3
   },
   "file_extension": ".py",
   "mimetype": "text/x-python",
   "name": "python",
   "nbconvert_exporter": "python",
   "pygments_lexer": "ipython3",
   "version": "3.11.3"
  }
 },
 "nbformat": 4,
 "nbformat_minor": 1
}
