{
 "cells": [
  {
   "cell_type": "code",
   "execution_count": 3,
   "id": "e1ee9aac",
   "metadata": {},
   "outputs": [],
   "source": [
    "import pandas as pd\n",
    "\n",
    "df = pd.read_csv('./lendingclub_ver3.csv')"
   ]
  },
  {
   "cell_type": "code",
   "execution_count": 5,
   "id": "af926b38",
   "metadata": {},
   "outputs": [],
   "source": [
    "df.drop(['Unnamed: 0'], axis = 1,inplace = True)"
   ]
  },
  {
   "cell_type": "code",
   "execution_count": 6,
   "id": "188a6ac6",
   "metadata": {},
   "outputs": [
    {
     "data": {
      "text/html": [
       "<div>\n",
       "<style scoped>\n",
       "    .dataframe tbody tr th:only-of-type {\n",
       "        vertical-align: middle;\n",
       "    }\n",
       "\n",
       "    .dataframe tbody tr th {\n",
       "        vertical-align: top;\n",
       "    }\n",
       "\n",
       "    .dataframe thead th {\n",
       "        text-align: right;\n",
       "    }\n",
       "</style>\n",
       "<table border=\"1\" class=\"dataframe\">\n",
       "  <thead>\n",
       "    <tr style=\"text-align: right;\">\n",
       "      <th></th>\n",
       "      <th>home_ownership1</th>\n",
       "      <th>home_ownership2</th>\n",
       "      <th>home_ownership3</th>\n",
       "      <th>home_ownership4</th>\n",
       "      <th>home_ownership5</th>\n",
       "      <th>verification_status1</th>\n",
       "      <th>verification_status2</th>\n",
       "      <th>addr_state1</th>\n",
       "      <th>addr_state2</th>\n",
       "      <th>addr_state3</th>\n",
       "      <th>...</th>\n",
       "      <th>delinq_2yrs_log</th>\n",
       "      <th>fico_average_log</th>\n",
       "      <th>revol_bal_log</th>\n",
       "      <th>revol_util_log</th>\n",
       "      <th>total_acc_log</th>\n",
       "      <th>collections_12_mths_ex_med_log</th>\n",
       "      <th>tot_coll_amt_log</th>\n",
       "      <th>purpose_group1</th>\n",
       "      <th>purpose_group2</th>\n",
       "      <th>purpose_group4</th>\n",
       "    </tr>\n",
       "  </thead>\n",
       "  <tbody>\n",
       "    <tr>\n",
       "      <th>0</th>\n",
       "      <td>0</td>\n",
       "      <td>0</td>\n",
       "      <td>0</td>\n",
       "      <td>0</td>\n",
       "      <td>0</td>\n",
       "      <td>0</td>\n",
       "      <td>1</td>\n",
       "      <td>0</td>\n",
       "      <td>0</td>\n",
       "      <td>0</td>\n",
       "      <td>...</td>\n",
       "      <td>0.693147</td>\n",
       "      <td>6.511745</td>\n",
       "      <td>9.272846</td>\n",
       "      <td>0.538830</td>\n",
       "      <td>3.332205</td>\n",
       "      <td>0.000000</td>\n",
       "      <td>0.0</td>\n",
       "      <td>0</td>\n",
       "      <td>1</td>\n",
       "      <td>0</td>\n",
       "    </tr>\n",
       "    <tr>\n",
       "      <th>1</th>\n",
       "      <td>0</td>\n",
       "      <td>1</td>\n",
       "      <td>0</td>\n",
       "      <td>0</td>\n",
       "      <td>0</td>\n",
       "      <td>0</td>\n",
       "      <td>1</td>\n",
       "      <td>0</td>\n",
       "      <td>0</td>\n",
       "      <td>0</td>\n",
       "      <td>...</td>\n",
       "      <td>0.000000</td>\n",
       "      <td>6.541030</td>\n",
       "      <td>8.979794</td>\n",
       "      <td>0.521172</td>\n",
       "      <td>1.945910</td>\n",
       "      <td>0.000000</td>\n",
       "      <td>0.0</td>\n",
       "      <td>0</td>\n",
       "      <td>1</td>\n",
       "      <td>0</td>\n",
       "    </tr>\n",
       "    <tr>\n",
       "      <th>2</th>\n",
       "      <td>0</td>\n",
       "      <td>0</td>\n",
       "      <td>0</td>\n",
       "      <td>0</td>\n",
       "      <td>0</td>\n",
       "      <td>0</td>\n",
       "      <td>1</td>\n",
       "      <td>0</td>\n",
       "      <td>0</td>\n",
       "      <td>0</td>\n",
       "      <td>...</td>\n",
       "      <td>1.098612</td>\n",
       "      <td>6.504288</td>\n",
       "      <td>8.333751</td>\n",
       "      <td>0.228728</td>\n",
       "      <td>2.708050</td>\n",
       "      <td>0.000000</td>\n",
       "      <td>0.0</td>\n",
       "      <td>0</td>\n",
       "      <td>1</td>\n",
       "      <td>0</td>\n",
       "    </tr>\n",
       "    <tr>\n",
       "      <th>3</th>\n",
       "      <td>0</td>\n",
       "      <td>0</td>\n",
       "      <td>0</td>\n",
       "      <td>0</td>\n",
       "      <td>0</td>\n",
       "      <td>0</td>\n",
       "      <td>0</td>\n",
       "      <td>0</td>\n",
       "      <td>0</td>\n",
       "      <td>0</td>\n",
       "      <td>...</td>\n",
       "      <td>0.000000</td>\n",
       "      <td>6.533789</td>\n",
       "      <td>8.956222</td>\n",
       "      <td>0.448525</td>\n",
       "      <td>3.555348</td>\n",
       "      <td>0.000000</td>\n",
       "      <td>0.0</td>\n",
       "      <td>0</td>\n",
       "      <td>1</td>\n",
       "      <td>0</td>\n",
       "    </tr>\n",
       "    <tr>\n",
       "      <th>4</th>\n",
       "      <td>0</td>\n",
       "      <td>1</td>\n",
       "      <td>0</td>\n",
       "      <td>0</td>\n",
       "      <td>0</td>\n",
       "      <td>0</td>\n",
       "      <td>1</td>\n",
       "      <td>0</td>\n",
       "      <td>0</td>\n",
       "      <td>0</td>\n",
       "      <td>...</td>\n",
       "      <td>0.000000</td>\n",
       "      <td>6.650279</td>\n",
       "      <td>8.752265</td>\n",
       "      <td>0.148420</td>\n",
       "      <td>2.772589</td>\n",
       "      <td>0.000000</td>\n",
       "      <td>0.0</td>\n",
       "      <td>0</td>\n",
       "      <td>0</td>\n",
       "      <td>0</td>\n",
       "    </tr>\n",
       "    <tr>\n",
       "      <th>...</th>\n",
       "      <td>...</td>\n",
       "      <td>...</td>\n",
       "      <td>...</td>\n",
       "      <td>...</td>\n",
       "      <td>...</td>\n",
       "      <td>...</td>\n",
       "      <td>...</td>\n",
       "      <td>...</td>\n",
       "      <td>...</td>\n",
       "      <td>...</td>\n",
       "      <td>...</td>\n",
       "      <td>...</td>\n",
       "      <td>...</td>\n",
       "      <td>...</td>\n",
       "      <td>...</td>\n",
       "      <td>...</td>\n",
       "      <td>...</td>\n",
       "      <td>...</td>\n",
       "      <td>...</td>\n",
       "      <td>...</td>\n",
       "      <td>...</td>\n",
       "    </tr>\n",
       "    <tr>\n",
       "      <th>896882</th>\n",
       "      <td>0</td>\n",
       "      <td>1</td>\n",
       "      <td>0</td>\n",
       "      <td>0</td>\n",
       "      <td>0</td>\n",
       "      <td>0</td>\n",
       "      <td>0</td>\n",
       "      <td>0</td>\n",
       "      <td>0</td>\n",
       "      <td>0</td>\n",
       "      <td>...</td>\n",
       "      <td>0.000000</td>\n",
       "      <td>6.496775</td>\n",
       "      <td>9.062072</td>\n",
       "      <td>0.612479</td>\n",
       "      <td>3.178054</td>\n",
       "      <td>0.000000</td>\n",
       "      <td>0.0</td>\n",
       "      <td>1</td>\n",
       "      <td>0</td>\n",
       "      <td>0</td>\n",
       "    </tr>\n",
       "    <tr>\n",
       "      <th>896883</th>\n",
       "      <td>0</td>\n",
       "      <td>0</td>\n",
       "      <td>0</td>\n",
       "      <td>0</td>\n",
       "      <td>0</td>\n",
       "      <td>0</td>\n",
       "      <td>0</td>\n",
       "      <td>0</td>\n",
       "      <td>0</td>\n",
       "      <td>0</td>\n",
       "      <td>...</td>\n",
       "      <td>0.000000</td>\n",
       "      <td>6.511745</td>\n",
       "      <td>9.549523</td>\n",
       "      <td>0.599386</td>\n",
       "      <td>2.772589</td>\n",
       "      <td>0.000000</td>\n",
       "      <td>0.0</td>\n",
       "      <td>0</td>\n",
       "      <td>1</td>\n",
       "      <td>0</td>\n",
       "    </tr>\n",
       "    <tr>\n",
       "      <th>896884</th>\n",
       "      <td>0</td>\n",
       "      <td>0</td>\n",
       "      <td>0</td>\n",
       "      <td>0</td>\n",
       "      <td>0</td>\n",
       "      <td>0</td>\n",
       "      <td>1</td>\n",
       "      <td>0</td>\n",
       "      <td>0</td>\n",
       "      <td>0</td>\n",
       "      <td>...</td>\n",
       "      <td>0.693147</td>\n",
       "      <td>6.548219</td>\n",
       "      <td>9.018574</td>\n",
       "      <td>0.266969</td>\n",
       "      <td>3.044522</td>\n",
       "      <td>0.693147</td>\n",
       "      <td>0.0</td>\n",
       "      <td>0</td>\n",
       "      <td>1</td>\n",
       "      <td>0</td>\n",
       "    </tr>\n",
       "    <tr>\n",
       "      <th>896885</th>\n",
       "      <td>0</td>\n",
       "      <td>0</td>\n",
       "      <td>0</td>\n",
       "      <td>0</td>\n",
       "      <td>0</td>\n",
       "      <td>0</td>\n",
       "      <td>0</td>\n",
       "      <td>0</td>\n",
       "      <td>0</td>\n",
       "      <td>0</td>\n",
       "      <td>...</td>\n",
       "      <td>0.000000</td>\n",
       "      <td>6.526495</td>\n",
       "      <td>9.308555</td>\n",
       "      <td>0.478096</td>\n",
       "      <td>3.135494</td>\n",
       "      <td>0.000000</td>\n",
       "      <td>0.0</td>\n",
       "      <td>0</td>\n",
       "      <td>1</td>\n",
       "      <td>0</td>\n",
       "    </tr>\n",
       "    <tr>\n",
       "      <th>896886</th>\n",
       "      <td>0</td>\n",
       "      <td>0</td>\n",
       "      <td>0</td>\n",
       "      <td>0</td>\n",
       "      <td>0</td>\n",
       "      <td>0</td>\n",
       "      <td>0</td>\n",
       "      <td>0</td>\n",
       "      <td>0</td>\n",
       "      <td>0</td>\n",
       "      <td>...</td>\n",
       "      <td>0.000000</td>\n",
       "      <td>6.519147</td>\n",
       "      <td>10.412321</td>\n",
       "      <td>0.586675</td>\n",
       "      <td>2.397895</td>\n",
       "      <td>0.000000</td>\n",
       "      <td>0.0</td>\n",
       "      <td>0</td>\n",
       "      <td>1</td>\n",
       "      <td>0</td>\n",
       "    </tr>\n",
       "  </tbody>\n",
       "</table>\n",
       "<p>896887 rows × 87 columns</p>\n",
       "</div>"
      ],
      "text/plain": [
       "        home_ownership1  home_ownership2  home_ownership3  home_ownership4  \\\n",
       "0                     0                0                0                0   \n",
       "1                     0                1                0                0   \n",
       "2                     0                0                0                0   \n",
       "3                     0                0                0                0   \n",
       "4                     0                1                0                0   \n",
       "...                 ...              ...              ...              ...   \n",
       "896882                0                1                0                0   \n",
       "896883                0                0                0                0   \n",
       "896884                0                0                0                0   \n",
       "896885                0                0                0                0   \n",
       "896886                0                0                0                0   \n",
       "\n",
       "        home_ownership5  verification_status1  verification_status2  \\\n",
       "0                     0                     0                     1   \n",
       "1                     0                     0                     1   \n",
       "2                     0                     0                     1   \n",
       "3                     0                     0                     0   \n",
       "4                     0                     0                     1   \n",
       "...                 ...                   ...                   ...   \n",
       "896882                0                     0                     0   \n",
       "896883                0                     0                     0   \n",
       "896884                0                     0                     1   \n",
       "896885                0                     0                     0   \n",
       "896886                0                     0                     0   \n",
       "\n",
       "        addr_state1  addr_state2  addr_state3  ...  delinq_2yrs_log  \\\n",
       "0                 0            0            0  ...         0.693147   \n",
       "1                 0            0            0  ...         0.000000   \n",
       "2                 0            0            0  ...         1.098612   \n",
       "3                 0            0            0  ...         0.000000   \n",
       "4                 0            0            0  ...         0.000000   \n",
       "...             ...          ...          ...  ...              ...   \n",
       "896882            0            0            0  ...         0.000000   \n",
       "896883            0            0            0  ...         0.000000   \n",
       "896884            0            0            0  ...         0.693147   \n",
       "896885            0            0            0  ...         0.000000   \n",
       "896886            0            0            0  ...         0.000000   \n",
       "\n",
       "        fico_average_log  revol_bal_log  revol_util_log  total_acc_log  \\\n",
       "0               6.511745       9.272846        0.538830       3.332205   \n",
       "1               6.541030       8.979794        0.521172       1.945910   \n",
       "2               6.504288       8.333751        0.228728       2.708050   \n",
       "3               6.533789       8.956222        0.448525       3.555348   \n",
       "4               6.650279       8.752265        0.148420       2.772589   \n",
       "...                  ...            ...             ...            ...   \n",
       "896882          6.496775       9.062072        0.612479       3.178054   \n",
       "896883          6.511745       9.549523        0.599386       2.772589   \n",
       "896884          6.548219       9.018574        0.266969       3.044522   \n",
       "896885          6.526495       9.308555        0.478096       3.135494   \n",
       "896886          6.519147      10.412321        0.586675       2.397895   \n",
       "\n",
       "        collections_12_mths_ex_med_log  tot_coll_amt_log  purpose_group1  \\\n",
       "0                             0.000000               0.0               0   \n",
       "1                             0.000000               0.0               0   \n",
       "2                             0.000000               0.0               0   \n",
       "3                             0.000000               0.0               0   \n",
       "4                             0.000000               0.0               0   \n",
       "...                                ...               ...             ...   \n",
       "896882                        0.000000               0.0               1   \n",
       "896883                        0.000000               0.0               0   \n",
       "896884                        0.693147               0.0               0   \n",
       "896885                        0.000000               0.0               0   \n",
       "896886                        0.000000               0.0               0   \n",
       "\n",
       "        purpose_group2  purpose_group4  \n",
       "0                    1               0  \n",
       "1                    1               0  \n",
       "2                    1               0  \n",
       "3                    1               0  \n",
       "4                    0               0  \n",
       "...                ...             ...  \n",
       "896882               0               0  \n",
       "896883               1               0  \n",
       "896884               1               0  \n",
       "896885               1               0  \n",
       "896886               1               0  \n",
       "\n",
       "[896887 rows x 87 columns]"
      ]
     },
     "execution_count": 6,
     "metadata": {},
     "output_type": "execute_result"
    }
   ],
   "source": [
    "df"
   ]
  },
  {
   "cell_type": "code",
   "execution_count": 7,
   "id": "d38b1b39",
   "metadata": {},
   "outputs": [],
   "source": [
    "X, y = df.drop('depvar', axis=1), df['depvar']"
   ]
  },
  {
   "cell_type": "code",
   "execution_count": 8,
   "id": "7fa403df",
   "metadata": {},
   "outputs": [],
   "source": [
    "# train, validation, test set 분리\n",
    "\n",
    "from sklearn.model_selection import cross_val_score, cross_val_score, train_test_split\n",
    "\n",
    "X_cv, X_t, y_cv, y_t = train_test_split(X, y, test_size = 0.4)\n",
    "X_val, X_tst, y_val, y_tst = train_test_split(X_t, y_t, test_size = 0.5)"
   ]
  },
  {
   "cell_type": "code",
   "execution_count": 9,
   "id": "2e6471bd",
   "metadata": {},
   "outputs": [
    {
     "name": "stdout",
     "output_type": "stream",
     "text": [
      "(538132, 86) (179377, 86) (179378, 86)\n"
     ]
    }
   ],
   "source": [
    "print(X_cv.shape, X_val.shape, X_tst.shape)"
   ]
  },
  {
   "cell_type": "code",
   "execution_count": 11,
   "id": "86bb92b5",
   "metadata": {},
   "outputs": [
    {
     "name": "stdout",
     "output_type": "stream",
     "text": [
      "Collecting imblearn\n",
      "  Downloading imblearn-0.0-py2.py3-none-any.whl (1.9 kB)\n",
      "Collecting imbalanced-learn\n",
      "  Downloading imbalanced_learn-0.10.1-py3-none-any.whl (226 kB)\n",
      "\u001b[K     |████████████████████████████████| 226 kB 7.4 MB/s eta 0:00:01\n",
      "\u001b[?25hRequirement already satisfied: scipy>=1.3.2 in /Users/minjung/opt/anaconda3/lib/python3.9/site-packages (from imbalanced-learn->imblearn) (1.10.1)\n",
      "Requirement already satisfied: numpy>=1.17.3 in /Users/minjung/opt/anaconda3/lib/python3.9/site-packages (from imbalanced-learn->imblearn) (1.24.2)\n",
      "Requirement already satisfied: threadpoolctl>=2.0.0 in /Users/minjung/opt/anaconda3/lib/python3.9/site-packages (from imbalanced-learn->imblearn) (2.2.0)\n",
      "Collecting joblib>=1.1.1\n",
      "  Using cached joblib-1.2.0-py3-none-any.whl (297 kB)\n",
      "Requirement already satisfied: scikit-learn>=1.0.2 in /Users/minjung/opt/anaconda3/lib/python3.9/site-packages (from imbalanced-learn->imblearn) (1.1.1)\n",
      "Installing collected packages: joblib, imbalanced-learn, imblearn\n",
      "  Attempting uninstall: joblib\n",
      "    Found existing installation: joblib 1.1.0\n",
      "    Uninstalling joblib-1.1.0:\n",
      "      Successfully uninstalled joblib-1.1.0\n",
      "Successfully installed imbalanced-learn-0.10.1 imblearn-0.0 joblib-1.2.0\n"
     ]
    }
   ],
   "source": [
    "!pip install imblearn"
   ]
  },
  {
   "cell_type": "code",
   "execution_count": 12,
   "id": "a12481cb",
   "metadata": {},
   "outputs": [
    {
     "name": "stdout",
     "output_type": "stream",
     "text": [
      "(173818, 86) (173818,)\n"
     ]
    }
   ],
   "source": [
    "from imblearn.under_sampling import RandomUnderSampler\n",
    "\n",
    "undersample = RandomUnderSampler(sampling_strategy='majority')\n",
    "X_under, y_under = undersample.fit_resample(X_cv, y_cv)\n",
    "print(X_under.shape, y_under.shape)\n"
   ]
  },
  {
   "cell_type": "code",
   "execution_count": 13,
   "id": "c8b11c10",
   "metadata": {},
   "outputs": [
    {
     "name": "stdout",
     "output_type": "stream",
     "text": [
      "86909\n",
      "86909\n"
     ]
    }
   ],
   "source": [
    "# undersampling 한한 후후의의 레이블블 확인인\n",
    "print(sum(y_under == 1))\n",
    "print(sum(y_under == 0))"
   ]
  },
  {
   "cell_type": "code",
   "execution_count": 16,
   "id": "e6afeaf5",
   "metadata": {},
   "outputs": [
    {
     "name": "stderr",
     "output_type": "stream",
     "text": [
      "/Users/minjung/opt/anaconda3/lib/python3.9/site-packages/sklearn/linear_model/_logistic.py:444: ConvergenceWarning: lbfgs failed to converge (status=1):\n",
      "STOP: TOTAL NO. of ITERATIONS REACHED LIMIT.\n",
      "\n",
      "Increase the number of iterations (max_iter) or scale the data as shown in:\n",
      "    https://scikit-learn.org/stable/modules/preprocessing.html\n",
      "Please also refer to the documentation for alternative solver options:\n",
      "    https://scikit-learn.org/stable/modules/linear_model.html#logistic-regression\n",
      "  n_iter_i = _check_optimize_result(\n"
     ]
    },
    {
     "name": "stdout",
     "output_type": "stream",
     "text": [
      "\n",
      "#1 교차차 검증증 정확도: 0.5984351628121045, 정밀도도: 0.5974706619573886, 재현율율: 0.6033828098032448, 학습습 데이터터 크기기: 156436, 검증증 데이터터 크기기: 17382\n",
      "#1 검증증 세트트 인덱스스: [    0     1     2 ... 95597 95598 95599]\n"
     ]
    },
    {
     "name": "stderr",
     "output_type": "stream",
     "text": [
      "/Users/minjung/opt/anaconda3/lib/python3.9/site-packages/sklearn/linear_model/_logistic.py:444: ConvergenceWarning: lbfgs failed to converge (status=1):\n",
      "STOP: TOTAL NO. of ITERATIONS REACHED LIMIT.\n",
      "\n",
      "Increase the number of iterations (max_iter) or scale the data as shown in:\n",
      "    https://scikit-learn.org/stable/modules/preprocessing.html\n",
      "Please also refer to the documentation for alternative solver options:\n",
      "    https://scikit-learn.org/stable/modules/linear_model.html#logistic-regression\n",
      "  n_iter_i = _check_optimize_result(\n"
     ]
    },
    {
     "name": "stdout",
     "output_type": "stream",
     "text": [
      "\n",
      "#2 교차차 검증증 정확도: 0.6025198481187435, 정밀도도: 0.5994863778472532, 재현율율: 0.6177655045449315, 학습습 데이터터 크기기: 156436, 검증증 데이터터 크기기: 17382\n",
      "#2 검증증 세트트 인덱스스: [  8691   8692   8693 ... 104288 104289 104290]\n"
     ]
    },
    {
     "name": "stderr",
     "output_type": "stream",
     "text": [
      "/Users/minjung/opt/anaconda3/lib/python3.9/site-packages/sklearn/linear_model/_logistic.py:444: ConvergenceWarning: lbfgs failed to converge (status=1):\n",
      "STOP: TOTAL NO. of ITERATIONS REACHED LIMIT.\n",
      "\n",
      "Increase the number of iterations (max_iter) or scale the data as shown in:\n",
      "    https://scikit-learn.org/stable/modules/preprocessing.html\n",
      "Please also refer to the documentation for alternative solver options:\n",
      "    https://scikit-learn.org/stable/modules/linear_model.html#logistic-regression\n",
      "  n_iter_i = _check_optimize_result(\n"
     ]
    },
    {
     "name": "stdout",
     "output_type": "stream",
     "text": [
      "\n",
      "#3 교차차 검증증 정확도: 0.6023472557818433, 정밀도도: 0.6012751907093248, 재현율율: 0.607640087446784, 학습습 데이터터 크기기: 156436, 검증증 데이터터 크기기: 17382\n",
      "#3 검증증 세트트 인덱스스: [ 17382  17383  17384 ... 112979 112980 112981]\n"
     ]
    },
    {
     "name": "stderr",
     "output_type": "stream",
     "text": [
      "/Users/minjung/opt/anaconda3/lib/python3.9/site-packages/sklearn/linear_model/_logistic.py:444: ConvergenceWarning: lbfgs failed to converge (status=1):\n",
      "STOP: TOTAL NO. of ITERATIONS REACHED LIMIT.\n",
      "\n",
      "Increase the number of iterations (max_iter) or scale the data as shown in:\n",
      "    https://scikit-learn.org/stable/modules/preprocessing.html\n",
      "Please also refer to the documentation for alternative solver options:\n",
      "    https://scikit-learn.org/stable/modules/linear_model.html#logistic-regression\n",
      "  n_iter_i = _check_optimize_result(\n"
     ]
    },
    {
     "name": "stdout",
     "output_type": "stream",
     "text": [
      "\n",
      "#4 교차차 검증증 정확도: 0.5977447934645035, 정밀도도: 0.5963916940882786, 재현율율: 0.6047635484984467, 학습습 데이터터 크기기: 156436, 검증증 데이터터 크기기: 17382\n",
      "#4 검증증 세트트 인덱스스: [ 26073  26074  26075 ... 121670 121671 121672]\n"
     ]
    },
    {
     "name": "stderr",
     "output_type": "stream",
     "text": [
      "/Users/minjung/opt/anaconda3/lib/python3.9/site-packages/sklearn/linear_model/_logistic.py:444: ConvergenceWarning: lbfgs failed to converge (status=1):\n",
      "STOP: TOTAL NO. of ITERATIONS REACHED LIMIT.\n",
      "\n",
      "Increase the number of iterations (max_iter) or scale the data as shown in:\n",
      "    https://scikit-learn.org/stable/modules/preprocessing.html\n",
      "Please also refer to the documentation for alternative solver options:\n",
      "    https://scikit-learn.org/stable/modules/linear_model.html#logistic-regression\n",
      "  n_iter_i = _check_optimize_result(\n"
     ]
    },
    {
     "name": "stdout",
     "output_type": "stream",
     "text": [
      "\n",
      "#5 교차차 검증증 정확도: 0.6039581175929122, 정밀도도: 0.6003777358071325, 재현율율: 0.6217926590726038, 학습습 데이터터 크기기: 156436, 검증증 데이터터 크기기: 17382\n",
      "#5 검증증 세트트 인덱스스: [ 34764  34765  34766 ... 130361 130362 130363]\n"
     ]
    },
    {
     "name": "stderr",
     "output_type": "stream",
     "text": [
      "/Users/minjung/opt/anaconda3/lib/python3.9/site-packages/sklearn/linear_model/_logistic.py:444: ConvergenceWarning: lbfgs failed to converge (status=1):\n",
      "STOP: TOTAL NO. of ITERATIONS REACHED LIMIT.\n",
      "\n",
      "Increase the number of iterations (max_iter) or scale the data as shown in:\n",
      "    https://scikit-learn.org/stable/modules/preprocessing.html\n",
      "Please also refer to the documentation for alternative solver options:\n",
      "    https://scikit-learn.org/stable/modules/linear_model.html#logistic-regression\n",
      "  n_iter_i = _check_optimize_result(\n"
     ]
    },
    {
     "name": "stdout",
     "output_type": "stream",
     "text": [
      "\n",
      "#6 교차차 검증증 정확도: 0.6025198481187435, 정밀도도: 0.6003830554303741, 재현율율: 0.6131630422275918, 학습습 데이터터 크기기: 156436, 검증증 데이터터 크기기: 17382\n",
      "#6 검증증 세트트 인덱스스: [ 43455  43456  43457 ... 139052 139053 139054]\n"
     ]
    },
    {
     "name": "stderr",
     "output_type": "stream",
     "text": [
      "/Users/minjung/opt/anaconda3/lib/python3.9/site-packages/sklearn/linear_model/_logistic.py:444: ConvergenceWarning: lbfgs failed to converge (status=1):\n",
      "STOP: TOTAL NO. of ITERATIONS REACHED LIMIT.\n",
      "\n",
      "Increase the number of iterations (max_iter) or scale the data as shown in:\n",
      "    https://scikit-learn.org/stable/modules/preprocessing.html\n",
      "Please also refer to the documentation for alternative solver options:\n",
      "    https://scikit-learn.org/stable/modules/linear_model.html#logistic-regression\n",
      "  n_iter_i = _check_optimize_result(\n"
     ]
    },
    {
     "name": "stdout",
     "output_type": "stream",
     "text": [
      "\n",
      "#7 교차차 검증증 정확도: 0.5990104706017719, 정밀도도: 0.5954520244037715, 재현율율: 0.617650442986998, 학습습 데이터터 크기기: 156436, 검증증 데이터터 크기기: 17382\n",
      "#7 검증증 세트트 인덱스스: [ 52146  52147  52148 ... 147743 147744 147745]\n"
     ]
    },
    {
     "name": "stderr",
     "output_type": "stream",
     "text": [
      "/Users/minjung/opt/anaconda3/lib/python3.9/site-packages/sklearn/linear_model/_logistic.py:444: ConvergenceWarning: lbfgs failed to converge (status=1):\n",
      "STOP: TOTAL NO. of ITERATIONS REACHED LIMIT.\n",
      "\n",
      "Increase the number of iterations (max_iter) or scale the data as shown in:\n",
      "    https://scikit-learn.org/stable/modules/preprocessing.html\n",
      "Please also refer to the documentation for alternative solver options:\n",
      "    https://scikit-learn.org/stable/modules/linear_model.html#logistic-regression\n",
      "  n_iter_i = _check_optimize_result(\n"
     ]
    },
    {
     "name": "stdout",
     "output_type": "stream",
     "text": [
      "\n",
      "#8 교차차 검증증 정확도: 0.6005062708549074, 정밀도도: 0.600529404994821, 재현율율: 0.6003912092969739, 학습습 데이터터 크기기: 156436, 검증증 데이터터 크기기: 17382\n",
      "#8 검증증 세트트 인덱스스: [ 60837  60838  60839 ... 156434 156435 156436]\n"
     ]
    },
    {
     "name": "stderr",
     "output_type": "stream",
     "text": [
      "/Users/minjung/opt/anaconda3/lib/python3.9/site-packages/sklearn/linear_model/_logistic.py:444: ConvergenceWarning: lbfgs failed to converge (status=1):\n",
      "STOP: TOTAL NO. of ITERATIONS REACHED LIMIT.\n",
      "\n",
      "Increase the number of iterations (max_iter) or scale the data as shown in:\n",
      "    https://scikit-learn.org/stable/modules/preprocessing.html\n",
      "Please also refer to the documentation for alternative solver options:\n",
      "    https://scikit-learn.org/stable/modules/linear_model.html#logistic-regression\n",
      "  n_iter_i = _check_optimize_result(\n"
     ]
    },
    {
     "name": "stdout",
     "output_type": "stream",
     "text": [
      "\n",
      "#9 교차차 검증증 정확도: 0.6037627294171797, 정밀도도: 0.6002446347158902, 재현율율: 0.6211737629459149, 학습습 데이터터 크기기: 156437, 검증증 데이터터 크기기: 17381\n",
      "#9 검증증 세트트 인덱스스: [ 69528  69529  69530 ... 165124 165125 165126]\n",
      "\n",
      "#10 교차차 검증증 정확도: 0.600425752258213, 정밀도도: 0.5974112921222942, 재현율율: 0.6160395811759292, 학습습 데이터터 크기기: 156437, 검증증 데이터터 크기기: 17381\n",
      "#10 검증증 세트트 인덱스스: [ 78219  78220  78221 ... 173815 173816 173817]\n",
      "\n",
      "## 평균 검증 정확도: 0.6011230249020922\n",
      "\n",
      "## 평균 검증 정밀도: 0.5989022072076529\n",
      "\n",
      "## 평균 검증 재현율: 0.6123762647999419\n",
      "[[5082 3608]\n",
      " [3337 5354]]\n"
     ]
    },
    {
     "name": "stderr",
     "output_type": "stream",
     "text": [
      "/Users/minjung/opt/anaconda3/lib/python3.9/site-packages/sklearn/linear_model/_logistic.py:444: ConvergenceWarning: lbfgs failed to converge (status=1):\n",
      "STOP: TOTAL NO. of ITERATIONS REACHED LIMIT.\n",
      "\n",
      "Increase the number of iterations (max_iter) or scale the data as shown in:\n",
      "    https://scikit-learn.org/stable/modules/preprocessing.html\n",
      "Please also refer to the documentation for alternative solver options:\n",
      "    https://scikit-learn.org/stable/modules/linear_model.html#logistic-regression\n",
      "  n_iter_i = _check_optimize_result(\n"
     ]
    }
   ],
   "source": [
    "# 10Fold 교차검증\n",
    "import numpy as np\n",
    "from sklearn.model_selection import KFold, StratifiedKFold\n",
    "from sklearn.linear_model import LogisticRegression\n",
    "from sklearn.metrics import accuracy_score, precision_score, recall_score, confusion_matrix\n",
    "\n",
    "lr_clf = LogisticRegression()\n",
    "skfold = StratifiedKFold(n_splits=10)\n",
    "cv_accuracy = []\n",
    "cv_precision = []\n",
    "cv_recall = []\n",
    "n_iter = 0\n",
    "\n",
    "for train_index, test_index in skfold.split(X_under, y_under):\n",
    "  # kfold.split()으로로 반환된된 인덱스를를 이용해해 학습용용, 검증용용 테스트트 데이터터 추출\n",
    "  X_train, X_test = X_under.iloc[train_index], X_under.iloc[test_index]\n",
    "  y_train, y_test = y_under.iloc[train_index], y_under.iloc[test_index]\n",
    "  # 학습습 및및 예측\n",
    "  lr_clf.fit(X_train, y_train)\n",
    "  pred = lr_clf.predict(X_test)\n",
    "  n_iter += 1\n",
    "  # 반복복 시마다다 정확도도 측정정\n",
    "  accuracy = accuracy_score(y_test, pred)\n",
    "  precision = precision_score(y_test, pred)\n",
    "  recall = recall_score(y_test, pred)\n",
    "  conf_matrix = confusion_matrix(y_test, pred)\n",
    "  train_size = X_train.shape[0]\n",
    "  test_size = X_test.shape[0]\n",
    "  print('\\n#{0} 교차차 검증증 정확도: {1}, 정밀도도: {2}, 재현율율: {3}, 학습습 데이터터 크기기: {4}, 검증증 데이터터 크기기: {5}'.format(n_iter, accuracy, precision, recall, train_size, test_size))\n",
    "  print('#{0} 검증증 세트트 인덱스스: {1}'.format(n_iter, test_index))\n",
    "\n",
    "  cv_accuracy.append(accuracy)\n",
    "  cv_precision.append(precision)\n",
    "  cv_recall.append(recall)\n",
    "\n",
    "# 개별별 iteration별별 정확도를를 합하여여 평균균 정확도도 계산산\n",
    "print('\\n## 평균 검증 정확도:', np.mean(cv_accuracy))\n",
    "print('\\n## 평균 검증 정밀도:', np.mean(cv_precision))\n",
    "print('\\n## 평균 검증 재현율:', np.mean(cv_recall))\n",
    "print(conf_matrix)"
   ]
  },
  {
   "cell_type": "code",
   "execution_count": 19,
   "id": "683b41d4",
   "metadata": {},
   "outputs": [
    {
     "name": "stdout",
     "output_type": "stream",
     "text": [
      "(1503024, 86) (1503024,)\n"
     ]
    }
   ],
   "source": [
    "from imblearn.over_sampling import RandomOverSampler\n",
    "\n",
    "X ,y = df.drop(['depvar'],axis = 1),df['depvar']\n",
    "oversample = RandomOverSampler(sampling_strategy = 'minority')\n",
    "X_over,y_over= oversample.fit_resample(X,y)\n",
    "print(X_over.shape, y_over.shape)\n"
   ]
  },
  {
   "cell_type": "code",
   "execution_count": 21,
   "id": "1a5b2f8b",
   "metadata": {},
   "outputs": [
    {
     "name": "stderr",
     "output_type": "stream",
     "text": [
      "/Users/minjung/opt/anaconda3/lib/python3.9/site-packages/sklearn/linear_model/_logistic.py:444: ConvergenceWarning: lbfgs failed to converge (status=1):\n",
      "STOP: TOTAL NO. of ITERATIONS REACHED LIMIT.\n",
      "\n",
      "Increase the number of iterations (max_iter) or scale the data as shown in:\n",
      "    https://scikit-learn.org/stable/modules/preprocessing.html\n",
      "Please also refer to the documentation for alternative solver options:\n",
      "    https://scikit-learn.org/stable/modules/linear_model.html#logistic-regression\n",
      "  n_iter_i = _check_optimize_result(\n"
     ]
    },
    {
     "name": "stdout",
     "output_type": "stream",
     "text": [
      "\n",
      "#1 교차차 검증증 정확도: 0.6075727031396579, 정밀도도: 0.6099684405267167, 재현율율: 0.5966653803675267, 학습습 데이터터 크기기: 1352721, 검증증 데이터터 크기기: 150303\n",
      "#1 검증증 세트트 인덱스스: [     0      1      2 ... 475627 475634 475637]\n"
     ]
    },
    {
     "name": "stderr",
     "output_type": "stream",
     "text": [
      "/Users/minjung/opt/anaconda3/lib/python3.9/site-packages/sklearn/linear_model/_logistic.py:444: ConvergenceWarning: lbfgs failed to converge (status=1):\n",
      "STOP: TOTAL NO. of ITERATIONS REACHED LIMIT.\n",
      "\n",
      "Increase the number of iterations (max_iter) or scale the data as shown in:\n",
      "    https://scikit-learn.org/stable/modules/preprocessing.html\n",
      "Please also refer to the documentation for alternative solver options:\n",
      "    https://scikit-learn.org/stable/modules/linear_model.html#logistic-regression\n",
      "  n_iter_i = _check_optimize_result(\n"
     ]
    },
    {
     "name": "stdout",
     "output_type": "stream",
     "text": [
      "\n",
      "#2 교차차 검증증 정확도: 0.6035408474880741, 정밀도도: 0.6000643004115226, 재현율율: 0.6208965948556906, 학습습 데이터터 크기기: 1352721, 검증증 데이터터 크기기: 150303\n",
      "#2 검증증 세트트 인덱스스: [ 88699  88700  88701 ... 901811 901812 901813]\n"
     ]
    },
    {
     "name": "stderr",
     "output_type": "stream",
     "text": [
      "/Users/minjung/opt/anaconda3/lib/python3.9/site-packages/sklearn/linear_model/_logistic.py:444: ConvergenceWarning: lbfgs failed to converge (status=1):\n",
      "STOP: TOTAL NO. of ITERATIONS REACHED LIMIT.\n",
      "\n",
      "Increase the number of iterations (max_iter) or scale the data as shown in:\n",
      "    https://scikit-learn.org/stable/modules/preprocessing.html\n",
      "Please also refer to the documentation for alternative solver options:\n",
      "    https://scikit-learn.org/stable/modules/linear_model.html#logistic-regression\n",
      "  n_iter_i = _check_optimize_result(\n"
     ]
    },
    {
     "name": "stdout",
     "output_type": "stream",
     "text": [
      "\n",
      "#3 교차차 검증증 정확도: 0.6149843981823383, 정밀도도: 0.6161226601448594, 재현율율: 0.6100968703427719, 학습습 데이터터 크기기: 1352721, 검증증 데이터터 크기기: 150303\n",
      "#3 검증증 세트트 인덱스스: [178865 178868 178870 ... 976963 976964 976965]\n"
     ]
    },
    {
     "name": "stderr",
     "output_type": "stream",
     "text": [
      "/Users/minjung/opt/anaconda3/lib/python3.9/site-packages/sklearn/linear_model/_logistic.py:444: ConvergenceWarning: lbfgs failed to converge (status=1):\n",
      "STOP: TOTAL NO. of ITERATIONS REACHED LIMIT.\n",
      "\n",
      "Increase the number of iterations (max_iter) or scale the data as shown in:\n",
      "    https://scikit-learn.org/stable/modules/preprocessing.html\n",
      "Please also refer to the documentation for alternative solver options:\n",
      "    https://scikit-learn.org/stable/modules/linear_model.html#logistic-regression\n",
      "  n_iter_i = _check_optimize_result(\n"
     ]
    },
    {
     "name": "stdout",
     "output_type": "stream",
     "text": [
      "\n",
      "#4 교차차 검증증 정확도: 0.6065015335688576, 정밀도도: 0.6053656995418882, 재현율율: 0.611906536086864, 학습습 데이터터 크기기: 1352721, 검증증 데이터터 크기기: 150303\n",
      "#4 검증증 세트트 인덱스스: [ 267809  267810  267813 ... 1052115 1052116 1052117]\n"
     ]
    },
    {
     "name": "stderr",
     "output_type": "stream",
     "text": [
      "/Users/minjung/opt/anaconda3/lib/python3.9/site-packages/sklearn/linear_model/_logistic.py:444: ConvergenceWarning: lbfgs failed to converge (status=1):\n",
      "STOP: TOTAL NO. of ITERATIONS REACHED LIMIT.\n",
      "\n",
      "Increase the number of iterations (max_iter) or scale the data as shown in:\n",
      "    https://scikit-learn.org/stable/modules/preprocessing.html\n",
      "Please also refer to the documentation for alternative solver options:\n",
      "    https://scikit-learn.org/stable/modules/linear_model.html#logistic-regression\n",
      "  n_iter_i = _check_optimize_result(\n"
     ]
    },
    {
     "name": "stdout",
     "output_type": "stream",
     "text": [
      "\n",
      "#5 교차차 검증증 정확도: 0.5527072161381752, 정밀도도: 0.5480424024839899, 재현율율: 0.601256137642879, 학습습 데이터터 크기기: 1352722, 검증증 데이터터 크기기: 150302\n",
      "#5 검증증 세트트 인덱스스: [ 356469  356470  356471 ... 1127266 1127267 1127268]\n"
     ]
    },
    {
     "name": "stderr",
     "output_type": "stream",
     "text": [
      "/Users/minjung/opt/anaconda3/lib/python3.9/site-packages/sklearn/linear_model/_logistic.py:444: ConvergenceWarning: lbfgs failed to converge (status=1):\n",
      "STOP: TOTAL NO. of ITERATIONS REACHED LIMIT.\n",
      "\n",
      "Increase the number of iterations (max_iter) or scale the data as shown in:\n",
      "    https://scikit-learn.org/stable/modules/preprocessing.html\n",
      "Please also refer to the documentation for alternative solver options:\n",
      "    https://scikit-learn.org/stable/modules/linear_model.html#logistic-regression\n",
      "  n_iter_i = _check_optimize_result(\n"
     ]
    },
    {
     "name": "stdout",
     "output_type": "stream",
     "text": [
      "\n",
      "#6 교차차 검증증 정확도: 0.5799989354765739, 정밀도도: 0.5747333615095841, 재현율율: 0.6152280076113424, 학습습 데이터터 크기기: 1352722, 검증증 데이터터 크기기: 150302\n",
      "#6 검증증 세트트 인덱스스: [ 445537  445538  445539 ... 1202417 1202418 1202419]\n"
     ]
    },
    {
     "name": "stderr",
     "output_type": "stream",
     "text": [
      "/Users/minjung/opt/anaconda3/lib/python3.9/site-packages/sklearn/linear_model/_logistic.py:444: ConvergenceWarning: lbfgs failed to converge (status=1):\n",
      "STOP: TOTAL NO. of ITERATIONS REACHED LIMIT.\n",
      "\n",
      "Increase the number of iterations (max_iter) or scale the data as shown in:\n",
      "    https://scikit-learn.org/stable/modules/preprocessing.html\n",
      "Please also refer to the documentation for alternative solver options:\n",
      "    https://scikit-learn.org/stable/modules/linear_model.html#logistic-regression\n",
      "  n_iter_i = _check_optimize_result(\n"
     ]
    },
    {
     "name": "stdout",
     "output_type": "stream",
     "text": [
      "\n",
      "#7 교차차 검증증 정확도: 0.5719950499660683, 정밀도도: 0.5658572211064451, 재현율율: 0.6185945629466009, 학습습 데이터터 크기기: 1352722, 검증증 데이터터 크기기: 150302\n",
      "#7 검증증 세트트 인덱스스: [ 537410  537412  537413 ... 1277568 1277569 1277570]\n"
     ]
    },
    {
     "name": "stderr",
     "output_type": "stream",
     "text": [
      "/Users/minjung/opt/anaconda3/lib/python3.9/site-packages/sklearn/linear_model/_logistic.py:444: ConvergenceWarning: lbfgs failed to converge (status=1):\n",
      "STOP: TOTAL NO. of ITERATIONS REACHED LIMIT.\n",
      "\n",
      "Increase the number of iterations (max_iter) or scale the data as shown in:\n",
      "    https://scikit-learn.org/stable/modules/preprocessing.html\n",
      "Please also refer to the documentation for alternative solver options:\n",
      "    https://scikit-learn.org/stable/modules/linear_model.html#logistic-regression\n",
      "  n_iter_i = _check_optimize_result(\n"
     ]
    },
    {
     "name": "stdout",
     "output_type": "stream",
     "text": [
      "\n",
      "#8 교차차 검증증 정확도: 0.6019281180556479, 정밀도도: 0.600414241518536, 재현율율: 0.6094662745672047, 학습습 데이터터 크기기: 1352722, 검증증 데이터터 크기기: 150302\n",
      "#8 검증증 세트트 인덱스스: [ 628534  628535  628536 ... 1352719 1352720 1352721]\n"
     ]
    },
    {
     "name": "stderr",
     "output_type": "stream",
     "text": [
      "/Users/minjung/opt/anaconda3/lib/python3.9/site-packages/sklearn/linear_model/_logistic.py:444: ConvergenceWarning: lbfgs failed to converge (status=1):\n",
      "STOP: TOTAL NO. of ITERATIONS REACHED LIMIT.\n",
      "\n",
      "Increase the number of iterations (max_iter) or scale the data as shown in:\n",
      "    https://scikit-learn.org/stable/modules/preprocessing.html\n",
      "Please also refer to the documentation for alternative solver options:\n",
      "    https://scikit-learn.org/stable/modules/linear_model.html#logistic-regression\n",
      "  n_iter_i = _check_optimize_result(\n"
     ]
    },
    {
     "name": "stdout",
     "output_type": "stream",
     "text": [
      "\n",
      "#9 교차차 검증증 정확도: 0.6118814120903248, 정밀도도: 0.6128015240548446, 재현율율: 0.6078029567138162, 학습습 데이터터 크기기: 1352722, 검증증 데이터터 크기기: 150302\n",
      "#9 검증증 세트트 인덱스스: [ 716832  716833  716835 ... 1427870 1427871 1427872]\n"
     ]
    },
    {
     "name": "stderr",
     "output_type": "stream",
     "text": [
      "/Users/minjung/opt/anaconda3/lib/python3.9/site-packages/sklearn/linear_model/_logistic.py:444: ConvergenceWarning: lbfgs failed to converge (status=1):\n",
      "STOP: TOTAL NO. of ITERATIONS REACHED LIMIT.\n",
      "\n",
      "Increase the number of iterations (max_iter) or scale the data as shown in:\n",
      "    https://scikit-learn.org/stable/modules/preprocessing.html\n",
      "Please also refer to the documentation for alternative solver options:\n",
      "    https://scikit-learn.org/stable/modules/linear_model.html#logistic-regression\n",
      "  n_iter_i = _check_optimize_result(\n"
     ]
    },
    {
     "name": "stdout",
     "output_type": "stream",
     "text": [
      "\n",
      "#10 교차차 검증증 정확도: 0.5944764540724674, 정밀도도: 0.590853252802375, 재현율율: 0.614416308498889, 학습습 데이터터 크기기: 1352722, 검증증 데이터터 크기기: 150302\n",
      "#10 검증증 세트트 인덱스스: [ 804992  804993  804994 ... 1503021 1503022 1503023]\n",
      "\n",
      "## 평균 검증 정확도: 0.5945586668178185\n",
      "\n",
      "## 평균 검증 정밀도: 0.5924223104100761\n",
      "\n",
      "## 평균 검증 재현율: 0.6106329629633586\n",
      "[[43177 31974]\n",
      " [28977 46174]]\n"
     ]
    }
   ],
   "source": [
    "# 10Fold 교차검증\n",
    "import numpy as np\n",
    "from sklearn.model_selection import KFold, StratifiedKFold\n",
    "from sklearn.linear_model import LogisticRegression\n",
    "from sklearn.metrics import accuracy_score, precision_score, recall_score, confusion_matrix\n",
    "\n",
    "lr_clf = LogisticRegression()\n",
    "skfold = StratifiedKFold(n_splits=10)\n",
    "cv_accuracy = []\n",
    "cv_precision = []\n",
    "cv_recall = []\n",
    "n_iter = 0\n",
    "\n",
    "for train_index, test_index in skfold.split(X_over, y_over):\n",
    "  # kfold.split()으로로 반환된된 인덱스를를 이용해해 학습용용, 검증용용 테스트트 데이터터 추출\n",
    "  X_train, X_test = X_over.iloc[train_index], X_over.iloc[test_index]\n",
    "  y_train, y_test = y_over.iloc[train_index], y_over.iloc[test_index]\n",
    "  # 학습습 및및 예측\n",
    "  lr_clf.fit(X_train, y_train)\n",
    "  pred = lr_clf.predict(X_test)\n",
    "  n_iter += 1\n",
    "  # 반복복 시마다다 정확도도 측정정\n",
    "  accuracy = accuracy_score(y_test, pred)\n",
    "  precision = precision_score(y_test, pred)\n",
    "  recall = recall_score(y_test, pred)\n",
    "  conf_matrix = confusion_matrix(y_test, pred)\n",
    "  train_size = X_train.shape[0]\n",
    "  test_size = X_test.shape[0]\n",
    "  print('\\n#{0} 교차차 검증증 정확도: {1}, 정밀도도: {2}, 재현율율: {3}, 학습습 데이터터 크기기: {4}, 검증증 데이터터 크기기: {5}'.format(n_iter, accuracy, precision, recall, train_size, test_size))\n",
    "  print('#{0} 검증증 세트트 인덱스스: {1}'.format(n_iter, test_index))\n",
    "\n",
    "  cv_accuracy.append(accuracy)\n",
    "  cv_precision.append(precision)\n",
    "  cv_recall.append(recall)\n",
    "\n",
    "# 개별별 iteration별별 정확도를를 합하여여 평균균 정확도도 계산산\n",
    "print('\\n## 평균 검증 정확도:', np.mean(cv_accuracy))\n",
    "print('\\n## 평균 검증 정밀도:', np.mean(cv_precision))\n",
    "print('\\n## 평균 검증 재현율:', np.mean(cv_recall))\n",
    "print(conf_matrix)"
   ]
  },
  {
   "cell_type": "code",
   "execution_count": null,
   "id": "a1f9edd4",
   "metadata": {},
   "outputs": [],
   "source": []
  }
 ],
 "metadata": {
  "kernelspec": {
   "display_name": "Python 3 (ipykernel)",
   "language": "python",
   "name": "python3"
  },
  "language_info": {
   "codemirror_mode": {
    "name": "ipython",
    "version": 3
   },
   "file_extension": ".py",
   "mimetype": "text/x-python",
   "name": "python",
   "nbconvert_exporter": "python",
   "pygments_lexer": "ipython3",
   "version": "3.11.3"
  }
 },
 "nbformat": 4,
 "nbformat_minor": 5
}
