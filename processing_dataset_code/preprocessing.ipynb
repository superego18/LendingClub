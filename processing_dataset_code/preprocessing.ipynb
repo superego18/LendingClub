{
 "cells": [
  {
   "cell_type": "code",
   "execution_count": 74,
   "id": "0b0e41cb",
   "metadata": {},
   "outputs": [],
   "source": [
    "pd.set_option('display.max_colwidth', 1000, 'display.max_rows', None, 'display.max_columns', None)"
   ]
  },
  {
   "cell_type": "code",
   "execution_count": 73,
   "id": "4c9d0969",
   "metadata": {},
   "outputs": [],
   "source": [
    "import pandas as pd\n",
    "import numpy as np"
   ]
  },
  {
   "cell_type": "code",
   "execution_count": 75,
   "id": "16072df6",
   "metadata": {},
   "outputs": [],
   "source": [
    "df = pd.read_stata('lendingclub_test.dta')"
   ]
  },
  {
   "cell_type": "code",
   "execution_count": 76,
   "id": "b6fcc873",
   "metadata": {},
   "outputs": [
    {
     "name": "stdout",
     "output_type": "stream",
     "text": [
      "0\n"
     ]
    }
   ],
   "source": [
    "num_nans = df['depvar'].isna().sum()\n",
    "\n",
    "print(num_nans)"
   ]
  },
  {
   "cell_type": "code",
   "execution_count": 77,
   "id": "b0c2195f",
   "metadata": {},
   "outputs": [],
   "source": [
    "array = []\n",
    "array.append('depvar') # 종속변수\n",
    "\n",
    "#더미변수\n",
    "for i in range(1,7):\n",
    "    array.append(f'home_ownership{i}')\n",
    "for i in range(1,4):\n",
    "    array.append(f'verification_status{i}')\n",
    "for i in range(1,15):\n",
    "    array.append(f'purpose{i}')\n",
    "for i in range(1,52):\n",
    "    array.append(f'addr_state{i}')\n",
    "for i in range(1,13):\n",
    "    array.append(f'emp_length{i}')\n",
    "    \n",
    "array.append('loan_amnt')\n",
    "array.append('annual_inc')\n",
    "array.append('dti')\n",
    "array.append('delinq_2yrs')\n",
    "array.append('fico_range_low')\n",
    "array.append('fico_range_high')\n",
    "array.append('inq_last_6mths')\n",
    "array.append('open_acc')\n",
    "array.append('pub_rec')\n",
    "array.append('revol_bal')\n",
    "array.append('revol_util')\n",
    "array.append('total_acc')\n",
    "array.append('collections_12_mths_ex_med')\n",
    "array.append('tot_coll_amt')\n",
    "array.append('pub_rec_bankruptcies')\n",
    "array.append('tax_liens')\n",
    "\n",
    "loan = df[array]"
   ]
  },
  {
   "cell_type": "code",
   "execution_count": 78,
   "id": "c15a6f80",
   "metadata": {},
   "outputs": [
    {
     "data": {
      "text/html": [
       "<div>\n",
       "<style scoped>\n",
       "    .dataframe tbody tr th:only-of-type {\n",
       "        vertical-align: middle;\n",
       "    }\n",
       "\n",
       "    .dataframe tbody tr th {\n",
       "        vertical-align: top;\n",
       "    }\n",
       "\n",
       "    .dataframe thead th {\n",
       "        text-align: right;\n",
       "    }\n",
       "</style>\n",
       "<table border=\"1\" class=\"dataframe\">\n",
       "  <thead>\n",
       "    <tr style=\"text-align: right;\">\n",
       "      <th></th>\n",
       "      <th>depvar</th>\n",
       "      <th>home_ownership1</th>\n",
       "      <th>home_ownership2</th>\n",
       "      <th>home_ownership3</th>\n",
       "      <th>home_ownership4</th>\n",
       "      <th>home_ownership5</th>\n",
       "      <th>home_ownership6</th>\n",
       "      <th>verification_status1</th>\n",
       "      <th>verification_status2</th>\n",
       "      <th>verification_status3</th>\n",
       "      <th>purpose1</th>\n",
       "      <th>purpose2</th>\n",
       "      <th>purpose3</th>\n",
       "      <th>purpose4</th>\n",
       "      <th>purpose5</th>\n",
       "      <th>purpose6</th>\n",
       "      <th>purpose7</th>\n",
       "      <th>purpose8</th>\n",
       "      <th>purpose9</th>\n",
       "      <th>purpose10</th>\n",
       "      <th>purpose11</th>\n",
       "      <th>purpose12</th>\n",
       "      <th>purpose13</th>\n",
       "      <th>purpose14</th>\n",
       "      <th>addr_state1</th>\n",
       "      <th>addr_state2</th>\n",
       "      <th>addr_state3</th>\n",
       "      <th>addr_state4</th>\n",
       "      <th>addr_state5</th>\n",
       "      <th>addr_state6</th>\n",
       "      <th>addr_state7</th>\n",
       "      <th>addr_state8</th>\n",
       "      <th>addr_state9</th>\n",
       "      <th>addr_state10</th>\n",
       "      <th>addr_state11</th>\n",
       "      <th>addr_state12</th>\n",
       "      <th>addr_state13</th>\n",
       "      <th>addr_state14</th>\n",
       "      <th>addr_state15</th>\n",
       "      <th>addr_state16</th>\n",
       "      <th>addr_state17</th>\n",
       "      <th>addr_state18</th>\n",
       "      <th>addr_state19</th>\n",
       "      <th>addr_state20</th>\n",
       "      <th>addr_state21</th>\n",
       "      <th>addr_state22</th>\n",
       "      <th>addr_state23</th>\n",
       "      <th>addr_state24</th>\n",
       "      <th>addr_state25</th>\n",
       "      <th>addr_state26</th>\n",
       "      <th>addr_state27</th>\n",
       "      <th>addr_state28</th>\n",
       "      <th>addr_state29</th>\n",
       "      <th>addr_state30</th>\n",
       "      <th>addr_state31</th>\n",
       "      <th>addr_state32</th>\n",
       "      <th>addr_state33</th>\n",
       "      <th>addr_state34</th>\n",
       "      <th>addr_state35</th>\n",
       "      <th>addr_state36</th>\n",
       "      <th>addr_state37</th>\n",
       "      <th>addr_state38</th>\n",
       "      <th>addr_state39</th>\n",
       "      <th>addr_state40</th>\n",
       "      <th>addr_state41</th>\n",
       "      <th>addr_state42</th>\n",
       "      <th>addr_state43</th>\n",
       "      <th>addr_state44</th>\n",
       "      <th>addr_state45</th>\n",
       "      <th>addr_state46</th>\n",
       "      <th>addr_state47</th>\n",
       "      <th>addr_state48</th>\n",
       "      <th>addr_state49</th>\n",
       "      <th>addr_state50</th>\n",
       "      <th>addr_state51</th>\n",
       "      <th>emp_length1</th>\n",
       "      <th>emp_length2</th>\n",
       "      <th>emp_length3</th>\n",
       "      <th>emp_length4</th>\n",
       "      <th>emp_length5</th>\n",
       "      <th>emp_length6</th>\n",
       "      <th>emp_length7</th>\n",
       "      <th>emp_length8</th>\n",
       "      <th>emp_length9</th>\n",
       "      <th>emp_length10</th>\n",
       "      <th>emp_length11</th>\n",
       "      <th>emp_length12</th>\n",
       "      <th>loan_amnt</th>\n",
       "      <th>annual_inc</th>\n",
       "      <th>dti</th>\n",
       "      <th>delinq_2yrs</th>\n",
       "      <th>fico_range_low</th>\n",
       "      <th>fico_range_high</th>\n",
       "      <th>inq_last_6mths</th>\n",
       "      <th>open_acc</th>\n",
       "      <th>pub_rec</th>\n",
       "      <th>revol_bal</th>\n",
       "      <th>revol_util</th>\n",
       "      <th>total_acc</th>\n",
       "      <th>collections_12_mths_ex_med</th>\n",
       "      <th>tot_coll_amt</th>\n",
       "      <th>pub_rec_bankruptcies</th>\n",
       "      <th>tax_liens</th>\n",
       "    </tr>\n",
       "  </thead>\n",
       "  <tbody>\n",
       "    <tr>\n",
       "      <th>0</th>\n",
       "      <td>0.0</td>\n",
       "      <td>0</td>\n",
       "      <td>1</td>\n",
       "      <td>0</td>\n",
       "      <td>0</td>\n",
       "      <td>0</td>\n",
       "      <td>0</td>\n",
       "      <td>1</td>\n",
       "      <td>0</td>\n",
       "      <td>0</td>\n",
       "      <td>0</td>\n",
       "      <td>1</td>\n",
       "      <td>0</td>\n",
       "      <td>0</td>\n",
       "      <td>0</td>\n",
       "      <td>0</td>\n",
       "      <td>0</td>\n",
       "      <td>0</td>\n",
       "      <td>0</td>\n",
       "      <td>0</td>\n",
       "      <td>0</td>\n",
       "      <td>0</td>\n",
       "      <td>0</td>\n",
       "      <td>0</td>\n",
       "      <td>0</td>\n",
       "      <td>0</td>\n",
       "      <td>0</td>\n",
       "      <td>0</td>\n",
       "      <td>0</td>\n",
       "      <td>0</td>\n",
       "      <td>0</td>\n",
       "      <td>0</td>\n",
       "      <td>0</td>\n",
       "      <td>0</td>\n",
       "      <td>0</td>\n",
       "      <td>0</td>\n",
       "      <td>0</td>\n",
       "      <td>0</td>\n",
       "      <td>0</td>\n",
       "      <td>0</td>\n",
       "      <td>0</td>\n",
       "      <td>0</td>\n",
       "      <td>0</td>\n",
       "      <td>0</td>\n",
       "      <td>0</td>\n",
       "      <td>0</td>\n",
       "      <td>0</td>\n",
       "      <td>0</td>\n",
       "      <td>0</td>\n",
       "      <td>0</td>\n",
       "      <td>0</td>\n",
       "      <td>0</td>\n",
       "      <td>0</td>\n",
       "      <td>0</td>\n",
       "      <td>0</td>\n",
       "      <td>0</td>\n",
       "      <td>0</td>\n",
       "      <td>0</td>\n",
       "      <td>0</td>\n",
       "      <td>0</td>\n",
       "      <td>0</td>\n",
       "      <td>0</td>\n",
       "      <td>0</td>\n",
       "      <td>0</td>\n",
       "      <td>0</td>\n",
       "      <td>0</td>\n",
       "      <td>0</td>\n",
       "      <td>0</td>\n",
       "      <td>0</td>\n",
       "      <td>1</td>\n",
       "      <td>0</td>\n",
       "      <td>0</td>\n",
       "      <td>0</td>\n",
       "      <td>0</td>\n",
       "      <td>0</td>\n",
       "      <td>0</td>\n",
       "      <td>0</td>\n",
       "      <td>0</td>\n",
       "      <td>0</td>\n",
       "      <td>1</td>\n",
       "      <td>0</td>\n",
       "      <td>0</td>\n",
       "      <td>0</td>\n",
       "      <td>0</td>\n",
       "      <td>0</td>\n",
       "      <td>0</td>\n",
       "      <td>0</td>\n",
       "      <td>7500</td>\n",
       "      <td>65000.0</td>\n",
       "      <td>22.47</td>\n",
       "      <td>1</td>\n",
       "      <td>690</td>\n",
       "      <td>694</td>\n",
       "      <td>0</td>\n",
       "      <td>10</td>\n",
       "      <td>0</td>\n",
       "      <td>10869</td>\n",
       "      <td>0.715</td>\n",
       "      <td>36</td>\n",
       "      <td>0</td>\n",
       "      <td>225</td>\n",
       "      <td>0</td>\n",
       "      <td>0</td>\n",
       "    </tr>\n",
       "    <tr>\n",
       "      <th>1</th>\n",
       "      <td>1.0</td>\n",
       "      <td>0</td>\n",
       "      <td>1</td>\n",
       "      <td>0</td>\n",
       "      <td>0</td>\n",
       "      <td>0</td>\n",
       "      <td>0</td>\n",
       "      <td>1</td>\n",
       "      <td>0</td>\n",
       "      <td>0</td>\n",
       "      <td>0</td>\n",
       "      <td>0</td>\n",
       "      <td>1</td>\n",
       "      <td>0</td>\n",
       "      <td>0</td>\n",
       "      <td>0</td>\n",
       "      <td>0</td>\n",
       "      <td>0</td>\n",
       "      <td>0</td>\n",
       "      <td>0</td>\n",
       "      <td>0</td>\n",
       "      <td>0</td>\n",
       "      <td>0</td>\n",
       "      <td>0</td>\n",
       "      <td>0</td>\n",
       "      <td>0</td>\n",
       "      <td>0</td>\n",
       "      <td>0</td>\n",
       "      <td>1</td>\n",
       "      <td>0</td>\n",
       "      <td>0</td>\n",
       "      <td>0</td>\n",
       "      <td>0</td>\n",
       "      <td>0</td>\n",
       "      <td>0</td>\n",
       "      <td>0</td>\n",
       "      <td>0</td>\n",
       "      <td>0</td>\n",
       "      <td>0</td>\n",
       "      <td>0</td>\n",
       "      <td>0</td>\n",
       "      <td>0</td>\n",
       "      <td>0</td>\n",
       "      <td>0</td>\n",
       "      <td>0</td>\n",
       "      <td>0</td>\n",
       "      <td>0</td>\n",
       "      <td>0</td>\n",
       "      <td>0</td>\n",
       "      <td>0</td>\n",
       "      <td>0</td>\n",
       "      <td>0</td>\n",
       "      <td>0</td>\n",
       "      <td>0</td>\n",
       "      <td>0</td>\n",
       "      <td>0</td>\n",
       "      <td>0</td>\n",
       "      <td>0</td>\n",
       "      <td>0</td>\n",
       "      <td>0</td>\n",
       "      <td>0</td>\n",
       "      <td>0</td>\n",
       "      <td>0</td>\n",
       "      <td>0</td>\n",
       "      <td>0</td>\n",
       "      <td>0</td>\n",
       "      <td>0</td>\n",
       "      <td>0</td>\n",
       "      <td>0</td>\n",
       "      <td>0</td>\n",
       "      <td>0</td>\n",
       "      <td>0</td>\n",
       "      <td>0</td>\n",
       "      <td>0</td>\n",
       "      <td>0</td>\n",
       "      <td>0</td>\n",
       "      <td>1</td>\n",
       "      <td>0</td>\n",
       "      <td>0</td>\n",
       "      <td>0</td>\n",
       "      <td>0</td>\n",
       "      <td>0</td>\n",
       "      <td>0</td>\n",
       "      <td>0</td>\n",
       "      <td>0</td>\n",
       "      <td>0</td>\n",
       "      <td>0</td>\n",
       "      <td>26250</td>\n",
       "      <td>73216.0</td>\n",
       "      <td>33.11</td>\n",
       "      <td>0</td>\n",
       "      <td>710</td>\n",
       "      <td>714</td>\n",
       "      <td>0</td>\n",
       "      <td>12</td>\n",
       "      <td>0</td>\n",
       "      <td>32793</td>\n",
       "      <td>0.593</td>\n",
       "      <td>26</td>\n",
       "      <td>0</td>\n",
       "      <td>0</td>\n",
       "      <td>0</td>\n",
       "      <td>0</td>\n",
       "    </tr>\n",
       "    <tr>\n",
       "      <th>2</th>\n",
       "      <td>0.0</td>\n",
       "      <td>0</td>\n",
       "      <td>0</td>\n",
       "      <td>0</td>\n",
       "      <td>0</td>\n",
       "      <td>0</td>\n",
       "      <td>1</td>\n",
       "      <td>0</td>\n",
       "      <td>1</td>\n",
       "      <td>0</td>\n",
       "      <td>0</td>\n",
       "      <td>1</td>\n",
       "      <td>0</td>\n",
       "      <td>0</td>\n",
       "      <td>0</td>\n",
       "      <td>0</td>\n",
       "      <td>0</td>\n",
       "      <td>0</td>\n",
       "      <td>0</td>\n",
       "      <td>0</td>\n",
       "      <td>0</td>\n",
       "      <td>0</td>\n",
       "      <td>0</td>\n",
       "      <td>0</td>\n",
       "      <td>0</td>\n",
       "      <td>0</td>\n",
       "      <td>0</td>\n",
       "      <td>0</td>\n",
       "      <td>0</td>\n",
       "      <td>0</td>\n",
       "      <td>0</td>\n",
       "      <td>0</td>\n",
       "      <td>0</td>\n",
       "      <td>0</td>\n",
       "      <td>0</td>\n",
       "      <td>0</td>\n",
       "      <td>0</td>\n",
       "      <td>0</td>\n",
       "      <td>0</td>\n",
       "      <td>0</td>\n",
       "      <td>0</td>\n",
       "      <td>0</td>\n",
       "      <td>0</td>\n",
       "      <td>0</td>\n",
       "      <td>0</td>\n",
       "      <td>0</td>\n",
       "      <td>0</td>\n",
       "      <td>0</td>\n",
       "      <td>0</td>\n",
       "      <td>0</td>\n",
       "      <td>0</td>\n",
       "      <td>0</td>\n",
       "      <td>0</td>\n",
       "      <td>0</td>\n",
       "      <td>0</td>\n",
       "      <td>1</td>\n",
       "      <td>0</td>\n",
       "      <td>0</td>\n",
       "      <td>0</td>\n",
       "      <td>0</td>\n",
       "      <td>0</td>\n",
       "      <td>0</td>\n",
       "      <td>0</td>\n",
       "      <td>0</td>\n",
       "      <td>0</td>\n",
       "      <td>0</td>\n",
       "      <td>0</td>\n",
       "      <td>0</td>\n",
       "      <td>0</td>\n",
       "      <td>0</td>\n",
       "      <td>0</td>\n",
       "      <td>0</td>\n",
       "      <td>0</td>\n",
       "      <td>0</td>\n",
       "      <td>0</td>\n",
       "      <td>0</td>\n",
       "      <td>0</td>\n",
       "      <td>0</td>\n",
       "      <td>0</td>\n",
       "      <td>1</td>\n",
       "      <td>0</td>\n",
       "      <td>0</td>\n",
       "      <td>0</td>\n",
       "      <td>0</td>\n",
       "      <td>0</td>\n",
       "      <td>0</td>\n",
       "      <td>0</td>\n",
       "      <td>35000</td>\n",
       "      <td>160000.0</td>\n",
       "      <td>21.31</td>\n",
       "      <td>0</td>\n",
       "      <td>685</td>\n",
       "      <td>689</td>\n",
       "      <td>0</td>\n",
       "      <td>18</td>\n",
       "      <td>0</td>\n",
       "      <td>55052</td>\n",
       "      <td>0.590</td>\n",
       "      <td>29</td>\n",
       "      <td>0</td>\n",
       "      <td>1701</td>\n",
       "      <td>0</td>\n",
       "      <td>0</td>\n",
       "    </tr>\n",
       "    <tr>\n",
       "      <th>3</th>\n",
       "      <td>0.0</td>\n",
       "      <td>0</td>\n",
       "      <td>0</td>\n",
       "      <td>0</td>\n",
       "      <td>0</td>\n",
       "      <td>0</td>\n",
       "      <td>1</td>\n",
       "      <td>1</td>\n",
       "      <td>0</td>\n",
       "      <td>0</td>\n",
       "      <td>0</td>\n",
       "      <td>1</td>\n",
       "      <td>0</td>\n",
       "      <td>0</td>\n",
       "      <td>0</td>\n",
       "      <td>0</td>\n",
       "      <td>0</td>\n",
       "      <td>0</td>\n",
       "      <td>0</td>\n",
       "      <td>0</td>\n",
       "      <td>0</td>\n",
       "      <td>0</td>\n",
       "      <td>0</td>\n",
       "      <td>0</td>\n",
       "      <td>0</td>\n",
       "      <td>0</td>\n",
       "      <td>0</td>\n",
       "      <td>0</td>\n",
       "      <td>0</td>\n",
       "      <td>0</td>\n",
       "      <td>0</td>\n",
       "      <td>0</td>\n",
       "      <td>0</td>\n",
       "      <td>0</td>\n",
       "      <td>0</td>\n",
       "      <td>0</td>\n",
       "      <td>0</td>\n",
       "      <td>0</td>\n",
       "      <td>0</td>\n",
       "      <td>0</td>\n",
       "      <td>0</td>\n",
       "      <td>0</td>\n",
       "      <td>0</td>\n",
       "      <td>0</td>\n",
       "      <td>0</td>\n",
       "      <td>0</td>\n",
       "      <td>0</td>\n",
       "      <td>0</td>\n",
       "      <td>0</td>\n",
       "      <td>0</td>\n",
       "      <td>0</td>\n",
       "      <td>0</td>\n",
       "      <td>0</td>\n",
       "      <td>0</td>\n",
       "      <td>0</td>\n",
       "      <td>0</td>\n",
       "      <td>0</td>\n",
       "      <td>0</td>\n",
       "      <td>1</td>\n",
       "      <td>0</td>\n",
       "      <td>0</td>\n",
       "      <td>0</td>\n",
       "      <td>0</td>\n",
       "      <td>0</td>\n",
       "      <td>0</td>\n",
       "      <td>0</td>\n",
       "      <td>0</td>\n",
       "      <td>0</td>\n",
       "      <td>0</td>\n",
       "      <td>0</td>\n",
       "      <td>0</td>\n",
       "      <td>0</td>\n",
       "      <td>0</td>\n",
       "      <td>0</td>\n",
       "      <td>0</td>\n",
       "      <td>0</td>\n",
       "      <td>0</td>\n",
       "      <td>0</td>\n",
       "      <td>0</td>\n",
       "      <td>0</td>\n",
       "      <td>1</td>\n",
       "      <td>0</td>\n",
       "      <td>0</td>\n",
       "      <td>0</td>\n",
       "      <td>0</td>\n",
       "      <td>0</td>\n",
       "      <td>0</td>\n",
       "      <td>6000</td>\n",
       "      <td>40000.0</td>\n",
       "      <td>16.53</td>\n",
       "      <td>0</td>\n",
       "      <td>685</td>\n",
       "      <td>689</td>\n",
       "      <td>0</td>\n",
       "      <td>8</td>\n",
       "      <td>0</td>\n",
       "      <td>5918</td>\n",
       "      <td>0.489</td>\n",
       "      <td>15</td>\n",
       "      <td>0</td>\n",
       "      <td>0</td>\n",
       "      <td>0</td>\n",
       "      <td>0</td>\n",
       "    </tr>\n",
       "    <tr>\n",
       "      <th>4</th>\n",
       "      <td>0.0</td>\n",
       "      <td>0</td>\n",
       "      <td>0</td>\n",
       "      <td>0</td>\n",
       "      <td>0</td>\n",
       "      <td>0</td>\n",
       "      <td>1</td>\n",
       "      <td>0</td>\n",
       "      <td>0</td>\n",
       "      <td>1</td>\n",
       "      <td>0</td>\n",
       "      <td>0</td>\n",
       "      <td>1</td>\n",
       "      <td>0</td>\n",
       "      <td>0</td>\n",
       "      <td>0</td>\n",
       "      <td>0</td>\n",
       "      <td>0</td>\n",
       "      <td>0</td>\n",
       "      <td>0</td>\n",
       "      <td>0</td>\n",
       "      <td>0</td>\n",
       "      <td>0</td>\n",
       "      <td>0</td>\n",
       "      <td>0</td>\n",
       "      <td>0</td>\n",
       "      <td>0</td>\n",
       "      <td>0</td>\n",
       "      <td>0</td>\n",
       "      <td>0</td>\n",
       "      <td>0</td>\n",
       "      <td>0</td>\n",
       "      <td>0</td>\n",
       "      <td>0</td>\n",
       "      <td>0</td>\n",
       "      <td>0</td>\n",
       "      <td>0</td>\n",
       "      <td>0</td>\n",
       "      <td>0</td>\n",
       "      <td>0</td>\n",
       "      <td>0</td>\n",
       "      <td>0</td>\n",
       "      <td>0</td>\n",
       "      <td>0</td>\n",
       "      <td>0</td>\n",
       "      <td>0</td>\n",
       "      <td>0</td>\n",
       "      <td>0</td>\n",
       "      <td>0</td>\n",
       "      <td>0</td>\n",
       "      <td>0</td>\n",
       "      <td>0</td>\n",
       "      <td>0</td>\n",
       "      <td>0</td>\n",
       "      <td>0</td>\n",
       "      <td>0</td>\n",
       "      <td>0</td>\n",
       "      <td>0</td>\n",
       "      <td>1</td>\n",
       "      <td>0</td>\n",
       "      <td>0</td>\n",
       "      <td>0</td>\n",
       "      <td>0</td>\n",
       "      <td>0</td>\n",
       "      <td>0</td>\n",
       "      <td>0</td>\n",
       "      <td>0</td>\n",
       "      <td>0</td>\n",
       "      <td>0</td>\n",
       "      <td>0</td>\n",
       "      <td>0</td>\n",
       "      <td>0</td>\n",
       "      <td>0</td>\n",
       "      <td>0</td>\n",
       "      <td>0</td>\n",
       "      <td>0</td>\n",
       "      <td>0</td>\n",
       "      <td>0</td>\n",
       "      <td>0</td>\n",
       "      <td>0</td>\n",
       "      <td>0</td>\n",
       "      <td>0</td>\n",
       "      <td>1</td>\n",
       "      <td>0</td>\n",
       "      <td>0</td>\n",
       "      <td>0</td>\n",
       "      <td>0</td>\n",
       "      <td>14000</td>\n",
       "      <td>105000.0</td>\n",
       "      <td>7.56</td>\n",
       "      <td>0</td>\n",
       "      <td>675</td>\n",
       "      <td>679</td>\n",
       "      <td>1</td>\n",
       "      <td>11</td>\n",
       "      <td>0</td>\n",
       "      <td>37349</td>\n",
       "      <td>0.523</td>\n",
       "      <td>17</td>\n",
       "      <td>0</td>\n",
       "      <td>0</td>\n",
       "      <td>0</td>\n",
       "      <td>0</td>\n",
       "    </tr>\n",
       "  </tbody>\n",
       "</table>\n",
       "</div>"
      ],
      "text/plain": [
       "   depvar  home_ownership1  home_ownership2  home_ownership3  home_ownership4  \\\n",
       "0     0.0                0                1                0                0   \n",
       "1     1.0                0                1                0                0   \n",
       "2     0.0                0                0                0                0   \n",
       "3     0.0                0                0                0                0   \n",
       "4     0.0                0                0                0                0   \n",
       "\n",
       "   home_ownership5  home_ownership6  verification_status1  \\\n",
       "0                0                0                     1   \n",
       "1                0                0                     1   \n",
       "2                0                1                     0   \n",
       "3                0                1                     1   \n",
       "4                0                1                     0   \n",
       "\n",
       "   verification_status2  verification_status3  purpose1  purpose2  purpose3  \\\n",
       "0                     0                     0         0         1         0   \n",
       "1                     0                     0         0         0         1   \n",
       "2                     1                     0         0         1         0   \n",
       "3                     0                     0         0         1         0   \n",
       "4                     0                     1         0         0         1   \n",
       "\n",
       "   purpose4  purpose5  purpose6  purpose7  purpose8  purpose9  purpose10  \\\n",
       "0         0         0         0         0         0         0          0   \n",
       "1         0         0         0         0         0         0          0   \n",
       "2         0         0         0         0         0         0          0   \n",
       "3         0         0         0         0         0         0          0   \n",
       "4         0         0         0         0         0         0          0   \n",
       "\n",
       "   purpose11  purpose12  purpose13  purpose14  addr_state1  addr_state2  \\\n",
       "0          0          0          0          0            0            0   \n",
       "1          0          0          0          0            0            0   \n",
       "2          0          0          0          0            0            0   \n",
       "3          0          0          0          0            0            0   \n",
       "4          0          0          0          0            0            0   \n",
       "\n",
       "   addr_state3  addr_state4  addr_state5  addr_state6  addr_state7  \\\n",
       "0            0            0            0            0            0   \n",
       "1            0            0            1            0            0   \n",
       "2            0            0            0            0            0   \n",
       "3            0            0            0            0            0   \n",
       "4            0            0            0            0            0   \n",
       "\n",
       "   addr_state8  addr_state9  addr_state10  addr_state11  addr_state12  \\\n",
       "0            0            0             0             0             0   \n",
       "1            0            0             0             0             0   \n",
       "2            0            0             0             0             0   \n",
       "3            0            0             0             0             0   \n",
       "4            0            0             0             0             0   \n",
       "\n",
       "   addr_state13  addr_state14  addr_state15  addr_state16  addr_state17  \\\n",
       "0             0             0             0             0             0   \n",
       "1             0             0             0             0             0   \n",
       "2             0             0             0             0             0   \n",
       "3             0             0             0             0             0   \n",
       "4             0             0             0             0             0   \n",
       "\n",
       "   addr_state18  addr_state19  addr_state20  addr_state21  addr_state22  \\\n",
       "0             0             0             0             0             0   \n",
       "1             0             0             0             0             0   \n",
       "2             0             0             0             0             0   \n",
       "3             0             0             0             0             0   \n",
       "4             0             0             0             0             0   \n",
       "\n",
       "   addr_state23  addr_state24  addr_state25  addr_state26  addr_state27  \\\n",
       "0             0             0             0             0             0   \n",
       "1             0             0             0             0             0   \n",
       "2             0             0             0             0             0   \n",
       "3             0             0             0             0             0   \n",
       "4             0             0             0             0             0   \n",
       "\n",
       "   addr_state28  addr_state29  addr_state30  addr_state31  addr_state32  \\\n",
       "0             0             0             0             0             0   \n",
       "1             0             0             0             0             0   \n",
       "2             0             0             0             0             1   \n",
       "3             0             0             0             0             0   \n",
       "4             0             0             0             0             0   \n",
       "\n",
       "   addr_state33  addr_state34  addr_state35  addr_state36  addr_state37  \\\n",
       "0             0             0             0             0             0   \n",
       "1             0             0             0             0             0   \n",
       "2             0             0             0             0             0   \n",
       "3             0             0             1             0             0   \n",
       "4             0             0             1             0             0   \n",
       "\n",
       "   addr_state38  addr_state39  addr_state40  addr_state41  addr_state42  \\\n",
       "0             0             0             0             0             0   \n",
       "1             0             0             0             0             0   \n",
       "2             0             0             0             0             0   \n",
       "3             0             0             0             0             0   \n",
       "4             0             0             0             0             0   \n",
       "\n",
       "   addr_state43  addr_state44  addr_state45  addr_state46  addr_state47  \\\n",
       "0             0             0             0             1             0   \n",
       "1             0             0             0             0             0   \n",
       "2             0             0             0             0             0   \n",
       "3             0             0             0             0             0   \n",
       "4             0             0             0             0             0   \n",
       "\n",
       "   addr_state48  addr_state49  addr_state50  addr_state51  emp_length1  \\\n",
       "0             0             0             0             0            0   \n",
       "1             0             0             0             0            0   \n",
       "2             0             0             0             0            0   \n",
       "3             0             0             0             0            0   \n",
       "4             0             0             0             0            0   \n",
       "\n",
       "   emp_length2  emp_length3  emp_length4  emp_length5  emp_length6  \\\n",
       "0            0            0            0            1            0   \n",
       "1            1            0            0            0            0   \n",
       "2            0            0            0            1            0   \n",
       "3            0            0            0            0            1   \n",
       "4            0            0            0            0            0   \n",
       "\n",
       "   emp_length7  emp_length8  emp_length9  emp_length10  emp_length11  \\\n",
       "0            0            0            0             0             0   \n",
       "1            0            0            0             0             0   \n",
       "2            0            0            0             0             0   \n",
       "3            0            0            0             0             0   \n",
       "4            0            1            0             0             0   \n",
       "\n",
       "   emp_length12  loan_amnt  annual_inc    dti  delinq_2yrs  fico_range_low  \\\n",
       "0             0       7500     65000.0  22.47            1             690   \n",
       "1             0      26250     73216.0  33.11            0             710   \n",
       "2             0      35000    160000.0  21.31            0             685   \n",
       "3             0       6000     40000.0  16.53            0             685   \n",
       "4             0      14000    105000.0   7.56            0             675   \n",
       "\n",
       "   fico_range_high  inq_last_6mths  open_acc  pub_rec  revol_bal  revol_util  \\\n",
       "0              694               0        10        0      10869       0.715   \n",
       "1              714               0        12        0      32793       0.593   \n",
       "2              689               0        18        0      55052       0.590   \n",
       "3              689               0         8        0       5918       0.489   \n",
       "4              679               1        11        0      37349       0.523   \n",
       "\n",
       "   total_acc  collections_12_mths_ex_med  tot_coll_amt  pub_rec_bankruptcies  \\\n",
       "0         36                           0           225                     0   \n",
       "1         26                           0             0                     0   \n",
       "2         29                           0          1701                     0   \n",
       "3         15                           0             0                     0   \n",
       "4         17                           0             0                     0   \n",
       "\n",
       "   tax_liens  \n",
       "0          0  \n",
       "1          0  \n",
       "2          0  \n",
       "3          0  \n",
       "4          0  "
      ]
     },
     "execution_count": 78,
     "metadata": {},
     "output_type": "execute_result"
    }
   ],
   "source": [
    "loan.head()"
   ]
  },
  {
   "cell_type": "code",
   "execution_count": 79,
   "id": "2a2cd247",
   "metadata": {},
   "outputs": [
    {
     "name": "stderr",
     "output_type": "stream",
     "text": [
      "C:\\Users\\tjsru\\AppData\\Local\\Temp\\ipykernel_2532\\2317653803.py:2: SettingWithCopyWarning: \n",
      "A value is trying to be set on a copy of a slice from a DataFrame.\n",
      "Try using .loc[row_indexer,col_indexer] = value instead\n",
      "\n",
      "See the caveats in the documentation: https://pandas.pydata.org/pandas-docs/stable/user_guide/indexing.html#returning-a-view-versus-a-copy\n",
      "  loan['fico_average'] = (loan['fico_range_low']+loan['fico_range_high'])/2\n",
      "C:\\Users\\tjsru\\AppData\\Local\\Temp\\ipykernel_2532\\2317653803.py:4: SettingWithCopyWarning: \n",
      "A value is trying to be set on a copy of a slice from a DataFrame\n",
      "\n",
      "See the caveats in the documentation: https://pandas.pydata.org/pandas-docs/stable/user_guide/indexing.html#returning-a-view-versus-a-copy\n",
      "  loan.drop(['fico_range_low','fico_range_high'],axis = 1,inplace = True)\n"
     ]
    }
   ],
   "source": [
    "# fico_average 컬럼 생성\n",
    "loan['fico_average'] = (loan['fico_range_low']+loan['fico_range_high'])/2\n",
    "\n",
    "loan.drop(['fico_range_low','fico_range_high'],axis = 1,inplace = True)"
   ]
  },
  {
   "cell_type": "code",
   "execution_count": 53,
   "id": "8cb6ec04",
   "metadata": {},
   "outputs": [
    {
     "data": {
      "text/plain": [
       "(218584, 102)"
      ]
     },
     "execution_count": 53,
     "metadata": {},
     "output_type": "execute_result"
    }
   ],
   "source": [
    "loan.shape"
   ]
  },
  {
   "cell_type": "code",
   "execution_count": 80,
   "id": "c74e7b43",
   "metadata": {},
   "outputs": [
    {
     "name": "stdout",
     "output_type": "stream",
     "text": [
      "0\n"
     ]
    }
   ],
   "source": [
    "num_nans = loan.isna().sum().sum()\n",
    "\n",
    "print(num_nans)"
   ]
  },
  {
   "cell_type": "markdown",
   "id": "34be85a8",
   "metadata": {},
   "source": [
    "# 로그변환"
   ]
  },
  {
   "cell_type": "code",
   "execution_count": 81,
   "id": "97bb3033",
   "metadata": {},
   "outputs": [],
   "source": [
    "log_array =['loan_amnt','annual_inc','dti','delinq_2yrs','fico_average',\n",
    "            'revol_bal','revol_util','total_acc','collections_12_mths_ex_med','tot_coll_amt']"
   ]
  },
  {
   "cell_type": "code",
   "execution_count": 82,
   "id": "c20121a2",
   "metadata": {},
   "outputs": [
    {
     "name": "stderr",
     "output_type": "stream",
     "text": [
      "C:\\ProgramData\\Anaconda3\\lib\\site-packages\\pandas\\core\\arraylike.py:397: RuntimeWarning: divide by zero encountered in log1p\n",
      "  result = getattr(ufunc, method)(*inputs, **kwargs)\n"
     ]
    }
   ],
   "source": [
    "import numpy as  np\n",
    "\n",
    "for name in log_array:\n",
    "    globals()['{}_log'.format(name)]=np.log1p(loan[name])"
   ]
  },
  {
   "cell_type": "code",
   "execution_count": 83,
   "id": "4584c11a",
   "metadata": {},
   "outputs": [
    {
     "name": "stderr",
     "output_type": "stream",
     "text": [
      "C:\\Users\\tjsru\\AppData\\Local\\Temp\\ipykernel_2532\\2037867783.py:1: SettingWithCopyWarning: \n",
      "A value is trying to be set on a copy of a slice from a DataFrame.\n",
      "Try using .loc[row_indexer,col_indexer] = value instead\n",
      "\n",
      "See the caveats in the documentation: https://pandas.pydata.org/pandas-docs/stable/user_guide/indexing.html#returning-a-view-versus-a-copy\n",
      "  loan['loan_amnt_log'] = loan_amnt_log\n",
      "C:\\Users\\tjsru\\AppData\\Local\\Temp\\ipykernel_2532\\2037867783.py:2: SettingWithCopyWarning: \n",
      "A value is trying to be set on a copy of a slice from a DataFrame.\n",
      "Try using .loc[row_indexer,col_indexer] = value instead\n",
      "\n",
      "See the caveats in the documentation: https://pandas.pydata.org/pandas-docs/stable/user_guide/indexing.html#returning-a-view-versus-a-copy\n",
      "  loan['annual_inc_log'] = annual_inc_log\n",
      "C:\\Users\\tjsru\\AppData\\Local\\Temp\\ipykernel_2532\\2037867783.py:3: SettingWithCopyWarning: \n",
      "A value is trying to be set on a copy of a slice from a DataFrame.\n",
      "Try using .loc[row_indexer,col_indexer] = value instead\n",
      "\n",
      "See the caveats in the documentation: https://pandas.pydata.org/pandas-docs/stable/user_guide/indexing.html#returning-a-view-versus-a-copy\n",
      "  loan['dti_log'] = dti_log\n",
      "C:\\Users\\tjsru\\AppData\\Local\\Temp\\ipykernel_2532\\2037867783.py:4: SettingWithCopyWarning: \n",
      "A value is trying to be set on a copy of a slice from a DataFrame.\n",
      "Try using .loc[row_indexer,col_indexer] = value instead\n",
      "\n",
      "See the caveats in the documentation: https://pandas.pydata.org/pandas-docs/stable/user_guide/indexing.html#returning-a-view-versus-a-copy\n",
      "  loan['delinq_2yrs_log'] = delinq_2yrs_log\n",
      "C:\\Users\\tjsru\\AppData\\Local\\Temp\\ipykernel_2532\\2037867783.py:5: SettingWithCopyWarning: \n",
      "A value is trying to be set on a copy of a slice from a DataFrame.\n",
      "Try using .loc[row_indexer,col_indexer] = value instead\n",
      "\n",
      "See the caveats in the documentation: https://pandas.pydata.org/pandas-docs/stable/user_guide/indexing.html#returning-a-view-versus-a-copy\n",
      "  loan['fico_average_log'] = fico_average_log\n",
      "C:\\Users\\tjsru\\AppData\\Local\\Temp\\ipykernel_2532\\2037867783.py:6: SettingWithCopyWarning: \n",
      "A value is trying to be set on a copy of a slice from a DataFrame.\n",
      "Try using .loc[row_indexer,col_indexer] = value instead\n",
      "\n",
      "See the caveats in the documentation: https://pandas.pydata.org/pandas-docs/stable/user_guide/indexing.html#returning-a-view-versus-a-copy\n",
      "  loan['revol_bal_log'] = revol_bal_log\n",
      "C:\\Users\\tjsru\\AppData\\Local\\Temp\\ipykernel_2532\\2037867783.py:7: SettingWithCopyWarning: \n",
      "A value is trying to be set on a copy of a slice from a DataFrame.\n",
      "Try using .loc[row_indexer,col_indexer] = value instead\n",
      "\n",
      "See the caveats in the documentation: https://pandas.pydata.org/pandas-docs/stable/user_guide/indexing.html#returning-a-view-versus-a-copy\n",
      "  loan['revol_util_log'] = revol_util_log\n",
      "C:\\Users\\tjsru\\AppData\\Local\\Temp\\ipykernel_2532\\2037867783.py:8: SettingWithCopyWarning: \n",
      "A value is trying to be set on a copy of a slice from a DataFrame.\n",
      "Try using .loc[row_indexer,col_indexer] = value instead\n",
      "\n",
      "See the caveats in the documentation: https://pandas.pydata.org/pandas-docs/stable/user_guide/indexing.html#returning-a-view-versus-a-copy\n",
      "  loan['total_acc_log'] = total_acc_log\n",
      "C:\\Users\\tjsru\\AppData\\Local\\Temp\\ipykernel_2532\\2037867783.py:9: SettingWithCopyWarning: \n",
      "A value is trying to be set on a copy of a slice from a DataFrame.\n",
      "Try using .loc[row_indexer,col_indexer] = value instead\n",
      "\n",
      "See the caveats in the documentation: https://pandas.pydata.org/pandas-docs/stable/user_guide/indexing.html#returning-a-view-versus-a-copy\n",
      "  loan['collections_12_mths_ex_med_log'] = collections_12_mths_ex_med_log\n",
      "C:\\Users\\tjsru\\AppData\\Local\\Temp\\ipykernel_2532\\2037867783.py:10: SettingWithCopyWarning: \n",
      "A value is trying to be set on a copy of a slice from a DataFrame.\n",
      "Try using .loc[row_indexer,col_indexer] = value instead\n",
      "\n",
      "See the caveats in the documentation: https://pandas.pydata.org/pandas-docs/stable/user_guide/indexing.html#returning-a-view-versus-a-copy\n",
      "  loan['tot_coll_amt_log'] = tot_coll_amt_log\n"
     ]
    }
   ],
   "source": [
    "loan['loan_amnt_log'] = loan_amnt_log\n",
    "loan['annual_inc_log'] = annual_inc_log\n",
    "loan['dti_log'] = dti_log\n",
    "loan['delinq_2yrs_log'] = delinq_2yrs_log\n",
    "loan['fico_average_log'] = fico_average_log\n",
    "loan['revol_bal_log'] = revol_bal_log\n",
    "loan['revol_util_log'] = revol_util_log\n",
    "loan['total_acc_log'] = total_acc_log\n",
    "loan['collections_12_mths_ex_med_log'] = collections_12_mths_ex_med_log\n",
    "loan['tot_coll_amt_log'] = tot_coll_amt_log"
   ]
  },
  {
   "cell_type": "code",
   "execution_count": 84,
   "id": "12051911",
   "metadata": {},
   "outputs": [
    {
     "name": "stderr",
     "output_type": "stream",
     "text": [
      "C:\\Users\\tjsru\\AppData\\Local\\Temp\\ipykernel_2532\\2520027382.py:1: SettingWithCopyWarning: \n",
      "A value is trying to be set on a copy of a slice from a DataFrame\n",
      "\n",
      "See the caveats in the documentation: https://pandas.pydata.org/pandas-docs/stable/user_guide/indexing.html#returning-a-view-versus-a-copy\n",
      "  loan.drop(columns = log_array, axis = 1, inplace=True)\n"
     ]
    },
    {
     "data": {
      "text/plain": [
       "(218584, 102)"
      ]
     },
     "execution_count": 84,
     "metadata": {},
     "output_type": "execute_result"
    }
   ],
   "source": [
    "loan.drop(columns = log_array, axis = 1, inplace=True)\n",
    "loan.shape"
   ]
  },
  {
   "cell_type": "code",
   "execution_count": 85,
   "id": "0a4c37cd",
   "metadata": {},
   "outputs": [
    {
     "name": "stdout",
     "output_type": "stream",
     "text": [
      "0\n"
     ]
    }
   ],
   "source": [
    "num_nans = loan.isna().sum().sum()\n",
    "\n",
    "print(num_nans)"
   ]
  },
  {
   "cell_type": "markdown",
   "id": "74475242",
   "metadata": {},
   "source": [
    "# 더미변수 묶어주기 & 지우기"
   ]
  },
  {
   "cell_type": "code",
   "execution_count": 86,
   "id": "526ff499",
   "metadata": {},
   "outputs": [
    {
     "name": "stderr",
     "output_type": "stream",
     "text": [
      "C:\\Users\\tjsru\\AppData\\Local\\Temp\\ipykernel_2532\\2439469807.py:2: SettingWithCopyWarning: \n",
      "A value is trying to be set on a copy of a slice from a DataFrame.\n",
      "Try using .loc[row_indexer,col_indexer] = value instead\n",
      "\n",
      "See the caveats in the documentation: https://pandas.pydata.org/pandas-docs/stable/user_guide/indexing.html#returning-a-view-versus-a-copy\n",
      "  loan['purpose_group1'] = loan['purpose1']+loan['purpose5']+loan['purpose6']+loan['purpose8']+loan['purpose9']\n",
      "C:\\Users\\tjsru\\AppData\\Local\\Temp\\ipykernel_2532\\2439469807.py:3: SettingWithCopyWarning: \n",
      "A value is trying to be set on a copy of a slice from a DataFrame.\n",
      "Try using .loc[row_indexer,col_indexer] = value instead\n",
      "\n",
      "See the caveats in the documentation: https://pandas.pydata.org/pandas-docs/stable/user_guide/indexing.html#returning-a-view-versus-a-copy\n",
      "  loan['purpose_group2'] = loan['purpose2']+loan['purpose3']\n",
      "C:\\Users\\tjsru\\AppData\\Local\\Temp\\ipykernel_2532\\2439469807.py:4: SettingWithCopyWarning: \n",
      "A value is trying to be set on a copy of a slice from a DataFrame.\n",
      "Try using .loc[row_indexer,col_indexer] = value instead\n",
      "\n",
      "See the caveats in the documentation: https://pandas.pydata.org/pandas-docs/stable/user_guide/indexing.html#returning-a-view-versus-a-copy\n",
      "  loan['purpose_group3'] = loan['purpose10']+loan['purpose11']+loan['purpose13']\n",
      "C:\\Users\\tjsru\\AppData\\Local\\Temp\\ipykernel_2532\\2439469807.py:5: SettingWithCopyWarning: \n",
      "A value is trying to be set on a copy of a slice from a DataFrame.\n",
      "Try using .loc[row_indexer,col_indexer] = value instead\n",
      "\n",
      "See the caveats in the documentation: https://pandas.pydata.org/pandas-docs/stable/user_guide/indexing.html#returning-a-view-versus-a-copy\n",
      "  loan['purpose_group4'] = loan['purpose4']+loan['purpose7']+loan['purpose12']\n"
     ]
    }
   ],
   "source": [
    "# 더미변수 묶어주기\n",
    "loan['purpose_group1'] = loan['purpose1']+loan['purpose5']+loan['purpose6']+loan['purpose8']+loan['purpose9']\n",
    "loan['purpose_group2'] = loan['purpose2']+loan['purpose3']\n",
    "loan['purpose_group3'] = loan['purpose10']+loan['purpose11']+loan['purpose13']\n",
    "loan['purpose_group4'] = loan['purpose4']+loan['purpose7']+loan['purpose12']"
   ]
  },
  {
   "cell_type": "code",
   "execution_count": 87,
   "id": "b8002914",
   "metadata": {},
   "outputs": [
    {
     "name": "stderr",
     "output_type": "stream",
     "text": [
      "C:\\Users\\tjsru\\AppData\\Local\\Temp\\ipykernel_2532\\1113189158.py:1: SettingWithCopyWarning: \n",
      "A value is trying to be set on a copy of a slice from a DataFrame\n",
      "\n",
      "See the caveats in the documentation: https://pandas.pydata.org/pandas-docs/stable/user_guide/indexing.html#returning-a-view-versus-a-copy\n",
      "  loan.drop(['purpose_group3'],axis = 1,inplace = True)\n"
     ]
    }
   ],
   "source": [
    "loan.drop(['purpose_group3'],axis = 1,inplace = True)"
   ]
  },
  {
   "cell_type": "code",
   "execution_count": 88,
   "id": "2c4dfcc3",
   "metadata": {},
   "outputs": [],
   "source": [
    "loan = loan.rename({'purpose_group4':'purpose_group3'})"
   ]
  },
  {
   "cell_type": "code",
   "execution_count": 89,
   "id": "3015a062",
   "metadata": {},
   "outputs": [],
   "source": [
    "loan.drop(['purpose1','purpose2','purpose3','purpose4','purpose5','purpose6','purpose7',\n",
    "         'purpose8','purpose9','purpose10','purpose11','purpose12','purpose13', 'purpose14'],axis = 1, inplace= True)"
   ]
  },
  {
   "cell_type": "code",
   "execution_count": 90,
   "id": "43c636d2",
   "metadata": {},
   "outputs": [],
   "source": [
    "# 더미변수 하나씩 제거\n",
    "loan.drop(['home_ownership6', 'verification_status3', 'addr_state51', 'emp_length12'], axis=1, inplace=True)"
   ]
  },
  {
   "cell_type": "code",
   "execution_count": 91,
   "id": "cc10896e",
   "metadata": {},
   "outputs": [
    {
     "data": {
      "text/plain": [
       "(218584, 87)"
      ]
     },
     "execution_count": 91,
     "metadata": {},
     "output_type": "execute_result"
    }
   ],
   "source": [
    "loan.shape"
   ]
  },
  {
   "cell_type": "code",
   "execution_count": 92,
   "id": "910ca112",
   "metadata": {},
   "outputs": [
    {
     "name": "stdout",
     "output_type": "stream",
     "text": [
      "0\n"
     ]
    }
   ],
   "source": [
    "num_nans = loan.isna().sum().sum()\n",
    "\n",
    "print(num_nans)"
   ]
  },
  {
   "cell_type": "markdown",
   "id": "f91d0033",
   "metadata": {},
   "source": [
    "# 이상치 제거"
   ]
  },
  {
   "cell_type": "code",
   "execution_count": 93,
   "id": "37843b39",
   "metadata": {},
   "outputs": [],
   "source": [
    "q1 = loan.quantile(0.25)\n",
    "q3 = loan.quantile(0.75)\n",
    "iqr = q3-q1"
   ]
  },
  {
   "cell_type": "code",
   "execution_count": 94,
   "id": "27568266",
   "metadata": {},
   "outputs": [],
   "source": [
    "loan_k = loan.iloc[:,:]"
   ]
  },
  {
   "cell_type": "code",
   "execution_count": 95,
   "id": "c22ea25b",
   "metadata": {},
   "outputs": [
    {
     "data": {
      "text/plain": [
       "(216108, 87)"
      ]
     },
     "execution_count": 95,
     "metadata": {},
     "output_type": "execute_result"
    }
   ],
   "source": [
    "loan_k = loan_k[loan_k['loan_amnt_log']<(q3['loan_amnt_log']+1.5*iqr['loan_amnt_log'])]\n",
    "loan_k = loan_k[loan_k['loan_amnt_log']>(q1['loan_amnt_log']-1.5*iqr['loan_amnt_log'])]\n",
    "loan_k.shape"
   ]
  },
  {
   "cell_type": "code",
   "execution_count": 96,
   "id": "507c97fc",
   "metadata": {},
   "outputs": [
    {
     "data": {
      "text/plain": [
       "(212637, 87)"
      ]
     },
     "execution_count": 96,
     "metadata": {},
     "output_type": "execute_result"
    }
   ],
   "source": [
    "loan_k = loan_k[loan_k['annual_inc_log']<(q3['annual_inc_log']+1.5*iqr['annual_inc_log'])]\n",
    "loan_k = loan_k[loan_k['annual_inc_log']>(q1['annual_inc_log']-1.5*iqr['annual_inc_log'])]\n",
    "loan_k.shape"
   ]
  },
  {
   "cell_type": "code",
   "execution_count": 97,
   "id": "add706ad",
   "metadata": {},
   "outputs": [
    {
     "data": {
      "text/plain": [
       "(207130, 87)"
      ]
     },
     "execution_count": 97,
     "metadata": {},
     "output_type": "execute_result"
    }
   ],
   "source": [
    "loan_k = loan_k[loan_k['dti_log']<(q3['dti_log']+1.5*iqr['dti_log'])]\n",
    "loan_k = loan_k[loan_k['dti_log']>(q1['dti_log']-1.5*iqr['dti_log'])]\n",
    "loan_k.shape"
   ]
  },
  {
   "cell_type": "code",
   "execution_count": 98,
   "id": "808edf2e",
   "metadata": {},
   "outputs": [
    {
     "data": {
      "text/plain": [
       "(196363, 87)"
      ]
     },
     "execution_count": 98,
     "metadata": {},
     "output_type": "execute_result"
    }
   ],
   "source": [
    "loan_k = loan_k[loan_k['inq_last_6mths']<(q3['inq_last_6mths']+1.5*iqr['inq_last_6mths'])]\n",
    "loan_k = loan_k[loan_k['inq_last_6mths']>(q1['inq_last_6mths']-1.5*iqr['inq_last_6mths'])]\n",
    "loan_k.shape"
   ]
  },
  {
   "cell_type": "code",
   "execution_count": 99,
   "id": "060e2b10",
   "metadata": {},
   "outputs": [
    {
     "data": {
      "text/plain": [
       "(188385, 87)"
      ]
     },
     "execution_count": 99,
     "metadata": {},
     "output_type": "execute_result"
    }
   ],
   "source": [
    "loan_k = loan_k[loan_k['open_acc']<(q3['open_acc']+1.5*iqr['open_acc'])]\n",
    "loan_k = loan_k[loan_k['open_acc']>(q1['open_acc']-1.5*iqr['open_acc'])]\n",
    "loan_k.shape"
   ]
  },
  {
   "cell_type": "code",
   "execution_count": 100,
   "id": "6192ad09",
   "metadata": {},
   "outputs": [
    {
     "data": {
      "text/plain": [
       "(183746, 87)"
      ]
     },
     "execution_count": 100,
     "metadata": {},
     "output_type": "execute_result"
    }
   ],
   "source": [
    "loan_k = loan_k[loan_k['revol_bal_log']<(q3['revol_bal_log']+1.5*iqr['revol_bal_log'])]\n",
    "loan_k = loan_k[loan_k['revol_bal_log']>(q1['revol_bal_log']-1.5*iqr['revol_bal_log'])]\n",
    "loan_k.shape"
   ]
  },
  {
   "cell_type": "code",
   "execution_count": 101,
   "id": "df368d48",
   "metadata": {},
   "outputs": [
    {
     "data": {
      "text/plain": [
       "(183742, 87)"
      ]
     },
     "execution_count": 101,
     "metadata": {},
     "output_type": "execute_result"
    }
   ],
   "source": [
    "loan_k = loan_k[loan_k['revol_util_log']<(q3['revol_util_log']+1.5*iqr['revol_util_log'])]\n",
    "loan_k = loan_k[loan_k['revol_util_log']>(q1['revol_util_log']-1.5*iqr['revol_util_log'])]\n",
    "loan_k.shape"
   ]
  },
  {
   "cell_type": "code",
   "execution_count": 110,
   "id": "3c3bd272",
   "metadata": {},
   "outputs": [
    {
     "data": {
      "text/plain": [
       "(179226, 87)"
      ]
     },
     "execution_count": 110,
     "metadata": {},
     "output_type": "execute_result"
    }
   ],
   "source": [
    "loan_k = loan_k[loan_k['fico_average_log']<(q3['fico_average_log']+1.5*iqr['fico_average_log'])]\n",
    "loan_k = loan_k[loan_k['fico_average_log']>(q1['fico_average_log']-1.5*iqr['fico_average_log'])]\n",
    "loan_k.shape"
   ]
  },
  {
   "cell_type": "code",
   "execution_count": 111,
   "id": "39a5a765",
   "metadata": {},
   "outputs": [
    {
     "name": "stdout",
     "output_type": "stream",
     "text": [
      "0\n"
     ]
    }
   ],
   "source": [
    "num_nans = loan_k.isna().sum().sum()\n",
    "\n",
    "print(num_nans)"
   ]
  },
  {
   "cell_type": "markdown",
   "id": "54ef9b94",
   "metadata": {},
   "source": [
    "# StandardScaler"
   ]
  },
  {
   "cell_type": "code",
   "execution_count": 112,
   "id": "cf8dd4e7",
   "metadata": {},
   "outputs": [],
   "source": [
    "from sklearn.preprocessing import StandardScaler"
   ]
  },
  {
   "cell_type": "code",
   "execution_count": 113,
   "id": "0b3e6980",
   "metadata": {},
   "outputs": [],
   "source": [
    "X = loan_k.drop('depvar', axis=1)\n",
    "y = loan_k['depvar']"
   ]
  },
  {
   "cell_type": "code",
   "execution_count": 114,
   "id": "e4139631",
   "metadata": {},
   "outputs": [],
   "source": [
    "# 컬럼 순서 맞추기\n",
    "X_columns = ['home_ownership1', 'home_ownership2', 'home_ownership3',\n",
    "       'home_ownership4', 'home_ownership5', 'verification_status1',\n",
    "       'verification_status2', 'addr_state1', 'addr_state2', 'addr_state3',\n",
    "       'addr_state4', 'addr_state5', 'addr_state6', 'addr_state7',\n",
    "       'addr_state8', 'addr_state9', 'addr_state10', 'addr_state11',\n",
    "       'addr_state12', 'addr_state13', 'addr_state14', 'addr_state15',\n",
    "       'addr_state16', 'addr_state17', 'addr_state18', 'addr_state19',\n",
    "       'addr_state20', 'addr_state21', 'addr_state22', 'addr_state23',\n",
    "       'addr_state24', 'addr_state25', 'addr_state26', 'addr_state27',\n",
    "       'addr_state28', 'addr_state29', 'addr_state30', 'addr_state31',\n",
    "       'addr_state32', 'addr_state33', 'addr_state34', 'addr_state35',\n",
    "       'addr_state36', 'addr_state37', 'addr_state38', 'addr_state39',\n",
    "       'addr_state40', 'addr_state41', 'addr_state42', 'addr_state43',\n",
    "       'addr_state44', 'addr_state45', 'addr_state46', 'addr_state47',\n",
    "       'addr_state48', 'addr_state49', 'addr_state50', 'emp_length1',\n",
    "       'emp_length2', 'emp_length3', 'emp_length4', 'emp_length5',\n",
    "       'emp_length6', 'emp_length7', 'emp_length8', 'emp_length9',\n",
    "       'emp_length10', 'emp_length11', 'inq_last_6mths', 'open_acc', 'pub_rec',\n",
    "       'pub_rec_bankruptcies', 'tax_liens', 'loan_amnt_log', 'annual_inc_log',\n",
    "       'dti_log', 'delinq_2yrs_log', 'fico_average_log', 'revol_bal_log',\n",
    "       'revol_util_log', 'total_acc_log', 'collections_12_mths_ex_med_log',\n",
    "       'tot_coll_amt_log', 'purpose_group1', 'purpose_group2',\n",
    "       'purpose_group4']\n",
    "X = X[X_columns]"
   ]
  },
  {
   "cell_type": "code",
   "execution_count": 131,
   "id": "40bca772",
   "metadata": {},
   "outputs": [],
   "source": [
    "scaler = StandardScaler()\n",
    "scaler.fit(X)\n",
    "X_scaled = scaler.transform(X)"
   ]
  },
  {
   "cell_type": "code",
   "execution_count": 132,
   "id": "0f2e4110",
   "metadata": {},
   "outputs": [
    {
     "name": "stdout",
     "output_type": "stream",
     "text": [
      "(179226, 86)\n"
     ]
    },
    {
     "data": {
      "text/plain": [
       "(179226,)"
      ]
     },
     "execution_count": 132,
     "metadata": {},
     "output_type": "execute_result"
    }
   ],
   "source": [
    "print(X_scaled.shape)\n",
    "y.shape"
   ]
  },
  {
   "cell_type": "code",
   "execution_count": 133,
   "id": "5772d1ff",
   "metadata": {},
   "outputs": [
    {
     "name": "stdout",
     "output_type": "stream",
     "text": [
      "0\n"
     ]
    }
   ],
   "source": [
    "num_nans = pd.DataFrame(X_scaled).isna().sum().sum()\n",
    "\n",
    "print(num_nans)"
   ]
  },
  {
   "cell_type": "markdown",
   "id": "58490ee7",
   "metadata": {},
   "source": [
    "# csv 파일 출력"
   ]
  },
  {
   "cell_type": "code",
   "execution_count": 134,
   "id": "04c1cdfe",
   "metadata": {},
   "outputs": [],
   "source": [
    "X_scaled = pd.DataFrame(X_scaled)\n",
    "final = X_scaled.reset_index(drop=True)"
   ]
  },
  {
   "cell_type": "code",
   "execution_count": 138,
   "id": "824e5ccd",
   "metadata": {},
   "outputs": [],
   "source": [
    "y = pd.DataFrame(y)\n",
    "y = y.reset_index(drop=True)"
   ]
  },
  {
   "cell_type": "code",
   "execution_count": 139,
   "id": "44e94f77",
   "metadata": {},
   "outputs": [],
   "source": [
    "\n",
    "final['target'] = y\n",
    "\n"
   ]
  },
  {
   "cell_type": "code",
   "execution_count": 140,
   "id": "cdb67af4",
   "metadata": {},
   "outputs": [
    {
     "data": {
      "text/plain": [
       "(179226, 87)"
      ]
     },
     "execution_count": 140,
     "metadata": {},
     "output_type": "execute_result"
    }
   ],
   "source": [
    "final.shape"
   ]
  },
  {
   "cell_type": "code",
   "execution_count": 141,
   "id": "e5e5b5b2",
   "metadata": {},
   "outputs": [
    {
     "name": "stdout",
     "output_type": "stream",
     "text": [
      "0\n"
     ]
    }
   ],
   "source": [
    "num_nans = final.isna().sum().sum()\n",
    "\n",
    "print(num_nans)"
   ]
  },
  {
   "cell_type": "code",
   "execution_count": 143,
   "id": "55549cf7",
   "metadata": {},
   "outputs": [],
   "source": [
    "final.to_csv('preprocessed_test.csv', index=False)"
   ]
  },
  {
   "cell_type": "code",
   "execution_count": 142,
   "id": "a344c315",
   "metadata": {},
   "outputs": [
    {
     "name": "stdout",
     "output_type": "stream",
     "text": [
      "<class 'pandas.core.frame.DataFrame'>\n",
      "RangeIndex: 179226 entries, 0 to 179225\n",
      "Data columns (total 87 columns):\n",
      " #   Column  Non-Null Count   Dtype  \n",
      "---  ------  --------------   -----  \n",
      " 0   0       179226 non-null  float64\n",
      " 1   1       179226 non-null  float64\n",
      " 2   2       179226 non-null  float64\n",
      " 3   3       179226 non-null  float64\n",
      " 4   4       179226 non-null  float64\n",
      " 5   5       179226 non-null  float64\n",
      " 6   6       179226 non-null  float64\n",
      " 7   7       179226 non-null  float64\n",
      " 8   8       179226 non-null  float64\n",
      " 9   9       179226 non-null  float64\n",
      " 10  10      179226 non-null  float64\n",
      " 11  11      179226 non-null  float64\n",
      " 12  12      179226 non-null  float64\n",
      " 13  13      179226 non-null  float64\n",
      " 14  14      179226 non-null  float64\n",
      " 15  15      179226 non-null  float64\n",
      " 16  16      179226 non-null  float64\n",
      " 17  17      179226 non-null  float64\n",
      " 18  18      179226 non-null  float64\n",
      " 19  19      179226 non-null  float64\n",
      " 20  20      179226 non-null  float64\n",
      " 21  21      179226 non-null  float64\n",
      " 22  22      179226 non-null  float64\n",
      " 23  23      179226 non-null  float64\n",
      " 24  24      179226 non-null  float64\n",
      " 25  25      179226 non-null  float64\n",
      " 26  26      179226 non-null  float64\n",
      " 27  27      179226 non-null  float64\n",
      " 28  28      179226 non-null  float64\n",
      " 29  29      179226 non-null  float64\n",
      " 30  30      179226 non-null  float64\n",
      " 31  31      179226 non-null  float64\n",
      " 32  32      179226 non-null  float64\n",
      " 33  33      179226 non-null  float64\n",
      " 34  34      179226 non-null  float64\n",
      " 35  35      179226 non-null  float64\n",
      " 36  36      179226 non-null  float64\n",
      " 37  37      179226 non-null  float64\n",
      " 38  38      179226 non-null  float64\n",
      " 39  39      179226 non-null  float64\n",
      " 40  40      179226 non-null  float64\n",
      " 41  41      179226 non-null  float64\n",
      " 42  42      179226 non-null  float64\n",
      " 43  43      179226 non-null  float64\n",
      " 44  44      179226 non-null  float64\n",
      " 45  45      179226 non-null  float64\n",
      " 46  46      179226 non-null  float64\n",
      " 47  47      179226 non-null  float64\n",
      " 48  48      179226 non-null  float64\n",
      " 49  49      179226 non-null  float64\n",
      " 50  50      179226 non-null  float64\n",
      " 51  51      179226 non-null  float64\n",
      " 52  52      179226 non-null  float64\n",
      " 53  53      179226 non-null  float64\n",
      " 54  54      179226 non-null  float64\n",
      " 55  55      179226 non-null  float64\n",
      " 56  56      179226 non-null  float64\n",
      " 57  57      179226 non-null  float64\n",
      " 58  58      179226 non-null  float64\n",
      " 59  59      179226 non-null  float64\n",
      " 60  60      179226 non-null  float64\n",
      " 61  61      179226 non-null  float64\n",
      " 62  62      179226 non-null  float64\n",
      " 63  63      179226 non-null  float64\n",
      " 64  64      179226 non-null  float64\n",
      " 65  65      179226 non-null  float64\n",
      " 66  66      179226 non-null  float64\n",
      " 67  67      179226 non-null  float64\n",
      " 68  68      179226 non-null  float64\n",
      " 69  69      179226 non-null  float64\n",
      " 70  70      179226 non-null  float64\n",
      " 71  71      179226 non-null  float64\n",
      " 72  72      179226 non-null  float64\n",
      " 73  73      179226 non-null  float64\n",
      " 74  74      179226 non-null  float64\n",
      " 75  75      179226 non-null  float64\n",
      " 76  76      179226 non-null  float64\n",
      " 77  77      179226 non-null  float64\n",
      " 78  78      179226 non-null  float64\n",
      " 79  79      179226 non-null  float64\n",
      " 80  80      179226 non-null  float64\n",
      " 81  81      179226 non-null  float64\n",
      " 82  82      179226 non-null  float64\n",
      " 83  83      179226 non-null  float64\n",
      " 84  84      179226 non-null  float64\n",
      " 85  85      179226 non-null  float64\n",
      " 86  target  179226 non-null  float32\n",
      "dtypes: float32(1), float64(86)\n",
      "memory usage: 118.3 MB\n"
     ]
    }
   ],
   "source": [
    "final.info()"
   ]
  },
  {
   "cell_type": "code",
   "execution_count": 68,
   "id": "1d889442",
   "metadata": {},
   "outputs": [
    {
     "name": "stdout",
     "output_type": "stream",
     "text": [
      "32287\n"
     ]
    }
   ],
   "source": [
    "num_nans = final.isna().sum().sum()\n",
    "\n",
    "print(num_nans)"
   ]
  },
  {
   "cell_type": "code",
   "execution_count": null,
   "id": "63d8dc61",
   "metadata": {},
   "outputs": [],
   "source": []
  }
 ],
 "metadata": {
  "hide_input": false,
  "kernelspec": {
   "display_name": "Python 3 (ipykernel)",
   "language": "python",
   "name": "python3"
  },
  "language_info": {
   "codemirror_mode": {
    "name": "ipython",
    "version": 3
   },
   "file_extension": ".py",
   "mimetype": "text/x-python",
   "name": "python",
   "nbconvert_exporter": "python",
   "pygments_lexer": "ipython3",
   "version": "3.11.3"
  },
  "toc": {
   "base_numbering": 1,
   "nav_menu": {},
   "number_sections": true,
   "sideBar": true,
   "skip_h1_title": false,
   "title_cell": "Table of Contents",
   "title_sidebar": "Contents",
   "toc_cell": false,
   "toc_position": {},
   "toc_section_display": true,
   "toc_window_display": false
  }
 },
 "nbformat": 4,
 "nbformat_minor": 5
}
